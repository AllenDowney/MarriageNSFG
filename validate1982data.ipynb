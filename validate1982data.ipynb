{
 "metadata": {
  "name": "",
  "signature": "sha256:249a04908cefa6106db3e719e363c4904c62a4d8dd88464bbf8fc38e5061985a"
 },
 "nbformat": 3,
 "nbformat_minor": 0,
 "worksheets": [
  {
   "cells": [
    {
     "cell_type": "code",
     "collapsed": false,
     "input": [
      "from __future__ import print_function, division\n",
      "\n",
      "import survival\n",
      "import thinkstats2\n",
      "import thinkplot\n",
      "\n",
      "import gzip\n",
      "import pandas\n",
      "\n",
      "%matplotlib inline"
     ],
     "language": "python",
     "metadata": {},
     "outputs": [],
     "prompt_number": 40
    },
    {
     "cell_type": "code",
     "collapsed": false,
     "input": [
      "filename = '1982NSFGData.dat.gz'\n",
      "fp = gzip.open(filename, 'rb')"
     ],
     "language": "python",
     "metadata": {},
     "outputs": [],
     "prompt_number": 41
    },
    {
     "cell_type": "code",
     "collapsed": false,
     "input": [
      "s = '0123456789'\n",
      "print(s*8)\n",
      "\n",
      "for i, line in enumerate(fp):\n",
      "    print(line)\n",
      "    if i > 0:\n",
      "        break"
     ],
     "language": "python",
     "metadata": {},
     "outputs": [
      {
       "output_type": "stream",
       "stream": "stdout",
       "text": [
        "01234567890123456789012345678901234567890123456789012345678901234567890123456789\n",
        "1011010046606902421111 1      1      1      1        4    1191         0021                               000000000                                                           1111111111111129898192 9696                    1200109335 0939012094051                                122       012  1012    2 390520    999133342         0111222222222212220120012001200120012001200120012001201                                                    2 2     103032    2330303      122               21122222222201      15  2  11111201      1503     9898229              2 211     07876150951610985                                                                                                                          101  027351112                                      12103  3 13                                        22122122217207052   303      13099702071233NY20060911699175681105009256    005945196904642                                                 00                         0059452  050023011  000042531162211610261111071519        001    6         1101201212222222222122211208 08                       22 12222212122002111112    2  1        073    42 115  00000000001  6    000000     00                     030030000000000000000    0000000000       073    12                              9924     0000010000000000000000000000000000000000000000000000000000000000000000000000000000000000000000000000000000000000000000000000000000                                                               0000400\r\n",
        "\n",
        "1011010087506731731121 1      1      1      1        4    1321         01                                 0100000012                                                          1111111111111129898172 9696                    12012096351                                             142       002  1012    2 160332    0362    10607099660091111222222212220000300030000120012001200120012001201                                                    2 2     101011    1290202      122               222222222222                                     19898182              11211     14354084491510954     01       09441925                  999999                                                                141  0610967 01  383351091101024523                             12806  3 13              070327  142              12222222221520455112 0        13099702071233NY70013778104114011103003265    001614669459374 010001010000100111111000000000101000009620030962019696                     0016147  0310230111 0000827311522115139011111408170409447801109445         1100200211112222222122211208 08                       18 22        0000             2      01061225842 135  01010100002 16    000000     01           018096203501002001000101000010011111100000000018    061220114024   225899999999            9883     0000000000000000000000000000000000000000000000000000000000000000000000000000000000000000000000000000000100000000000000000000000000          009995233324081096230953                             0000800\r\n",
        "\n"
       ]
      }
     ],
     "prompt_number": 42
    },
    {
     "cell_type": "code",
     "collapsed": false,
     "input": [
      "filename = '1982NSFGData.dat.gz'\n",
      "names = ['finalwgt', 'ageint', 'mar2p', 'cmmarrhx', 'cmintvw', 'cmbirth']\n",
      "colspecs = [(976-1, 982),\n",
      "            (1001-1, 1002),\n",
      "            (1268-1, 1271),\n",
      "            (1037-1, 1040),\n",
      "            (841-1, 844),\n",
      "            (12-1, 15),\n",
      "            ]\n",
      "df = pandas.read_fwf(filename,\n",
      "                     colspecs=colspecs, \n",
      "                     names=names,\n",
      "                     header=None,\n",
      "                     nrows=7969,\n",
      "                     compression='gzip')\n",
      "\n",
      "len(df) # should be 7969"
     ],
     "language": "python",
     "metadata": {},
     "outputs": [
      {
       "metadata": {},
       "output_type": "pyout",
       "prompt_number": 43,
       "text": [
        "7969"
       ]
      }
     ],
     "prompt_number": 43
    },
    {
     "cell_type": "code",
     "collapsed": false,
     "input": [
      "df.ageint.value_counts().sort_index()"
     ],
     "language": "python",
     "metadata": {},
     "outputs": [
      {
       "metadata": {},
       "output_type": "pyout",
       "prompt_number": 44,
       "text": [
        "15    269\n",
        "16    300\n",
        "17    370\n",
        "18    480\n",
        "19    469\n",
        "20    342\n",
        "21    282\n",
        "22    280\n",
        "23    303\n",
        "24    283\n",
        "25    278\n",
        "26    319\n",
        "27    289\n",
        "28    315\n",
        "29    300\n",
        "30    293\n",
        "31    289\n",
        "32    246\n",
        "33    257\n",
        "34    263\n",
        "35    236\n",
        "36    202\n",
        "37    163\n",
        "38    166\n",
        "39    181\n",
        "40    181\n",
        "41    145\n",
        "42    161\n",
        "43    147\n",
        "44    160\n",
        "dtype: int64"
       ]
      }
     ],
     "prompt_number": 44
    },
    {
     "cell_type": "code",
     "collapsed": false,
     "input": [
      "df[df.cmbirth>9000].shape   #should be 21 unknown month of birth"
     ],
     "language": "python",
     "metadata": {},
     "outputs": [
      {
       "metadata": {},
       "output_type": "pyout",
       "prompt_number": 45,
       "text": [
        "(21, 6)"
       ]
      }
     ],
     "prompt_number": 45
    },
    {
     "cell_type": "code",
     "collapsed": false,
     "input": [
      "df.loc[df.cmbirth>9000, 'cmbirth'] -= 9000"
     ],
     "language": "python",
     "metadata": {},
     "outputs": [],
     "prompt_number": 46
    },
    {
     "cell_type": "code",
     "collapsed": false,
     "input": [
      "survival.CleanData(df)"
     ],
     "language": "python",
     "metadata": {},
     "outputs": [],
     "prompt_number": 47
    },
    {
     "cell_type": "code",
     "collapsed": false,
     "input": [
      "df[df.mar2p.isnull()].shape"
     ],
     "language": "python",
     "metadata": {},
     "outputs": [
      {
       "metadata": {},
       "output_type": "pyout",
       "prompt_number": 48,
       "text": [
        "(3148, 10)"
       ]
      }
     ],
     "prompt_number": 48
    },
    {
     "cell_type": "code",
     "collapsed": false,
     "input": [
      "df[df.cmmarrhx.isnull()].shape"
     ],
     "language": "python",
     "metadata": {},
     "outputs": [
      {
       "metadata": {},
       "output_type": "pyout",
       "prompt_number": 49,
       "text": [
        "(3318, 10)"
       ]
      }
     ],
     "prompt_number": 49
    },
    {
     "cell_type": "code",
     "collapsed": false,
     "input": [
      "df['evrmarry'] = ~df.cmmarrhx.isnull()"
     ],
     "language": "python",
     "metadata": {},
     "outputs": [],
     "prompt_number": 50
    },
    {
     "cell_type": "code",
     "collapsed": false,
     "input": [
      "df.loc[df.evrmarry & df.cmmarrhx.isnull()].shape"
     ],
     "language": "python",
     "metadata": {},
     "outputs": [
      {
       "metadata": {},
       "output_type": "pyout",
       "prompt_number": 51,
       "text": [
        "(0, 11)"
       ]
      }
     ],
     "prompt_number": 51
    },
    {
     "cell_type": "code",
     "collapsed": false,
     "input": [
      "df.ageint.value_counts().sort_index()"
     ],
     "language": "python",
     "metadata": {},
     "outputs": [
      {
       "metadata": {},
       "output_type": "pyout",
       "prompt_number": 52,
       "text": [
        "15    269\n",
        "16    300\n",
        "17    370\n",
        "18    480\n",
        "19    469\n",
        "20    342\n",
        "21    282\n",
        "22    280\n",
        "23    303\n",
        "24    283\n",
        "25    278\n",
        "26    319\n",
        "27    289\n",
        "28    315\n",
        "29    300\n",
        "30    293\n",
        "31    289\n",
        "32    246\n",
        "33    257\n",
        "34    263\n",
        "35    236\n",
        "36    202\n",
        "37    163\n",
        "38    166\n",
        "39    181\n",
        "40    181\n",
        "41    145\n",
        "42    161\n",
        "43    147\n",
        "44    160\n",
        "dtype: int64"
       ]
      }
     ],
     "prompt_number": 52
    },
    {
     "cell_type": "code",
     "collapsed": false,
     "input": [
      "cdf = thinkstats2.Cdf(df.agemarry)\n",
      "thinkplot.Cdf(cdf)\n",
      "len(df.agemarry.dropna())"
     ],
     "language": "python",
     "metadata": {},
     "outputs": [
      {
       "metadata": {},
       "output_type": "pyout",
       "prompt_number": 53,
       "text": [
        "4651"
       ]
      },
      {
       "metadata": {},
       "output_type": "display_data",
       "png": "[encoded data removed]",
       "text": [
        "<matplotlib.figure.Figure at 0x7f180e16f450>"
       ]
      }
     ],
     "prompt_number": 53
    },
    {
     "cell_type": "code",
     "collapsed": false,
     "input": [],
     "language": "python",
     "metadata": {},
     "outputs": [],
     "prompt_number": 9
    },
    {
     "cell_type": "code",
     "collapsed": false,
     "input": [],
     "language": "python",
     "metadata": {},
     "outputs": []
    }
   ],
   "metadata": {}
  }
 ]
}