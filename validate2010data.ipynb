{
 "metadata": {
  "name": "",
  "signature": "sha256:4f1818a969f1fa823fda3b72dca5a4202f5b1e99e29ee56907b940703338d555"
 },
 "nbformat": 3,
 "nbformat_minor": 0,
 "worksheets": [
  {
   "cells": [
    {
     "cell_type": "code",
     "collapsed": false,
     "input": [
      "from __future__ import print_function, division\n",
      "\n",
      "import survival\n",
      "import thinkstats2\n",
      "import thinkplot\n",
      "\n",
      "import gzip\n",
      "import pandas\n",
      "import numpy as np\n",
      "\n",
      "%matplotlib inline"
     ],
     "language": "python",
     "metadata": {},
     "outputs": [],
     "prompt_number": 4
    },
    {
     "cell_type": "code",
     "collapsed": false,
     "input": [
      "def CleanData(resp):\n",
      "    \"\"\"Cleans a respondent DataFrame.\n",
      "\n",
      "    resp: DataFrame of respondents\n",
      "\n",
      "    Adds columns: agemarry, age, decade, fives\n",
      "    \"\"\"\n",
      "    resp.cmmarrhx.replace([9997, 9998, 9999], np.nan, inplace=True)\n",
      "\n",
      "    resp['agemarry'] = (resp.cmmarrhx - resp.cmbirth) / 12.0\n",
      "    resp['age'] = (resp.cmintvw - resp.cmbirth) / 12.0\n",
      "\n",
      "    month0 = pandas.to_datetime('1899-12-15')\n",
      "    dates = [month0 + pandas.DateOffset(months=cm) \n",
      "             for cm in resp.cmbirth]\n",
      "    resp['decade'] = (pandas.DatetimeIndex(dates).year - 1900) // 10\n",
      "    resp['fives'] = (pandas.DatetimeIndex(dates).year - 1900) // 5\n"
     ],
     "language": "python",
     "metadata": {},
     "outputs": [],
     "prompt_number": 5
    },
    {
     "cell_type": "code",
     "collapsed": false,
     "input": [
      "def ReadFemResp(dct_file='2002FemResp.dct',\n",
      "                dat_file='2002FemResp.dat.gz',\n",
      "                **options):\n",
      "    \"\"\"Reads the NSFG respondent data.\n",
      "\n",
      "    dct_file: string file name\n",
      "    dat_file: string file name\n",
      "\n",
      "    returns: DataFrame\n",
      "    \"\"\"\n",
      "    dct = thinkstats2.ReadStataDct(dct_file, encoding='iso-8859-1')\n",
      "    df = dct.ReadFixedWidth(dat_file, compression='gzip', **options)\n",
      "    CleanData(df)\n",
      "    return df\n",
      "\n",
      "\n",
      "def ReadFemResp2010():\n",
      "    \"\"\"Reads respondent data from NSFG Cycle 7.\n",
      "\n",
      "    returns: DataFrame\n",
      "    \"\"\"\n",
      "    usecols = ['cmmarrhx', 'cmdivorcx', 'cmbirth', 'cmintvw',\n",
      "               'evrmarry', 'wgtq1q16']\n",
      "    resp = ReadFemResp('2006_2010_FemRespSetup.dct',\n",
      "                        '2006_2010_FemResp.dat.gz',\n",
      "                        usecols=usecols)\n",
      "    resp['finalwgt'] = resp.wgtq1q16\n",
      "    CleanData(resp)\n",
      "    return resp"
     ],
     "language": "python",
     "metadata": {},
     "outputs": [],
     "prompt_number": 6
    },
    {
     "cell_type": "code",
     "collapsed": false,
     "input": [
      "df = ReadFemResp2010()\n",
      "len(df)"
     ],
     "language": "python",
     "metadata": {},
     "outputs": [
      {
       "metadata": {},
       "output_type": "pyout",
       "prompt_number": 11,
       "text": [
        "12279"
       ]
      }
     ],
     "prompt_number": 11
    },
    {
     "cell_type": "code",
     "collapsed": false,
     "input": [
      "df.evrmarry.value_counts()"
     ],
     "language": "python",
     "metadata": {},
     "outputs": [
      {
       "metadata": {},
       "output_type": "pyout",
       "prompt_number": 12,
       "text": [
        "0    6745\n",
        "1    5534\n",
        "dtype: int64"
       ]
      }
     ],
     "prompt_number": 12
    },
    {
     "cell_type": "code",
     "collapsed": false,
     "input": [
      "len(df[(df.cmbirth >= 522) & (df.cmbirth <= 1278)])"
     ],
     "language": "python",
     "metadata": {},
     "outputs": [
      {
       "metadata": {},
       "output_type": "pyout",
       "prompt_number": 14,
       "text": [
        "12279"
       ]
      }
     ],
     "prompt_number": 14
    },
    {
     "cell_type": "code",
     "collapsed": false,
     "input": [
      "len(df[(df.cmmarrhx >= 522) & (df.cmmarrhx <= 1278)])"
     ],
     "language": "python",
     "metadata": {},
     "outputs": [
      {
       "metadata": {},
       "output_type": "pyout",
       "prompt_number": 15,
       "text": [
        "4988"
       ]
      }
     ],
     "prompt_number": 15
    },
    {
     "cell_type": "code",
     "collapsed": false,
     "input": [
      "len(df[(df.cmmarrhx.isnull())])"
     ],
     "language": "python",
     "metadata": {},
     "outputs": [
      {
       "metadata": {},
       "output_type": "pyout",
       "prompt_number": 16,
       "text": [
        "6759"
       ]
      }
     ],
     "prompt_number": 16
    },
    {
     "cell_type": "code",
     "collapsed": false,
     "input": [
      "df.cmintvw.value_counts().sort_index()"
     ],
     "language": "python",
     "metadata": {},
     "outputs": [
      {
       "metadata": {},
       "output_type": "pyout",
       "prompt_number": 17,
       "text": [
        "1278     52\n",
        "1279    332\n",
        "1280    266\n",
        "1281    194\n",
        "1282    367\n",
        "1283    356\n",
        "1284     74\n",
        "1285    289\n",
        "1286    283\n",
        "1287    199\n",
        "1288    280\n",
        "1289    317\n",
        "1290     97\n",
        "1291    244\n",
        "1292    311\n",
        "1293    198\n",
        "1294    289\n",
        "1295    243\n",
        "1296     60\n",
        "1297    243\n",
        "1298    249\n",
        "1299    195\n",
        "1300    275\n",
        "1301    303\n",
        "1302    151\n",
        "1303    328\n",
        "1304    257\n",
        "1305    197\n",
        "1306    285\n",
        "1307    296\n",
        "1308    126\n",
        "1309    270\n",
        "1310    307\n",
        "1311    269\n",
        "1312    302\n",
        "1313    342\n",
        "1314    163\n",
        "1315    239\n",
        "1316    290\n",
        "1317    255\n",
        "1318    306\n",
        "1319    345\n",
        "1320    145\n",
        "1321    329\n",
        "1322    266\n",
        "1323    255\n",
        "1324    339\n",
        "1325    356\n",
        "1326    145\n",
        "dtype: int64"
       ]
      }
     ],
     "prompt_number": 17
    },
    {
     "cell_type": "code",
     "collapsed": false,
     "input": [
      "df.finalwgt.value_counts().sort_index()"
     ],
     "language": "python",
     "metadata": {},
     "outputs": [
      {
       "metadata": {},
       "output_type": "pyout",
       "prompt_number": 18,
       "text": [
        "41.084436    1\n",
        "44.023984    1\n",
        "49.264753    1\n",
        "50.253080    1\n",
        "51.762820    1\n",
        "54.007121    1\n",
        "54.326404    1\n",
        "54.787230    1\n",
        "55.641206    1\n",
        "57.502150    1\n",
        "58.094969    1\n",
        "58.097193    1\n",
        "58.918388    1\n",
        "59.728322    1\n",
        "63.288633    1\n",
        "...\n",
        "27069.679720     1\n",
        "27141.949282     6\n",
        "27141.949282    47\n",
        "27141.949282     2\n",
        "27142.397101    44\n",
        "27324.994998     1\n",
        "27745.599707     1\n",
        "27928.880798     1\n",
        "28202.105357     1\n",
        "28213.094904     1\n",
        "28420.871454     1\n",
        "29007.582235     1\n",
        "29455.053780     1\n",
        "30226.354508    38\n",
        "30226.354508    17\n",
        "Length: 11749, dtype: int64"
       ]
      }
     ],
     "prompt_number": 18
    },
    {
     "cell_type": "code",
     "collapsed": false,
     "input": [],
     "language": "python",
     "metadata": {},
     "outputs": []
    }
   ],
   "metadata": {}
  }
 ]
}