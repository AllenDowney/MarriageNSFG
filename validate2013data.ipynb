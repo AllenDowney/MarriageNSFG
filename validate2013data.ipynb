{
 "cells": [
  {
   "cell_type": "code",
   "execution_count": 1,
   "metadata": {
    "collapsed": false
   },
   "outputs": [],
   "source": [
    "from __future__ import print_function, division\n",
    "\n",
    "import nsfg3"
   ]
  },
  {
   "cell_type": "code",
   "execution_count": 2,
   "metadata": {
    "collapsed": false
   },
   "outputs": [
    {
     "data": {
      "text/plain": [
       "5601"
      ]
     },
     "execution_count": 2,
     "metadata": {},
     "output_type": "execute_result"
    }
   ],
   "source": [
    "df = nsfg3.ReadFemResp2013()\n",
    "len(df)"
   ]
  },
  {
   "cell_type": "code",
   "execution_count": 3,
   "metadata": {
    "collapsed": false
   },
   "outputs": [
    {
     "data": {
      "text/plain": [
       "0    3149\n",
       "1    2452\n",
       "Name: evrmarry, dtype: int64"
      ]
     },
     "execution_count": 3,
     "metadata": {},
     "output_type": "execute_result"
    }
   ],
   "source": [
    "df.evrmarry.value_counts()"
   ]
  },
  {
   "cell_type": "code",
   "execution_count": 4,
   "metadata": {
    "collapsed": false
   },
   "outputs": [
    {
     "data": {
      "text/plain": [
       "5601"
      ]
     },
     "execution_count": 4,
     "metadata": {},
     "output_type": "execute_result"
    }
   ],
   "source": [
    "len(df[(df.cmbirth >= 380) & (df.cmbirth <= 1340)])"
   ]
  },
  {
   "cell_type": "code",
   "execution_count": 5,
   "metadata": {
    "collapsed": false
   },
   "outputs": [
    {
     "data": {
      "text/plain": [
       "2322"
      ]
     },
     "execution_count": 5,
     "metadata": {},
     "output_type": "execute_result"
    }
   ],
   "source": [
    "len(df[(df.cmmarrhx >= 380) & (df.cmmarrhx <= 1340)])"
   ]
  },
  {
   "cell_type": "code",
   "execution_count": 6,
   "metadata": {
    "collapsed": false
   },
   "outputs": [
    {
     "data": {
      "text/plain": [
       "3166"
      ]
     },
     "execution_count": 6,
     "metadata": {},
     "output_type": "execute_result"
    }
   ],
   "source": [
    "len(df[(df.cmmarrhx.isnull())])"
   ]
  },
  {
   "cell_type": "code",
   "execution_count": 7,
   "metadata": {
    "collapsed": false
   },
   "outputs": [
    {
     "data": {
      "text/plain": [
       "1341     14\n",
       "1342    264\n",
       "1343    340\n",
       "1344    135\n",
       "1345    243\n",
       "1346    258\n",
       "1347    208\n",
       "1348    269\n",
       "1349    274\n",
       "1350    196\n",
       "1351    271\n",
       "1352    260\n",
       "1353    119\n",
       "1354    298\n",
       "1355    316\n",
       "1356     81\n",
       "1357    256\n",
       "1358    310\n",
       "1359    210\n",
       "1360    295\n",
       "1361    269\n",
       "1362    188\n",
       "1363    260\n",
       "1364    248\n",
       "1365     19\n",
       "Name: cmintvw, dtype: int64"
      ]
     },
     "execution_count": 7,
     "metadata": {},
     "output_type": "execute_result"
    }
   ],
   "source": [
    "df.cmintvw.value_counts().sort_index()"
   ]
  },
  {
   "cell_type": "code",
   "execution_count": 8,
   "metadata": {
    "collapsed": false
   },
   "outputs": [
    {
     "data": {
      "text/plain": [
       "1714.541000     73\n",
       "1725.042901      1\n",
       "1744.079636      1\n",
       "1773.660508      1\n",
       "1782.775283      1\n",
       "1786.909427      1\n",
       "1799.504176      1\n",
       "1818.364164      1\n",
       "1821.723145      1\n",
       "1834.350206      1\n",
       "1841.945923      2\n",
       "1846.067783      1\n",
       "1846.925273      1\n",
       "1847.627518      1\n",
       "1855.796684      1\n",
       "1875.551475      1\n",
       "1892.975113      1\n",
       "1902.769234      1\n",
       "1906.921577      1\n",
       "1911.894339      1\n",
       "1922.565473      1\n",
       "1923.002307      2\n",
       "1935.035163      1\n",
       "1936.254912      1\n",
       "1942.842095      1\n",
       "1946.637131      1\n",
       "1947.545965      1\n",
       "1950.950717      1\n",
       "1953.289502      1\n",
       "1955.354795      1\n",
       "                ..\n",
       "65434.935047     1\n",
       "65877.913963     1\n",
       "66813.412480     1\n",
       "68052.286246     1\n",
       "68893.622077     1\n",
       "69009.644567     1\n",
       "69105.740233     1\n",
       "69684.106393     1\n",
       "71590.302740     1\n",
       "72212.151851     1\n",
       "73610.028928     1\n",
       "75165.281096     1\n",
       "75442.078112     1\n",
       "75935.888610     1\n",
       "75994.283195     1\n",
       "77171.057698     1\n",
       "79619.733302     1\n",
       "79685.603734     1\n",
       "81142.554523     1\n",
       "83023.719717     1\n",
       "83152.787752     1\n",
       "83990.336806     1\n",
       "84143.242142     1\n",
       "84212.991861     1\n",
       "84543.255294     1\n",
       "84639.511120     1\n",
       "84726.199969     1\n",
       "84962.381747     1\n",
       "85202.502398     1\n",
       "85207.950000    50\n",
       "Name: finalwgt, dtype: int64"
      ]
     },
     "execution_count": 8,
     "metadata": {},
     "output_type": "execute_result"
    }
   ],
   "source": [
    "df.finalwgt.value_counts().sort_index()"
   ]
  },
  {
   "cell_type": "code",
   "execution_count": null,
   "metadata": {
    "collapsed": false
   },
   "outputs": [],
   "source": []
  },
  {
   "cell_type": "code",
   "execution_count": null,
   "metadata": {
    "collapsed": true
   },
   "outputs": [],
   "source": []
  }
 ],
 "metadata": {
  "kernelspec": {
   "display_name": "Python 3",
   "language": "python",
   "name": "python3"
  },
  "language_info": {
   "codemirror_mode": {
    "name": "ipython",
    "version": 3
   },
   "file_extension": ".py",
   "mimetype": "text/x-python",
   "name": "python",
   "nbconvert_exporter": "python",
   "pygments_lexer": "ipython3",
   "version": "3.5.1"
  }
 },
 "nbformat": 4,
 "nbformat_minor": 0
}
