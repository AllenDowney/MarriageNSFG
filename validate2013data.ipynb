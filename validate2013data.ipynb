{
 "metadata": {
  "name": "",
  "signature": "sha256:b582d8a4fe17faf4df3e6880d0c67c76dcbca67327a072031f5d67683d331be1"
 },
 "nbformat": 3,
 "nbformat_minor": 0,
 "worksheets": [
  {
   "cells": [
    {
     "cell_type": "code",
     "collapsed": false,
     "input": [
      "from __future__ import print_function, division\n",
      "\n",
      "import survival\n",
      "import thinkstats2\n",
      "import thinkplot\n",
      "\n",
      "import gzip\n",
      "import pandas\n",
      "import numpy as np\n",
      "\n",
      "%matplotlib inline"
     ],
     "language": "python",
     "metadata": {},
     "outputs": [],
     "prompt_number": 1
    },
    {
     "cell_type": "code",
     "collapsed": false,
     "input": [
      "def CleanData(resp):\n",
      "    \"\"\"Cleans a respondent DataFrame.\n",
      "\n",
      "    resp: DataFrame of respondents\n",
      "\n",
      "    Adds columns: agemarry, age, decade, fives\n",
      "    \"\"\"\n",
      "    resp.cmmarrhx.replace([9997, 9998, 9999], np.nan, inplace=True)\n",
      "\n",
      "    resp['agemarry'] = (resp.cmmarrhx - resp.cmbirth) / 12.0\n",
      "    resp['age'] = (resp.cmintvw - resp.cmbirth) / 12.0\n",
      "\n",
      "    month0 = pandas.to_datetime('1899-12-15')\n",
      "    dates = [month0 + pandas.DateOffset(months=cm) \n",
      "             for cm in resp.cmbirth]\n",
      "    resp['decade'] = (pandas.DatetimeIndex(dates).year - 1900) // 10\n",
      "    resp['fives'] = (pandas.DatetimeIndex(dates).year - 1900) // 5\n"
     ],
     "language": "python",
     "metadata": {},
     "outputs": [],
     "prompt_number": 2
    },
    {
     "cell_type": "code",
     "collapsed": false,
     "input": [
      "def ReadFemResp(dct_file='2002FemResp.dct',\n",
      "                dat_file='2002FemResp.dat.gz',\n",
      "                **options):\n",
      "    \"\"\"Reads the NSFG respondent data.\n",
      "\n",
      "    dct_file: string file name\n",
      "    dat_file: string file name\n",
      "\n",
      "    returns: DataFrame\n",
      "    \"\"\"\n",
      "    dct = thinkstats2.ReadStataDct(dct_file, encoding='iso-8859-1')\n",
      "    df = dct.ReadFixedWidth(dat_file, compression='gzip', **options)\n",
      "    CleanData(df)\n",
      "    return df\n",
      "\n",
      "\n",
      "def ReadFemResp2013():\n",
      "    \"\"\"Reads respondent data from NSFG Cycle 8.\n",
      "\n",
      "    returns: DataFrame\n",
      "    \"\"\"\n",
      "    usecols = ['cmmarrhx', 'cmdivorcx', 'cmbirth', 'cmintvw',\n",
      "               'evrmarry', 'wgt2011_2013']\n",
      "    resp = ReadFemResp('2011_2013_FemRespSetup.dct',\n",
      "                        '2011_2013_FemRespData.dat.gz',\n",
      "                        usecols=usecols)\n",
      "    resp['finalwgt'] = resp.wgt2011_2013\n",
      "    CleanData(resp)\n",
      "    return resp"
     ],
     "language": "python",
     "metadata": {},
     "outputs": [],
     "prompt_number": 3
    },
    {
     "cell_type": "code",
     "collapsed": false,
     "input": [
      "df = ReadFemResp2013()\n",
      "len(df)"
     ],
     "language": "python",
     "metadata": {},
     "outputs": [
      {
       "metadata": {},
       "output_type": "pyout",
       "prompt_number": 7,
       "text": [
        "5601"
       ]
      }
     ],
     "prompt_number": 7
    },
    {
     "cell_type": "code",
     "collapsed": false,
     "input": [
      "df.evrmarry.value_counts()"
     ],
     "language": "python",
     "metadata": {},
     "outputs": [
      {
       "metadata": {},
       "output_type": "pyout",
       "prompt_number": 8,
       "text": [
        "0    3149\n",
        "1    2452\n",
        "dtype: int64"
       ]
      }
     ],
     "prompt_number": 8
    },
    {
     "cell_type": "code",
     "collapsed": false,
     "input": [
      "len(df[(df.cmbirth >= 380) & (df.cmbirth <= 1340)])"
     ],
     "language": "python",
     "metadata": {},
     "outputs": [
      {
       "metadata": {},
       "output_type": "pyout",
       "prompt_number": 11,
       "text": [
        "5601"
       ]
      }
     ],
     "prompt_number": 11
    },
    {
     "cell_type": "code",
     "collapsed": false,
     "input": [
      "len(df[(df.cmmarrhx >= 380) & (df.cmmarrhx <= 1340)])"
     ],
     "language": "python",
     "metadata": {},
     "outputs": [
      {
       "metadata": {},
       "output_type": "pyout",
       "prompt_number": 13,
       "text": [
        "2322"
       ]
      }
     ],
     "prompt_number": 13
    },
    {
     "cell_type": "code",
     "collapsed": false,
     "input": [
      "len(df[(df.cmmarrhx.isnull())])"
     ],
     "language": "python",
     "metadata": {},
     "outputs": [
      {
       "metadata": {},
       "output_type": "pyout",
       "prompt_number": 14,
       "text": [
        "3166"
       ]
      }
     ],
     "prompt_number": 14
    },
    {
     "cell_type": "code",
     "collapsed": false,
     "input": [
      "df.cmintvw.value_counts().sort_index()"
     ],
     "language": "python",
     "metadata": {},
     "outputs": [
      {
       "metadata": {},
       "output_type": "pyout",
       "prompt_number": 15,
       "text": [
        "1341     14\n",
        "1342    264\n",
        "1343    340\n",
        "1344    135\n",
        "1345    243\n",
        "1346    258\n",
        "1347    208\n",
        "1348    269\n",
        "1349    274\n",
        "1350    196\n",
        "1351    271\n",
        "1352    260\n",
        "1353    119\n",
        "1354    298\n",
        "1355    316\n",
        "1356     81\n",
        "1357    256\n",
        "1358    310\n",
        "1359    210\n",
        "1360    295\n",
        "1361    269\n",
        "1362    188\n",
        "1363    260\n",
        "1364    248\n",
        "1365     19\n",
        "dtype: int64"
       ]
      }
     ],
     "prompt_number": 15
    },
    {
     "cell_type": "code",
     "collapsed": false,
     "input": [
      "df.finalwgt.value_counts().sort_index()"
     ],
     "language": "python",
     "metadata": {},
     "outputs": [
      {
       "metadata": {},
       "output_type": "pyout",
       "prompt_number": 16,
       "text": [
        "1714.541000    73\n",
        "1725.042901     1\n",
        "1744.079636     1\n",
        "1773.660508     1\n",
        "1782.775283     1\n",
        "1786.909427     1\n",
        "1799.504176     1\n",
        "1818.364164     1\n",
        "1821.723145     1\n",
        "1834.350206     1\n",
        "1841.945923     2\n",
        "1846.067783     1\n",
        "1846.925273     1\n",
        "1847.627518     1\n",
        "1855.796684     1\n",
        "...\n",
        "77171.057698     1\n",
        "79619.733302     1\n",
        "79685.603734     1\n",
        "81142.554523     1\n",
        "83023.719717     1\n",
        "83152.787752     1\n",
        "83990.336806     1\n",
        "84143.242142     1\n",
        "84212.991861     1\n",
        "84543.255294     1\n",
        "84639.511120     1\n",
        "84726.199969     1\n",
        "84962.381747     1\n",
        "85202.502398     1\n",
        "85207.950000    50\n",
        "Length: 5368, dtype: int64"
       ]
      }
     ],
     "prompt_number": 16
    },
    {
     "cell_type": "code",
     "collapsed": false,
     "input": [],
     "language": "python",
     "metadata": {},
     "outputs": []
    }
   ],
   "metadata": {}
  }
 ]
}