{
 "cells": [
  {
   "cell_type": "markdown",
   "metadata": {},
   "source": [
    "## Validate NSFG data"
   ]
  },
  {
   "cell_type": "code",
   "execution_count": 1,
   "metadata": {},
   "outputs": [],
   "source": [
    "%matplotlib inline\n",
    "\n",
    "import pandas as pd\n",
    "import numpy as np\n",
    "import seaborn as sns\n",
    "\n",
    "import math\n",
    "\n",
    "import matplotlib.pyplot as plt\n",
    "\n",
    "import thinkstats2\n",
    "import thinkplot\n",
    "from thinkstats2 import Cdf\n",
    "\n",
    "import survival\n",
    "import marriage"
   ]
  },
  {
   "cell_type": "markdown",
   "metadata": {},
   "source": [
    "Validating the 1982 data:"
   ]
  },
  {
   "cell_type": "code",
   "execution_count": 2,
   "metadata": {},
   "outputs": [
    {
     "data": {
      "text/plain": [
       "(7969, 24)"
      ]
     },
     "execution_count": 2,
     "metadata": {},
     "output_type": "execute_result"
    }
   ],
   "source": [
    "resp3 = marriage.ReadFemResp1982()\n",
    "marriage.Validate1982(resp3)\n",
    "resp3.shape"
   ]
  },
  {
   "cell_type": "code",
   "execution_count": 3,
   "metadata": {},
   "outputs": [
    {
     "data": {
      "text/html": [
       "<div>\n",
       "<style scoped>\n",
       "    .dataframe tbody tr th:only-of-type {\n",
       "        vertical-align: middle;\n",
       "    }\n",
       "\n",
       "    .dataframe tbody tr th {\n",
       "        vertical-align: top;\n",
       "    }\n",
       "\n",
       "    .dataframe thead th {\n",
       "        text-align: right;\n",
       "    }\n",
       "</style>\n",
       "<table border=\"1\" class=\"dataframe\">\n",
       "  <thead>\n",
       "    <tr style=\"text-align: right;\">\n",
       "      <th></th>\n",
       "      <th>finalwgt</th>\n",
       "      <th>ageint</th>\n",
       "      <th>mar2p</th>\n",
       "      <th>cmmarrhx</th>\n",
       "      <th>fmarital</th>\n",
       "      <th>cmintvw</th>\n",
       "      <th>cmbirth</th>\n",
       "      <th>f18m1</th>\n",
       "      <th>cmdivorcx</th>\n",
       "      <th>cmstphsbx</th>\n",
       "      <th>...</th>\n",
       "      <th>widowed</th>\n",
       "      <th>stillma</th>\n",
       "      <th>cycle</th>\n",
       "      <th>agemarry</th>\n",
       "      <th>age</th>\n",
       "      <th>missing</th>\n",
       "      <th>year</th>\n",
       "      <th>age_index</th>\n",
       "      <th>agemarry_index</th>\n",
       "      <th>birth_index</th>\n",
       "    </tr>\n",
       "  </thead>\n",
       "  <tbody>\n",
       "    <tr>\n",
       "      <th>0</th>\n",
       "      <td>59452</td>\n",
       "      <td>25</td>\n",
       "      <td>NaN</td>\n",
       "      <td>NaN</td>\n",
       "      <td>6</td>\n",
       "      <td>997</td>\n",
       "      <td>690</td>\n",
       "      <td>NaN</td>\n",
       "      <td>NaN</td>\n",
       "      <td>NaN</td>\n",
       "      <td>...</td>\n",
       "      <td>False</td>\n",
       "      <td>False</td>\n",
       "      <td>3</td>\n",
       "      <td>NaN</td>\n",
       "      <td>25.583333</td>\n",
       "      <td>False</td>\n",
       "      <td>57</td>\n",
       "      <td>25.0</td>\n",
       "      <td>NaN</td>\n",
       "      <td>50</td>\n",
       "    </tr>\n",
       "    <tr>\n",
       "      <th>1</th>\n",
       "      <td>16147</td>\n",
       "      <td>27</td>\n",
       "      <td>2258.0</td>\n",
       "      <td>944.0</td>\n",
       "      <td>5</td>\n",
       "      <td>997</td>\n",
       "      <td>673</td>\n",
       "      <td>5.0</td>\n",
       "      <td>NaN</td>\n",
       "      <td>NaN</td>\n",
       "      <td>...</td>\n",
       "      <td>False</td>\n",
       "      <td>False</td>\n",
       "      <td>3</td>\n",
       "      <td>22.583333</td>\n",
       "      <td>27.000000</td>\n",
       "      <td>False</td>\n",
       "      <td>56</td>\n",
       "      <td>27.0</td>\n",
       "      <td>22.0</td>\n",
       "      <td>50</td>\n",
       "    </tr>\n",
       "    <tr>\n",
       "      <th>2</th>\n",
       "      <td>14618</td>\n",
       "      <td>39</td>\n",
       "      <td>2450.0</td>\n",
       "      <td>819.0</td>\n",
       "      <td>1</td>\n",
       "      <td>997</td>\n",
       "      <td>525</td>\n",
       "      <td>NaN</td>\n",
       "      <td>NaN</td>\n",
       "      <td>NaN</td>\n",
       "      <td>...</td>\n",
       "      <td>False</td>\n",
       "      <td>True</td>\n",
       "      <td>3</td>\n",
       "      <td>24.500000</td>\n",
       "      <td>39.333333</td>\n",
       "      <td>False</td>\n",
       "      <td>43</td>\n",
       "      <td>39.0</td>\n",
       "      <td>24.0</td>\n",
       "      <td>40</td>\n",
       "    </tr>\n",
       "    <tr>\n",
       "      <th>3</th>\n",
       "      <td>24772</td>\n",
       "      <td>26</td>\n",
       "      <td>NaN</td>\n",
       "      <td>NaN</td>\n",
       "      <td>6</td>\n",
       "      <td>993</td>\n",
       "      <td>681</td>\n",
       "      <td>NaN</td>\n",
       "      <td>NaN</td>\n",
       "      <td>NaN</td>\n",
       "      <td>...</td>\n",
       "      <td>False</td>\n",
       "      <td>False</td>\n",
       "      <td>3</td>\n",
       "      <td>NaN</td>\n",
       "      <td>26.000000</td>\n",
       "      <td>False</td>\n",
       "      <td>56</td>\n",
       "      <td>26.0</td>\n",
       "      <td>NaN</td>\n",
       "      <td>50</td>\n",
       "    </tr>\n",
       "    <tr>\n",
       "      <th>4</th>\n",
       "      <td>66226</td>\n",
       "      <td>17</td>\n",
       "      <td>NaN</td>\n",
       "      <td>NaN</td>\n",
       "      <td>6</td>\n",
       "      <td>997</td>\n",
       "      <td>790</td>\n",
       "      <td>NaN</td>\n",
       "      <td>NaN</td>\n",
       "      <td>NaN</td>\n",
       "      <td>...</td>\n",
       "      <td>False</td>\n",
       "      <td>False</td>\n",
       "      <td>3</td>\n",
       "      <td>NaN</td>\n",
       "      <td>17.250000</td>\n",
       "      <td>False</td>\n",
       "      <td>65</td>\n",
       "      <td>17.0</td>\n",
       "      <td>NaN</td>\n",
       "      <td>60</td>\n",
       "    </tr>\n",
       "  </tbody>\n",
       "</table>\n",
       "<p>5 rows × 24 columns</p>\n",
       "</div>"
      ],
      "text/plain": [
       "   finalwgt  ageint   mar2p  cmmarrhx  fmarital  cmintvw  cmbirth  f18m1  \\\n",
       "0     59452      25     NaN       NaN         6      997      690    NaN   \n",
       "1     16147      27  2258.0     944.0         5      997      673    5.0   \n",
       "2     14618      39  2450.0     819.0         1      997      525    NaN   \n",
       "3     24772      26     NaN       NaN         6      993      681    NaN   \n",
       "4     66226      17     NaN       NaN         6      997      790    NaN   \n",
       "\n",
       "   cmdivorcx  cmstphsbx  ...  widowed  stillma  cycle   agemarry        age  \\\n",
       "0        NaN        NaN  ...    False    False      3        NaN  25.583333   \n",
       "1        NaN        NaN  ...    False    False      3  22.583333  27.000000   \n",
       "2        NaN        NaN  ...    False     True      3  24.500000  39.333333   \n",
       "3        NaN        NaN  ...    False    False      3        NaN  26.000000   \n",
       "4        NaN        NaN  ...    False    False      3        NaN  17.250000   \n",
       "\n",
       "   missing  year  age_index  agemarry_index  birth_index  \n",
       "0    False    57       25.0             NaN           50  \n",
       "1    False    56       27.0            22.0           50  \n",
       "2    False    43       39.0            24.0           40  \n",
       "3    False    56       26.0             NaN           50  \n",
       "4    False    65       17.0             NaN           60  \n",
       "\n",
       "[5 rows x 24 columns]"
      ]
     },
     "execution_count": 3,
     "metadata": {},
     "output_type": "execute_result"
    }
   ],
   "source": [
    "resp3.head()"
   ]
  },
  {
   "cell_type": "code",
   "execution_count": 4,
   "metadata": {},
   "outputs": [
    {
     "data": {
      "text/plain": [
       "3148"
      ]
     },
     "execution_count": 4,
     "metadata": {},
     "output_type": "execute_result"
    }
   ],
   "source": [
    "sum(resp3.fmarno.isnull())"
   ]
  },
  {
   "cell_type": "code",
   "execution_count": 5,
   "metadata": {},
   "outputs": [
    {
     "data": {
      "text/plain": [
       "0.0     170\n",
       "1.0    3953\n",
       "2.0     612\n",
       "3.0      77\n",
       "4.0       5\n",
       "5.0       2\n",
       "8.0       2\n",
       "Name: fmarno, dtype: int64"
      ]
     },
     "execution_count": 5,
     "metadata": {},
     "output_type": "execute_result"
    }
   ],
   "source": [
    "resp3.fmarno.value_counts().sort_index()"
   ]
  },
  {
   "cell_type": "code",
   "execution_count": 6,
   "metadata": {},
   "outputs": [
    {
     "data": {
      "text/plain": [
       "False    7850\n",
       "True      119\n",
       "Name: widowed, dtype: int64"
      ]
     },
     "execution_count": 6,
     "metadata": {},
     "output_type": "execute_result"
    }
   ],
   "source": [
    "resp3.widowed.value_counts()"
   ]
  },
  {
   "cell_type": "code",
   "execution_count": null,
   "metadata": {},
   "outputs": [],
   "source": []
  },
  {
   "cell_type": "code",
   "execution_count": 7,
   "metadata": {},
   "outputs": [
    {
     "data": {
      "text/plain": [
       "(6931, 6931)"
      ]
     },
     "execution_count": 7,
     "metadata": {},
     "output_type": "execute_result"
    }
   ],
   "source": [
    "sum(resp3.cmdivorcx.isnull()), 6841+29+5+56"
   ]
  },
  {
   "cell_type": "code",
   "execution_count": 8,
   "metadata": {},
   "outputs": [
    {
     "data": {
      "text/plain": [
       "(711, 711)"
      ]
     },
     "execution_count": 8,
     "metadata": {},
     "output_type": "execute_result"
    }
   ],
   "source": [
    "sum((resp3.cmdivorcx >= 400) & (resp3.cmdivorcx <= 948)), 583+128"
   ]
  },
  {
   "cell_type": "code",
   "execution_count": 9,
   "metadata": {
    "scrolled": true
   },
   "outputs": [
    {
     "data": {
      "text/plain": [
       "(327, 327)"
      ]
     },
     "execution_count": 9,
     "metadata": {},
     "output_type": "execute_result"
    }
   ],
   "source": [
    "sum((resp3.cmdivorcx >= 949) & (resp3.cmdivorcx <= 1000)), 311+16"
   ]
  },
  {
   "cell_type": "code",
   "execution_count": 10,
   "metadata": {},
   "outputs": [
    {
     "data": {
      "text/plain": [
       "(7609, 7609)"
      ]
     },
     "execution_count": 10,
     "metadata": {},
     "output_type": "execute_result"
    }
   ],
   "source": [
    "sum(resp3.cmstphsbx.isnull()), 7571+1+6+31"
   ]
  },
  {
   "cell_type": "code",
   "execution_count": 11,
   "metadata": {},
   "outputs": [
    {
     "data": {
      "text/plain": [
       "(158, 158)"
      ]
     },
     "execution_count": 11,
     "metadata": {},
     "output_type": "execute_result"
    }
   ],
   "source": [
    "sum((resp3.cmstphsbx >= 400) & (resp3.cmstphsbx <= 948)), 125+33"
   ]
  },
  {
   "cell_type": "code",
   "execution_count": 12,
   "metadata": {
    "scrolled": true
   },
   "outputs": [
    {
     "data": {
      "text/plain": [
       "(202, 202)"
      ]
     },
     "execution_count": 12,
     "metadata": {},
     "output_type": "execute_result"
    }
   ],
   "source": [
    "sum((resp3.cmstphsbx >= 949) & (resp3.cmstphsbx <= 1000)), 197+5"
   ]
  },
  {
   "cell_type": "code",
   "execution_count": 13,
   "metadata": {},
   "outputs": [
    {
     "data": {
      "text/plain": [
       "1122"
      ]
     },
     "execution_count": 13,
     "metadata": {},
     "output_type": "execute_result"
    }
   ],
   "source": [
    "sum(resp3.divorced)"
   ]
  },
  {
   "cell_type": "code",
   "execution_count": 14,
   "metadata": {},
   "outputs": [
    {
     "data": {
      "text/plain": [
       "360"
      ]
     },
     "execution_count": 14,
     "metadata": {},
     "output_type": "execute_result"
    }
   ],
   "source": [
    "sum(~resp3.cmstphsbx.isnull())"
   ]
  },
  {
   "cell_type": "code",
   "execution_count": 15,
   "metadata": {},
   "outputs": [
    {
     "data": {
      "text/plain": [
       "1038"
      ]
     },
     "execution_count": 15,
     "metadata": {},
     "output_type": "execute_result"
    }
   ],
   "source": [
    "sum(~resp3.cmdivorcx.isnull())"
   ]
  },
  {
   "cell_type": "markdown",
   "metadata": {},
   "source": [
    "Validating the 1988 data:"
   ]
  },
  {
   "cell_type": "code",
   "execution_count": 16,
   "metadata": {},
   "outputs": [
    {
     "data": {
      "text/plain": [
       "(8450, 24)"
      ]
     },
     "execution_count": 16,
     "metadata": {},
     "output_type": "execute_result"
    }
   ],
   "source": [
    "resp4 = marriage.ReadFemResp1988()\n",
    "marriage.Validate1988(resp4)\n",
    "resp4.shape"
   ]
  },
  {
   "cell_type": "code",
   "execution_count": 17,
   "metadata": {},
   "outputs": [
    {
     "data": {
      "text/plain": [
       "count    8450.000000\n",
       "mean        0.761183\n",
       "std         0.711908\n",
       "min         0.000000\n",
       "25%         0.000000\n",
       "50%         1.000000\n",
       "75%         1.000000\n",
       "max         5.000000\n",
       "Name: fmarno, dtype: float64"
      ]
     },
     "execution_count": 17,
     "metadata": {},
     "output_type": "execute_result"
    }
   ],
   "source": [
    "resp4.fmarno.describe()"
   ]
  },
  {
   "cell_type": "code",
   "execution_count": 18,
   "metadata": {},
   "outputs": [
    {
     "data": {
      "text/plain": [
       "0    3160\n",
       "1    4325\n",
       "2     829\n",
       "3     108\n",
       "4      15\n",
       "5      13\n",
       "Name: fmarno, dtype: int64"
      ]
     },
     "execution_count": 18,
     "metadata": {},
     "output_type": "execute_result"
    }
   ],
   "source": [
    "resp4.fmarno.value_counts().sort_index()"
   ]
  },
  {
   "cell_type": "code",
   "execution_count": 19,
   "metadata": {},
   "outputs": [
    {
     "data": {
      "text/plain": [
       "False    3160\n",
       "True     5290\n",
       "Name: evrmarry, dtype: int64"
      ]
     },
     "execution_count": 19,
     "metadata": {},
     "output_type": "execute_result"
    }
   ],
   "source": [
    "resp4.evrmarry.value_counts().sort_index()"
   ]
  },
  {
   "cell_type": "code",
   "execution_count": 20,
   "metadata": {},
   "outputs": [
    {
     "data": {
      "text/plain": [
       "False    8120\n",
       "True      330\n",
       "Name: separated, dtype: int64"
      ]
     },
     "execution_count": 20,
     "metadata": {},
     "output_type": "execute_result"
    }
   ],
   "source": [
    "resp4.separated.value_counts().sort_index()"
   ]
  },
  {
   "cell_type": "code",
   "execution_count": 21,
   "metadata": {},
   "outputs": [
    {
     "data": {
      "text/html": [
       "<div>\n",
       "<style scoped>\n",
       "    .dataframe tbody tr th:only-of-type {\n",
       "        vertical-align: middle;\n",
       "    }\n",
       "\n",
       "    .dataframe tbody tr th {\n",
       "        vertical-align: top;\n",
       "    }\n",
       "\n",
       "    .dataframe thead th {\n",
       "        text-align: right;\n",
       "    }\n",
       "</style>\n",
       "<table border=\"1\" class=\"dataframe\">\n",
       "  <thead>\n",
       "    <tr style=\"text-align: right;\">\n",
       "      <th></th>\n",
       "      <th>finalwgt</th>\n",
       "      <th>ageint</th>\n",
       "      <th>currentcm</th>\n",
       "      <th>firstcm</th>\n",
       "      <th>cmintvw</th>\n",
       "      <th>cmbirth</th>\n",
       "      <th>f23m1</th>\n",
       "      <th>cmdivorcx</th>\n",
       "      <th>cmstphsbx</th>\n",
       "      <th>fmarno</th>\n",
       "      <th>...</th>\n",
       "      <th>widowed</th>\n",
       "      <th>stillma</th>\n",
       "      <th>cycle</th>\n",
       "      <th>agemarry</th>\n",
       "      <th>age</th>\n",
       "      <th>missing</th>\n",
       "      <th>year</th>\n",
       "      <th>age_index</th>\n",
       "      <th>agemarry_index</th>\n",
       "      <th>birth_index</th>\n",
       "    </tr>\n",
       "  </thead>\n",
       "  <tbody>\n",
       "    <tr>\n",
       "      <th>0</th>\n",
       "      <td>713792</td>\n",
       "      <td>28</td>\n",
       "      <td>NaN</td>\n",
       "      <td>NaN</td>\n",
       "      <td>1061</td>\n",
       "      <td>723</td>\n",
       "      <td>NaN</td>\n",
       "      <td>NaN</td>\n",
       "      <td>NaN</td>\n",
       "      <td>0</td>\n",
       "      <td>...</td>\n",
       "      <td>False</td>\n",
       "      <td>False</td>\n",
       "      <td>4</td>\n",
       "      <td>NaN</td>\n",
       "      <td>28.166667</td>\n",
       "      <td>False</td>\n",
       "      <td>60</td>\n",
       "      <td>28.0</td>\n",
       "      <td>NaN</td>\n",
       "      <td>60</td>\n",
       "    </tr>\n",
       "    <tr>\n",
       "      <th>1</th>\n",
       "      <td>367022</td>\n",
       "      <td>37</td>\n",
       "      <td>NaN</td>\n",
       "      <td>NaN</td>\n",
       "      <td>1059</td>\n",
       "      <td>614</td>\n",
       "      <td>NaN</td>\n",
       "      <td>NaN</td>\n",
       "      <td>NaN</td>\n",
       "      <td>0</td>\n",
       "      <td>...</td>\n",
       "      <td>False</td>\n",
       "      <td>False</td>\n",
       "      <td>4</td>\n",
       "      <td>NaN</td>\n",
       "      <td>37.083333</td>\n",
       "      <td>False</td>\n",
       "      <td>51</td>\n",
       "      <td>37.0</td>\n",
       "      <td>NaN</td>\n",
       "      <td>50</td>\n",
       "    </tr>\n",
       "    <tr>\n",
       "      <th>2</th>\n",
       "      <td>975924</td>\n",
       "      <td>21</td>\n",
       "      <td>NaN</td>\n",
       "      <td>NaN</td>\n",
       "      <td>1057</td>\n",
       "      <td>796</td>\n",
       "      <td>NaN</td>\n",
       "      <td>NaN</td>\n",
       "      <td>NaN</td>\n",
       "      <td>0</td>\n",
       "      <td>...</td>\n",
       "      <td>False</td>\n",
       "      <td>False</td>\n",
       "      <td>4</td>\n",
       "      <td>NaN</td>\n",
       "      <td>21.750000</td>\n",
       "      <td>False</td>\n",
       "      <td>66</td>\n",
       "      <td>21.0</td>\n",
       "      <td>NaN</td>\n",
       "      <td>60</td>\n",
       "    </tr>\n",
       "    <tr>\n",
       "      <th>3</th>\n",
       "      <td>587796</td>\n",
       "      <td>39</td>\n",
       "      <td>NaN</td>\n",
       "      <td>838.0</td>\n",
       "      <td>1057</td>\n",
       "      <td>581</td>\n",
       "      <td>2.0</td>\n",
       "      <td>943.0</td>\n",
       "      <td>NaN</td>\n",
       "      <td>1</td>\n",
       "      <td>...</td>\n",
       "      <td>False</td>\n",
       "      <td>False</td>\n",
       "      <td>4</td>\n",
       "      <td>21.416667</td>\n",
       "      <td>39.666667</td>\n",
       "      <td>False</td>\n",
       "      <td>48</td>\n",
       "      <td>39.0</td>\n",
       "      <td>21.0</td>\n",
       "      <td>40</td>\n",
       "    </tr>\n",
       "    <tr>\n",
       "      <th>4</th>\n",
       "      <td>719633</td>\n",
       "      <td>31</td>\n",
       "      <td>974.0</td>\n",
       "      <td>882.0</td>\n",
       "      <td>1062</td>\n",
       "      <td>683</td>\n",
       "      <td>2.0</td>\n",
       "      <td>930.0</td>\n",
       "      <td>NaN</td>\n",
       "      <td>2</td>\n",
       "      <td>...</td>\n",
       "      <td>False</td>\n",
       "      <td>False</td>\n",
       "      <td>4</td>\n",
       "      <td>16.583333</td>\n",
       "      <td>31.583333</td>\n",
       "      <td>False</td>\n",
       "      <td>56</td>\n",
       "      <td>31.0</td>\n",
       "      <td>16.0</td>\n",
       "      <td>50</td>\n",
       "    </tr>\n",
       "  </tbody>\n",
       "</table>\n",
       "<p>5 rows × 24 columns</p>\n",
       "</div>"
      ],
      "text/plain": [
       "   finalwgt  ageint  currentcm  firstcm  cmintvw  cmbirth  f23m1  cmdivorcx  \\\n",
       "0    713792      28        NaN      NaN     1061      723    NaN        NaN   \n",
       "1    367022      37        NaN      NaN     1059      614    NaN        NaN   \n",
       "2    975924      21        NaN      NaN     1057      796    NaN        NaN   \n",
       "3    587796      39        NaN    838.0     1057      581    2.0      943.0   \n",
       "4    719633      31      974.0    882.0     1062      683    2.0      930.0   \n",
       "\n",
       "   cmstphsbx  fmarno  ...  widowed  stillma  cycle   agemarry        age  \\\n",
       "0        NaN       0  ...    False    False      4        NaN  28.166667   \n",
       "1        NaN       0  ...    False    False      4        NaN  37.083333   \n",
       "2        NaN       0  ...    False    False      4        NaN  21.750000   \n",
       "3        NaN       1  ...    False    False      4  21.416667  39.666667   \n",
       "4        NaN       2  ...    False    False      4  16.583333  31.583333   \n",
       "\n",
       "   missing  year  age_index  agemarry_index  birth_index  \n",
       "0    False    60       28.0             NaN           60  \n",
       "1    False    51       37.0             NaN           50  \n",
       "2    False    66       21.0             NaN           60  \n",
       "3    False    48       39.0            21.0           40  \n",
       "4    False    56       31.0            16.0           50  \n",
       "\n",
       "[5 rows x 24 columns]"
      ]
     },
     "execution_count": 21,
     "metadata": {},
     "output_type": "execute_result"
    }
   ],
   "source": [
    "resp4.head()"
   ]
  },
  {
   "cell_type": "code",
   "execution_count": 22,
   "metadata": {},
   "outputs": [
    {
     "data": {
      "text/plain": [
       "(6974, 6974)"
      ]
     },
     "execution_count": 22,
     "metadata": {},
     "output_type": "execute_result"
    }
   ],
   "source": [
    "sum(resp4.cmdivorcx.isnull()), 6897+77"
   ]
  },
  {
   "cell_type": "code",
   "execution_count": 23,
   "metadata": {},
   "outputs": [
    {
     "data": {
      "text/plain": [
       "(1055, 1055)"
      ]
     },
     "execution_count": 23,
     "metadata": {},
     "output_type": "execute_result"
    }
   ],
   "source": [
    "sum((resp4.cmdivorcx >= 685) & (resp4.cmdivorcx <= 1008)), 903+152"
   ]
  },
  {
   "cell_type": "code",
   "execution_count": 24,
   "metadata": {
    "scrolled": true
   },
   "outputs": [
    {
     "data": {
      "text/plain": [
       "(421, 421)"
      ]
     },
     "execution_count": 24,
     "metadata": {},
     "output_type": "execute_result"
    }
   ],
   "source": [
    "sum((resp4.cmdivorcx >= 1009) & (resp4.cmdivorcx <= 1064)), 399+22"
   ]
  },
  {
   "cell_type": "code",
   "execution_count": 25,
   "metadata": {},
   "outputs": [
    {
     "data": {
      "text/plain": [
       "(8142, 8142)"
      ]
     },
     "execution_count": 25,
     "metadata": {},
     "output_type": "execute_result"
    }
   ],
   "source": [
    "sum(resp4.cmstphsbx.isnull()), 8113+29"
   ]
  },
  {
   "cell_type": "code",
   "execution_count": 26,
   "metadata": {},
   "outputs": [
    {
     "data": {
      "text/plain": [
       "(106, 106)"
      ]
     },
     "execution_count": 26,
     "metadata": {},
     "output_type": "execute_result"
    }
   ],
   "source": [
    "sum((resp4.cmstphsbx >= 685) & (resp4.cmstphsbx <= 1008)), 75+31"
   ]
  },
  {
   "cell_type": "code",
   "execution_count": 27,
   "metadata": {
    "scrolled": true
   },
   "outputs": [
    {
     "data": {
      "text/plain": [
       "(202, 202)"
      ]
     },
     "execution_count": 27,
     "metadata": {},
     "output_type": "execute_result"
    }
   ],
   "source": [
    "sum((resp4.cmstphsbx >= 1009) & (resp4.cmstphsbx <= 1064)), 193+9"
   ]
  },
  {
   "cell_type": "code",
   "execution_count": 28,
   "metadata": {},
   "outputs": [
    {
     "data": {
      "text/plain": [
       "1553"
      ]
     },
     "execution_count": 28,
     "metadata": {},
     "output_type": "execute_result"
    }
   ],
   "source": [
    "sum(resp4.divorced)"
   ]
  },
  {
   "cell_type": "code",
   "execution_count": 29,
   "metadata": {},
   "outputs": [
    {
     "data": {
      "text/plain": [
       "308"
      ]
     },
     "execution_count": 29,
     "metadata": {},
     "output_type": "execute_result"
    }
   ],
   "source": [
    "sum(~resp4.cmstphsbx.isnull())"
   ]
  },
  {
   "cell_type": "code",
   "execution_count": 30,
   "metadata": {},
   "outputs": [
    {
     "data": {
      "text/plain": [
       "1476"
      ]
     },
     "execution_count": 30,
     "metadata": {},
     "output_type": "execute_result"
    }
   ],
   "source": [
    "sum(~resp4.cmdivorcx.isnull())"
   ]
  },
  {
   "cell_type": "markdown",
   "metadata": {},
   "source": [
    "Validating the 1995 data:"
   ]
  },
  {
   "cell_type": "code",
   "execution_count": 31,
   "metadata": {},
   "outputs": [
    {
     "data": {
      "text/plain": [
       "(10847, 22)"
      ]
     },
     "execution_count": 31,
     "metadata": {},
     "output_type": "execute_result"
    }
   ],
   "source": [
    "resp5 = marriage.ReadFemResp1995()\n",
    "marriage.Validate1995(resp5)\n",
    "resp5.shape"
   ]
  },
  {
   "cell_type": "code",
   "execution_count": 32,
   "metadata": {},
   "outputs": [
    {
     "data": {
      "text/html": [
       "<div>\n",
       "<style scoped>\n",
       "    .dataframe tbody tr th:only-of-type {\n",
       "        vertical-align: middle;\n",
       "    }\n",
       "\n",
       "    .dataframe tbody tr th {\n",
       "        vertical-align: top;\n",
       "    }\n",
       "\n",
       "    .dataframe thead th {\n",
       "        text-align: right;\n",
       "    }\n",
       "</style>\n",
       "<table border=\"1\" class=\"dataframe\">\n",
       "  <thead>\n",
       "    <tr style=\"text-align: right;\">\n",
       "      <th></th>\n",
       "      <th>cmintvw</th>\n",
       "      <th>timesmar</th>\n",
       "      <th>cmmarrhx</th>\n",
       "      <th>cmbirth</th>\n",
       "      <th>finalwgt</th>\n",
       "      <th>marend01</th>\n",
       "      <th>cmdivorcx</th>\n",
       "      <th>cmstphsbx</th>\n",
       "      <th>marstat</th>\n",
       "      <th>evrmarry</th>\n",
       "      <th>...</th>\n",
       "      <th>widowed</th>\n",
       "      <th>stillma</th>\n",
       "      <th>cycle</th>\n",
       "      <th>agemarry</th>\n",
       "      <th>age</th>\n",
       "      <th>missing</th>\n",
       "      <th>year</th>\n",
       "      <th>age_index</th>\n",
       "      <th>agemarry_index</th>\n",
       "      <th>birth_index</th>\n",
       "    </tr>\n",
       "  </thead>\n",
       "  <tbody>\n",
       "    <tr>\n",
       "      <th>0</th>\n",
       "      <td>1149</td>\n",
       "      <td>NaN</td>\n",
       "      <td>NaN</td>\n",
       "      <td>837</td>\n",
       "      <td>6776.3796</td>\n",
       "      <td>NaN</td>\n",
       "      <td>NaN</td>\n",
       "      <td>NaN</td>\n",
       "      <td>5</td>\n",
       "      <td>False</td>\n",
       "      <td>...</td>\n",
       "      <td>False</td>\n",
       "      <td>False</td>\n",
       "      <td>5</td>\n",
       "      <td>NaN</td>\n",
       "      <td>26.000000</td>\n",
       "      <td>False</td>\n",
       "      <td>69</td>\n",
       "      <td>26.0</td>\n",
       "      <td>NaN</td>\n",
       "      <td>60</td>\n",
       "    </tr>\n",
       "    <tr>\n",
       "      <th>1</th>\n",
       "      <td>1142</td>\n",
       "      <td>1.0</td>\n",
       "      <td>1024.0</td>\n",
       "      <td>781</td>\n",
       "      <td>841.8221</td>\n",
       "      <td>NaN</td>\n",
       "      <td>NaN</td>\n",
       "      <td>NaN</td>\n",
       "      <td>4</td>\n",
       "      <td>True</td>\n",
       "      <td>...</td>\n",
       "      <td>False</td>\n",
       "      <td>True</td>\n",
       "      <td>5</td>\n",
       "      <td>20.250000</td>\n",
       "      <td>30.083333</td>\n",
       "      <td>False</td>\n",
       "      <td>65</td>\n",
       "      <td>30.0</td>\n",
       "      <td>20.0</td>\n",
       "      <td>60</td>\n",
       "    </tr>\n",
       "    <tr>\n",
       "      <th>2</th>\n",
       "      <td>1145</td>\n",
       "      <td>NaN</td>\n",
       "      <td>NaN</td>\n",
       "      <td>907</td>\n",
       "      <td>3617.3637</td>\n",
       "      <td>NaN</td>\n",
       "      <td>NaN</td>\n",
       "      <td>NaN</td>\n",
       "      <td>5</td>\n",
       "      <td>False</td>\n",
       "      <td>...</td>\n",
       "      <td>False</td>\n",
       "      <td>False</td>\n",
       "      <td>5</td>\n",
       "      <td>NaN</td>\n",
       "      <td>19.833333</td>\n",
       "      <td>False</td>\n",
       "      <td>75</td>\n",
       "      <td>19.0</td>\n",
       "      <td>NaN</td>\n",
       "      <td>70</td>\n",
       "    </tr>\n",
       "    <tr>\n",
       "      <th>3</th>\n",
       "      <td>1145</td>\n",
       "      <td>1.0</td>\n",
       "      <td>1133.0</td>\n",
       "      <td>771</td>\n",
       "      <td>10788.1271</td>\n",
       "      <td>NaN</td>\n",
       "      <td>NaN</td>\n",
       "      <td>NaN</td>\n",
       "      <td>4</td>\n",
       "      <td>True</td>\n",
       "      <td>...</td>\n",
       "      <td>False</td>\n",
       "      <td>True</td>\n",
       "      <td>5</td>\n",
       "      <td>30.166667</td>\n",
       "      <td>31.166667</td>\n",
       "      <td>False</td>\n",
       "      <td>64</td>\n",
       "      <td>31.0</td>\n",
       "      <td>30.0</td>\n",
       "      <td>60</td>\n",
       "    </tr>\n",
       "    <tr>\n",
       "      <th>4</th>\n",
       "      <td>1144</td>\n",
       "      <td>NaN</td>\n",
       "      <td>NaN</td>\n",
       "      <td>927</td>\n",
       "      <td>5359.4150</td>\n",
       "      <td>NaN</td>\n",
       "      <td>NaN</td>\n",
       "      <td>NaN</td>\n",
       "      <td>5</td>\n",
       "      <td>False</td>\n",
       "      <td>...</td>\n",
       "      <td>False</td>\n",
       "      <td>False</td>\n",
       "      <td>5</td>\n",
       "      <td>NaN</td>\n",
       "      <td>18.083333</td>\n",
       "      <td>False</td>\n",
       "      <td>77</td>\n",
       "      <td>18.0</td>\n",
       "      <td>NaN</td>\n",
       "      <td>70</td>\n",
       "    </tr>\n",
       "  </tbody>\n",
       "</table>\n",
       "<p>5 rows × 22 columns</p>\n",
       "</div>"
      ],
      "text/plain": [
       "   cmintvw  timesmar  cmmarrhx  cmbirth    finalwgt  marend01  cmdivorcx  \\\n",
       "0     1149       NaN       NaN      837   6776.3796       NaN        NaN   \n",
       "1     1142       1.0    1024.0      781    841.8221       NaN        NaN   \n",
       "2     1145       NaN       NaN      907   3617.3637       NaN        NaN   \n",
       "3     1145       1.0    1133.0      771  10788.1271       NaN        NaN   \n",
       "4     1144       NaN       NaN      927   5359.4150       NaN        NaN   \n",
       "\n",
       "   cmstphsbx  marstat  evrmarry  ...  widowed  stillma  cycle   agemarry  \\\n",
       "0        NaN        5     False  ...    False    False      5        NaN   \n",
       "1        NaN        4      True  ...    False     True      5  20.250000   \n",
       "2        NaN        5     False  ...    False    False      5        NaN   \n",
       "3        NaN        4      True  ...    False     True      5  30.166667   \n",
       "4        NaN        5     False  ...    False    False      5        NaN   \n",
       "\n",
       "         age  missing  year  age_index  agemarry_index  birth_index  \n",
       "0  26.000000    False    69       26.0             NaN           60  \n",
       "1  30.083333    False    65       30.0            20.0           60  \n",
       "2  19.833333    False    75       19.0             NaN           70  \n",
       "3  31.166667    False    64       31.0            30.0           60  \n",
       "4  18.083333    False    77       18.0             NaN           70  \n",
       "\n",
       "[5 rows x 22 columns]"
      ]
     },
     "execution_count": 32,
     "metadata": {},
     "output_type": "execute_result"
    }
   ],
   "source": [
    "resp5.head()"
   ]
  },
  {
   "cell_type": "code",
   "execution_count": 33,
   "metadata": {},
   "outputs": [
    {
     "data": {
      "text/plain": [
       "(9625, 9625)"
      ]
     },
     "execution_count": 33,
     "metadata": {},
     "output_type": "execute_result"
    }
   ],
   "source": [
    "sum(resp5.cmdivorcx.isnull()), 9601+1+1+22"
   ]
  },
  {
   "cell_type": "code",
   "execution_count": 34,
   "metadata": {},
   "outputs": [
    {
     "data": {
      "text/plain": [
       "(1116, 1116)"
      ]
     },
     "execution_count": 34,
     "metadata": {},
     "output_type": "execute_result"
    }
   ],
   "source": [
    "sum((resp5.cmdivorcx >= 780) & (resp5.cmdivorcx <= 1092)), 1116"
   ]
  },
  {
   "cell_type": "code",
   "execution_count": 35,
   "metadata": {
    "scrolled": true
   },
   "outputs": [
    {
     "data": {
      "text/plain": [
       "(106, 106)"
      ]
     },
     "execution_count": 35,
     "metadata": {},
     "output_type": "execute_result"
    }
   ],
   "source": [
    "sum((resp5.cmdivorcx >= 1093) & (resp5.cmdivorcx <= 1150)), 106"
   ]
  },
  {
   "cell_type": "code",
   "execution_count": 36,
   "metadata": {},
   "outputs": [
    {
     "data": {
      "text/plain": [
       "(9617, 9617)"
      ]
     },
     "execution_count": 36,
     "metadata": {},
     "output_type": "execute_result"
    }
   ],
   "source": [
    "sum(resp5.cmstphsbx.isnull()), 9601+1+15"
   ]
  },
  {
   "cell_type": "code",
   "execution_count": 37,
   "metadata": {},
   "outputs": [
    {
     "data": {
      "text/plain": [
       "(1167, 1167)"
      ]
     },
     "execution_count": 37,
     "metadata": {},
     "output_type": "execute_result"
    }
   ],
   "source": [
    "sum((resp5.cmstphsbx >= 780) & (resp5.cmstphsbx <= 1092)), 1167"
   ]
  },
  {
   "cell_type": "code",
   "execution_count": 38,
   "metadata": {
    "scrolled": true
   },
   "outputs": [
    {
     "data": {
      "text/plain": [
       "(63, 63)"
      ]
     },
     "execution_count": 38,
     "metadata": {},
     "output_type": "execute_result"
    }
   ],
   "source": [
    "sum((resp5.cmstphsbx >= 1093) & (resp5.cmstphsbx <= 1150)), 63"
   ]
  },
  {
   "cell_type": "code",
   "execution_count": 39,
   "metadata": {},
   "outputs": [
    {
     "data": {
      "text/plain": [
       "1.0      33\n",
       "2.0    1223\n",
       "3.0      23\n",
       "7.0       2\n",
       "9.0       1\n",
       "Name: marend01, dtype: int64"
      ]
     },
     "execution_count": 39,
     "metadata": {},
     "output_type": "execute_result"
    }
   ],
   "source": [
    "resp5.marend01.value_counts().sort_index()"
   ]
  },
  {
   "cell_type": "code",
   "execution_count": 40,
   "metadata": {},
   "outputs": [
    {
     "data": {
      "text/plain": [
       "33"
      ]
     },
     "execution_count": 40,
     "metadata": {},
     "output_type": "execute_result"
    }
   ],
   "source": [
    "sum(resp5.divorced)"
   ]
  },
  {
   "cell_type": "code",
   "execution_count": 41,
   "metadata": {},
   "outputs": [
    {
     "data": {
      "text/plain": [
       "1230"
      ]
     },
     "execution_count": 41,
     "metadata": {},
     "output_type": "execute_result"
    }
   ],
   "source": [
    "sum(~resp5.cmstphsbx.isnull())"
   ]
  },
  {
   "cell_type": "code",
   "execution_count": 42,
   "metadata": {},
   "outputs": [
    {
     "data": {
      "text/plain": [
       "1222"
      ]
     },
     "execution_count": 42,
     "metadata": {},
     "output_type": "execute_result"
    }
   ],
   "source": [
    "sum(~resp5.cmdivorcx.isnull())"
   ]
  },
  {
   "cell_type": "code",
   "execution_count": 43,
   "metadata": {},
   "outputs": [
    {
     "data": {
      "text/plain": [
       "19"
      ]
     },
     "execution_count": 43,
     "metadata": {},
     "output_type": "execute_result"
    }
   ],
   "source": [
    "sum((resp5.marend01==2) & (resp5.cmdivorcx.isnull()))"
   ]
  },
  {
   "cell_type": "code",
   "execution_count": 44,
   "metadata": {},
   "outputs": [
    {
     "data": {
      "text/plain": [
       "5"
      ]
     },
     "execution_count": 44,
     "metadata": {},
     "output_type": "execute_result"
    }
   ],
   "source": [
    "sum((resp5.marend01==3) & (resp5.cmdivorcx.isnull()))"
   ]
  },
  {
   "cell_type": "code",
   "execution_count": 45,
   "metadata": {},
   "outputs": [
    {
     "data": {
      "text/plain": [
       "1230"
      ]
     },
     "execution_count": 45,
     "metadata": {},
     "output_type": "execute_result"
    }
   ],
   "source": [
    "sum((~resp5.divorced) & (~resp5.cmstphsbx.isnull()))"
   ]
  },
  {
   "cell_type": "code",
   "execution_count": 46,
   "metadata": {},
   "outputs": [
    {
     "data": {
      "text/plain": [
       "1    5291\n",
       "2      93\n",
       "3    1008\n",
       "4     452\n",
       "5    4003\n",
       "Name: marstat, dtype: int64"
      ]
     },
     "execution_count": 46,
     "metadata": {},
     "output_type": "execute_result"
    }
   ],
   "source": [
    "resp5.marstat.value_counts().sort_index()"
   ]
  },
  {
   "cell_type": "code",
   "execution_count": 47,
   "metadata": {},
   "outputs": [
    {
     "data": {
      "text/plain": [
       "446"
      ]
     },
     "execution_count": 47,
     "metadata": {},
     "output_type": "execute_result"
    }
   ],
   "source": [
    "sum((resp5.marstat==4) & (~resp5.divorced))   # separated and not divorced"
   ]
  },
  {
   "cell_type": "code",
   "execution_count": 48,
   "metadata": {
    "scrolled": true
   },
   "outputs": [
    {
     "data": {
      "text/plain": [
       "90"
      ]
     },
     "execution_count": 48,
     "metadata": {},
     "output_type": "execute_result"
    }
   ],
   "source": [
    "sum((resp5.marstat==4) & (~resp5.divorced) & (~resp5.cmstphsbx.isnull()))"
   ]
  },
  {
   "cell_type": "markdown",
   "metadata": {},
   "source": [
    "Validating the 2002 data:"
   ]
  },
  {
   "cell_type": "code",
   "execution_count": 49,
   "metadata": {},
   "outputs": [
    {
     "data": {
      "text/plain": [
       "(7643, 26)"
      ]
     },
     "execution_count": 49,
     "metadata": {},
     "output_type": "execute_result"
    }
   ],
   "source": [
    "resp6 = marriage.ReadFemResp2002()\n",
    "marriage.Validate2002(resp6)\n",
    "resp6.shape"
   ]
  },
  {
   "cell_type": "code",
   "execution_count": 50,
   "metadata": {},
   "outputs": [
    {
     "data": {
      "text/html": [
       "<div>\n",
       "<style scoped>\n",
       "    .dataframe tbody tr th:only-of-type {\n",
       "        vertical-align: middle;\n",
       "    }\n",
       "\n",
       "    .dataframe tbody tr th {\n",
       "        vertical-align: top;\n",
       "    }\n",
       "\n",
       "    .dataframe thead th {\n",
       "        text-align: right;\n",
       "    }\n",
       "</style>\n",
       "<table border=\"1\" class=\"dataframe\">\n",
       "  <thead>\n",
       "    <tr style=\"text-align: right;\">\n",
       "      <th></th>\n",
       "      <th>caseid</th>\n",
       "      <th>cmbirth</th>\n",
       "      <th>evrmarry</th>\n",
       "      <th>cmmarrhx</th>\n",
       "      <th>cmdivorcx</th>\n",
       "      <th>parity</th>\n",
       "      <th>rmarital</th>\n",
       "      <th>fmarno</th>\n",
       "      <th>mardat01</th>\n",
       "      <th>mardis01</th>\n",
       "      <th>...</th>\n",
       "      <th>widowed</th>\n",
       "      <th>stillma</th>\n",
       "      <th>cycle</th>\n",
       "      <th>agemarry</th>\n",
       "      <th>age</th>\n",
       "      <th>missing</th>\n",
       "      <th>year</th>\n",
       "      <th>age_index</th>\n",
       "      <th>agemarry_index</th>\n",
       "      <th>birth_index</th>\n",
       "    </tr>\n",
       "  </thead>\n",
       "  <tbody>\n",
       "    <tr>\n",
       "      <th>0</th>\n",
       "      <td>2298</td>\n",
       "      <td>902</td>\n",
       "      <td>False</td>\n",
       "      <td>NaN</td>\n",
       "      <td>NaN</td>\n",
       "      <td>4</td>\n",
       "      <td>2</td>\n",
       "      <td>0</td>\n",
       "      <td>NaN</td>\n",
       "      <td>NaN</td>\n",
       "      <td>...</td>\n",
       "      <td>False</td>\n",
       "      <td>False</td>\n",
       "      <td>6</td>\n",
       "      <td>NaN</td>\n",
       "      <td>27.666667</td>\n",
       "      <td>False</td>\n",
       "      <td>75</td>\n",
       "      <td>27.0</td>\n",
       "      <td>NaN</td>\n",
       "      <td>70</td>\n",
       "    </tr>\n",
       "    <tr>\n",
       "      <th>1</th>\n",
       "      <td>5012</td>\n",
       "      <td>718</td>\n",
       "      <td>True</td>\n",
       "      <td>974.0</td>\n",
       "      <td>1077.0</td>\n",
       "      <td>1</td>\n",
       "      <td>1</td>\n",
       "      <td>2</td>\n",
       "      <td>974.0</td>\n",
       "      <td>1077.0</td>\n",
       "      <td>...</td>\n",
       "      <td>False</td>\n",
       "      <td>False</td>\n",
       "      <td>6</td>\n",
       "      <td>21.333333</td>\n",
       "      <td>42.916667</td>\n",
       "      <td>False</td>\n",
       "      <td>59</td>\n",
       "      <td>42.0</td>\n",
       "      <td>21.0</td>\n",
       "      <td>50</td>\n",
       "    </tr>\n",
       "    <tr>\n",
       "      <th>2</th>\n",
       "      <td>11586</td>\n",
       "      <td>708</td>\n",
       "      <td>True</td>\n",
       "      <td>910.0</td>\n",
       "      <td>938.0</td>\n",
       "      <td>1</td>\n",
       "      <td>4</td>\n",
       "      <td>1</td>\n",
       "      <td>910.0</td>\n",
       "      <td>921.0</td>\n",
       "      <td>...</td>\n",
       "      <td>False</td>\n",
       "      <td>False</td>\n",
       "      <td>6</td>\n",
       "      <td>16.833333</td>\n",
       "      <td>43.833333</td>\n",
       "      <td>False</td>\n",
       "      <td>58</td>\n",
       "      <td>43.0</td>\n",
       "      <td>16.0</td>\n",
       "      <td>50</td>\n",
       "    </tr>\n",
       "    <tr>\n",
       "      <th>3</th>\n",
       "      <td>6794</td>\n",
       "      <td>1042</td>\n",
       "      <td>False</td>\n",
       "      <td>NaN</td>\n",
       "      <td>NaN</td>\n",
       "      <td>0</td>\n",
       "      <td>6</td>\n",
       "      <td>0</td>\n",
       "      <td>NaN</td>\n",
       "      <td>NaN</td>\n",
       "      <td>...</td>\n",
       "      <td>False</td>\n",
       "      <td>False</td>\n",
       "      <td>6</td>\n",
       "      <td>NaN</td>\n",
       "      <td>16.000000</td>\n",
       "      <td>False</td>\n",
       "      <td>86</td>\n",
       "      <td>16.0</td>\n",
       "      <td>NaN</td>\n",
       "      <td>80</td>\n",
       "    </tr>\n",
       "    <tr>\n",
       "      <th>4</th>\n",
       "      <td>616</td>\n",
       "      <td>991</td>\n",
       "      <td>False</td>\n",
       "      <td>NaN</td>\n",
       "      <td>NaN</td>\n",
       "      <td>0</td>\n",
       "      <td>6</td>\n",
       "      <td>0</td>\n",
       "      <td>NaN</td>\n",
       "      <td>NaN</td>\n",
       "      <td>...</td>\n",
       "      <td>False</td>\n",
       "      <td>False</td>\n",
       "      <td>6</td>\n",
       "      <td>NaN</td>\n",
       "      <td>20.166667</td>\n",
       "      <td>False</td>\n",
       "      <td>82</td>\n",
       "      <td>20.0</td>\n",
       "      <td>NaN</td>\n",
       "      <td>80</td>\n",
       "    </tr>\n",
       "  </tbody>\n",
       "</table>\n",
       "<p>5 rows × 26 columns</p>\n",
       "</div>"
      ],
      "text/plain": [
       "   caseid  cmbirth  evrmarry  cmmarrhx  cmdivorcx  parity  rmarital  fmarno  \\\n",
       "0    2298      902     False       NaN        NaN       4         2       0   \n",
       "1    5012      718      True     974.0     1077.0       1         1       2   \n",
       "2   11586      708      True     910.0      938.0       1         4       1   \n",
       "3    6794     1042     False       NaN        NaN       0         6       0   \n",
       "4     616      991     False       NaN        NaN       0         6       0   \n",
       "\n",
       "   mardat01  mardis01  ...  widowed  stillma  cycle   agemarry        age  \\\n",
       "0       NaN       NaN  ...    False    False      6        NaN  27.666667   \n",
       "1     974.0    1077.0  ...    False    False      6  21.333333  42.916667   \n",
       "2     910.0     921.0  ...    False    False      6  16.833333  43.833333   \n",
       "3       NaN       NaN  ...    False    False      6        NaN  16.000000   \n",
       "4       NaN       NaN  ...    False    False      6        NaN  20.166667   \n",
       "\n",
       "   missing  year  age_index  agemarry_index  birth_index  \n",
       "0    False    75       27.0             NaN           70  \n",
       "1    False    59       42.0            21.0           50  \n",
       "2    False    58       43.0            16.0           50  \n",
       "3    False    86       16.0             NaN           80  \n",
       "4    False    82       20.0             NaN           80  \n",
       "\n",
       "[5 rows x 26 columns]"
      ]
     },
     "execution_count": 50,
     "metadata": {},
     "output_type": "execute_result"
    }
   ],
   "source": [
    "resp6.head()"
   ]
  },
  {
   "cell_type": "code",
   "execution_count": 51,
   "metadata": {},
   "outputs": [
    {
     "data": {
      "text/plain": [
       "(6639, 6661)"
      ]
     },
     "execution_count": 51,
     "metadata": {},
     "output_type": "execute_result"
    }
   ],
   "source": [
    "sum(resp6.cmdivorcx.isnull()), 6639+2+20"
   ]
  },
  {
   "cell_type": "code",
   "execution_count": 52,
   "metadata": {},
   "outputs": [
    {
     "data": {
      "text/plain": [
       "(607, 607)"
      ]
     },
     "execution_count": 52,
     "metadata": {},
     "output_type": "execute_result"
    }
   ],
   "source": [
    "sum((resp6.cmdivorcx >= 301) & (resp6.cmdivorcx <= 1164)), 607"
   ]
  },
  {
   "cell_type": "code",
   "execution_count": 53,
   "metadata": {
    "scrolled": true
   },
   "outputs": [
    {
     "data": {
      "text/plain": [
       "(375, 375)"
      ]
     },
     "execution_count": 53,
     "metadata": {},
     "output_type": "execute_result"
    }
   ],
   "source": [
    "sum((resp6.cmdivorcx >= 1165) & (resp6.cmdivorcx <= 1239)), 375"
   ]
  },
  {
   "cell_type": "code",
   "execution_count": 54,
   "metadata": {},
   "outputs": [
    {
     "data": {
      "text/plain": [
       "1.0    1232\n",
       "2.0     260\n",
       "3.0      58\n",
       "Name: marend01, dtype: int64"
      ]
     },
     "execution_count": 54,
     "metadata": {},
     "output_type": "execute_result"
    }
   ],
   "source": [
    "resp6.marend01.value_counts().sort_index()"
   ]
  },
  {
   "cell_type": "code",
   "execution_count": 55,
   "metadata": {},
   "outputs": [
    {
     "data": {
      "text/plain": [
       "(1232, 0)"
      ]
     },
     "execution_count": 55,
     "metadata": {},
     "output_type": "execute_result"
    }
   ],
   "source": [
    "sum(resp6.divorced), sum(resp6.loc[resp6.divorced, 'mar1diss'].isnull())"
   ]
  },
  {
   "cell_type": "code",
   "execution_count": 56,
   "metadata": {},
   "outputs": [
    {
     "data": {
      "text/plain": [
       "(260, 0)"
      ]
     },
     "execution_count": 56,
     "metadata": {},
     "output_type": "execute_result"
    }
   ],
   "source": [
    "sum(resp6.separated), sum(resp6.loc[resp6.separated, 'mar1diss'].isnull())"
   ]
  },
  {
   "cell_type": "code",
   "execution_count": 57,
   "metadata": {},
   "outputs": [
    {
     "data": {
      "text/plain": [
       "(58, 0)"
      ]
     },
     "execution_count": 57,
     "metadata": {},
     "output_type": "execute_result"
    }
   ],
   "source": [
    "sum(resp6.widowed), sum(resp6.loc[resp6.widowed, 'mar1diss'].isnull())"
   ]
  },
  {
   "cell_type": "code",
   "execution_count": 58,
   "metadata": {},
   "outputs": [
    {
     "data": {
      "text/plain": [
       "(2576, 0)"
      ]
     },
     "execution_count": 58,
     "metadata": {},
     "output_type": "execute_result"
    }
   ],
   "source": [
    "sum(resp6.stillma), sum(resp6.loc[resp6.stillma, 'mar1diss'].isnull())"
   ]
  },
  {
   "cell_type": "code",
   "execution_count": 59,
   "metadata": {
    "scrolled": true
   },
   "outputs": [
    {
     "data": {
      "text/plain": [
       "(4126, 4126)"
      ]
     },
     "execution_count": 59,
     "metadata": {},
     "output_type": "execute_result"
    }
   ],
   "source": [
    "sum(resp6.evrmarry), 1232+260+58+2576"
   ]
  },
  {
   "cell_type": "markdown",
   "metadata": {},
   "source": [
    "Validating the 2010 data:"
   ]
  },
  {
   "cell_type": "code",
   "execution_count": 60,
   "metadata": {},
   "outputs": [
    {
     "data": {
      "text/plain": [
       "(12279, 27)"
      ]
     },
     "execution_count": 60,
     "metadata": {},
     "output_type": "execute_result"
    }
   ],
   "source": [
    "resp7 = marriage.ReadFemResp2010()\n",
    "marriage.Validate2010(resp7)\n",
    "resp7.shape"
   ]
  },
  {
   "cell_type": "code",
   "execution_count": 61,
   "metadata": {},
   "outputs": [
    {
     "data": {
      "text/html": [
       "<div>\n",
       "<style scoped>\n",
       "    .dataframe tbody tr th:only-of-type {\n",
       "        vertical-align: middle;\n",
       "    }\n",
       "\n",
       "    .dataframe tbody tr th {\n",
       "        vertical-align: top;\n",
       "    }\n",
       "\n",
       "    .dataframe thead th {\n",
       "        text-align: right;\n",
       "    }\n",
       "</style>\n",
       "<table border=\"1\" class=\"dataframe\">\n",
       "  <thead>\n",
       "    <tr style=\"text-align: right;\">\n",
       "      <th></th>\n",
       "      <th>caseid</th>\n",
       "      <th>cmbirth</th>\n",
       "      <th>evrmarry</th>\n",
       "      <th>cmmarrhx</th>\n",
       "      <th>cmdivorcx</th>\n",
       "      <th>rmarital</th>\n",
       "      <th>parity</th>\n",
       "      <th>fmarno</th>\n",
       "      <th>mardat01</th>\n",
       "      <th>mardis01</th>\n",
       "      <th>...</th>\n",
       "      <th>stillma</th>\n",
       "      <th>finalwgt</th>\n",
       "      <th>cycle</th>\n",
       "      <th>agemarry</th>\n",
       "      <th>age</th>\n",
       "      <th>missing</th>\n",
       "      <th>year</th>\n",
       "      <th>age_index</th>\n",
       "      <th>agemarry_index</th>\n",
       "      <th>birth_index</th>\n",
       "    </tr>\n",
       "  </thead>\n",
       "  <tbody>\n",
       "    <tr>\n",
       "      <th>0</th>\n",
       "      <td>34156</td>\n",
       "      <td>799</td>\n",
       "      <td>False</td>\n",
       "      <td>NaN</td>\n",
       "      <td>NaN</td>\n",
       "      <td>6</td>\n",
       "      <td>0</td>\n",
       "      <td>0</td>\n",
       "      <td>NaN</td>\n",
       "      <td>NaN</td>\n",
       "      <td>...</td>\n",
       "      <td>False</td>\n",
       "      <td>2571.376599</td>\n",
       "      <td>7</td>\n",
       "      <td>NaN</td>\n",
       "      <td>43.666667</td>\n",
       "      <td>False</td>\n",
       "      <td>66</td>\n",
       "      <td>43.0</td>\n",
       "      <td>NaN</td>\n",
       "      <td>60</td>\n",
       "    </tr>\n",
       "    <tr>\n",
       "      <th>1</th>\n",
       "      <td>40081</td>\n",
       "      <td>925</td>\n",
       "      <td>True</td>\n",
       "      <td>1314.0</td>\n",
       "      <td>NaN</td>\n",
       "      <td>1</td>\n",
       "      <td>0</td>\n",
       "      <td>1</td>\n",
       "      <td>1314.0</td>\n",
       "      <td>NaN</td>\n",
       "      <td>...</td>\n",
       "      <td>True</td>\n",
       "      <td>11716.317848</td>\n",
       "      <td>7</td>\n",
       "      <td>32.416667</td>\n",
       "      <td>33.166667</td>\n",
       "      <td>False</td>\n",
       "      <td>77</td>\n",
       "      <td>33.0</td>\n",
       "      <td>32.0</td>\n",
       "      <td>70</td>\n",
       "    </tr>\n",
       "    <tr>\n",
       "      <th>2</th>\n",
       "      <td>32817</td>\n",
       "      <td>958</td>\n",
       "      <td>False</td>\n",
       "      <td>NaN</td>\n",
       "      <td>NaN</td>\n",
       "      <td>6</td>\n",
       "      <td>0</td>\n",
       "      <td>0</td>\n",
       "      <td>NaN</td>\n",
       "      <td>NaN</td>\n",
       "      <td>...</td>\n",
       "      <td>False</td>\n",
       "      <td>6794.156444</td>\n",
       "      <td>7</td>\n",
       "      <td>NaN</td>\n",
       "      <td>27.416667</td>\n",
       "      <td>False</td>\n",
       "      <td>79</td>\n",
       "      <td>27.0</td>\n",
       "      <td>NaN</td>\n",
       "      <td>70</td>\n",
       "    </tr>\n",
       "    <tr>\n",
       "      <th>3</th>\n",
       "      <td>39968</td>\n",
       "      <td>869</td>\n",
       "      <td>False</td>\n",
       "      <td>NaN</td>\n",
       "      <td>NaN</td>\n",
       "      <td>6</td>\n",
       "      <td>0</td>\n",
       "      <td>0</td>\n",
       "      <td>NaN</td>\n",
       "      <td>NaN</td>\n",
       "      <td>...</td>\n",
       "      <td>False</td>\n",
       "      <td>5469.435481</td>\n",
       "      <td>7</td>\n",
       "      <td>NaN</td>\n",
       "      <td>37.833333</td>\n",
       "      <td>False</td>\n",
       "      <td>72</td>\n",
       "      <td>37.0</td>\n",
       "      <td>NaN</td>\n",
       "      <td>70</td>\n",
       "    </tr>\n",
       "    <tr>\n",
       "      <th>4</th>\n",
       "      <td>27121</td>\n",
       "      <td>1004</td>\n",
       "      <td>False</td>\n",
       "      <td>NaN</td>\n",
       "      <td>NaN</td>\n",
       "      <td>6</td>\n",
       "      <td>0</td>\n",
       "      <td>0</td>\n",
       "      <td>NaN</td>\n",
       "      <td>NaN</td>\n",
       "      <td>...</td>\n",
       "      <td>False</td>\n",
       "      <td>6544.538107</td>\n",
       "      <td>7</td>\n",
       "      <td>NaN</td>\n",
       "      <td>23.416667</td>\n",
       "      <td>False</td>\n",
       "      <td>83</td>\n",
       "      <td>23.0</td>\n",
       "      <td>NaN</td>\n",
       "      <td>80</td>\n",
       "    </tr>\n",
       "  </tbody>\n",
       "</table>\n",
       "<p>5 rows × 27 columns</p>\n",
       "</div>"
      ],
      "text/plain": [
       "   caseid  cmbirth  evrmarry  cmmarrhx  cmdivorcx  rmarital  parity  fmarno  \\\n",
       "0   34156      799     False       NaN        NaN         6       0       0   \n",
       "1   40081      925      True    1314.0        NaN         1       0       1   \n",
       "2   32817      958     False       NaN        NaN         6       0       0   \n",
       "3   39968      869     False       NaN        NaN         6       0       0   \n",
       "4   27121     1004     False       NaN        NaN         6       0       0   \n",
       "\n",
       "   mardat01  mardis01  ...  stillma      finalwgt  cycle   agemarry  \\\n",
       "0       NaN       NaN  ...    False   2571.376599      7        NaN   \n",
       "1    1314.0       NaN  ...     True  11716.317848      7  32.416667   \n",
       "2       NaN       NaN  ...    False   6794.156444      7        NaN   \n",
       "3       NaN       NaN  ...    False   5469.435481      7        NaN   \n",
       "4       NaN       NaN  ...    False   6544.538107      7        NaN   \n",
       "\n",
       "         age  missing  year  age_index  agemarry_index  birth_index  \n",
       "0  43.666667    False    66       43.0             NaN           60  \n",
       "1  33.166667    False    77       33.0            32.0           70  \n",
       "2  27.416667    False    79       27.0             NaN           70  \n",
       "3  37.833333    False    72       37.0             NaN           70  \n",
       "4  23.416667    False    83       23.0             NaN           80  \n",
       "\n",
       "[5 rows x 27 columns]"
      ]
     },
     "execution_count": 61,
     "metadata": {},
     "output_type": "execute_result"
    }
   ],
   "source": [
    "resp7.head()"
   ]
  },
  {
   "cell_type": "code",
   "execution_count": 62,
   "metadata": {},
   "outputs": [
    {
     "data": {
      "text/plain": [
       "(10705, 10725)"
      ]
     },
     "execution_count": 62,
     "metadata": {},
     "output_type": "execute_result"
    }
   ],
   "source": [
    "sum(resp7.cmdivorcx.isnull()), 10705+1+19"
   ]
  },
  {
   "cell_type": "code",
   "execution_count": 63,
   "metadata": {},
   "outputs": [
    {
     "data": {
      "text/plain": [
       "(1286, 1286)"
      ]
     },
     "execution_count": 63,
     "metadata": {},
     "output_type": "execute_result"
    }
   ],
   "source": [
    "sum((resp7.cmdivorcx >= 522) & (resp7.cmdivorcx <= 1278)), 1286"
   ]
  },
  {
   "cell_type": "code",
   "execution_count": 64,
   "metadata": {
    "scrolled": true
   },
   "outputs": [
    {
     "data": {
      "text/plain": [
       "(106, 106)"
      ]
     },
     "execution_count": 64,
     "metadata": {},
     "output_type": "execute_result"
    }
   ],
   "source": [
    "sum((resp7.cmdivorcx >= 1279) & (resp7.cmdivorcx <= 1290)), 106"
   ]
  },
  {
   "cell_type": "code",
   "execution_count": 65,
   "metadata": {
    "scrolled": true
   },
   "outputs": [
    {
     "data": {
      "text/plain": [
       "(112, 112)"
      ]
     },
     "execution_count": 65,
     "metadata": {},
     "output_type": "execute_result"
    }
   ],
   "source": [
    "sum((resp7.cmdivorcx >= 1291) & (resp7.cmdivorcx <= 1308)), 112"
   ]
  },
  {
   "cell_type": "code",
   "execution_count": 66,
   "metadata": {
    "scrolled": true
   },
   "outputs": [
    {
     "data": {
      "text/plain": [
       "(50, 50)"
      ]
     },
     "execution_count": 66,
     "metadata": {},
     "output_type": "execute_result"
    }
   ],
   "source": [
    "sum((resp7.cmdivorcx >= 1309) & (resp7.cmdivorcx <= 1326)), 50"
   ]
  },
  {
   "cell_type": "code",
   "execution_count": 67,
   "metadata": {},
   "outputs": [
    {
     "data": {
      "text/plain": [
       "1.0    1574\n",
       "2.0     405\n",
       "3.0      68\n",
       "Name: marend01, dtype: int64"
      ]
     },
     "execution_count": 67,
     "metadata": {},
     "output_type": "execute_result"
    }
   ],
   "source": [
    "resp7.marend01.value_counts().sort_index()"
   ]
  },
  {
   "cell_type": "code",
   "execution_count": 68,
   "metadata": {},
   "outputs": [
    {
     "data": {
      "text/plain": [
       "(1574, 0)"
      ]
     },
     "execution_count": 68,
     "metadata": {},
     "output_type": "execute_result"
    }
   ],
   "source": [
    "sum(resp7.divorced), sum(resp7.loc[resp7.divorced, 'mar1diss'].isnull())"
   ]
  },
  {
   "cell_type": "code",
   "execution_count": 69,
   "metadata": {},
   "outputs": [
    {
     "data": {
      "text/plain": [
       "(405, 0)"
      ]
     },
     "execution_count": 69,
     "metadata": {},
     "output_type": "execute_result"
    }
   ],
   "source": [
    "sum(resp7.separated), sum(resp7.loc[resp7.separated, 'mar1diss'].isnull())"
   ]
  },
  {
   "cell_type": "code",
   "execution_count": 70,
   "metadata": {},
   "outputs": [
    {
     "data": {
      "text/plain": [
       "(68, 0)"
      ]
     },
     "execution_count": 70,
     "metadata": {},
     "output_type": "execute_result"
    }
   ],
   "source": [
    "sum(resp7.widowed), sum(resp7.loc[resp7.widowed, 'mar1diss'].isnull())"
   ]
  },
  {
   "cell_type": "code",
   "execution_count": 71,
   "metadata": {},
   "outputs": [
    {
     "data": {
      "text/plain": [
       "(3487, 0)"
      ]
     },
     "execution_count": 71,
     "metadata": {},
     "output_type": "execute_result"
    }
   ],
   "source": [
    "sum(resp7.stillma), sum(resp7.loc[resp7.stillma, 'mar1diss'].isnull())"
   ]
  },
  {
   "cell_type": "code",
   "execution_count": 72,
   "metadata": {
    "scrolled": true
   },
   "outputs": [
    {
     "data": {
      "text/plain": [
       "(5534, 5534)"
      ]
     },
     "execution_count": 72,
     "metadata": {},
     "output_type": "execute_result"
    }
   ],
   "source": [
    "sum(resp7.evrmarry), 1574+405+68+3487"
   ]
  },
  {
   "cell_type": "markdown",
   "metadata": {},
   "source": [
    "Validating the 2013 data:"
   ]
  },
  {
   "cell_type": "code",
   "execution_count": 73,
   "metadata": {},
   "outputs": [
    {
     "data": {
      "text/plain": [
       "(5601, 27)"
      ]
     },
     "execution_count": 73,
     "metadata": {},
     "output_type": "execute_result"
    }
   ],
   "source": [
    "resp8 = marriage.ReadFemResp2013()\n",
    "marriage.Validate2013(resp8)\n",
    "resp8.shape"
   ]
  },
  {
   "cell_type": "code",
   "execution_count": 74,
   "metadata": {},
   "outputs": [
    {
     "data": {
      "text/html": [
       "<div>\n",
       "<style scoped>\n",
       "    .dataframe tbody tr th:only-of-type {\n",
       "        vertical-align: middle;\n",
       "    }\n",
       "\n",
       "    .dataframe tbody tr th {\n",
       "        vertical-align: top;\n",
       "    }\n",
       "\n",
       "    .dataframe thead th {\n",
       "        text-align: right;\n",
       "    }\n",
       "</style>\n",
       "<table border=\"1\" class=\"dataframe\">\n",
       "  <thead>\n",
       "    <tr style=\"text-align: right;\">\n",
       "      <th></th>\n",
       "      <th>caseid</th>\n",
       "      <th>cmbirth</th>\n",
       "      <th>evrmarry</th>\n",
       "      <th>cmmarrhx</th>\n",
       "      <th>cmdivorcx</th>\n",
       "      <th>rmarital</th>\n",
       "      <th>parity</th>\n",
       "      <th>fmarno</th>\n",
       "      <th>mardat01</th>\n",
       "      <th>mardis01</th>\n",
       "      <th>...</th>\n",
       "      <th>stillma</th>\n",
       "      <th>finalwgt</th>\n",
       "      <th>cycle</th>\n",
       "      <th>agemarry</th>\n",
       "      <th>age</th>\n",
       "      <th>missing</th>\n",
       "      <th>year</th>\n",
       "      <th>age_index</th>\n",
       "      <th>agemarry_index</th>\n",
       "      <th>birth_index</th>\n",
       "    </tr>\n",
       "  </thead>\n",
       "  <tbody>\n",
       "    <tr>\n",
       "      <th>0</th>\n",
       "      <td>50002</td>\n",
       "      <td>922</td>\n",
       "      <td>True</td>\n",
       "      <td>1303.0</td>\n",
       "      <td>NaN</td>\n",
       "      <td>5</td>\n",
       "      <td>1</td>\n",
       "      <td>1</td>\n",
       "      <td>1303.0</td>\n",
       "      <td>1353.0</td>\n",
       "      <td>...</td>\n",
       "      <td>False</td>\n",
       "      <td>1973.648419</td>\n",
       "      <td>8</td>\n",
       "      <td>31.750000</td>\n",
       "      <td>36.250000</td>\n",
       "      <td>False</td>\n",
       "      <td>76</td>\n",
       "      <td>36.0</td>\n",
       "      <td>31.0</td>\n",
       "      <td>70</td>\n",
       "    </tr>\n",
       "    <tr>\n",
       "      <th>1</th>\n",
       "      <td>50004</td>\n",
       "      <td>986</td>\n",
       "      <td>True</td>\n",
       "      <td>1215.0</td>\n",
       "      <td>1243.0</td>\n",
       "      <td>5</td>\n",
       "      <td>0</td>\n",
       "      <td>2</td>\n",
       "      <td>1215.0</td>\n",
       "      <td>1219.0</td>\n",
       "      <td>...</td>\n",
       "      <td>False</td>\n",
       "      <td>2584.350089</td>\n",
       "      <td>8</td>\n",
       "      <td>19.083333</td>\n",
       "      <td>29.750000</td>\n",
       "      <td>False</td>\n",
       "      <td>82</td>\n",
       "      <td>29.0</td>\n",
       "      <td>19.0</td>\n",
       "      <td>80</td>\n",
       "    </tr>\n",
       "    <tr>\n",
       "      <th>2</th>\n",
       "      <td>50005</td>\n",
       "      <td>1001</td>\n",
       "      <td>False</td>\n",
       "      <td>NaN</td>\n",
       "      <td>NaN</td>\n",
       "      <td>2</td>\n",
       "      <td>1</td>\n",
       "      <td>0</td>\n",
       "      <td>NaN</td>\n",
       "      <td>NaN</td>\n",
       "      <td>...</td>\n",
       "      <td>False</td>\n",
       "      <td>6533.272794</td>\n",
       "      <td>8</td>\n",
       "      <td>NaN</td>\n",
       "      <td>30.000000</td>\n",
       "      <td>False</td>\n",
       "      <td>83</td>\n",
       "      <td>30.0</td>\n",
       "      <td>NaN</td>\n",
       "      <td>80</td>\n",
       "    </tr>\n",
       "    <tr>\n",
       "      <th>3</th>\n",
       "      <td>50008</td>\n",
       "      <td>834</td>\n",
       "      <td>False</td>\n",
       "      <td>NaN</td>\n",
       "      <td>NaN</td>\n",
       "      <td>6</td>\n",
       "      <td>3</td>\n",
       "      <td>0</td>\n",
       "      <td>NaN</td>\n",
       "      <td>NaN</td>\n",
       "      <td>...</td>\n",
       "      <td>False</td>\n",
       "      <td>2543.439624</td>\n",
       "      <td>8</td>\n",
       "      <td>NaN</td>\n",
       "      <td>43.333333</td>\n",
       "      <td>False</td>\n",
       "      <td>69</td>\n",
       "      <td>43.0</td>\n",
       "      <td>NaN</td>\n",
       "      <td>60</td>\n",
       "    </tr>\n",
       "    <tr>\n",
       "      <th>4</th>\n",
       "      <td>50013</td>\n",
       "      <td>1127</td>\n",
       "      <td>False</td>\n",
       "      <td>NaN</td>\n",
       "      <td>NaN</td>\n",
       "      <td>6</td>\n",
       "      <td>0</td>\n",
       "      <td>0</td>\n",
       "      <td>NaN</td>\n",
       "      <td>NaN</td>\n",
       "      <td>...</td>\n",
       "      <td>False</td>\n",
       "      <td>6283.773455</td>\n",
       "      <td>8</td>\n",
       "      <td>NaN</td>\n",
       "      <td>19.750000</td>\n",
       "      <td>False</td>\n",
       "      <td>93</td>\n",
       "      <td>19.0</td>\n",
       "      <td>NaN</td>\n",
       "      <td>90</td>\n",
       "    </tr>\n",
       "  </tbody>\n",
       "</table>\n",
       "<p>5 rows × 27 columns</p>\n",
       "</div>"
      ],
      "text/plain": [
       "   caseid  cmbirth  evrmarry  cmmarrhx  cmdivorcx  rmarital  parity  fmarno  \\\n",
       "0   50002      922      True    1303.0        NaN         5       1       1   \n",
       "1   50004      986      True    1215.0     1243.0         5       0       2   \n",
       "2   50005     1001     False       NaN        NaN         2       1       0   \n",
       "3   50008      834     False       NaN        NaN         6       3       0   \n",
       "4   50013     1127     False       NaN        NaN         6       0       0   \n",
       "\n",
       "   mardat01  mardis01  ...  stillma     finalwgt  cycle   agemarry        age  \\\n",
       "0    1303.0    1353.0  ...    False  1973.648419      8  31.750000  36.250000   \n",
       "1    1215.0    1219.0  ...    False  2584.350089      8  19.083333  29.750000   \n",
       "2       NaN       NaN  ...    False  6533.272794      8        NaN  30.000000   \n",
       "3       NaN       NaN  ...    False  2543.439624      8        NaN  43.333333   \n",
       "4       NaN       NaN  ...    False  6283.773455      8        NaN  19.750000   \n",
       "\n",
       "   missing  year  age_index  agemarry_index  birth_index  \n",
       "0    False    76       36.0            31.0           70  \n",
       "1    False    82       29.0            19.0           80  \n",
       "2    False    83       30.0             NaN           80  \n",
       "3    False    69       43.0             NaN           60  \n",
       "4    False    93       19.0             NaN           90  \n",
       "\n",
       "[5 rows x 27 columns]"
      ]
     },
     "execution_count": 74,
     "metadata": {},
     "output_type": "execute_result"
    }
   ],
   "source": [
    "resp8.head()"
   ]
  },
  {
   "cell_type": "code",
   "execution_count": 75,
   "metadata": {},
   "outputs": [
    {
     "data": {
      "text/plain": [
       "(4851, 4877)"
      ]
     },
     "execution_count": 75,
     "metadata": {},
     "output_type": "execute_result"
    }
   ],
   "source": [
    "sum(resp8.cmdivorcx.isnull()), 4851+2+24"
   ]
  },
  {
   "cell_type": "code",
   "execution_count": 76,
   "metadata": {},
   "outputs": [
    {
     "data": {
      "text/plain": [
       "(658, 658)"
      ]
     },
     "execution_count": 76,
     "metadata": {},
     "output_type": "execute_result"
    }
   ],
   "source": [
    "sum((resp8.cmdivorcx >= 380) & (resp8.cmdivorcx <= 1340)), 658"
   ]
  },
  {
   "cell_type": "code",
   "execution_count": 77,
   "metadata": {
    "scrolled": true
   },
   "outputs": [
    {
     "data": {
      "text/plain": [
       "(48, 48)"
      ]
     },
     "execution_count": 77,
     "metadata": {},
     "output_type": "execute_result"
    }
   ],
   "source": [
    "sum((resp8.cmdivorcx >= 1341) & (resp8.cmdivorcx <= 1352)), 48"
   ]
  },
  {
   "cell_type": "code",
   "execution_count": 78,
   "metadata": {
    "scrolled": true
   },
   "outputs": [
    {
     "data": {
      "text/plain": [
       "(18, 18)"
      ]
     },
     "execution_count": 78,
     "metadata": {},
     "output_type": "execute_result"
    }
   ],
   "source": [
    "sum((resp8.cmdivorcx >= 1353) & (resp8.cmdivorcx <= 1365)), 18"
   ]
  },
  {
   "cell_type": "code",
   "execution_count": 79,
   "metadata": {},
   "outputs": [
    {
     "data": {
      "text/plain": [
       "1.0    755\n",
       "2.0    214\n",
       "3.0     26\n",
       "Name: marend01, dtype: int64"
      ]
     },
     "execution_count": 79,
     "metadata": {},
     "output_type": "execute_result"
    }
   ],
   "source": [
    "resp8.marend01.value_counts().sort_index()"
   ]
  },
  {
   "cell_type": "code",
   "execution_count": 80,
   "metadata": {},
   "outputs": [
    {
     "data": {
      "text/plain": [
       "(755, 0)"
      ]
     },
     "execution_count": 80,
     "metadata": {},
     "output_type": "execute_result"
    }
   ],
   "source": [
    "sum(resp8.divorced), sum(resp8.loc[resp8.divorced, 'mar1diss'].isnull())"
   ]
  },
  {
   "cell_type": "code",
   "execution_count": 81,
   "metadata": {},
   "outputs": [
    {
     "data": {
      "text/plain": [
       "(214, 0)"
      ]
     },
     "execution_count": 81,
     "metadata": {},
     "output_type": "execute_result"
    }
   ],
   "source": [
    "sum(resp8.separated), sum(resp8.loc[resp8.separated, 'mar1diss'].isnull())"
   ]
  },
  {
   "cell_type": "code",
   "execution_count": 82,
   "metadata": {},
   "outputs": [
    {
     "data": {
      "text/plain": [
       "(26, 0)"
      ]
     },
     "execution_count": 82,
     "metadata": {},
     "output_type": "execute_result"
    }
   ],
   "source": [
    "sum(resp8.widowed), sum(resp8.loc[resp8.widowed, 'mar1diss'].isnull())"
   ]
  },
  {
   "cell_type": "code",
   "execution_count": 83,
   "metadata": {},
   "outputs": [
    {
     "data": {
      "text/plain": [
       "(1457, 0)"
      ]
     },
     "execution_count": 83,
     "metadata": {},
     "output_type": "execute_result"
    }
   ],
   "source": [
    "sum(resp8.stillma), sum(resp8.loc[resp8.stillma, 'mar1diss'].isnull())"
   ]
  },
  {
   "cell_type": "code",
   "execution_count": 84,
   "metadata": {
    "scrolled": true
   },
   "outputs": [
    {
     "data": {
      "text/plain": [
       "(2452, 2452)"
      ]
     },
     "execution_count": 84,
     "metadata": {},
     "output_type": "execute_result"
    }
   ],
   "source": [
    "sum(resp8.evrmarry), 755+214+26+1457"
   ]
  },
  {
   "cell_type": "markdown",
   "metadata": {},
   "source": [
    "Validating the 2015 data:"
   ]
  },
  {
   "cell_type": "code",
   "execution_count": 85,
   "metadata": {},
   "outputs": [
    {
     "data": {
      "text/plain": [
       "(5699, 27)"
      ]
     },
     "execution_count": 85,
     "metadata": {},
     "output_type": "execute_result"
    }
   ],
   "source": [
    "resp9 = marriage.ReadFemResp2015()\n",
    "marriage.Validate2015(resp9)\n",
    "resp9.shape"
   ]
  },
  {
   "cell_type": "code",
   "execution_count": 86,
   "metadata": {},
   "outputs": [
    {
     "data": {
      "text/html": [
       "<div>\n",
       "<style scoped>\n",
       "    .dataframe tbody tr th:only-of-type {\n",
       "        vertical-align: middle;\n",
       "    }\n",
       "\n",
       "    .dataframe tbody tr th {\n",
       "        vertical-align: top;\n",
       "    }\n",
       "\n",
       "    .dataframe thead th {\n",
       "        text-align: right;\n",
       "    }\n",
       "</style>\n",
       "<table border=\"1\" class=\"dataframe\">\n",
       "  <thead>\n",
       "    <tr style=\"text-align: right;\">\n",
       "      <th></th>\n",
       "      <th>caseid</th>\n",
       "      <th>cmbirth</th>\n",
       "      <th>evrmarry</th>\n",
       "      <th>cmmarrhx</th>\n",
       "      <th>cmdivorcx</th>\n",
       "      <th>rmarital</th>\n",
       "      <th>parity</th>\n",
       "      <th>fmarno</th>\n",
       "      <th>mardat01</th>\n",
       "      <th>mardis01</th>\n",
       "      <th>...</th>\n",
       "      <th>stillma</th>\n",
       "      <th>finalwgt</th>\n",
       "      <th>cycle</th>\n",
       "      <th>agemarry</th>\n",
       "      <th>age</th>\n",
       "      <th>missing</th>\n",
       "      <th>year</th>\n",
       "      <th>age_index</th>\n",
       "      <th>agemarry_index</th>\n",
       "      <th>birth_index</th>\n",
       "    </tr>\n",
       "  </thead>\n",
       "  <tbody>\n",
       "    <tr>\n",
       "      <th>0</th>\n",
       "      <td>60418</td>\n",
       "      <td>921</td>\n",
       "      <td>True</td>\n",
       "      <td>1159.0</td>\n",
       "      <td>1269.0</td>\n",
       "      <td>2</td>\n",
       "      <td>3</td>\n",
       "      <td>1</td>\n",
       "      <td>1159.0</td>\n",
       "      <td>1258.0</td>\n",
       "      <td>...</td>\n",
       "      <td>False</td>\n",
       "      <td>3554.964843</td>\n",
       "      <td>9</td>\n",
       "      <td>19.833333</td>\n",
       "      <td>38.333333</td>\n",
       "      <td>False</td>\n",
       "      <td>76</td>\n",
       "      <td>38.0</td>\n",
       "      <td>19.0</td>\n",
       "      <td>70</td>\n",
       "    </tr>\n",
       "    <tr>\n",
       "      <th>1</th>\n",
       "      <td>60419</td>\n",
       "      <td>942</td>\n",
       "      <td>True</td>\n",
       "      <td>1207.0</td>\n",
       "      <td>1253.0</td>\n",
       "      <td>2</td>\n",
       "      <td>0</td>\n",
       "      <td>1</td>\n",
       "      <td>1207.0</td>\n",
       "      <td>1253.0</td>\n",
       "      <td>...</td>\n",
       "      <td>False</td>\n",
       "      <td>2484.535358</td>\n",
       "      <td>9</td>\n",
       "      <td>22.083333</td>\n",
       "      <td>37.166667</td>\n",
       "      <td>False</td>\n",
       "      <td>78</td>\n",
       "      <td>37.0</td>\n",
       "      <td>22.0</td>\n",
       "      <td>70</td>\n",
       "    </tr>\n",
       "    <tr>\n",
       "      <th>2</th>\n",
       "      <td>60420</td>\n",
       "      <td>981</td>\n",
       "      <td>False</td>\n",
       "      <td>NaN</td>\n",
       "      <td>NaN</td>\n",
       "      <td>6</td>\n",
       "      <td>1</td>\n",
       "      <td>0</td>\n",
       "      <td>NaN</td>\n",
       "      <td>NaN</td>\n",
       "      <td>...</td>\n",
       "      <td>False</td>\n",
       "      <td>2903.782914</td>\n",
       "      <td>9</td>\n",
       "      <td>NaN</td>\n",
       "      <td>33.916667</td>\n",
       "      <td>False</td>\n",
       "      <td>81</td>\n",
       "      <td>33.0</td>\n",
       "      <td>NaN</td>\n",
       "      <td>80</td>\n",
       "    </tr>\n",
       "    <tr>\n",
       "      <th>3</th>\n",
       "      <td>60423</td>\n",
       "      <td>1010</td>\n",
       "      <td>False</td>\n",
       "      <td>NaN</td>\n",
       "      <td>NaN</td>\n",
       "      <td>6</td>\n",
       "      <td>2</td>\n",
       "      <td>0</td>\n",
       "      <td>NaN</td>\n",
       "      <td>NaN</td>\n",
       "      <td>...</td>\n",
       "      <td>False</td>\n",
       "      <td>2738.498331</td>\n",
       "      <td>9</td>\n",
       "      <td>NaN</td>\n",
       "      <td>31.416667</td>\n",
       "      <td>False</td>\n",
       "      <td>84</td>\n",
       "      <td>31.0</td>\n",
       "      <td>NaN</td>\n",
       "      <td>80</td>\n",
       "    </tr>\n",
       "    <tr>\n",
       "      <th>4</th>\n",
       "      <td>60426</td>\n",
       "      <td>897</td>\n",
       "      <td>True</td>\n",
       "      <td>1256.0</td>\n",
       "      <td>NaN</td>\n",
       "      <td>1</td>\n",
       "      <td>1</td>\n",
       "      <td>1</td>\n",
       "      <td>1256.0</td>\n",
       "      <td>NaN</td>\n",
       "      <td>...</td>\n",
       "      <td>True</td>\n",
       "      <td>9682.211381</td>\n",
       "      <td>9</td>\n",
       "      <td>29.916667</td>\n",
       "      <td>39.250000</td>\n",
       "      <td>False</td>\n",
       "      <td>74</td>\n",
       "      <td>39.0</td>\n",
       "      <td>29.0</td>\n",
       "      <td>70</td>\n",
       "    </tr>\n",
       "  </tbody>\n",
       "</table>\n",
       "<p>5 rows × 27 columns</p>\n",
       "</div>"
      ],
      "text/plain": [
       "   caseid  cmbirth  evrmarry  cmmarrhx  cmdivorcx  rmarital  parity  fmarno  \\\n",
       "0   60418      921      True    1159.0     1269.0         2       3       1   \n",
       "1   60419      942      True    1207.0     1253.0         2       0       1   \n",
       "2   60420      981     False       NaN        NaN         6       1       0   \n",
       "3   60423     1010     False       NaN        NaN         6       2       0   \n",
       "4   60426      897      True    1256.0        NaN         1       1       1   \n",
       "\n",
       "   mardat01  mardis01  ...  stillma     finalwgt  cycle   agemarry        age  \\\n",
       "0    1159.0    1258.0  ...    False  3554.964843      9  19.833333  38.333333   \n",
       "1    1207.0    1253.0  ...    False  2484.535358      9  22.083333  37.166667   \n",
       "2       NaN       NaN  ...    False  2903.782914      9        NaN  33.916667   \n",
       "3       NaN       NaN  ...    False  2738.498331      9        NaN  31.416667   \n",
       "4    1256.0       NaN  ...     True  9682.211381      9  29.916667  39.250000   \n",
       "\n",
       "   missing  year  age_index  agemarry_index  birth_index  \n",
       "0    False    76       38.0            19.0           70  \n",
       "1    False    78       37.0            22.0           70  \n",
       "2    False    81       33.0             NaN           80  \n",
       "3    False    84       31.0             NaN           80  \n",
       "4    False    74       39.0            29.0           70  \n",
       "\n",
       "[5 rows x 27 columns]"
      ]
     },
     "execution_count": 86,
     "metadata": {},
     "output_type": "execute_result"
    }
   ],
   "source": [
    "resp9.head()"
   ]
  },
  {
   "cell_type": "code",
   "execution_count": 87,
   "metadata": {},
   "outputs": [
    {
     "data": {
      "text/plain": [
       "(4946, 4967)"
      ]
     },
     "execution_count": 87,
     "metadata": {},
     "output_type": "execute_result"
    }
   ],
   "source": [
    "sum(resp9.cmdivorcx.isnull()), 4946+3+18"
   ]
  },
  {
   "cell_type": "code",
   "execution_count": 88,
   "metadata": {},
   "outputs": [
    {
     "data": {
      "text/plain": [
       "(563, 563)"
      ]
     },
     "execution_count": 88,
     "metadata": {},
     "output_type": "execute_result"
    }
   ],
   "source": [
    "sum((resp9.cmdivorcx >= 378) & (resp9.cmdivorcx <= 1340)), 563"
   ]
  },
  {
   "cell_type": "code",
   "execution_count": 89,
   "metadata": {
    "scrolled": true
   },
   "outputs": [
    {
     "data": {
      "text/plain": [
       "(56, 56)"
      ]
     },
     "execution_count": 89,
     "metadata": {},
     "output_type": "execute_result"
    }
   ],
   "source": [
    "sum((resp9.cmdivorcx >= 1341) & (resp9.cmdivorcx <= 1352)), 56"
   ]
  },
  {
   "cell_type": "code",
   "execution_count": 90,
   "metadata": {
    "scrolled": true
   },
   "outputs": [
    {
     "data": {
      "text/plain": [
       "(48, 48)"
      ]
     },
     "execution_count": 90,
     "metadata": {},
     "output_type": "execute_result"
    }
   ],
   "source": [
    "sum((resp9.cmdivorcx >= 1353) & (resp9.cmdivorcx <= 1364)), 48"
   ]
  },
  {
   "cell_type": "code",
   "execution_count": 91,
   "metadata": {
    "scrolled": true
   },
   "outputs": [
    {
     "data": {
      "text/plain": [
       "(46, 46)"
      ]
     },
     "execution_count": 91,
     "metadata": {},
     "output_type": "execute_result"
    }
   ],
   "source": [
    "sum((resp9.cmdivorcx >= 1365) & (resp9.cmdivorcx <= 1376)), 46"
   ]
  },
  {
   "cell_type": "code",
   "execution_count": 92,
   "metadata": {
    "scrolled": true
   },
   "outputs": [
    {
     "data": {
      "text/plain": [
       "(19, 19)"
      ]
     },
     "execution_count": 92,
     "metadata": {},
     "output_type": "execute_result"
    }
   ],
   "source": [
    "sum((resp9.cmdivorcx >= 1377) & (resp9.cmdivorcx <= 1389)), 19"
   ]
  },
  {
   "cell_type": "code",
   "execution_count": 93,
   "metadata": {},
   "outputs": [
    {
     "data": {
      "text/plain": [
       "1.0    756\n",
       "2.0    169\n",
       "3.0     28\n",
       "Name: marend01, dtype: int64"
      ]
     },
     "execution_count": 93,
     "metadata": {},
     "output_type": "execute_result"
    }
   ],
   "source": [
    "resp9.marend01.value_counts().sort_index()"
   ]
  },
  {
   "cell_type": "code",
   "execution_count": 94,
   "metadata": {},
   "outputs": [
    {
     "data": {
      "text/plain": [
       "(756, 0)"
      ]
     },
     "execution_count": 94,
     "metadata": {},
     "output_type": "execute_result"
    }
   ],
   "source": [
    "sum(resp9.divorced), sum(resp9.loc[resp9.divorced, 'mar1diss'].isnull())"
   ]
  },
  {
   "cell_type": "code",
   "execution_count": 95,
   "metadata": {},
   "outputs": [
    {
     "data": {
      "text/plain": [
       "(169, 0)"
      ]
     },
     "execution_count": 95,
     "metadata": {},
     "output_type": "execute_result"
    }
   ],
   "source": [
    "sum(resp9.separated), sum(resp9.loc[resp9.separated, 'mar1diss'].isnull())"
   ]
  },
  {
   "cell_type": "code",
   "execution_count": 96,
   "metadata": {},
   "outputs": [
    {
     "data": {
      "text/plain": [
       "(28, 0)"
      ]
     },
     "execution_count": 96,
     "metadata": {},
     "output_type": "execute_result"
    }
   ],
   "source": [
    "sum(resp9.widowed), sum(resp9.loc[resp9.widowed, 'mar1diss'].isnull())"
   ]
  },
  {
   "cell_type": "code",
   "execution_count": 97,
   "metadata": {},
   "outputs": [
    {
     "data": {
      "text/plain": [
       "(1448, 0)"
      ]
     },
     "execution_count": 97,
     "metadata": {},
     "output_type": "execute_result"
    }
   ],
   "source": [
    "sum(resp9.stillma), sum(resp9.loc[resp9.stillma, 'mar1diss'].isnull())"
   ]
  },
  {
   "cell_type": "code",
   "execution_count": 98,
   "metadata": {
    "scrolled": true
   },
   "outputs": [
    {
     "data": {
      "text/plain": [
       "(2401, 2401)"
      ]
     },
     "execution_count": 98,
     "metadata": {},
     "output_type": "execute_result"
    }
   ],
   "source": [
    "sum(resp9.evrmarry), 756+169+28+1448"
   ]
  },
  {
   "cell_type": "markdown",
   "metadata": {
    "collapsed": true
   },
   "source": [
    "Validating 2017 data for marriage analysis"
   ]
  },
  {
   "cell_type": "code",
   "execution_count": 99,
   "metadata": {},
   "outputs": [],
   "source": [
    "resp10 = marriage.ReadFemResp2017()\n",
    "marriage.Validate2017(resp10)"
   ]
  },
  {
   "cell_type": "code",
   "execution_count": 100,
   "metadata": {},
   "outputs": [
    {
     "data": {
      "text/plain": [
       "(5554, 27)"
      ]
     },
     "execution_count": 100,
     "metadata": {},
     "output_type": "execute_result"
    }
   ],
   "source": [
    "resp10.shape"
   ]
  },
  {
   "cell_type": "code",
   "execution_count": 101,
   "metadata": {},
   "outputs": [
    {
     "data": {
      "text/plain": [
       "2582"
      ]
     },
     "execution_count": 101,
     "metadata": {},
     "output_type": "execute_result"
    }
   ],
   "source": [
    "sum(resp10.evrmarry)"
   ]
  },
  {
   "cell_type": "code",
   "execution_count": 102,
   "metadata": {},
   "outputs": [
    {
     "data": {
      "text/plain": [
       "29"
      ]
     },
     "execution_count": 102,
     "metadata": {},
     "output_type": "execute_result"
    }
   ],
   "source": [
    "resp10.agemarry.value_counts().max()"
   ]
  },
  {
   "cell_type": "code",
   "execution_count": 103,
   "metadata": {},
   "outputs": [
    {
     "data": {
      "text/html": [
       "<div>\n",
       "<style scoped>\n",
       "    .dataframe tbody tr th:only-of-type {\n",
       "        vertical-align: middle;\n",
       "    }\n",
       "\n",
       "    .dataframe tbody tr th {\n",
       "        vertical-align: top;\n",
       "    }\n",
       "\n",
       "    .dataframe thead th {\n",
       "        text-align: right;\n",
       "    }\n",
       "</style>\n",
       "<table border=\"1\" class=\"dataframe\">\n",
       "  <thead>\n",
       "    <tr style=\"text-align: right;\">\n",
       "      <th></th>\n",
       "      <th>caseid</th>\n",
       "      <th>evrmarry</th>\n",
       "      <th>ager</th>\n",
       "      <th>rmarital</th>\n",
       "      <th>parity</th>\n",
       "      <th>fmarno</th>\n",
       "      <th>mardat01</th>\n",
       "      <th>mardis01</th>\n",
       "      <th>marend01</th>\n",
       "      <th>mar1diss</th>\n",
       "      <th>...</th>\n",
       "      <th>stillma</th>\n",
       "      <th>finalwgt</th>\n",
       "      <th>cycle</th>\n",
       "      <th>agemarry</th>\n",
       "      <th>age</th>\n",
       "      <th>missing</th>\n",
       "      <th>year</th>\n",
       "      <th>age_index</th>\n",
       "      <th>agemarry_index</th>\n",
       "      <th>birth_index</th>\n",
       "    </tr>\n",
       "  </thead>\n",
       "  <tbody>\n",
       "    <tr>\n",
       "      <th>0</th>\n",
       "      <td>70623</td>\n",
       "      <td>False</td>\n",
       "      <td>16</td>\n",
       "      <td>6</td>\n",
       "      <td>0</td>\n",
       "      <td>0</td>\n",
       "      <td>NaN</td>\n",
       "      <td>NaN</td>\n",
       "      <td>NaN</td>\n",
       "      <td>NaN</td>\n",
       "      <td>...</td>\n",
       "      <td>False</td>\n",
       "      <td>3631.827872</td>\n",
       "      <td>10</td>\n",
       "      <td>NaN</td>\n",
       "      <td>16.0</td>\n",
       "      <td>False</td>\n",
       "      <td>99</td>\n",
       "      <td>16.0</td>\n",
       "      <td>NaN</td>\n",
       "      <td>90</td>\n",
       "    </tr>\n",
       "    <tr>\n",
       "      <th>1</th>\n",
       "      <td>70624</td>\n",
       "      <td>True</td>\n",
       "      <td>40</td>\n",
       "      <td>4</td>\n",
       "      <td>0</td>\n",
       "      <td>1</td>\n",
       "      <td>2004.0</td>\n",
       "      <td>2007.0</td>\n",
       "      <td>1.0</td>\n",
       "      <td>3.0</td>\n",
       "      <td>...</td>\n",
       "      <td>False</td>\n",
       "      <td>18827.876206</td>\n",
       "      <td>10</td>\n",
       "      <td>27.833333</td>\n",
       "      <td>40.0</td>\n",
       "      <td>False</td>\n",
       "      <td>76</td>\n",
       "      <td>40.0</td>\n",
       "      <td>27.0</td>\n",
       "      <td>70</td>\n",
       "    </tr>\n",
       "    <tr>\n",
       "      <th>2</th>\n",
       "      <td>70625</td>\n",
       "      <td>False</td>\n",
       "      <td>15</td>\n",
       "      <td>6</td>\n",
       "      <td>0</td>\n",
       "      <td>0</td>\n",
       "      <td>NaN</td>\n",
       "      <td>NaN</td>\n",
       "      <td>NaN</td>\n",
       "      <td>NaN</td>\n",
       "      <td>...</td>\n",
       "      <td>False</td>\n",
       "      <td>3354.443830</td>\n",
       "      <td>10</td>\n",
       "      <td>NaN</td>\n",
       "      <td>15.0</td>\n",
       "      <td>False</td>\n",
       "      <td>101</td>\n",
       "      <td>15.0</td>\n",
       "      <td>NaN</td>\n",
       "      <td>100</td>\n",
       "    </tr>\n",
       "    <tr>\n",
       "      <th>3</th>\n",
       "      <td>70627</td>\n",
       "      <td>True</td>\n",
       "      <td>35</td>\n",
       "      <td>1</td>\n",
       "      <td>2</td>\n",
       "      <td>1</td>\n",
       "      <td>2008.0</td>\n",
       "      <td>NaN</td>\n",
       "      <td>NaN</td>\n",
       "      <td>5.0</td>\n",
       "      <td>...</td>\n",
       "      <td>True</td>\n",
       "      <td>19877.457610</td>\n",
       "      <td>10</td>\n",
       "      <td>26.833333</td>\n",
       "      <td>35.0</td>\n",
       "      <td>False</td>\n",
       "      <td>81</td>\n",
       "      <td>35.0</td>\n",
       "      <td>26.0</td>\n",
       "      <td>80</td>\n",
       "    </tr>\n",
       "    <tr>\n",
       "      <th>4</th>\n",
       "      <td>70628</td>\n",
       "      <td>True</td>\n",
       "      <td>28</td>\n",
       "      <td>1</td>\n",
       "      <td>3</td>\n",
       "      <td>1</td>\n",
       "      <td>2010.0</td>\n",
       "      <td>NaN</td>\n",
       "      <td>NaN</td>\n",
       "      <td>5.0</td>\n",
       "      <td>...</td>\n",
       "      <td>True</td>\n",
       "      <td>4221.017695</td>\n",
       "      <td>10</td>\n",
       "      <td>20.583333</td>\n",
       "      <td>28.0</td>\n",
       "      <td>False</td>\n",
       "      <td>89</td>\n",
       "      <td>28.0</td>\n",
       "      <td>20.0</td>\n",
       "      <td>80</td>\n",
       "    </tr>\n",
       "  </tbody>\n",
       "</table>\n",
       "<p>5 rows × 27 columns</p>\n",
       "</div>"
      ],
      "text/plain": [
       "   caseid  evrmarry  ager  rmarital  parity  fmarno  mardat01  mardis01  \\\n",
       "0   70623     False    16         6       0       0       NaN       NaN   \n",
       "1   70624      True    40         4       0       1    2004.0    2007.0   \n",
       "2   70625     False    15         6       0       0       NaN       NaN   \n",
       "3   70627      True    35         1       2       1    2008.0       NaN   \n",
       "4   70628      True    28         1       3       1    2010.0       NaN   \n",
       "\n",
       "   marend01  mar1diss  ...  stillma      finalwgt  cycle   agemarry   age  \\\n",
       "0       NaN       NaN  ...    False   3631.827872     10        NaN  16.0   \n",
       "1       1.0       3.0  ...    False  18827.876206     10  27.833333  40.0   \n",
       "2       NaN       NaN  ...    False   3354.443830     10        NaN  15.0   \n",
       "3       NaN       5.0  ...     True  19877.457610     10  26.833333  35.0   \n",
       "4       NaN       5.0  ...     True   4221.017695     10  20.583333  28.0   \n",
       "\n",
       "   missing  year  age_index  agemarry_index  birth_index  \n",
       "0    False    99       16.0             NaN           90  \n",
       "1    False    76       40.0            27.0           70  \n",
       "2    False   101       15.0             NaN          100  \n",
       "3    False    81       35.0            26.0           80  \n",
       "4    False    89       28.0            20.0           80  \n",
       "\n",
       "[5 rows x 27 columns]"
      ]
     },
     "execution_count": 103,
     "metadata": {},
     "output_type": "execute_result"
    }
   ],
   "source": [
    "resp10.head()"
   ]
  },
  {
   "cell_type": "code",
   "execution_count": 104,
   "metadata": {},
   "outputs": [
    {
     "data": {
      "image/png": "[encoded data removed]",
      "text/plain": [
       "<Figure size 432x288 with 1 Axes>"
      ]
     },
     "metadata": {
      "needs_background": "light"
     },
     "output_type": "display_data"
    }
   ],
   "source": [
    "thinkplot.Cdf(Cdf(resp10.age))\n",
    "thinkplot.Config(xlabel='Age', ylabel='CDF')"
   ]
  },
  {
   "cell_type": "code",
   "execution_count": 105,
   "metadata": {},
   "outputs": [
    {
     "data": {
      "image/png": "[encoded data removed]",
      "text/plain": [
       "<Figure size 432x288 with 1 Axes>"
      ]
     },
     "metadata": {
      "needs_background": "light"
     },
     "output_type": "display_data"
    }
   ],
   "source": [
    "thinkplot.Cdf(Cdf(resp10.agemarry))\n",
    "thinkplot.Config(xlabel='Age at first marriage', ylabel='CDF')"
   ]
  },
  {
   "cell_type": "code",
   "execution_count": 106,
   "metadata": {},
   "outputs": [
    {
     "data": {
      "image/png": "[encoded data removed]",
      "text/plain": [
       "<Figure size 432x288 with 1 Axes>"
      ]
     },
     "metadata": {
      "needs_background": "light"
     },
     "output_type": "display_data"
    }
   ],
   "source": [
    "thinkplot.Cdf(Cdf(resp10.finalwgt))\n",
    "thinkplot.Config(xlabel='Sampling weight', ylabel='CDF')"
   ]
  },
  {
   "cell_type": "markdown",
   "metadata": {
    "collapsed": true
   },
   "source": [
    "Validating 2019 data for marriage analysis"
   ]
  },
  {
   "cell_type": "code",
   "execution_count": 107,
   "metadata": {},
   "outputs": [],
   "source": [
    "resp11 = marriage.ReadFemResp2019()\n",
    "\n",
    "marriage.Validate2019(resp11)"
   ]
  },
  {
   "cell_type": "code",
   "execution_count": 108,
   "metadata": {},
   "outputs": [
    {
     "data": {
      "text/plain": [
       "(6141, 27)"
      ]
     },
     "execution_count": 108,
     "metadata": {},
     "output_type": "execute_result"
    }
   ],
   "source": [
    "resp11.shape"
   ]
  },
  {
   "cell_type": "code",
   "execution_count": 109,
   "metadata": {},
   "outputs": [
    {
     "data": {
      "text/plain": [
       "2722"
      ]
     },
     "execution_count": 109,
     "metadata": {},
     "output_type": "execute_result"
    }
   ],
   "source": [
    "sum(resp11.evrmarry)"
   ]
  },
  {
   "cell_type": "code",
   "execution_count": 110,
   "metadata": {},
   "outputs": [
    {
     "data": {
      "text/plain": [
       "29"
      ]
     },
     "execution_count": 110,
     "metadata": {},
     "output_type": "execute_result"
    }
   ],
   "source": [
    "resp11.agemarry.value_counts().max()"
   ]
  },
  {
   "cell_type": "code",
   "execution_count": 111,
   "metadata": {},
   "outputs": [
    {
     "data": {
      "text/html": [
       "<div>\n",
       "<style scoped>\n",
       "    .dataframe tbody tr th:only-of-type {\n",
       "        vertical-align: middle;\n",
       "    }\n",
       "\n",
       "    .dataframe tbody tr th {\n",
       "        vertical-align: top;\n",
       "    }\n",
       "\n",
       "    .dataframe thead th {\n",
       "        text-align: right;\n",
       "    }\n",
       "</style>\n",
       "<table border=\"1\" class=\"dataframe\">\n",
       "  <thead>\n",
       "    <tr style=\"text-align: right;\">\n",
       "      <th></th>\n",
       "      <th>caseid</th>\n",
       "      <th>evrmarry</th>\n",
       "      <th>ager</th>\n",
       "      <th>rmarital</th>\n",
       "      <th>parity</th>\n",
       "      <th>fmarno</th>\n",
       "      <th>mardat01</th>\n",
       "      <th>mardis01</th>\n",
       "      <th>marend01</th>\n",
       "      <th>mar1diss</th>\n",
       "      <th>...</th>\n",
       "      <th>stillma</th>\n",
       "      <th>finalwgt</th>\n",
       "      <th>cycle</th>\n",
       "      <th>agemarry</th>\n",
       "      <th>age</th>\n",
       "      <th>missing</th>\n",
       "      <th>year</th>\n",
       "      <th>age_index</th>\n",
       "      <th>agemarry_index</th>\n",
       "      <th>birth_index</th>\n",
       "    </tr>\n",
       "  </thead>\n",
       "  <tbody>\n",
       "    <tr>\n",
       "      <th>0</th>\n",
       "      <td>80716</td>\n",
       "      <td>False</td>\n",
       "      <td>35</td>\n",
       "      <td>6</td>\n",
       "      <td>0</td>\n",
       "      <td>0</td>\n",
       "      <td>NaN</td>\n",
       "      <td>NaN</td>\n",
       "      <td>NaN</td>\n",
       "      <td>NaN</td>\n",
       "      <td>...</td>\n",
       "      <td>False</td>\n",
       "      <td>4472.687899</td>\n",
       "      <td>11</td>\n",
       "      <td>NaN</td>\n",
       "      <td>35.0</td>\n",
       "      <td>False</td>\n",
       "      <td>84</td>\n",
       "      <td>35.0</td>\n",
       "      <td>NaN</td>\n",
       "      <td>80</td>\n",
       "    </tr>\n",
       "    <tr>\n",
       "      <th>1</th>\n",
       "      <td>80718</td>\n",
       "      <td>False</td>\n",
       "      <td>30</td>\n",
       "      <td>6</td>\n",
       "      <td>0</td>\n",
       "      <td>0</td>\n",
       "      <td>NaN</td>\n",
       "      <td>NaN</td>\n",
       "      <td>NaN</td>\n",
       "      <td>NaN</td>\n",
       "      <td>...</td>\n",
       "      <td>False</td>\n",
       "      <td>25114.995443</td>\n",
       "      <td>11</td>\n",
       "      <td>NaN</td>\n",
       "      <td>30.0</td>\n",
       "      <td>False</td>\n",
       "      <td>87</td>\n",
       "      <td>30.0</td>\n",
       "      <td>NaN</td>\n",
       "      <td>80</td>\n",
       "    </tr>\n",
       "    <tr>\n",
       "      <th>2</th>\n",
       "      <td>80719</td>\n",
       "      <td>False</td>\n",
       "      <td>30</td>\n",
       "      <td>6</td>\n",
       "      <td>5</td>\n",
       "      <td>0</td>\n",
       "      <td>NaN</td>\n",
       "      <td>NaN</td>\n",
       "      <td>NaN</td>\n",
       "      <td>NaN</td>\n",
       "      <td>...</td>\n",
       "      <td>False</td>\n",
       "      <td>1340.862000</td>\n",
       "      <td>11</td>\n",
       "      <td>NaN</td>\n",
       "      <td>30.0</td>\n",
       "      <td>False</td>\n",
       "      <td>88</td>\n",
       "      <td>30.0</td>\n",
       "      <td>NaN</td>\n",
       "      <td>80</td>\n",
       "    </tr>\n",
       "    <tr>\n",
       "      <th>3</th>\n",
       "      <td>80720</td>\n",
       "      <td>True</td>\n",
       "      <td>32</td>\n",
       "      <td>1</td>\n",
       "      <td>2</td>\n",
       "      <td>1</td>\n",
       "      <td>2010.0</td>\n",
       "      <td>NaN</td>\n",
       "      <td>NaN</td>\n",
       "      <td>5.0</td>\n",
       "      <td>...</td>\n",
       "      <td>True</td>\n",
       "      <td>7092.581524</td>\n",
       "      <td>11</td>\n",
       "      <td>22.583333</td>\n",
       "      <td>32.0</td>\n",
       "      <td>False</td>\n",
       "      <td>87</td>\n",
       "      <td>32.0</td>\n",
       "      <td>22.0</td>\n",
       "      <td>80</td>\n",
       "    </tr>\n",
       "    <tr>\n",
       "      <th>4</th>\n",
       "      <td>80723</td>\n",
       "      <td>True</td>\n",
       "      <td>27</td>\n",
       "      <td>4</td>\n",
       "      <td>3</td>\n",
       "      <td>1</td>\n",
       "      <td>2011.0</td>\n",
       "      <td>2016.0</td>\n",
       "      <td>1.0</td>\n",
       "      <td>5.0</td>\n",
       "      <td>...</td>\n",
       "      <td>False</td>\n",
       "      <td>9607.322007</td>\n",
       "      <td>11</td>\n",
       "      <td>19.500000</td>\n",
       "      <td>27.0</td>\n",
       "      <td>False</td>\n",
       "      <td>91</td>\n",
       "      <td>27.0</td>\n",
       "      <td>19.0</td>\n",
       "      <td>90</td>\n",
       "    </tr>\n",
       "  </tbody>\n",
       "</table>\n",
       "<p>5 rows × 27 columns</p>\n",
       "</div>"
      ],
      "text/plain": [
       "   caseid  evrmarry  ager  rmarital  parity  fmarno  mardat01  mardis01  \\\n",
       "0   80716     False    35         6       0       0       NaN       NaN   \n",
       "1   80718     False    30         6       0       0       NaN       NaN   \n",
       "2   80719     False    30         6       5       0       NaN       NaN   \n",
       "3   80720      True    32         1       2       1    2010.0       NaN   \n",
       "4   80723      True    27         4       3       1    2011.0    2016.0   \n",
       "\n",
       "   marend01  mar1diss  ...  stillma      finalwgt  cycle   agemarry   age  \\\n",
       "0       NaN       NaN  ...    False   4472.687899     11        NaN  35.0   \n",
       "1       NaN       NaN  ...    False  25114.995443     11        NaN  30.0   \n",
       "2       NaN       NaN  ...    False   1340.862000     11        NaN  30.0   \n",
       "3       NaN       5.0  ...     True   7092.581524     11  22.583333  32.0   \n",
       "4       1.0       5.0  ...    False   9607.322007     11  19.500000  27.0   \n",
       "\n",
       "   missing  year  age_index  agemarry_index  birth_index  \n",
       "0    False    84       35.0             NaN           80  \n",
       "1    False    87       30.0             NaN           80  \n",
       "2    False    88       30.0             NaN           80  \n",
       "3    False    87       32.0            22.0           80  \n",
       "4    False    91       27.0            19.0           90  \n",
       "\n",
       "[5 rows x 27 columns]"
      ]
     },
     "execution_count": 111,
     "metadata": {},
     "output_type": "execute_result"
    }
   ],
   "source": [
    "resp11.head()"
   ]
  },
  {
   "cell_type": "code",
   "execution_count": 112,
   "metadata": {},
   "outputs": [
    {
     "data": {
      "image/png": "[encoded data removed]",
      "text/plain": [
       "<Figure size 432x288 with 1 Axes>"
      ]
     },
     "metadata": {
      "needs_background": "light"
     },
     "output_type": "display_data"
    }
   ],
   "source": [
    "thinkplot.Cdf(Cdf(resp11.age))\n",
    "thinkplot.Config(xlabel='Age', ylabel='CDF')"
   ]
  },
  {
   "cell_type": "code",
   "execution_count": 113,
   "metadata": {},
   "outputs": [
    {
     "data": {
      "image/png": "[encoded data removed]",
      "text/plain": [
       "<Figure size 432x288 with 1 Axes>"
      ]
     },
     "metadata": {
      "needs_background": "light"
     },
     "output_type": "display_data"
    }
   ],
   "source": [
    "thinkplot.Cdf(Cdf(resp11.agemarry))\n",
    "thinkplot.Config(xlabel='Age at first marriage', ylabel='CDF')"
   ]
  },
  {
   "cell_type": "code",
   "execution_count": 114,
   "metadata": {},
   "outputs": [
    {
     "data": {
      "image/png": "[encoded data removed]",
      "text/plain": [
       "<Figure size 432x288 with 1 Axes>"
      ]
     },
     "metadata": {
      "needs_background": "light"
     },
     "output_type": "display_data"
    }
   ],
   "source": [
    "thinkplot.Cdf(Cdf(resp11.finalwgt))\n",
    "thinkplot.Config(xlabel='Sampling weight', ylabel='CDF')"
   ]
  },
  {
   "cell_type": "markdown",
   "metadata": {},
   "source": [
    "Make a list of DataFrames, one for each cycle:"
   ]
  },
  {
   "cell_type": "code",
   "execution_count": 141,
   "metadata": {},
   "outputs": [],
   "source": [
    "resps = [resp11, resp10, resp9, resp8, resp7, resp6, resp5, resp4, resp3]\n",
    "#resps = [resp11]"
   ]
  },
  {
   "cell_type": "markdown",
   "metadata": {},
   "source": [
    "Make a table showing the number of respondents in each cycle:"
   ]
  },
  {
   "cell_type": "code",
   "execution_count": 142,
   "metadata": {},
   "outputs": [
    {
     "name": "stdout",
     "output_type": "stream",
     "text": [
      "# &  [1982 1983] & 7969 & [1937 1968] \\\\\n",
      "# &  [1988 1988] & 8450 & [1943 1973] \\\\\n",
      "# &  [1995 1995] & 10847 & [1950 1980] \\\\\n",
      "# &  [2002 2003] & 7643 & [1957 1988] \\\\\n",
      "# &  [2006 2010] & 12279 & [1961 1995] \\\\\n",
      "# &  [2011 2013] & 5601 & [1966 1998] \\\\\n",
      "# &  [2013 2015] & 5699 & [1968 2000] \\\\\n",
      "# &  [2015 2017] & 5554 & [1966 2002] \\\\\n",
      "# &  [2017 2019] & 6141 & [1968 2004] \\\\\n"
     ]
    }
   ],
   "source": [
    "def SummarizeCycle(df):\n",
    "    ages = df.age.min(), df.age.max()\n",
    "    ages= np.array(ages)\n",
    "    \n",
    "    intvws = df.cmintvw.min(), df.cmintvw.max()\n",
    "    intvws = np.array(intvws) / 12 + 1900\n",
    "    \n",
    "    births = df.cmbirth.min(), df.cmbirth.max()\n",
    "    births = np.array(births) / 12 + 1900\n",
    "\n",
    "    print('# & ', intvws.astype(int), '&', len(df), '&', births.astype(int), r'\\\\')\n",
    "    \n",
    "for resp in reversed(resps):\n",
    "    SummarizeCycle(resp)"
   ]
  },
  {
   "cell_type": "markdown",
   "metadata": {},
   "source": [
    "Check for missing values in `agemarry`:"
   ]
  },
  {
   "cell_type": "code",
   "execution_count": 143,
   "metadata": {},
   "outputs": [
    {
     "name": "stdout",
     "output_type": "stream",
     "text": [
      "0\n",
      "0\n",
      "11\n",
      "17\n",
      "16\n",
      "37\n",
      "0\n",
      "22\n",
      "0\n"
     ]
    }
   ],
   "source": [
    "def CheckAgeVars(df):\n",
    "    print(sum(df[df.evrmarry].agemarry.isnull()))\n",
    "    \n",
    "for resp in resps:\n",
    "    CheckAgeVars(resp)"
   ]
  },
  {
   "cell_type": "markdown",
   "metadata": {},
   "source": [
    "Combine the DataFrames (but remember that this is not resampled properly):"
   ]
  },
  {
   "cell_type": "code",
   "execution_count": 144,
   "metadata": {},
   "outputs": [
    {
     "data": {
      "text/plain": [
       "70183"
      ]
     },
     "execution_count": 144,
     "metadata": {},
     "output_type": "execute_result"
    }
   ],
   "source": [
    "df = pd.concat(resps, ignore_index=True, sort=False)\n",
    "len(df)"
   ]
  },
  {
   "cell_type": "markdown",
   "metadata": {},
   "source": [
    "Double check missing data:"
   ]
  },
  {
   "cell_type": "code",
   "execution_count": 145,
   "metadata": {},
   "outputs": [
    {
     "data": {
      "text/plain": [
       "103"
      ]
     },
     "execution_count": 145,
     "metadata": {},
     "output_type": "execute_result"
    }
   ],
   "source": [
    "sum(df.missing)"
   ]
  },
  {
   "cell_type": "markdown",
   "metadata": {},
   "source": [
    "Generate a table with the number of respondents in each cohort:"
   ]
  },
  {
   "cell_type": "code",
   "execution_count": 146,
   "metadata": {},
   "outputs": [
    {
     "name": "stdout",
     "output_type": "stream",
     "text": [
      "30 & 325 & 42 -- 45 & 310 & 0 \\\\\n",
      "40 & 3608 & 32 -- 45 & 3287 & 9 \\\\\n",
      "50 & 10631 & 22 -- 45 & 8667 & 18 \\\\\n",
      "60 & 15064 & 15 -- 50 & 8902 & 33 \\\\\n",
      "70 & 16466 & 14 -- 49 & 9185 & 30 \\\\\n",
      "80 & 14318 & 14 -- 39 & 5331 & 13 \\\\\n",
      "90 & 8539 & 15 -- 29 & 915 & 0 \\\\\n",
      "100 & 1232 & 15 -- 19 & 2 & 0 \\\\\n"
     ]
    }
   ],
   "source": [
    "marriage.DigitizeResp(df)\n",
    "grouped = df.groupby('birth_index')\n",
    "for name, group in iter(grouped):\n",
    "    print(name, '&', len(group), '&', int(group.age.min()), '--', int(group.age_index.max()),\n",
    "                '&', len(group[group.evrmarry]), '&', sum(group.missing), r'\\\\')"
   ]
  },
  {
   "cell_type": "code",
   "execution_count": 147,
   "metadata": {},
   "outputs": [],
   "source": [
    "df.to_hdf('FemMarriageData.hdf', 'FemMarriageData')"
   ]
  },
  {
   "cell_type": "code",
   "execution_count": 148,
   "metadata": {},
   "outputs": [
    {
     "name": "stdout",
     "output_type": "stream",
     "text": [
      "CPU times: user 57.4 ms, sys: 4.03 ms, total: 61.5 ms\n",
      "Wall time: 60.2 ms\n"
     ]
    }
   ],
   "source": [
    "%time nsfg_female = pd.read_hdf('FemMarriageData.hdf', 'FemMarriageData')"
   ]
  },
  {
   "cell_type": "markdown",
   "metadata": {},
   "source": [
    "## Male data"
   ]
  },
  {
   "cell_type": "code",
   "execution_count": 1,
   "metadata": {},
   "outputs": [
    {
     "data": {
      "text/html": [
       "<div>\n",
       "<style scoped>\n",
       "    .dataframe tbody tr th:only-of-type {\n",
       "        vertical-align: middle;\n",
       "    }\n",
       "\n",
       "    .dataframe tbody tr th {\n",
       "        vertical-align: top;\n",
       "    }\n",
       "\n",
       "    .dataframe thead th {\n",
       "        text-align: right;\n",
       "    }\n",
       "</style>\n",
       "<table border=\"1\" class=\"dataframe\">\n",
       "  <thead>\n",
       "    <tr style=\"text-align: right;\">\n",
       "      <th></th>\n",
       "      <th>caseid</th>\n",
       "      <th>evrmarry</th>\n",
       "      <th>ager</th>\n",
       "      <th>rmarital</th>\n",
       "      <th>fmarno</th>\n",
       "      <th>mardat01</th>\n",
       "      <th>marend01</th>\n",
       "      <th>mar1diss</th>\n",
       "      <th>wgt2017_2019</th>\n",
       "      <th>cmintvw</th>\n",
       "      <th>...</th>\n",
       "      <th>stillma</th>\n",
       "      <th>finalwgt</th>\n",
       "      <th>cycle</th>\n",
       "      <th>agemarry</th>\n",
       "      <th>age</th>\n",
       "      <th>missing</th>\n",
       "      <th>year</th>\n",
       "      <th>age_index</th>\n",
       "      <th>agemarry_index</th>\n",
       "      <th>birth_index</th>\n",
       "    </tr>\n",
       "  </thead>\n",
       "  <tbody>\n",
       "    <tr>\n",
       "      <th>0</th>\n",
       "      <td>80717</td>\n",
       "      <td>False</td>\n",
       "      <td>31</td>\n",
       "      <td>2</td>\n",
       "      <td>0</td>\n",
       "      <td>NaN</td>\n",
       "      <td>NaN</td>\n",
       "      <td>NaN</td>\n",
       "      <td>11403.609947</td>\n",
       "      <td>1423</td>\n",
       "      <td>...</td>\n",
       "      <td>False</td>\n",
       "      <td>11403.609947</td>\n",
       "      <td>11</td>\n",
       "      <td>NaN</td>\n",
       "      <td>31.0</td>\n",
       "      <td>False</td>\n",
       "      <td>87</td>\n",
       "      <td>31.0</td>\n",
       "      <td>NaN</td>\n",
       "      <td>80</td>\n",
       "    </tr>\n",
       "    <tr>\n",
       "      <th>1</th>\n",
       "      <td>80721</td>\n",
       "      <td>False</td>\n",
       "      <td>17</td>\n",
       "      <td>6</td>\n",
       "      <td>0</td>\n",
       "      <td>NaN</td>\n",
       "      <td>NaN</td>\n",
       "      <td>NaN</td>\n",
       "      <td>12669.986089</td>\n",
       "      <td>1421</td>\n",
       "      <td>...</td>\n",
       "      <td>False</td>\n",
       "      <td>12669.986089</td>\n",
       "      <td>11</td>\n",
       "      <td>NaN</td>\n",
       "      <td>17.0</td>\n",
       "      <td>False</td>\n",
       "      <td>101</td>\n",
       "      <td>17.0</td>\n",
       "      <td>NaN</td>\n",
       "      <td>100</td>\n",
       "    </tr>\n",
       "    <tr>\n",
       "      <th>2</th>\n",
       "      <td>80722</td>\n",
       "      <td>False</td>\n",
       "      <td>16</td>\n",
       "      <td>6</td>\n",
       "      <td>0</td>\n",
       "      <td>NaN</td>\n",
       "      <td>NaN</td>\n",
       "      <td>NaN</td>\n",
       "      <td>4318.981209</td>\n",
       "      <td>1430</td>\n",
       "      <td>...</td>\n",
       "      <td>False</td>\n",
       "      <td>4318.981209</td>\n",
       "      <td>11</td>\n",
       "      <td>NaN</td>\n",
       "      <td>16.0</td>\n",
       "      <td>False</td>\n",
       "      <td>103</td>\n",
       "      <td>16.0</td>\n",
       "      <td>NaN</td>\n",
       "      <td>100</td>\n",
       "    </tr>\n",
       "    <tr>\n",
       "      <th>3</th>\n",
       "      <td>80724</td>\n",
       "      <td>True</td>\n",
       "      <td>49</td>\n",
       "      <td>4</td>\n",
       "      <td>2</td>\n",
       "      <td>2013.0</td>\n",
       "      <td>1.0</td>\n",
       "      <td>2.0</td>\n",
       "      <td>3872.331010</td>\n",
       "      <td>1433</td>\n",
       "      <td>...</td>\n",
       "      <td>False</td>\n",
       "      <td>3872.331010</td>\n",
       "      <td>11</td>\n",
       "      <td>42.583333</td>\n",
       "      <td>49.0</td>\n",
       "      <td>False</td>\n",
       "      <td>70</td>\n",
       "      <td>49.0</td>\n",
       "      <td>42.0</td>\n",
       "      <td>70</td>\n",
       "    </tr>\n",
       "    <tr>\n",
       "      <th>4</th>\n",
       "      <td>80732</td>\n",
       "      <td>False</td>\n",
       "      <td>39</td>\n",
       "      <td>6</td>\n",
       "      <td>0</td>\n",
       "      <td>NaN</td>\n",
       "      <td>NaN</td>\n",
       "      <td>NaN</td>\n",
       "      <td>6390.223031</td>\n",
       "      <td>1433</td>\n",
       "      <td>...</td>\n",
       "      <td>False</td>\n",
       "      <td>6390.223031</td>\n",
       "      <td>11</td>\n",
       "      <td>NaN</td>\n",
       "      <td>39.0</td>\n",
       "      <td>False</td>\n",
       "      <td>80</td>\n",
       "      <td>39.0</td>\n",
       "      <td>NaN</td>\n",
       "      <td>80</td>\n",
       "    </tr>\n",
       "  </tbody>\n",
       "</table>\n",
       "<p>5 rows × 25 columns</p>\n",
       "</div>"
      ],
      "text/plain": [
       "   caseid  evrmarry  ager  rmarital  fmarno  mardat01  marend01  mar1diss  \\\n",
       "0   80717     False    31         2       0       NaN       NaN       NaN   \n",
       "1   80721     False    17         6       0       NaN       NaN       NaN   \n",
       "2   80722     False    16         6       0       NaN       NaN       NaN   \n",
       "3   80724      True    49         4       2    2013.0       1.0       2.0   \n",
       "4   80732     False    39         6       0       NaN       NaN       NaN   \n",
       "\n",
       "   wgt2017_2019  cmintvw  ...  stillma      finalwgt  cycle   agemarry   age  \\\n",
       "0  11403.609947     1423  ...    False  11403.609947     11        NaN  31.0   \n",
       "1  12669.986089     1421  ...    False  12669.986089     11        NaN  17.0   \n",
       "2   4318.981209     1430  ...    False   4318.981209     11        NaN  16.0   \n",
       "3   3872.331010     1433  ...    False   3872.331010     11  42.583333  49.0   \n",
       "4   6390.223031     1433  ...    False   6390.223031     11        NaN  39.0   \n",
       "\n",
       "   missing  year  age_index  agemarry_index  birth_index  \n",
       "0    False    87       31.0             NaN           80  \n",
       "1    False   101       17.0             NaN          100  \n",
       "2    False   103       16.0             NaN          100  \n",
       "3    False    70       49.0            42.0           70  \n",
       "4    False    80       39.0             NaN           80  \n",
       "\n",
       "[5 rows x 25 columns]"
      ]
     },
     "execution_count": 1,
     "metadata": {},
     "output_type": "execute_result"
    }
   ],
   "source": [
    "import marriage\n",
    "\n",
    "male2019 = marriage.ReadMaleResp2019()\n",
    "male2019.head()"
   ]
  },
  {
   "cell_type": "code",
   "execution_count": 2,
   "metadata": {},
   "outputs": [
    {
     "data": {
      "text/plain": [
       "count    1961.000000\n",
       "mean       25.952490\n",
       "std         5.470129\n",
       "min        12.500000\n",
       "25%        21.833333\n",
       "50%        25.166667\n",
       "75%        28.916667\n",
       "max        45.833333\n",
       "Name: agemarry, dtype: float64"
      ]
     },
     "execution_count": 2,
     "metadata": {},
     "output_type": "execute_result"
    }
   ],
   "source": [
    "male2019.agemarry.describe()"
   ]
  },
  {
   "cell_type": "code",
   "execution_count": 3,
   "metadata": {},
   "outputs": [
    {
     "data": {
      "text/plain": [
       "count    5206.000000\n",
       "mean       30.547445\n",
       "std        10.012382\n",
       "min        15.000000\n",
       "25%        22.000000\n",
       "50%        30.000000\n",
       "75%        39.000000\n",
       "max        50.000000\n",
       "Name: age, dtype: float64"
      ]
     },
     "execution_count": 3,
     "metadata": {},
     "output_type": "execute_result"
    }
   ],
   "source": [
    "male2019.age.describe()"
   ]
  },
  {
   "cell_type": "code",
   "execution_count": 4,
   "metadata": {},
   "outputs": [
    {
     "data": {
      "text/plain": [
       "count      5206\n",
       "unique        1\n",
       "top       False\n",
       "freq       5206\n",
       "Name: missing, dtype: object"
      ]
     },
     "execution_count": 4,
     "metadata": {},
     "output_type": "execute_result"
    }
   ],
   "source": [
    "male2019.missing.describe()"
   ]
  },
  {
   "cell_type": "code",
   "execution_count": 5,
   "metadata": {
    "scrolled": true
   },
   "outputs": [
    {
     "data": {
      "text/plain": [
       "count    5206.000000\n",
       "mean       87.688821\n",
       "std        10.044893\n",
       "min        68.000000\n",
       "25%        80.000000\n",
       "50%        88.000000\n",
       "75%        96.000000\n",
       "max       104.000000\n",
       "Name: year, dtype: float64"
      ]
     },
     "execution_count": 5,
     "metadata": {},
     "output_type": "execute_result"
    }
   ],
   "source": [
    "male2019.year.describe()"
   ]
  },
  {
   "cell_type": "code",
   "execution_count": null,
   "metadata": {},
   "outputs": [],
   "source": []
  },
  {
   "cell_type": "code",
   "execution_count": null,
   "metadata": {},
   "outputs": [],
   "source": []
  },
  {
   "cell_type": "code",
   "execution_count": 12,
   "metadata": {},
   "outputs": [
    {
     "data": {
      "text/html": [
       "<div>\n",
       "<style scoped>\n",
       "    .dataframe tbody tr th:only-of-type {\n",
       "        vertical-align: middle;\n",
       "    }\n",
       "\n",
       "    .dataframe tbody tr th {\n",
       "        vertical-align: top;\n",
       "    }\n",
       "\n",
       "    .dataframe thead th {\n",
       "        text-align: right;\n",
       "    }\n",
       "</style>\n",
       "<table border=\"1\" class=\"dataframe\">\n",
       "  <thead>\n",
       "    <tr style=\"text-align: right;\">\n",
       "      <th></th>\n",
       "      <th>caseid</th>\n",
       "      <th>evrmarry</th>\n",
       "      <th>ager</th>\n",
       "      <th>rmarital</th>\n",
       "      <th>fmarno</th>\n",
       "      <th>mardat01</th>\n",
       "      <th>marend01</th>\n",
       "      <th>mar1diss</th>\n",
       "      <th>wgt2015_2017</th>\n",
       "      <th>cmintvw</th>\n",
       "      <th>...</th>\n",
       "      <th>stillma</th>\n",
       "      <th>finalwgt</th>\n",
       "      <th>cycle</th>\n",
       "      <th>agemarry</th>\n",
       "      <th>age</th>\n",
       "      <th>missing</th>\n",
       "      <th>year</th>\n",
       "      <th>age_index</th>\n",
       "      <th>agemarry_index</th>\n",
       "      <th>birth_index</th>\n",
       "    </tr>\n",
       "  </thead>\n",
       "  <tbody>\n",
       "    <tr>\n",
       "      <th>0</th>\n",
       "      <td>70622</td>\n",
       "      <td>True</td>\n",
       "      <td>29</td>\n",
       "      <td>1</td>\n",
       "      <td>1</td>\n",
       "      <td>2016.0</td>\n",
       "      <td>NaN</td>\n",
       "      <td>1.0</td>\n",
       "      <td>11801.703471</td>\n",
       "      <td>1399</td>\n",
       "      <td>...</td>\n",
       "      <td>True</td>\n",
       "      <td>11801.703471</td>\n",
       "      <td>10</td>\n",
       "      <td>28.416667</td>\n",
       "      <td>29.0</td>\n",
       "      <td>False</td>\n",
       "      <td>87</td>\n",
       "      <td>29.0</td>\n",
       "      <td>28.0</td>\n",
       "      <td>80</td>\n",
       "    </tr>\n",
       "    <tr>\n",
       "      <th>1</th>\n",
       "      <td>70626</td>\n",
       "      <td>False</td>\n",
       "      <td>18</td>\n",
       "      <td>6</td>\n",
       "      <td>0</td>\n",
       "      <td>NaN</td>\n",
       "      <td>NaN</td>\n",
       "      <td>NaN</td>\n",
       "      <td>5153.910962</td>\n",
       "      <td>1391</td>\n",
       "      <td>...</td>\n",
       "      <td>False</td>\n",
       "      <td>5153.910962</td>\n",
       "      <td>10</td>\n",
       "      <td>NaN</td>\n",
       "      <td>18.0</td>\n",
       "      <td>False</td>\n",
       "      <td>97</td>\n",
       "      <td>18.0</td>\n",
       "      <td>NaN</td>\n",
       "      <td>90</td>\n",
       "    </tr>\n",
       "    <tr>\n",
       "      <th>2</th>\n",
       "      <td>70629</td>\n",
       "      <td>False</td>\n",
       "      <td>23</td>\n",
       "      <td>6</td>\n",
       "      <td>0</td>\n",
       "      <td>NaN</td>\n",
       "      <td>NaN</td>\n",
       "      <td>NaN</td>\n",
       "      <td>10293.100099</td>\n",
       "      <td>1405</td>\n",
       "      <td>...</td>\n",
       "      <td>False</td>\n",
       "      <td>10293.100099</td>\n",
       "      <td>10</td>\n",
       "      <td>NaN</td>\n",
       "      <td>23.0</td>\n",
       "      <td>False</td>\n",
       "      <td>94</td>\n",
       "      <td>23.0</td>\n",
       "      <td>NaN</td>\n",
       "      <td>90</td>\n",
       "    </tr>\n",
       "    <tr>\n",
       "      <th>3</th>\n",
       "      <td>70631</td>\n",
       "      <td>False</td>\n",
       "      <td>17</td>\n",
       "      <td>6</td>\n",
       "      <td>0</td>\n",
       "      <td>NaN</td>\n",
       "      <td>NaN</td>\n",
       "      <td>NaN</td>\n",
       "      <td>14236.029179</td>\n",
       "      <td>1403</td>\n",
       "      <td>...</td>\n",
       "      <td>False</td>\n",
       "      <td>14236.029179</td>\n",
       "      <td>10</td>\n",
       "      <td>NaN</td>\n",
       "      <td>17.0</td>\n",
       "      <td>False</td>\n",
       "      <td>99</td>\n",
       "      <td>17.0</td>\n",
       "      <td>NaN</td>\n",
       "      <td>90</td>\n",
       "    </tr>\n",
       "    <tr>\n",
       "      <th>4</th>\n",
       "      <td>70636</td>\n",
       "      <td>False</td>\n",
       "      <td>37</td>\n",
       "      <td>6</td>\n",
       "      <td>0</td>\n",
       "      <td>NaN</td>\n",
       "      <td>NaN</td>\n",
       "      <td>NaN</td>\n",
       "      <td>11320.650257</td>\n",
       "      <td>1393</td>\n",
       "      <td>...</td>\n",
       "      <td>False</td>\n",
       "      <td>11320.650257</td>\n",
       "      <td>10</td>\n",
       "      <td>NaN</td>\n",
       "      <td>37.0</td>\n",
       "      <td>False</td>\n",
       "      <td>79</td>\n",
       "      <td>37.0</td>\n",
       "      <td>NaN</td>\n",
       "      <td>70</td>\n",
       "    </tr>\n",
       "  </tbody>\n",
       "</table>\n",
       "<p>5 rows × 25 columns</p>\n",
       "</div>"
      ],
      "text/plain": [
       "   caseid  evrmarry  ager  rmarital  fmarno  mardat01  marend01  mar1diss  \\\n",
       "0   70622      True    29         1       1    2016.0       NaN       1.0   \n",
       "1   70626     False    18         6       0       NaN       NaN       NaN   \n",
       "2   70629     False    23         6       0       NaN       NaN       NaN   \n",
       "3   70631     False    17         6       0       NaN       NaN       NaN   \n",
       "4   70636     False    37         6       0       NaN       NaN       NaN   \n",
       "\n",
       "   wgt2015_2017  cmintvw  ...  stillma      finalwgt  cycle   agemarry   age  \\\n",
       "0  11801.703471     1399  ...     True  11801.703471     10  28.416667  29.0   \n",
       "1   5153.910962     1391  ...    False   5153.910962     10        NaN  18.0   \n",
       "2  10293.100099     1405  ...    False  10293.100099     10        NaN  23.0   \n",
       "3  14236.029179     1403  ...    False  14236.029179     10        NaN  17.0   \n",
       "4  11320.650257     1393  ...    False  11320.650257     10        NaN  37.0   \n",
       "\n",
       "   missing  year  age_index  agemarry_index  birth_index  \n",
       "0    False    87       29.0            28.0           80  \n",
       "1    False    97       18.0             NaN           90  \n",
       "2    False    94       23.0             NaN           90  \n",
       "3    False    99       17.0             NaN           90  \n",
       "4    False    79       37.0             NaN           70  \n",
       "\n",
       "[5 rows x 25 columns]"
      ]
     },
     "execution_count": 12,
     "metadata": {},
     "output_type": "execute_result"
    }
   ],
   "source": [
    "male2017 = marriage.ReadMaleResp2017()\n",
    "male2017.head()"
   ]
  },
  {
   "cell_type": "code",
   "execution_count": 13,
   "metadata": {},
   "outputs": [
    {
     "data": {
      "text/plain": [
       "count    1770.000000\n",
       "mean       25.683663\n",
       "std         5.292507\n",
       "min        13.166667\n",
       "25%        21.750000\n",
       "50%        24.833333\n",
       "75%        28.833333\n",
       "max        47.000000\n",
       "Name: agemarry, dtype: float64"
      ]
     },
     "execution_count": 13,
     "metadata": {},
     "output_type": "execute_result"
    }
   ],
   "source": [
    "male2017.agemarry.describe()"
   ]
  },
  {
   "cell_type": "code",
   "execution_count": 14,
   "metadata": {},
   "outputs": [
    {
     "data": {
      "text/plain": [
       "count    4540.000000\n",
       "mean       30.455286\n",
       "std        10.145992\n",
       "min        15.000000\n",
       "25%        21.000000\n",
       "50%        30.000000\n",
       "75%        39.000000\n",
       "max        50.000000\n",
       "Name: age, dtype: float64"
      ]
     },
     "execution_count": 14,
     "metadata": {},
     "output_type": "execute_result"
    }
   ],
   "source": [
    "male2017.age.describe()"
   ]
  },
  {
   "cell_type": "code",
   "execution_count": 15,
   "metadata": {},
   "outputs": [
    {
     "data": {
      "text/plain": [
       "count      4540\n",
       "unique        1\n",
       "top       False\n",
       "freq       4540\n",
       "Name: missing, dtype: object"
      ]
     },
     "execution_count": 15,
     "metadata": {},
     "output_type": "execute_result"
    }
   ],
   "source": [
    "male2017.missing.describe()"
   ]
  },
  {
   "cell_type": "code",
   "execution_count": 16,
   "metadata": {
    "scrolled": true
   },
   "outputs": [
    {
     "data": {
      "text/plain": [
       "count    4540.000000\n",
       "mean       85.779515\n",
       "std        10.162161\n",
       "min        65.000000\n",
       "25%        77.000000\n",
       "50%        86.000000\n",
       "75%        95.000000\n",
       "max       102.000000\n",
       "Name: year, dtype: float64"
      ]
     },
     "execution_count": 16,
     "metadata": {},
     "output_type": "execute_result"
    }
   ],
   "source": [
    "male2017.year.describe()"
   ]
  },
  {
   "cell_type": "code",
   "execution_count": null,
   "metadata": {},
   "outputs": [],
   "source": []
  },
  {
   "cell_type": "code",
   "execution_count": null,
   "metadata": {},
   "outputs": [],
   "source": []
  },
  {
   "cell_type": "code",
   "execution_count": 17,
   "metadata": {
    "scrolled": true
   },
   "outputs": [
    {
     "data": {
      "text/html": [
       "<div>\n",
       "<style scoped>\n",
       "    .dataframe tbody tr th:only-of-type {\n",
       "        vertical-align: middle;\n",
       "    }\n",
       "\n",
       "    .dataframe tbody tr th {\n",
       "        vertical-align: top;\n",
       "    }\n",
       "\n",
       "    .dataframe thead th {\n",
       "        text-align: right;\n",
       "    }\n",
       "</style>\n",
       "<table border=\"1\" class=\"dataframe\">\n",
       "  <thead>\n",
       "    <tr style=\"text-align: right;\">\n",
       "      <th></th>\n",
       "      <th>caseid</th>\n",
       "      <th>cmbirth</th>\n",
       "      <th>timesmar</th>\n",
       "      <th>fmarit</th>\n",
       "      <th>evrmarry</th>\n",
       "      <th>marrend4</th>\n",
       "      <th>cmdivw</th>\n",
       "      <th>mardat01</th>\n",
       "      <th>finalwgt</th>\n",
       "      <th>cmintvw</th>\n",
       "      <th>...</th>\n",
       "      <th>widowed</th>\n",
       "      <th>stillma</th>\n",
       "      <th>cycle</th>\n",
       "      <th>agemarry</th>\n",
       "      <th>age</th>\n",
       "      <th>missing</th>\n",
       "      <th>year</th>\n",
       "      <th>age_index</th>\n",
       "      <th>agemarry_index</th>\n",
       "      <th>birth_index</th>\n",
       "    </tr>\n",
       "  </thead>\n",
       "  <tbody>\n",
       "    <tr>\n",
       "      <th>0</th>\n",
       "      <td>12178</td>\n",
       "      <td>1052</td>\n",
       "      <td>NaN</td>\n",
       "      <td>5</td>\n",
       "      <td>False</td>\n",
       "      <td>NaN</td>\n",
       "      <td>NaN</td>\n",
       "      <td>NaN</td>\n",
       "      <td>7085.207973</td>\n",
       "      <td>1233</td>\n",
       "      <td>...</td>\n",
       "      <td>False</td>\n",
       "      <td>False</td>\n",
       "      <td>6</td>\n",
       "      <td>NaN</td>\n",
       "      <td>15.083333</td>\n",
       "      <td>False</td>\n",
       "      <td>87</td>\n",
       "      <td>15.0</td>\n",
       "      <td>NaN</td>\n",
       "      <td>80</td>\n",
       "    </tr>\n",
       "    <tr>\n",
       "      <th>1</th>\n",
       "      <td>3233</td>\n",
       "      <td>701</td>\n",
       "      <td>1.0</td>\n",
       "      <td>1</td>\n",
       "      <td>True</td>\n",
       "      <td>NaN</td>\n",
       "      <td>NaN</td>\n",
       "      <td>1007.0</td>\n",
       "      <td>24372.450063</td>\n",
       "      <td>1237</td>\n",
       "      <td>...</td>\n",
       "      <td>False</td>\n",
       "      <td>True</td>\n",
       "      <td>6</td>\n",
       "      <td>25.500000</td>\n",
       "      <td>44.666667</td>\n",
       "      <td>False</td>\n",
       "      <td>58</td>\n",
       "      <td>44.0</td>\n",
       "      <td>25.0</td>\n",
       "      <td>50</td>\n",
       "    </tr>\n",
       "    <tr>\n",
       "      <th>2</th>\n",
       "      <td>12170</td>\n",
       "      <td>707</td>\n",
       "      <td>1.0</td>\n",
       "      <td>1</td>\n",
       "      <td>True</td>\n",
       "      <td>NaN</td>\n",
       "      <td>NaN</td>\n",
       "      <td>1199.0</td>\n",
       "      <td>7073.132109</td>\n",
       "      <td>1234</td>\n",
       "      <td>...</td>\n",
       "      <td>False</td>\n",
       "      <td>True</td>\n",
       "      <td>6</td>\n",
       "      <td>41.000000</td>\n",
       "      <td>43.916667</td>\n",
       "      <td>False</td>\n",
       "      <td>58</td>\n",
       "      <td>43.0</td>\n",
       "      <td>41.0</td>\n",
       "      <td>50</td>\n",
       "    </tr>\n",
       "    <tr>\n",
       "      <th>3</th>\n",
       "      <td>6629</td>\n",
       "      <td>1052</td>\n",
       "      <td>NaN</td>\n",
       "      <td>5</td>\n",
       "      <td>False</td>\n",
       "      <td>NaN</td>\n",
       "      <td>NaN</td>\n",
       "      <td>NaN</td>\n",
       "      <td>3105.158992</td>\n",
       "      <td>1234</td>\n",
       "      <td>...</td>\n",
       "      <td>False</td>\n",
       "      <td>False</td>\n",
       "      <td>6</td>\n",
       "      <td>NaN</td>\n",
       "      <td>15.166667</td>\n",
       "      <td>False</td>\n",
       "      <td>87</td>\n",
       "      <td>15.0</td>\n",
       "      <td>NaN</td>\n",
       "      <td>80</td>\n",
       "    </tr>\n",
       "    <tr>\n",
       "      <th>4</th>\n",
       "      <td>6531</td>\n",
       "      <td>787</td>\n",
       "      <td>1.0</td>\n",
       "      <td>3</td>\n",
       "      <td>True</td>\n",
       "      <td>NaN</td>\n",
       "      <td>NaN</td>\n",
       "      <td>1107.0</td>\n",
       "      <td>4679.548824</td>\n",
       "      <td>1235</td>\n",
       "      <td>...</td>\n",
       "      <td>False</td>\n",
       "      <td>False</td>\n",
       "      <td>6</td>\n",
       "      <td>26.666667</td>\n",
       "      <td>37.333333</td>\n",
       "      <td>False</td>\n",
       "      <td>65</td>\n",
       "      <td>37.0</td>\n",
       "      <td>26.0</td>\n",
       "      <td>60</td>\n",
       "    </tr>\n",
       "  </tbody>\n",
       "</table>\n",
       "<p>5 rows × 24 columns</p>\n",
       "</div>"
      ],
      "text/plain": [
       "   caseid  cmbirth  timesmar  fmarit  evrmarry  marrend4  cmdivw  mardat01  \\\n",
       "0   12178     1052       NaN       5     False       NaN     NaN       NaN   \n",
       "1    3233      701       1.0       1      True       NaN     NaN    1007.0   \n",
       "2   12170      707       1.0       1      True       NaN     NaN    1199.0   \n",
       "3    6629     1052       NaN       5     False       NaN     NaN       NaN   \n",
       "4    6531      787       1.0       3      True       NaN     NaN    1107.0   \n",
       "\n",
       "       finalwgt  cmintvw  ...  widowed  stillma  cycle   agemarry        age  \\\n",
       "0   7085.207973     1233  ...    False    False      6        NaN  15.083333   \n",
       "1  24372.450063     1237  ...    False     True      6  25.500000  44.666667   \n",
       "2   7073.132109     1234  ...    False     True      6  41.000000  43.916667   \n",
       "3   3105.158992     1234  ...    False    False      6        NaN  15.166667   \n",
       "4   4679.548824     1235  ...    False    False      6  26.666667  37.333333   \n",
       "\n",
       "   missing  year  age_index  agemarry_index  birth_index  \n",
       "0    False    87       15.0             NaN           80  \n",
       "1    False    58       44.0            25.0           50  \n",
       "2    False    58       43.0            41.0           50  \n",
       "3    False    87       15.0             NaN           80  \n",
       "4    False    65       37.0            26.0           60  \n",
       "\n",
       "[5 rows x 24 columns]"
      ]
     },
     "execution_count": 17,
     "metadata": {},
     "output_type": "execute_result"
    }
   ],
   "source": [
    "male2002 = marriage.ReadMaleResp2002()\n",
    "male2002.head()"
   ]
  },
  {
   "cell_type": "code",
   "execution_count": 18,
   "metadata": {},
   "outputs": [
    {
     "data": {
      "text/plain": [
       "576"
      ]
     },
     "execution_count": 18,
     "metadata": {},
     "output_type": "execute_result"
    }
   ],
   "source": [
    "sum(male2002.divorced) + sum(male2002.separated) + sum(male2002.widowed) "
   ]
  },
  {
   "cell_type": "code",
   "execution_count": 19,
   "metadata": {},
   "outputs": [
    {
     "data": {
      "text/plain": [
       "1752"
      ]
     },
     "execution_count": 19,
     "metadata": {},
     "output_type": "execute_result"
    }
   ],
   "source": [
    "sum(male2002.evrmarry)"
   ]
  },
  {
   "cell_type": "code",
   "execution_count": null,
   "metadata": {},
   "outputs": [],
   "source": []
  },
  {
   "cell_type": "code",
   "execution_count": null,
   "metadata": {},
   "outputs": [],
   "source": []
  },
  {
   "cell_type": "code",
   "execution_count": 20,
   "metadata": {},
   "outputs": [
    {
     "data": {
      "text/html": [
       "<div>\n",
       "<style scoped>\n",
       "    .dataframe tbody tr th:only-of-type {\n",
       "        vertical-align: middle;\n",
       "    }\n",
       "\n",
       "    .dataframe tbody tr th {\n",
       "        vertical-align: top;\n",
       "    }\n",
       "\n",
       "    .dataframe thead th {\n",
       "        text-align: right;\n",
       "    }\n",
       "</style>\n",
       "<table border=\"1\" class=\"dataframe\">\n",
       "  <thead>\n",
       "    <tr style=\"text-align: right;\">\n",
       "      <th></th>\n",
       "      <th>caseid</th>\n",
       "      <th>cmbirth</th>\n",
       "      <th>evrmarry</th>\n",
       "      <th>cmdivw</th>\n",
       "      <th>rmarital</th>\n",
       "      <th>fmarno</th>\n",
       "      <th>mardat01</th>\n",
       "      <th>marend01</th>\n",
       "      <th>mar1diss</th>\n",
       "      <th>wgtq1q16</th>\n",
       "      <th>...</th>\n",
       "      <th>stillma</th>\n",
       "      <th>finalwgt</th>\n",
       "      <th>cycle</th>\n",
       "      <th>agemarry</th>\n",
       "      <th>age</th>\n",
       "      <th>missing</th>\n",
       "      <th>year</th>\n",
       "      <th>age_index</th>\n",
       "      <th>agemarry_index</th>\n",
       "      <th>birth_index</th>\n",
       "    </tr>\n",
       "  </thead>\n",
       "  <tbody>\n",
       "    <tr>\n",
       "      <th>0</th>\n",
       "      <td>36133</td>\n",
       "      <td>1043</td>\n",
       "      <td>False</td>\n",
       "      <td>NaN</td>\n",
       "      <td>6</td>\n",
       "      <td>0</td>\n",
       "      <td>NaN</td>\n",
       "      <td>NaN</td>\n",
       "      <td>NaN</td>\n",
       "      <td>7270.577055</td>\n",
       "      <td>...</td>\n",
       "      <td>False</td>\n",
       "      <td>7270.577055</td>\n",
       "      <td>7</td>\n",
       "      <td>NaN</td>\n",
       "      <td>23.333333</td>\n",
       "      <td>False</td>\n",
       "      <td>86</td>\n",
       "      <td>23.0</td>\n",
       "      <td>NaN</td>\n",
       "      <td>80</td>\n",
       "    </tr>\n",
       "    <tr>\n",
       "      <th>1</th>\n",
       "      <td>36636</td>\n",
       "      <td>1021</td>\n",
       "      <td>False</td>\n",
       "      <td>NaN</td>\n",
       "      <td>6</td>\n",
       "      <td>0</td>\n",
       "      <td>NaN</td>\n",
       "      <td>NaN</td>\n",
       "      <td>NaN</td>\n",
       "      <td>7601.733277</td>\n",
       "      <td>...</td>\n",
       "      <td>False</td>\n",
       "      <td>7601.733277</td>\n",
       "      <td>7</td>\n",
       "      <td>NaN</td>\n",
       "      <td>25.083333</td>\n",
       "      <td>False</td>\n",
       "      <td>85</td>\n",
       "      <td>25.0</td>\n",
       "      <td>NaN</td>\n",
       "      <td>80</td>\n",
       "    </tr>\n",
       "    <tr>\n",
       "      <th>2</th>\n",
       "      <td>41125</td>\n",
       "      <td>1118</td>\n",
       "      <td>False</td>\n",
       "      <td>NaN</td>\n",
       "      <td>6</td>\n",
       "      <td>0</td>\n",
       "      <td>NaN</td>\n",
       "      <td>NaN</td>\n",
       "      <td>NaN</td>\n",
       "      <td>4587.699601</td>\n",
       "      <td>...</td>\n",
       "      <td>False</td>\n",
       "      <td>4587.699601</td>\n",
       "      <td>7</td>\n",
       "      <td>NaN</td>\n",
       "      <td>17.000000</td>\n",
       "      <td>False</td>\n",
       "      <td>93</td>\n",
       "      <td>17.0</td>\n",
       "      <td>NaN</td>\n",
       "      <td>90</td>\n",
       "    </tr>\n",
       "    <tr>\n",
       "      <th>3</th>\n",
       "      <td>23607</td>\n",
       "      <td>948</td>\n",
       "      <td>False</td>\n",
       "      <td>NaN</td>\n",
       "      <td>6</td>\n",
       "      <td>0</td>\n",
       "      <td>NaN</td>\n",
       "      <td>NaN</td>\n",
       "      <td>NaN</td>\n",
       "      <td>26566.111007</td>\n",
       "      <td>...</td>\n",
       "      <td>False</td>\n",
       "      <td>26566.111007</td>\n",
       "      <td>7</td>\n",
       "      <td>NaN</td>\n",
       "      <td>28.250000</td>\n",
       "      <td>False</td>\n",
       "      <td>78</td>\n",
       "      <td>28.0</td>\n",
       "      <td>NaN</td>\n",
       "      <td>70</td>\n",
       "    </tr>\n",
       "    <tr>\n",
       "      <th>4</th>\n",
       "      <td>40814</td>\n",
       "      <td>1018</td>\n",
       "      <td>False</td>\n",
       "      <td>NaN</td>\n",
       "      <td>2</td>\n",
       "      <td>0</td>\n",
       "      <td>NaN</td>\n",
       "      <td>NaN</td>\n",
       "      <td>NaN</td>\n",
       "      <td>5709.710317</td>\n",
       "      <td>...</td>\n",
       "      <td>False</td>\n",
       "      <td>5709.710317</td>\n",
       "      <td>7</td>\n",
       "      <td>NaN</td>\n",
       "      <td>25.333333</td>\n",
       "      <td>False</td>\n",
       "      <td>84</td>\n",
       "      <td>25.0</td>\n",
       "      <td>NaN</td>\n",
       "      <td>80</td>\n",
       "    </tr>\n",
       "  </tbody>\n",
       "</table>\n",
       "<p>5 rows × 25 columns</p>\n",
       "</div>"
      ],
      "text/plain": [
       "   caseid  cmbirth  evrmarry  cmdivw  rmarital  fmarno  mardat01  marend01  \\\n",
       "0   36133     1043     False     NaN         6       0       NaN       NaN   \n",
       "1   36636     1021     False     NaN         6       0       NaN       NaN   \n",
       "2   41125     1118     False     NaN         6       0       NaN       NaN   \n",
       "3   23607      948     False     NaN         6       0       NaN       NaN   \n",
       "4   40814     1018     False     NaN         2       0       NaN       NaN   \n",
       "\n",
       "   mar1diss      wgtq1q16  ...  stillma      finalwgt  cycle  agemarry  \\\n",
       "0       NaN   7270.577055  ...    False   7270.577055      7       NaN   \n",
       "1       NaN   7601.733277  ...    False   7601.733277      7       NaN   \n",
       "2       NaN   4587.699601  ...    False   4587.699601      7       NaN   \n",
       "3       NaN  26566.111007  ...    False  26566.111007      7       NaN   \n",
       "4       NaN   5709.710317  ...    False   5709.710317      7       NaN   \n",
       "\n",
       "         age  missing  year  age_index  agemarry_index  birth_index  \n",
       "0  23.333333    False    86       23.0             NaN           80  \n",
       "1  25.083333    False    85       25.0             NaN           80  \n",
       "2  17.000000    False    93       17.0             NaN           90  \n",
       "3  28.250000    False    78       28.0             NaN           70  \n",
       "4  25.333333    False    84       25.0             NaN           80  \n",
       "\n",
       "[5 rows x 25 columns]"
      ]
     },
     "execution_count": 20,
     "metadata": {},
     "output_type": "execute_result"
    }
   ],
   "source": [
    "male2010 = marriage.ReadMaleResp2010()\n",
    "male2010.head()"
   ]
  },
  {
   "cell_type": "code",
   "execution_count": 21,
   "metadata": {},
   "outputs": [
    {
     "data": {
      "text/html": [
       "<div>\n",
       "<style scoped>\n",
       "    .dataframe tbody tr th:only-of-type {\n",
       "        vertical-align: middle;\n",
       "    }\n",
       "\n",
       "    .dataframe tbody tr th {\n",
       "        vertical-align: top;\n",
       "    }\n",
       "\n",
       "    .dataframe thead th {\n",
       "        text-align: right;\n",
       "    }\n",
       "</style>\n",
       "<table border=\"1\" class=\"dataframe\">\n",
       "  <thead>\n",
       "    <tr style=\"text-align: right;\">\n",
       "      <th></th>\n",
       "      <th>caseid</th>\n",
       "      <th>cmbirth</th>\n",
       "      <th>evrmarry</th>\n",
       "      <th>cmdivw</th>\n",
       "      <th>rmarital</th>\n",
       "      <th>fmarno</th>\n",
       "      <th>mardat01</th>\n",
       "      <th>marend01</th>\n",
       "      <th>mar1diss</th>\n",
       "      <th>wgt2011_2013</th>\n",
       "      <th>...</th>\n",
       "      <th>stillma</th>\n",
       "      <th>finalwgt</th>\n",
       "      <th>cycle</th>\n",
       "      <th>agemarry</th>\n",
       "      <th>age</th>\n",
       "      <th>missing</th>\n",
       "      <th>year</th>\n",
       "      <th>age_index</th>\n",
       "      <th>agemarry_index</th>\n",
       "      <th>birth_index</th>\n",
       "    </tr>\n",
       "  </thead>\n",
       "  <tbody>\n",
       "    <tr>\n",
       "      <th>0</th>\n",
       "      <td>50001</td>\n",
       "      <td>1027</td>\n",
       "      <td>True</td>\n",
       "      <td>1346.0</td>\n",
       "      <td>4</td>\n",
       "      <td>1</td>\n",
       "      <td>1237.0</td>\n",
       "      <td>1.0</td>\n",
       "      <td>87.0</td>\n",
       "      <td>8111.081751</td>\n",
       "      <td>...</td>\n",
       "      <td>False</td>\n",
       "      <td>8111.081751</td>\n",
       "      <td>8</td>\n",
       "      <td>17.500000</td>\n",
       "      <td>26.750000</td>\n",
       "      <td>False</td>\n",
       "      <td>85</td>\n",
       "      <td>26.0</td>\n",
       "      <td>17.0</td>\n",
       "      <td>80</td>\n",
       "    </tr>\n",
       "    <tr>\n",
       "      <th>1</th>\n",
       "      <td>50003</td>\n",
       "      <td>1160</td>\n",
       "      <td>False</td>\n",
       "      <td>NaN</td>\n",
       "      <td>6</td>\n",
       "      <td>0</td>\n",
       "      <td>NaN</td>\n",
       "      <td>NaN</td>\n",
       "      <td>NaN</td>\n",
       "      <td>4082.414347</td>\n",
       "      <td>...</td>\n",
       "      <td>False</td>\n",
       "      <td>4082.414347</td>\n",
       "      <td>8</td>\n",
       "      <td>NaN</td>\n",
       "      <td>16.166667</td>\n",
       "      <td>False</td>\n",
       "      <td>96</td>\n",
       "      <td>16.0</td>\n",
       "      <td>NaN</td>\n",
       "      <td>90</td>\n",
       "    </tr>\n",
       "    <tr>\n",
       "      <th>2</th>\n",
       "      <td>50006</td>\n",
       "      <td>1025</td>\n",
       "      <td>True</td>\n",
       "      <td>NaN</td>\n",
       "      <td>1</td>\n",
       "      <td>1</td>\n",
       "      <td>1335.0</td>\n",
       "      <td>NaN</td>\n",
       "      <td>25.0</td>\n",
       "      <td>25550.455475</td>\n",
       "      <td>...</td>\n",
       "      <td>True</td>\n",
       "      <td>25550.455475</td>\n",
       "      <td>8</td>\n",
       "      <td>25.833333</td>\n",
       "      <td>27.916667</td>\n",
       "      <td>False</td>\n",
       "      <td>85</td>\n",
       "      <td>27.0</td>\n",
       "      <td>25.0</td>\n",
       "      <td>80</td>\n",
       "    </tr>\n",
       "    <tr>\n",
       "      <th>3</th>\n",
       "      <td>50007</td>\n",
       "      <td>1028</td>\n",
       "      <td>False</td>\n",
       "      <td>NaN</td>\n",
       "      <td>6</td>\n",
       "      <td>0</td>\n",
       "      <td>NaN</td>\n",
       "      <td>NaN</td>\n",
       "      <td>NaN</td>\n",
       "      <td>6754.912773</td>\n",
       "      <td>...</td>\n",
       "      <td>False</td>\n",
       "      <td>6754.912773</td>\n",
       "      <td>8</td>\n",
       "      <td>NaN</td>\n",
       "      <td>26.666667</td>\n",
       "      <td>False</td>\n",
       "      <td>85</td>\n",
       "      <td>26.0</td>\n",
       "      <td>NaN</td>\n",
       "      <td>80</td>\n",
       "    </tr>\n",
       "    <tr>\n",
       "      <th>4</th>\n",
       "      <td>50009</td>\n",
       "      <td>855</td>\n",
       "      <td>True</td>\n",
       "      <td>NaN</td>\n",
       "      <td>1</td>\n",
       "      <td>1</td>\n",
       "      <td>1152.0</td>\n",
       "      <td>NaN</td>\n",
       "      <td>210.0</td>\n",
       "      <td>49442.342886</td>\n",
       "      <td>...</td>\n",
       "      <td>True</td>\n",
       "      <td>49442.342886</td>\n",
       "      <td>8</td>\n",
       "      <td>24.750000</td>\n",
       "      <td>42.250000</td>\n",
       "      <td>False</td>\n",
       "      <td>71</td>\n",
       "      <td>42.0</td>\n",
       "      <td>24.0</td>\n",
       "      <td>70</td>\n",
       "    </tr>\n",
       "  </tbody>\n",
       "</table>\n",
       "<p>5 rows × 25 columns</p>\n",
       "</div>"
      ],
      "text/plain": [
       "   caseid  cmbirth  evrmarry  cmdivw  rmarital  fmarno  mardat01  marend01  \\\n",
       "0   50001     1027      True  1346.0         4       1    1237.0       1.0   \n",
       "1   50003     1160     False     NaN         6       0       NaN       NaN   \n",
       "2   50006     1025      True     NaN         1       1    1335.0       NaN   \n",
       "3   50007     1028     False     NaN         6       0       NaN       NaN   \n",
       "4   50009      855      True     NaN         1       1    1152.0       NaN   \n",
       "\n",
       "   mar1diss  wgt2011_2013  ...  stillma      finalwgt  cycle   agemarry  \\\n",
       "0      87.0   8111.081751  ...    False   8111.081751      8  17.500000   \n",
       "1       NaN   4082.414347  ...    False   4082.414347      8        NaN   \n",
       "2      25.0  25550.455475  ...     True  25550.455475      8  25.833333   \n",
       "3       NaN   6754.912773  ...    False   6754.912773      8        NaN   \n",
       "4     210.0  49442.342886  ...     True  49442.342886      8  24.750000   \n",
       "\n",
       "         age  missing  year  age_index  agemarry_index  birth_index  \n",
       "0  26.750000    False    85       26.0            17.0           80  \n",
       "1  16.166667    False    96       16.0             NaN           90  \n",
       "2  27.916667    False    85       27.0            25.0           80  \n",
       "3  26.666667    False    85       26.0             NaN           80  \n",
       "4  42.250000    False    71       42.0            24.0           70  \n",
       "\n",
       "[5 rows x 25 columns]"
      ]
     },
     "execution_count": 21,
     "metadata": {},
     "output_type": "execute_result"
    }
   ],
   "source": [
    "male2013 = marriage.ReadMaleResp2013()\n",
    "male2013.head()"
   ]
  },
  {
   "cell_type": "code",
   "execution_count": 22,
   "metadata": {},
   "outputs": [
    {
     "data": {
      "text/html": [
       "<div>\n",
       "<style scoped>\n",
       "    .dataframe tbody tr th:only-of-type {\n",
       "        vertical-align: middle;\n",
       "    }\n",
       "\n",
       "    .dataframe tbody tr th {\n",
       "        vertical-align: top;\n",
       "    }\n",
       "\n",
       "    .dataframe thead th {\n",
       "        text-align: right;\n",
       "    }\n",
       "</style>\n",
       "<table border=\"1\" class=\"dataframe\">\n",
       "  <thead>\n",
       "    <tr style=\"text-align: right;\">\n",
       "      <th></th>\n",
       "      <th>caseid</th>\n",
       "      <th>cmbirth</th>\n",
       "      <th>evrmarry</th>\n",
       "      <th>cmdivw</th>\n",
       "      <th>rmarital</th>\n",
       "      <th>fmarno</th>\n",
       "      <th>mardat01</th>\n",
       "      <th>marend01</th>\n",
       "      <th>mar1diss</th>\n",
       "      <th>wgt2013_2015</th>\n",
       "      <th>...</th>\n",
       "      <th>stillma</th>\n",
       "      <th>finalwgt</th>\n",
       "      <th>cycle</th>\n",
       "      <th>agemarry</th>\n",
       "      <th>age</th>\n",
       "      <th>missing</th>\n",
       "      <th>year</th>\n",
       "      <th>age_index</th>\n",
       "      <th>agemarry_index</th>\n",
       "      <th>birth_index</th>\n",
       "    </tr>\n",
       "  </thead>\n",
       "  <tbody>\n",
       "    <tr>\n",
       "      <th>0</th>\n",
       "      <td>60417</td>\n",
       "      <td>926</td>\n",
       "      <td>False</td>\n",
       "      <td>NaN</td>\n",
       "      <td>2</td>\n",
       "      <td>0</td>\n",
       "      <td>NaN</td>\n",
       "      <td>NaN</td>\n",
       "      <td>NaN</td>\n",
       "      <td>7693.012917</td>\n",
       "      <td>...</td>\n",
       "      <td>False</td>\n",
       "      <td>7693.012917</td>\n",
       "      <td>9</td>\n",
       "      <td>NaN</td>\n",
       "      <td>37.750000</td>\n",
       "      <td>False</td>\n",
       "      <td>77</td>\n",
       "      <td>37.0</td>\n",
       "      <td>NaN</td>\n",
       "      <td>70</td>\n",
       "    </tr>\n",
       "    <tr>\n",
       "      <th>1</th>\n",
       "      <td>60421</td>\n",
       "      <td>1161</td>\n",
       "      <td>False</td>\n",
       "      <td>NaN</td>\n",
       "      <td>6</td>\n",
       "      <td>0</td>\n",
       "      <td>NaN</td>\n",
       "      <td>NaN</td>\n",
       "      <td>NaN</td>\n",
       "      <td>9643.271157</td>\n",
       "      <td>...</td>\n",
       "      <td>False</td>\n",
       "      <td>9643.271157</td>\n",
       "      <td>9</td>\n",
       "      <td>NaN</td>\n",
       "      <td>18.000000</td>\n",
       "      <td>False</td>\n",
       "      <td>96</td>\n",
       "      <td>18.0</td>\n",
       "      <td>NaN</td>\n",
       "      <td>90</td>\n",
       "    </tr>\n",
       "    <tr>\n",
       "      <th>2</th>\n",
       "      <td>60422</td>\n",
       "      <td>980</td>\n",
       "      <td>False</td>\n",
       "      <td>NaN</td>\n",
       "      <td>2</td>\n",
       "      <td>0</td>\n",
       "      <td>NaN</td>\n",
       "      <td>NaN</td>\n",
       "      <td>NaN</td>\n",
       "      <td>9650.615384</td>\n",
       "      <td>...</td>\n",
       "      <td>False</td>\n",
       "      <td>9650.615384</td>\n",
       "      <td>9</td>\n",
       "      <td>NaN</td>\n",
       "      <td>33.000000</td>\n",
       "      <td>False</td>\n",
       "      <td>81</td>\n",
       "      <td>33.0</td>\n",
       "      <td>NaN</td>\n",
       "      <td>80</td>\n",
       "    </tr>\n",
       "    <tr>\n",
       "      <th>3</th>\n",
       "      <td>60424</td>\n",
       "      <td>990</td>\n",
       "      <td>True</td>\n",
       "      <td>NaN</td>\n",
       "      <td>4</td>\n",
       "      <td>1</td>\n",
       "      <td>1326.0</td>\n",
       "      <td>1.0</td>\n",
       "      <td>45.0</td>\n",
       "      <td>11590.039167</td>\n",
       "      <td>...</td>\n",
       "      <td>False</td>\n",
       "      <td>11590.039167</td>\n",
       "      <td>9</td>\n",
       "      <td>28.000000</td>\n",
       "      <td>32.166667</td>\n",
       "      <td>False</td>\n",
       "      <td>82</td>\n",
       "      <td>32.0</td>\n",
       "      <td>28.0</td>\n",
       "      <td>80</td>\n",
       "    </tr>\n",
       "    <tr>\n",
       "      <th>4</th>\n",
       "      <td>60425</td>\n",
       "      <td>1143</td>\n",
       "      <td>True</td>\n",
       "      <td>NaN</td>\n",
       "      <td>1</td>\n",
       "      <td>1</td>\n",
       "      <td>1376.0</td>\n",
       "      <td>NaN</td>\n",
       "      <td>7.0</td>\n",
       "      <td>6864.914673</td>\n",
       "      <td>...</td>\n",
       "      <td>True</td>\n",
       "      <td>6864.914673</td>\n",
       "      <td>9</td>\n",
       "      <td>19.416667</td>\n",
       "      <td>20.000000</td>\n",
       "      <td>False</td>\n",
       "      <td>95</td>\n",
       "      <td>20.0</td>\n",
       "      <td>19.0</td>\n",
       "      <td>90</td>\n",
       "    </tr>\n",
       "  </tbody>\n",
       "</table>\n",
       "<p>5 rows × 25 columns</p>\n",
       "</div>"
      ],
      "text/plain": [
       "   caseid  cmbirth  evrmarry  cmdivw  rmarital  fmarno  mardat01  marend01  \\\n",
       "0   60417      926     False     NaN         2       0       NaN       NaN   \n",
       "1   60421     1161     False     NaN         6       0       NaN       NaN   \n",
       "2   60422      980     False     NaN         2       0       NaN       NaN   \n",
       "3   60424      990      True     NaN         4       1    1326.0       1.0   \n",
       "4   60425     1143      True     NaN         1       1    1376.0       NaN   \n",
       "\n",
       "   mar1diss  wgt2013_2015  ...  stillma      finalwgt  cycle   agemarry  \\\n",
       "0       NaN   7693.012917  ...    False   7693.012917      9        NaN   \n",
       "1       NaN   9643.271157  ...    False   9643.271157      9        NaN   \n",
       "2       NaN   9650.615384  ...    False   9650.615384      9        NaN   \n",
       "3      45.0  11590.039167  ...    False  11590.039167      9  28.000000   \n",
       "4       7.0   6864.914673  ...     True   6864.914673      9  19.416667   \n",
       "\n",
       "         age  missing  year  age_index  agemarry_index  birth_index  \n",
       "0  37.750000    False    77       37.0             NaN           70  \n",
       "1  18.000000    False    96       18.0             NaN           90  \n",
       "2  33.000000    False    81       33.0             NaN           80  \n",
       "3  32.166667    False    82       32.0            28.0           80  \n",
       "4  20.000000    False    95       20.0            19.0           90  \n",
       "\n",
       "[5 rows x 25 columns]"
      ]
     },
     "execution_count": 22,
     "metadata": {},
     "output_type": "execute_result"
    }
   ],
   "source": [
    "male2015 = marriage.ReadMaleResp2015()\n",
    "male2015.head()"
   ]
  },
  {
   "cell_type": "code",
   "execution_count": 23,
   "metadata": {},
   "outputs": [
    {
     "data": {
      "text/plain": [
       "34398"
      ]
     },
     "execution_count": 23,
     "metadata": {},
     "output_type": "execute_result"
    }
   ],
   "source": [
    "import pandas as pd\n",
    "\n",
    "males = [male2002, male2010, male2013, male2015, male2017, male2019]\n",
    "df2 = pd.concat(males, ignore_index=True, sort=False)\n",
    "len(df2)"
   ]
  },
  {
   "cell_type": "code",
   "execution_count": 24,
   "metadata": {},
   "outputs": [
    {
     "data": {
      "text/plain": [
       "0"
      ]
     },
     "execution_count": 24,
     "metadata": {},
     "output_type": "execute_result"
    }
   ],
   "source": [
    "sum(df2.missing)"
   ]
  },
  {
   "cell_type": "code",
   "execution_count": 25,
   "metadata": {},
   "outputs": [
    {
     "name": "stdout",
     "output_type": "stream",
     "text": [
      "50 & 322 & 42 -- 45 & 224 & 0 \\\\\n",
      "60 & 4071 & 32 -- 50 & 2827 & 0 \\\\\n",
      "70 & 9476 & 22 -- 49 & 5743 & 0 \\\\\n",
      "80 & 11421 & 15 -- 39 & 3259 & 0 \\\\\n",
      "90 & 7856 & 15 -- 29 & 457 & 0 \\\\\n",
      "100 & 1252 & 15 -- 19 & 1 & 0 \\\\\n"
     ]
    }
   ],
   "source": [
    "marriage.DigitizeResp(df2)\n",
    "grouped = df2.groupby('birth_index')\n",
    "for name, group in iter(grouped):\n",
    "    print(name, '&', len(group), '&', int(group.age.min()), '--', int(group.age_index.max()),\n",
    "                '&', len(group[group.evrmarry]), '&', sum(group.missing), r'\\\\')"
   ]
  },
  {
   "cell_type": "code",
   "execution_count": 26,
   "metadata": {},
   "outputs": [],
   "source": [
    "df2['complete'] = df2.evrmarry\n",
    "df2['complete_var'] = df2.agemarry_index\n",
    "df2['ongoing_var'] = df2.age_index\n",
    "df2['complete_missing'] = df2.complete & df2.complete_var.isnull()\n",
    "df2['ongoing_missing'] = ~df2.complete & df2.ongoing_var.isnull()"
   ]
  },
  {
   "cell_type": "code",
   "execution_count": 27,
   "metadata": {},
   "outputs": [
    {
     "name": "stdout",
     "output_type": "stream",
     "text": [
      "0 0\n"
     ]
    }
   ],
   "source": [
    "print(sum(df2.complete_missing), sum(df2.ongoing_missing))"
   ]
  },
  {
   "cell_type": "code",
   "execution_count": 28,
   "metadata": {},
   "outputs": [],
   "source": [
    "df2.to_hdf('MaleMarriageData.hdf', 'MaleMarriageData')"
   ]
  },
  {
   "cell_type": "code",
   "execution_count": 29,
   "metadata": {},
   "outputs": [
    {
     "name": "stdout",
     "output_type": "stream",
     "text": [
      "CPU times: user 45.1 ms, sys: 4.03 ms, total: 49.1 ms\n",
      "Wall time: 49.2 ms\n"
     ]
    }
   ],
   "source": [
    "%time nsfg_male = pd.read_hdf('MaleMarriageData.hdf', 'MaleMarriageData')"
   ]
  },
  {
   "cell_type": "code",
   "execution_count": null,
   "metadata": {},
   "outputs": [],
   "source": []
  }
 ],
 "metadata": {
  "kernelspec": {
   "display_name": "Python 3",
   "language": "python",
   "name": "python3"
  },
  "language_info": {
   "codemirror_mode": {
    "name": "ipython",
    "version": 3
   },
   "file_extension": ".py",
   "mimetype": "text/x-python",
   "name": "python",
   "nbconvert_exporter": "python",
   "pygments_lexer": "ipython3",
   "version": "3.6.10"
  }
 },
 "nbformat": 4,
 "nbformat_minor": 1
}
