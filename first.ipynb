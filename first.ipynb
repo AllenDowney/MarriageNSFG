{
 "metadata": {
  "name": "",
  "signature": "sha256:351135b3f85c7abab07f0aaa6a8e8582dc47ecaee3921dcb4486b928c50126f6"
 },
 "nbformat": 3,
 "nbformat_minor": 0,
 "worksheets": [
  {
   "cells": [
    {
     "cell_type": "markdown",
     "metadata": {},
     "source": [
      "##Are first babies more likely to be late?\n",
      "\n",
      "Copyright 2015 Allen Downey\n",
      "\n",
      "License: [Creative Commons Attribution 4.0 International](http://creativecommons.org/licenses/by/4.0/)"
     ]
    },
    {
     "cell_type": "code",
     "collapsed": false,
     "input": [
      "from __future__ import print_function, division\n",
      "\n",
      "import marriage\n",
      "\n",
      "import thinkstats2\n",
      "import thinkplot\n",
      "\n",
      "import math\n",
      "\n",
      "import pandas as pd\n",
      "import numpy as np\n",
      "\n",
      "%matplotlib inline"
     ],
     "language": "python",
     "metadata": {},
     "outputs": [],
     "prompt_number": 1
    },
    {
     "cell_type": "markdown",
     "metadata": {},
     "source": [
      "Load the data:"
     ]
    },
    {
     "cell_type": "code",
     "collapsed": false,
     "input": [
      "def ReadFemPreg(dct_file, dat_file, usecols):\n",
      "    \"\"\"Reads the NSFG pregnancy data.\n",
      "\n",
      "    dct_file: string file name\n",
      "    dat_file: string file name\n",
      "\n",
      "    returns: DataFrame\n",
      "    \"\"\"\n",
      "    dct = thinkstats2.ReadStataDct(dct_file, encoding='ISO-8859-1')\n",
      "    df = dct.ReadFixedWidth(dat_file, compression='gzip', usecols=usecols)\n",
      "    return df"
     ],
     "language": "python",
     "metadata": {},
     "outputs": [],
     "prompt_number": 104
    },
    {
     "cell_type": "code",
     "collapsed": false,
     "input": [
      "usecols = ['outcome', 'prglngth', 'birthord', 'finalwgt']\n",
      "preg6 = ReadFemPreg('2002FemPreg.dct', '2002FemPreg.dat.gz', usecols)\n",
      "preg6 = preg6[preg6.outcome == 1]"
     ],
     "language": "python",
     "metadata": {},
     "outputs": [],
     "prompt_number": 107
    },
    {
     "cell_type": "code",
     "collapsed": false,
     "input": [
      "preg6.birthord.value_counts().sort_index()"
     ],
     "language": "python",
     "metadata": {},
     "outputs": [
      {
       "metadata": {},
       "output_type": "pyout",
       "prompt_number": 108,
       "text": [
        "1     4413\n",
        "2     2874\n",
        "3     1234\n",
        "4      421\n",
        "5      126\n",
        "6       50\n",
        "7       20\n",
        "8        7\n",
        "9        2\n",
        "10       1\n",
        "dtype: int64"
       ]
      }
     ],
     "prompt_number": 108
    },
    {
     "cell_type": "markdown",
     "metadata": {},
     "source": [
      "Make a list of DataFrames, one for each cycle:"
     ]
    },
    {
     "cell_type": "code",
     "collapsed": false,
     "input": [
      "sum(preg6.prglngth >= 27)"
     ],
     "language": "python",
     "metadata": {},
     "outputs": [
      {
       "metadata": {},
       "output_type": "pyout",
       "prompt_number": 109,
       "text": [
        "9078"
       ]
      }
     ],
     "prompt_number": 109
    },
    {
     "cell_type": "code",
     "collapsed": false,
     "input": [
      "preg6.finalwgt.describe()"
     ],
     "language": "python",
     "metadata": {},
     "outputs": [
      {
       "metadata": {},
       "output_type": "pyout",
       "prompt_number": 110,
       "text": [
        "count      9148.000000\n",
        "mean       8404.364417\n",
        "std        9142.507490\n",
        "min         118.656790\n",
        "25%        3995.837136\n",
        "50%        6415.602101\n",
        "75%        9555.442649\n",
        "max      261879.953864\n",
        "Name: finalwgt, dtype: float64"
       ]
      }
     ],
     "prompt_number": 110
    },
    {
     "cell_type": "code",
     "collapsed": false,
     "input": [
      "usecols = ['outcome', 'prglngth', 'birthord', 'wgtq1q16']\n",
      "preg7 = ReadFemPreg('2006_2010_FemPregSetup.dct', '2006_2010_FemPreg.dat.gz', usecols)\n",
      "preg7 = preg7[preg7.outcome == 1]\n",
      "preg7['finalwgt'] = preg7.wgtq1q16\n",
      "preg7.shape"
     ],
     "language": "python",
     "metadata": {},
     "outputs": [
      {
       "metadata": {},
       "output_type": "pyout",
       "prompt_number": 112,
       "text": [
        "(14292, 5)"
       ]
      }
     ],
     "prompt_number": 112
    },
    {
     "cell_type": "code",
     "collapsed": false,
     "input": [
      "preg7.birthord.value_counts().sort_index()"
     ],
     "language": "python",
     "metadata": {},
     "outputs": [
      {
       "metadata": {},
       "output_type": "pyout",
       "prompt_number": 113,
       "text": [
        "1     6683\n",
        "2     4415\n",
        "3     2030\n",
        "4      734\n",
        "5      269\n",
        "6      102\n",
        "7       36\n",
        "8       13\n",
        "9        7\n",
        "10       2\n",
        "11       1\n",
        "dtype: int64"
       ]
      }
     ],
     "prompt_number": 113
    },
    {
     "cell_type": "code",
     "collapsed": false,
     "input": [
      "sum(preg7.prglngth >= 27)"
     ],
     "language": "python",
     "metadata": {},
     "outputs": [
      {
       "metadata": {},
       "output_type": "pyout",
       "prompt_number": 114,
       "text": [
        "14167"
       ]
      }
     ],
     "prompt_number": 114
    },
    {
     "cell_type": "code",
     "collapsed": false,
     "input": [
      "# note: min and max should be 38.700642694-49735.071265\n",
      "preg7.finalwgt.describe()"
     ],
     "language": "python",
     "metadata": {},
     "outputs": [
      {
       "metadata": {},
       "output_type": "pyout",
       "prompt_number": 115,
       "text": [
        "count    14292.000000\n",
        "mean      5306.068571\n",
        "std       5967.788429\n",
        "min         44.023984\n",
        "25%       1509.629839\n",
        "50%       3078.497086\n",
        "75%       6594.905896\n",
        "max      30226.354508\n",
        "Name: finalwgt, dtype: float64"
       ]
      }
     ],
     "prompt_number": 115
    },
    {
     "cell_type": "code",
     "collapsed": false,
     "input": [
      "usecols = ['outcome', 'prglngth', 'birthord', 'wgt2011_2013']\n",
      "preg8 = ReadFemPreg('2011_2013_FemPregSetup.dct', '2011_2013_FemPregData.dat.gz', usecols)\n",
      "preg8 = preg8[preg8.outcome == 1]\n",
      "preg8['finalwgt'] = preg8.wgt2011_2013\n",
      "preg8.shape"
     ],
     "language": "python",
     "metadata": {},
     "outputs": [
      {
       "metadata": {},
       "output_type": "pyout",
       "prompt_number": 117,
       "text": [
        "(6670, 5)"
       ]
      }
     ],
     "prompt_number": 117
    },
    {
     "cell_type": "code",
     "collapsed": false,
     "input": [
      "preg8.birthord.value_counts().sort_index()"
     ],
     "language": "python",
     "metadata": {},
     "outputs": [
      {
       "metadata": {},
       "output_type": "pyout",
       "prompt_number": 118,
       "text": [
        "1    3141\n",
        "2    2076\n",
        "3     957\n",
        "4     327\n",
        "5     113\n",
        "6      34\n",
        "7      16\n",
        "8       5\n",
        "9       1\n",
        "dtype: int64"
       ]
      }
     ],
     "prompt_number": 118
    },
    {
     "cell_type": "code",
     "collapsed": false,
     "input": [
      "sum(preg8.prglngth >= 27)"
     ],
     "language": "python",
     "metadata": {},
     "outputs": [
      {
       "metadata": {},
       "output_type": "pyout",
       "prompt_number": 119,
       "text": [
        "6615"
       ]
      }
     ],
     "prompt_number": 119
    },
    {
     "cell_type": "code",
     "collapsed": false,
     "input": [
      "preg8.finalwgt.describe()"
     ],
     "language": "python",
     "metadata": {},
     "outputs": [
      {
       "metadata": {},
       "output_type": "pyout",
       "prompt_number": 120,
       "text": [
        "count     6670.000000\n",
        "mean     11173.091142\n",
        "std      12939.068547\n",
        "min       1714.541000\n",
        "25%       3985.078597\n",
        "50%       6834.593716\n",
        "75%      12984.239442\n",
        "max      85207.950000\n",
        "Name: finalwgt, dtype: float64"
       ]
      }
     ],
     "prompt_number": 120
    },
    {
     "cell_type": "code",
     "collapsed": false,
     "input": [
      "resp8 = marriage.ReadFemResp2013()\n",
      "marriage.Validate2013(resp8)\n",
      "resp8 = resp8[resp8.parity >= 1]\n",
      "\n",
      "resp7 = marriage.ReadFemResp2010()\n",
      "marriage.Validate2010(resp7)\n",
      "resp7 = resp7[resp7.parity >= 1]\n",
      "\n",
      "resp6 = marriage.ReadFemResp2002()\n",
      "marriage.Validate2002(resp6)\n",
      "resp6 = resp6[resp6.parity >= 1]"
     ],
     "language": "python",
     "metadata": {},
     "outputs": [],
     "prompt_number": 67
    },
    {
     "cell_type": "code",
     "collapsed": false,
     "input": [
      "resps = [resp6, resp7, resp8]\n",
      "pregs = [preg6, preg7, preg8]"
     ],
     "language": "python",
     "metadata": {},
     "outputs": [],
     "prompt_number": 121
    },
    {
     "cell_type": "code",
     "collapsed": false,
     "input": [
      "def SummarizeCycle(df):\n",
      "    ages = df.age.min(), df.age.max()\n",
      "    ages= np.array(ages)\n",
      "    \n",
      "    intvws = df.cmintvw.min(), df.cmintvw.max()\n",
      "    intvws = np.array(intvws) / 12 + 1900\n",
      "    \n",
      "    births = df.cmbirth.min(), df.cmbirth.max()\n",
      "    births = np.array(births) / 12 + 1900\n",
      "\n",
      "    print('# & ', intvws.astype(int), '&', len(df), '&', births.astype(int), r'\\\\')\n",
      "    \n",
      "for resp in reversed(resps):\n",
      "    SummarizeCycle(resp)"
     ],
     "language": "python",
     "metadata": {},
     "outputs": [
      {
       "output_type": "stream",
       "stream": "stdout",
       "text": [
        "# &  [2011 2013] & 3141 & [1966 1997] \\\\\n",
        "# &  [2006 2010] & 6683 & [1961 1993] \\\\\n",
        "# &  [2002 2003] & 4413 & [1957 1986] \\\\\n"
       ]
      }
     ],
     "prompt_number": 122
    },
    {
     "cell_type": "code",
     "collapsed": false,
     "input": [
      "def ResampleAndSelect(resp, preg):\n",
      "    sample = thinkstats2.ResampleRowsWeighted(resp, column='finalwgt')\n",
      "    print('1')\n",
      "    \n",
      "    dfs = [preg[preg.caseid == caseid] for caseid in sample.caseid]\n",
      "    print('2')\n",
      "    \n",
      "    rows = pd.concat(dfs, ignore_index=True)\n",
      "    print('3')\n",
      "\n",
      "    return rows\n",
      "\n",
      "%time sample6 = ResampleAndSelect(resp6, preg6)\n",
      "sample6.shape"
     ],
     "language": "python",
     "metadata": {},
     "outputs": [
      {
       "output_type": "stream",
       "stream": "stdout",
       "text": [
        "1\n",
        "2"
       ]
      },
      {
       "output_type": "stream",
       "stream": "stdout",
       "text": [
        "\n",
        "3"
       ]
      },
      {
       "output_type": "stream",
       "stream": "stdout",
       "text": [
        "\n",
        "CPU times: user 6.38 s, sys: 28 ms, total: 6.41 s\n",
        "Wall time: 6.42 s\n"
       ]
      },
      {
       "metadata": {},
       "output_type": "pyout",
       "prompt_number": 93,
       "text": [
        "(9459, 243)"
       ]
      }
     ],
     "prompt_number": 93
    },
    {
     "cell_type": "code",
     "collapsed": false,
     "input": [
      "grouped6 = preg6.groupby('caseid')"
     ],
     "language": "python",
     "metadata": {},
     "outputs": [],
     "prompt_number": 84
    },
    {
     "cell_type": "code",
     "collapsed": false,
     "input": [
      "def ResampleAndSelect(resp, grouped):\n",
      "    sample = thinkstats2.ResampleRowsWeighted(resp, column='finalwgt')\n",
      "    print('1')\n",
      "\n",
      "    dfs = [grouped.get_group(caseid) for caseid in sample.caseid]\n",
      "    print('2', len(dfs))\n",
      "\n",
      "    rows = pd.concat(dfs, ignore_index=True)\n",
      "    print('3')\n",
      "    return rows\n",
      "\n",
      "%time sample6 = ResampleAndSelect(resp6, grouped6)\n",
      "sample6.shape"
     ],
     "language": "python",
     "metadata": {},
     "outputs": [
      {
       "output_type": "stream",
       "stream": "stdout",
       "text": [
        "1\n",
        "2"
       ]
      },
      {
       "output_type": "stream",
       "stream": "stdout",
       "text": [
        " 4413\n",
        "3"
       ]
      },
      {
       "output_type": "stream",
       "stream": "stdout",
       "text": [
        "\n",
        "CPU times: user 5.05 s, sys: 36 ms, total: 5.09 s\n",
        "Wall time: 5.1 s\n"
       ]
      },
      {
       "metadata": {},
       "output_type": "pyout",
       "prompt_number": 95,
       "text": [
        "(9433, 243)"
       ]
      }
     ],
     "prompt_number": 95
    },
    {
     "cell_type": "code",
     "collapsed": false,
     "input": [
      "def ResamplePreg(preg):\n",
      "    sample = thinkstats2.ResampleRowsWeighted(preg, column='finalwgt')\n",
      "    return sample\n",
      "\n",
      "%time sample7 = ResamplePreg(preg7)\n",
      "sample7.shape"
     ],
     "language": "python",
     "metadata": {},
     "outputs": [
      {
       "output_type": "stream",
       "stream": "stdout",
       "text": [
        "CPU times: user 136 ms, sys: 12 ms, total: 148 ms\n",
        "Wall time: 138 ms\n"
       ]
      },
      {
       "metadata": {},
       "output_type": "pyout",
       "prompt_number": 103,
       "text": [
        "(14292, 288)"
       ]
      }
     ],
     "prompt_number": 103
    },
    {
     "cell_type": "code",
     "collapsed": false,
     "input": [
      "sample6 = ResampleAndSelect(resp6, grouped6)"
     ],
     "language": "python",
     "metadata": {},
     "outputs": [],
     "prompt_number": 82
    },
    {
     "cell_type": "code",
     "collapsed": false,
     "input": [
      "preg6.shape, sample6.shape"
     ],
     "language": "python",
     "metadata": {},
     "outputs": [
      {
       "metadata": {},
       "output_type": "pyout",
       "prompt_number": 19,
       "text": [
        "((13593, 243), (13685, 243))"
       ]
      }
     ],
     "prompt_number": 19
    },
    {
     "cell_type": "code",
     "collapsed": false,
     "input": [
      "sample7 = ResampleAndSelect(resp7, preg7)"
     ],
     "language": "python",
     "metadata": {},
     "outputs": [],
     "prompt_number": 20
    },
    {
     "cell_type": "code",
     "collapsed": false,
     "input": [
      "preg7.shape, sample7.shape"
     ],
     "language": "python",
     "metadata": {},
     "outputs": [
      {
       "metadata": {},
       "output_type": "pyout",
       "prompt_number": 21,
       "text": [
        "((20492, 288), (21288, 288))"
       ]
      }
     ],
     "prompt_number": 21
    },
    {
     "cell_type": "code",
     "collapsed": false,
     "input": [
      "sample8 = ResampleAndSelect(resp8, preg8)\n",
      "preg8.shape, sample8.shape"
     ],
     "language": "python",
     "metadata": {},
     "outputs": [
      {
       "metadata": {},
       "output_type": "pyout",
       "prompt_number": 22,
       "text": [
        "((9543, 279), (9829, 279))"
       ]
      }
     ],
     "prompt_number": 22
    },
    {
     "cell_type": "markdown",
     "metadata": {},
     "source": [
      "Make a table showing the number of respondents in each cycle:"
     ]
    },
    {
     "cell_type": "code",
     "collapsed": false,
     "input": [
      "sample = pd.concat([sample6, sample7, sample8])\n",
      "sample.shape"
     ],
     "language": "python",
     "metadata": {},
     "outputs": [
      {
       "metadata": {},
       "output_type": "pyout",
       "prompt_number": 24,
       "text": [
        "(44802, 327)"
       ]
      }
     ],
     "prompt_number": 24
    },
    {
     "cell_type": "code",
     "collapsed": false,
     "input": [
      "def Resample(pregs):\n",
      "    samples = [thinkstats2.ResampleRowsWeighted(preg, column='finalwgt') \n",
      "               for preg in pregs]\n",
      "    sample = pd.concat(samples)\n",
      "    return sample\n",
      "\n",
      "sample = Resample(pregs)"
     ],
     "language": "python",
     "metadata": {},
     "outputs": [],
     "prompt_number": 124
    },
    {
     "cell_type": "code",
     "collapsed": false,
     "input": [
      "firsts = sample[sample.birthord == 1]\n",
      "firsts.shape"
     ],
     "language": "python",
     "metadata": {},
     "outputs": [
      {
       "metadata": {},
       "output_type": "pyout",
       "prompt_number": 125,
       "text": [
        "(13805, 6)"
       ]
      }
     ],
     "prompt_number": 125
    },
    {
     "cell_type": "code",
     "collapsed": false,
     "input": [
      "others = sample[sample.birthord > 1]\n",
      "others.shape"
     ],
     "language": "python",
     "metadata": {},
     "outputs": [
      {
       "metadata": {},
       "output_type": "pyout",
       "prompt_number": 126,
       "text": [
        "(16305, 6)"
       ]
      }
     ],
     "prompt_number": 126
    },
    {
     "cell_type": "code",
     "collapsed": false,
     "input": [
      "def Split(sample):\n",
      "    firsts = sample[sample.birthord == 1]\n",
      "    others = sample[sample.birthord > 1]\n",
      "    return firsts, others"
     ],
     "language": "python",
     "metadata": {},
     "outputs": [],
     "prompt_number": 127
    },
    {
     "cell_type": "code",
     "collapsed": false,
     "input": [
      "sum(firsts.prglngth.isnull())"
     ],
     "language": "python",
     "metadata": {},
     "outputs": [
      {
       "metadata": {},
       "output_type": "pyout",
       "prompt_number": 28,
       "text": [
        "0"
       ]
      }
     ],
     "prompt_number": 28
    },
    {
     "cell_type": "code",
     "collapsed": false,
     "input": [
      "sum(others.prglngth.isnull())"
     ],
     "language": "python",
     "metadata": {},
     "outputs": [
      {
       "metadata": {},
       "output_type": "pyout",
       "prompt_number": 29,
       "text": [
        "0"
       ]
      }
     ],
     "prompt_number": 29
    },
    {
     "cell_type": "code",
     "collapsed": false,
     "input": [
      "firsts.prglngth.value_counts().sort_index()"
     ],
     "language": "python",
     "metadata": {},
     "outputs": [
      {
       "metadata": {},
       "output_type": "pyout",
       "prompt_number": 30,
       "text": [
        "0        5\n",
        "17       3\n",
        "20       4\n",
        "21       8\n",
        "22      11\n",
        "23       1\n",
        "24      14\n",
        "25       9\n",
        "26      50\n",
        "27       7\n",
        "28      56\n",
        "29      25\n",
        "30     196\n",
        "31      53\n",
        "32     191\n",
        "33      65\n",
        "34     142\n",
        "35     460\n",
        "36     606\n",
        "37     750\n",
        "38    1186\n",
        "39    5802\n",
        "40    2364\n",
        "41    1273\n",
        "42     778\n",
        "43     264\n",
        "44      45\n",
        "45       3\n",
        "46       4\n",
        "dtype: int64"
       ]
      }
     ],
     "prompt_number": 30
    },
    {
     "cell_type": "code",
     "collapsed": false,
     "input": [
      "others.prglngth.value_counts().sort_index()"
     ],
     "language": "python",
     "metadata": {},
     "outputs": [
      {
       "metadata": {},
       "output_type": "pyout",
       "prompt_number": 31,
       "text": [
        "7        1\n",
        "13       1\n",
        "19       9\n",
        "20       6\n",
        "21       2\n",
        "22      15\n",
        "23       3\n",
        "24      13\n",
        "25       5\n",
        "26      37\n",
        "27      15\n",
        "28      51\n",
        "29      24\n",
        "30     161\n",
        "31      26\n",
        "32     200\n",
        "33      70\n",
        "34     176\n",
        "35     513\n",
        "36     653\n",
        "37    1010\n",
        "38    1726\n",
        "39    8002\n",
        "40    2692\n",
        "41     930\n",
        "42     485\n",
        "43     153\n",
        "44      39\n",
        "45       7\n",
        "46       4\n",
        "50       5\n",
        "dtype: int64"
       ]
      }
     ],
     "prompt_number": 31
    },
    {
     "cell_type": "code",
     "collapsed": false,
     "input": [
      "len(firsts.prglngth), len(others.prglngth)"
     ],
     "language": "python",
     "metadata": {},
     "outputs": [
      {
       "metadata": {},
       "output_type": "pyout",
       "prompt_number": 32,
       "text": [
        "(14375, 17034)"
       ]
      }
     ],
     "prompt_number": 32
    },
    {
     "cell_type": "code",
     "collapsed": false,
     "input": [
      "firsts.prglngth.mean(), others.prglngth.mean()"
     ],
     "language": "python",
     "metadata": {},
     "outputs": [
      {
       "metadata": {},
       "output_type": "pyout",
       "prompt_number": 33,
       "text": [
        "(38.650921739130432, 38.554244452271924)"
       ]
      }
     ],
     "prompt_number": 33
    },
    {
     "cell_type": "code",
     "collapsed": false,
     "input": [
      "diff = firsts.prglngth.mean() - others.prglngth.mean()\n",
      "diff, diff * 7, diff * 7 * 24"
     ],
     "language": "python",
     "metadata": {},
     "outputs": [
      {
       "metadata": {},
       "output_type": "pyout",
       "prompt_number": 34,
       "text": [
        "(0.096677286858508182, 0.67674100800955728, 16.241784192229375)"
       ]
      }
     ],
     "prompt_number": 34
    },
    {
     "cell_type": "code",
     "collapsed": false,
     "input": [
      "firsts.prglngth.std(), others.prglngth.std()"
     ],
     "language": "python",
     "metadata": {},
     "outputs": [
      {
       "metadata": {},
       "output_type": "pyout",
       "prompt_number": 35,
       "text": [
        "(2.7670103990440409, 2.3894617130214995)"
       ]
      }
     ],
     "prompt_number": 35
    },
    {
     "cell_type": "code",
     "collapsed": false,
     "input": [
      "se1 = firsts.prglngth.std() / math.sqrt(len(firsts.prglngth))\n",
      "se1"
     ],
     "language": "python",
     "metadata": {},
     "outputs": [
      {
       "metadata": {},
       "output_type": "pyout",
       "prompt_number": 36,
       "text": [
        "0.023078462081860034"
       ]
      }
     ],
     "prompt_number": 36
    },
    {
     "cell_type": "code",
     "collapsed": false,
     "input": [
      "se2 = others.prglngth.std() / math.sqrt(len(others.prglngth))\n",
      "se2"
     ],
     "language": "python",
     "metadata": {},
     "outputs": [
      {
       "metadata": {},
       "output_type": "pyout",
       "prompt_number": 37,
       "text": [
        "0.018308035869793082"
       ]
      }
     ],
     "prompt_number": 37
    },
    {
     "cell_type": "code",
     "collapsed": false,
     "input": [
      "diff / se1, diff / se2"
     ],
     "language": "python",
     "metadata": {},
     "outputs": [
      {
       "metadata": {},
       "output_type": "pyout",
       "prompt_number": 38,
       "text": [
        "(4.1890697272457231, 5.2805930437365278)"
       ]
      }
     ],
     "prompt_number": 38
    },
    {
     "cell_type": "code",
     "collapsed": false,
     "input": [
      "cdf_firsts = thinkstats2.Cdf(firsts.prglngth, label='firsts')\n",
      "\n",
      "thinkplot.PrePlot(2)\n",
      "thinkplot.Cdf(cdf_firsts)\n",
      "thinkplot.Config(xlabel='pregnancy length (weeks)',\n",
      "                 ylabel='CDF',\n",
      "                 loc='upper left')"
     ],
     "language": "python",
     "metadata": {},
     "outputs": [
      {
       "metadata": {},
       "output_type": "display_data",
       "png": "[encoded data removed]",
       "text": [
        "<matplotlib.figure.Figure at 0x7fc0db364d90>"
       ]
      }
     ],
     "prompt_number": 39
    },
    {
     "cell_type": "code",
     "collapsed": false,
     "input": [
      "cdf_others = thinkstats2.Cdf(others.prglngth, label='others')\n",
      "\n",
      "thinkplot.Cdf(cdf_others)\n",
      "thinkplot.Config(xlabel='pregnancy length (weeks)',\n",
      "                 ylabel='CDF',\n",
      "                 loc='upper left')"
     ],
     "language": "python",
     "metadata": {},
     "outputs": [
      {
       "metadata": {},
       "output_type": "display_data",
       "png": "[encoded data removed]",
       "text": [
        "<matplotlib.figure.Figure at 0x7fc0db2b6790>"
       ]
      }
     ],
     "prompt_number": 40
    },
    {
     "cell_type": "code",
     "collapsed": false,
     "input": [
      "reload(thinkstats2)\n",
      "\n",
      "jitter = 0.5\n",
      "\n",
      "length_firsts = thinkstats2.Jitter(firsts.prglngth, jitter)\n",
      "cdf_firsts = thinkstats2.Cdf(length_firsts, label='firsts')\n",
      "\n",
      "length_others = thinkstats2.Jitter(others.prglngth, jitter)\n",
      "cdf_others = thinkstats2.Cdf(length_others, label='others')\n",
      "\n",
      "thinkplot.PrePlot(2)\n",
      "thinkplot.Cdf(cdf_firsts)\n",
      "thinkplot.Cdf(cdf_others)\n",
      "thinkplot.Config(xlabel='pregnancy length (weeks)',\n",
      "                 xlim=[30, 45],\n",
      "                 ylabel='CDF',\n",
      "                 loc='upper left')"
     ],
     "language": "python",
     "metadata": {},
     "outputs": [
      {
       "metadata": {},
       "output_type": "display_data",
       "png": "[encoded data removed]",
       "text": [
        "<matplotlib.figure.Figure at 0x7fc0e971aad0>"
       ]
      }
     ],
     "prompt_number": 41
    },
    {
     "cell_type": "code",
     "collapsed": false,
     "input": [
      "def RemainingDurationPmf(pmf, weeks):\n",
      "    new = thinkstats2.Pmf(label=pmf.label)\n",
      "    for x, p in pmf.Items():\n",
      "        if x >= weeks:\n",
      "            new[x - weeks] = p\n",
      "    new.Normalize()\n",
      "    return new"
     ],
     "language": "python",
     "metadata": {},
     "outputs": [],
     "prompt_number": 42
    },
    {
     "cell_type": "code",
     "collapsed": false,
     "input": [
      "pmf_firsts = thinkstats2.Pmf(length_firsts, label='firsts')\n",
      "pmf_others = thinkstats2.Pmf(length_others, label='others')"
     ],
     "language": "python",
     "metadata": {},
     "outputs": [],
     "prompt_number": 43
    },
    {
     "cell_type": "code",
     "collapsed": false,
     "input": [
      "def PlotRemaining(pmfs, weeks):\n",
      "    cdfs = [RemainingDurationPmf(pmf, weeks).MakeCdf()\n",
      "            for pmf in pmfs]\n",
      "\n",
      "    thinkplot.PrePlot(len(cdfs))\n",
      "    thinkplot.Cdfs(cdfs)"
     ],
     "language": "python",
     "metadata": {},
     "outputs": [],
     "prompt_number": 44
    },
    {
     "cell_type": "code",
     "collapsed": false,
     "input": [
      "loc = 'lower right'\n",
      "PlotRemaining([pmf_firsts, pmf_others], 30)\n",
      "thinkplot.Config(xlabel='pregnancy length (weeks)',\n",
      "                 ylabel='CDF',\n",
      "                 loc=loc)"
     ],
     "language": "python",
     "metadata": {},
     "outputs": [
      {
       "metadata": {},
       "output_type": "display_data",
       "png": "[encoded data removed]",
       "text": [
        "<matplotlib.figure.Figure at 0x7fc0da1192d0>"
       ]
      }
     ],
     "prompt_number": 45
    },
    {
     "cell_type": "code",
     "collapsed": false,
     "input": [
      "PlotRemaining([pmf_firsts, pmf_others], 32)\n",
      "thinkplot.Config(xlabel='pregnancy length (weeks)',\n",
      "                 ylabel='CDF',\n",
      "                 loc=loc)"
     ],
     "language": "python",
     "metadata": {},
     "outputs": [
      {
       "metadata": {},
       "output_type": "display_data",
       "png": "[encoded data removed]",
       "text": [
        "<matplotlib.figure.Figure at 0x7fc0da124e10>"
       ]
      }
     ],
     "prompt_number": 46
    },
    {
     "cell_type": "code",
     "collapsed": false,
     "input": [
      "PlotRemaining([pmf_firsts, pmf_others], 34)\n",
      "thinkplot.Config(xlabel='pregnancy length (weeks)',\n",
      "                 ylabel='CDF',\n",
      "                 loc=loc)"
     ],
     "language": "python",
     "metadata": {},
     "outputs": [
      {
       "metadata": {},
       "output_type": "display_data",
       "png": "[encoded data removed]",
       "text": [
        "<matplotlib.figure.Figure at 0x7fc0e9997450>"
       ]
      }
     ],
     "prompt_number": 47
    },
    {
     "cell_type": "code",
     "collapsed": false,
     "input": [
      "PlotRemaining([pmf_firsts, pmf_others], 36)\n",
      "thinkplot.Config(xlabel='pregnancy length (weeks)',\n",
      "                 ylabel='CDF',\n",
      "                 loc=loc)"
     ],
     "language": "python",
     "metadata": {},
     "outputs": [
      {
       "metadata": {},
       "output_type": "display_data",
       "png": "[encoded data removed]",
       "text": [
        "<matplotlib.figure.Figure at 0x7fc0d0d27a50>"
       ]
      }
     ],
     "prompt_number": 48
    },
    {
     "cell_type": "code",
     "collapsed": false,
     "input": [
      "PlotRemaining([pmf_firsts, pmf_others], 38)\n",
      "thinkplot.Config(xlabel='pregnancy length (weeks)',\n",
      "                 ylabel='CDF',\n",
      "                 loc=loc)"
     ],
     "language": "python",
     "metadata": {},
     "outputs": [
      {
       "metadata": {},
       "output_type": "display_data",
       "png": "[encoded data removed]",
       "text": [
        "<matplotlib.figure.Figure at 0x7fc0db0e95d0>"
       ]
      }
     ],
     "prompt_number": 49
    },
    {
     "cell_type": "code",
     "collapsed": false,
     "input": [
      "PlotRemaining([pmf_firsts, pmf_others], 39)\n",
      "thinkplot.Config(xlabel='pregnancy length (weeks)',\n",
      "                 ylabel='CDF',\n",
      "                 loc=loc)"
     ],
     "language": "python",
     "metadata": {},
     "outputs": [
      {
       "metadata": {},
       "output_type": "display_data",
       "png": "[encoded data removed]",
       "text": [
        "<matplotlib.figure.Figure at 0x7fc0db364f10>"
       ]
      }
     ],
     "prompt_number": 50
    },
    {
     "cell_type": "code",
     "collapsed": false,
     "input": [
      "def PercentilesRemaining(pmfs, weeks):\n",
      "    cdfs = [RemainingDurationPmf(pmf, weeks).MakeCdf()\n",
      "            for pmf in pmfs]\n",
      "    \n",
      "    for cdf in cdfs:\n",
      "        print([cdf.Percentile(p) * 7 for p in [25, 50, 75]])\n"
     ],
     "language": "python",
     "metadata": {},
     "outputs": [],
     "prompt_number": 51
    },
    {
     "cell_type": "code",
     "collapsed": false,
     "input": [
      "PercentilesRemaining([pmf_firsts, pmf_others], 39)"
     ],
     "language": "python",
     "metadata": {},
     "outputs": [
      {
       "output_type": "stream",
       "stream": "stdout",
       "text": [
        "[2.7993806561819312, 6.633238817196343, 13.398214249467543]\n",
        "[2.2461420650292894, 5.0391027595279425, 9.9531085828449122]\n"
       ]
      }
     ],
     "prompt_number": 52
    },
    {
     "cell_type": "code",
     "collapsed": false,
     "input": [
      "percentiles = [50, 75, 25]\n",
      "\n",
      "def PercentilesRemaining(pmf, ts):\n",
      "    array = np.zeros((len(ts), len(percentiles)))\n",
      "    \n",
      "    for i, t in enumerate(ts):\n",
      "        cdf = RemainingDurationPmf(pmf, t).MakeCdf()\n",
      "        ps = [cdf.Percentile(p) * 7 for p in percentiles]\n",
      "        #print(t, ps)\n",
      "        array[i, :] = ps\n",
      "        \n",
      "    return array"
     ],
     "language": "python",
     "metadata": {},
     "outputs": [],
     "prompt_number": 53
    },
    {
     "cell_type": "code",
     "collapsed": false,
     "input": [
      "ts = np.arange(36, 44)\n",
      "ps_firsts = PercentilesRemaining(pmf_firsts, ts)\n",
      "ps_firsts"
     ],
     "language": "python",
     "metadata": {},
     "outputs": [
      {
       "metadata": {},
       "output_type": "pyout",
       "prompt_number": 54,
       "text": [
        "array([[ 22.76823253,  29.30151562,  17.99582613],\n",
        "       [ 16.27875401,  22.80130155,  11.8318872 ],\n",
        "       [ 10.14903864,  16.83466288,   6.05099133],\n",
        "       [  6.63323882,  13.39821425,   2.79938066],\n",
        "       [  6.7035578 ,  12.56574256,   2.8675309 ],\n",
        "       [  5.7553608 ,   9.87406266,   2.47708531],\n",
        "       [  4.00362143,   7.12551935,   1.75539433],\n",
        "       [  3.16262792,   6.20549894,   1.18825842]])"
       ]
      }
     ],
     "prompt_number": 54
    },
    {
     "cell_type": "code",
     "collapsed": false,
     "input": [
      "ps_others = PercentilesRemaining(pmf_others, ts)\n",
      "ps_others"
     ],
     "language": "python",
     "metadata": {},
     "outputs": [
      {
       "metadata": {},
       "output_type": "pyout",
       "prompt_number": 55,
       "text": [
        "array([[ 21.61228323,  26.5839967 ,  17.21161668],\n",
        "       [ 15.06770299,  20.01814048,  11.15673926],\n",
        "       [  8.8895431 ,  13.7760157 ,   5.42072215],\n",
        "       [  5.03910276,   9.95310858,   2.24614207],\n",
        "       [  4.8973371 ,  10.77616366,   2.01907092],\n",
        "       [  5.56381619,   9.86544795,   2.56842528],\n",
        "       [  3.70827915,   7.49983104,   1.70612015],\n",
        "       [  3.97791679,   7.20092011,   1.48077001]])"
       ]
      }
     ],
     "prompt_number": 55
    },
    {
     "cell_type": "code",
     "collapsed": false,
     "input": [
      "nrows, ncols = ps_firsts.shape\n",
      "\n",
      "thinkplot.PrePlot(3)\n",
      "for i in range(ncols):\n",
      "    thinkplot.Plot(ts, ps_firsts[:, i], label=percentiles[i])\n",
      "\n",
      "thinkplot.PrePlot(3)\n",
      "for i in range(ncols):\n",
      "    thinkplot.Plot(ts, ps_others[:, i], linestyle='dashed')\n",
      "    \n",
      "thinkplot.Config(xlabel='t (weeks)',\n",
      "                 ylabel='remaining time (days)',\n",
      "                 legend=True,\n",
      "                 loc='upper right')"
     ],
     "language": "python",
     "metadata": {},
     "outputs": [
      {
       "metadata": {},
       "output_type": "display_data",
       "png": "[encoded data removed]",
       "text": [
        "<matplotlib.figure.Figure at 0x7fc0d07257d0>"
       ]
      }
     ],
     "prompt_number": 56
    },
    {
     "cell_type": "code",
     "collapsed": false,
     "input": [
      "sample = Resample(pregs)\n",
      "sample.shape"
     ],
     "language": "python",
     "metadata": {},
     "outputs": [
      {
       "metadata": {},
       "output_type": "pyout",
       "prompt_number": 131,
       "text": [
        "(30110, 6)"
       ]
      }
     ],
     "prompt_number": 131
    },
    {
     "cell_type": "code",
     "collapsed": false,
     "input": [
      "firsts, others = Split(sample)"
     ],
     "language": "python",
     "metadata": {},
     "outputs": [],
     "prompt_number": 132
    },
    {
     "cell_type": "code",
     "collapsed": false,
     "input": [
      "jitter = 0.5\n",
      "lengths = thinkstats2.Jitter(firsts.prglngth, jitter)\n",
      "pmf_firsts = thinkstats2.Pmf(lengths, label='firsts')\n",
      "\n",
      "lengths = thinkstats2.Jitter(others.prglngth, jitter)\n",
      "pmf_others = thinkstats2.Pmf(lengths, label='others')"
     ],
     "language": "python",
     "metadata": {},
     "outputs": [],
     "prompt_number": 134
    },
    {
     "cell_type": "code",
     "collapsed": false,
     "input": [
      "def SelectFirsts(preg):\n",
      "    return preg[preg.birthord == 1]"
     ],
     "language": "python",
     "metadata": {},
     "outputs": [],
     "prompt_number": 147
    },
    {
     "cell_type": "code",
     "collapsed": false,
     "input": [
      "def SelectOthers(preg):\n",
      "    return preg[preg.birthord > 1]"
     ],
     "language": "python",
     "metadata": {},
     "outputs": [],
     "prompt_number": 148
    },
    {
     "cell_type": "code",
     "collapsed": false,
     "input": [
      "def MeanRemaining(pmf, t):\n",
      "    rem_pmf = RemainingDurationPmf(pmf, t)\n",
      "    mean = rem_pmf.Mean()\n",
      "    return mean\n",
      "\n",
      "MeanRemaining(pmf_firsts, 36)"
     ],
     "language": "python",
     "metadata": {},
     "outputs": [
      {
       "metadata": {},
       "output_type": "pyout",
       "prompt_number": 149,
       "text": [
        "3.4023129605113573"
       ]
      }
     ],
     "prompt_number": 149
    },
    {
     "cell_type": "code",
     "collapsed": false,
     "input": [
      "def MedianRemaining(pmf, t):\n",
      "    rem_pmf = RemainingDurationPmf(pmf, t)\n",
      "    rem_cdf = rem_pmf.MakeCdf()\n",
      "    median = rem_cdf.Percentile(50)\n",
      "    return median\n",
      "\n",
      "MedianRemaining(pmf_firsts, 36)"
     ],
     "language": "python",
     "metadata": {},
     "outputs": [
      {
       "metadata": {},
       "output_type": "pyout",
       "prompt_number": 150,
       "text": [
        "3.2516488944110122"
       ]
      }
     ],
     "prompt_number": 150
    },
    {
     "cell_type": "code",
     "collapsed": false,
     "input": [
      "def Remaining(preg, iters, ts, select_func, stat_func):\n",
      "    array = np.zeros((iters, len(ts)))\n",
      "\n",
      "    for i in range(iters):\n",
      "        sample = Resample(pregs)\n",
      "        group = select_func(sample)\n",
      "\n",
      "        lengths = thinkstats2.Jitter(group.prglngth, jitter=0.5)\n",
      "        pmf = thinkstats2.Pmf(lengths)\n",
      "\n",
      "        stats = [stat_func(pmf, t) for t in ts]\n",
      "        array[i, :] = stats\n",
      "\n",
      "    array = np.sort(array, axis=0)\n",
      "    rows = [thinkstats2.PercentileRow(array, p) for p in [10, 50, 90]]\n",
      "    return rows"
     ],
     "language": "python",
     "metadata": {},
     "outputs": [],
     "prompt_number": 160
    },
    {
     "cell_type": "code",
     "collapsed": false,
     "input": [
      "iters = 31\n",
      "ts = np.arange(36, 44)\n",
      "stat_func = MeanRemaining\n",
      "\n",
      "labels = [('firsts', SelectFirsts), \n",
      "          ('others', SelectOthers)]\n",
      "\n",
      "thinkplot.PrePlot(2)\n",
      "\n",
      "for label, select_func in labels:\n",
      "    rows = Remaining(pmf_firsts, iters, ts, select_func, stat_func)\n",
      "    thinkplot.FillBetween(ts, rows[0], rows[2], color='gray')\n",
      "    thinkplot.Plot(ts, rows[1], label=label)\n",
      "    \n",
      "thinkplot.Config(xlabel='t (weeks)',\n",
      "                 ylabel='remaining time (days)',\n",
      "                 legend=True,\n",
      "                 loc='upper right')"
     ],
     "language": "python",
     "metadata": {},
     "outputs": [
      {
       "metadata": {},
       "output_type": "display_data",
       "png": "[encoded data removed]",
       "text": [
        "<matplotlib.figure.Figure at 0x7fc0da1198d0>"
       ]
      }
     ],
     "prompt_number": 166
    },
    {
     "cell_type": "code",
     "collapsed": false,
     "input": [],
     "language": "python",
     "metadata": {},
     "outputs": []
    }
   ],
   "metadata": {}
  }
 ]
}