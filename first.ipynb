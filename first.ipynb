{
 "metadata": {
  "name": "",
  "signature": "sha256:79d8dedf0bba6df355694887672ad9aa645f8c12b4aa5034a6927755b5001662"
 },
 "nbformat": 3,
 "nbformat_minor": 0,
 "worksheets": [
  {
   "cells": [
    {
     "cell_type": "markdown",
     "metadata": {},
     "source": [
      "##Are first babies more likely to be late?\n",
      "\n",
      "Copyright 2015 Allen Downey\n",
      "\n",
      "License: [Creative Commons Attribution 4.0 International](http://creativecommons.org/licenses/by/4.0/)"
     ]
    },
    {
     "cell_type": "code",
     "collapsed": false,
     "input": [
      "from __future__ import print_function, division\n",
      "\n",
      "import marriage\n",
      "\n",
      "import thinkstats2\n",
      "import thinkplot\n",
      "\n",
      "import math\n",
      "\n",
      "import pandas as pd\n",
      "import numpy as np\n",
      "\n",
      "%matplotlib inline"
     ],
     "language": "python",
     "metadata": {},
     "outputs": [],
     "prompt_number": 1
    },
    {
     "cell_type": "markdown",
     "metadata": {},
     "source": [
      "Load the data:"
     ]
    },
    {
     "cell_type": "code",
     "collapsed": false,
     "input": [
      "def ReadFemPreg(dct_file, dat_file, usecols):\n",
      "    \"\"\"Reads the NSFG pregnancy data.\n",
      "\n",
      "    dct_file: string file name\n",
      "    dat_file: string file name\n",
      "\n",
      "    returns: DataFrame\n",
      "    \"\"\"\n",
      "    dct = thinkstats2.ReadStataDct(dct_file, encoding='ISO-8859-1')\n",
      "    df = dct.ReadFixedWidth(dat_file, compression='gzip', usecols=usecols)\n",
      "    return df"
     ],
     "language": "python",
     "metadata": {},
     "outputs": [],
     "prompt_number": 2
    },
    {
     "cell_type": "code",
     "collapsed": false,
     "input": [
      "usecols = ['outcome', 'prglngth', 'birthord', 'finalwgt']\n",
      "preg6 = ReadFemPreg('2002FemPreg.dct', '2002FemPreg.dat.gz', usecols)\n",
      "print(preg6.shape)\n",
      "preg6 = preg6[preg6.outcome == 1]"
     ],
     "language": "python",
     "metadata": {},
     "outputs": [
      {
       "output_type": "stream",
       "stream": "stdout",
       "text": [
        "(13593, 4)\n"
       ]
      }
     ],
     "prompt_number": 77
    },
    {
     "cell_type": "code",
     "collapsed": false,
     "input": [
      "preg6.birthord.value_counts().sort_index()"
     ],
     "language": "python",
     "metadata": {},
     "outputs": [
      {
       "metadata": {},
       "output_type": "pyout",
       "prompt_number": 4,
       "text": [
        "1     4413\n",
        "2     2874\n",
        "3     1234\n",
        "4      421\n",
        "5      126\n",
        "6       50\n",
        "7       20\n",
        "8        7\n",
        "9        2\n",
        "10       1\n",
        "dtype: int64"
       ]
      }
     ],
     "prompt_number": 4
    },
    {
     "cell_type": "code",
     "collapsed": false,
     "input": [
      "preg6.prglngth.value_counts().sort_index()"
     ],
     "language": "python",
     "metadata": {},
     "outputs": [
      {
       "metadata": {},
       "output_type": "pyout",
       "prompt_number": 5,
       "text": [
        "0        1\n",
        "4        1\n",
        "9        1\n",
        "13       1\n",
        "17       2\n",
        "18       1\n",
        "19       1\n",
        "20       1\n",
        "21       2\n",
        "22       7\n",
        "23       1\n",
        "24      13\n",
        "25       3\n",
        "26      35\n",
        "27       3\n",
        "28      32\n",
        "29      21\n",
        "30     138\n",
        "31      27\n",
        "32     115\n",
        "33      49\n",
        "34      60\n",
        "35     311\n",
        "36     321\n",
        "37     455\n",
        "38     607\n",
        "39    4693\n",
        "40    1116\n",
        "41     587\n",
        "42     328\n",
        "43     148\n",
        "44      46\n",
        "45      10\n",
        "46       1\n",
        "47       1\n",
        "48       7\n",
        "50       2\n",
        "dtype: int64"
       ]
      }
     ],
     "prompt_number": 5
    },
    {
     "cell_type": "markdown",
     "metadata": {},
     "source": [
      "Make a list of DataFrames, one for each cycle:"
     ]
    },
    {
     "cell_type": "code",
     "collapsed": false,
     "input": [
      "sum(preg6.prglngth >= 27)"
     ],
     "language": "python",
     "metadata": {},
     "outputs": [
      {
       "metadata": {},
       "output_type": "pyout",
       "prompt_number": 6,
       "text": [
        "9078"
       ]
      }
     ],
     "prompt_number": 6
    },
    {
     "cell_type": "code",
     "collapsed": false,
     "input": [
      "preg6.finalwgt.describe()"
     ],
     "language": "python",
     "metadata": {},
     "outputs": [
      {
       "metadata": {},
       "output_type": "pyout",
       "prompt_number": 7,
       "text": [
        "count      9148.000000\n",
        "mean       8404.364417\n",
        "std        9142.507490\n",
        "min         118.656790\n",
        "25%        3995.837136\n",
        "50%        6415.602101\n",
        "75%        9555.442649\n",
        "max      261879.953864\n",
        "Name: finalwgt, dtype: float64"
       ]
      }
     ],
     "prompt_number": 7
    },
    {
     "cell_type": "code",
     "collapsed": false,
     "input": [
      "usecols = ['outcome', 'prglngth', 'birthord', 'wgtq1q16']\n",
      "preg7 = ReadFemPreg('2006_2010_FemPregSetup.dct', '2006_2010_FemPreg.dat.gz', usecols)\n",
      "print(preg7.shape)\n",
      "preg7 = preg7[preg7.outcome == 1]\n",
      "preg7['finalwgt'] = preg7.wgtq1q16\n",
      "preg7.shape"
     ],
     "language": "python",
     "metadata": {},
     "outputs": [
      {
       "output_type": "stream",
       "stream": "stdout",
       "text": [
        "(20492, 4)\n"
       ]
      },
      {
       "metadata": {},
       "output_type": "pyout",
       "prompt_number": 78,
       "text": [
        "(14292, 5)"
       ]
      }
     ],
     "prompt_number": 78
    },
    {
     "cell_type": "code",
     "collapsed": false,
     "input": [
      "preg7.birthord.value_counts().sort_index()"
     ],
     "language": "python",
     "metadata": {},
     "outputs": [
      {
       "metadata": {},
       "output_type": "pyout",
       "prompt_number": 9,
       "text": [
        "1     6683\n",
        "2     4415\n",
        "3     2030\n",
        "4      734\n",
        "5      269\n",
        "6      102\n",
        "7       36\n",
        "8       13\n",
        "9        7\n",
        "10       2\n",
        "11       1\n",
        "dtype: int64"
       ]
      }
     ],
     "prompt_number": 9
    },
    {
     "cell_type": "code",
     "collapsed": false,
     "input": [
      "preg7.prglngth.value_counts().sort_index()"
     ],
     "language": "python",
     "metadata": {},
     "outputs": [
      {
       "metadata": {},
       "output_type": "pyout",
       "prompt_number": 10,
       "text": [
        "0        1\n",
        "7        1\n",
        "17       1\n",
        "19       2\n",
        "20       2\n",
        "21       4\n",
        "22      16\n",
        "23       4\n",
        "24      15\n",
        "25      14\n",
        "26      65\n",
        "27      21\n",
        "28      37\n",
        "29      26\n",
        "30     184\n",
        "31      40\n",
        "32     156\n",
        "33      59\n",
        "34     155\n",
        "35     509\n",
        "36     622\n",
        "37     835\n",
        "38    1304\n",
        "39    6263\n",
        "40    2280\n",
        "41     907\n",
        "42     553\n",
        "43     185\n",
        "44      19\n",
        "45       3\n",
        "46       4\n",
        "48       3\n",
        "52       1\n",
        "57       1\n",
        "dtype: int64"
       ]
      }
     ],
     "prompt_number": 10
    },
    {
     "cell_type": "code",
     "collapsed": false,
     "input": [
      "sum(preg7.prglngth >= 27)"
     ],
     "language": "python",
     "metadata": {},
     "outputs": [
      {
       "metadata": {},
       "output_type": "pyout",
       "prompt_number": 11,
       "text": [
        "14167"
       ]
      }
     ],
     "prompt_number": 11
    },
    {
     "cell_type": "code",
     "collapsed": false,
     "input": [
      "# note: min and max should be 38.700642694-49735.071265\n",
      "preg7.finalwgt.describe()"
     ],
     "language": "python",
     "metadata": {},
     "outputs": [
      {
       "metadata": {},
       "output_type": "pyout",
       "prompt_number": 12,
       "text": [
        "count    14292.000000\n",
        "mean      5306.068571\n",
        "std       5967.788429\n",
        "min         44.023984\n",
        "25%       1509.629839\n",
        "50%       3078.497086\n",
        "75%       6594.905896\n",
        "max      30226.354508\n",
        "Name: finalwgt, dtype: float64"
       ]
      }
     ],
     "prompt_number": 12
    },
    {
     "cell_type": "code",
     "collapsed": false,
     "input": [
      "usecols = ['outcome', 'prglngth', 'birthord', 'wgt2011_2013']\n",
      "preg8 = ReadFemPreg('2011_2013_FemPregSetup.dct', '2011_2013_FemPregData.dat.gz', usecols)\n",
      "print(preg7.shape)\n",
      "preg8 = preg8[preg8.outcome == 1]\n",
      "preg8['finalwgt'] = preg8.wgt2011_2013\n",
      "preg8.shape"
     ],
     "language": "python",
     "metadata": {},
     "outputs": [
      {
       "output_type": "stream",
       "stream": "stdout",
       "text": [
        "(14292, 5)\n"
       ]
      },
      {
       "metadata": {},
       "output_type": "pyout",
       "prompt_number": 80,
       "text": [
        "(6670, 5)"
       ]
      }
     ],
     "prompt_number": 80
    },
    {
     "cell_type": "code",
     "collapsed": false,
     "input": [
      "preg8.birthord.value_counts().sort_index()"
     ],
     "language": "python",
     "metadata": {},
     "outputs": [
      {
       "metadata": {},
       "output_type": "pyout",
       "prompt_number": 14,
       "text": [
        "1    3141\n",
        "2    2076\n",
        "3     957\n",
        "4     327\n",
        "5     113\n",
        "6      34\n",
        "7      16\n",
        "8       5\n",
        "9       1\n",
        "dtype: int64"
       ]
      }
     ],
     "prompt_number": 14
    },
    {
     "cell_type": "code",
     "collapsed": false,
     "input": [
      "preg8.prglngth.value_counts().sort_index()"
     ],
     "language": "python",
     "metadata": {},
     "outputs": [
      {
       "metadata": {},
       "output_type": "pyout",
       "prompt_number": 15,
       "text": [
        "17       1\n",
        "20       2\n",
        "21       2\n",
        "22       8\n",
        "23       3\n",
        "24      12\n",
        "25       6\n",
        "26      21\n",
        "27       7\n",
        "28      22\n",
        "29      19\n",
        "30      61\n",
        "31      24\n",
        "32      90\n",
        "33      30\n",
        "34      97\n",
        "35     219\n",
        "36     283\n",
        "37     406\n",
        "38     706\n",
        "39    2566\n",
        "40    1306\n",
        "41     426\n",
        "42     277\n",
        "43      63\n",
        "44       8\n",
        "45       2\n",
        "46       1\n",
        "47       2\n",
        "dtype: int64"
       ]
      }
     ],
     "prompt_number": 15
    },
    {
     "cell_type": "code",
     "collapsed": false,
     "input": [
      "sum(preg8.prglngth >= 27)"
     ],
     "language": "python",
     "metadata": {},
     "outputs": [
      {
       "metadata": {},
       "output_type": "pyout",
       "prompt_number": 16,
       "text": [
        "6615"
       ]
      }
     ],
     "prompt_number": 16
    },
    {
     "cell_type": "code",
     "collapsed": false,
     "input": [
      "preg8.finalwgt.describe()"
     ],
     "language": "python",
     "metadata": {},
     "outputs": [
      {
       "metadata": {},
       "output_type": "pyout",
       "prompt_number": 17,
       "text": [
        "count     6670.000000\n",
        "mean     11173.091142\n",
        "std      12939.068547\n",
        "min       1714.541000\n",
        "25%       3985.078597\n",
        "50%       6834.593716\n",
        "75%      12984.239442\n",
        "max      85207.950000\n",
        "Name: finalwgt, dtype: float64"
       ]
      }
     ],
     "prompt_number": 17
    },
    {
     "cell_type": "code",
     "collapsed": false,
     "input": [
      "#resp8 = marriage.ReadFemResp2013()\n",
      "#marriage.Validate2013(resp8)\n",
      "#resp8 = resp8[resp8.parity >= 1]\n",
      "\n",
      "#resp7 = marriage.ReadFemResp2010()\n",
      "#marriage.Validate2010(resp7)\n",
      "#resp7 = resp7[resp7.parity >= 1]\n",
      "\n",
      "#resp6 = marriage.ReadFemResp2002()\n",
      "#marriage.Validate2002(resp6)\n",
      "#resp6 = resp6[resp6.parity >= 1]"
     ],
     "language": "python",
     "metadata": {},
     "outputs": [],
     "prompt_number": 18
    },
    {
     "cell_type": "code",
     "collapsed": false,
     "input": [
      "#resps = [resp6, resp7, resp8]\n",
      "pregs = [preg6, preg7, preg8]\n",
      "\n",
      "for preg in pregs:\n",
      "    print(len(preg))"
     ],
     "language": "python",
     "metadata": {},
     "outputs": [
      {
       "output_type": "stream",
       "stream": "stdout",
       "text": [
        "9148\n",
        "14292\n",
        "6670\n"
       ]
      }
     ],
     "prompt_number": 81
    },
    {
     "cell_type": "code",
     "collapsed": false,
     "input": [
      "def SummarizeCycle(df):\n",
      "    ages = df.age.min(), df.age.max()\n",
      "    ages= np.array(ages)\n",
      "    \n",
      "    intvws = df.cmintvw.min(), df.cmintvw.max()\n",
      "    intvws = np.array(intvws) / 12 + 1900\n",
      "    \n",
      "    births = df.cmbirth.min(), df.cmbirth.max()\n",
      "    births = np.array(births) / 12 + 1900\n",
      "\n",
      "    print('# & ', intvws.astype(int), '&', len(df), '&', births.astype(int), r'\\\\')\n",
      "    \n",
      "#for resp in reversed(resps):\n",
      "#    SummarizeCycle(resp)"
     ],
     "language": "python",
     "metadata": {},
     "outputs": [],
     "prompt_number": 20
    },
    {
     "cell_type": "code",
     "collapsed": false,
     "input": [
      "def ResampleAndSelect(resp, preg):\n",
      "    sample = thinkstats2.ResampleRowsWeighted(resp, column='finalwgt')\n",
      "    print('1')\n",
      "    \n",
      "    dfs = [preg[preg.caseid == caseid] for caseid in sample.caseid]\n",
      "    print('2')\n",
      "    \n",
      "    rows = pd.concat(dfs, ignore_index=True)\n",
      "    print('3')\n",
      "\n",
      "    return rows\n",
      "\n",
      "#%time sample6 = ResampleAndSelect(resp6, preg6)\n",
      "#sample6.shape"
     ],
     "language": "python",
     "metadata": {},
     "outputs": [],
     "prompt_number": 21
    },
    {
     "cell_type": "code",
     "collapsed": false,
     "input": [
      "#grouped6 = preg6.groupby('caseid')"
     ],
     "language": "python",
     "metadata": {},
     "outputs": [],
     "prompt_number": 22
    },
    {
     "cell_type": "code",
     "collapsed": false,
     "input": [
      "def ResampleAndSelect(resp, grouped):\n",
      "    sample = thinkstats2.ResampleRowsWeighted(resp, column='finalwgt')\n",
      "    print('1')\n",
      "\n",
      "    dfs = [grouped.get_group(caseid) for caseid in sample.caseid]\n",
      "    print('2', len(dfs))\n",
      "\n",
      "    rows = pd.concat(dfs, ignore_index=True)\n",
      "    print('3')\n",
      "    return rows\n",
      "\n",
      "#%time sample6 = ResampleAndSelect(resp6, grouped6)\n",
      "#sample6.shape"
     ],
     "language": "python",
     "metadata": {},
     "outputs": [],
     "prompt_number": 23
    },
    {
     "cell_type": "code",
     "collapsed": false,
     "input": [
      "def ResamplePreg(preg):\n",
      "    sample = thinkstats2.ResampleRowsWeighted(preg, column='finalwgt')\n",
      "    return sample\n",
      "\n",
      "#%time sample7 = ResamplePreg(preg7)\n",
      "#ample7.shape"
     ],
     "language": "python",
     "metadata": {},
     "outputs": [],
     "prompt_number": 24
    },
    {
     "cell_type": "code",
     "collapsed": false,
     "input": [
      "def Resample(pregs):\n",
      "    samples = [thinkstats2.ResampleRowsWeighted(preg, column='finalwgt') \n",
      "               for preg in pregs]\n",
      "    sample = pd.concat(samples)\n",
      "    return sample\n",
      "\n",
      "sample = Resample(pregs)"
     ],
     "language": "python",
     "metadata": {},
     "outputs": [],
     "prompt_number": 25
    },
    {
     "cell_type": "code",
     "collapsed": false,
     "input": [
      "firsts = sample[sample.birthord == 1]\n",
      "firsts.shape"
     ],
     "language": "python",
     "metadata": {},
     "outputs": [
      {
       "metadata": {},
       "output_type": "pyout",
       "prompt_number": 26,
       "text": [
        "(13864, 6)"
       ]
      }
     ],
     "prompt_number": 26
    },
    {
     "cell_type": "code",
     "collapsed": false,
     "input": [
      "others = sample[sample.birthord > 1]\n",
      "others.shape"
     ],
     "language": "python",
     "metadata": {},
     "outputs": [
      {
       "metadata": {},
       "output_type": "pyout",
       "prompt_number": 27,
       "text": [
        "(16246, 6)"
       ]
      }
     ],
     "prompt_number": 27
    },
    {
     "cell_type": "code",
     "collapsed": false,
     "input": [
      "sum(firsts.prglngth.isnull())"
     ],
     "language": "python",
     "metadata": {},
     "outputs": [
      {
       "metadata": {},
       "output_type": "pyout",
       "prompt_number": 28,
       "text": [
        "0"
       ]
      }
     ],
     "prompt_number": 28
    },
    {
     "cell_type": "code",
     "collapsed": false,
     "input": [
      "sum(others.prglngth.isnull())"
     ],
     "language": "python",
     "metadata": {},
     "outputs": [
      {
       "metadata": {},
       "output_type": "pyout",
       "prompt_number": 29,
       "text": [
        "0"
       ]
      }
     ],
     "prompt_number": 29
    },
    {
     "cell_type": "code",
     "collapsed": false,
     "input": [
      "firsts.prglngth.value_counts().sort_index()"
     ],
     "language": "python",
     "metadata": {},
     "outputs": [
      {
       "metadata": {},
       "output_type": "pyout",
       "prompt_number": 30,
       "text": [
        "0        7\n",
        "17       5\n",
        "20       1\n",
        "21       4\n",
        "22      14\n",
        "23       1\n",
        "24      13\n",
        "25      17\n",
        "26      51\n",
        "27      12\n",
        "28      76\n",
        "29      23\n",
        "30     204\n",
        "31      42\n",
        "32     164\n",
        "33      79\n",
        "34     150\n",
        "35     434\n",
        "36     570\n",
        "37     688\n",
        "38    1110\n",
        "39    5728\n",
        "40    2218\n",
        "41    1234\n",
        "42     700\n",
        "43     255\n",
        "44      54\n",
        "45       5\n",
        "46       2\n",
        "47       1\n",
        "48       2\n",
        "dtype: int64"
       ]
      }
     ],
     "prompt_number": 30
    },
    {
     "cell_type": "code",
     "collapsed": false,
     "input": [
      "others.prglngth.value_counts().sort_index()"
     ],
     "language": "python",
     "metadata": {},
     "outputs": [
      {
       "metadata": {},
       "output_type": "pyout",
       "prompt_number": 31,
       "text": [
        "9        1\n",
        "18       1\n",
        "19      12\n",
        "20       7\n",
        "21       7\n",
        "22       6\n",
        "23       3\n",
        "24       8\n",
        "25       8\n",
        "26      32\n",
        "27      22\n",
        "28      50\n",
        "29      30\n",
        "30     168\n",
        "31      25\n",
        "32     156\n",
        "33      79\n",
        "34     179\n",
        "35     474\n",
        "36     657\n",
        "37     990\n",
        "38    1600\n",
        "39    7732\n",
        "40    2604\n",
        "41     796\n",
        "42     422\n",
        "43     128\n",
        "44      37\n",
        "45       4\n",
        "46       1\n",
        "48       5\n",
        "50       2\n",
        "dtype: int64"
       ]
      }
     ],
     "prompt_number": 31
    },
    {
     "cell_type": "code",
     "collapsed": false,
     "input": [
      "len(firsts.prglngth), len(others.prglngth)"
     ],
     "language": "python",
     "metadata": {},
     "outputs": [
      {
       "metadata": {},
       "output_type": "pyout",
       "prompt_number": 32,
       "text": [
        "(13864, 16246)"
       ]
      }
     ],
     "prompt_number": 32
    },
    {
     "cell_type": "code",
     "collapsed": false,
     "input": [
      "firsts.prglngth.mean(), others.prglngth.mean()"
     ],
     "language": "python",
     "metadata": {},
     "outputs": [
      {
       "metadata": {},
       "output_type": "pyout",
       "prompt_number": 33,
       "text": [
        "(38.6130986728217, 38.518342976732733)"
       ]
      }
     ],
     "prompt_number": 33
    },
    {
     "cell_type": "code",
     "collapsed": false,
     "input": [
      "diff = firsts.prglngth.mean() - others.prglngth.mean()\n",
      "diff, diff * 7, diff * 7 * 24"
     ],
     "language": "python",
     "metadata": {},
     "outputs": [
      {
       "metadata": {},
       "output_type": "pyout",
       "prompt_number": 34,
       "text": [
        "(0.094755696088967056, 0.66328987262276939, 15.918956942946465)"
       ]
      }
     ],
     "prompt_number": 34
    },
    {
     "cell_type": "code",
     "collapsed": false,
     "input": [
      "firsts.prglngth.std(), others.prglngth.std()"
     ],
     "language": "python",
     "metadata": {},
     "outputs": [
      {
       "metadata": {},
       "output_type": "pyout",
       "prompt_number": 35,
       "text": [
        "(2.8703583448993912, 2.3963914827683821)"
       ]
      }
     ],
     "prompt_number": 35
    },
    {
     "cell_type": "code",
     "collapsed": false,
     "input": [
      "se1 = firsts.prglngth.std() / math.sqrt(len(firsts.prglngth))\n",
      "se1"
     ],
     "language": "python",
     "metadata": {},
     "outputs": [
      {
       "metadata": {},
       "output_type": "pyout",
       "prompt_number": 36,
       "text": [
        "0.024377650370258221"
       ]
      }
     ],
     "prompt_number": 36
    },
    {
     "cell_type": "code",
     "collapsed": false,
     "input": [
      "se2 = others.prglngth.std() / math.sqrt(len(others.prglngth))\n",
      "se2"
     ],
     "language": "python",
     "metadata": {},
     "outputs": [
      {
       "metadata": {},
       "output_type": "pyout",
       "prompt_number": 37,
       "text": [
        "0.01880115556593805"
       ]
      }
     ],
     "prompt_number": 37
    },
    {
     "cell_type": "code",
     "collapsed": false,
     "input": [
      "diff / se1, diff / se2"
     ],
     "language": "python",
     "metadata": {},
     "outputs": [
      {
       "metadata": {},
       "output_type": "pyout",
       "prompt_number": 38,
       "text": [
        "(3.8869905282000872, 5.0398868174164484)"
       ]
      }
     ],
     "prompt_number": 38
    },
    {
     "cell_type": "code",
     "collapsed": false,
     "input": [
      "cdf_firsts = thinkstats2.Cdf(firsts.prglngth, label='firsts')\n",
      "\n",
      "thinkplot.PrePlot(2)\n",
      "thinkplot.Cdf(cdf_firsts)\n",
      "thinkplot.Config(xlabel='pregnancy length (weeks)',\n",
      "                 ylabel='CDF',\n",
      "                 loc='upper left')"
     ],
     "language": "python",
     "metadata": {},
     "outputs": [
      {
       "metadata": {},
       "output_type": "display_data",
       "png": "[encoded data removed]",
       "text": [
        "<matplotlib.figure.Figure at 0x7f577032c950>"
       ]
      }
     ],
     "prompt_number": 39
    },
    {
     "cell_type": "code",
     "collapsed": false,
     "input": [
      "cdf_others = thinkstats2.Cdf(others.prglngth, label='others')\n",
      "\n",
      "thinkplot.Cdf(cdf_others)\n",
      "thinkplot.Config(xlabel='pregnancy length (weeks)',\n",
      "                 ylabel='CDF',\n",
      "                 loc='upper left')"
     ],
     "language": "python",
     "metadata": {},
     "outputs": [
      {
       "metadata": {},
       "output_type": "display_data",
       "png": "[encoded data removed]",
       "text": [
        "<matplotlib.figure.Figure at 0x7f576f0bbc10>"
       ]
      }
     ],
     "prompt_number": 40
    },
    {
     "cell_type": "code",
     "collapsed": false,
     "input": [
      "jitter = 0.5\n",
      "\n",
      "length_firsts = thinkstats2.Jitter(firsts.prglngth, jitter)\n",
      "cdf_firsts = thinkstats2.Cdf(length_firsts, label='firsts')\n",
      "\n",
      "length_others = thinkstats2.Jitter(others.prglngth, jitter)\n",
      "cdf_others = thinkstats2.Cdf(length_others, label='others')\n",
      "\n",
      "thinkplot.PrePlot(2)\n",
      "thinkplot.Cdf(cdf_firsts)\n",
      "thinkplot.Cdf(cdf_others)\n",
      "thinkplot.Config(xlabel='pregnancy length (weeks)',\n",
      "                 xlim=[30, 45],\n",
      "                 ylabel='CDF',\n",
      "                 loc='upper left')"
     ],
     "language": "python",
     "metadata": {},
     "outputs": [
      {
       "metadata": {},
       "output_type": "display_data",
       "png": "[encoded data removed]",
       "text": [
        "<matplotlib.figure.Figure at 0x7f5770100fd0>"
       ]
      }
     ],
     "prompt_number": 41
    },
    {
     "cell_type": "code",
     "collapsed": false,
     "input": [
      "def RemainingDurationPmf(pmf, weeks):\n",
      "    \"\"\"Returns PMF of remaining duration conditioned on weeks.\n",
      "    \n",
      "    pmf: PMF of pregnancy length\n",
      "    weeks: current weeks of pregnancy\n",
      "    \"\"\"\n",
      "    new = thinkstats2.Pmf(label=pmf.label)\n",
      "    for x, p in pmf.Items():\n",
      "        if x >= weeks:\n",
      "            new[x - weeks] = p\n",
      "    new.Normalize()\n",
      "    return new"
     ],
     "language": "python",
     "metadata": {},
     "outputs": [],
     "prompt_number": 42
    },
    {
     "cell_type": "code",
     "collapsed": false,
     "input": [
      "pmf_firsts = thinkstats2.Pmf(length_firsts, label='firsts')\n",
      "pmf_others = thinkstats2.Pmf(length_others, label='others')"
     ],
     "language": "python",
     "metadata": {},
     "outputs": [],
     "prompt_number": 43
    },
    {
     "cell_type": "code",
     "collapsed": false,
     "input": [
      "def PlotRemaining(pmfs, weeks):\n",
      "    \"\"\"Plot CDF of remaining weeks.\n",
      "    \n",
      "    pmfs: list of PMF\n",
      "    weeks: current weeks of pregnancy\n",
      "    \"\"\"\n",
      "    cdfs = [RemainingDurationPmf(pmf, weeks).MakeCdf()\n",
      "            for pmf in pmfs]\n",
      "\n",
      "    thinkplot.PrePlot(len(cdfs))\n",
      "    thinkplot.Cdfs(cdfs)"
     ],
     "language": "python",
     "metadata": {},
     "outputs": [],
     "prompt_number": 44
    },
    {
     "cell_type": "code",
     "collapsed": false,
     "input": [
      "loc = 'lower right'\n",
      "PlotRemaining([pmf_firsts, pmf_others], 30)\n",
      "thinkplot.Config(xlabel='pregnancy length (weeks)',\n",
      "                 ylabel='CDF',\n",
      "                 loc=loc)"
     ],
     "language": "python",
     "metadata": {},
     "outputs": [
      {
       "metadata": {},
       "output_type": "display_data",
       "png": "[encoded data removed]",
       "text": [
        "<matplotlib.figure.Figure at 0x7f5770190090>"
       ]
      }
     ],
     "prompt_number": 45
    },
    {
     "cell_type": "code",
     "collapsed": false,
     "input": [
      "PlotRemaining([pmf_firsts, pmf_others], 32)\n",
      "thinkplot.Config(xlabel='pregnancy length (weeks)',\n",
      "                 ylabel='CDF',\n",
      "                 loc=loc)"
     ],
     "language": "python",
     "metadata": {},
     "outputs": [
      {
       "metadata": {},
       "output_type": "display_data",
       "png": "[encoded data removed]",
       "text": [
        "<matplotlib.figure.Figure at 0x7f576ffa3dd0>"
       ]
      }
     ],
     "prompt_number": 46
    },
    {
     "cell_type": "code",
     "collapsed": false,
     "input": [
      "PlotRemaining([pmf_firsts, pmf_others], 34)\n",
      "thinkplot.Config(xlabel='pregnancy length (weeks)',\n",
      "                 ylabel='CDF',\n",
      "                 loc=loc)"
     ],
     "language": "python",
     "metadata": {},
     "outputs": [
      {
       "metadata": {},
       "output_type": "display_data",
       "png": "[encoded data removed]",
       "text": [
        "<matplotlib.figure.Figure at 0x7f577032c0d0>"
       ]
      }
     ],
     "prompt_number": 47
    },
    {
     "cell_type": "code",
     "collapsed": false,
     "input": [
      "PlotRemaining([pmf_firsts, pmf_others], 36)\n",
      "thinkplot.Config(xlabel='pregnancy length (weeks)',\n",
      "                 ylabel='CDF',\n",
      "                 loc=loc)"
     ],
     "language": "python",
     "metadata": {},
     "outputs": [
      {
       "metadata": {},
       "output_type": "display_data",
       "png": "[encoded data removed]",
       "text": [
        "<matplotlib.figure.Figure at 0x7f57700bdfd0>"
       ]
      }
     ],
     "prompt_number": 48
    },
    {
     "cell_type": "code",
     "collapsed": false,
     "input": [
      "PlotRemaining([pmf_firsts, pmf_others], 38)\n",
      "thinkplot.Config(xlabel='pregnancy length (weeks)',\n",
      "                 ylabel='CDF',\n",
      "                 loc=loc)"
     ],
     "language": "python",
     "metadata": {},
     "outputs": [
      {
       "metadata": {},
       "output_type": "display_data",
       "png": "[encoded data removed]",
       "text": [
        "<matplotlib.figure.Figure at 0x7f576f07ef10>"
       ]
      }
     ],
     "prompt_number": 49
    },
    {
     "cell_type": "code",
     "collapsed": false,
     "input": [
      "PlotRemaining([pmf_firsts, pmf_others], 39)\n",
      "thinkplot.Config(xlabel='pregnancy length (weeks)',\n",
      "                 ylabel='CDF',\n",
      "                 loc=loc)"
     ],
     "language": "python",
     "metadata": {},
     "outputs": [
      {
       "metadata": {},
       "output_type": "display_data",
       "png": "[encoded data removed]",
       "text": [
        "<matplotlib.figure.Figure at 0x7f576de0a8d0>"
       ]
      }
     ],
     "prompt_number": 50
    },
    {
     "cell_type": "code",
     "collapsed": false,
     "input": [
      "def PercentilesRemaining(pmfs, weeks):\n",
      "    cdfs = [RemainingDurationPmf(pmf, weeks).MakeCdf()\n",
      "            for pmf in pmfs]\n",
      "    \n",
      "    for cdf in cdfs:\n",
      "        print([cdf.Percentile(p) * 7 for p in [25, 50, 75]])\n"
     ],
     "language": "python",
     "metadata": {},
     "outputs": [],
     "prompt_number": 51
    },
    {
     "cell_type": "code",
     "collapsed": false,
     "input": [
      "PercentilesRemaining([pmf_firsts, pmf_others], 39)"
     ],
     "language": "python",
     "metadata": {},
     "outputs": [
      {
       "output_type": "stream",
       "stream": "stdout",
       "text": [
        "[2.7143548802028761, 6.4367781041855068, 13.206703169606556]\n",
        "[2.1736408667971858, 4.9317939465359615, 9.3739933152324184]\n"
       ]
      }
     ],
     "prompt_number": 52
    },
    {
     "cell_type": "code",
     "collapsed": false,
     "input": [
      "percentiles = [50, 75, 25]\n",
      "\n",
      "def PercentilesRemaining(pmf, ts):\n",
      "    array = np.zeros((len(ts), len(percentiles)))\n",
      "    \n",
      "    for i, t in enumerate(ts):\n",
      "        cdf = RemainingDurationPmf(pmf, t).MakeCdf()\n",
      "        ps = [cdf.Percentile(p) * 7 for p in percentiles]\n",
      "        #print(t, ps)\n",
      "        array[i, :] = ps\n",
      "        \n",
      "    return array"
     ],
     "language": "python",
     "metadata": {},
     "outputs": [],
     "prompt_number": 53
    },
    {
     "cell_type": "code",
     "collapsed": false,
     "input": [
      "ts = np.arange(36, 44)\n",
      "ps_firsts = PercentilesRemaining(pmf_firsts, ts)\n",
      "ps_firsts"
     ],
     "language": "python",
     "metadata": {},
     "outputs": [
      {
       "metadata": {},
       "output_type": "pyout",
       "prompt_number": 54,
       "text": [
        "array([[ 22.64578082,  29.14642029,  17.95618349],\n",
        "       [ 16.10550278,  22.63422464,  11.78280693],\n",
        "       [  9.97194385,  16.53705261,   5.9922938 ],\n",
        "       [  6.4367781 ,  13.20670317,   2.71435488],\n",
        "       [  6.76981776,  12.44368589,   2.86739126],\n",
        "       [  5.59852858,  10.38567513,   2.37625612],\n",
        "       [  4.38732448,   7.85479168,   2.06292504],\n",
        "       [  2.57863214,   6.10710894,   1.19931778]])"
       ]
      }
     ],
     "prompt_number": 54
    },
    {
     "cell_type": "code",
     "collapsed": false,
     "input": [
      "ps_others = PercentilesRemaining(pmf_others, ts)\n",
      "ps_others"
     ],
     "language": "python",
     "metadata": {},
     "outputs": [
      {
       "metadata": {},
       "output_type": "pyout",
       "prompt_number": 55,
       "text": [
        "array([[ 21.60271001,  26.40089751,  17.18171224],\n",
        "       [ 15.00369008,  19.79528516,  11.06307321],\n",
        "       [  8.87411349,  13.48416292,   5.44552693],\n",
        "       [  4.93179395,   9.37399332,   2.17364087],\n",
        "       [  4.65239838,   9.90509012,   1.87870862],\n",
        "       [  5.5198786 ,   9.65339663,   2.22971555],\n",
        "       [  4.32478024,   7.90697449,   1.72204552],\n",
        "       [  4.01518618,   7.66307581,   1.71902067]])"
       ]
      }
     ],
     "prompt_number": 55
    },
    {
     "cell_type": "code",
     "collapsed": false,
     "input": [
      "nrows, ncols = ps_firsts.shape\n",
      "\n",
      "thinkplot.PrePlot(3)\n",
      "for i in range(ncols):\n",
      "    thinkplot.Plot(ts, ps_firsts[:, i], label=percentiles[i])\n",
      "\n",
      "thinkplot.PrePlot(3)\n",
      "for i in range(ncols):\n",
      "    thinkplot.Plot(ts, ps_others[:, i], linestyle='dashed')\n",
      "    \n",
      "thinkplot.Config(xlabel='t (weeks)',\n",
      "                 ylabel='remaining time (days)',\n",
      "                 legend=True,\n",
      "                 loc='upper right')"
     ],
     "language": "python",
     "metadata": {},
     "outputs": [
      {
       "metadata": {},
       "output_type": "display_data",
       "png": "[encoded data removed]",
       "text": [
        "<matplotlib.figure.Figure at 0x7f5770141490>"
       ]
      }
     ],
     "prompt_number": 56
    },
    {
     "cell_type": "code",
     "collapsed": false,
     "input": [
      "sample = Resample(pregs)\n",
      "sample.shape"
     ],
     "language": "python",
     "metadata": {},
     "outputs": [
      {
       "metadata": {},
       "output_type": "pyout",
       "prompt_number": 57,
       "text": [
        "(30110, 6)"
       ]
      }
     ],
     "prompt_number": 57
    },
    {
     "cell_type": "code",
     "collapsed": false,
     "input": [
      "firsts = sample[sample.birthord == 1] \n",
      "others = sample[sample.birthord > 1]"
     ],
     "language": "python",
     "metadata": {},
     "outputs": [],
     "prompt_number": 59
    },
    {
     "cell_type": "code",
     "collapsed": false,
     "input": [
      "jitter = 0.5\n",
      "lengths = thinkstats2.Jitter(firsts.prglngth, jitter)\n",
      "pmf_firsts = thinkstats2.Pmf(lengths, label='firsts')\n",
      "\n",
      "lengths = thinkstats2.Jitter(others.prglngth, jitter)\n",
      "pmf_others = thinkstats2.Pmf(lengths, label='others')"
     ],
     "language": "python",
     "metadata": {},
     "outputs": [],
     "prompt_number": 60
    },
    {
     "cell_type": "code",
     "collapsed": false,
     "input": [
      "def SelectFirsts(preg):\n",
      "    return preg[preg.birthord == 1]"
     ],
     "language": "python",
     "metadata": {},
     "outputs": [],
     "prompt_number": 61
    },
    {
     "cell_type": "code",
     "collapsed": false,
     "input": [
      "def SelectOthers(preg):\n",
      "    return preg[preg.birthord > 1]"
     ],
     "language": "python",
     "metadata": {},
     "outputs": [],
     "prompt_number": 62
    },
    {
     "cell_type": "code",
     "collapsed": false,
     "input": [
      "def MeanRemaining(pmf, t):\n",
      "    rem_pmf = RemainingDurationPmf(pmf, t)\n",
      "    mean = rem_pmf.Mean()\n",
      "    return mean\n",
      "\n",
      "MeanRemaining(pmf_firsts, 36)"
     ],
     "language": "python",
     "metadata": {},
     "outputs": [
      {
       "metadata": {},
       "output_type": "pyout",
       "prompt_number": 63,
       "text": [
        "3.4346722690706315"
       ]
      }
     ],
     "prompt_number": 63
    },
    {
     "cell_type": "code",
     "collapsed": false,
     "input": [
      "def MedianRemaining(pmf, t):\n",
      "    rem_pmf = RemainingDurationPmf(pmf, t)\n",
      "    rem_cdf = rem_pmf.MakeCdf()\n",
      "    median = rem_cdf.Percentile(50)\n",
      "    return median\n",
      "\n",
      "MedianRemaining(pmf_firsts, 36)"
     ],
     "language": "python",
     "metadata": {},
     "outputs": [
      {
       "metadata": {},
       "output_type": "pyout",
       "prompt_number": 64,
       "text": [
        "3.2662877239065011"
       ]
      }
     ],
     "prompt_number": 64
    },
    {
     "cell_type": "code",
     "collapsed": false,
     "input": [
      "def ProbRemainingLess(pmf, t, weeks=1):\n",
      "    rem_pmf = RemainingDurationPmf(pmf, t)\n",
      "    rem_cdf = rem_pmf.MakeCdf()\n",
      "    p = rem_cdf[weeks]\n",
      "    return p\n",
      "\n",
      "ProbRemainingLess(pmf_firsts, 36)"
     ],
     "language": "python",
     "metadata": {},
     "outputs": [
      {
       "metadata": {},
       "output_type": "pyout",
       "prompt_number": 65,
       "text": [
        "0.048448823385729728"
       ]
      }
     ],
     "prompt_number": 65
    },
    {
     "cell_type": "code",
     "collapsed": false,
     "input": [
      "def Remaining(preg, iters, ts, select_func, stat_func):\n",
      "    \"\"\"Computes remaining lifetime versus weeks of pregnancy.\n",
      "    \n",
      "    preg: DataFrame of pregnancy data\n",
      "    iters: int, how many resampling iterations to run\n",
      "    ts: sequence of float, times to evaluate, in weeks\n",
      "    select_func: function that selects a subset of pregnancies\n",
      "    stat_func: function that computes summary statistic\n",
      "    \n",
      "    returns: array with one row for each percentile, one column\n",
      "             for each item in ts\n",
      "    \"\"\"\n",
      "    # make an array to hold one row per iteration,\n",
      "    # one col per element of ts\n",
      "    array = np.zeros((iters, len(ts)))\n",
      "\n",
      "    for i in range(iters):\n",
      "        sample = Resample(pregs)\n",
      "        group = select_func(sample)\n",
      "\n",
      "        lengths = thinkstats2.Jitter(group.prglngth, jitter=0.5)\n",
      "        pmf = thinkstats2.Pmf(lengths)\n",
      "\n",
      "        stats = [stat_func(pmf, t) for t in ts]\n",
      "        array[i, :] = stats\n",
      "\n",
      "    array = np.sort(array, axis=0)\n",
      "    rows = [thinkstats2.PercentileRow(array, p) for p in [10, 50, 90]]\n",
      "    return rows"
     ],
     "language": "python",
     "metadata": {},
     "outputs": [],
     "prompt_number": 66
    },
    {
     "cell_type": "code",
     "collapsed": false,
     "input": [
      "def PlotStats(stat_func, iters, ts):\n",
      "    \"\"\"Plots a summary statistic versus weeks of pregnancy.\n",
      "    \n",
      "    stat_func: function that computes summary statistic\n",
      "    iters: int, how many resampling iterations to run\n",
      "    ts: sequence of float, times to evaluate, in weeks\n",
      "    \"\"\"\n",
      "    # list of labels and select_funcs\n",
      "    labels = [('firsts', SelectFirsts), \n",
      "              ('others', SelectOthers)]\n",
      "\n",
      "    thinkplot.PrePlot(2)\n",
      "    for label, select_func in labels:\n",
      "        rows = Remaining(pmf_firsts, iters, ts, select_func, stat_func)\n",
      "        thinkplot.FillBetween(ts, rows[0], rows[2], color='gray')\n",
      "        thinkplot.Plot(ts, rows[1], label=label)\n",
      "        print(label)\n",
      "        for t, stat in zip(ts, rows[1]):\n",
      "            print(t, stat)"
     ],
     "language": "python",
     "metadata": {},
     "outputs": [],
     "prompt_number": 71
    },
    {
     "cell_type": "code",
     "collapsed": false,
     "input": [
      "iters = 101\n",
      "ts = np.arange(36, 43.5, 0.5)\n",
      "PlotStats(MeanRemaining, iters, ts)\n",
      "\n",
      "thinkplot.Config(xlabel='week of pregnancy',\n",
      "                 ylabel='remaining time (weeks)',\n",
      "                 legend=True,\n",
      "                 loc='upper right')\n",
      "\n",
      "thinkplot.Save(root='first1', formats=['pdf', 'png'])"
     ],
     "language": "python",
     "metadata": {},
     "outputs": [
      {
       "output_type": "stream",
       "stream": "stdout",
       "text": [
        "firsts\n",
        "36.0 3.39754156441\n",
        "36.5 2.97508980334\n",
        "37.0 2.55456121193\n",
        "37.5 2.13886585341\n",
        "38.0 1.74537235835\n",
        "38.5 1.42681323973\n",
        "39.0 1.26628280514\n",
        "39.5 1.23078085688\n",
        "40.0 1.17889460956\n",
        "40.5 1.09181678181\n",
        "41.0 0.980629908801\n",
        "41.5 0.862167177764\n",
        "42.0 0.751218876485\n",
        "42.5 0.68828895529\n",
        "43.0 0.629491972579\n",
        "others"
       ]
      },
      {
       "output_type": "stream",
       "stream": "stdout",
       "text": [
        "\n",
        "36.0 3.13540208072\n",
        "36.5 2.70930346011\n",
        "37.0 2.29039746926\n",
        "37.5 1.88055601698\n",
        "38.0 1.49280931068\n",
        "38.5 1.17409914359\n",
        "39.0 1.0078923987\n",
        "39.5 0.985300112973\n",
        "40.0 0.998127077118\n",
        "40.5 1.01971112502\n",
        "41.0 1.01329044103\n",
        "41.5 0.95862350461\n",
        "42.0 0.911055084446\n",
        "42.5 0.911300869622\n",
        "43.0 0.98479776888\n",
        "Writing first1.pdf\n",
        "Writing"
       ]
      },
      {
       "output_type": "stream",
       "stream": "stdout",
       "text": [
        " first1.png\n"
       ]
      },
      {
       "metadata": {},
       "output_type": "display_data",
       "text": [
        "<matplotlib.figure.Figure at 0x7f576f2e0c50>"
       ]
      }
     ],
     "prompt_number": 74
    },
    {
     "cell_type": "code",
     "collapsed": false,
     "input": [
      "PlotStats(MedianRemaining, iters, ts)\n",
      "\n",
      "thinkplot.Config(xlabel='t (weeks)',\n",
      "                 ylabel='week of pregnancy',\n",
      "                 legend=True,\n",
      "                 loc='upper right')\n",
      "\n",
      "thinkplot.Save(root='first2', formats=['pdf', 'png'])"
     ],
     "language": "python",
     "metadata": {},
     "outputs": [
      {
       "output_type": "stream",
       "stream": "stdout",
       "text": [
        "firsts\n",
        "36.0 3.241368552\n",
        "36.5 2.77492320164\n",
        "37.0 2.31279655389\n",
        "37.5 1.86185466683\n",
        "38.0 1.43469000445\n",
        "38.5 1.08499873418\n",
        "39.0 0.928918281925\n",
        "39.5 0.942092187176\n",
        "40.0 0.944034901894\n",
        "40.5 0.893216546978\n",
        "41.0 0.794109392844\n",
        "41.5 0.680121224128\n",
        "42.0 0.569214418639\n",
        "42.5 0.506499558605\n",
        "43.0 0.443257768096\n",
        "others"
       ]
      },
      {
       "output_type": "stream",
       "stream": "stdout",
       "text": [
        "\n",
        "36.0 3.08268446578\n",
        "36.5 2.61050684262\n",
        "37.0 2.14660335686\n",
        "37.5 1.69113799843\n",
        "38.0 1.26087655638\n",
        "38.5 0.90146729939\n",
        "39.0 0.707699287694\n",
        "39.5 0.669730616568\n",
        "40.0 0.675815864934\n",
        "40.5 0.735595662149\n",
        "41.0 0.753391859416\n",
        "41.5 0.699055415717\n",
        "42.0 0.623727458023\n",
        "42.5 0.565583628248\n",
        "43.0 0.515788745635\n",
        "Writing first2.pdf\n",
        "Writing"
       ]
      },
      {
       "output_type": "stream",
       "stream": "stdout",
       "text": [
        " first2.png\n"
       ]
      },
      {
       "metadata": {},
       "output_type": "display_data",
       "text": [
        "<matplotlib.figure.Figure at 0x7f57700b1490>"
       ]
      }
     ],
     "prompt_number": 75
    },
    {
     "cell_type": "code",
     "collapsed": false,
     "input": [
      "PlotStats(ProbRemainingLess, iters, ts)\n",
      "\n",
      "thinkplot.Config(xlabel='week of pregnancy',\n",
      "                 ylabel='prob(birth within 1 week)',\n",
      "                 legend=True,\n",
      "                 loc='upper left')\n",
      "\n",
      "thinkplot.Save(root='first3', formats=['pdf', 'png'])"
     ],
     "language": "python",
     "metadata": {},
     "outputs": [
      {
       "output_type": "stream",
       "stream": "stdout",
       "text": [
        "firsts\n",
        "36.0 0.0518651832461\n",
        "36.5 0.0631412127784\n",
        "37.0 0.087215320911\n",
        "37.5 0.157749488115\n",
        "38.0 0.311731315043\n",
        "38.5 0.466408539138\n",
        "39.0 0.524979746152\n",
        "39.5 0.521584861029\n",
        "40.0 0.519954389966\n",
        "40.5 0.54363256785\n",
        "41.0 0.592375366569\n",
        "41.5 0.665464382326\n",
        "42.0 0.723489932886\n",
        "42.5 0.774373259053\n",
        "43.0 0.815533980583\n",
        "others"
       ]
      },
      {
       "output_type": "stream",
       "stream": "stdout",
       "text": [
        "\n",
        "36.0 0.0570483391844\n",
        "36.5 0.0735008328706\n",
        "37.0 0.10406256789\n",
        "37.5 0.18672074508\n",
        "38.0 0.364137483787\n",
        "38.5 0.547933884298\n",
        "39.0 0.631398013751\n",
        "39.5 0.644706857261\n",
        "40.0 0.631614654003\n",
        "40.5 0.607536231884\n",
        "41.0 0.608486017358\n",
        "41.5 0.648367952522\n",
        "42.0 0.687192118227\n",
        "42.5 0.721030042918\n",
        "43.0 0.739837398374\n",
        "Writing first3.pdf\n",
        "Writing"
       ]
      },
      {
       "output_type": "stream",
       "stream": "stdout",
       "text": [
        " first3.png\n"
       ]
      },
      {
       "metadata": {},
       "output_type": "display_data",
       "text": [
        "<matplotlib.figure.Figure at 0x7f579d60d610>"
       ]
      }
     ],
     "prompt_number": 76
    },
    {
     "cell_type": "code",
     "collapsed": false,
     "input": [],
     "language": "python",
     "metadata": {},
     "outputs": []
    }
   ],
   "metadata": {}
  }
 ]
}