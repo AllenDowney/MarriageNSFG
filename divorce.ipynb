{
 "cells": [
  {
   "cell_type": "markdown",
   "metadata": {},
   "source": [
    "## Divorce\n",
    "\n"
   ]
  },
  {
   "cell_type": "code",
   "execution_count": 1,
   "metadata": {},
   "outputs": [],
   "source": [
    "%matplotlib inline\n",
    "\n",
    "import pandas as pd\n",
    "import numpy as np\n",
    "import seaborn as sns\n",
    "\n",
    "import math\n",
    "\n",
    "import matplotlib.pyplot as plt\n",
    "from matplotlib import pylab\n",
    "\n",
    "from scipy.interpolate import interp1d\n",
    "from scipy.misc import derivative\n",
    "\n",
    "import thinkstats2\n",
    "import thinkplot\n",
    "from thinkstats2 import Cdf\n",
    "\n",
    "import survival\n",
    "import marriage"
   ]
  },
  {
   "cell_type": "markdown",
   "metadata": {},
   "source": [
    "## Divorce"
   ]
  },
  {
   "cell_type": "code",
   "execution_count": null,
   "metadata": {},
   "outputs": [],
   "source": [
    "%time nsfg_female = pd.read_hdf('FemMarriageData.hdf', 'FemMarriageData')"
   ]
  },
  {
   "cell_type": "code",
   "execution_count": 180,
   "metadata": {},
   "outputs": [],
   "source": [
    "resp10 = marriage.ReadFemResp2017()\n",
    "marriage.Validate2017(resp10)\n",
    "\n",
    "resp9 = marriage.ReadFemResp2015()\n",
    "marriage.Validate2015(resp9)\n",
    "\n",
    "resp8 = marriage.ReadFemResp2013()\n",
    "marriage.Validate2013(resp8)\n",
    "\n",
    "resp7 = marriage.ReadFemResp2010()\n",
    "marriage.Validate2010(resp7)\n",
    "\n",
    "resp6 = marriage.ReadFemResp2002()\n",
    "marriage.Validate2002(resp6)\n",
    "\n",
    "married_resps = [resp[resp.evrmarry] for resp in [resp6, resp7, resp8, resp9, resp10]]"
   ]
  },
  {
   "cell_type": "code",
   "execution_count": 181,
   "metadata": {},
   "outputs": [
    {
     "name": "stderr",
     "output_type": "stream",
     "text": [
      "/home/downey/anaconda3/lib/python3.6/site-packages/ipykernel_launcher.py:2: SettingWithCopyWarning: \n",
      "A value is trying to be set on a copy of a slice from a DataFrame.\n",
      "Try using .loc[row_indexer,col_indexer] = value instead\n",
      "\n",
      "See the caveats in the documentation: http://pandas.pydata.org/pandas-docs/stable/indexing.html#indexing-view-versus-copy\n",
      "  \n",
      "/home/downey/anaconda3/lib/python3.6/site-packages/ipykernel_launcher.py:3: SettingWithCopyWarning: \n",
      "A value is trying to be set on a copy of a slice from a DataFrame.\n",
      "Try using .loc[row_indexer,col_indexer] = value instead\n",
      "\n",
      "See the caveats in the documentation: http://pandas.pydata.org/pandas-docs/stable/indexing.html#indexing-view-versus-copy\n",
      "  This is separate from the ipykernel package so we can avoid doing imports until\n",
      "/home/downey/anaconda3/lib/python3.6/site-packages/ipykernel_launcher.py:4: SettingWithCopyWarning: \n",
      "A value is trying to be set on a copy of a slice from a DataFrame.\n",
      "Try using .loc[row_indexer,col_indexer] = value instead\n",
      "\n",
      "See the caveats in the documentation: http://pandas.pydata.org/pandas-docs/stable/indexing.html#indexing-view-versus-copy\n",
      "  after removing the cwd from sys.path.\n",
      "/home/downey/anaconda3/lib/python3.6/site-packages/ipykernel_launcher.py:5: SettingWithCopyWarning: \n",
      "A value is trying to be set on a copy of a slice from a DataFrame.\n",
      "Try using .loc[row_indexer,col_indexer] = value instead\n",
      "\n",
      "See the caveats in the documentation: http://pandas.pydata.org/pandas-docs/stable/indexing.html#indexing-view-versus-copy\n",
      "  \"\"\"\n",
      "/home/downey/anaconda3/lib/python3.6/site-packages/ipykernel_launcher.py:6: SettingWithCopyWarning: \n",
      "A value is trying to be set on a copy of a slice from a DataFrame.\n",
      "Try using .loc[row_indexer,col_indexer] = value instead\n",
      "\n",
      "See the caveats in the documentation: http://pandas.pydata.org/pandas-docs/stable/indexing.html#indexing-view-versus-copy\n",
      "  \n"
     ]
    },
    {
     "name": "stdout",
     "output_type": "stream",
     "text": [
      "0 0\n",
      "0 0\n",
      "0 0\n",
      "0 0\n",
      "0 0\n"
     ]
    }
   ],
   "source": [
    "for df in married_resps:\n",
    "    df['complete'] = df.divorced\n",
    "    df['complete_var'] = df.mar1diss / 12\n",
    "    df['ongoing_var'] = df.mar1diss / 12\n",
    "    df['complete_missing'] = df.complete & df.complete_var.isnull()\n",
    "    df['ongoing_missing'] = ~df.complete & df.ongoing_var.isnull()\n",
    "    print(sum(df.complete_missing), sum(df.ongoing_missing))\n",
    "    \n",
    "    # combine the 90s and 80s cohorts\n",
    "    # df.loc[df.birth_index==90, 'birth_index'] = 80"
   ]
  },
  {
   "cell_type": "code",
   "execution_count": 183,
   "metadata": {},
   "outputs": [
    {
     "data": {
      "text/plain": [
       "17095"
      ]
     },
     "execution_count": 183,
     "metadata": {},
     "output_type": "execute_result"
    }
   ],
   "source": [
    "df = pd.concat(married_resps, ignore_index=True, sort=False)\n",
    "len(df)"
   ]
  },
  {
   "cell_type": "code",
   "execution_count": 184,
   "metadata": {
    "scrolled": true
   },
   "outputs": [
    {
     "data": {
      "text/plain": [
       "count    5135.000000\n",
       "mean        4.138526\n",
       "std         4.185355\n",
       "min         0.000000\n",
       "25%         0.708333\n",
       "50%         2.916667\n",
       "75%         6.166667\n",
       "max        26.750000\n",
       "Name: complete_var, dtype: float64"
      ]
     },
     "execution_count": 184,
     "metadata": {},
     "output_type": "execute_result"
    }
   ],
   "source": [
    "complete = df.loc[df.complete, 'complete_var']\n",
    "complete.describe()"
   ]
  },
  {
   "cell_type": "code",
   "execution_count": 185,
   "metadata": {
    "scrolled": true
   },
   "outputs": [
    {
     "data": {
      "text/plain": [
       "count    11960.000000\n",
       "mean         7.169077\n",
       "std          6.309525\n",
       "min          0.000000\n",
       "25%          1.500000\n",
       "50%          5.750000\n",
       "75%         11.583333\n",
       "max         29.000000\n",
       "Name: complete_var, dtype: float64"
      ]
     },
     "execution_count": 185,
     "metadata": {},
     "output_type": "execute_result"
    }
   ],
   "source": [
    "ongoing = df.loc[~df.complete, 'complete_var']\n",
    "ongoing.describe()"
   ]
  },
  {
   "cell_type": "code",
   "execution_count": 186,
   "metadata": {},
   "outputs": [
    {
     "data": {
      "image/png": "[encoded data removed]",
      "text/plain": [
       "<Figure size 432x288 with 1 Axes>"
      ]
     },
     "metadata": {
      "needs_background": "light"
     },
     "output_type": "display_data"
    }
   ],
   "source": [
    "thinkplot.Cdf(thinkstats2.Cdf(complete))\n",
    "thinkplot.Cdf(thinkstats2.Cdf(ongoing))\n",
    "thinkplot.Config(xlabel='Duration of marriage (years)',\n",
    "                 ylabel='CDF')"
   ]
  },
  {
   "cell_type": "code",
   "execution_count": 187,
   "metadata": {},
   "outputs": [
    {
     "name": "stdout",
     "output_type": "stream",
     "text": [
      "0\t17095\t50\t45\t0.0029\n",
      "0.0833\t17000\t172\t198\t0.01\n",
      "0.167\t16630\t169\t183\t0.01\n",
      "0.25\t16278\t122\t182\t0.0075\n",
      "0.333\t15974\t117\t177\t0.0073\n",
      "0.417\t15680\t501\t1381\t0.032\n",
      "0.5\t13798\t60\t70\t0.0043\n",
      "0.583\t13668\t53\t76\t0.0039\n",
      "0.667\t13539\t40\t54\t0.003\n",
      "0.75\t13445\t53\t60\t0.0039\n",
      "0.833\t13332\t49\t67\t0.0037\n",
      "0.917\t13216\t59\t90\t0.0045\n",
      "1\t13067\t75\t58\t0.0057\n",
      "1.08\t12934\t54\t75\t0.0042\n",
      "1.17\t12805\t54\t62\t0.0042\n",
      "1.25\t12689\t62\t65\t0.0049\n",
      "1.33\t12562\t52\t63\t0.0041\n",
      "1.42\t12447\t41\t70\t0.0033\n",
      "1.5\t12336\t40\t49\t0.0032\n",
      "1.58\t12247\t48\t63\t0.0039\n",
      "1.67\t12136\t46\t74\t0.0038\n",
      "1.75\t12016\t46\t55\t0.0038\n",
      "1.83\t11915\t53\t52\t0.0044\n",
      "1.92\t11810\t38\t63\t0.0032\n",
      "2\t11709\t57\t77\t0.0049\n",
      "2.08\t11575\t41\t80\t0.0035\n",
      "2.17\t11454\t35\t70\t0.0031\n",
      "2.25\t11349\t40\t69\t0.0035\n",
      "2.33\t11240\t49\t86\t0.0044\n",
      "2.42\t11105\t54\t64\t0.0049\n",
      "2.5\t10987\t37\t66\t0.0034\n",
      "2.58\t10884\t43\t69\t0.004\n",
      "2.67\t10772\t42\t45\t0.0039\n",
      "2.75\t10685\t40\t68\t0.0037\n",
      "2.83\t10577\t43\t54\t0.0041\n",
      "2.92\t10480\t52\t57\t0.005\n",
      "3\t10371\t44\t72\t0.0042\n",
      "3.08\t10255\t48\t58\t0.0047\n",
      "3.17\t10149\t34\t73\t0.0034\n",
      "3.25\t10042\t45\t55\t0.0045\n",
      "3.33\t9942\t46\t63\t0.0046\n",
      "3.42\t9833\t31\t65\t0.0032\n",
      "3.5\t9737\t25\t54\t0.0026\n",
      "3.58\t9658\t32\t67\t0.0033\n",
      "3.67\t9559\t43\t59\t0.0045\n",
      "3.75\t9457\t40\t58\t0.0042\n",
      "3.83\t9359\t37\t57\t0.004\n",
      "3.92\t9265\t49\t73\t0.0053\n",
      "4\t9143\t47\t46\t0.0051\n",
      "4.08\t9050\t40\t51\t0.0044\n",
      "4.17\t8959\t27\t54\t0.003\n",
      "4.25\t8878\t37\t49\t0.0042\n",
      "4.33\t8792\t29\t54\t0.0033\n",
      "4.42\t8709\t30\t78\t0.0034\n",
      "4.5\t8601\t20\t46\t0.0023\n",
      "4.58\t8535\t38\t53\t0.0045\n",
      "4.67\t8444\t30\t47\t0.0036\n",
      "4.75\t8367\t34\t49\t0.0041\n",
      "4.83\t8284\t39\t53\t0.0047\n",
      "4.92\t8192\t29\t52\t0.0035\n",
      "5\t8111\t26\t54\t0.0032\n",
      "5.08\t8031\t34\t51\t0.0042\n",
      "5.17\t7946\t34\t37\t0.0043\n",
      "5.25\t7875\t22\t58\t0.0028\n",
      "5.33\t7795\t32\t52\t0.0041\n",
      "5.42\t7711\t23\t52\t0.003\n",
      "5.5\t7636\t33\t49\t0.0043\n",
      "5.58\t7554\t25\t48\t0.0033\n",
      "5.67\t7481\t24\t41\t0.0032\n",
      "5.75\t7416\t25\t48\t0.0034\n",
      "5.83\t7343\t22\t52\t0.003\n",
      "5.92\t7269\t26\t55\t0.0036\n",
      "6\t7188\t29\t50\t0.004\n",
      "6.08\t7109\t28\t64\t0.0039\n",
      "6.17\t7017\t24\t54\t0.0034\n",
      "6.25\t6939\t29\t41\t0.0042\n",
      "6.33\t6869\t30\t55\t0.0044\n",
      "6.42\t6784\t16\t41\t0.0024\n",
      "6.5\t6727\t24\t47\t0.0036\n",
      "6.58\t6656\t26\t39\t0.0039\n",
      "6.67\t6591\t22\t45\t0.0033\n",
      "6.75\t6524\t20\t42\t0.0031\n",
      "6.83\t6462\t27\t58\t0.0042\n",
      "6.92\t6377\t25\t41\t0.0039\n",
      "7\t6311\t29\t43\t0.0046\n",
      "7.08\t6239\t19\t48\t0.003\n",
      "7.17\t6172\t28\t40\t0.0045\n",
      "7.25\t6104\t22\t47\t0.0036\n",
      "7.33\t6035\t18\t37\t0.003\n",
      "7.42\t5980\t25\t54\t0.0042\n",
      "7.5\t5901\t13\t44\t0.0022\n",
      "7.58\t5844\t17\t45\t0.0029\n",
      "7.67\t5782\t14\t43\t0.0024\n",
      "7.75\t5725\t18\t51\t0.0031\n",
      "7.83\t5656\t8\t44\t0.0014\n",
      "7.92\t5604\t8\t41\t0.0014\n",
      "8\t5555\t24\t54\t0.0043\n",
      "8.08\t5477\t11\t41\t0.002\n",
      "8.17\t5425\t15\t46\t0.0028\n",
      "8.25\t5364\t19\t44\t0.0035\n",
      "8.33\t5301\t16\t44\t0.003\n",
      "8.42\t5241\t16\t54\t0.0031\n",
      "8.5\t5171\t6\t43\t0.0012\n",
      "8.58\t5122\t7\t35\t0.0014\n",
      "8.67\t5080\t6\t31\t0.0012\n",
      "8.75\t5043\t18\t49\t0.0036\n",
      "8.83\t4976\t12\t33\t0.0024\n",
      "8.92\t4931\t19\t44\t0.0039\n",
      "9\t4868\t15\t53\t0.0031\n",
      "9.08\t4800\t12\t46\t0.0025\n",
      "9.17\t4742\t11\t36\t0.0023\n",
      "9.25\t4695\t15\t36\t0.0032\n",
      "9.33\t4644\t16\t35\t0.0034\n",
      "9.42\t4593\t11\t49\t0.0024\n",
      "9.5\t4533\t12\t28\t0.0026\n",
      "9.58\t4493\t13\t43\t0.0029\n",
      "9.67\t4437\t15\t47\t0.0034\n",
      "9.75\t4375\t11\t45\t0.0025\n",
      "9.83\t4319\t6\t43\t0.0014\n",
      "9.92\t4270\t8\t44\t0.0019\n",
      "10\t4218\t11\t33\t0.0026\n",
      "10.1\t4174\t15\t51\t0.0036\n",
      "10.2\t4108\t7\t46\t0.0017\n",
      "10.2\t4055\t9\t37\t0.0022\n",
      "10.3\t4009\t6\t42\t0.0015\n",
      "10.4\t3961\t10\t38\t0.0025\n",
      "10.5\t3913\t14\t41\t0.0036\n",
      "10.6\t3858\t4\t33\t0.001\n",
      "10.7\t3821\t9\t34\t0.0024\n",
      "10.8\t3778\t14\t38\t0.0037\n",
      "10.8\t3726\t7\t33\t0.0019\n",
      "10.9\t3686\t3\t39\t0.00081\n",
      "11\t3644\t16\t40\t0.0044\n",
      "11.1\t3588\t7\t37\t0.002\n",
      "11.2\t3544\t4\t39\t0.0011\n",
      "11.2\t3501\t9\t30\t0.0026\n",
      "11.3\t3462\t10\t33\t0.0029\n",
      "11.4\t3419\t5\t28\t0.0015\n",
      "11.5\t3386\t2\t35\t0.00059\n",
      "11.6\t3349\t5\t45\t0.0015\n",
      "11.7\t3299\t8\t29\t0.0024\n",
      "11.8\t3262\t6\t35\t0.0018\n",
      "11.8\t3221\t6\t33\t0.0019\n",
      "11.9\t3182\t12\t46\t0.0038\n",
      "12\t3124\t7\t29\t0.0022\n",
      "12.1\t3088\t6\t44\t0.0019\n",
      "12.2\t3038\t6\t39\t0.002\n",
      "12.2\t2993\t1\t34\t0.00033\n",
      "12.3\t2958\t6\t31\t0.002\n",
      "12.4\t2921\t7\t37\t0.0024\n",
      "12.5\t2877\t3\t48\t0.001\n",
      "12.6\t2826\t6\t36\t0.0021\n",
      "12.7\t2784\t8\t24\t0.0029\n",
      "12.8\t2752\t3\t42\t0.0011\n",
      "12.8\t2707\t5\t26\t0.0018\n",
      "12.9\t2676\t7\t34\t0.0026\n",
      "13\t2635\t4\t37\t0.0015\n",
      "13.1\t2594\t3\t53\t0.0012\n",
      "13.2\t2538\t5\t23\t0.002\n",
      "13.2\t2510\t8\t34\t0.0032\n",
      "13.3\t2468\t7\t46\t0.0028\n",
      "13.4\t2415\t4\t39\t0.0017\n",
      "13.5\t2372\t3\t24\t0.0013\n",
      "13.6\t2345\t6\t37\t0.0026\n",
      "13.7\t2302\t7\t29\t0.003\n",
      "13.8\t2266\t7\t33\t0.0031\n",
      "13.8\t2226\t5\t33\t0.0022\n",
      "13.9\t2188\t5\t33\t0.0023\n",
      "14\t2150\t5\t29\t0.0023\n",
      "14.1\t2116\t7\t25\t0.0033\n",
      "14.2\t2084\t0\t26\t0\n",
      "14.2\t2058\t6\t28\t0.0029\n",
      "14.3\t2024\t4\t27\t0.002\n",
      "14.4\t1993\t3\t29\t0.0015\n",
      "14.5\t1961\t3\t27\t0.0015\n",
      "14.6\t1931\t7\t33\t0.0036\n",
      "14.7\t1891\t5\t36\t0.0026\n",
      "14.8\t1850\t4\t28\t0.0022\n",
      "14.8\t1818\t3\t27\t0.0017\n",
      "14.9\t1788\t3\t30\t0.0017\n",
      "15\t1755\t1\t19\t0.00057\n",
      "15.1\t1735\t0\t31\t0\n",
      "15.2\t1704\t4\t30\t0.0023\n",
      "15.2\t1670\t4\t27\t0.0024\n",
      "15.3\t1639\t4\t25\t0.0024\n",
      "15.4\t1610\t3\t26\t0.0019\n",
      "15.5\t1581\t1\t28\t0.00063\n",
      "15.6\t1552\t1\t29\t0.00064\n",
      "15.7\t1522\t3\t28\t0.002\n",
      "15.8\t1491\t2\t36\t0.0013\n",
      "15.8\t1453\t2\t23\t0.0014\n",
      "15.9\t1428\t3\t26\t0.0021\n",
      "16\t1399\t7\t20\t0.005\n",
      "16.1\t1372\t1\t22\t0.00073\n",
      "16.2\t1349\t2\t24\t0.0015\n",
      "16.2\t1323\t6\t19\t0.0045\n",
      "16.3\t1298\t2\t23\t0.0015\n",
      "16.4\t1273\t1\t20\t0.00079\n",
      "16.5\t1252\t2\t15\t0.0016\n",
      "16.6\t1235\t2\t16\t0.0016\n",
      "16.7\t1217\t1\t27\t0.00082\n",
      "16.8\t1189\t2\t30\t0.0017\n",
      "16.8\t1157\t2\t23\t0.0017\n",
      "16.9\t1132\t0\t29\t0\n",
      "17\t1103\t3\t15\t0.0027\n",
      "17.1\t1085\t4\t21\t0.0037\n",
      "17.2\t1060\t3\t15\t0.0028\n",
      "17.2\t1042\t2\t16\t0.0019\n",
      "17.3\t1024\t1\t11\t0.00098\n",
      "17.4\t1012\t4\t12\t0.004\n",
      "17.5\t996\t4\t20\t0.004\n",
      "17.6\t972\t1\t14\t0.001\n",
      "17.7\t957\t1\t21\t0.001\n",
      "17.8\t935\t0\t13\t0\n",
      "17.8\t922\t2\t17\t0.0022\n",
      "17.9\t903\t2\t20\t0.0022\n",
      "18\t881\t3\t11\t0.0034\n",
      "18.1\t867\t4\t19\t0.0046\n",
      "18.2\t844\t3\t12\t0.0036\n",
      "18.2\t829\t1\t10\t0.0012\n",
      "18.3\t818\t1\t16\t0.0012\n",
      "18.4\t801\t0\t18\t0\n",
      "18.5\t783\t2\t14\t0.0026\n",
      "18.6\t767\t1\t11\t0.0013\n",
      "18.7\t755\t0\t17\t0\n",
      "18.8\t738\t0\t9\t0\n",
      "18.8\t729\t0\t10\t0\n",
      "18.9\t719\t0\t15\t0\n",
      "19\t704\t1\t10\t0.0014\n",
      "19.1\t693\t0\t18\t0\n",
      "19.2\t675\t0\t15\t0\n",
      "19.2\t660\t2\t10\t0.003\n",
      "19.3\t648\t0\t10\t0\n",
      "19.4\t638\t0\t12\t0\n",
      "19.5\t626\t3\t11\t0.0048\n",
      "19.6\t612\t3\t6\t0.0049\n",
      "19.7\t603\t2\t22\t0.0033\n",
      "19.8\t579\t1\t14\t0.0017\n",
      "19.8\t564\t0\t11\t0\n",
      "19.9\t553\t1\t11\t0.0018\n",
      "20\t541\t0\t13\t0\n",
      "20.1\t528\t1\t15\t0.0019\n",
      "20.2\t512\t4\t12\t0.0078\n",
      "20.2\t496\t1\t14\t0.002\n",
      "20.3\t481\t0\t13\t0\n",
      "20.4\t468\t0\t8\t0\n",
      "20.5\t460\t0\t12\t0\n",
      "20.6\t448\t1\t10\t0.0022\n",
      "20.7\t437\t0\t8\t0\n",
      "20.8\t429\t0\t6\t0\n",
      "20.8\t423\t1\t10\t0.0024\n",
      "20.9\t412\t1\t12\t0.0024\n",
      "21\t399\t2\t17\t0.005\n",
      "21.1\t380\t0\t14\t0\n",
      "21.2\t366\t1\t11\t0.0027\n",
      "21.2\t354\t1\t10\t0.0028\n",
      "21.3\t343\t0\t14\t0\n",
      "21.4\t329\t2\t8\t0.0061\n",
      "21.5\t319\t1\t7\t0.0031\n",
      "21.6\t311\t0\t4\t0\n",
      "21.7\t307\t0\t14\t0\n",
      "21.8\t293\t1\t7\t0.0034\n",
      "21.8\t285\t0\t12\t0\n",
      "21.9\t273\t0\t13\t0\n",
      "22\t260\t0\t9\t0\n",
      "22.1\t251\t0\t2\t0\n",
      "22.2\t249\t1\t2\t0.004\n",
      "22.2\t246\t0\t6\t0\n",
      "22.3\t240\t0\t2\t0\n",
      "22.4\t238\t2\t4\t0.0084\n",
      "22.5\t232\t0\t9\t0\n",
      "22.6\t223\t0\t6\t0\n",
      "22.7\t217\t0\t5\t0\n",
      "22.8\t212\t0\t4\t0\n",
      "22.8\t208\t0\t7\t0\n",
      "22.9\t201\t0\t6\t0\n",
      "23\t195\t0\t8\t0\n",
      "23.1\t187\t0\t4\t0\n",
      "23.2\t183\t0\t4\t0\n",
      "23.2\t179\t1\t6\t0.0056\n",
      "23.3\t172\t0\t6\t0\n",
      "23.4\t166\t1\t5\t0.006\n",
      "23.5\t160\t0\t9\t0\n",
      "23.6\t151\t0\t7\t0\n",
      "23.7\t144\t0\t3\t0\n",
      "23.8\t141\t0\t1\t0\n",
      "23.8\t140\t0\t4\t0\n",
      "23.9\t136\t1\t8\t0.0074\n",
      "24\t127\t0\t3\t0\n",
      "24.1\t124\t0\t6\t0\n",
      "24.2\t118\t0\t2\t0\n",
      "24.2\t116\t1\t5\t0.0086\n",
      "24.3\t110\t0\t6\t0\n",
      "24.4\t104\t0\t5\t0\n",
      "24.5\t99\t0\t1\t0\n",
      "24.6\t98\t0\t4\t0\n",
      "24.7\t94\t0\t3\t0\n",
      "24.8\t91\t0\t3\t0\n",
      "24.8\t88\t0\t1\t0\n",
      "24.9\t87\t0\t4\t0\n",
      "25\t83\t0\t4\t0\n",
      "25.1\t79\t0\t3\t0\n",
      "25.2\t76\t0\t3\t0\n",
      "25.2\t73\t0\t5\t0\n",
      "25.3\t68\t0\t3\t0\n",
      "25.4\t65\t0\t3\t0\n",
      "25.5\t62\t0\t3\t0\n",
      "25.6\t59\t0\t1\t0\n",
      "25.7\t58\t0\t2\t0\n",
      "25.8\t56\t0\t2\t0\n",
      "25.9\t54\t0\t6\t0\n",
      "26\t48\t1\t3\t0.021\n",
      "26.1\t44\t0\t5\t0\n",
      "26.2\t39\t0\t4\t0\n",
      "26.2\t35\t0\t4\t0\n",
      "26.3\t31\t0\t4\t0\n",
      "26.4\t27\t0\t2\t0\n",
      "26.5\t25\t0\t1\t0\n",
      "26.8\t24\t1\t2\t0.042\n",
      "26.8\t21\t0\t1\t0\n",
      "26.9\t20\t0\t1\t0\n",
      "27\t19\t0\t2\t0\n",
      "27.1\t17\t0\t2\t0\n",
      "27.2\t15\t0\t2\t0\n",
      "27.2\t13\t0\t2\t0\n",
      "27.3\t11\t0\t2\t0\n",
      "27.6\t9\t0\t1\t0\n",
      "27.8\t8\t0\t1\t0\n",
      "28.1\t7\t0\t1\t0\n",
      "28.2\t6\t0\t1\t0\n",
      "28.3\t5\t0\t1\t0\n",
      "28.6\t4\t0\t1\t0\n",
      "28.7\t3\t0\t1\t0\n",
      "28.9\t2\t0\t1\t0\n",
      "29\t1\t0\t1\t0\n"
     ]
    }
   ],
   "source": [
    "hf = survival.EstimateHazardFunction(complete, ongoing, verbose=True)"
   ]
  },
  {
   "cell_type": "code",
   "execution_count": 188,
   "metadata": {},
   "outputs": [],
   "source": [
    "hf, sf = marriage.EstimateSurvival(df)"
   ]
  },
  {
   "cell_type": "code",
   "execution_count": 189,
   "metadata": {},
   "outputs": [
    {
     "data": {
      "image/png": "[encoded data removed]",
      "text/plain": [
       "<Figure size 432x288 with 1 Axes>"
      ]
     },
     "metadata": {
      "needs_background": "light"
     },
     "output_type": "display_data"
    }
   ],
   "source": [
    "thinkplot.Plot(hf)"
   ]
  },
  {
   "cell_type": "code",
   "execution_count": 190,
   "metadata": {},
   "outputs": [
    {
     "data": {
      "image/png": "[encoded data removed]",
      "text/plain": [
       "<Figure size 432x288 with 1 Axes>"
      ]
     },
     "metadata": {
      "needs_background": "light"
     },
     "output_type": "display_data"
    }
   ],
   "source": [
    "thinkplot.Plot(sf)"
   ]
  },
  {
   "cell_type": "code",
   "execution_count": 192,
   "metadata": {},
   "outputs": [],
   "source": [
    "#from lifelines import KaplanMeierFitter\n",
    "\n",
    "#kmf = KaplanMeierFitter()\n",
    "#kmf.fit(df.complete_var, event_observed=df.complete)\n",
    "#kmf.survival_function_.plot(color='red')\n",
    "#thinkplot.Config(xlim=[0, 30])"
   ]
  },
  {
   "cell_type": "code",
   "execution_count": 193,
   "metadata": {},
   "outputs": [],
   "source": [
    "colors = sns.color_palette(\"colorblind\", 5)\n",
    "cohorts = [80, 70, 60, 50, 90]\n",
    "colormap = dict(zip(cohorts, colors))"
   ]
  },
  {
   "cell_type": "code",
   "execution_count": 194,
   "metadata": {},
   "outputs": [
    {
     "data": {
      "image/png": "[encoded data removed]",
      "text/plain": [
       "<Figure size 432x288 with 1 Axes>"
      ]
     },
     "metadata": {
      "needs_background": "light"
     },
     "output_type": "display_data"
    }
   ],
   "source": [
    "grouped = df.groupby('birth_index')\n",
    "for name, group in iter(grouped):\n",
    "    hf, sf = marriage.EstimateSurvival(group)\n",
    "    thinkplot.Plot(sf, label=name, color=colormap[name])\n",
    "\n",
    "thinkplot.Config(title='Women in the U.S.',\n",
    "                 xlabel='Duration of marriage (years)',\n",
    "                 ylabel='Fraction still married',\n",
    "                 xlim=[0, 30], ylim=[0.3, 1])"
   ]
  },
  {
   "cell_type": "code",
   "execution_count": 195,
   "metadata": {},
   "outputs": [
    {
     "name": "stdout",
     "output_type": "stream",
     "text": [
      "0\t4208\t9\t17\t0.0021\n",
      "0.0833\t4182\t48\t76\t0.011\n",
      "0.167\t4058\t56\t92\t0.014\n",
      "0.25\t3910\t35\t98\t0.009\n",
      "0.333\t3777\t38\t92\t0.01\n",
      "0.417\t3647\t116\t576\t0.032\n",
      "0.5\t2955\t13\t33\t0.0044\n",
      "0.583\t2909\t11\t36\t0.0038\n",
      "0.667\t2862\t10\t30\t0.0035\n",
      "0.75\t2822\t11\t29\t0.0039\n",
      "0.833\t2782\t9\t27\t0.0032\n",
      "0.917\t2746\t18\t37\t0.0066\n",
      "1\t2691\t19\t28\t0.0071\n",
      "1.08\t2644\t11\t34\t0.0042\n",
      "1.17\t2599\t9\t31\t0.0035\n",
      "1.25\t2559\t11\t35\t0.0043\n",
      "1.33\t2513\t8\t30\t0.0032\n",
      "1.42\t2475\t10\t29\t0.004\n",
      "1.5\t2436\t9\t24\t0.0037\n",
      "1.58\t2403\t12\t34\t0.005\n",
      "1.67\t2357\t12\t40\t0.0051\n",
      "1.75\t2305\t10\t26\t0.0043\n",
      "1.83\t2269\t11\t16\t0.0048\n",
      "1.92\t2242\t6\t29\t0.0027\n",
      "2\t2207\t11\t33\t0.005\n",
      "2.08\t2163\t7\t32\t0.0032\n",
      "2.17\t2124\t7\t30\t0.0033\n",
      "2.25\t2087\t6\t30\t0.0029\n",
      "2.33\t2051\t10\t43\t0.0049\n",
      "2.42\t1998\t9\t25\t0.0045\n",
      "2.5\t1964\t7\t24\t0.0036\n",
      "2.58\t1933\t9\t34\t0.0047\n",
      "2.67\t1890\t10\t20\t0.0053\n",
      "2.75\t1860\t7\t31\t0.0038\n",
      "2.83\t1822\t8\t20\t0.0044\n",
      "2.92\t1794\t8\t28\t0.0045\n",
      "3\t1758\t6\t34\t0.0034\n",
      "3.08\t1718\t11\t21\t0.0064\n",
      "3.17\t1686\t5\t31\t0.003\n",
      "3.25\t1650\t11\t28\t0.0067\n",
      "3.33\t1611\t12\t24\t0.0074\n",
      "3.42\t1575\t7\t26\t0.0044\n",
      "3.5\t1542\t8\t22\t0.0052\n",
      "3.58\t1512\t4\t26\t0.0026\n",
      "3.67\t1482\t9\t30\t0.0061\n",
      "3.75\t1443\t6\t26\t0.0042\n",
      "3.83\t1411\t7\t27\t0.005\n",
      "3.92\t1377\t8\t32\t0.0058\n",
      "4\t1337\t5\t17\t0.0037\n",
      "4.08\t1315\t8\t14\t0.0061\n",
      "4.17\t1293\t6\t25\t0.0046\n",
      "4.25\t1262\t3\t28\t0.0024\n",
      "4.33\t1231\t5\t23\t0.0041\n",
      "4.42\t1203\t5\t26\t0.0042\n",
      "4.5\t1172\t4\t13\t0.0034\n",
      "4.58\t1155\t5\t21\t0.0043\n",
      "4.67\t1129\t3\t17\t0.0027\n",
      "4.75\t1109\t9\t16\t0.0081\n",
      "4.83\t1084\t5\t23\t0.0046\n",
      "4.92\t1056\t5\t22\t0.0047\n",
      "5\t1029\t3\t16\t0.0029\n",
      "5.08\t1010\t8\t27\t0.0079\n",
      "5.17\t975\t10\t13\t0.01\n",
      "5.25\t952\t3\t21\t0.0032\n",
      "5.33\t928\t4\t20\t0.0043\n",
      "5.42\t904\t4\t20\t0.0044\n",
      "5.5\t880\t3\t18\t0.0034\n",
      "5.58\t859\t2\t17\t0.0023\n",
      "5.67\t840\t2\t18\t0.0024\n",
      "5.75\t820\t2\t15\t0.0024\n",
      "5.83\t803\t3\t13\t0.0037\n",
      "5.92\t787\t1\t17\t0.0013\n",
      "6\t769\t2\t13\t0.0026\n",
      "6.08\t754\t3\t18\t0.004\n",
      "6.17\t733\t6\t15\t0.0082\n",
      "6.25\t712\t2\t22\t0.0028\n",
      "6.33\t688\t7\t16\t0.01\n",
      "6.42\t665\t2\t13\t0.003\n",
      "6.5\t650\t3\t9\t0.0046\n",
      "6.58\t638\t0\t8\t0\n",
      "6.67\t630\t1\t10\t0.0016\n",
      "6.75\t619\t0\t15\t0\n",
      "6.83\t604\t4\t13\t0.0066\n",
      "6.92\t587\t2\t7\t0.0034\n",
      "7\t578\t2\t10\t0.0035\n",
      "7.08\t566\t2\t10\t0.0035\n",
      "7.17\t554\t8\t15\t0.014\n",
      "7.25\t531\t1\t10\t0.0019\n",
      "7.33\t520\t0\t8\t0\n",
      "7.42\t512\t3\t17\t0.0059\n",
      "7.5\t492\t0\t13\t0\n",
      "7.58\t479\t3\t14\t0.0063\n",
      "7.67\t462\t1\t7\t0.0022\n",
      "7.75\t454\t2\t15\t0.0044\n",
      "7.83\t437\t0\t5\t0\n",
      "7.92\t432\t2\t12\t0.0046\n",
      "8\t418\t1\t11\t0.0024\n",
      "8.08\t406\t1\t9\t0.0025\n",
      "8.17\t396\t3\t9\t0.0076\n",
      "8.25\t384\t1\t8\t0.0026\n",
      "8.33\t375\t0\t12\t0\n",
      "8.42\t363\t0\t12\t0\n",
      "8.5\t351\t0\t10\t0\n",
      "8.58\t341\t1\t3\t0.0029\n",
      "8.67\t337\t0\t3\t0\n",
      "8.75\t334\t1\t5\t0.003\n",
      "8.83\t328\t0\t4\t0\n",
      "8.92\t324\t1\t5\t0.0031\n",
      "9\t318\t1\t9\t0.0031\n",
      "9.08\t308\t1\t9\t0.0032\n",
      "9.17\t298\t0\t6\t0\n",
      "9.25\t292\t0\t6\t0\n",
      "9.33\t286\t2\t6\t0.007\n",
      "9.42\t278\t0\t7\t0\n",
      "9.5\t271\t0\t6\t0\n",
      "9.58\t265\t0\t9\t0\n",
      "9.67\t256\t1\t8\t0.0039\n",
      "9.75\t247\t1\t11\t0.004\n",
      "9.83\t235\t1\t7\t0.0043\n",
      "9.92\t227\t1\t10\t0.0044\n",
      "10\t216\t0\t4\t0\n",
      "10.1\t212\t0\t8\t0\n",
      "10.2\t204\t1\t4\t0.0049\n",
      "10.2\t199\t0\t5\t0\n",
      "10.3\t194\t0\t9\t0\n",
      "10.4\t185\t0\t8\t0\n",
      "10.5\t177\t0\t4\t0\n",
      "10.6\t173\t0\t3\t0\n",
      "10.7\t170\t0\t4\t0\n",
      "10.8\t166\t1\t6\t0.006\n",
      "10.8\t159\t0\t4\t0\n",
      "10.9\t155\t0\t7\t0\n",
      "11\t148\t2\t8\t0.014\n",
      "11.1\t138\t0\t6\t0\n",
      "11.2\t132\t0\t4\t0\n",
      "11.2\t128\t0\t2\t0\n",
      "11.3\t126\t1\t2\t0.0079\n",
      "11.4\t123\t0\t2\t0\n",
      "11.5\t121\t0\t4\t0\n",
      "11.6\t117\t0\t4\t0\n",
      "11.7\t113\t0\t5\t0\n",
      "11.8\t108\t0\t5\t0\n",
      "11.8\t103\t0\t5\t0\n",
      "11.9\t98\t1\t1\t0.01\n",
      "12\t96\t0\t5\t0\n",
      "12.1\t91\t0\t4\t0\n",
      "12.2\t87\t0\t2\t0\n",
      "12.2\t85\t0\t2\t0\n",
      "12.3\t83\t1\t6\t0.012\n",
      "12.4\t76\t2\t1\t0.026\n",
      "12.5\t73\t0\t5\t0\n",
      "12.6\t68\t0\t4\t0\n",
      "12.7\t64\t0\t1\t0\n",
      "12.8\t63\t0\t4\t0\n",
      "12.8\t59\t0\t2\t0\n",
      "12.9\t57\t0\t3\t0\n",
      "13\t54\t0\t2\t0\n",
      "13.1\t52\t0\t3\t0\n",
      "13.2\t49\t0\t2\t0\n",
      "13.3\t47\t0\t3\t0\n",
      "13.4\t44\t0\t3\t0\n",
      "13.5\t41\t0\t1\t0\n",
      "13.7\t40\t0\t4\t0\n",
      "13.8\t36\t0\t2\t0\n",
      "13.8\t34\t0\t1\t0\n",
      "13.9\t33\t0\t4\t0\n",
      "14.1\t29\t1\t1\t0.034\n",
      "14.2\t27\t0\t1\t0\n",
      "14.2\t26\t0\t2\t0\n",
      "14.3\t24\t0\t1\t0\n",
      "14.4\t23\t0\t2\t0\n",
      "14.5\t21\t0\t1\t0\n",
      "14.6\t20\t0\t3\t0\n",
      "14.7\t17\t0\t1\t0\n",
      "14.9\t16\t0\t1\t0\n",
      "15\t15\t0\t1\t0\n",
      "15.2\t14\t0\t2\t0\n",
      "15.2\t12\t0\t1\t0\n",
      "15.4\t11\t0\t1\t0\n",
      "15.5\t10\t0\t1\t0\n",
      "15.8\t9\t0\t2\t0\n",
      "16.1\t7\t0\t1\t0\n",
      "16.7\t6\t0\t2\t0\n",
      "16.8\t4\t0\t1\t0\n",
      "16.9\t3\t0\t1\t0\n",
      "17\t2\t0\t1\t0\n",
      "18.8\t1\t0\t1\t0\n"
     ]
    }
   ],
   "source": [
    "last = grouped.get_group(80)\n",
    "complete = last[last.complete].complete_var\n",
    "ongoing = last[~last.complete].ongoing_var\n",
    "hf = survival.EstimateHazardFunction(complete, ongoing, verbose=True)"
   ]
  },
  {
   "cell_type": "markdown",
   "metadata": {},
   "source": [
    "So far:\n",
    "\n",
    "1. Doesn't take into account sampling weights.\n",
    "\n",
    "2. Doesn't take into account `agemarry`.\n",
    "\n",
    "3. Vulnerable to small errors in tail."
   ]
  },
  {
   "cell_type": "code",
   "execution_count": 196,
   "metadata": {},
   "outputs": [
    {
     "name": "stdout",
     "output_type": "stream",
     "text": [
      "CPU times: user 6.19 s, sys: 7.9 ms, total: 6.19 s\n",
      "Wall time: 6.19 s\n"
     ]
    }
   ],
   "source": [
    "\n",
    "%time sf_map = marriage.EstimateSurvivalByCohort(married_resps, iters=101)"
   ]
  },
  {
   "cell_type": "code",
   "execution_count": 197,
   "metadata": {},
   "outputs": [
    {
     "data": {
      "image/png": "[encoded data removed]",
      "text/plain": [
       "<Figure size 432x288 with 1 Axes>"
      ]
     },
     "metadata": {
      "needs_background": "light"
     },
     "output_type": "display_data"
    }
   ],
   "source": [
    "\n",
    "marriage.PlotSurvivalFunctions(sf_map, colormap=colormap)\n",
    "\n",
    "thinkplot.Config(title='Women in the U.S.',\n",
    "                     xlabel='Duration of marriage (years)',\n",
    "                     ylabel='Fraction still married',\n",
    "                     xlim=[0, 30], ylim=[0.3, 1],\n",
    "                     legend=True, loc='upper right', frameon=False)"
   ]
  },
  {
   "cell_type": "code",
   "execution_count": 198,
   "metadata": {},
   "outputs": [
    {
     "data": {
      "image/png": "[encoded data removed]",
      "text/plain": [
       "<Figure size 432x288 with 1 Axes>"
      ]
     },
     "metadata": {
      "needs_background": "light"
     },
     "output_type": "display_data"
    }
   ],
   "source": [
    "for name, group in iter(grouped):\n",
    "    cdf = thinkstats2.Cdf(group.agemarry)\n",
    "    thinkplot.Cdf(cdf, label=name, color=colormap[name])"
   ]
  },
  {
   "cell_type": "code",
   "execution_count": 199,
   "metadata": {},
   "outputs": [
    {
     "name": "stderr",
     "output_type": "stream",
     "text": [
      "/home/downey/anaconda3/lib/python3.6/site-packages/scipy/stats/_distn_infrastructure.py:876: RuntimeWarning: invalid value encountered in greater_equal\n",
      "  return (self.a <= x) & (x <= self.b)\n",
      "/home/downey/anaconda3/lib/python3.6/site-packages/scipy/stats/_distn_infrastructure.py:876: RuntimeWarning: invalid value encountered in less_equal\n",
      "  return (self.a <= x) & (x <= self.b)\n",
      "/home/downey/MarriageNSFG/marriage.py:113: RuntimeWarning: invalid value encountered in less\n",
      "  return np.random.choice(group.index, 1, p=weights)[0]\n"
     ]
    },
    {
     "data": {
      "image/png": "[encoded data removed]",
      "text/plain": [
       "<Figure size 432x288 with 1 Axes>"
      ]
     },
     "metadata": {
      "needs_background": "light"
     },
     "output_type": "display_data"
    }
   ],
   "source": [
    "name = 80\n",
    "last = grouped.get_group(name)\n",
    "thinkplot.Cdf(thinkstats2.Cdf(last.agemarry), label=name, color=colormap[name])\n",
    "\n",
    "for name, group in iter(grouped):\n",
    "    if name != '80':\n",
    "        matched = marriage.PropensityMatch(last, group, colname='agemarry')\n",
    "        thinkplot.Cdf(thinkstats2.Cdf(matched.agemarry), label=name, color=colormap[name])"
   ]
  },
  {
   "cell_type": "code",
   "execution_count": null,
   "metadata": {},
   "outputs": [],
   "source": [
    "\n",
    "%time sf_map = marriage.EstimateSurvivalByCohort(married_resps, iters=21, prop_match=80)"
   ]
  },
  {
   "cell_type": "code",
   "execution_count": null,
   "metadata": {},
   "outputs": [],
   "source": [
    "\n",
    "marriage.PlotSurvivalFunctions(sf_map, colormap=colormap)\n",
    "\n",
    "thinkplot.Config(title='Women in the U.S.',\n",
    "                     xlabel='Duration of marriage (years)',\n",
    "                     ylabel='Fraction still married',\n",
    "                     xlim=[0, 30], ylim=[0.3, 1],\n",
    "                     legend=True, loc='upper right', frameon=False)"
   ]
  },
  {
   "cell_type": "code",
   "execution_count": null,
   "metadata": {},
   "outputs": [],
   "source": [
    "\n",
    "%time sf_map = marriage.EstimateSurvivalByCohort(married_resps, iters=21, error_rate=0.1)"
   ]
  },
  {
   "cell_type": "code",
   "execution_count": null,
   "metadata": {},
   "outputs": [],
   "source": [
    "\n",
    "marriage.PlotSurvivalFunctions(sf_map, colormap=colormap)\n",
    "\n",
    "thinkplot.Config(title='Women in the U.S.',\n",
    "                     xlabel='Duration of marriage (years)',\n",
    "                     ylabel='Fraction still married',\n",
    "                     xlim=[0, 30], ylim=[0.3, 1],\n",
    "                     legend=True, loc='upper right', frameon=False)"
   ]
  },
  {
   "cell_type": "code",
   "execution_count": null,
   "metadata": {},
   "outputs": [],
   "source": [
    "\n",
    "%time sf_map = marriage.EstimateSurvivalByCohort(married_resps, iters=21, prop_match=80)"
   ]
  },
  {
   "cell_type": "code",
   "execution_count": null,
   "metadata": {},
   "outputs": [],
   "source": [
    "\n",
    "marriage.PlotSurvivalFunctions(sf_map, colormap=colormap)\n",
    "\n",
    "thinkplot.Config(title='Women in the U.S.',\n",
    "                     xlabel='Duration of marriage (years)',\n",
    "                     ylabel='Fraction still married',\n",
    "                     xlim=[0, 30], ylim=[0.3, 1],\n",
    "                     legend=True, loc='upper right', frameon=False)"
   ]
  },
  {
   "cell_type": "markdown",
   "metadata": {},
   "source": []
  },
  {
   "cell_type": "code",
   "execution_count": null,
   "metadata": {},
   "outputs": [],
   "source": [
    "def MakeTable(sf_map, ages):\n",
    "    t = []\n",
    "    for name, sf_seq in sorted(sf_map.items()):\n",
    "        ts, ss = marriage.MakeSurvivalCI(sf_seq, [50])\n",
    "        ss = ss[0]\n",
    "        vals = [np.interp(age, ts, ss, right=np.nan) for age in ages]\n",
    "        t.append((name, vals))\n",
    "    return t"
   ]
  },
  {
   "cell_type": "code",
   "execution_count": null,
   "metadata": {},
   "outputs": [],
   "source": [
    "def MakePercentageTable(sf_map, ages=[6, 16, 26]):\n",
    "    t = MakeTable(sf_map, ages)\n",
    "    for name, sf_seq in sorted(sf_map.items()):\n",
    "        ts, ss = marriage.MakeSurvivalCI(sf_seq, [50])\n",
    "        ss = ss[0]\n",
    "        vals = [np.interp(age, ts, ss, right=np.nan) for age in ages]\n",
    "        print(name, '&', ' & '.join('%0.0f' % (val*100) for val in vals), r'\\\\')\n",
    "        \n",
    "MakePercentageTable(sf_map)"
   ]
  },
  {
   "cell_type": "markdown",
   "metadata": {},
   "source": [
    "# Male respondents"
   ]
  },
  {
   "cell_type": "code",
   "execution_count": null,
   "metadata": {},
   "outputs": [],
   "source": [
    "\n",
    "male2010 = marriage.ReadMaleResp2010()\n",
    "male2010.head()"
   ]
  },
  {
   "cell_type": "code",
   "execution_count": null,
   "metadata": {},
   "outputs": [],
   "source": [
    "male2013 = marriage.ReadMaleResp2013()\n",
    "male2013.head()"
   ]
  },
  {
   "cell_type": "code",
   "execution_count": null,
   "metadata": {},
   "outputs": [],
   "source": [
    "male2015 = marriage.ReadMaleResp2015()\n",
    "male2015.head()"
   ]
  },
  {
   "cell_type": "code",
   "execution_count": null,
   "metadata": {},
   "outputs": [],
   "source": [
    "males = [male2010, male2013, male2015]\n",
    "df2 = pd.concat(males, ignore_index=True)\n",
    "len(df2)"
   ]
  },
  {
   "cell_type": "code",
   "execution_count": null,
   "metadata": {},
   "outputs": [],
   "source": []
  },
  {
   "cell_type": "code",
   "execution_count": null,
   "metadata": {},
   "outputs": [],
   "source": [
    "married_males = [resp[resp.evrmarry] for resp in [male2010, male2013, male2015]]"
   ]
  },
  {
   "cell_type": "code",
   "execution_count": null,
   "metadata": {},
   "outputs": [],
   "source": [
    "for df in married_males:\n",
    "    df['complete'] = df.divorced\n",
    "    df['complete_var'] = df.mar1diss / 12\n",
    "    df['ongoing_var'] = df.mar1diss / 12\n",
    "    df['complete_missing'] = df.complete & df.complete_var.isnull()\n",
    "    df['ongoing_missing'] = ~df.complete & df.ongoing_var.isnull()\n",
    "    print(sum(df.complete_missing), sum(df.ongoing_missing))\n",
    "    \n",
    "    # combine the 90s and 80s cohorts\n",
    "    # df.loc[df.birth_index==90, 'birth_index'] = 80"
   ]
  },
  {
   "cell_type": "code",
   "execution_count": null,
   "metadata": {},
   "outputs": [],
   "source": [
    "df = pd.concat(married_males, ignore_index=True)\n",
    "len(df)"
   ]
  },
  {
   "cell_type": "code",
   "execution_count": null,
   "metadata": {
    "scrolled": true
   },
   "outputs": [],
   "source": [
    "complete = df.loc[df.complete, 'complete_var']\n",
    "complete.describe()"
   ]
  },
  {
   "cell_type": "code",
   "execution_count": null,
   "metadata": {
    "scrolled": true
   },
   "outputs": [],
   "source": [
    "ongoing = df.loc[~df.complete, 'complete_var']\n",
    "ongoing.describe()"
   ]
  },
  {
   "cell_type": "code",
   "execution_count": null,
   "metadata": {},
   "outputs": [],
   "source": [
    "thinkplot.Cdf(thinkstats2.Cdf(complete))\n",
    "thinkplot.Cdf(thinkstats2.Cdf(ongoing))\n",
    "thinkplot.Config(xlabel='Duration of marriage (years)',\n",
    "                 ylabel='CDF')"
   ]
  },
  {
   "cell_type": "code",
   "execution_count": null,
   "metadata": {},
   "outputs": [],
   "source": [
    "hf = survival.EstimateHazardFunction(complete, ongoing, verbose=True)"
   ]
  },
  {
   "cell_type": "code",
   "execution_count": null,
   "metadata": {},
   "outputs": [],
   "source": [
    "hf, sf = marriage.EstimateSurvival(df)"
   ]
  },
  {
   "cell_type": "code",
   "execution_count": null,
   "metadata": {},
   "outputs": [],
   "source": [
    "thinkplot.Plot(hf)"
   ]
  },
  {
   "cell_type": "code",
   "execution_count": null,
   "metadata": {},
   "outputs": [],
   "source": [
    "thinkplot.Plot(sf)"
   ]
  },
  {
   "cell_type": "code",
   "execution_count": null,
   "metadata": {},
   "outputs": [],
   "source": [
    "from lifelines import KaplanMeierFitter\n",
    "\n",
    "\n",
    "kmf = KaplanMeierFitter()\n",
    "kmf.fit(df.complete_var, event_observed=df.complete)\n",
    "kmf.survival_function_.plot(color='red')\n",
    "thinkplot.Config(xlim=[0, 30])"
   ]
  },
  {
   "cell_type": "code",
   "execution_count": null,
   "metadata": {},
   "outputs": [],
   "source": [
    "colors = sns.color_palette(\"colorblind\", 5)\n",
    "cohorts = [80, 70, 60, 50, 90]\n",
    "colormap = dict(zip(cohorts, colors))"
   ]
  },
  {
   "cell_type": "code",
   "execution_count": null,
   "metadata": {},
   "outputs": [],
   "source": [
    "grouped = df.groupby('birth_index')\n",
    "for name, group in iter(grouped):\n",
    "    hf, sf = marriage.EstimateSurvival(group)\n",
    "    thinkplot.Plot(sf, label=name, color=colormap[name])\n",
    "\n",
    "thinkplot.Config(title='Women in the U.S.',\n",
    "                 xlabel='Duration of marriage (years)',\n",
    "                 ylabel='Fraction still married',\n",
    "                 xlim=[0, 30], ylim=[0.3, 1])"
   ]
  },
  {
   "cell_type": "code",
   "execution_count": null,
   "metadata": {},
   "outputs": [],
   "source": [
    "last = grouped.get_group(80)\n",
    "complete = last[last.complete].complete_var\n",
    "ongoing = last[~last.complete].ongoing_var\n",
    "hf = survival.EstimateHazardFunction(complete, ongoing, verbose=True)"
   ]
  },
  {
   "cell_type": "markdown",
   "metadata": {},
   "source": [
    "So far:\n",
    "\n",
    "1. Doesn't take into account sampling weights.\n",
    "\n",
    "2. Doesn't take into account `agemarry`.\n",
    "\n",
    "3. Vulnerable to small errors in tail."
   ]
  },
  {
   "cell_type": "code",
   "execution_count": null,
   "metadata": {},
   "outputs": [],
   "source": [
    "reload(marriage)\n",
    "\n",
    "%time sf_map = marriage.EstimateSurvivalByCohort(married_males, iters=101)"
   ]
  },
  {
   "cell_type": "code",
   "execution_count": null,
   "metadata": {},
   "outputs": [],
   "source": [
    "reload(marriage)\n",
    "\n",
    "marriage.PlotSurvivalFunctions(sf_map, colormap=colormap)\n",
    "\n",
    "thinkplot.Config(title='Men in the U.S.',\n",
    "                     xlabel='Duration of marriage (years)',\n",
    "                     ylabel='Fraction still married',\n",
    "                     xlim=[0, 30], ylim=[0.3, 1],\n",
    "                     legend=True, loc='upper right', frameon=False)"
   ]
  },
  {
   "cell_type": "code",
   "execution_count": null,
   "metadata": {},
   "outputs": [],
   "source": [
    "for name, group in iter(grouped):\n",
    "    cdf = thinkstats2.Cdf(group.agemarry)\n",
    "    thinkplot.Cdf(cdf, label=name, color=colormap[name])"
   ]
  },
  {
   "cell_type": "code",
   "execution_count": null,
   "metadata": {},
   "outputs": [],
   "source": [
    "name = 80\n",
    "last = grouped.get_group(name)\n",
    "thinkplot.Cdf(thinkstats2.Cdf(last.agemarry), label=name, color=colormap[name])\n",
    "\n",
    "for name, group in iter(grouped):\n",
    "    if name != '80':\n",
    "        matched = marriage.PropensityMatch(last, group, colname='agemarry')\n",
    "        thinkplot.Cdf(thinkstats2.Cdf(matched.agemarry), label=name, color=colormap[name])"
   ]
  },
  {
   "cell_type": "code",
   "execution_count": null,
   "metadata": {},
   "outputs": [],
   "source": [
    "reload(marriage)\n",
    "\n",
    "%time sf_map = marriage.EstimateSurvivalByCohort(married_males, iters=21, prop_match=80)"
   ]
  },
  {
   "cell_type": "code",
   "execution_count": null,
   "metadata": {},
   "outputs": [],
   "source": [
    "reload(marriage)\n",
    "\n",
    "marriage.PlotSurvivalFunctions(sf_map, colormap=colormap)\n",
    "\n",
    "thinkplot.Config(title='Men in the U.S.',\n",
    "                     xlabel='Duration of marriage (years)',\n",
    "                     ylabel='Fraction still married',\n",
    "                     xlim=[0, 30], ylim=[0.3, 1],\n",
    "                     legend=True, loc='upper right', frameon=False)"
   ]
  },
  {
   "cell_type": "code",
   "execution_count": null,
   "metadata": {},
   "outputs": [],
   "source": [
    "reload(marriage)\n",
    "\n",
    "%time sf_map = marriage.EstimateSurvivalByCohort(married_males, iters=21, error_rate=0.1)"
   ]
  },
  {
   "cell_type": "code",
   "execution_count": null,
   "metadata": {},
   "outputs": [],
   "source": [
    "reload(marriage)\n",
    "\n",
    "marriage.PlotSurvivalFunctions(sf_map, colormap=colormap)\n",
    "\n",
    "thinkplot.Config(title='Men in the U.S.',\n",
    "                     xlabel='Duration of marriage (years)',\n",
    "                     ylabel='Fraction still married',\n",
    "                     xlim=[0, 30], ylim=[0.3, 1],\n",
    "                     legend=True, loc='upper right', frameon=False)"
   ]
  },
  {
   "cell_type": "code",
   "execution_count": null,
   "metadata": {},
   "outputs": [],
   "source": [
    "reload(marriage)\n",
    "\n",
    "%time sf_map = marriage.EstimateSurvivalByCohort(married_males, iters=21, prop_match=80)"
   ]
  },
  {
   "cell_type": "code",
   "execution_count": null,
   "metadata": {},
   "outputs": [],
   "source": [
    "reload(marriage)\n",
    "\n",
    "marriage.PlotSurvivalFunctions(sf_map, colormap=colormap)\n",
    "\n",
    "thinkplot.Config(title='Men in the U.S.',\n",
    "                     xlabel='Duration of marriage (years)',\n",
    "                     ylabel='Fraction still married',\n",
    "                     xlim=[0, 30], ylim=[0.3, 1],\n",
    "                     legend=True, loc='upper right', frameon=False)"
   ]
  },
  {
   "cell_type": "markdown",
   "metadata": {},
   "source": []
  },
  {
   "cell_type": "code",
   "execution_count": null,
   "metadata": {},
   "outputs": [],
   "source": [
    "def MakeTable(sf_map, ages):\n",
    "    t = []\n",
    "    for name, sf_seq in sorted(sf_map.items()):\n",
    "        ts, ss = marriage.MakeSurvivalCI(sf_seq, [50])\n",
    "        ss = ss[0]\n",
    "        vals = [np.interp(age, ts, ss, right=np.nan) for age in ages]\n",
    "        t.append((name, vals))\n",
    "    return t"
   ]
  },
  {
   "cell_type": "code",
   "execution_count": null,
   "metadata": {},
   "outputs": [],
   "source": [
    "def MakePercentageTable(sf_map, ages=[6, 16, 26]):\n",
    "    t = MakeTable(sf_map, ages)\n",
    "    for name, sf_seq in sorted(sf_map.items()):\n",
    "        ts, ss = marriage.MakeSurvivalCI(sf_seq, [50])\n",
    "        ss = ss[0]\n",
    "        vals = [np.interp(age, ts, ss, right=np.nan) for age in ages]\n",
    "        print(name, '&', ' & '.join('%0.0f' % (val*100) for val in vals), r'\\\\')\n",
    "        \n",
    "MakePercentageTable(sf_map)"
   ]
  },
  {
   "cell_type": "markdown",
   "metadata": {
    "collapsed": true
   },
   "source": [
    "## All adults\n"
   ]
  },
  {
   "cell_type": "code",
   "execution_count": null,
   "metadata": {},
   "outputs": [],
   "source": [
    "resps = [resp6, resp7, resp8, resp9, male2010, male2013, male2015]"
   ]
  },
  {
   "cell_type": "code",
   "execution_count": null,
   "metadata": {},
   "outputs": [],
   "source": [
    "married_resps = [resp[resp.evrmarry] for resp in resps]"
   ]
  },
  {
   "cell_type": "code",
   "execution_count": null,
   "metadata": {},
   "outputs": [],
   "source": [
    "for df in married_resps:\n",
    "    df['complete'] = df.divorced\n",
    "    df['complete_var'] = df.mar1diss / 12\n",
    "    df['ongoing_var'] = df.mar1diss / 12\n",
    "    df['complete_missing'] = df.complete & df.complete_var.isnull()\n",
    "    df['ongoing_missing'] = ~df.complete & df.ongoing_var.isnull()\n",
    "    print(len(df), sum(df.complete_missing), sum(df.ongoing_missing))\n",
    "    \n",
    "    # combine the 90s and 80s cohorts\n",
    "    # df.loc[df.birth_index==90, 'birth_index'] = 80"
   ]
  },
  {
   "cell_type": "code",
   "execution_count": null,
   "metadata": {},
   "outputs": [],
   "source": [
    "df = pd.concat(married_resps, ignore_index=True)\n",
    "len(df)"
   ]
  },
  {
   "cell_type": "code",
   "execution_count": null,
   "metadata": {
    "scrolled": true
   },
   "outputs": [],
   "source": [
    "complete = df.loc[df.complete, 'complete_var']\n",
    "complete.describe()"
   ]
  },
  {
   "cell_type": "code",
   "execution_count": null,
   "metadata": {
    "scrolled": true
   },
   "outputs": [],
   "source": [
    "ongoing = df.loc[~df.complete, 'complete_var']\n",
    "ongoing.describe()"
   ]
  },
  {
   "cell_type": "code",
   "execution_count": null,
   "metadata": {},
   "outputs": [],
   "source": [
    "thinkplot.Cdf(thinkstats2.Cdf(complete))\n",
    "thinkplot.Cdf(thinkstats2.Cdf(ongoing))\n",
    "thinkplot.Config(xlabel='Duration of marriage (years)',\n",
    "                 ylabel='CDF')"
   ]
  },
  {
   "cell_type": "code",
   "execution_count": null,
   "metadata": {},
   "outputs": [],
   "source": [
    "hf = survival.EstimateHazardFunction(complete, ongoing, verbose=True)"
   ]
  },
  {
   "cell_type": "code",
   "execution_count": null,
   "metadata": {},
   "outputs": [],
   "source": [
    "hf, sf = marriage.EstimateSurvival(df)"
   ]
  },
  {
   "cell_type": "code",
   "execution_count": null,
   "metadata": {},
   "outputs": [],
   "source": [
    "thinkplot.Plot(hf)"
   ]
  },
  {
   "cell_type": "code",
   "execution_count": null,
   "metadata": {},
   "outputs": [],
   "source": [
    "thinkplot.Plot(sf)"
   ]
  },
  {
   "cell_type": "code",
   "execution_count": null,
   "metadata": {},
   "outputs": [],
   "source": [
    "from lifelines import KaplanMeierFitter\n",
    "\n",
    "\n",
    "kmf = KaplanMeierFitter()\n",
    "kmf.fit(df.complete_var, event_observed=df.complete)\n",
    "kmf.survival_function_.plot(color='red')\n",
    "thinkplot.Config(xlim=[0, 30])"
   ]
  },
  {
   "cell_type": "code",
   "execution_count": null,
   "metadata": {},
   "outputs": [],
   "source": [
    "colors = sns.color_palette(\"colorblind\", 5)\n",
    "cohorts = [80, 70, 60, 50, 90]\n",
    "colormap = dict(zip(cohorts, colors))"
   ]
  },
  {
   "cell_type": "code",
   "execution_count": null,
   "metadata": {},
   "outputs": [],
   "source": [
    "grouped = df.groupby('birth_index')\n",
    "for name, group in iter(grouped):\n",
    "    hf, sf = marriage.EstimateSurvival(group)\n",
    "    thinkplot.Plot(sf, label=name, color=colormap[name])\n",
    "\n",
    "thinkplot.Config(title='Adults in the U.S.',\n",
    "                 xlabel='Duration of marriage (years)',\n",
    "                 ylabel='Fraction still married',\n",
    "                 xlim=[0, 30], ylim=[0.3, 1])"
   ]
  },
  {
   "cell_type": "code",
   "execution_count": null,
   "metadata": {},
   "outputs": [],
   "source": [
    "last = grouped.get_group(80)\n",
    "complete = last[last.complete].complete_var\n",
    "ongoing = last[~last.complete].ongoing_var\n",
    "hf = survival.EstimateHazardFunction(complete, ongoing, verbose=True)"
   ]
  },
  {
   "cell_type": "markdown",
   "metadata": {},
   "source": [
    "So far:\n",
    "\n",
    "1. Doesn't take into account sampling weights.\n",
    "\n",
    "2. Doesn't take into account `agemarry`.\n",
    "\n",
    "3. Vulnerable to small errors in tail."
   ]
  },
  {
   "cell_type": "code",
   "execution_count": null,
   "metadata": {},
   "outputs": [],
   "source": [
    "reload(marriage)\n",
    "\n",
    "%time sf_map = marriage.EstimateSurvivalByCohort(married_resps, iters=101)"
   ]
  },
  {
   "cell_type": "code",
   "execution_count": null,
   "metadata": {},
   "outputs": [],
   "source": [
    "reload(marriage)\n",
    "\n",
    "marriage.PlotSurvivalFunctions(sf_map, colormap=colormap)\n",
    "\n",
    "thinkplot.Config(title='Adults in the U.S.',\n",
    "                     xlabel='Duration of marriage (years)',\n",
    "                     ylabel='Fraction still married',\n",
    "                     xlim=[0, 30], ylim=[0.3, 1],\n",
    "                     legend=True, loc='upper right', frameon=False)"
   ]
  },
  {
   "cell_type": "code",
   "execution_count": null,
   "metadata": {},
   "outputs": [],
   "source": [
    "for name, group in iter(grouped):\n",
    "    cdf = thinkstats2.Cdf(group.agemarry)\n",
    "    thinkplot.Cdf(cdf, label=name, color=colormap[name])"
   ]
  },
  {
   "cell_type": "code",
   "execution_count": null,
   "metadata": {},
   "outputs": [],
   "source": [
    "name = 80\n",
    "last = grouped.get_group(name)\n",
    "thinkplot.Cdf(thinkstats2.Cdf(last.agemarry), label=name, color=colormap[name])\n",
    "\n",
    "for name, group in iter(grouped):\n",
    "    if name != '80':\n",
    "        matched = marriage.PropensityMatch(last, group, colname='agemarry')\n",
    "        thinkplot.Cdf(thinkstats2.Cdf(matched.agemarry), label=name, color=colormap[name])"
   ]
  },
  {
   "cell_type": "code",
   "execution_count": null,
   "metadata": {},
   "outputs": [],
   "source": [
    "reload(marriage)\n",
    "\n",
    "%time sf_map = marriage.EstimateSurvivalByCohort(married_resps, iters=101, prop_match=80)"
   ]
  },
  {
   "cell_type": "code",
   "execution_count": null,
   "metadata": {},
   "outputs": [],
   "source": [
    "reload(marriage)\n",
    "\n",
    "marriage.PlotSurvivalFunctions(sf_map, colormap=colormap)\n",
    "\n",
    "thinkplot.Config(title='Adults in the U.S.',\n",
    "                 xlabel='Duration of marriage (years)',\n",
    "                 ylabel='Fraction still married',\n",
    "                 xlim=[0, 30], ylim=[0.3, 1],\n",
    "                 legend=True, loc='upper right', frameon=False)\n",
    "\n",
    "thinkplot.Save('divorce1', clf=False, formats=['png'])"
   ]
  },
  {
   "cell_type": "markdown",
   "metadata": {},
   "source": []
  },
  {
   "cell_type": "code",
   "execution_count": null,
   "metadata": {},
   "outputs": [],
   "source": [
    "def MakeTable(sf_map, ages):\n",
    "    t = []\n",
    "    for name, sf_seq in sorted(sf_map.items()):\n",
    "        ts, ss = marriage.MakeSurvivalCI(sf_seq, [50])\n",
    "        ss = ss[0]\n",
    "        vals = [np.interp(age, ts, ss, right=np.nan) for age in ages]\n",
    "        t.append((name, vals))\n",
    "    return t"
   ]
  },
  {
   "cell_type": "code",
   "execution_count": null,
   "metadata": {},
   "outputs": [],
   "source": [
    "def MakePercentageTable(sf_map, ages=[7, 16, 26]):\n",
    "    t = MakeTable(sf_map, ages)\n",
    "    for name, sf_seq in sorted(sf_map.items()):\n",
    "        ts, ss = marriage.MakeSurvivalCI(sf_seq, [50])\n",
    "        ss = ss[0]\n",
    "        vals = [np.interp(age, ts, ss, right=np.nan) for age in ages]\n",
    "        print(name, '&', ' & '.join('%0.0f' % (val*100) for val in vals), r'\\\\')\n",
    "        \n",
    "MakePercentageTable(sf_map)"
   ]
  },
  {
   "cell_type": "code",
   "execution_count": null,
   "metadata": {},
   "outputs": [],
   "source": [
    "group = grouped.get_group(80)"
   ]
  },
  {
   "cell_type": "code",
   "execution_count": null,
   "metadata": {},
   "outputs": [],
   "source": [
    "thinkplot.Cdf(thinkstats2.Cdf(group.agemarry))"
   ]
  },
  {
   "cell_type": "code",
   "execution_count": null,
   "metadata": {},
   "outputs": [],
   "source": [
    "group.agemarry.describe()"
   ]
  },
  {
   "cell_type": "code",
   "execution_count": null,
   "metadata": {},
   "outputs": [],
   "source": [
    "youngmarry = group[group.agemarry <= 21]\n",
    "oldmarry = group[group.agemarry > 21]"
   ]
  },
  {
   "cell_type": "code",
   "execution_count": null,
   "metadata": {},
   "outputs": [],
   "source": [
    "len(youngmarry), len(oldmarry)"
   ]
  },
  {
   "cell_type": "code",
   "execution_count": null,
   "metadata": {},
   "outputs": [],
   "source": [
    "hf, sf = marriage.EstimateSurvival(youngmarry)\n",
    "thinkplot.Plot(sf, label='Married age <= 21')\n",
    "hf, sf = marriage.EstimateSurvival(oldmarry)\n",
    "thinkplot.Plot(sf, label='Married age > 21')\n",
    "thinkplot.Config(title='Adults in the U.S., born in 1990s',\n",
    "                 xlabel='Duration of marriage (years)',\n",
    "                 ylabel='Fraction still married',\n",
    "                 xlim=[0, 20], ylim=[0.3, 1],\n",
    "                 legend=True, loc='upper right', frameon=False)"
   ]
  },
  {
   "cell_type": "code",
   "execution_count": null,
   "metadata": {},
   "outputs": [],
   "source": []
  },
  {
   "cell_type": "code",
   "execution_count": null,
   "metadata": {},
   "outputs": [],
   "source": []
  }
 ],
 "metadata": {
  "kernelspec": {
   "display_name": "Python 3 (ipykernel)",
   "language": "python",
   "name": "python3"
  },
  "language_info": {
   "codemirror_mode": {
    "name": "ipython",
    "version": 3
   },
   "file_extension": ".py",
   "mimetype": "text/x-python",
   "name": "python",
   "nbconvert_exporter": "python",
   "pygments_lexer": "ipython3",
   "version": "3.10.13"
  }
 },
 "nbformat": 4,
 "nbformat_minor": 1
}
