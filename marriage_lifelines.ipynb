{
 "cells": [
  {
   "cell_type": "markdown",
   "metadata": {},
   "source": [
    "# Age at first marriage\n"
   ]
  },
  {
   "cell_type": "code",
   "execution_count": 1,
   "metadata": {},
   "outputs": [
    {
     "data": {
      "application/javascript": [
       "\n",
       "        setTimeout(function() {\n",
       "            var nbb_cell_id = 1;\n",
       "            var nbb_formatted_code = \"%load_ext nb_black\";\n",
       "            var nbb_cells = Jupyter.notebook.get_cells();\n",
       "            for (var i = 0; i < nbb_cells.length; ++i) {\n",
       "                if (nbb_cells[i].input_prompt_number == nbb_cell_id) {\n",
       "                    nbb_cells[i].set_text(nbb_formatted_code);\n",
       "                    break;\n",
       "                }\n",
       "            }\n",
       "        }, 500);\n",
       "        "
      ],
      "text/plain": [
       "<IPython.core.display.Javascript object>"
      ]
     },
     "metadata": {},
     "output_type": "display_data"
    }
   ],
   "source": [
    "%load_ext nb_black"
   ]
  },
  {
   "cell_type": "code",
   "execution_count": 2,
   "metadata": {},
   "outputs": [
    {
     "data": {
      "application/javascript": [
       "\n",
       "        setTimeout(function() {\n",
       "            var nbb_cell_id = 2;\n",
       "            var nbb_formatted_code = \"import pandas as pd\\nimport numpy as np\\nimport matplotlib.pyplot as plt\\nimport seaborn as sns\\n\\nfrom lifelines import KaplanMeierFitter\\n\\nfrom utils import decorate\\nfrom utils import value_counts\\nfrom utils import resample_by_cycle\\nfrom utils import round_into_bins\\nfrom utils import remove_spines\\n\\nfrom empiricaldist import Pmf, Cdf\\n\\nrandom_seed = 1\";\n",
       "            var nbb_cells = Jupyter.notebook.get_cells();\n",
       "            for (var i = 0; i < nbb_cells.length; ++i) {\n",
       "                if (nbb_cells[i].input_prompt_number == nbb_cell_id) {\n",
       "                    nbb_cells[i].set_text(nbb_formatted_code);\n",
       "                    break;\n",
       "                }\n",
       "            }\n",
       "        }, 500);\n",
       "        "
      ],
      "text/plain": [
       "<IPython.core.display.Javascript object>"
      ]
     },
     "metadata": {},
     "output_type": "display_data"
    }
   ],
   "source": [
    "import pandas as pd\n",
    "import numpy as np\n",
    "import matplotlib.pyplot as plt\n",
    "import seaborn as sns\n",
    "\n",
    "from lifelines import KaplanMeierFitter\n",
    "\n",
    "from utils import decorate\n",
    "from utils import value_counts\n",
    "from utils import resample_by_cycle\n",
    "from utils import round_into_bins\n",
    "from utils import remove_spines\n",
    "\n",
    "from empiricaldist import Pmf, Cdf\n",
    "\n",
    "random_seed = 1"
   ]
  },
  {
   "cell_type": "code",
   "execution_count": 3,
   "metadata": {},
   "outputs": [
    {
     "data": {
      "application/javascript": [
       "\n",
       "        setTimeout(function() {\n",
       "            var nbb_cell_id = 3;\n",
       "            var nbb_formatted_code = \"# Make the figures smaller to save some screen real estate.\\nplt.rcParams[\\\"figure.dpi\\\"] = 75\\nplt.rcParams[\\\"figure.figsize\\\"] = [5, 3.7]\";\n",
       "            var nbb_cells = Jupyter.notebook.get_cells();\n",
       "            for (var i = 0; i < nbb_cells.length; ++i) {\n",
       "                if (nbb_cells[i].input_prompt_number == nbb_cell_id) {\n",
       "                    nbb_cells[i].set_text(nbb_formatted_code);\n",
       "                    break;\n",
       "                }\n",
       "            }\n",
       "        }, 500);\n",
       "        "
      ],
      "text/plain": [
       "<IPython.core.display.Javascript object>"
      ]
     },
     "metadata": {},
     "output_type": "display_data"
    }
   ],
   "source": [
    "# Make the figures smaller to save some screen real estate.\n",
    "plt.rcParams[\"figure.dpi\"] = 75\n",
    "plt.rcParams[\"figure.figsize\"] = [5, 3.7]"
   ]
  },
  {
   "cell_type": "code",
   "execution_count": 4,
   "metadata": {},
   "outputs": [
    {
     "data": {
      "application/javascript": [
       "\n",
       "        setTimeout(function() {\n",
       "            var nbb_cell_id = 4;\n",
       "            var nbb_formatted_code = \"from utils import set_palette, resample_by_cycle\";\n",
       "            var nbb_cells = Jupyter.notebook.get_cells();\n",
       "            for (var i = 0; i < nbb_cells.length; ++i) {\n",
       "                if (nbb_cells[i].input_prompt_number == nbb_cell_id) {\n",
       "                    nbb_cells[i].set_text(nbb_formatted_code);\n",
       "                    break;\n",
       "                }\n",
       "            }\n",
       "        }, 500);\n",
       "        "
      ],
      "text/plain": [
       "<IPython.core.display.Javascript object>"
      ]
     },
     "metadata": {},
     "output_type": "display_data"
    }
   ],
   "source": [
    "from utils import set_palette, resample_by_cycle"
   ]
  },
  {
   "cell_type": "markdown",
   "metadata": {},
   "source": [
    "## Run the analysis with lifelines\n",
    "\n",
    "Load the data cleaned in `clean_nsfg.ipynb` and run the analysis with `lifelines`"
   ]
  },
  {
   "cell_type": "code",
   "execution_count": 5,
   "metadata": {},
   "outputs": [
    {
     "name": "stdout",
     "output_type": "stream",
     "text": [
      "CPU times: user 42.4 ms, sys: 23.5 ms, total: 65.8 ms\n",
      "Wall time: 70.4 ms\n"
     ]
    },
    {
     "data": {
      "text/plain": [
       "(75769, 38)"
      ]
     },
     "execution_count": 5,
     "metadata": {},
     "output_type": "execute_result"
    },
    {
     "data": {
      "application/javascript": [
       "\n",
       "        setTimeout(function() {\n",
       "            var nbb_cell_id = 5;\n",
       "            var nbb_formatted_code = \"%time unweighted = pd.read_hdf('FemMarriageData.hdf', 'FemMarriageData')\\nunweighted.shape\";\n",
       "            var nbb_cells = Jupyter.notebook.get_cells();\n",
       "            for (var i = 0; i < nbb_cells.length; ++i) {\n",
       "                if (nbb_cells[i].input_prompt_number == nbb_cell_id) {\n",
       "                    nbb_cells[i].set_text(nbb_formatted_code);\n",
       "                    break;\n",
       "                }\n",
       "            }\n",
       "        }, 500);\n",
       "        "
      ],
      "text/plain": [
       "<IPython.core.display.Javascript object>"
      ]
     },
     "metadata": {},
     "output_type": "display_data"
    }
   ],
   "source": [
    "%time unweighted = pd.read_hdf('FemMarriageData.hdf', 'FemMarriageData')\n",
    "unweighted.shape"
   ]
  },
  {
   "cell_type": "code",
   "execution_count": 6,
   "metadata": {},
   "outputs": [
    {
     "data": {
      "text/plain": [
       "evrmarry\n",
       "False    36608\n",
       "True     39161\n",
       "Name: count, dtype: int64"
      ]
     },
     "execution_count": 6,
     "metadata": {},
     "output_type": "execute_result"
    },
    {
     "data": {
      "application/javascript": [
       "\n",
       "        setTimeout(function() {\n",
       "            var nbb_cell_id = 6;\n",
       "            var nbb_formatted_code = \"evrmarry = unweighted[\\\"evrmarry\\\"]\\nvalue_counts(evrmarry)\";\n",
       "            var nbb_cells = Jupyter.notebook.get_cells();\n",
       "            for (var i = 0; i < nbb_cells.length; ++i) {\n",
       "                if (nbb_cells[i].input_prompt_number == nbb_cell_id) {\n",
       "                    nbb_cells[i].set_text(nbb_formatted_code);\n",
       "                    break;\n",
       "                }\n",
       "            }\n",
       "        }, 500);\n",
       "        "
      ],
      "text/plain": [
       "<IPython.core.display.Javascript object>"
      ]
     },
     "metadata": {},
     "output_type": "display_data"
    }
   ],
   "source": [
    "evrmarry = unweighted[\"evrmarry\"]\n",
    "value_counts(evrmarry)"
   ]
  },
  {
   "cell_type": "code",
   "execution_count": 7,
   "metadata": {},
   "outputs": [
    {
     "name": "stdout",
     "output_type": "stream",
     "text": [
      "30 0\n",
      "40 9\n",
      "50 18\n",
      "60 33\n",
      "70 40\n",
      "80 21\n",
      "90 2\n",
      "100 1\n"
     ]
    },
    {
     "data": {
      "application/javascript": [
       "\n",
       "        setTimeout(function() {\n",
       "            var nbb_cell_id = 7;\n",
       "            var nbb_formatted_code = \"for name, group in unweighted.groupby(\\\"birth_index\\\"):\\n    missing = group[\\\"evrmarry\\\"] & group[\\\"agemarry\\\"].isna()\\n    print(name, missing.sum())\";\n",
       "            var nbb_cells = Jupyter.notebook.get_cells();\n",
       "            for (var i = 0; i < nbb_cells.length; ++i) {\n",
       "                if (nbb_cells[i].input_prompt_number == nbb_cell_id) {\n",
       "                    nbb_cells[i].set_text(nbb_formatted_code);\n",
       "                    break;\n",
       "                }\n",
       "            }\n",
       "        }, 500);\n",
       "        "
      ],
      "text/plain": [
       "<IPython.core.display.Javascript object>"
      ]
     },
     "metadata": {},
     "output_type": "display_data"
    }
   ],
   "source": [
    "for name, group in unweighted.groupby(\"birth_index\"):\n",
    "    missing = group[\"evrmarry\"] & group[\"agemarry\"].isna()\n",
    "    print(name, missing.sum())"
   ]
  },
  {
   "cell_type": "code",
   "execution_count": 8,
   "metadata": {},
   "outputs": [
    {
     "data": {
      "application/javascript": [
       "\n",
       "        setTimeout(function() {\n",
       "            var nbb_cell_id = 8;\n",
       "            var nbb_formatted_code = \"sample = resample_by_cycle(unweighted)\";\n",
       "            var nbb_cells = Jupyter.notebook.get_cells();\n",
       "            for (var i = 0; i < nbb_cells.length; ++i) {\n",
       "                if (nbb_cells[i].input_prompt_number == nbb_cell_id) {\n",
       "                    nbb_cells[i].set_text(nbb_formatted_code);\n",
       "                    break;\n",
       "                }\n",
       "            }\n",
       "        }, 500);\n",
       "        "
      ],
      "text/plain": [
       "<IPython.core.display.Javascript object>"
      ]
     },
     "metadata": {},
     "output_type": "display_data"
    }
   ],
   "source": [
    "sample = resample_by_cycle(unweighted)"
   ]
  },
  {
   "cell_type": "code",
   "execution_count": 9,
   "metadata": {},
   "outputs": [
    {
     "data": {
      "text/plain": [
       "birth_index\n",
       "30       375\n",
       "40      3996\n",
       "50     10436\n",
       "60     15373\n",
       "70     18167\n",
       "80     15297\n",
       "90      9510\n",
       "100     2615\n",
       "Name: count, dtype: int64"
      ]
     },
     "execution_count": 9,
     "metadata": {},
     "output_type": "execute_result"
    },
    {
     "data": {
      "application/javascript": [
       "\n",
       "        setTimeout(function() {\n",
       "            var nbb_cell_id = 9;\n",
       "            var nbb_formatted_code = \"value_counts(sample[\\\"birth_index\\\"])\";\n",
       "            var nbb_cells = Jupyter.notebook.get_cells();\n",
       "            for (var i = 0; i < nbb_cells.length; ++i) {\n",
       "                if (nbb_cells[i].input_prompt_number == nbb_cell_id) {\n",
       "                    nbb_cells[i].set_text(nbb_formatted_code);\n",
       "                    break;\n",
       "                }\n",
       "            }\n",
       "        }, 500);\n",
       "        "
      ],
      "text/plain": [
       "<IPython.core.display.Javascript object>"
      ]
     },
     "metadata": {},
     "output_type": "display_data"
    }
   ],
   "source": [
    "value_counts(sample[\"birth_index\"])"
   ]
  },
  {
   "cell_type": "code",
   "execution_count": 10,
   "metadata": {},
   "outputs": [
    {
     "data": {
      "application/javascript": [
       "\n",
       "        setTimeout(function() {\n",
       "            var nbb_cell_id = 10;\n",
       "            var nbb_formatted_code = \"def drop_missing(df):\\n    # find people who are married but have no agemarry\\n    missing = df[\\\"evrmarry\\\"] & df[\\\"agemarry\\\"].isna()\\n    return df[~missing]\";\n",
       "            var nbb_cells = Jupyter.notebook.get_cells();\n",
       "            for (var i = 0; i < nbb_cells.length; ++i) {\n",
       "                if (nbb_cells[i].input_prompt_number == nbb_cell_id) {\n",
       "                    nbb_cells[i].set_text(nbb_formatted_code);\n",
       "                    break;\n",
       "                }\n",
       "            }\n",
       "        }, 500);\n",
       "        "
      ],
      "text/plain": [
       "<IPython.core.display.Javascript object>"
      ]
     },
     "metadata": {},
     "output_type": "display_data"
    }
   ],
   "source": [
    "def drop_missing(df):\n",
    "    # find people who are married but have no agemarry\n",
    "    missing = df[\"evrmarry\"] & df[\"agemarry\"].isna()\n",
    "    return df[~missing]"
   ]
  },
  {
   "cell_type": "code",
   "execution_count": 11,
   "metadata": {},
   "outputs": [
    {
     "data": {
      "application/javascript": [
       "\n",
       "        setTimeout(function() {\n",
       "            var nbb_cell_id = 11;\n",
       "            var nbb_formatted_code = \"def fill_missing(df):\\n    for cohort in range(30, 110, 10):\\n        # find people in this cohort who are married but have no agemarry\\n        missing = (df[\\\"birth_index\\\"] == cohort) & df[\\\"evrmarry\\\"] & df[\\\"agemarry\\\"].isna()\\n        n = missing.sum()\\n        if n == 0:\\n            continue\\n\\n        # find people in this cohort who have been married once\\n        donors = (df[\\\"birth_index\\\"] == cohort) & df[\\\"evrmarry\\\"] & df[\\\"agemarry\\\"].notna()\\n\\n        # select their ages when married\\n        agemarry = df.loc[donors, \\\"agemarry\\\"]\\n        low, high = np.percentile(agemarry, [1, 99])\\n        index = agemarry.between(low, high)\\n\\n        # fill missing data with a random sample\\n        sample = np.random.choice(agemarry[index], size=n, replace=True)\\n        df.loc[missing, \\\"agemarry\\\"] = sample\";\n",
       "            var nbb_cells = Jupyter.notebook.get_cells();\n",
       "            for (var i = 0; i < nbb_cells.length; ++i) {\n",
       "                if (nbb_cells[i].input_prompt_number == nbb_cell_id) {\n",
       "                    nbb_cells[i].set_text(nbb_formatted_code);\n",
       "                    break;\n",
       "                }\n",
       "            }\n",
       "        }, 500);\n",
       "        "
      ],
      "text/plain": [
       "<IPython.core.display.Javascript object>"
      ]
     },
     "metadata": {},
     "output_type": "display_data"
    }
   ],
   "source": [
    "def fill_missing(df):\n",
    "    for cohort in range(30, 110, 10):\n",
    "        # find people in this cohort who are married but have no agemarry\n",
    "        missing = (df[\"birth_index\"] == cohort) & df[\"evrmarry\"] & df[\"agemarry\"].isna()\n",
    "        n = missing.sum()\n",
    "        if n == 0:\n",
    "            continue\n",
    "\n",
    "        # find people in this cohort who have been married once\n",
    "        donors = (df[\"birth_index\"] == cohort) & df[\"evrmarry\"] & df[\"agemarry\"].notna()\n",
    "\n",
    "        # select their ages when married\n",
    "        agemarry = df.loc[donors, \"agemarry\"]\n",
    "        low, high = np.percentile(agemarry, [1, 99])\n",
    "        index = agemarry.between(low, high)\n",
    "\n",
    "        # fill missing data with a random sample\n",
    "        sample = np.random.choice(agemarry[index], size=n, replace=True)\n",
    "        df.loc[missing, \"agemarry\"] = sample"
   ]
  },
  {
   "cell_type": "code",
   "execution_count": 12,
   "metadata": {},
   "outputs": [
    {
     "data": {
      "text/plain": [
       "0"
      ]
     },
     "execution_count": 12,
     "metadata": {},
     "output_type": "execute_result"
    },
    {
     "data": {
      "application/javascript": [
       "\n",
       "        setTimeout(function() {\n",
       "            var nbb_cell_id = 12;\n",
       "            var nbb_formatted_code = \"# fill_missing(sample)\\nsample = drop_missing(sample)\\n\\nmissing = sample[\\\"evrmarry\\\"] & sample[\\\"agemarry\\\"].isna()\\nmissing.sum()\";\n",
       "            var nbb_cells = Jupyter.notebook.get_cells();\n",
       "            for (var i = 0; i < nbb_cells.length; ++i) {\n",
       "                if (nbb_cells[i].input_prompt_number == nbb_cell_id) {\n",
       "                    nbb_cells[i].set_text(nbb_formatted_code);\n",
       "                    break;\n",
       "                }\n",
       "            }\n",
       "        }, 500);\n",
       "        "
      ],
      "text/plain": [
       "<IPython.core.display.Javascript object>"
      ]
     },
     "metadata": {},
     "output_type": "display_data"
    }
   ],
   "source": [
    "# fill_missing(sample)\n",
    "sample = drop_missing(sample)\n",
    "\n",
    "missing = sample[\"evrmarry\"] & sample[\"agemarry\"].isna()\n",
    "missing.sum()"
   ]
  },
  {
   "cell_type": "code",
   "execution_count": 13,
   "metadata": {},
   "outputs": [
    {
     "data": {
      "image/png": "[encoded data removed]",
      "text/plain": [
       "<Figure size 375x277.5 with 1 Axes>"
      ]
     },
     "metadata": {},
     "output_type": "display_data"
    },
    {
     "data": {
      "application/javascript": [
       "\n",
       "        setTimeout(function() {\n",
       "            var nbb_cell_id = 13;\n",
       "            var nbb_formatted_code = \"cdf = Cdf.from_seq(sample[\\\"ager\\\"], name=\\\"age\\\")\\ncdf.plot()\\ndecorate()\";\n",
       "            var nbb_cells = Jupyter.notebook.get_cells();\n",
       "            for (var i = 0; i < nbb_cells.length; ++i) {\n",
       "                if (nbb_cells[i].input_prompt_number == nbb_cell_id) {\n",
       "                    nbb_cells[i].set_text(nbb_formatted_code);\n",
       "                    break;\n",
       "                }\n",
       "            }\n",
       "        }, 500);\n",
       "        "
      ],
      "text/plain": [
       "<IPython.core.display.Javascript object>"
      ]
     },
     "metadata": {},
     "output_type": "display_data"
    }
   ],
   "source": [
    "cdf = Cdf.from_seq(sample[\"ager\"], name=\"age\")\n",
    "cdf.plot()\n",
    "decorate()"
   ]
  },
  {
   "cell_type": "code",
   "execution_count": 14,
   "metadata": {},
   "outputs": [
    {
     "data": {
      "image/png": "[encoded data removed]",
      "text/plain": [
       "<Figure size 375x277.5 with 1 Axes>"
      ]
     },
     "metadata": {},
     "output_type": "display_data"
    },
    {
     "data": {
      "application/javascript": [
       "\n",
       "        setTimeout(function() {\n",
       "            var nbb_cell_id = 14;\n",
       "            var nbb_formatted_code = \"cdf = Cdf.from_seq(sample[\\\"agemarry\\\"], name=\\\"agemarry\\\")\\ncdf.plot()\\ndecorate()\";\n",
       "            var nbb_cells = Jupyter.notebook.get_cells();\n",
       "            for (var i = 0; i < nbb_cells.length; ++i) {\n",
       "                if (nbb_cells[i].input_prompt_number == nbb_cell_id) {\n",
       "                    nbb_cells[i].set_text(nbb_formatted_code);\n",
       "                    break;\n",
       "                }\n",
       "            }\n",
       "        }, 500);\n",
       "        "
      ],
      "text/plain": [
       "<IPython.core.display.Javascript object>"
      ]
     },
     "metadata": {},
     "output_type": "display_data"
    }
   ],
   "source": [
    "cdf = Cdf.from_seq(sample[\"agemarry\"], name=\"agemarry\")\n",
    "cdf.plot()\n",
    "decorate()"
   ]
  },
  {
   "cell_type": "code",
   "execution_count": 15,
   "metadata": {},
   "outputs": [
    {
     "data": {
      "application/javascript": [
       "\n",
       "        setTimeout(function() {\n",
       "            var nbb_cell_id = 15;\n",
       "            var nbb_formatted_code = \"from utils import make_kmf_map\";\n",
       "            var nbb_cells = Jupyter.notebook.get_cells();\n",
       "            for (var i = 0; i < nbb_cells.length; ++i) {\n",
       "                if (nbb_cells[i].input_prompt_number == nbb_cell_id) {\n",
       "                    nbb_cells[i].set_text(nbb_formatted_code);\n",
       "                    break;\n",
       "                }\n",
       "            }\n",
       "        }, 500);\n",
       "        "
      ],
      "text/plain": [
       "<IPython.core.display.Javascript object>"
      ]
     },
     "metadata": {},
     "output_type": "display_data"
    }
   ],
   "source": [
    "from utils import make_kmf_map"
   ]
  },
  {
   "cell_type": "code",
   "execution_count": 16,
   "metadata": {},
   "outputs": [
    {
     "data": {
      "application/javascript": [
       "\n",
       "        setTimeout(function() {\n",
       "            var nbb_cell_id = 16;\n",
       "            var nbb_formatted_code = \"evrmarry = sample[\\\"evrmarry\\\"]\\nsample[\\\"observed\\\"] = evrmarry\\nsample.loc[evrmarry, \\\"duration\\\"] = sample[\\\"agemarry\\\"]\\nsample.loc[~evrmarry, \\\"duration\\\"] = sample[\\\"ager\\\"]\";\n",
       "            var nbb_cells = Jupyter.notebook.get_cells();\n",
       "            for (var i = 0; i < nbb_cells.length; ++i) {\n",
       "                if (nbb_cells[i].input_prompt_number == nbb_cell_id) {\n",
       "                    nbb_cells[i].set_text(nbb_formatted_code);\n",
       "                    break;\n",
       "                }\n",
       "            }\n",
       "        }, 500);\n",
       "        "
      ],
      "text/plain": [
       "<IPython.core.display.Javascript object>"
      ]
     },
     "metadata": {},
     "output_type": "display_data"
    }
   ],
   "source": [
    "evrmarry = sample[\"evrmarry\"]\n",
    "sample[\"observed\"] = evrmarry\n",
    "sample.loc[evrmarry, \"duration\"] = sample[\"agemarry\"]\n",
    "sample.loc[~evrmarry, \"duration\"] = sample[\"ager\"]"
   ]
  },
  {
   "cell_type": "code",
   "execution_count": 17,
   "metadata": {},
   "outputs": [
    {
     "data": {
      "application/javascript": [
       "\n",
       "        setTimeout(function() {\n",
       "            var nbb_cell_id = 17;\n",
       "            var nbb_formatted_code = \"grouped = sample.groupby(\\\"birth_index\\\")\\nnsfg_map = make_kmf_map(grouped)\";\n",
       "            var nbb_cells = Jupyter.notebook.get_cells();\n",
       "            for (var i = 0; i < nbb_cells.length; ++i) {\n",
       "                if (nbb_cells[i].input_prompt_number == nbb_cell_id) {\n",
       "                    nbb_cells[i].set_text(nbb_formatted_code);\n",
       "                    break;\n",
       "                }\n",
       "            }\n",
       "        }, 500);\n",
       "        "
      ],
      "text/plain": [
       "<IPython.core.display.Javascript object>"
      ]
     },
     "metadata": {},
     "output_type": "display_data"
    }
   ],
   "source": [
    "grouped = sample.groupby(\"birth_index\")\n",
    "nsfg_map = make_kmf_map(grouped)"
   ]
  },
  {
   "cell_type": "code",
   "execution_count": 18,
   "metadata": {},
   "outputs": [
    {
     "data": {
      "application/javascript": [
       "\n",
       "        setTimeout(function() {\n",
       "            var nbb_cell_id = 18;\n",
       "            var nbb_formatted_code = \"from utils import add_text\";\n",
       "            var nbb_cells = Jupyter.notebook.get_cells();\n",
       "            for (var i = 0; i < nbb_cells.length; ++i) {\n",
       "                if (nbb_cells[i].input_prompt_number == nbb_cell_id) {\n",
       "                    nbb_cells[i].set_text(nbb_formatted_code);\n",
       "                    break;\n",
       "                }\n",
       "            }\n",
       "        }, 500);\n",
       "        "
      ],
      "text/plain": [
       "<IPython.core.display.Javascript object>"
      ]
     },
     "metadata": {},
     "output_type": "display_data"
    }
   ],
   "source": [
    "from utils import add_text"
   ]
  },
  {
   "cell_type": "code",
   "execution_count": 19,
   "metadata": {},
   "outputs": [
    {
     "data": {
      "application/javascript": [
       "\n",
       "        setTimeout(function() {\n",
       "            var nbb_cell_id = 19;\n",
       "            var nbb_formatted_code = \"def make_title(title, subtitle, pad=30):\\n    plt.title(title, loc=\\\"left\\\", pad=pad)\\n    add_text(0, 1.085, subtitle)\\n    add_text(0, 1.015, \\\"Analysis: allendowney.com/blog\\\")\";\n",
       "            var nbb_cells = Jupyter.notebook.get_cells();\n",
       "            for (var i = 0; i < nbb_cells.length; ++i) {\n",
       "                if (nbb_cells[i].input_prompt_number == nbb_cell_id) {\n",
       "                    nbb_cells[i].set_text(nbb_formatted_code);\n",
       "                    break;\n",
       "                }\n",
       "            }\n",
       "        }, 500);\n",
       "        "
      ],
      "text/plain": [
       "<IPython.core.display.Javascript object>"
      ]
     },
     "metadata": {},
     "output_type": "display_data"
    }
   ],
   "source": [
    "def make_title(title, subtitle, pad=30):\n",
    "    plt.title(title, loc=\"left\", pad=pad)\n",
    "    add_text(0, 1.085, subtitle)\n",
    "    add_text(0, 1.015, \"Analysis: allendowney.com/blog\")"
   ]
  },
  {
   "cell_type": "code",
   "execution_count": 20,
   "metadata": {},
   "outputs": [
    {
     "data": {
      "application/javascript": [
       "\n",
       "        setTimeout(function() {\n",
       "            var nbb_cell_id = 20;\n",
       "            var nbb_formatted_code = \"def decorate_plot(**options):\\n    decorate(\\n        xlabel=\\\"Age\\\",\\n        ylabel=\\\"Percent\\\",\\n        xlim=[13, 55],\\n        **options,\\n    )\\n    title = \\\"Percent ever married, by decade of birth\\\"\\n    subtitle = \\\"Data: NSFG 1982-2023 \\\"\\n    make_title(title, subtitle)\";\n",
       "            var nbb_cells = Jupyter.notebook.get_cells();\n",
       "            for (var i = 0; i < nbb_cells.length; ++i) {\n",
       "                if (nbb_cells[i].input_prompt_number == nbb_cell_id) {\n",
       "                    nbb_cells[i].set_text(nbb_formatted_code);\n",
       "                    break;\n",
       "                }\n",
       "            }\n",
       "        }, 500);\n",
       "        "
      ],
      "text/plain": [
       "<IPython.core.display.Javascript object>"
      ]
     },
     "metadata": {},
     "output_type": "display_data"
    }
   ],
   "source": [
    "def decorate_plot(**options):\n",
    "    decorate(\n",
    "        xlabel=\"Age\",\n",
    "        ylabel=\"Percent\",\n",
    "        xlim=[13, 55],\n",
    "        **options,\n",
    "    )\n",
    "    title = \"Percent ever married, by decade of birth\"\n",
    "    subtitle = \"Data: NSFG 1982-2023 \"\n",
    "    make_title(title, subtitle)"
   ]
  },
  {
   "cell_type": "code",
   "execution_count": 21,
   "metadata": {},
   "outputs": [
    {
     "data": {
      "application/javascript": [
       "\n",
       "        setTimeout(function() {\n",
       "            var nbb_cell_id = 21;\n",
       "            var nbb_formatted_code = \"def plot_kmf_map(ax, kmf_map, cohorts, add_label=True, **options):\\n    \\\"\\\"\\\" \\\"\\\"\\\"\\n    palette = set_palette(\\\"hls\\\", len(cohorts))\\n    for cohort in cohorts:\\n        series = kmf_map[cohort]\\n        label = f\\\"{cohort+1900}s\\\" if add_label else \\\"\\\"\\n        series.plot(ax=ax, label=label, **options)\\n        label = \\\"\\\"\";\n",
       "            var nbb_cells = Jupyter.notebook.get_cells();\n",
       "            for (var i = 0; i < nbb_cells.length; ++i) {\n",
       "                if (nbb_cells[i].input_prompt_number == nbb_cell_id) {\n",
       "                    nbb_cells[i].set_text(nbb_formatted_code);\n",
       "                    break;\n",
       "                }\n",
       "            }\n",
       "        }, 500);\n",
       "        "
      ],
      "text/plain": [
       "<IPython.core.display.Javascript object>"
      ]
     },
     "metadata": {},
     "output_type": "display_data"
    }
   ],
   "source": [
    "def plot_kmf_map(ax, kmf_map, cohorts, add_label=True, **options):\n",
    "    \"\"\" \"\"\"\n",
    "    palette = set_palette(\"hls\", len(cohorts))\n",
    "    for cohort in cohorts:\n",
    "        series = kmf_map[cohort]\n",
    "        label = f\"{cohort+1900}s\" if add_label else \"\"\n",
    "        series.plot(ax=ax, label=label, **options)\n",
    "        label = \"\""
   ]
  },
  {
   "cell_type": "code",
   "execution_count": 22,
   "metadata": {},
   "outputs": [
    {
     "data": {
      "image/png": "[encoded data removed]",
      "text/plain": [
       "<Figure size 375x277.5 with 1 Axes>"
      ]
     },
     "metadata": {},
     "output_type": "display_data"
    },
    {
     "data": {
      "application/javascript": [
       "\n",
       "        setTimeout(function() {\n",
       "            var nbb_cell_id = 22;\n",
       "            var nbb_formatted_code = \"cohorts = range(40, 110, 10)\\n\\nfig, ax = plt.subplots()\\nplot_kmf_map(ax, nsfg_map, cohorts)\\ndecorate_plot()\\nremove_spines()\\nplt.tight_layout()\";\n",
       "            var nbb_cells = Jupyter.notebook.get_cells();\n",
       "            for (var i = 0; i < nbb_cells.length; ++i) {\n",
       "                if (nbb_cells[i].input_prompt_number == nbb_cell_id) {\n",
       "                    nbb_cells[i].set_text(nbb_formatted_code);\n",
       "                    break;\n",
       "                }\n",
       "            }\n",
       "        }, 500);\n",
       "        "
      ],
      "text/plain": [
       "<IPython.core.display.Javascript object>"
      ]
     },
     "metadata": {},
     "output_type": "display_data"
    }
   ],
   "source": [
    "cohorts = range(40, 110, 10)\n",
    "\n",
    "fig, ax = plt.subplots()\n",
    "plot_kmf_map(ax, nsfg_map, cohorts)\n",
    "decorate_plot()\n",
    "remove_spines()\n",
    "plt.tight_layout()"
   ]
  },
  {
   "cell_type": "code",
   "execution_count": 23,
   "metadata": {},
   "outputs": [
    {
     "data": {
      "application/javascript": [
       "\n",
       "        setTimeout(function() {\n",
       "            var nbb_cell_id = 23;\n",
       "            var nbb_formatted_code = \"kmf_series = {}\\n\\nfor i in range(21):\\n    sample = resample_by_cycle(unweighted)\\n    # fill_missing(sample)\\n    sample = drop_missing(sample)\\n    evrmarry = sample[\\\"evrmarry\\\"]\\n    sample[\\\"observed\\\"] = evrmarry\\n    sample.loc[evrmarry, \\\"duration\\\"] = sample[\\\"agemarry\\\"]\\n    sample.loc[~evrmarry, \\\"duration\\\"] = sample[\\\"ager\\\"]\\n    grouped = sample.groupby(\\\"birth_index\\\")\\n    kmf_map = make_kmf_map(grouped)\\n    for cohort in kmf_map:\\n        kmf_series.setdefault(cohort, []).append(kmf_map[cohort])\";\n",
       "            var nbb_cells = Jupyter.notebook.get_cells();\n",
       "            for (var i = 0; i < nbb_cells.length; ++i) {\n",
       "                if (nbb_cells[i].input_prompt_number == nbb_cell_id) {\n",
       "                    nbb_cells[i].set_text(nbb_formatted_code);\n",
       "                    break;\n",
       "                }\n",
       "            }\n",
       "        }, 500);\n",
       "        "
      ],
      "text/plain": [
       "<IPython.core.display.Javascript object>"
      ]
     },
     "metadata": {},
     "output_type": "display_data"
    }
   ],
   "source": [
    "kmf_series = {}\n",
    "\n",
    "for i in range(21):\n",
    "    sample = resample_by_cycle(unweighted)\n",
    "    # fill_missing(sample)\n",
    "    sample = drop_missing(sample)\n",
    "    evrmarry = sample[\"evrmarry\"]\n",
    "    sample[\"observed\"] = evrmarry\n",
    "    sample.loc[evrmarry, \"duration\"] = sample[\"agemarry\"]\n",
    "    sample.loc[~evrmarry, \"duration\"] = sample[\"ager\"]\n",
    "    grouped = sample.groupby(\"birth_index\")\n",
    "    kmf_map = make_kmf_map(grouped)\n",
    "    for cohort in kmf_map:\n",
    "        kmf_series.setdefault(cohort, []).append(kmf_map[cohort])"
   ]
  },
  {
   "cell_type": "code",
   "execution_count": null,
   "metadata": {},
   "outputs": [],
   "source": []
  },
  {
   "cell_type": "code",
   "execution_count": 24,
   "metadata": {},
   "outputs": [
    {
     "data": {
      "image/png": "[encoded data removed]",
      "text/plain": [
       "<Figure size 375x277.5 with 1 Axes>"
      ]
     },
     "metadata": {},
     "output_type": "display_data"
    },
    {
     "data": {
      "application/javascript": [
       "\n",
       "        setTimeout(function() {\n",
       "            var nbb_cell_id = 24;\n",
       "            var nbb_formatted_code = \"palette = sns.color_palette(\\\"hls\\\", len(cohorts))\\noptions = dict(alpha=0.1)\\nnudge = {40: -2, 50: 2}\\n\\nfor i, cohort in enumerate(cohorts):\\n    series_list = kmf_series[cohort]\\n    coords = []\\n    for series in series_list:\\n        coords.append((series.index[-1], series.iloc[-1]))\\n        series.plot(label=\\\"\\\", color=palette[i], **options)\\n\\n    xs, ys = np.transpose(coords)\\n    x = xs.max() + 0.2\\n    y = ys.mean() + nudge.get(cohort, 0)\\n    if cohort == 40:\\n        x -= 20\\n    text = f\\\"{1900+cohort}s\\\"\\n    plt.text(x, y, text, va=\\\"center\\\")\\n\\ndecorate_plot()\\nremove_spines()\\nplt.tight_layout()\\nplt.savefig(\\\"marriage23.jpg\\\", dpi=300)\";\n",
       "            var nbb_cells = Jupyter.notebook.get_cells();\n",
       "            for (var i = 0; i < nbb_cells.length; ++i) {\n",
       "                if (nbb_cells[i].input_prompt_number == nbb_cell_id) {\n",
       "                    nbb_cells[i].set_text(nbb_formatted_code);\n",
       "                    break;\n",
       "                }\n",
       "            }\n",
       "        }, 500);\n",
       "        "
      ],
      "text/plain": [
       "<IPython.core.display.Javascript object>"
      ]
     },
     "metadata": {},
     "output_type": "display_data"
    }
   ],
   "source": [
    "palette = sns.color_palette(\"hls\", len(cohorts))\n",
    "options = dict(alpha=0.1)\n",
    "nudge = {40: -2, 50: 2}\n",
    "\n",
    "for i, cohort in enumerate(cohorts):\n",
    "    series_list = kmf_series[cohort]\n",
    "    coords = []\n",
    "    for series in series_list:\n",
    "        coords.append((series.index[-1], series.iloc[-1]))\n",
    "        series.plot(label=\"\", color=palette[i], **options)\n",
    "\n",
    "    xs, ys = np.transpose(coords)\n",
    "    x = xs.max() + 0.2\n",
    "    y = ys.mean() + nudge.get(cohort, 0)\n",
    "    if cohort == 40:\n",
    "        x -= 20\n",
    "    text = f\"{1900+cohort}s\"\n",
    "    plt.text(x, y, text, va=\"center\")\n",
    "\n",
    "decorate_plot()\n",
    "remove_spines()\n",
    "plt.tight_layout()\n",
    "plt.savefig(\"marriage23.jpg\", dpi=300)"
   ]
  },
  {
   "cell_type": "code",
   "execution_count": null,
   "metadata": {},
   "outputs": [],
   "source": []
  },
  {
   "cell_type": "code",
   "execution_count": null,
   "metadata": {},
   "outputs": [],
   "source": []
  }
 ],
 "metadata": {
  "kernelspec": {
   "display_name": "Python 3 (ipykernel)",
   "language": "python",
   "name": "python3"
  },
  "language_info": {
   "codemirror_mode": {
    "name": "ipython",
    "version": 3
   },
   "file_extension": ".py",
   "mimetype": "text/x-python",
   "name": "python",
   "nbconvert_exporter": "python",
   "pygments_lexer": "ipython3",
   "version": "3.10.14"
  }
 },
 "nbformat": 4,
 "nbformat_minor": 4
}
