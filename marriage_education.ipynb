{
 "cells": [
  {
   "cell_type": "markdown",
   "metadata": {},
   "source": [
    "# Marriage and Education\n"
   ]
  },
  {
   "cell_type": "code",
   "execution_count": 1,
   "metadata": {},
   "outputs": [],
   "source": [
    "%load_ext autoreload\n",
    "%autoreload 2"
   ]
  },
  {
   "cell_type": "code",
   "execution_count": 2,
   "metadata": {},
   "outputs": [
    {
     "data": {
      "application/javascript": [
       "\n",
       "        setTimeout(function() {\n",
       "            var nbb_cell_id = 2;\n",
       "            var nbb_formatted_code = \"%load_ext nb_black\";\n",
       "            var nbb_cells = Jupyter.notebook.get_cells();\n",
       "            for (var i = 0; i < nbb_cells.length; ++i) {\n",
       "                if (nbb_cells[i].input_prompt_number == nbb_cell_id) {\n",
       "                    nbb_cells[i].set_text(nbb_formatted_code);\n",
       "                    break;\n",
       "                }\n",
       "            }\n",
       "        }, 500);\n",
       "        "
      ],
      "text/plain": [
       "<IPython.core.display.Javascript object>"
      ]
     },
     "metadata": {},
     "output_type": "display_data"
    }
   ],
   "source": [
    "%load_ext nb_black"
   ]
  },
  {
   "cell_type": "code",
   "execution_count": 3,
   "metadata": {},
   "outputs": [
    {
     "data": {
      "application/javascript": [
       "\n",
       "        setTimeout(function() {\n",
       "            var nbb_cell_id = 3;\n",
       "            var nbb_formatted_code = \"import pandas as pd\\nimport numpy as np\\nimport matplotlib.pyplot as plt\\nimport seaborn as sns\\n\\nfrom utils import decorate\\nfrom utils import value_counts\\nfrom utils import resample_by_cycle\\nfrom utils import round_into_bins\\nfrom utils import remove_spines\\n\\nfrom utils import add_title, add_logo, add_subtext, savefig\\n\\nfrom utils import set_palette, resample_by_cycle\\n\\nfrom empiricaldist import Pmf, Cdf\";\n",
       "            var nbb_cells = Jupyter.notebook.get_cells();\n",
       "            for (var i = 0; i < nbb_cells.length; ++i) {\n",
       "                if (nbb_cells[i].input_prompt_number == nbb_cell_id) {\n",
       "                    nbb_cells[i].set_text(nbb_formatted_code);\n",
       "                    break;\n",
       "                }\n",
       "            }\n",
       "        }, 500);\n",
       "        "
      ],
      "text/plain": [
       "<IPython.core.display.Javascript object>"
      ]
     },
     "metadata": {},
     "output_type": "display_data"
    }
   ],
   "source": [
    "import pandas as pd\n",
    "import numpy as np\n",
    "import matplotlib.pyplot as plt\n",
    "import seaborn as sns\n",
    "\n",
    "from utils import decorate\n",
    "from utils import value_counts\n",
    "from utils import resample_by_cycle\n",
    "from utils import round_into_bins\n",
    "from utils import remove_spines\n",
    "\n",
    "from utils import add_title, add_logo, add_subtext, savefig\n",
    "\n",
    "from utils import set_palette, resample_by_cycle\n",
    "\n",
    "from empiricaldist import Pmf, Cdf"
   ]
  },
  {
   "cell_type": "code",
   "execution_count": 4,
   "metadata": {},
   "outputs": [
    {
     "data": {
      "application/javascript": [
       "\n",
       "        setTimeout(function() {\n",
       "            var nbb_cell_id = 4;\n",
       "            var nbb_formatted_code = \"# Make the figures smaller to save some screen real estate.\\nplt.rcParams[\\\"figure.dpi\\\"] = 100\\nplt.rcParams[\\\"figure.figsize\\\"] = [6.75, 3.5]\\n\\n# AIBM brand colors\\naibm_light_gray = \\\"#F3F4F3\\\"\\naibm_medium_gray = \\\"#767676\\\"\\naibm_green = \\\"#0B8569\\\"\\nlight_green = \\\"#AAC9B8\\\"\\naibm_orange = \\\"#C55300\\\"\\nlight_orange = \\\"#F4A26B\\\"\\naibm_purple = \\\"#9657A5\\\"\\nlight_purple = \\\"#CFBCD0\\\"\\naibm_blue = \\\"#4575D6\\\"\\nlight_blue = \\\"#C9D3E8\\\"\\n\\n# additional colors from coolers.co\\ndark_gray = \\\"#404040\\\"\\ndark_purple = \\\"#28112B\\\"\\ndark_green = \\\"#002500\\\"\\namber = \\\"#F5BB00\\\"\\noxford_blue = \\\"#000022\\\"\\nbittersweet = \\\"#FF6666\\\"\\ncrimson = \\\"#D62839\\\"\\n\\ncolors = [aibm_orange, aibm_green, aibm_blue, aibm_purple]\\ncycler = plt.cycler(color=colors)\\nplt.rc(\\\"axes\\\", prop_cycle=cycler)\\n\\n# tick and label colors\\nplt.rcParams[\\\"axes.edgecolor\\\"] = aibm_medium_gray  # Spines (axis border)\\nplt.rcParams[\\\"xtick.color\\\"] = aibm_medium_gray  # X-axis ticks\\nplt.rcParams[\\\"ytick.color\\\"] = aibm_medium_gray  # Y-axis ticks\\nplt.rcParams[\\\"axes.labelcolor\\\"] = aibm_medium_gray  # Axis labels\\n\\n# remove all spines\\nplt.rcParams[\\\"axes.spines.top\\\"] = False\\nplt.rcParams[\\\"axes.spines.right\\\"] = False\\nplt.rcParams[\\\"axes.spines.left\\\"] = False\\nplt.rcParams[\\\"axes.spines.bottom\\\"] = False\\n\\n# light gray horizontal grid lines\\nplt.rcParams[\\\"grid.color\\\"] = aibm_light_gray\\nplt.rcParams[\\\"grid.linestyle\\\"] = \\\"-\\\"  # Solid lines\\nplt.rcParams[\\\"grid.linewidth\\\"] = 1  # Thin lines\\nplt.rcParams[\\\"axes.grid\\\"] = True  # Enable grid\\nplt.rcParams[\\\"axes.grid.axis\\\"] = \\\"y\\\"  # Apply only to horizontal lines\\n\\n# Remove tick marks\\nplt.rcParams[\\\"xtick.major.size\\\"] = 0\\nplt.rcParams[\\\"xtick.minor.size\\\"] = 0\\nplt.rcParams[\\\"ytick.major.size\\\"] = 0\\nplt.rcParams[\\\"ytick.minor.size\\\"] = 0\\n\\n# Use PT Sans as the default font\\nplt.rcParams[\\\"font.family\\\"] = \\\"PT Sans\\\"\";\n",
       "            var nbb_cells = Jupyter.notebook.get_cells();\n",
       "            for (var i = 0; i < nbb_cells.length; ++i) {\n",
       "                if (nbb_cells[i].input_prompt_number == nbb_cell_id) {\n",
       "                    nbb_cells[i].set_text(nbb_formatted_code);\n",
       "                    break;\n",
       "                }\n",
       "            }\n",
       "        }, 500);\n",
       "        "
      ],
      "text/plain": [
       "<IPython.core.display.Javascript object>"
      ]
     },
     "metadata": {},
     "output_type": "display_data"
    }
   ],
   "source": [
    "# Make the figures smaller to save some screen real estate.\n",
    "plt.rcParams[\"figure.dpi\"] = 100\n",
    "plt.rcParams[\"figure.figsize\"] = [6.75, 3.5]\n",
    "\n",
    "# AIBM brand colors\n",
    "aibm_light_gray = \"#F3F4F3\"\n",
    "aibm_medium_gray = \"#767676\"\n",
    "aibm_green = \"#0B8569\"\n",
    "light_green = \"#AAC9B8\"\n",
    "aibm_orange = \"#C55300\"\n",
    "light_orange = \"#F4A26B\"\n",
    "aibm_purple = \"#9657A5\"\n",
    "light_purple = \"#CFBCD0\"\n",
    "aibm_blue = \"#4575D6\"\n",
    "light_blue = \"#C9D3E8\"\n",
    "\n",
    "# additional colors from coolers.co\n",
    "dark_gray = \"#404040\"\n",
    "dark_purple = \"#28112B\"\n",
    "dark_green = \"#002500\"\n",
    "amber = \"#F5BB00\"\n",
    "oxford_blue = \"#000022\"\n",
    "bittersweet = \"#FF6666\"\n",
    "crimson = \"#D62839\"\n",
    "\n",
    "colors = [aibm_orange, aibm_green, aibm_blue, aibm_purple]\n",
    "cycler = plt.cycler(color=colors)\n",
    "plt.rc(\"axes\", prop_cycle=cycler)\n",
    "\n",
    "# tick and label colors\n",
    "plt.rcParams[\"axes.edgecolor\"] = aibm_medium_gray  # Spines (axis border)\n",
    "plt.rcParams[\"xtick.color\"] = aibm_medium_gray  # X-axis ticks\n",
    "plt.rcParams[\"ytick.color\"] = aibm_medium_gray  # Y-axis ticks\n",
    "plt.rcParams[\"axes.labelcolor\"] = aibm_medium_gray  # Axis labels\n",
    "\n",
    "# remove all spines\n",
    "plt.rcParams[\"axes.spines.top\"] = False\n",
    "plt.rcParams[\"axes.spines.right\"] = False\n",
    "plt.rcParams[\"axes.spines.left\"] = False\n",
    "plt.rcParams[\"axes.spines.bottom\"] = False\n",
    "\n",
    "# light gray horizontal grid lines\n",
    "plt.rcParams[\"grid.color\"] = aibm_light_gray\n",
    "plt.rcParams[\"grid.linestyle\"] = \"-\"  # Solid lines\n",
    "plt.rcParams[\"grid.linewidth\"] = 1  # Thin lines\n",
    "plt.rcParams[\"axes.grid\"] = True  # Enable grid\n",
    "plt.rcParams[\"axes.grid.axis\"] = \"y\"  # Apply only to horizontal lines\n",
    "\n",
    "# Remove tick marks\n",
    "plt.rcParams[\"xtick.major.size\"] = 0\n",
    "plt.rcParams[\"xtick.minor.size\"] = 0\n",
    "plt.rcParams[\"ytick.major.size\"] = 0\n",
    "plt.rcParams[\"ytick.minor.size\"] = 0\n",
    "\n",
    "# Use PT Sans as the default font\n",
    "plt.rcParams[\"font.family\"] = \"PT Sans\""
   ]
  },
  {
   "cell_type": "markdown",
   "metadata": {},
   "source": [
    "## Female respondents\n",
    "\n",
    "Load the data cleaned in `clean_nsfg.ipynb`"
   ]
  },
  {
   "cell_type": "code",
   "execution_count": 5,
   "metadata": {},
   "outputs": [
    {
     "data": {
      "text/plain": [
       "(75769, 49)"
      ]
     },
     "execution_count": 5,
     "metadata": {},
     "output_type": "execute_result"
    },
    {
     "data": {
      "application/javascript": [
       "\n",
       "        setTimeout(function() {\n",
       "            var nbb_cell_id = 5;\n",
       "            var nbb_formatted_code = \"resp = pd.read_hdf(\\\"FemMarriageData.hdf\\\", \\\"FemMarriageData\\\")\\nresp.shape\";\n",
       "            var nbb_cells = Jupyter.notebook.get_cells();\n",
       "            for (var i = 0; i < nbb_cells.length; ++i) {\n",
       "                if (nbb_cells[i].input_prompt_number == nbb_cell_id) {\n",
       "                    nbb_cells[i].set_text(nbb_formatted_code);\n",
       "                    break;\n",
       "                }\n",
       "            }\n",
       "        }, 500);\n",
       "        "
      ],
      "text/plain": [
       "<IPython.core.display.Javascript object>"
      ]
     },
     "metadata": {},
     "output_type": "display_data"
    }
   ],
   "source": [
    "resp = pd.read_hdf(\"FemMarriageData.hdf\", \"FemMarriageData\")\n",
    "resp.shape"
   ]
  },
  {
   "cell_type": "code",
   "execution_count": 6,
   "metadata": {},
   "outputs": [
    {
     "data": {
      "text/html": [
       "<div>\n",
       "<style scoped>\n",
       "    .dataframe tbody tr th:only-of-type {\n",
       "        vertical-align: middle;\n",
       "    }\n",
       "\n",
       "    .dataframe tbody tr th {\n",
       "        vertical-align: top;\n",
       "    }\n",
       "\n",
       "    .dataframe thead th {\n",
       "        text-align: right;\n",
       "    }\n",
       "</style>\n",
       "<table border=\"1\" class=\"dataframe\">\n",
       "  <thead>\n",
       "    <tr style=\"text-align: right;\">\n",
       "      <th></th>\n",
       "      <th>counts</th>\n",
       "    </tr>\n",
       "    <tr>\n",
       "      <th>values</th>\n",
       "      <th></th>\n",
       "    </tr>\n",
       "  </thead>\n",
       "  <tbody>\n",
       "    <tr>\n",
       "      <th>False</th>\n",
       "      <td>36608</td>\n",
       "    </tr>\n",
       "    <tr>\n",
       "      <th>True</th>\n",
       "      <td>39161</td>\n",
       "    </tr>\n",
       "  </tbody>\n",
       "</table>\n",
       "</div>"
      ],
      "text/plain": [
       "        counts\n",
       "values        \n",
       "False    36608\n",
       "True     39161"
      ]
     },
     "execution_count": 6,
     "metadata": {},
     "output_type": "execute_result"
    },
    {
     "data": {
      "application/javascript": [
       "\n",
       "        setTimeout(function() {\n",
       "            var nbb_cell_id = 6;\n",
       "            var nbb_formatted_code = \"evrmarry = resp[\\\"evrmarry\\\"]\\nvalue_counts(evrmarry)\";\n",
       "            var nbb_cells = Jupyter.notebook.get_cells();\n",
       "            for (var i = 0; i < nbb_cells.length; ++i) {\n",
       "                if (nbb_cells[i].input_prompt_number == nbb_cell_id) {\n",
       "                    nbb_cells[i].set_text(nbb_formatted_code);\n",
       "                    break;\n",
       "                }\n",
       "            }\n",
       "        }, 500);\n",
       "        "
      ],
      "text/plain": [
       "<IPython.core.display.Javascript object>"
      ]
     },
     "metadata": {},
     "output_type": "display_data"
    }
   ],
   "source": [
    "evrmarry = resp[\"evrmarry\"]\n",
    "value_counts(evrmarry)"
   ]
  },
  {
   "cell_type": "markdown",
   "metadata": {},
   "source": [
    "In the 2000s cohorts, the last age where we have a decent sample is 23."
   ]
  },
  {
   "cell_type": "code",
   "execution_count": 7,
   "metadata": {},
   "outputs": [
    {
     "data": {
      "text/html": [
       "<div>\n",
       "<style scoped>\n",
       "    .dataframe tbody tr th:only-of-type {\n",
       "        vertical-align: middle;\n",
       "    }\n",
       "\n",
       "    .dataframe tbody tr th {\n",
       "        vertical-align: top;\n",
       "    }\n",
       "\n",
       "    .dataframe thead th {\n",
       "        text-align: right;\n",
       "    }\n",
       "</style>\n",
       "<table border=\"1\" class=\"dataframe\">\n",
       "  <thead>\n",
       "    <tr style=\"text-align: right;\">\n",
       "      <th></th>\n",
       "      <th>counts</th>\n",
       "    </tr>\n",
       "    <tr>\n",
       "      <th>values</th>\n",
       "      <th></th>\n",
       "    </tr>\n",
       "  </thead>\n",
       "  <tbody>\n",
       "    <tr>\n",
       "      <th>20.0</th>\n",
       "      <td>147</td>\n",
       "    </tr>\n",
       "    <tr>\n",
       "      <th>21.0</th>\n",
       "      <td>113</td>\n",
       "    </tr>\n",
       "    <tr>\n",
       "      <th>22.0</th>\n",
       "      <td>124</td>\n",
       "    </tr>\n",
       "    <tr>\n",
       "      <th>23.0</th>\n",
       "      <td>108</td>\n",
       "    </tr>\n",
       "    <tr>\n",
       "      <th>24.0</th>\n",
       "      <td>47</td>\n",
       "    </tr>\n",
       "  </tbody>\n",
       "</table>\n",
       "</div>"
      ],
      "text/plain": [
       "        counts\n",
       "values        \n",
       "20.0       147\n",
       "21.0       113\n",
       "22.0       124\n",
       "23.0       108\n",
       "24.0        47"
      ]
     },
     "execution_count": 7,
     "metadata": {},
     "output_type": "execute_result"
    },
    {
     "data": {
      "application/javascript": [
       "\n",
       "        setTimeout(function() {\n",
       "            var nbb_cell_id = 7;\n",
       "            var nbb_formatted_code = \"subset = resp.query(\\\"birth_index==100\\\")\\nvalue_counts(subset[\\\"ager\\\"]).tail()\";\n",
       "            var nbb_cells = Jupyter.notebook.get_cells();\n",
       "            for (var i = 0; i < nbb_cells.length; ++i) {\n",
       "                if (nbb_cells[i].input_prompt_number == nbb_cell_id) {\n",
       "                    nbb_cells[i].set_text(nbb_formatted_code);\n",
       "                    break;\n",
       "                }\n",
       "            }\n",
       "        }, 500);\n",
       "        "
      ],
      "text/plain": [
       "<IPython.core.display.Javascript object>"
      ]
     },
     "metadata": {},
     "output_type": "display_data"
    }
   ],
   "source": [
    "subset = resp.query(\"birth_index==100\")\n",
    "value_counts(subset[\"ager\"]).tail()"
   ]
  },
  {
   "cell_type": "markdown",
   "metadata": {},
   "source": [
    "In the 1990s cohorts, the last age where we have a decent sample is 33."
   ]
  },
  {
   "cell_type": "code",
   "execution_count": 8,
   "metadata": {},
   "outputs": [
    {
     "data": {
      "text/html": [
       "<div>\n",
       "<style scoped>\n",
       "    .dataframe tbody tr th:only-of-type {\n",
       "        vertical-align: middle;\n",
       "    }\n",
       "\n",
       "    .dataframe tbody tr th {\n",
       "        vertical-align: top;\n",
       "    }\n",
       "\n",
       "    .dataframe thead th {\n",
       "        text-align: right;\n",
       "    }\n",
       "</style>\n",
       "<table border=\"1\" class=\"dataframe\">\n",
       "  <thead>\n",
       "    <tr style=\"text-align: right;\">\n",
       "      <th></th>\n",
       "      <th>counts</th>\n",
       "    </tr>\n",
       "    <tr>\n",
       "      <th>values</th>\n",
       "      <th></th>\n",
       "    </tr>\n",
       "  </thead>\n",
       "  <tbody>\n",
       "    <tr>\n",
       "      <th>30.0</th>\n",
       "      <td>224</td>\n",
       "    </tr>\n",
       "    <tr>\n",
       "      <th>31.0</th>\n",
       "      <td>198</td>\n",
       "    </tr>\n",
       "    <tr>\n",
       "      <th>32.0</th>\n",
       "      <td>227</td>\n",
       "    </tr>\n",
       "    <tr>\n",
       "      <th>33.0</th>\n",
       "      <td>193</td>\n",
       "    </tr>\n",
       "    <tr>\n",
       "      <th>34.0</th>\n",
       "      <td>58</td>\n",
       "    </tr>\n",
       "  </tbody>\n",
       "</table>\n",
       "</div>"
      ],
      "text/plain": [
       "        counts\n",
       "values        \n",
       "30.0       224\n",
       "31.0       198\n",
       "32.0       227\n",
       "33.0       193\n",
       "34.0        58"
      ]
     },
     "execution_count": 8,
     "metadata": {},
     "output_type": "execute_result"
    },
    {
     "data": {
      "application/javascript": [
       "\n",
       "        setTimeout(function() {\n",
       "            var nbb_cell_id = 8;\n",
       "            var nbb_formatted_code = \"subset = resp.query(\\\"birth_index==90\\\")\\nvalue_counts(subset[\\\"ager\\\"]).tail()\";\n",
       "            var nbb_cells = Jupyter.notebook.get_cells();\n",
       "            for (var i = 0; i < nbb_cells.length; ++i) {\n",
       "                if (nbb_cells[i].input_prompt_number == nbb_cell_id) {\n",
       "                    nbb_cells[i].set_text(nbb_formatted_code);\n",
       "                    break;\n",
       "                }\n",
       "            }\n",
       "        }, 500);\n",
       "        "
      ],
      "text/plain": [
       "<IPython.core.display.Javascript object>"
      ]
     },
     "metadata": {},
     "output_type": "display_data"
    }
   ],
   "source": [
    "subset = resp.query(\"birth_index==90\")\n",
    "value_counts(subset[\"ager\"]).tail()"
   ]
  },
  {
   "cell_type": "markdown",
   "metadata": {},
   "source": [
    "In the 1980s cohorts, the last age where we have a decent sample is 43."
   ]
  },
  {
   "cell_type": "code",
   "execution_count": 9,
   "metadata": {},
   "outputs": [
    {
     "data": {
      "text/html": [
       "<div>\n",
       "<style scoped>\n",
       "    .dataframe tbody tr th:only-of-type {\n",
       "        vertical-align: middle;\n",
       "    }\n",
       "\n",
       "    .dataframe tbody tr th {\n",
       "        vertical-align: top;\n",
       "    }\n",
       "\n",
       "    .dataframe thead th {\n",
       "        text-align: right;\n",
       "    }\n",
       "</style>\n",
       "<table border=\"1\" class=\"dataframe\">\n",
       "  <thead>\n",
       "    <tr style=\"text-align: right;\">\n",
       "      <th></th>\n",
       "      <th>counts</th>\n",
       "    </tr>\n",
       "    <tr>\n",
       "      <th>values</th>\n",
       "      <th></th>\n",
       "    </tr>\n",
       "  </thead>\n",
       "  <tbody>\n",
       "    <tr>\n",
       "      <th>40.0</th>\n",
       "      <td>191</td>\n",
       "    </tr>\n",
       "    <tr>\n",
       "      <th>41.0</th>\n",
       "      <td>181</td>\n",
       "    </tr>\n",
       "    <tr>\n",
       "      <th>42.0</th>\n",
       "      <td>152</td>\n",
       "    </tr>\n",
       "    <tr>\n",
       "      <th>43.0</th>\n",
       "      <td>136</td>\n",
       "    </tr>\n",
       "    <tr>\n",
       "      <th>44.0</th>\n",
       "      <td>48</td>\n",
       "    </tr>\n",
       "  </tbody>\n",
       "</table>\n",
       "</div>"
      ],
      "text/plain": [
       "        counts\n",
       "values        \n",
       "40.0       191\n",
       "41.0       181\n",
       "42.0       152\n",
       "43.0       136\n",
       "44.0        48"
      ]
     },
     "execution_count": 9,
     "metadata": {},
     "output_type": "execute_result"
    },
    {
     "data": {
      "application/javascript": [
       "\n",
       "        setTimeout(function() {\n",
       "            var nbb_cell_id = 9;\n",
       "            var nbb_formatted_code = \"subset = resp.query(\\\"birth_index==80\\\")\\nvalue_counts(subset[\\\"ager\\\"]).tail()\";\n",
       "            var nbb_cells = Jupyter.notebook.get_cells();\n",
       "            for (var i = 0; i < nbb_cells.length; ++i) {\n",
       "                if (nbb_cells[i].input_prompt_number == nbb_cell_id) {\n",
       "                    nbb_cells[i].set_text(nbb_formatted_code);\n",
       "                    break;\n",
       "                }\n",
       "            }\n",
       "        }, 500);\n",
       "        "
      ],
      "text/plain": [
       "<IPython.core.display.Javascript object>"
      ]
     },
     "metadata": {},
     "output_type": "display_data"
    }
   ],
   "source": [
    "subset = resp.query(\"birth_index==80\")\n",
    "value_counts(subset[\"ager\"]).tail()"
   ]
  },
  {
   "cell_type": "code",
   "execution_count": 10,
   "metadata": {},
   "outputs": [
    {
     "data": {
      "application/javascript": [
       "\n",
       "        setTimeout(function() {\n",
       "            var nbb_cell_id = 10;\n",
       "            var nbb_formatted_code = \"def add_married_column(resp, age):\\n    col = f\\\"married{age}\\\"\\n    resp[col] = np.nan\\n\\n    too_young = resp[\\\"ager\\\"] < age\\n    resp.loc[too_young, col] = np.nan\\n\\n    unmarried = ~resp[\\\"evrmarry\\\"]\\n    resp.loc[unmarried, col] = 0\\n\\n    married = resp[\\\"evrmarry\\\"] & (resp[\\\"agemarry\\\"] <= age)\\n    resp.loc[married, col] = 1\\n\\n    married = resp[\\\"evrmarry\\\"] & (resp[\\\"agemarry\\\"] > age)\\n    resp.loc[married, col] = 0\\n\\n    too_young = resp[\\\"ager\\\"] < age\\n    resp.loc[too_young, col] = np.nan\\n\\n    missing = resp[\\\"evrmarry\\\"] & resp[\\\"agemarry\\\"].isna()\\n    resp.loc[missing, col] = np.nan\";\n",
       "            var nbb_cells = Jupyter.notebook.get_cells();\n",
       "            for (var i = 0; i < nbb_cells.length; ++i) {\n",
       "                if (nbb_cells[i].input_prompt_number == nbb_cell_id) {\n",
       "                    nbb_cells[i].set_text(nbb_formatted_code);\n",
       "                    break;\n",
       "                }\n",
       "            }\n",
       "        }, 500);\n",
       "        "
      ],
      "text/plain": [
       "<IPython.core.display.Javascript object>"
      ]
     },
     "metadata": {},
     "output_type": "display_data"
    }
   ],
   "source": [
    "def add_married_column(resp, age):\n",
    "    col = f\"married{age}\"\n",
    "    resp[col] = np.nan\n",
    "\n",
    "    too_young = resp[\"ager\"] < age\n",
    "    resp.loc[too_young, col] = np.nan\n",
    "\n",
    "    unmarried = ~resp[\"evrmarry\"]\n",
    "    resp.loc[unmarried, col] = 0\n",
    "\n",
    "    married = resp[\"evrmarry\"] & (resp[\"agemarry\"] <= age)\n",
    "    resp.loc[married, col] = 1\n",
    "\n",
    "    married = resp[\"evrmarry\"] & (resp[\"agemarry\"] > age)\n",
    "    resp.loc[married, col] = 0\n",
    "\n",
    "    too_young = resp[\"ager\"] < age\n",
    "    resp.loc[too_young, col] = np.nan\n",
    "\n",
    "    missing = resp[\"evrmarry\"] & resp[\"agemarry\"].isna()\n",
    "    resp.loc[missing, col] = np.nan"
   ]
  },
  {
   "cell_type": "code",
   "execution_count": 11,
   "metadata": {},
   "outputs": [
    {
     "data": {
      "text/html": [
       "<div>\n",
       "<style scoped>\n",
       "    .dataframe tbody tr th:only-of-type {\n",
       "        vertical-align: middle;\n",
       "    }\n",
       "\n",
       "    .dataframe tbody tr th {\n",
       "        vertical-align: top;\n",
       "    }\n",
       "\n",
       "    .dataframe thead th {\n",
       "        text-align: right;\n",
       "    }\n",
       "</style>\n",
       "<table border=\"1\" class=\"dataframe\">\n",
       "  <thead>\n",
       "    <tr style=\"text-align: right;\">\n",
       "      <th></th>\n",
       "      <th>counts</th>\n",
       "    </tr>\n",
       "    <tr>\n",
       "      <th>values</th>\n",
       "      <th></th>\n",
       "    </tr>\n",
       "  </thead>\n",
       "  <tbody>\n",
       "    <tr>\n",
       "      <th>0.0</th>\n",
       "      <td>35126</td>\n",
       "    </tr>\n",
       "    <tr>\n",
       "      <th>1.0</th>\n",
       "      <td>21035</td>\n",
       "    </tr>\n",
       "    <tr>\n",
       "      <th>NaN</th>\n",
       "      <td>19608</td>\n",
       "    </tr>\n",
       "  </tbody>\n",
       "</table>\n",
       "</div>"
      ],
      "text/plain": [
       "        counts\n",
       "values        \n",
       "0.0      35126\n",
       "1.0      21035\n",
       "NaN      19608"
      ]
     },
     "execution_count": 11,
     "metadata": {},
     "output_type": "execute_result"
    },
    {
     "data": {
      "application/javascript": [
       "\n",
       "        setTimeout(function() {\n",
       "            var nbb_cell_id = 11;\n",
       "            var nbb_formatted_code = \"add_married_column(resp, 23)\\nvalue_counts(resp[\\\"married23\\\"])\";\n",
       "            var nbb_cells = Jupyter.notebook.get_cells();\n",
       "            for (var i = 0; i < nbb_cells.length; ++i) {\n",
       "                if (nbb_cells[i].input_prompt_number == nbb_cell_id) {\n",
       "                    nbb_cells[i].set_text(nbb_formatted_code);\n",
       "                    break;\n",
       "                }\n",
       "            }\n",
       "        }, 500);\n",
       "        "
      ],
      "text/plain": [
       "<IPython.core.display.Javascript object>"
      ]
     },
     "metadata": {},
     "output_type": "display_data"
    }
   ],
   "source": [
    "add_married_column(resp, 23)\n",
    "value_counts(resp[\"married23\"])"
   ]
  },
  {
   "cell_type": "code",
   "execution_count": 12,
   "metadata": {},
   "outputs": [
    {
     "data": {
      "text/html": [
       "<div>\n",
       "<style scoped>\n",
       "    .dataframe tbody tr th:only-of-type {\n",
       "        vertical-align: middle;\n",
       "    }\n",
       "\n",
       "    .dataframe tbody tr th {\n",
       "        vertical-align: top;\n",
       "    }\n",
       "\n",
       "    .dataframe thead th {\n",
       "        text-align: right;\n",
       "    }\n",
       "</style>\n",
       "<table border=\"1\" class=\"dataframe\">\n",
       "  <thead>\n",
       "    <tr style=\"text-align: right;\">\n",
       "      <th></th>\n",
       "      <th>counts</th>\n",
       "    </tr>\n",
       "    <tr>\n",
       "      <th>values</th>\n",
       "      <th></th>\n",
       "    </tr>\n",
       "  </thead>\n",
       "  <tbody>\n",
       "    <tr>\n",
       "      <th>0.0</th>\n",
       "      <td>7593</td>\n",
       "    </tr>\n",
       "    <tr>\n",
       "      <th>1.0</th>\n",
       "      <td>21896</td>\n",
       "    </tr>\n",
       "    <tr>\n",
       "      <th>NaN</th>\n",
       "      <td>46280</td>\n",
       "    </tr>\n",
       "  </tbody>\n",
       "</table>\n",
       "</div>"
      ],
      "text/plain": [
       "        counts\n",
       "values        \n",
       "0.0       7593\n",
       "1.0      21896\n",
       "NaN      46280"
      ]
     },
     "execution_count": 12,
     "metadata": {},
     "output_type": "execute_result"
    },
    {
     "data": {
      "application/javascript": [
       "\n",
       "        setTimeout(function() {\n",
       "            var nbb_cell_id = 12;\n",
       "            var nbb_formatted_code = \"add_married_column(resp, 33)\\nvalue_counts(resp[\\\"married33\\\"])\";\n",
       "            var nbb_cells = Jupyter.notebook.get_cells();\n",
       "            for (var i = 0; i < nbb_cells.length; ++i) {\n",
       "                if (nbb_cells[i].input_prompt_number == nbb_cell_id) {\n",
       "                    nbb_cells[i].set_text(nbb_formatted_code);\n",
       "                    break;\n",
       "                }\n",
       "            }\n",
       "        }, 500);\n",
       "        "
      ],
      "text/plain": [
       "<IPython.core.display.Javascript object>"
      ]
     },
     "metadata": {},
     "output_type": "display_data"
    }
   ],
   "source": [
    "add_married_column(resp, 33)\n",
    "value_counts(resp[\"married33\"])"
   ]
  },
  {
   "cell_type": "code",
   "execution_count": 13,
   "metadata": {},
   "outputs": [
    {
     "data": {
      "text/html": [
       "<div>\n",
       "<style scoped>\n",
       "    .dataframe tbody tr th:only-of-type {\n",
       "        vertical-align: middle;\n",
       "    }\n",
       "\n",
       "    .dataframe tbody tr th {\n",
       "        vertical-align: top;\n",
       "    }\n",
       "\n",
       "    .dataframe thead th {\n",
       "        text-align: right;\n",
       "    }\n",
       "</style>\n",
       "<table border=\"1\" class=\"dataframe\">\n",
       "  <thead>\n",
       "    <tr style=\"text-align: right;\">\n",
       "      <th></th>\n",
       "      <th>counts</th>\n",
       "    </tr>\n",
       "    <tr>\n",
       "      <th>values</th>\n",
       "      <th></th>\n",
       "    </tr>\n",
       "  </thead>\n",
       "  <tbody>\n",
       "    <tr>\n",
       "      <th>0.0</th>\n",
       "      <td>1176</td>\n",
       "    </tr>\n",
       "    <tr>\n",
       "      <th>1.0</th>\n",
       "      <td>5040</td>\n",
       "    </tr>\n",
       "    <tr>\n",
       "      <th>NaN</th>\n",
       "      <td>69553</td>\n",
       "    </tr>\n",
       "  </tbody>\n",
       "</table>\n",
       "</div>"
      ],
      "text/plain": [
       "        counts\n",
       "values        \n",
       "0.0       1176\n",
       "1.0       5040\n",
       "NaN      69553"
      ]
     },
     "execution_count": 13,
     "metadata": {},
     "output_type": "execute_result"
    },
    {
     "data": {
      "application/javascript": [
       "\n",
       "        setTimeout(function() {\n",
       "            var nbb_cell_id = 13;\n",
       "            var nbb_formatted_code = \"add_married_column(resp, 43)\\nvalue_counts(resp[\\\"married43\\\"])\";\n",
       "            var nbb_cells = Jupyter.notebook.get_cells();\n",
       "            for (var i = 0; i < nbb_cells.length; ++i) {\n",
       "                if (nbb_cells[i].input_prompt_number == nbb_cell_id) {\n",
       "                    nbb_cells[i].set_text(nbb_formatted_code);\n",
       "                    break;\n",
       "                }\n",
       "            }\n",
       "        }, 500);\n",
       "        "
      ],
      "text/plain": [
       "<IPython.core.display.Javascript object>"
      ]
     },
     "metadata": {},
     "output_type": "display_data"
    }
   ],
   "source": [
    "add_married_column(resp, 43)\n",
    "value_counts(resp[\"married43\"])"
   ]
  },
  {
   "cell_type": "markdown",
   "metadata": {},
   "source": [
    "## Percent married by education level"
   ]
  },
  {
   "cell_type": "markdown",
   "metadata": {},
   "source": [
    "`anycoll` is a recode I computed, intended to indicate whether a participant attended college, regardless of whether they got a degree.\n",
    "\n",
    "```\n",
    "1982    df['anycoll'] = df['educat'] >= 13\n",
    "1988    df['anycoll'] = df['educat'] >= 13\n",
    "1995    df[\"anycoll\"] = df[\"hieduc\"] >= 10\n",
    "2002    df[\"anycoll\"] = df[\"hieduc\"] >= 10\n",
    "2010    df[\"anycoll\"] = df[\"hieduc\"] >= 10\n",
    "2013    df[\"anycoll\"] = df[\"hieduc\"] >= 10\n",
    "2015    df[\"anycoll\"] = df[\"hieduc\"] >= 10\n",
    "2017    df[\"anycoll\"] = df[\"hieduc\"] >= 10\n",
    "2019    df[\"anycoll\"] = df[\"hieduc\"] >= 10\n",
    "2023    df[\"anycoll\"] = df[\"hieduc\"] >= 5\n",
    "```\n"
   ]
  },
  {
   "cell_type": "code",
   "execution_count": 14,
   "metadata": {},
   "outputs": [
    {
     "data": {
      "text/plain": [
       "birth_index\n",
       "30     0.286154\n",
       "40     0.422672\n",
       "50     0.466936\n",
       "60     0.455427\n",
       "70     0.528780\n",
       "80     0.567332\n",
       "90     0.425998\n",
       "100    0.195177\n",
       "Name: anycoll, dtype: float64"
      ]
     },
     "execution_count": 14,
     "metadata": {},
     "output_type": "execute_result"
    },
    {
     "data": {
      "application/javascript": [
       "\n",
       "        setTimeout(function() {\n",
       "            var nbb_cell_id = 14;\n",
       "            var nbb_formatted_code = \"resp.groupby(\\\"birth_index\\\")[\\\"anycoll\\\"].mean()\";\n",
       "            var nbb_cells = Jupyter.notebook.get_cells();\n",
       "            for (var i = 0; i < nbb_cells.length; ++i) {\n",
       "                if (nbb_cells[i].input_prompt_number == nbb_cell_id) {\n",
       "                    nbb_cells[i].set_text(nbb_formatted_code);\n",
       "                    break;\n",
       "                }\n",
       "            }\n",
       "        }, 500);\n",
       "        "
      ],
      "text/plain": [
       "<IPython.core.display.Javascript object>"
      ]
     },
     "metadata": {},
     "output_type": "display_data"
    }
   ],
   "source": [
    "resp.groupby(\"birth_index\")[\"anycoll\"].mean()"
   ]
  },
  {
   "cell_type": "code",
   "execution_count": 15,
   "metadata": {},
   "outputs": [
    {
     "data": {
      "text/plain": [
       "birth_index\n",
       "30     0.953846\n",
       "40     0.911031\n",
       "50     0.815257\n",
       "60     0.589113\n",
       "70     0.565568\n",
       "80     0.410037\n",
       "90     0.165730\n",
       "100    0.019970\n",
       "Name: evrmarry, dtype: float64"
      ]
     },
     "execution_count": 15,
     "metadata": {},
     "output_type": "execute_result"
    },
    {
     "data": {
      "application/javascript": [
       "\n",
       "        setTimeout(function() {\n",
       "            var nbb_cell_id = 15;\n",
       "            var nbb_formatted_code = \"resp.groupby(\\\"birth_index\\\")[\\\"evrmarry\\\"].mean()\";\n",
       "            var nbb_cells = Jupyter.notebook.get_cells();\n",
       "            for (var i = 0; i < nbb_cells.length; ++i) {\n",
       "                if (nbb_cells[i].input_prompt_number == nbb_cell_id) {\n",
       "                    nbb_cells[i].set_text(nbb_formatted_code);\n",
       "                    break;\n",
       "                }\n",
       "            }\n",
       "        }, 500);\n",
       "        "
      ],
      "text/plain": [
       "<IPython.core.display.Javascript object>"
      ]
     },
     "metadata": {},
     "output_type": "display_data"
    }
   ],
   "source": [
    "resp.groupby(\"birth_index\")[\"evrmarry\"].mean()"
   ]
  },
  {
   "cell_type": "code",
   "execution_count": 16,
   "metadata": {},
   "outputs": [
    {
     "data": {
      "application/javascript": [
       "\n",
       "        setTimeout(function() {\n",
       "            var nbb_cell_id = 16;\n",
       "            var nbb_formatted_code = \"def make_marriage_table(df, col):\\n    table = df.groupby([\\\"birth_index\\\", \\\"anycoll\\\"])[col].mean().unstack()\\n    table.columns = [\\\"No college\\\", \\\"Any college\\\"]\\n    table.index = [1900 + cohort for cohort in table.index]\\n    return table * 100\";\n",
       "            var nbb_cells = Jupyter.notebook.get_cells();\n",
       "            for (var i = 0; i < nbb_cells.length; ++i) {\n",
       "                if (nbb_cells[i].input_prompt_number == nbb_cell_id) {\n",
       "                    nbb_cells[i].set_text(nbb_formatted_code);\n",
       "                    break;\n",
       "                }\n",
       "            }\n",
       "        }, 500);\n",
       "        "
      ],
      "text/plain": [
       "<IPython.core.display.Javascript object>"
      ]
     },
     "metadata": {},
     "output_type": "display_data"
    }
   ],
   "source": [
    "def make_marriage_table(df, col):\n",
    "    table = df.groupby([\"birth_index\", \"anycoll\"])[col].mean().unstack()\n",
    "    table.columns = [\"No college\", \"Any college\"]\n",
    "    table.index = [1900 + cohort for cohort in table.index]\n",
    "    return table * 100"
   ]
  },
  {
   "cell_type": "code",
   "execution_count": 17,
   "metadata": {},
   "outputs": [
    {
     "data": {
      "application/javascript": [
       "\n",
       "        setTimeout(function() {\n",
       "            var nbb_cell_id = 17;\n",
       "            var nbb_formatted_code = \"sample = resample_by_cycle(resp)\";\n",
       "            var nbb_cells = Jupyter.notebook.get_cells();\n",
       "            for (var i = 0; i < nbb_cells.length; ++i) {\n",
       "                if (nbb_cells[i].input_prompt_number == nbb_cell_id) {\n",
       "                    nbb_cells[i].set_text(nbb_formatted_code);\n",
       "                    break;\n",
       "                }\n",
       "            }\n",
       "        }, 500);\n",
       "        "
      ],
      "text/plain": [
       "<IPython.core.display.Javascript object>"
      ]
     },
     "metadata": {},
     "output_type": "display_data"
    }
   ],
   "source": [
    "sample = resample_by_cycle(resp)"
   ]
  },
  {
   "cell_type": "code",
   "execution_count": 18,
   "metadata": {},
   "outputs": [
    {
     "data": {
      "text/html": [
       "<div>\n",
       "<style scoped>\n",
       "    .dataframe tbody tr th:only-of-type {\n",
       "        vertical-align: middle;\n",
       "    }\n",
       "\n",
       "    .dataframe tbody tr th {\n",
       "        vertical-align: top;\n",
       "    }\n",
       "\n",
       "    .dataframe thead th {\n",
       "        text-align: right;\n",
       "    }\n",
       "</style>\n",
       "<table border=\"1\" class=\"dataframe\">\n",
       "  <thead>\n",
       "    <tr style=\"text-align: right;\">\n",
       "      <th></th>\n",
       "      <th>No college</th>\n",
       "      <th>Any college</th>\n",
       "    </tr>\n",
       "  </thead>\n",
       "  <tbody>\n",
       "    <tr>\n",
       "      <th>1930</th>\n",
       "      <td>78.099174</td>\n",
       "      <td>66.346154</td>\n",
       "    </tr>\n",
       "    <tr>\n",
       "      <th>1940</th>\n",
       "      <td>79.735883</td>\n",
       "      <td>60.739030</td>\n",
       "    </tr>\n",
       "    <tr>\n",
       "      <th>1950</th>\n",
       "      <td>71.662853</td>\n",
       "      <td>45.656011</td>\n",
       "    </tr>\n",
       "    <tr>\n",
       "      <th>1960</th>\n",
       "      <td>55.123874</td>\n",
       "      <td>33.400371</td>\n",
       "    </tr>\n",
       "    <tr>\n",
       "      <th>1970</th>\n",
       "      <td>43.507092</td>\n",
       "      <td>27.504933</td>\n",
       "    </tr>\n",
       "    <tr>\n",
       "      <th>1980</th>\n",
       "      <td>32.877087</td>\n",
       "      <td>24.102165</td>\n",
       "    </tr>\n",
       "    <tr>\n",
       "      <th>1990</th>\n",
       "      <td>23.039612</td>\n",
       "      <td>18.812565</td>\n",
       "    </tr>\n",
       "    <tr>\n",
       "      <th>2000</th>\n",
       "      <td>18.181818</td>\n",
       "      <td>7.142857</td>\n",
       "    </tr>\n",
       "  </tbody>\n",
       "</table>\n",
       "</div>"
      ],
      "text/plain": [
       "      No college  Any college\n",
       "1930   78.099174    66.346154\n",
       "1940   79.735883    60.739030\n",
       "1950   71.662853    45.656011\n",
       "1960   55.123874    33.400371\n",
       "1970   43.507092    27.504933\n",
       "1980   32.877087    24.102165\n",
       "1990   23.039612    18.812565\n",
       "2000   18.181818     7.142857"
      ]
     },
     "execution_count": 18,
     "metadata": {},
     "output_type": "execute_result"
    },
    {
     "data": {
      "application/javascript": [
       "\n",
       "        setTimeout(function() {\n",
       "            var nbb_cell_id = 18;\n",
       "            var nbb_formatted_code = \"table = make_marriage_table(sample, \\\"married23\\\")\\ntable\";\n",
       "            var nbb_cells = Jupyter.notebook.get_cells();\n",
       "            for (var i = 0; i < nbb_cells.length; ++i) {\n",
       "                if (nbb_cells[i].input_prompt_number == nbb_cell_id) {\n",
       "                    nbb_cells[i].set_text(nbb_formatted_code);\n",
       "                    break;\n",
       "                }\n",
       "            }\n",
       "        }, 500);\n",
       "        "
      ],
      "text/plain": [
       "<IPython.core.display.Javascript object>"
      ]
     },
     "metadata": {},
     "output_type": "display_data"
    }
   ],
   "source": [
    "table = make_marriage_table(sample, \"married23\")\n",
    "table"
   ]
  },
  {
   "cell_type": "code",
   "execution_count": 19,
   "metadata": {},
   "outputs": [
    {
     "data": {
      "image/png": "[encoded data removed]",
      "text/plain": [
       "<Figure size 675x350 with 1 Axes>"
      ]
     },
     "metadata": {},
     "output_type": "display_data"
    },
    {
     "data": {
      "application/javascript": [
       "\n",
       "        setTimeout(function() {\n",
       "            var nbb_cell_id = 19;\n",
       "            var nbb_formatted_code = \"table.plot()\\ndecorate(xlabel=\\\"Decade of birth\\\")\";\n",
       "            var nbb_cells = Jupyter.notebook.get_cells();\n",
       "            for (var i = 0; i < nbb_cells.length; ++i) {\n",
       "                if (nbb_cells[i].input_prompt_number == nbb_cell_id) {\n",
       "                    nbb_cells[i].set_text(nbb_formatted_code);\n",
       "                    break;\n",
       "                }\n",
       "            }\n",
       "        }, 500);\n",
       "        "
      ],
      "text/plain": [
       "<IPython.core.display.Javascript object>"
      ]
     },
     "metadata": {},
     "output_type": "display_data"
    }
   ],
   "source": [
    "table.plot()\n",
    "decorate(xlabel=\"Decade of birth\")"
   ]
  },
  {
   "cell_type": "code",
   "execution_count": 20,
   "metadata": {},
   "outputs": [
    {
     "data": {
      "application/javascript": [
       "\n",
       "        setTimeout(function() {\n",
       "            var nbb_cell_id = 20;\n",
       "            var nbb_formatted_code = \"table = make_marriage_table(sample, \\\"married33\\\")\";\n",
       "            var nbb_cells = Jupyter.notebook.get_cells();\n",
       "            for (var i = 0; i < nbb_cells.length; ++i) {\n",
       "                if (nbb_cells[i].input_prompt_number == nbb_cell_id) {\n",
       "                    nbb_cells[i].set_text(nbb_formatted_code);\n",
       "                    break;\n",
       "                }\n",
       "            }\n",
       "        }, 500);\n",
       "        "
      ],
      "text/plain": [
       "<IPython.core.display.Javascript object>"
      ]
     },
     "metadata": {},
     "output_type": "display_data"
    }
   ],
   "source": [
    "table = make_marriage_table(sample, \"married33\")"
   ]
  },
  {
   "cell_type": "code",
   "execution_count": 21,
   "metadata": {},
   "outputs": [
    {
     "data": {
      "image/png": "[encoded data removed]",
      "text/plain": [
       "<Figure size 675x350 with 1 Axes>"
      ]
     },
     "metadata": {},
     "output_type": "display_data"
    },
    {
     "data": {
      "application/javascript": [
       "\n",
       "        setTimeout(function() {\n",
       "            var nbb_cell_id = 21;\n",
       "            var nbb_formatted_code = \"table.plot()\\ndecorate(xlabel=\\\"Decade of birth\\\")\";\n",
       "            var nbb_cells = Jupyter.notebook.get_cells();\n",
       "            for (var i = 0; i < nbb_cells.length; ++i) {\n",
       "                if (nbb_cells[i].input_prompt_number == nbb_cell_id) {\n",
       "                    nbb_cells[i].set_text(nbb_formatted_code);\n",
       "                    break;\n",
       "                }\n",
       "            }\n",
       "        }, 500);\n",
       "        "
      ],
      "text/plain": [
       "<IPython.core.display.Javascript object>"
      ]
     },
     "metadata": {},
     "output_type": "display_data"
    }
   ],
   "source": [
    "table.plot()\n",
    "decorate(xlabel=\"Decade of birth\")"
   ]
  },
  {
   "cell_type": "code",
   "execution_count": 22,
   "metadata": {},
   "outputs": [
    {
     "data": {
      "application/javascript": [
       "\n",
       "        setTimeout(function() {\n",
       "            var nbb_cell_id = 22;\n",
       "            var nbb_formatted_code = \"table = make_marriage_table(sample, \\\"married43\\\")\";\n",
       "            var nbb_cells = Jupyter.notebook.get_cells();\n",
       "            for (var i = 0; i < nbb_cells.length; ++i) {\n",
       "                if (nbb_cells[i].input_prompt_number == nbb_cell_id) {\n",
       "                    nbb_cells[i].set_text(nbb_formatted_code);\n",
       "                    break;\n",
       "                }\n",
       "            }\n",
       "        }, 500);\n",
       "        "
      ],
      "text/plain": [
       "<IPython.core.display.Javascript object>"
      ]
     },
     "metadata": {},
     "output_type": "display_data"
    }
   ],
   "source": [
    "table = make_marriage_table(sample, \"married43\")"
   ]
  },
  {
   "cell_type": "code",
   "execution_count": 23,
   "metadata": {},
   "outputs": [
    {
     "data": {
      "image/png": "[encoded data removed]",
      "text/plain": [
       "<Figure size 675x350 with 1 Axes>"
      ]
     },
     "metadata": {},
     "output_type": "display_data"
    },
    {
     "data": {
      "application/javascript": [
       "\n",
       "        setTimeout(function() {\n",
       "            var nbb_cell_id = 23;\n",
       "            var nbb_formatted_code = \"table.plot()\\ndecorate(xlabel=\\\"Decade of birth\\\")\";\n",
       "            var nbb_cells = Jupyter.notebook.get_cells();\n",
       "            for (var i = 0; i < nbb_cells.length; ++i) {\n",
       "                if (nbb_cells[i].input_prompt_number == nbb_cell_id) {\n",
       "                    nbb_cells[i].set_text(nbb_formatted_code);\n",
       "                    break;\n",
       "                }\n",
       "            }\n",
       "        }, 500);\n",
       "        "
      ],
      "text/plain": [
       "<IPython.core.display.Javascript object>"
      ]
     },
     "metadata": {},
     "output_type": "display_data"
    }
   ],
   "source": [
    "table.plot()\n",
    "decorate(xlabel=\"Decade of birth\")"
   ]
  },
  {
   "cell_type": "code",
   "execution_count": 24,
   "metadata": {},
   "outputs": [
    {
     "data": {
      "application/javascript": [
       "\n",
       "        setTimeout(function() {\n",
       "            var nbb_cell_id = 24;\n",
       "            var nbb_formatted_code = \"from utils import percentile_rows\\n\\n\\ndef plot_marriage_tables(tables):\\n    table = tables[0]\\n    categories = table.columns\\n    cohorts = table.index\\n\\n    for col in table.columns:\\n        frame = pd.DataFrame(columns=cohorts)\\n        for i, table in enumerate(tables):\\n            frame.loc[i] = table[col]\\n\\n        # using the 84% CI, so non-overlapping corresponds to\\n        # a difference that's significant at 5% level\\n        low, median, high = percentile_rows(frame, [8, 50, 92])\\n        plt.fill_between(cohorts, low, high, alpha=0.2)\\n        plt.plot(cohorts, median, label=col)\";\n",
       "            var nbb_cells = Jupyter.notebook.get_cells();\n",
       "            for (var i = 0; i < nbb_cells.length; ++i) {\n",
       "                if (nbb_cells[i].input_prompt_number == nbb_cell_id) {\n",
       "                    nbb_cells[i].set_text(nbb_formatted_code);\n",
       "                    break;\n",
       "                }\n",
       "            }\n",
       "        }, 500);\n",
       "        "
      ],
      "text/plain": [
       "<IPython.core.display.Javascript object>"
      ]
     },
     "metadata": {},
     "output_type": "display_data"
    }
   ],
   "source": [
    "from utils import percentile_rows\n",
    "\n",
    "\n",
    "def plot_marriage_tables(tables):\n",
    "    table = tables[0]\n",
    "    categories = table.columns\n",
    "    cohorts = table.index\n",
    "\n",
    "    for col in table.columns:\n",
    "        frame = pd.DataFrame(columns=cohorts)\n",
    "        for i, table in enumerate(tables):\n",
    "            frame.loc[i] = table[col]\n",
    "\n",
    "        # using the 84% CI, so non-overlapping corresponds to\n",
    "        # a difference that's significant at 5% level\n",
    "        low, median, high = percentile_rows(frame, [8, 50, 92])\n",
    "        plt.fill_between(cohorts, low, high, alpha=0.2)\n",
    "        plt.plot(cohorts, median, label=col)"
   ]
  },
  {
   "cell_type": "code",
   "execution_count": 25,
   "metadata": {},
   "outputs": [
    {
     "data": {
      "application/javascript": [
       "\n",
       "        setTimeout(function() {\n",
       "            var nbb_cell_id = 25;\n",
       "            var nbb_formatted_code = \"tables23 = [\\n    make_marriage_table(resample_by_cycle(resp), \\\"married23\\\") for i in range(101)\\n]\";\n",
       "            var nbb_cells = Jupyter.notebook.get_cells();\n",
       "            for (var i = 0; i < nbb_cells.length; ++i) {\n",
       "                if (nbb_cells[i].input_prompt_number == nbb_cell_id) {\n",
       "                    nbb_cells[i].set_text(nbb_formatted_code);\n",
       "                    break;\n",
       "                }\n",
       "            }\n",
       "        }, 500);\n",
       "        "
      ],
      "text/plain": [
       "<IPython.core.display.Javascript object>"
      ]
     },
     "metadata": {},
     "output_type": "display_data"
    }
   ],
   "source": [
    "tables23 = [\n",
    "    make_marriage_table(resample_by_cycle(resp), \"married23\") for i in range(101)\n",
    "]"
   ]
  },
  {
   "cell_type": "code",
   "execution_count": 26,
   "metadata": {},
   "outputs": [
    {
     "data": {
      "image/png": "[encoded data removed]",
      "text/plain": [
       "<Figure size 675x350 with 2 Axes>"
      ]
     },
     "metadata": {},
     "output_type": "display_data"
    },
    {
     "data": {
      "application/javascript": [
       "\n",
       "        setTimeout(function() {\n",
       "            var nbb_cell_id = 26;\n",
       "            var nbb_formatted_code = \"plot_marriage_tables(tables23)\\n\\ntitle = \\\"College-Educated Women Are (Still) Less Likely To Marry Young\\\"\\nsubtitle = \\\"Percent married at or before age 23, females grouped by decade of birth\\\"\\nadd_title(title, subtitle)\\n\\nsubtext = \\\"\\\"\\\"Source: NSFG 1982-2023, analysis by AIBM\\\"\\\"\\\"\\nadd_subtext(subtext)\\n\\nxlim = [1928, 2002]\\ndecorate(xlabel=\\\"Decade of birth\\\", ylabel=\\\"Percent\\\", xlim=xlim)\\ninset = add_logo()\\nsavefig(\\\"nsfg_marriage\\\", 1, inset)\";\n",
       "            var nbb_cells = Jupyter.notebook.get_cells();\n",
       "            for (var i = 0; i < nbb_cells.length; ++i) {\n",
       "                if (nbb_cells[i].input_prompt_number == nbb_cell_id) {\n",
       "                    nbb_cells[i].set_text(nbb_formatted_code);\n",
       "                    break;\n",
       "                }\n",
       "            }\n",
       "        }, 500);\n",
       "        "
      ],
      "text/plain": [
       "<IPython.core.display.Javascript object>"
      ]
     },
     "metadata": {},
     "output_type": "display_data"
    }
   ],
   "source": [
    "plot_marriage_tables(tables23)\n",
    "\n",
    "title = \"College-Educated Women Are (Still) Less Likely To Marry Young\"\n",
    "subtitle = \"Percent married at or before age 23, females grouped by decade of birth\"\n",
    "add_title(title, subtitle)\n",
    "\n",
    "subtext = \"\"\"Source: NSFG 1982-2023, analysis by AIBM\"\"\"\n",
    "add_subtext(subtext)\n",
    "\n",
    "xlim = [1928, 2002]\n",
    "decorate(xlabel=\"Decade of birth\", ylabel=\"Percent\", xlim=xlim)\n",
    "inset = add_logo()\n",
    "savefig(\"nsfg_marriage\", 1, inset)"
   ]
  },
  {
   "cell_type": "code",
   "execution_count": 27,
   "metadata": {},
   "outputs": [
    {
     "data": {
      "application/javascript": [
       "\n",
       "        setTimeout(function() {\n",
       "            var nbb_cell_id = 27;\n",
       "            var nbb_formatted_code = \"tables33 = [\\n    make_marriage_table(resample_by_cycle(resp), \\\"married33\\\") for i in range(101)\\n]\";\n",
       "            var nbb_cells = Jupyter.notebook.get_cells();\n",
       "            for (var i = 0; i < nbb_cells.length; ++i) {\n",
       "                if (nbb_cells[i].input_prompt_number == nbb_cell_id) {\n",
       "                    nbb_cells[i].set_text(nbb_formatted_code);\n",
       "                    break;\n",
       "                }\n",
       "            }\n",
       "        }, 500);\n",
       "        "
      ],
      "text/plain": [
       "<IPython.core.display.Javascript object>"
      ]
     },
     "metadata": {},
     "output_type": "display_data"
    }
   ],
   "source": [
    "tables33 = [\n",
    "    make_marriage_table(resample_by_cycle(resp), \"married33\") for i in range(101)\n",
    "]"
   ]
  },
  {
   "cell_type": "code",
   "execution_count": 28,
   "metadata": {
    "scrolled": true
   },
   "outputs": [
    {
     "data": {
      "image/png": "[encoded data removed]",
      "text/plain": [
       "<Figure size 675x350 with 2 Axes>"
      ]
     },
     "metadata": {},
     "output_type": "display_data"
    },
    {
     "data": {
      "application/javascript": [
       "\n",
       "        setTimeout(function() {\n",
       "            var nbb_cell_id = 28;\n",
       "            var nbb_formatted_code = \"plot_marriage_tables(tables33)\\ntitle = \\\"College-Educated Women Were Less Likely To Marry By Age 33 \\u2014 Not Any More\\\"\\nsubtitle = \\\"Percent married at or before age 33, females grouped by decade of birth\\\"\\nadd_title(title, subtitle)\\n\\nsubtext = \\\"\\\"\\\"Source: NSFG 1982-2023, analysis by AIBM\\\"\\\"\\\"\\nadd_subtext(subtext)\\n\\nylim = [35, 100]\\ndecorate(xlabel=\\\"Decade of birth\\\", ylabel=\\\"Percent\\\", xlim=xlim, ylim=ylim)\\ninset = add_logo()\\nsavefig(\\\"nsfg_marriage\\\", 3, inset)\";\n",
       "            var nbb_cells = Jupyter.notebook.get_cells();\n",
       "            for (var i = 0; i < nbb_cells.length; ++i) {\n",
       "                if (nbb_cells[i].input_prompt_number == nbb_cell_id) {\n",
       "                    nbb_cells[i].set_text(nbb_formatted_code);\n",
       "                    break;\n",
       "                }\n",
       "            }\n",
       "        }, 500);\n",
       "        "
      ],
      "text/plain": [
       "<IPython.core.display.Javascript object>"
      ]
     },
     "metadata": {},
     "output_type": "display_data"
    }
   ],
   "source": [
    "plot_marriage_tables(tables33)\n",
    "title = \"College-Educated Women Were Less Likely To Marry By Age 33 — Not Any More\"\n",
    "subtitle = \"Percent married at or before age 33, females grouped by decade of birth\"\n",
    "add_title(title, subtitle)\n",
    "\n",
    "subtext = \"\"\"Source: NSFG 1982-2023, analysis by AIBM\"\"\"\n",
    "add_subtext(subtext)\n",
    "\n",
    "ylim = [35, 100]\n",
    "decorate(xlabel=\"Decade of birth\", ylabel=\"Percent\", xlim=xlim, ylim=ylim)\n",
    "inset = add_logo()\n",
    "savefig(\"nsfg_marriage\", 3, inset)"
   ]
  },
  {
   "cell_type": "code",
   "execution_count": 29,
   "metadata": {},
   "outputs": [
    {
     "data": {
      "application/javascript": [
       "\n",
       "        setTimeout(function() {\n",
       "            var nbb_cell_id = 29;\n",
       "            var nbb_formatted_code = \"tables43 = [\\n    make_marriage_table(resample_by_cycle(resp), \\\"married43\\\") for i in range(101)\\n]\";\n",
       "            var nbb_cells = Jupyter.notebook.get_cells();\n",
       "            for (var i = 0; i < nbb_cells.length; ++i) {\n",
       "                if (nbb_cells[i].input_prompt_number == nbb_cell_id) {\n",
       "                    nbb_cells[i].set_text(nbb_formatted_code);\n",
       "                    break;\n",
       "                }\n",
       "            }\n",
       "        }, 500);\n",
       "        "
      ],
      "text/plain": [
       "<IPython.core.display.Javascript object>"
      ]
     },
     "metadata": {},
     "output_type": "display_data"
    }
   ],
   "source": [
    "tables43 = [\n",
    "    make_marriage_table(resample_by_cycle(resp), \"married43\") for i in range(101)\n",
    "]"
   ]
  },
  {
   "cell_type": "code",
   "execution_count": 30,
   "metadata": {
    "scrolled": false
   },
   "outputs": [
    {
     "data": {
      "image/png": "[encoded data removed]",
      "text/plain": [
       "<Figure size 675x350 with 2 Axes>"
      ]
     },
     "metadata": {},
     "output_type": "display_data"
    },
    {
     "data": {
      "application/javascript": [
       "\n",
       "        setTimeout(function() {\n",
       "            var nbb_cell_id = 30;\n",
       "            var nbb_formatted_code = \"plot_marriage_tables(tables43)\\ntitle = \\\"College-Educated Women Are More Likely To Get Married \\u2014 But Only Slightly\\\"\\nsubtitle = \\\"Percent married at or before age 43, females grouped by decade of birth\\\"\\nadd_title(title, subtitle)\\n\\nsubtext = \\\"\\\"\\\"Source: NSFG 1982-2023, analysis by AIBM\\\"\\\"\\\"\\nadd_subtext(subtext)\\n\\ndecorate(xlabel=\\\"Decade of birth\\\", ylabel=\\\"Percent\\\", xlim=xlim, ylim=ylim)\\ninset = add_logo()\\nsavefig(\\\"nsfg_marriage\\\", 5, inset)\";\n",
       "            var nbb_cells = Jupyter.notebook.get_cells();\n",
       "            for (var i = 0; i < nbb_cells.length; ++i) {\n",
       "                if (nbb_cells[i].input_prompt_number == nbb_cell_id) {\n",
       "                    nbb_cells[i].set_text(nbb_formatted_code);\n",
       "                    break;\n",
       "                }\n",
       "            }\n",
       "        }, 500);\n",
       "        "
      ],
      "text/plain": [
       "<IPython.core.display.Javascript object>"
      ]
     },
     "metadata": {},
     "output_type": "display_data"
    }
   ],
   "source": [
    "plot_marriage_tables(tables43)\n",
    "title = \"College-Educated Women Are More Likely To Get Married — But Only Slightly\"\n",
    "subtitle = \"Percent married at or before age 43, females grouped by decade of birth\"\n",
    "add_title(title, subtitle)\n",
    "\n",
    "subtext = \"\"\"Source: NSFG 1982-2023, analysis by AIBM\"\"\"\n",
    "add_subtext(subtext)\n",
    "\n",
    "decorate(xlabel=\"Decade of birth\", ylabel=\"Percent\", xlim=xlim, ylim=ylim)\n",
    "inset = add_logo()\n",
    "savefig(\"nsfg_marriage\", 5, inset)"
   ]
  },
  {
   "cell_type": "markdown",
   "metadata": {},
   "source": [
    "## Male respondents\n",
    "\n",
    "Load the data cleaned in `clean_nsfg.ipynb`"
   ]
  },
  {
   "cell_type": "markdown",
   "metadata": {},
   "source": [
    "`anycoll` is a recode I computed, intended to indicate whether a participant attended college, regardless of whether they got a degree.\n",
    "\n",
    "```\n",
    "2002    df[\"anycoll\"] = df[\"hieduc\"] >= 10\n",
    "2010    df[\"anycoll\"] = df[\"hieduc\"] >= 10\n",
    "2013    df[\"anycoll\"] = df[\"hieduc\"] >= 10\n",
    "2015    df[\"anycoll\"] = df[\"hieduc\"] >= 10\n",
    "2017    df[\"anycoll\"] = df[\"hieduc\"] >= 10\n",
    "2019    df[\"anycoll\"] = df[\"hieduc\"] >= 10\n",
    "2023    df[\"anycoll\"] = df[\"hieduc\"] >= 5\n",
    "```\n",
    "\n",
    "Encoding in 2023\n",
    "\n",
    "```\n",
    "HIEDUC: Distribution Value n\n",
    "Less than high school completion 1 623\n",
    "12th grade, no diploma 2 169\n",
    "GED or equivalent 3 153\n",
    "High school graduate 4 807\n",
    "Some college, no degree 5 956\n",
    "Associate degree: occup, tech, or voc 6 353\n",
    "Associate degree: academic 7 282\n",
    "Bachelor's degree 8 1267\n",
    "Master's degree 9 752\n",
    "Professional degree 10 135\n",
    "Doctoral degree 11 89\n",
    "5586\n",
    "```\n"
   ]
  },
  {
   "cell_type": "code",
   "execution_count": 31,
   "metadata": {},
   "outputs": [
    {
     "data": {
      "text/plain": [
       "(38769, 43)"
      ]
     },
     "execution_count": 31,
     "metadata": {},
     "output_type": "execute_result"
    },
    {
     "data": {
      "application/javascript": [
       "\n",
       "        setTimeout(function() {\n",
       "            var nbb_cell_id = 31;\n",
       "            var nbb_formatted_code = \"resp2 = pd.read_hdf(\\\"MaleMarriageData.hdf\\\", \\\"MaleMarriageData\\\")\\nresp2.shape\";\n",
       "            var nbb_cells = Jupyter.notebook.get_cells();\n",
       "            for (var i = 0; i < nbb_cells.length; ++i) {\n",
       "                if (nbb_cells[i].input_prompt_number == nbb_cell_id) {\n",
       "                    nbb_cells[i].set_text(nbb_formatted_code);\n",
       "                    break;\n",
       "                }\n",
       "            }\n",
       "        }, 500);\n",
       "        "
      ],
      "text/plain": [
       "<IPython.core.display.Javascript object>"
      ]
     },
     "metadata": {},
     "output_type": "display_data"
    }
   ],
   "source": [
    "resp2 = pd.read_hdf(\"MaleMarriageData.hdf\", \"MaleMarriageData\")\n",
    "resp2.shape"
   ]
  },
  {
   "cell_type": "code",
   "execution_count": 32,
   "metadata": {},
   "outputs": [
    {
     "data": {
      "text/html": [
       "<div>\n",
       "<style scoped>\n",
       "    .dataframe tbody tr th:only-of-type {\n",
       "        vertical-align: middle;\n",
       "    }\n",
       "\n",
       "    .dataframe tbody tr th {\n",
       "        vertical-align: top;\n",
       "    }\n",
       "\n",
       "    .dataframe thead th {\n",
       "        text-align: right;\n",
       "    }\n",
       "</style>\n",
       "<table border=\"1\" class=\"dataframe\">\n",
       "  <thead>\n",
       "    <tr style=\"text-align: right;\">\n",
       "      <th></th>\n",
       "      <th>counts</th>\n",
       "    </tr>\n",
       "    <tr>\n",
       "      <th>values</th>\n",
       "      <th></th>\n",
       "    </tr>\n",
       "  </thead>\n",
       "  <tbody>\n",
       "    <tr>\n",
       "      <th>False</th>\n",
       "      <td>24634</td>\n",
       "    </tr>\n",
       "    <tr>\n",
       "      <th>True</th>\n",
       "      <td>14135</td>\n",
       "    </tr>\n",
       "  </tbody>\n",
       "</table>\n",
       "</div>"
      ],
      "text/plain": [
       "        counts\n",
       "values        \n",
       "False    24634\n",
       "True     14135"
      ]
     },
     "execution_count": 32,
     "metadata": {},
     "output_type": "execute_result"
    },
    {
     "data": {
      "application/javascript": [
       "\n",
       "        setTimeout(function() {\n",
       "            var nbb_cell_id = 32;\n",
       "            var nbb_formatted_code = \"evrmarry = resp2[\\\"evrmarry\\\"]\\nvalue_counts(evrmarry)\";\n",
       "            var nbb_cells = Jupyter.notebook.get_cells();\n",
       "            for (var i = 0; i < nbb_cells.length; ++i) {\n",
       "                if (nbb_cells[i].input_prompt_number == nbb_cell_id) {\n",
       "                    nbb_cells[i].set_text(nbb_formatted_code);\n",
       "                    break;\n",
       "                }\n",
       "            }\n",
       "        }, 500);\n",
       "        "
      ],
      "text/plain": [
       "<IPython.core.display.Javascript object>"
      ]
     },
     "metadata": {},
     "output_type": "display_data"
    }
   ],
   "source": [
    "evrmarry = resp2[\"evrmarry\"]\n",
    "value_counts(evrmarry)"
   ]
  },
  {
   "cell_type": "markdown",
   "metadata": {},
   "source": [
    "In the 2000s cohorts, the last age where we have a decent sample is 23."
   ]
  },
  {
   "cell_type": "code",
   "execution_count": 33,
   "metadata": {},
   "outputs": [
    {
     "data": {
      "text/html": [
       "<div>\n",
       "<style scoped>\n",
       "    .dataframe tbody tr th:only-of-type {\n",
       "        vertical-align: middle;\n",
       "    }\n",
       "\n",
       "    .dataframe tbody tr th {\n",
       "        vertical-align: top;\n",
       "    }\n",
       "\n",
       "    .dataframe thead th {\n",
       "        text-align: right;\n",
       "    }\n",
       "</style>\n",
       "<table border=\"1\" class=\"dataframe\">\n",
       "  <thead>\n",
       "    <tr style=\"text-align: right;\">\n",
       "      <th></th>\n",
       "      <th>counts</th>\n",
       "    </tr>\n",
       "    <tr>\n",
       "      <th>values</th>\n",
       "      <th></th>\n",
       "    </tr>\n",
       "  </thead>\n",
       "  <tbody>\n",
       "    <tr>\n",
       "      <th>19.0</th>\n",
       "      <td>221</td>\n",
       "    </tr>\n",
       "    <tr>\n",
       "      <th>20.0</th>\n",
       "      <td>76</td>\n",
       "    </tr>\n",
       "    <tr>\n",
       "      <th>21.0</th>\n",
       "      <td>83</td>\n",
       "    </tr>\n",
       "    <tr>\n",
       "      <th>22.0</th>\n",
       "      <td>91</td>\n",
       "    </tr>\n",
       "    <tr>\n",
       "      <th>23.0</th>\n",
       "      <td>80</td>\n",
       "    </tr>\n",
       "  </tbody>\n",
       "</table>\n",
       "</div>"
      ],
      "text/plain": [
       "        counts\n",
       "values        \n",
       "19.0       221\n",
       "20.0        76\n",
       "21.0        83\n",
       "22.0        91\n",
       "23.0        80"
      ]
     },
     "execution_count": 33,
     "metadata": {},
     "output_type": "execute_result"
    },
    {
     "data": {
      "application/javascript": [
       "\n",
       "        setTimeout(function() {\n",
       "            var nbb_cell_id = 33;\n",
       "            var nbb_formatted_code = \"subset = resp2.query(\\\"birth_index==100\\\")\\nvalue_counts(subset[\\\"ager\\\"]).tail()\";\n",
       "            var nbb_cells = Jupyter.notebook.get_cells();\n",
       "            for (var i = 0; i < nbb_cells.length; ++i) {\n",
       "                if (nbb_cells[i].input_prompt_number == nbb_cell_id) {\n",
       "                    nbb_cells[i].set_text(nbb_formatted_code);\n",
       "                    break;\n",
       "                }\n",
       "            }\n",
       "        }, 500);\n",
       "        "
      ],
      "text/plain": [
       "<IPython.core.display.Javascript object>"
      ]
     },
     "metadata": {},
     "output_type": "display_data"
    }
   ],
   "source": [
    "subset = resp2.query(\"birth_index==100\")\n",
    "value_counts(subset[\"ager\"]).tail()"
   ]
  },
  {
   "cell_type": "markdown",
   "metadata": {},
   "source": [
    "In the 1990s cohorts, the last age where we have a decent sample is 33."
   ]
  },
  {
   "cell_type": "code",
   "execution_count": 34,
   "metadata": {},
   "outputs": [
    {
     "data": {
      "text/html": [
       "<div>\n",
       "<style scoped>\n",
       "    .dataframe tbody tr th:only-of-type {\n",
       "        vertical-align: middle;\n",
       "    }\n",
       "\n",
       "    .dataframe tbody tr th {\n",
       "        vertical-align: top;\n",
       "    }\n",
       "\n",
       "    .dataframe thead th {\n",
       "        text-align: right;\n",
       "    }\n",
       "</style>\n",
       "<table border=\"1\" class=\"dataframe\">\n",
       "  <thead>\n",
       "    <tr style=\"text-align: right;\">\n",
       "      <th></th>\n",
       "      <th>counts</th>\n",
       "    </tr>\n",
       "    <tr>\n",
       "      <th>values</th>\n",
       "      <th></th>\n",
       "    </tr>\n",
       "  </thead>\n",
       "  <tbody>\n",
       "    <tr>\n",
       "      <th>29.0</th>\n",
       "      <td>170</td>\n",
       "    </tr>\n",
       "    <tr>\n",
       "      <th>30.0</th>\n",
       "      <td>130</td>\n",
       "    </tr>\n",
       "    <tr>\n",
       "      <th>31.0</th>\n",
       "      <td>150</td>\n",
       "    </tr>\n",
       "    <tr>\n",
       "      <th>32.0</th>\n",
       "      <td>165</td>\n",
       "    </tr>\n",
       "    <tr>\n",
       "      <th>33.0</th>\n",
       "      <td>101</td>\n",
       "    </tr>\n",
       "  </tbody>\n",
       "</table>\n",
       "</div>"
      ],
      "text/plain": [
       "        counts\n",
       "values        \n",
       "29.0       170\n",
       "30.0       130\n",
       "31.0       150\n",
       "32.0       165\n",
       "33.0       101"
      ]
     },
     "execution_count": 34,
     "metadata": {},
     "output_type": "execute_result"
    },
    {
     "data": {
      "application/javascript": [
       "\n",
       "        setTimeout(function() {\n",
       "            var nbb_cell_id = 34;\n",
       "            var nbb_formatted_code = \"subset = resp2.query(\\\"birth_index==90\\\")\\nvalue_counts(subset[\\\"ager\\\"]).tail()\";\n",
       "            var nbb_cells = Jupyter.notebook.get_cells();\n",
       "            for (var i = 0; i < nbb_cells.length; ++i) {\n",
       "                if (nbb_cells[i].input_prompt_number == nbb_cell_id) {\n",
       "                    nbb_cells[i].set_text(nbb_formatted_code);\n",
       "                    break;\n",
       "                }\n",
       "            }\n",
       "        }, 500);\n",
       "        "
      ],
      "text/plain": [
       "<IPython.core.display.Javascript object>"
      ]
     },
     "metadata": {},
     "output_type": "display_data"
    }
   ],
   "source": [
    "subset = resp2.query(\"birth_index==90\")\n",
    "value_counts(subset[\"ager\"]).tail()"
   ]
  },
  {
   "cell_type": "markdown",
   "metadata": {},
   "source": [
    "In the 1980s cohorts, the last age where we have a decent sample is 43."
   ]
  },
  {
   "cell_type": "code",
   "execution_count": 35,
   "metadata": {},
   "outputs": [
    {
     "data": {
      "text/html": [
       "<div>\n",
       "<style scoped>\n",
       "    .dataframe tbody tr th:only-of-type {\n",
       "        vertical-align: middle;\n",
       "    }\n",
       "\n",
       "    .dataframe tbody tr th {\n",
       "        vertical-align: top;\n",
       "    }\n",
       "\n",
       "    .dataframe thead th {\n",
       "        text-align: right;\n",
       "    }\n",
       "</style>\n",
       "<table border=\"1\" class=\"dataframe\">\n",
       "  <thead>\n",
       "    <tr style=\"text-align: right;\">\n",
       "      <th></th>\n",
       "      <th>counts</th>\n",
       "    </tr>\n",
       "    <tr>\n",
       "      <th>values</th>\n",
       "      <th></th>\n",
       "    </tr>\n",
       "  </thead>\n",
       "  <tbody>\n",
       "    <tr>\n",
       "      <th>39.0</th>\n",
       "      <td>202</td>\n",
       "    </tr>\n",
       "    <tr>\n",
       "      <th>40.0</th>\n",
       "      <td>131</td>\n",
       "    </tr>\n",
       "    <tr>\n",
       "      <th>41.0</th>\n",
       "      <td>135</td>\n",
       "    </tr>\n",
       "    <tr>\n",
       "      <th>42.0</th>\n",
       "      <td>116</td>\n",
       "    </tr>\n",
       "    <tr>\n",
       "      <th>43.0</th>\n",
       "      <td>83</td>\n",
       "    </tr>\n",
       "  </tbody>\n",
       "</table>\n",
       "</div>"
      ],
      "text/plain": [
       "        counts\n",
       "values        \n",
       "39.0       202\n",
       "40.0       131\n",
       "41.0       135\n",
       "42.0       116\n",
       "43.0        83"
      ]
     },
     "execution_count": 35,
     "metadata": {},
     "output_type": "execute_result"
    },
    {
     "data": {
      "application/javascript": [
       "\n",
       "        setTimeout(function() {\n",
       "            var nbb_cell_id = 35;\n",
       "            var nbb_formatted_code = \"subset = resp2.query(\\\"birth_index==80\\\")\\nvalue_counts(subset[\\\"ager\\\"]).tail()\";\n",
       "            var nbb_cells = Jupyter.notebook.get_cells();\n",
       "            for (var i = 0; i < nbb_cells.length; ++i) {\n",
       "                if (nbb_cells[i].input_prompt_number == nbb_cell_id) {\n",
       "                    nbb_cells[i].set_text(nbb_formatted_code);\n",
       "                    break;\n",
       "                }\n",
       "            }\n",
       "        }, 500);\n",
       "        "
      ],
      "text/plain": [
       "<IPython.core.display.Javascript object>"
      ]
     },
     "metadata": {},
     "output_type": "display_data"
    }
   ],
   "source": [
    "subset = resp2.query(\"birth_index==80\")\n",
    "value_counts(subset[\"ager\"]).tail()"
   ]
  },
  {
   "cell_type": "code",
   "execution_count": 36,
   "metadata": {},
   "outputs": [
    {
     "data": {
      "text/html": [
       "<div>\n",
       "<style scoped>\n",
       "    .dataframe tbody tr th:only-of-type {\n",
       "        vertical-align: middle;\n",
       "    }\n",
       "\n",
       "    .dataframe tbody tr th {\n",
       "        vertical-align: top;\n",
       "    }\n",
       "\n",
       "    .dataframe thead th {\n",
       "        text-align: right;\n",
       "    }\n",
       "</style>\n",
       "<table border=\"1\" class=\"dataframe\">\n",
       "  <thead>\n",
       "    <tr style=\"text-align: right;\">\n",
       "      <th></th>\n",
       "      <th>counts</th>\n",
       "    </tr>\n",
       "    <tr>\n",
       "      <th>values</th>\n",
       "      <th></th>\n",
       "    </tr>\n",
       "  </thead>\n",
       "  <tbody>\n",
       "    <tr>\n",
       "      <th>0.0</th>\n",
       "      <td>22730</td>\n",
       "    </tr>\n",
       "    <tr>\n",
       "      <th>1.0</th>\n",
       "      <td>4315</td>\n",
       "    </tr>\n",
       "    <tr>\n",
       "      <th>NaN</th>\n",
       "      <td>11724</td>\n",
       "    </tr>\n",
       "  </tbody>\n",
       "</table>\n",
       "</div>"
      ],
      "text/plain": [
       "        counts\n",
       "values        \n",
       "0.0      22730\n",
       "1.0       4315\n",
       "NaN      11724"
      ]
     },
     "execution_count": 36,
     "metadata": {},
     "output_type": "execute_result"
    },
    {
     "data": {
      "application/javascript": [
       "\n",
       "        setTimeout(function() {\n",
       "            var nbb_cell_id = 36;\n",
       "            var nbb_formatted_code = \"add_married_column(resp2, 23)\\nvalue_counts(resp2[\\\"married23\\\"])\";\n",
       "            var nbb_cells = Jupyter.notebook.get_cells();\n",
       "            for (var i = 0; i < nbb_cells.length; ++i) {\n",
       "                if (nbb_cells[i].input_prompt_number == nbb_cell_id) {\n",
       "                    nbb_cells[i].set_text(nbb_formatted_code);\n",
       "                    break;\n",
       "                }\n",
       "            }\n",
       "        }, 500);\n",
       "        "
      ],
      "text/plain": [
       "<IPython.core.display.Javascript object>"
      ]
     },
     "metadata": {},
     "output_type": "display_data"
    }
   ],
   "source": [
    "add_married_column(resp2, 23)\n",
    "value_counts(resp2[\"married23\"])"
   ]
  },
  {
   "cell_type": "code",
   "execution_count": 37,
   "metadata": {},
   "outputs": [
    {
     "data": {
      "text/html": [
       "<div>\n",
       "<style scoped>\n",
       "    .dataframe tbody tr th:only-of-type {\n",
       "        vertical-align: middle;\n",
       "    }\n",
       "\n",
       "    .dataframe tbody tr th {\n",
       "        vertical-align: top;\n",
       "    }\n",
       "\n",
       "    .dataframe thead th {\n",
       "        text-align: right;\n",
       "    }\n",
       "</style>\n",
       "<table border=\"1\" class=\"dataframe\">\n",
       "  <thead>\n",
       "    <tr style=\"text-align: right;\">\n",
       "      <th></th>\n",
       "      <th>counts</th>\n",
       "    </tr>\n",
       "    <tr>\n",
       "      <th>values</th>\n",
       "      <th></th>\n",
       "    </tr>\n",
       "  </thead>\n",
       "  <tbody>\n",
       "    <tr>\n",
       "      <th>0.0</th>\n",
       "      <td>6188</td>\n",
       "    </tr>\n",
       "    <tr>\n",
       "      <th>1.0</th>\n",
       "      <td>8426</td>\n",
       "    </tr>\n",
       "    <tr>\n",
       "      <th>NaN</th>\n",
       "      <td>24155</td>\n",
       "    </tr>\n",
       "  </tbody>\n",
       "</table>\n",
       "</div>"
      ],
      "text/plain": [
       "        counts\n",
       "values        \n",
       "0.0       6188\n",
       "1.0       8426\n",
       "NaN      24155"
      ]
     },
     "execution_count": 37,
     "metadata": {},
     "output_type": "execute_result"
    },
    {
     "data": {
      "application/javascript": [
       "\n",
       "        setTimeout(function() {\n",
       "            var nbb_cell_id = 37;\n",
       "            var nbb_formatted_code = \"add_married_column(resp2, 33)\\nvalue_counts(resp2[\\\"married33\\\"])\";\n",
       "            var nbb_cells = Jupyter.notebook.get_cells();\n",
       "            for (var i = 0; i < nbb_cells.length; ++i) {\n",
       "                if (nbb_cells[i].input_prompt_number == nbb_cell_id) {\n",
       "                    nbb_cells[i].set_text(nbb_formatted_code);\n",
       "                    break;\n",
       "                }\n",
       "            }\n",
       "        }, 500);\n",
       "        "
      ],
      "text/plain": [
       "<IPython.core.display.Javascript object>"
      ]
     },
     "metadata": {},
     "output_type": "display_data"
    }
   ],
   "source": [
    "add_married_column(resp2, 33)\n",
    "value_counts(resp2[\"married33\"])"
   ]
  },
  {
   "cell_type": "code",
   "execution_count": 38,
   "metadata": {},
   "outputs": [
    {
     "data": {
      "text/html": [
       "<div>\n",
       "<style scoped>\n",
       "    .dataframe tbody tr th:only-of-type {\n",
       "        vertical-align: middle;\n",
       "    }\n",
       "\n",
       "    .dataframe tbody tr th {\n",
       "        vertical-align: top;\n",
       "    }\n",
       "\n",
       "    .dataframe thead th {\n",
       "        text-align: right;\n",
       "    }\n",
       "</style>\n",
       "<table border=\"1\" class=\"dataframe\">\n",
       "  <thead>\n",
       "    <tr style=\"text-align: right;\">\n",
       "      <th></th>\n",
       "      <th>counts</th>\n",
       "    </tr>\n",
       "    <tr>\n",
       "      <th>values</th>\n",
       "      <th></th>\n",
       "    </tr>\n",
       "  </thead>\n",
       "  <tbody>\n",
       "    <tr>\n",
       "      <th>0.0</th>\n",
       "      <td>1032</td>\n",
       "    </tr>\n",
       "    <tr>\n",
       "      <th>1.0</th>\n",
       "      <td>2630</td>\n",
       "    </tr>\n",
       "    <tr>\n",
       "      <th>NaN</th>\n",
       "      <td>35107</td>\n",
       "    </tr>\n",
       "  </tbody>\n",
       "</table>\n",
       "</div>"
      ],
      "text/plain": [
       "        counts\n",
       "values        \n",
       "0.0       1032\n",
       "1.0       2630\n",
       "NaN      35107"
      ]
     },
     "execution_count": 38,
     "metadata": {},
     "output_type": "execute_result"
    },
    {
     "data": {
      "application/javascript": [
       "\n",
       "        setTimeout(function() {\n",
       "            var nbb_cell_id = 38;\n",
       "            var nbb_formatted_code = \"add_married_column(resp2, 43)\\nvalue_counts(resp2[\\\"married43\\\"])\";\n",
       "            var nbb_cells = Jupyter.notebook.get_cells();\n",
       "            for (var i = 0; i < nbb_cells.length; ++i) {\n",
       "                if (nbb_cells[i].input_prompt_number == nbb_cell_id) {\n",
       "                    nbb_cells[i].set_text(nbb_formatted_code);\n",
       "                    break;\n",
       "                }\n",
       "            }\n",
       "        }, 500);\n",
       "        "
      ],
      "text/plain": [
       "<IPython.core.display.Javascript object>"
      ]
     },
     "metadata": {},
     "output_type": "display_data"
    }
   ],
   "source": [
    "add_married_column(resp2, 43)\n",
    "value_counts(resp2[\"married43\"])"
   ]
  },
  {
   "cell_type": "markdown",
   "metadata": {},
   "source": [
    "## Percent married by education level"
   ]
  },
  {
   "cell_type": "code",
   "execution_count": 39,
   "metadata": {},
   "outputs": [
    {
     "data": {
      "text/plain": [
       "birth_index\n",
       "50     0.509317\n",
       "60     0.511914\n",
       "70     0.564968\n",
       "80     0.518885\n",
       "90     0.346049\n",
       "100    0.131521\n",
       "Name: anycoll, dtype: float64"
      ]
     },
     "execution_count": 39,
     "metadata": {},
     "output_type": "execute_result"
    },
    {
     "data": {
      "application/javascript": [
       "\n",
       "        setTimeout(function() {\n",
       "            var nbb_cell_id = 39;\n",
       "            var nbb_formatted_code = \"resp2.groupby(\\\"birth_index\\\")[\\\"anycoll\\\"].mean()\";\n",
       "            var nbb_cells = Jupyter.notebook.get_cells();\n",
       "            for (var i = 0; i < nbb_cells.length; ++i) {\n",
       "                if (nbb_cells[i].input_prompt_number == nbb_cell_id) {\n",
       "                    nbb_cells[i].set_text(nbb_formatted_code);\n",
       "                    break;\n",
       "                }\n",
       "            }\n",
       "        }, 500);\n",
       "        "
      ],
      "text/plain": [
       "<IPython.core.display.Javascript object>"
      ]
     },
     "metadata": {},
     "output_type": "display_data"
    }
   ],
   "source": [
    "resp2.groupby(\"birth_index\")[\"anycoll\"].mean()"
   ]
  },
  {
   "cell_type": "code",
   "execution_count": 40,
   "metadata": {},
   "outputs": [
    {
     "data": {
      "text/plain": [
       "birth_index\n",
       "50     0.695652\n",
       "60     0.694424\n",
       "70     0.611974\n",
       "80     0.317966\n",
       "90     0.087660\n",
       "100    0.006576\n",
       "Name: evrmarry, dtype: float64"
      ]
     },
     "execution_count": 40,
     "metadata": {},
     "output_type": "execute_result"
    },
    {
     "data": {
      "application/javascript": [
       "\n",
       "        setTimeout(function() {\n",
       "            var nbb_cell_id = 40;\n",
       "            var nbb_formatted_code = \"resp2.groupby(\\\"birth_index\\\")[\\\"evrmarry\\\"].mean()\";\n",
       "            var nbb_cells = Jupyter.notebook.get_cells();\n",
       "            for (var i = 0; i < nbb_cells.length; ++i) {\n",
       "                if (nbb_cells[i].input_prompt_number == nbb_cell_id) {\n",
       "                    nbb_cells[i].set_text(nbb_formatted_code);\n",
       "                    break;\n",
       "                }\n",
       "            }\n",
       "        }, 500);\n",
       "        "
      ],
      "text/plain": [
       "<IPython.core.display.Javascript object>"
      ]
     },
     "metadata": {},
     "output_type": "display_data"
    }
   ],
   "source": [
    "resp2.groupby(\"birth_index\")[\"evrmarry\"].mean()"
   ]
  },
  {
   "cell_type": "code",
   "execution_count": 41,
   "metadata": {},
   "outputs": [
    {
     "data": {
      "application/javascript": [
       "\n",
       "        setTimeout(function() {\n",
       "            var nbb_cell_id = 41;\n",
       "            var nbb_formatted_code = \"tables23 = [\\n    make_marriage_table(resample_by_cycle(resp2), \\\"married23\\\") for i in range(101)\\n]\";\n",
       "            var nbb_cells = Jupyter.notebook.get_cells();\n",
       "            for (var i = 0; i < nbb_cells.length; ++i) {\n",
       "                if (nbb_cells[i].input_prompt_number == nbb_cell_id) {\n",
       "                    nbb_cells[i].set_text(nbb_formatted_code);\n",
       "                    break;\n",
       "                }\n",
       "            }\n",
       "        }, 500);\n",
       "        "
      ],
      "text/plain": [
       "<IPython.core.display.Javascript object>"
      ]
     },
     "metadata": {},
     "output_type": "display_data"
    }
   ],
   "source": [
    "tables23 = [\n",
    "    make_marriage_table(resample_by_cycle(resp2), \"married23\") for i in range(101)\n",
    "]"
   ]
  },
  {
   "cell_type": "code",
   "execution_count": 42,
   "metadata": {},
   "outputs": [
    {
     "data": {
      "image/png": "[encoded data removed]",
      "text/plain": [
       "<Figure size 675x350 with 2 Axes>"
      ]
     },
     "metadata": {},
     "output_type": "display_data"
    },
    {
     "data": {
      "application/javascript": [
       "\n",
       "        setTimeout(function() {\n",
       "            var nbb_cell_id = 42;\n",
       "            var nbb_formatted_code = \"plot_marriage_tables(tables23)\\n\\ntitle = \\\"Men With No College Were More Likely To Marry Young \\u2014 Not Any More\\\"\\nsubtitle = \\\"Percent married at or before age 23, males grouped by decade of birth\\\"\\nadd_title(title, subtitle)\\n\\nsubtext = \\\"\\\"\\\"Source: NSFG 1982-2023, analysis by AIBM\\\"\\\"\\\"\\nadd_subtext(subtext)\\n\\nxlim = [1928, 2002]\\ndecorate(xlabel=\\\"Decade of birth\\\", ylabel=\\\"Percent\\\", xlim=xlim)\\ninset = add_logo()\\nsavefig(\\\"nsfg_marriage\\\", 2, inset)\";\n",
       "            var nbb_cells = Jupyter.notebook.get_cells();\n",
       "            for (var i = 0; i < nbb_cells.length; ++i) {\n",
       "                if (nbb_cells[i].input_prompt_number == nbb_cell_id) {\n",
       "                    nbb_cells[i].set_text(nbb_formatted_code);\n",
       "                    break;\n",
       "                }\n",
       "            }\n",
       "        }, 500);\n",
       "        "
      ],
      "text/plain": [
       "<IPython.core.display.Javascript object>"
      ]
     },
     "metadata": {},
     "output_type": "display_data"
    }
   ],
   "source": [
    "plot_marriage_tables(tables23)\n",
    "\n",
    "title = \"Men With No College Were More Likely To Marry Young — Not Any More\"\n",
    "subtitle = \"Percent married at or before age 23, males grouped by decade of birth\"\n",
    "add_title(title, subtitle)\n",
    "\n",
    "subtext = \"\"\"Source: NSFG 1982-2023, analysis by AIBM\"\"\"\n",
    "add_subtext(subtext)\n",
    "\n",
    "xlim = [1928, 2002]\n",
    "decorate(xlabel=\"Decade of birth\", ylabel=\"Percent\", xlim=xlim)\n",
    "inset = add_logo()\n",
    "savefig(\"nsfg_marriage\", 2, inset)"
   ]
  },
  {
   "cell_type": "code",
   "execution_count": 43,
   "metadata": {},
   "outputs": [
    {
     "data": {
      "application/javascript": [
       "\n",
       "        setTimeout(function() {\n",
       "            var nbb_cell_id = 43;\n",
       "            var nbb_formatted_code = \"tables33 = [\\n    make_marriage_table(resample_by_cycle(resp2), \\\"married33\\\") for i in range(101)\\n]\";\n",
       "            var nbb_cells = Jupyter.notebook.get_cells();\n",
       "            for (var i = 0; i < nbb_cells.length; ++i) {\n",
       "                if (nbb_cells[i].input_prompt_number == nbb_cell_id) {\n",
       "                    nbb_cells[i].set_text(nbb_formatted_code);\n",
       "                    break;\n",
       "                }\n",
       "            }\n",
       "        }, 500);\n",
       "        "
      ],
      "text/plain": [
       "<IPython.core.display.Javascript object>"
      ]
     },
     "metadata": {},
     "output_type": "display_data"
    }
   ],
   "source": [
    "tables33 = [\n",
    "    make_marriage_table(resample_by_cycle(resp2), \"married33\") for i in range(101)\n",
    "]"
   ]
  },
  {
   "cell_type": "code",
   "execution_count": 44,
   "metadata": {
    "scrolled": true
   },
   "outputs": [
    {
     "data": {
      "image/png": "[encoded data removed]",
      "text/plain": [
       "<Figure size 675x350 with 2 Axes>"
      ]
     },
     "metadata": {},
     "output_type": "display_data"
    },
    {
     "data": {
      "application/javascript": [
       "\n",
       "        setTimeout(function() {\n",
       "            var nbb_cell_id = 44;\n",
       "            var nbb_formatted_code = \"plot_marriage_tables(tables33)\\ntitle = \\\"Men With No College Were Less Likely To Marry Before Age 33 \\u2014 Not Any More\\\"\\nsubtitle = \\\"Percent married at or before age 33, males grouped by decade of birth\\\"\\nadd_title(title, subtitle)\\n\\nsubtext = \\\"\\\"\\\"Source: NSFG 1982-2023, analysis by AIBM\\\"\\\"\\\"\\nadd_subtext(subtext)\\n\\nylim = [35, 100]\\ndecorate(xlabel=\\\"Decade of birth\\\", ylabel=\\\"Percent\\\", xlim=xlim, ylim=ylim)\\ninset = add_logo()\\nsavefig(\\\"nsfg_marriage\\\", 4, inset)\";\n",
       "            var nbb_cells = Jupyter.notebook.get_cells();\n",
       "            for (var i = 0; i < nbb_cells.length; ++i) {\n",
       "                if (nbb_cells[i].input_prompt_number == nbb_cell_id) {\n",
       "                    nbb_cells[i].set_text(nbb_formatted_code);\n",
       "                    break;\n",
       "                }\n",
       "            }\n",
       "        }, 500);\n",
       "        "
      ],
      "text/plain": [
       "<IPython.core.display.Javascript object>"
      ]
     },
     "metadata": {},
     "output_type": "display_data"
    }
   ],
   "source": [
    "plot_marriage_tables(tables33)\n",
    "title = \"Men With No College Were Less Likely To Marry Before Age 33 — Not Any More\"\n",
    "subtitle = \"Percent married at or before age 33, males grouped by decade of birth\"\n",
    "add_title(title, subtitle)\n",
    "\n",
    "subtext = \"\"\"Source: NSFG 1982-2023, analysis by AIBM\"\"\"\n",
    "add_subtext(subtext)\n",
    "\n",
    "ylim = [35, 100]\n",
    "decorate(xlabel=\"Decade of birth\", ylabel=\"Percent\", xlim=xlim, ylim=ylim)\n",
    "inset = add_logo()\n",
    "savefig(\"nsfg_marriage\", 4, inset)"
   ]
  },
  {
   "cell_type": "code",
   "execution_count": 45,
   "metadata": {},
   "outputs": [
    {
     "data": {
      "application/javascript": [
       "\n",
       "        setTimeout(function() {\n",
       "            var nbb_cell_id = 45;\n",
       "            var nbb_formatted_code = \"tables43 = [\\n    make_marriage_table(resample_by_cycle(resp2), \\\"married43\\\") for i in range(101)\\n]\";\n",
       "            var nbb_cells = Jupyter.notebook.get_cells();\n",
       "            for (var i = 0; i < nbb_cells.length; ++i) {\n",
       "                if (nbb_cells[i].input_prompt_number == nbb_cell_id) {\n",
       "                    nbb_cells[i].set_text(nbb_formatted_code);\n",
       "                    break;\n",
       "                }\n",
       "            }\n",
       "        }, 500);\n",
       "        "
      ],
      "text/plain": [
       "<IPython.core.display.Javascript object>"
      ]
     },
     "metadata": {},
     "output_type": "display_data"
    }
   ],
   "source": [
    "tables43 = [\n",
    "    make_marriage_table(resample_by_cycle(resp2), \"married43\") for i in range(101)\n",
    "]"
   ]
  },
  {
   "cell_type": "code",
   "execution_count": 46,
   "metadata": {
    "scrolled": false
   },
   "outputs": [
    {
     "data": {
      "image/png": "[encoded data removed]",
      "text/plain": [
       "<Figure size 675x350 with 2 Axes>"
      ]
     },
     "metadata": {},
     "output_type": "display_data"
    },
    {
     "data": {
      "application/javascript": [
       "\n",
       "        setTimeout(function() {\n",
       "            var nbb_cell_id = 46;\n",
       "            var nbb_formatted_code = \"plot_marriage_tables(tables43)\\ntitle = \\\"College-Educated Men Are Now Much More Likely To Get Married By Age 43\\\"\\nsubtitle = \\\"Percent married at or before age 43, males grouped by decade of birth\\\"\\nadd_title(title, subtitle)\\n\\nsubtext = \\\"\\\"\\\"Source: NSFG 1982-2023, analysis by AIBM\\\"\\\"\\\"\\nadd_subtext(subtext)\\n\\ndecorate(xlabel=\\\"Decade of birth\\\", ylabel=\\\"Percent\\\", xlim=xlim, ylim=ylim)\\ninset = add_logo()\\nsavefig(\\\"nsfg_marriage\\\", 6, inset)\";\n",
       "            var nbb_cells = Jupyter.notebook.get_cells();\n",
       "            for (var i = 0; i < nbb_cells.length; ++i) {\n",
       "                if (nbb_cells[i].input_prompt_number == nbb_cell_id) {\n",
       "                    nbb_cells[i].set_text(nbb_formatted_code);\n",
       "                    break;\n",
       "                }\n",
       "            }\n",
       "        }, 500);\n",
       "        "
      ],
      "text/plain": [
       "<IPython.core.display.Javascript object>"
      ]
     },
     "metadata": {},
     "output_type": "display_data"
    }
   ],
   "source": [
    "plot_marriage_tables(tables43)\n",
    "title = \"College-Educated Men Are Now Much More Likely To Get Married By Age 43\"\n",
    "subtitle = \"Percent married at or before age 43, males grouped by decade of birth\"\n",
    "add_title(title, subtitle)\n",
    "\n",
    "subtext = \"\"\"Source: NSFG 1982-2023, analysis by AIBM\"\"\"\n",
    "add_subtext(subtext)\n",
    "\n",
    "decorate(xlabel=\"Decade of birth\", ylabel=\"Percent\", xlim=xlim, ylim=ylim)\n",
    "inset = add_logo()\n",
    "savefig(\"nsfg_marriage\", 6, inset)"
   ]
  },
  {
   "cell_type": "code",
   "execution_count": null,
   "metadata": {},
   "outputs": [],
   "source": []
  }
 ],
 "metadata": {
  "kernelspec": {
   "display_name": "Python 3 (ipykernel)",
   "language": "python",
   "name": "python3"
  },
  "language_info": {
   "codemirror_mode": {
    "name": "ipython",
    "version": 3
   },
   "file_extension": ".py",
   "mimetype": "text/x-python",
   "name": "python",
   "nbconvert_exporter": "python",
   "pygments_lexer": "ipython3",
   "version": "3.10.14"
  }
 },
 "nbformat": 4,
 "nbformat_minor": 4
}
