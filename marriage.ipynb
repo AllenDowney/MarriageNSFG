{
 "cells": [
  {
   "cell_type": "markdown",
   "metadata": {},
   "source": [
    "## Will Millennials Ever Get Married?\n",
    "\n",
    "This notebook contains analysis related to a paper on marriage patterns in the U.S., based on data from the National Survey of Family Growth (NSFG).\n",
    "\n",
    "It is based on Chapter 13 of Think Stats, 2nd Edition, by Allen Downey, available from [thinkstats2.com](http://thinkstats2.com)"
   ]
  },
  {
   "cell_type": "code",
   "execution_count": 1,
   "metadata": {},
   "outputs": [],
   "source": [
    "%matplotlib inline\n",
    "\n",
    "import pandas as pd\n",
    "import numpy as np\n",
    "import seaborn as sns\n",
    "\n",
    "import math\n",
    "\n",
    "import matplotlib.pyplot as plt\n",
    "from matplotlib import pylab\n",
    "\n",
    "from scipy.interpolate import interp1d\n",
    "from scipy.misc import derivative\n",
    "\n",
    "import thinkstats2\n",
    "import thinkplot\n",
    "from thinkstats2 import Cdf\n",
    "\n",
    "import survival\n",
    "import marriage"
   ]
  },
  {
   "cell_type": "code",
   "execution_count": 2,
   "metadata": {},
   "outputs": [
    {
     "name": "stdout",
     "output_type": "stream",
     "text": [
      "CPU times: user 176 ms, sys: 24 ms, total: 200 ms\n",
      "Wall time: 199 ms\n"
     ]
    },
    {
     "data": {
      "text/plain": [
       "(64042, 41)"
      ]
     },
     "execution_count": 2,
     "metadata": {},
     "output_type": "execute_result"
    }
   ],
   "source": [
    "%time df = pd.read_hdf('FemMarriageData.hdf', 'FemMarriageData')\n",
    "df.shape"
   ]
  },
  {
   "cell_type": "markdown",
   "metadata": {},
   "source": [
    "Make a table showing the number of respondents in each cycle:"
   ]
  },
  {
   "cell_type": "code",
   "execution_count": 3,
   "metadata": {},
   "outputs": [
    {
     "data": {
      "text/plain": [
       "3      7969\n",
       "4      8450\n",
       "5     10847\n",
       "6      7643\n",
       "7     12279\n",
       "8      5601\n",
       "9      5699\n",
       "10     5554\n",
       "Name: cycle, dtype: int64"
      ]
     },
     "execution_count": 3,
     "metadata": {},
     "output_type": "execute_result"
    }
   ],
   "source": [
    "df.cycle.value_counts().sort_index()"
   ]
  },
  {
   "cell_type": "code",
   "execution_count": 4,
   "metadata": {},
   "outputs": [],
   "source": [
    "def SummarizeCycle(df):\n",
    "    ages = df.age.min(), df.age.max()\n",
    "    ages= np.array(ages)\n",
    "    \n",
    "    intvws = df.cmintvw.min(), df.cmintvw.max()\n",
    "    intvws = np.array(intvws) / 12 + 1900\n",
    "    \n",
    "    births = df.cmbirth.min(), df.cmbirth.max()\n",
    "    births = np.array(births) / 12 + 1900\n",
    "\n",
    "    print('# & ', intvws.astype(int), '&', len(df), '&', births.astype(int), r'\\\\')"
   ]
  },
  {
   "cell_type": "code",
   "execution_count": 5,
   "metadata": {},
   "outputs": [
    {
     "name": "stdout",
     "output_type": "stream",
     "text": [
      "# &  [1982 1983] & 7969 & [1937 1968] \\\\\n",
      "# &  [1988 1988] & 8450 & [1943 1973] \\\\\n",
      "# &  [1995 1995] & 10847 & [1950 1980] \\\\\n",
      "# &  [2002 2003] & 7643 & [1957 1988] \\\\\n",
      "# &  [2006 2010] & 12279 & [1961 1995] \\\\\n",
      "# &  [2011 2013] & 5601 & [1966 1998] \\\\\n",
      "# &  [2013 2015] & 5699 & [1968 2000] \\\\\n",
      "# &  [2015 2017] & 5554 & [1966 2002] \\\\\n"
     ]
    }
   ],
   "source": [
    "for cycle, group in df.groupby('cycle'):\n",
    "    SummarizeCycle(group)"
   ]
  },
  {
   "cell_type": "markdown",
   "metadata": {},
   "source": [
    "Check for missing values in `agemarry`:"
   ]
  },
  {
   "cell_type": "code",
   "execution_count": 6,
   "metadata": {},
   "outputs": [
    {
     "name": "stdout",
     "output_type": "stream",
     "text": [
      "0\n",
      "22\n",
      "0\n",
      "37\n",
      "16\n",
      "17\n",
      "11\n",
      "0\n"
     ]
    }
   ],
   "source": [
    "def CheckAgeVars(df):\n",
    "    print(sum(df[df.evrmarry].agemarry.isnull()))\n",
    "    \n",
    "for cycle, group in df.groupby('cycle'):\n",
    "    CheckAgeVars(group)"
   ]
  },
  {
   "cell_type": "markdown",
   "metadata": {},
   "source": [
    "Generate a table with the number of respondents in each cohort:"
   ]
  },
  {
   "cell_type": "code",
   "execution_count": 7,
   "metadata": {},
   "outputs": [
    {
     "name": "stdout",
     "output_type": "stream",
     "text": [
      "30 & 325 & 42 -- 45 & 310 & 0 \\\\\n",
      "40 & 3608 & 32 -- 45 & 3287 & 9 \\\\\n",
      "50 & 10631 & 22 -- 45 & 8667 & 18 \\\\\n",
      "60 & 14951 & 15 -- 50 & 8813 & 33 \\\\\n",
      "70 & 15016 & 14 -- 47 & 8075 & 30 \\\\\n",
      "80 & 12397 & 14 -- 37 & 4208 & 13 \\\\\n",
      "90 & 6695 & 15 -- 27 & 517 & 0 \\\\\n",
      "100 & 419 & 15 -- 17 & 0 & 0 \\\\\n"
     ]
    }
   ],
   "source": [
    "marriage.DigitizeResp(df)\n",
    "grouped = df.groupby('birth_index')\n",
    "for name, group in iter(grouped):\n",
    "    print(name, '&', len(group), '&', int(group.age.min()), '--', int(group.age_index.max()),\n",
    "                '&', len(group[group.evrmarry]), '&', sum(group.missing), r'\\\\')"
   ]
  },
  {
   "cell_type": "code",
   "execution_count": 8,
   "metadata": {},
   "outputs": [],
   "source": [
    "def ComputeCutoffs(df):\n",
    "    grouped = df.groupby('birth_index')\n",
    "    cutoffs = {}\n",
    "    for name, group in sorted(grouped):\n",
    "        cutoffs[name] = int(group.age.max())\n",
    "    return cutoffs"
   ]
  },
  {
   "cell_type": "code",
   "execution_count": 9,
   "metadata": {},
   "outputs": [
    {
     "data": {
      "text/plain": [
       "{30: 45, 40: 45, 50: 45, 60: 50, 70: 47, 80: 37, 90: 27, 100: 17}"
      ]
     },
     "execution_count": 9,
     "metadata": {},
     "output_type": "execute_result"
    }
   ],
   "source": [
    "cutoffs = ComputeCutoffs(df)\n",
    "cutoffs"
   ]
  },
  {
   "cell_type": "markdown",
   "metadata": {},
   "source": [
    "Estimate the hazard function for the 80s cohort (curious to see what's going on during the \"marriage strike\")"
   ]
  },
  {
   "cell_type": "code",
   "execution_count": 10,
   "metadata": {},
   "outputs": [
    {
     "name": "stdout",
     "output_type": "stream",
     "text": [
      "10\t12384\t1\t0\t8.1e-05\n",
      "11\t12383\t1\t0\t8.1e-05\n",
      "12\t12382\t1\t0\t8.1e-05\n",
      "13\t12381\t10\t0\t0.00081\n",
      "14\t12371\t12\t14\t0.00097\n",
      "15\t12345\t40\t260\t0.0032\n",
      "16\t12045\t104\t242\t0.0086\n",
      "17\t11699\t152\t338\t0.013\n",
      "18\t11209\t345\t460\t0.031\n",
      "19\t10404\t436\t569\t0.042\n",
      "20\t9399\t440\t579\t0.047\n",
      "21\t8380\t426\t572\t0.051\n",
      "22\t7382\t452\t572\t0.061\n",
      "23\t6358\t383\t454\t0.06\n",
      "24\t5521\t370\t533\t0.067\n",
      "25\t4618\t317\t576\t0.069\n",
      "26\t3725\t233\t554\t0.063\n",
      "27\t2938\t167\t506\t0.057\n",
      "28\t2265\t128\t423\t0.057\n",
      "29\t1714\t76\t391\t0.044\n",
      "30\t1247\t44\t280\t0.035\n",
      "31\t923\t34\t261\t0.037\n",
      "32\t628\t10\t222\t0.016\n",
      "33\t396\t9\t144\t0.023\n",
      "34\t243\t2\t101\t0.0082\n",
      "35\t140\t1\t72\t0.0071\n",
      "36\t67\t1\t51\t0.015\n",
      "37\t15\t0\t15\t0\n"
     ]
    }
   ],
   "source": [
    "cohort = grouped.get_group(80)\n",
    "missing = (cohort.evrmarry & cohort.agemarry.isnull())\n",
    "cohort = cohort[~missing]\n",
    "complete = cohort[cohort.evrmarry].agemarry_index\n",
    "ongoing = cohort[~cohort.evrmarry].age_index\n",
    "hf = survival.EstimateHazardFunction(complete, ongoing, verbose=True)"
   ]
  },
  {
   "cell_type": "markdown",
   "metadata": {},
   "source": [
    "Run the same analysis for the 70s cohort (to extract $\\lambda(33)$)."
   ]
  },
  {
   "cell_type": "code",
   "execution_count": 11,
   "metadata": {},
   "outputs": [
    {
     "name": "stdout",
     "output_type": "stream",
     "text": [
      "10\t14986\t2\t0\t0.00013\n",
      "11\t14984\t1\t0\t6.7e-05\n",
      "12\t14983\t4\t0\t0.00027\n",
      "13\t14979\t11\t0\t0.00073\n",
      "14\t14968\t38\t3\t0.0025\n",
      "15\t14927\t81\t388\t0.0054\n",
      "16\t14458\t181\t518\t0.013\n",
      "17\t13759\t275\t540\t0.02\n",
      "18\t12944\t562\t340\t0.043\n",
      "19\t12042\t656\t268\t0.054\n",
      "20\t11118\t635\t242\t0.057\n",
      "21\t10241\t672\t220\t0.066\n",
      "22\t9349\t702\t264\t0.075\n",
      "23\t8383\t673\t347\t0.08\n",
      "24\t7363\t611\t345\t0.083\n",
      "25\t6407\t538\t205\t0.084\n",
      "26\t5664\t481\t149\t0.085\n",
      "27\t5034\t359\t164\t0.071\n",
      "28\t4511\t373\t198\t0.083\n",
      "29\t3940\t294\t215\t0.075\n",
      "30\t3431\t235\t315\t0.068\n",
      "31\t2881\t158\t278\t0.055\n",
      "32\t2445\t138\t212\t0.056\n",
      "33\t2095\t97\t155\t0.046\n",
      "34\t1843\t78\t173\t0.042\n",
      "35\t1592\t61\t216\t0.038\n",
      "36\t1315\t34\t203\t0.026\n",
      "37\t1078\t30\t186\t0.028\n",
      "38\t862\t19\t169\t0.022\n",
      "39\t674\t15\t142\t0.022\n",
      "40\t517\t11\t103\t0.021\n",
      "41\t403\t6\t104\t0.015\n",
      "42\t293\t8\t90\t0.027\n",
      "43\t195\t3\t77\t0.015\n",
      "44\t115\t2\t53\t0.017\n",
      "45\t60\t1\t28\t0.017\n",
      "46\t31\t0\t21\t0\n",
      "47\t10\t0\t10\t0\n"
     ]
    }
   ],
   "source": [
    "cohort = grouped.get_group(70)\n",
    "missing = (cohort.evrmarry & cohort.agemarry.isnull())\n",
    "cohort = cohort[~missing]\n",
    "complete = cohort[cohort.evrmarry].agemarry_index\n",
    "ongoing = cohort[~cohort.evrmarry].age_index\n",
    "hf = survival.EstimateHazardFunction(complete, ongoing, verbose=True)"
   ]
  },
  {
   "cell_type": "markdown",
   "metadata": {},
   "source": [
    "Use the 30s cohort to demonstrate the simple way to do survival analysis, by computing the survival function directly."
   ]
  },
  {
   "cell_type": "code",
   "execution_count": 12,
   "metadata": {},
   "outputs": [
    {
     "name": "stdout",
     "output_type": "stream",
     "text": [
      "[0.99384615 0.96923077 0.94769231 0.90153846 0.81846154 0.68615385\n",
      " 0.56       0.46461538 0.36307692 0.29538462 0.26153846 0.23384615\n",
      " 0.21230769 0.17538462 0.14769231 0.13230769 0.11076923 0.10153846\n",
      " 0.08923077 0.07692308 0.07384615 0.06461538 0.06153846 0.05846154\n",
      " 0.05538462 0.04923077 0.04615385 0.        ]\n"
     ]
    },
    {
     "data": {
      "image/png": "[encoded data removed]",
      "text/plain": [
       "<Figure size 432x288 with 1 Axes>"
      ]
     },
     "metadata": {
      "needs_background": "light"
     },
     "output_type": "display_data"
    }
   ],
   "source": [
    "cohort = grouped.get_group(30)\n",
    "sf = survival.MakeSurvivalFromSeq(cohort.agemarry_index.fillna(np.inf))\n",
    "ts, ss = sf.Render()\n",
    "print(ss)\n",
    "thinkplot.Plot(ts, ss)\n",
    "thinkplot.Config(xlim=[12, 42])"
   ]
  },
  {
   "cell_type": "markdown",
   "metadata": {},
   "source": [
    "Then use the SurvivalFunction to compute the HazardFunction:"
   ]
  },
  {
   "cell_type": "code",
   "execution_count": 13,
   "metadata": {},
   "outputs": [
    {
     "name": "stdout",
     "output_type": "stream",
     "text": [
      "[0.00615385 0.0247678  0.02222222 0.0487013  0.09215017 0.16165414\n",
      " 0.1838565  0.17032967 0.21854305 0.18644068 0.11458333 0.10588235\n",
      " 0.09210526 0.17391304 0.15789474 0.10416667 0.1627907  0.08333333\n",
      " 0.12121212 0.13793103 0.04       0.125      0.04761905 0.05\n",
      " 0.05263158 0.11111111 0.0625     1.        ]\n"
     ]
    },
    {
     "data": {
      "image/png": "[encoded data removed]",
      "text/plain": [
       "<Figure size 432x288 with 1 Axes>"
      ]
     },
     "metadata": {
      "needs_background": "light"
     },
     "output_type": "display_data"
    }
   ],
   "source": [
    "hf = sf.MakeHazardFunction()\n",
    "ts, lams = hf.Render()\n",
    "print(lams)\n",
    "thinkplot.Plot(ts, lams)\n",
    "thinkplot.Config(xlim=[12, 42])"
   ]
  },
  {
   "cell_type": "markdown",
   "metadata": {},
   "source": [
    "Make the first figure, showing sf and hf for the 30s cohort:"
   ]
  },
  {
   "cell_type": "code",
   "execution_count": 14,
   "metadata": {},
   "outputs": [],
   "source": [
    "options = dict(formats=['pdf', 'png'], clf=False)"
   ]
  },
  {
   "cell_type": "code",
   "execution_count": 15,
   "metadata": {},
   "outputs": [
    {
     "name": "stdout",
     "output_type": "stream",
     "text": [
      "Writing marriage1.pdf\n",
      "Writing marriage1.png\n"
     ]
    },
    {
     "data": {
      "image/png": "[encoded data removed]",
      "text/plain": [
       "<Figure size 432x288 with 2 Axes>"
      ]
     },
     "metadata": {
      "needs_background": "light"
     },
     "output_type": "display_data"
    }
   ],
   "source": [
    "thinkplot.PrePlot(2, rows=2)\n",
    "\n",
    "thinkplot.Plot(sf, label='survival')\n",
    "thinkplot.Config(xlim=[13, 41], ylim=[0, 1.05])\n",
    "plt.ylabel('Survival Function', fontsize=14)\n",
    "\n",
    "thinkplot.SubPlot(2)\n",
    "thinkplot.Plot(hf, label='hazard')\n",
    "thinkplot.Config(xlabel='age(years)', ylabel='Hazard function', xlim=[13, 41])\n",
    "plt.ylabel('Hazard Function', fontsize=14)\n",
    "plt.xlabel('Age (years)', fontsize=14)\n",
    "\n",
    "thinkplot.Save(root='marriage1', **options)"
   ]
  },
  {
   "cell_type": "code",
   "execution_count": 16,
   "metadata": {},
   "outputs": [
    {
     "name": "stdout",
     "output_type": "stream",
     "text": [
      "Writing marriage2.pdf\n",
      "Writing marriage2.png\n"
     ]
    },
    {
     "data": {
      "image/png": "[encoded data removed]",
      "text/plain": [
       "<Figure size 432x288 with 1 Axes>"
      ]
     },
     "metadata": {
      "needs_background": "light"
     },
     "output_type": "display_data"
    }
   ],
   "source": [
    "thinkplot.PrePlot(1)\n",
    "\n",
    "thinkplot.Plot(sf, label='30s')\n",
    "thinkplot.Config(xlim=[13, 41], ylim=[0, 1.05])\n",
    "plt.xlabel('Age (years)', fontsize=14)\n",
    "plt.ylabel('Survival function', fontsize=14)\n",
    "\n",
    "thinkplot.Save(root='marriage2', **options)"
   ]
  },
  {
   "cell_type": "code",
   "execution_count": 17,
   "metadata": {},
   "outputs": [
    {
     "name": "stdout",
     "output_type": "stream",
     "text": [
      "Writing marriage3.pdf\n",
      "Writing marriage3.png\n"
     ]
    },
    {
     "data": {
      "image/png": "[encoded data removed]",
      "text/plain": [
       "<Figure size 432x288 with 1 Axes>"
      ]
     },
     "metadata": {
      "needs_background": "light"
     },
     "output_type": "display_data"
    }
   ],
   "source": [
    "thinkplot.PrePlot(1)\n",
    "\n",
    "thinkplot.Plot(hf, label='30s')\n",
    "thinkplot.Config(xlim=[13, 41])\n",
    "plt.xlabel('Age (years)', fontsize=14)\n",
    "plt.ylabel('Hazard function', fontsize=14)\n",
    "\n",
    "thinkplot.Save(root='marriage3', **options)"
   ]
  },
  {
   "cell_type": "markdown",
   "metadata": {},
   "source": [
    "Make some pivot tables, just to see where the data are:"
   ]
  },
  {
   "cell_type": "code",
   "execution_count": 18,
   "metadata": {},
   "outputs": [
    {
     "data": {
      "text/html": [
       "<div>\n",
       "<style scoped>\n",
       "    .dataframe tbody tr th:only-of-type {\n",
       "        vertical-align: middle;\n",
       "    }\n",
       "\n",
       "    .dataframe tbody tr th {\n",
       "        vertical-align: top;\n",
       "    }\n",
       "\n",
       "    .dataframe thead th {\n",
       "        text-align: right;\n",
       "    }\n",
       "</style>\n",
       "<table border=\"1\" class=\"dataframe\">\n",
       "  <thead>\n",
       "    <tr style=\"text-align: right;\">\n",
       "      <th>age_index</th>\n",
       "      <th>14.0</th>\n",
       "      <th>15.0</th>\n",
       "      <th>16.0</th>\n",
       "      <th>17.0</th>\n",
       "      <th>18.0</th>\n",
       "      <th>19.0</th>\n",
       "      <th>20.0</th>\n",
       "      <th>21.0</th>\n",
       "      <th>22.0</th>\n",
       "      <th>23.0</th>\n",
       "      <th>...</th>\n",
       "      <th>41.0</th>\n",
       "      <th>42.0</th>\n",
       "      <th>43.0</th>\n",
       "      <th>44.0</th>\n",
       "      <th>45.0</th>\n",
       "      <th>46.0</th>\n",
       "      <th>47.0</th>\n",
       "      <th>48.0</th>\n",
       "      <th>49.0</th>\n",
       "      <th>50.0</th>\n",
       "    </tr>\n",
       "    <tr>\n",
       "      <th>birth_index</th>\n",
       "      <th></th>\n",
       "      <th></th>\n",
       "      <th></th>\n",
       "      <th></th>\n",
       "      <th></th>\n",
       "      <th></th>\n",
       "      <th></th>\n",
       "      <th></th>\n",
       "      <th></th>\n",
       "      <th></th>\n",
       "      <th></th>\n",
       "      <th></th>\n",
       "      <th></th>\n",
       "      <th></th>\n",
       "      <th></th>\n",
       "      <th></th>\n",
       "      <th></th>\n",
       "      <th></th>\n",
       "      <th></th>\n",
       "      <th></th>\n",
       "      <th></th>\n",
       "    </tr>\n",
       "  </thead>\n",
       "  <tbody>\n",
       "    <tr>\n",
       "      <th>30</th>\n",
       "      <td>0</td>\n",
       "      <td>0</td>\n",
       "      <td>0</td>\n",
       "      <td>0</td>\n",
       "      <td>0</td>\n",
       "      <td>0</td>\n",
       "      <td>0</td>\n",
       "      <td>0</td>\n",
       "      <td>0</td>\n",
       "      <td>0</td>\n",
       "      <td>...</td>\n",
       "      <td>0</td>\n",
       "      <td>19</td>\n",
       "      <td>146</td>\n",
       "      <td>148</td>\n",
       "      <td>12</td>\n",
       "      <td>0</td>\n",
       "      <td>0</td>\n",
       "      <td>0</td>\n",
       "      <td>0</td>\n",
       "      <td>0</td>\n",
       "    </tr>\n",
       "    <tr>\n",
       "      <th>40</th>\n",
       "      <td>0</td>\n",
       "      <td>0</td>\n",
       "      <td>0</td>\n",
       "      <td>0</td>\n",
       "      <td>0</td>\n",
       "      <td>0</td>\n",
       "      <td>0</td>\n",
       "      <td>0</td>\n",
       "      <td>0</td>\n",
       "      <td>0</td>\n",
       "      <td>...</td>\n",
       "      <td>414</td>\n",
       "      <td>384</td>\n",
       "      <td>194</td>\n",
       "      <td>198</td>\n",
       "      <td>25</td>\n",
       "      <td>0</td>\n",
       "      <td>0</td>\n",
       "      <td>0</td>\n",
       "      <td>0</td>\n",
       "      <td>0</td>\n",
       "    </tr>\n",
       "    <tr>\n",
       "      <th>50</th>\n",
       "      <td>0</td>\n",
       "      <td>0</td>\n",
       "      <td>0</td>\n",
       "      <td>0</td>\n",
       "      <td>0</td>\n",
       "      <td>0</td>\n",
       "      <td>0</td>\n",
       "      <td>0</td>\n",
       "      <td>42</td>\n",
       "      <td>301</td>\n",
       "      <td>...</td>\n",
       "      <td>371</td>\n",
       "      <td>482</td>\n",
       "      <td>633</td>\n",
       "      <td>533</td>\n",
       "      <td>38</td>\n",
       "      <td>0</td>\n",
       "      <td>0</td>\n",
       "      <td>0</td>\n",
       "      <td>0</td>\n",
       "      <td>0</td>\n",
       "    </tr>\n",
       "    <tr>\n",
       "      <th>60</th>\n",
       "      <td>0</td>\n",
       "      <td>269</td>\n",
       "      <td>300</td>\n",
       "      <td>370</td>\n",
       "      <td>665</td>\n",
       "      <td>722</td>\n",
       "      <td>609</td>\n",
       "      <td>513</td>\n",
       "      <td>520</td>\n",
       "      <td>242</td>\n",
       "      <td>...</td>\n",
       "      <td>562</td>\n",
       "      <td>537</td>\n",
       "      <td>512</td>\n",
       "      <td>517</td>\n",
       "      <td>33</td>\n",
       "      <td>18</td>\n",
       "      <td>83</td>\n",
       "      <td>153</td>\n",
       "      <td>137</td>\n",
       "      <td>2</td>\n",
       "    </tr>\n",
       "    <tr>\n",
       "      <th>70</th>\n",
       "      <td>3</td>\n",
       "      <td>389</td>\n",
       "      <td>523</td>\n",
       "      <td>549</td>\n",
       "      <td>362</td>\n",
       "      <td>293</td>\n",
       "      <td>283</td>\n",
       "      <td>285</td>\n",
       "      <td>365</td>\n",
       "      <td>572</td>\n",
       "      <td>...</td>\n",
       "      <td>430</td>\n",
       "      <td>363</td>\n",
       "      <td>332</td>\n",
       "      <td>241</td>\n",
       "      <td>129</td>\n",
       "      <td>116</td>\n",
       "      <td>38</td>\n",
       "      <td>0</td>\n",
       "      <td>0</td>\n",
       "      <td>0</td>\n",
       "    </tr>\n",
       "    <tr>\n",
       "      <th>80</th>\n",
       "      <td>14</td>\n",
       "      <td>260</td>\n",
       "      <td>242</td>\n",
       "      <td>340</td>\n",
       "      <td>483</td>\n",
       "      <td>589</td>\n",
       "      <td>658</td>\n",
       "      <td>683</td>\n",
       "      <td>705</td>\n",
       "      <td>602</td>\n",
       "      <td>...</td>\n",
       "      <td>0</td>\n",
       "      <td>0</td>\n",
       "      <td>0</td>\n",
       "      <td>0</td>\n",
       "      <td>0</td>\n",
       "      <td>0</td>\n",
       "      <td>0</td>\n",
       "      <td>0</td>\n",
       "      <td>0</td>\n",
       "      <td>0</td>\n",
       "    </tr>\n",
       "    <tr>\n",
       "      <th>90</th>\n",
       "      <td>0</td>\n",
       "      <td>749</td>\n",
       "      <td>829</td>\n",
       "      <td>895</td>\n",
       "      <td>888</td>\n",
       "      <td>737</td>\n",
       "      <td>452</td>\n",
       "      <td>514</td>\n",
       "      <td>465</td>\n",
       "      <td>392</td>\n",
       "      <td>...</td>\n",
       "      <td>0</td>\n",
       "      <td>0</td>\n",
       "      <td>0</td>\n",
       "      <td>0</td>\n",
       "      <td>0</td>\n",
       "      <td>0</td>\n",
       "      <td>0</td>\n",
       "      <td>0</td>\n",
       "      <td>0</td>\n",
       "      <td>0</td>\n",
       "    </tr>\n",
       "    <tr>\n",
       "      <th>100</th>\n",
       "      <td>0</td>\n",
       "      <td>181</td>\n",
       "      <td>171</td>\n",
       "      <td>67</td>\n",
       "      <td>0</td>\n",
       "      <td>0</td>\n",
       "      <td>0</td>\n",
       "      <td>0</td>\n",
       "      <td>0</td>\n",
       "      <td>0</td>\n",
       "      <td>...</td>\n",
       "      <td>0</td>\n",
       "      <td>0</td>\n",
       "      <td>0</td>\n",
       "      <td>0</td>\n",
       "      <td>0</td>\n",
       "      <td>0</td>\n",
       "      <td>0</td>\n",
       "      <td>0</td>\n",
       "      <td>0</td>\n",
       "      <td>0</td>\n",
       "    </tr>\n",
       "  </tbody>\n",
       "</table>\n",
       "<p>8 rows × 37 columns</p>\n",
       "</div>"
      ],
      "text/plain": [
       "age_index    14.0  15.0  16.0  17.0  18.0  19.0  20.0  21.0  22.0  23.0  ...   \\\n",
       "birth_index                                                              ...    \n",
       "30              0     0     0     0     0     0     0     0     0     0  ...    \n",
       "40              0     0     0     0     0     0     0     0     0     0  ...    \n",
       "50              0     0     0     0     0     0     0     0    42   301  ...    \n",
       "60              0   269   300   370   665   722   609   513   520   242  ...    \n",
       "70              3   389   523   549   362   293   283   285   365   572  ...    \n",
       "80             14   260   242   340   483   589   658   683   705   602  ...    \n",
       "90              0   749   829   895   888   737   452   514   465   392  ...    \n",
       "100             0   181   171    67     0     0     0     0     0     0  ...    \n",
       "\n",
       "age_index    41.0  42.0  43.0  44.0  45.0  46.0  47.0  48.0  49.0  50.0  \n",
       "birth_index                                                              \n",
       "30              0    19   146   148    12     0     0     0     0     0  \n",
       "40            414   384   194   198    25     0     0     0     0     0  \n",
       "50            371   482   633   533    38     0     0     0     0     0  \n",
       "60            562   537   512   517    33    18    83   153   137     2  \n",
       "70            430   363   332   241   129   116    38     0     0     0  \n",
       "80              0     0     0     0     0     0     0     0     0     0  \n",
       "90              0     0     0     0     0     0     0     0     0     0  \n",
       "100             0     0     0     0     0     0     0     0     0     0  \n",
       "\n",
       "[8 rows x 37 columns]"
      ]
     },
     "execution_count": 18,
     "metadata": {},
     "output_type": "execute_result"
    }
   ],
   "source": [
    "pt = df.pivot_table(index='birth_index', columns='age_index', values='age', aggfunc=len, fill_value=0)\n",
    "pt"
   ]
  },
  {
   "cell_type": "markdown",
   "metadata": {},
   "source": [
    "The following pivot table is not as helpful as it could be, since it doesn't show the number at risk."
   ]
  },
  {
   "cell_type": "code",
   "execution_count": 19,
   "metadata": {},
   "outputs": [
    {
     "data": {
      "text/html": [
       "<div>\n",
       "<style scoped>\n",
       "    .dataframe tbody tr th:only-of-type {\n",
       "        vertical-align: middle;\n",
       "    }\n",
       "\n",
       "    .dataframe tbody tr th {\n",
       "        vertical-align: top;\n",
       "    }\n",
       "\n",
       "    .dataframe thead th {\n",
       "        text-align: right;\n",
       "    }\n",
       "</style>\n",
       "<table border=\"1\" class=\"dataframe\">\n",
       "  <thead>\n",
       "    <tr style=\"text-align: right;\">\n",
       "      <th>agemarry_index</th>\n",
       "      <th>10.0</th>\n",
       "      <th>11.0</th>\n",
       "      <th>12.0</th>\n",
       "      <th>13.0</th>\n",
       "      <th>14.0</th>\n",
       "      <th>15.0</th>\n",
       "      <th>16.0</th>\n",
       "      <th>17.0</th>\n",
       "      <th>18.0</th>\n",
       "      <th>19.0</th>\n",
       "      <th>...</th>\n",
       "      <th>38.0</th>\n",
       "      <th>39.0</th>\n",
       "      <th>40.0</th>\n",
       "      <th>41.0</th>\n",
       "      <th>42.0</th>\n",
       "      <th>43.0</th>\n",
       "      <th>44.0</th>\n",
       "      <th>45.0</th>\n",
       "      <th>46.0</th>\n",
       "      <th>47.0</th>\n",
       "    </tr>\n",
       "    <tr>\n",
       "      <th>birth_index</th>\n",
       "      <th></th>\n",
       "      <th></th>\n",
       "      <th></th>\n",
       "      <th></th>\n",
       "      <th></th>\n",
       "      <th></th>\n",
       "      <th></th>\n",
       "      <th></th>\n",
       "      <th></th>\n",
       "      <th></th>\n",
       "      <th></th>\n",
       "      <th></th>\n",
       "      <th></th>\n",
       "      <th></th>\n",
       "      <th></th>\n",
       "      <th></th>\n",
       "      <th></th>\n",
       "      <th></th>\n",
       "      <th></th>\n",
       "      <th></th>\n",
       "      <th></th>\n",
       "    </tr>\n",
       "  </thead>\n",
       "  <tbody>\n",
       "    <tr>\n",
       "      <th>30</th>\n",
       "      <td>0</td>\n",
       "      <td>0</td>\n",
       "      <td>0</td>\n",
       "      <td>2</td>\n",
       "      <td>8</td>\n",
       "      <td>7</td>\n",
       "      <td>15</td>\n",
       "      <td>27</td>\n",
       "      <td>43</td>\n",
       "      <td>41</td>\n",
       "      <td>...</td>\n",
       "      <td>0</td>\n",
       "      <td>2</td>\n",
       "      <td>1</td>\n",
       "      <td>0</td>\n",
       "      <td>0</td>\n",
       "      <td>0</td>\n",
       "      <td>0</td>\n",
       "      <td>0</td>\n",
       "      <td>0</td>\n",
       "      <td>0</td>\n",
       "    </tr>\n",
       "    <tr>\n",
       "      <th>40</th>\n",
       "      <td>1</td>\n",
       "      <td>0</td>\n",
       "      <td>0</td>\n",
       "      <td>5</td>\n",
       "      <td>31</td>\n",
       "      <td>87</td>\n",
       "      <td>163</td>\n",
       "      <td>218</td>\n",
       "      <td>425</td>\n",
       "      <td>467</td>\n",
       "      <td>...</td>\n",
       "      <td>3</td>\n",
       "      <td>9</td>\n",
       "      <td>3</td>\n",
       "      <td>1</td>\n",
       "      <td>0</td>\n",
       "      <td>0</td>\n",
       "      <td>0</td>\n",
       "      <td>0</td>\n",
       "      <td>0</td>\n",
       "      <td>0</td>\n",
       "    </tr>\n",
       "    <tr>\n",
       "      <th>50</th>\n",
       "      <td>0</td>\n",
       "      <td>0</td>\n",
       "      <td>1</td>\n",
       "      <td>10</td>\n",
       "      <td>50</td>\n",
       "      <td>125</td>\n",
       "      <td>384</td>\n",
       "      <td>642</td>\n",
       "      <td>1111</td>\n",
       "      <td>1057</td>\n",
       "      <td>...</td>\n",
       "      <td>12</td>\n",
       "      <td>11</td>\n",
       "      <td>7</td>\n",
       "      <td>4</td>\n",
       "      <td>4</td>\n",
       "      <td>4</td>\n",
       "      <td>0</td>\n",
       "      <td>0</td>\n",
       "      <td>0</td>\n",
       "      <td>0</td>\n",
       "    </tr>\n",
       "    <tr>\n",
       "      <th>60</th>\n",
       "      <td>0</td>\n",
       "      <td>1</td>\n",
       "      <td>2</td>\n",
       "      <td>8</td>\n",
       "      <td>40</td>\n",
       "      <td>128</td>\n",
       "      <td>300</td>\n",
       "      <td>445</td>\n",
       "      <td>860</td>\n",
       "      <td>831</td>\n",
       "      <td>...</td>\n",
       "      <td>24</td>\n",
       "      <td>24</td>\n",
       "      <td>18</td>\n",
       "      <td>13</td>\n",
       "      <td>11</td>\n",
       "      <td>5</td>\n",
       "      <td>2</td>\n",
       "      <td>3</td>\n",
       "      <td>1</td>\n",
       "      <td>1</td>\n",
       "    </tr>\n",
       "    <tr>\n",
       "      <th>70</th>\n",
       "      <td>2</td>\n",
       "      <td>1</td>\n",
       "      <td>4</td>\n",
       "      <td>11</td>\n",
       "      <td>38</td>\n",
       "      <td>81</td>\n",
       "      <td>181</td>\n",
       "      <td>276</td>\n",
       "      <td>562</td>\n",
       "      <td>656</td>\n",
       "      <td>...</td>\n",
       "      <td>19</td>\n",
       "      <td>15</td>\n",
       "      <td>11</td>\n",
       "      <td>6</td>\n",
       "      <td>8</td>\n",
       "      <td>3</td>\n",
       "      <td>2</td>\n",
       "      <td>1</td>\n",
       "      <td>0</td>\n",
       "      <td>0</td>\n",
       "    </tr>\n",
       "    <tr>\n",
       "      <th>80</th>\n",
       "      <td>1</td>\n",
       "      <td>1</td>\n",
       "      <td>1</td>\n",
       "      <td>10</td>\n",
       "      <td>12</td>\n",
       "      <td>40</td>\n",
       "      <td>104</td>\n",
       "      <td>152</td>\n",
       "      <td>345</td>\n",
       "      <td>436</td>\n",
       "      <td>...</td>\n",
       "      <td>0</td>\n",
       "      <td>0</td>\n",
       "      <td>0</td>\n",
       "      <td>0</td>\n",
       "      <td>0</td>\n",
       "      <td>0</td>\n",
       "      <td>0</td>\n",
       "      <td>0</td>\n",
       "      <td>0</td>\n",
       "      <td>0</td>\n",
       "    </tr>\n",
       "    <tr>\n",
       "      <th>90</th>\n",
       "      <td>0</td>\n",
       "      <td>0</td>\n",
       "      <td>0</td>\n",
       "      <td>0</td>\n",
       "      <td>2</td>\n",
       "      <td>6</td>\n",
       "      <td>15</td>\n",
       "      <td>49</td>\n",
       "      <td>86</td>\n",
       "      <td>92</td>\n",
       "      <td>...</td>\n",
       "      <td>0</td>\n",
       "      <td>0</td>\n",
       "      <td>0</td>\n",
       "      <td>0</td>\n",
       "      <td>0</td>\n",
       "      <td>0</td>\n",
       "      <td>0</td>\n",
       "      <td>0</td>\n",
       "      <td>0</td>\n",
       "      <td>0</td>\n",
       "    </tr>\n",
       "  </tbody>\n",
       "</table>\n",
       "<p>7 rows × 38 columns</p>\n",
       "</div>"
      ],
      "text/plain": [
       "agemarry_index  10.0  11.0  12.0  13.0  14.0  15.0  16.0  17.0  18.0  19.0  \\\n",
       "birth_index                                                                  \n",
       "30                 0     0     0     2     8     7    15    27    43    41   \n",
       "40                 1     0     0     5    31    87   163   218   425   467   \n",
       "50                 0     0     1    10    50   125   384   642  1111  1057   \n",
       "60                 0     1     2     8    40   128   300   445   860   831   \n",
       "70                 2     1     4    11    38    81   181   276   562   656   \n",
       "80                 1     1     1    10    12    40   104   152   345   436   \n",
       "90                 0     0     0     0     2     6    15    49    86    92   \n",
       "\n",
       "agemarry_index  ...   38.0  39.0  40.0  41.0  42.0  43.0  44.0  45.0  46.0  \\\n",
       "birth_index     ...                                                          \n",
       "30              ...      0     2     1     0     0     0     0     0     0   \n",
       "40              ...      3     9     3     1     0     0     0     0     0   \n",
       "50              ...     12    11     7     4     4     4     0     0     0   \n",
       "60              ...     24    24    18    13    11     5     2     3     1   \n",
       "70              ...     19    15    11     6     8     3     2     1     0   \n",
       "80              ...      0     0     0     0     0     0     0     0     0   \n",
       "90              ...      0     0     0     0     0     0     0     0     0   \n",
       "\n",
       "agemarry_index  47.0  \n",
       "birth_index           \n",
       "30                 0  \n",
       "40                 0  \n",
       "50                 0  \n",
       "60                 1  \n",
       "70                 0  \n",
       "80                 0  \n",
       "90                 0  \n",
       "\n",
       "[7 rows x 38 columns]"
      ]
     },
     "execution_count": 19,
     "metadata": {},
     "output_type": "execute_result"
    }
   ],
   "source": [
    "df.pivot_table(index='birth_index', columns='agemarry_index', values='age', aggfunc=len, fill_value=0)"
   ]
  },
  {
   "cell_type": "markdown",
   "metadata": {},
   "source": [
    "Estimate the survival curve for each cohort:"
   ]
  },
  {
   "cell_type": "code",
   "execution_count": 20,
   "metadata": {},
   "outputs": [],
   "source": [
    "df['complete'] = df.evrmarry\n",
    "df['complete_var'] = df.agemarry_index\n",
    "df['ongoing_var'] = df.age_index\n",
    "df['complete_missing'] = df.complete & df.complete_var.isnull()\n",
    "df['ongoing_missing'] = ~df.complete & df.ongoing_var.isnull()"
   ]
  },
  {
   "cell_type": "code",
   "execution_count": 21,
   "metadata": {},
   "outputs": [
    {
     "name": "stdout",
     "output_type": "stream",
     "text": [
      "0 0\n",
      "22 0\n",
      "0 0\n",
      "37 0\n",
      "16 0\n",
      "17 0\n",
      "11 0\n",
      "0 0\n"
     ]
    }
   ],
   "source": [
    "# for some marriages, we don't have the date of marriage\n",
    "\n",
    "for cycle, group in df.groupby('cycle'):\n",
    "    print(sum(group.complete_missing), sum(group.ongoing_missing))"
   ]
  },
  {
   "cell_type": "code",
   "execution_count": 22,
   "metadata": {},
   "outputs": [],
   "source": [
    "resps = [group for cycle, group in df.groupby('cycle')]"
   ]
  },
  {
   "cell_type": "code",
   "execution_count": 23,
   "metadata": {},
   "outputs": [
    {
     "name": "stdout",
     "output_type": "stream",
     "text": [
      "CPU times: user 9.37 s, sys: 10.3 s, total: 19.7 s\n",
      "Wall time: 5.1 s\n"
     ]
    }
   ],
   "source": [
    "%time sf_map = marriage.EstimateSurvivalByCohort(resps, iters=31, cutoffs=cutoffs)\n",
    "del sf_map[30]\n",
    "del sf_map[100]"
   ]
  },
  {
   "cell_type": "markdown",
   "metadata": {},
   "source": [
    "Check a sample:"
   ]
  },
  {
   "cell_type": "code",
   "execution_count": 24,
   "metadata": {},
   "outputs": [
    {
     "name": "stdout",
     "output_type": "stream",
     "text": [
      "14.0    0.999839\n",
      "15.0    0.999354\n",
      "16.0    0.996094\n",
      "17.0    0.987206\n",
      "18.0    0.967973\n",
      "19.0    0.938156\n",
      "20.0    0.904584\n",
      "21.0    0.873456\n",
      "22.0    0.827823\n",
      "23.0    0.790639\n",
      "24.0    0.763971\n",
      "25.0    0.758291\n",
      "26.0    0.758291\n",
      "dtype: float64\n",
      "0.758290917913284\n"
     ]
    }
   ],
   "source": [
    "for sf in sf_map[90]:\n",
    "    print(sf.ss)\n",
    "    print(sf.Prob(34))\n",
    "    break"
   ]
  },
  {
   "cell_type": "code",
   "execution_count": 25,
   "metadata": {},
   "outputs": [
    {
     "name": "stdout",
     "output_type": "stream",
     "text": [
      "10.0    0.999916\n",
      "11.0    0.999832\n",
      "13.0    0.999413\n",
      "14.0    0.998323\n",
      "15.0    0.993955\n",
      "16.0    0.986298\n",
      "17.0    0.973974\n",
      "18.0    0.943730\n",
      "19.0    0.901592\n",
      "20.0    0.861724\n",
      "21.0    0.813009\n",
      "22.0    0.754887\n",
      "23.0    0.703596\n",
      "24.0    0.652827\n",
      "25.0    0.593152\n",
      "26.0    0.535425\n",
      "27.0    0.487718\n",
      "28.0    0.452957\n",
      "29.0    0.431060\n",
      "30.0    0.415618\n",
      "31.0    0.398546\n",
      "32.0    0.391058\n",
      "33.0    0.371505\n",
      "34.0    0.371505\n",
      "35.0    0.371505\n",
      "36.0    0.371505\n",
      "dtype: float64\n",
      "0.37150480771615874\n"
     ]
    }
   ],
   "source": [
    "for sf in sf_map[80]:\n",
    "    print(sf.ss)\n",
    "    print(sf.Prob(34))\n",
    "    break"
   ]
  },
  {
   "cell_type": "markdown",
   "metadata": {},
   "source": [
    "Make the figure showing estimated survival curves:"
   ]
  },
  {
   "cell_type": "code",
   "execution_count": 26,
   "metadata": {},
   "outputs": [],
   "source": [
    "def PlotSurvivalFunctions(root, sf_map, sf_map_pred=None, **options):\n",
    "\n",
    "    if sf_map_pred:\n",
    "        marriage.PlotSurvivalFunctions(sf_map_pred, predict_flag=True)\n",
    "    marriage.PlotSurvivalFunctions(sf_map)\n",
    "\n",
    "    thinkplot.Config(xlim=[13, 50], ylim=[0, 1.05])\n",
    "    thinkplot.Save(root=root, **options)"
   ]
  },
  {
   "cell_type": "code",
   "execution_count": 27,
   "metadata": {},
   "outputs": [
    {
     "name": "stdout",
     "output_type": "stream",
     "text": [
      "Writing marriage4.pdf\n",
      "Writing marriage4.png\n"
     ]
    },
    {
     "data": {
      "image/png": "[encoded data removed]",
      "text/plain": [
       "<Figure size 432x288 with 1 Axes>"
      ]
     },
     "metadata": {
      "needs_background": "light"
     },
     "output_type": "display_data"
    }
   ],
   "source": [
    "options_w = dict(formats=['pdf', 'png'], clf=False, title='Women in the U.S.', frameon=False)\n",
    "PlotSurvivalFunctions('marriage4', sf_map, None, **options_w)"
   ]
  },
  {
   "cell_type": "markdown",
   "metadata": {},
   "source": [
    "Make a table of marriage rates for each cohort at each age:"
   ]
  },
  {
   "cell_type": "code",
   "execution_count": 28,
   "metadata": {},
   "outputs": [],
   "source": [
    "def MakeTable(sf_map, ages):\n",
    "    t = []\n",
    "    for name, sf_seq in sorted(sf_map.items()):\n",
    "        ts, ss = marriage.MakeSurvivalCI(sf_seq, [50])\n",
    "        ss = ss[0]\n",
    "        vals = [np.interp(age, ts, ss, right=np.nan) for age in ages]\n",
    "        t.append((name, vals))\n",
    "    return t"
   ]
  },
  {
   "cell_type": "code",
   "execution_count": 29,
   "metadata": {},
   "outputs": [
    {
     "name": "stdout",
     "output_type": "stream",
     "text": [
      "40 & 24 & 9 & 7 \\\\\n",
      "50 & 36 & 14 & 10 \\\\\n",
      "60 & 52 & 19 & 12 \\\\\n",
      "70 & 61 & 24 & 18 \\\\\n",
      "80 & 70 & 36 & nan \\\\\n",
      "90 & 80 & nan & nan \\\\\n"
     ]
    }
   ],
   "source": [
    "def MakePercentageTable(sf_map, ages):\n",
    "    t = MakeTable(sf_map, ages)\n",
    "    for name, sf_seq in sorted(sf_map.items()):\n",
    "        ts, ss = marriage.MakeSurvivalCI(sf_seq, [50])\n",
    "        ss = ss[0]\n",
    "        vals = [np.interp(age, ts, ss, right=np.nan) for age in ages]\n",
    "        print(name, '&', ' & '.join('%0.0f' % (val*100) for val in vals), r'\\\\')\n",
    "        \n",
    "MakePercentageTable(sf_map, ages=[23, 33, 43])"
   ]
  },
  {
   "cell_type": "markdown",
   "metadata": {},
   "source": [
    "Generate projections:"
   ]
  },
  {
   "cell_type": "code",
   "execution_count": 30,
   "metadata": {},
   "outputs": [
    {
     "name": "stdout",
     "output_type": "stream",
     "text": [
      "CPU times: user 3.3 s, sys: 3.99 s, total: 7.29 s\n",
      "Wall time: 1.96 s\n"
     ]
    }
   ],
   "source": [
    "%time sf_map_pred = marriage.EstimateSurvivalByCohort(resps, iters=11, cutoffs=cutoffs, predict_flag=True)\n",
    "del sf_map_pred[30]\n",
    "del sf_map_pred[100]"
   ]
  },
  {
   "cell_type": "markdown",
   "metadata": {},
   "source": [
    "And make the figure showing projections:"
   ]
  },
  {
   "cell_type": "code",
   "execution_count": 31,
   "metadata": {},
   "outputs": [
    {
     "name": "stdout",
     "output_type": "stream",
     "text": [
      "Writing marriage5.pdf\n",
      "Writing marriage5.png\n"
     ]
    },
    {
     "data": {
      "image/png": "[encoded data removed]",
      "text/plain": [
       "<Figure size 432x288 with 1 Axes>"
      ]
     },
     "metadata": {
      "needs_background": "light"
     },
     "output_type": "display_data"
    }
   ],
   "source": [
    "PlotSurvivalFunctions('marriage5', sf_map, sf_map_pred, **options_w)"
   ]
  },
  {
   "cell_type": "markdown",
   "metadata": {},
   "source": [
    "Make the table again with the projections filled in."
   ]
  },
  {
   "cell_type": "code",
   "execution_count": 34,
   "metadata": {
    "scrolled": true
   },
   "outputs": [
    {
     "name": "stdout",
     "output_type": "stream",
     "text": [
      "40 & 7 & 9 & 25 \\\\\n",
      "50 & 10 & 14 & 36 \\\\\n",
      "60 & 12 & 19 & 52 \\\\\n",
      "70 & 18 & 24 & 61 \\\\\n",
      "80 & 30 & 36 & 70 \\\\\n",
      "90 & 43 & 52 & 80 \\\\\n"
     ]
    }
   ],
   "source": [
    "ages = [43, 33, 23]\n",
    "MakePercentageTable(sf_map_pred, ages)"
   ]
  },
  {
   "cell_type": "code",
   "execution_count": 35,
   "metadata": {
    "scrolled": true
   },
   "outputs": [],
   "source": [
    "def PlotFractions(sf_map, ages, label_flag=False, **options):\n",
    "    t = MakeTable(sf_map, ages)\n",
    "    cohorts, cols = zip(*t)\n",
    "    rows = zip(*cols)\n",
    "\n",
    "    thinkplot.PrePlot(3)\n",
    "    t = list(zip(ages, rows))\n",
    "    for age, row in reversed(t):\n",
    "        label = 'at age %d' % age if label_flag else ''\n",
    "        thinkplot.Plot(cohorts, row, label=label, **options)"
   ]
  },
  {
   "cell_type": "code",
   "execution_count": 36,
   "metadata": {},
   "outputs": [
    {
     "name": "stdout",
     "output_type": "stream",
     "text": [
      "Writing marriage6.pdf\n",
      "Writing marriage6.png\n"
     ]
    },
    {
     "data": {
      "image/png": "[encoded data removed]",
      "text/plain": [
       "<Figure size 432x288 with 1 Axes>"
      ]
     },
     "metadata": {
      "needs_background": "light"
     },
     "output_type": "display_data"
    }
   ],
   "source": [
    "PlotFractions(sf_map_pred, ages, color='gray', linestyle='dashed', linewidth=2)\n",
    "PlotFractions(sf_map, ages, label_flag=True, alpha=1)\n",
    "\n",
    "fontsize=12\n",
    "thinkplot.Text(36, 0.26, '24', fontsize=fontsize)\n",
    "thinkplot.Text(37, 0.13, '9', fontsize=fontsize)\n",
    "thinkplot.Text(37, 0.07, '7', fontsize=fontsize)\n",
    "\n",
    "thinkplot.Text(90, 0.85, '80', fontsize=fontsize)\n",
    "thinkplot.Text(90, 0.56, '51', fontsize=fontsize)\n",
    "thinkplot.Text(89.5, 0.47, '42', fontsize=fontsize)\n",
    "\n",
    "thinkplot.Text(80, 0.42, '35', fontsize=fontsize)\n",
    "thinkplot.Text(70, 0.18, '18', fontsize=fontsize)\n",
    "\n",
    "thinkplot.Config(xlim=[34, 97], ylim=[0, 1], legend=True, loc='upper left',\n",
    "                 xlabel='cohort (decade)', ylabel='Fraction unmarried', \n",
    "                 title='Women in the U.S.')\n",
    "\n",
    "thinkplot.Save(root='marriage6', **options)"
   ]
  },
  {
   "cell_type": "code",
   "execution_count": null,
   "metadata": {},
   "outputs": [],
   "source": [
    "stop"
   ]
  },
  {
   "cell_type": "markdown",
   "metadata": {},
   "source": [
    "## Marriage patterns for men"
   ]
  },
  {
   "cell_type": "code",
   "execution_count": null,
   "metadata": {},
   "outputs": [],
   "source": [
    "usecols = ['caseid', 'mardat01', 'cmdivw', 'cmbirth', 'cmintvw',\n",
    "               'evrmarry', 'wgt2013_2015',\n",
    "               'marend01', 'rmarital', 'fmarno', 'mar1diss']\n",
    "\n",
    "df = marriage.ReadResp('2013_2015_MaleSetup.dct',\n",
    "                  '2013_2015_MaleData.dat.gz',\n",
    "                  usecols=usecols)\n",
    "\n",
    "df['evrmarry'] = (df.evrmarry == 1)\n",
    "df['divorced'] = (df.marend01 == 1)\n",
    "df['divsep'] = (df.marend01 == 1) | (df.marend01 == 2)\n",
    "df['cmmarrhx'] = df.mardat01\n",
    "df['finalwgt'] = df.wgt2013_2015\n",
    "\n",
    "marriage.CleanResp(df)\n"
   ]
  },
  {
   "cell_type": "code",
   "execution_count": null,
   "metadata": {},
   "outputs": [],
   "source": [
    "df.agemarry.describe()"
   ]
  },
  {
   "cell_type": "code",
   "execution_count": null,
   "metadata": {},
   "outputs": [],
   "source": [
    "df.age.describe()"
   ]
  },
  {
   "cell_type": "code",
   "execution_count": null,
   "metadata": {},
   "outputs": [],
   "source": [
    "df.missing.describe()"
   ]
  },
  {
   "cell_type": "code",
   "execution_count": null,
   "metadata": {
    "scrolled": true
   },
   "outputs": [],
   "source": [
    "df.year.describe()"
   ]
  },
  {
   "cell_type": "code",
   "execution_count": null,
   "metadata": {},
   "outputs": [],
   "source": [
    "usecols = ['caseid', 'mardat01', 'cmintvw', 'ager', \n",
    "               'evrmarry', 'wgt2015_2017',\n",
    "               'marend01', 'rmarital', 'fmarno', 'mar1diss']\n",
    "\n",
    "df = marriage.ReadResp('2015_2017_MaleSetup.dct',\n",
    "                  '2015_2017_MaleData.dat.gz',\n",
    "                  usecols=usecols)\n",
    "\n",
    "# since cmbirth and cmmarrhx are no longer included,\n",
    "# we have to compute them based on other variables;\n",
    "# the result can be off by up to 12 months\n",
    "df['cmbirth'] = df.cmintvw - df.ager*12\n",
    "df['cmmarrhx'] = (df.mardat01-1900) * 12\n",
    "\n",
    "df['evrmarry'] = (df.evrmarry==1)\n",
    "df['divorced'] = (df.marend01==1)\n",
    "df['separated'] = (df.marend01==2)\n",
    "df['widowed'] = (df.marend01==3)\n",
    "df['stillma'] = (df.fmarno == 1) & (df.rmarital==1)\n",
    "\n",
    "df['finalwgt'] = df.wgt2015_2017\n",
    "df['cycle'] = 10\n",
    "\n",
    "# Instead of calling CleanResp, we have to customize\n",
    "#CleanResp(df)\n",
    "\n",
    "df['agemarry'] = (df.cmmarrhx - df.cmbirth) / 12.0\n",
    "df['age'] = (df.cmintvw - df.cmbirth) / 12.0\n",
    "\n",
    "# if married, we need agemarry; if not married, we need age\n",
    "df['missing'] = np.where(df.evrmarry,\n",
    "                             df.agemarry.isnull(),\n",
    "                             df.age.isnull())\n",
    "\n",
    "month0 = pd.to_datetime('1899-12-15')\n",
    "dates = [month0 + pd.DateOffset(months=cm)\n",
    "             for cm in df.cmbirth]\n",
    "df['year'] = (pd.DatetimeIndex(dates).year - 1900)\n",
    "\n",
    "marriage.DigitizeResp(df)"
   ]
  },
  {
   "cell_type": "code",
   "execution_count": null,
   "metadata": {},
   "outputs": [],
   "source": [
    "import marriage\n",
    "\n",
    "male2017 = marriage.ReadMaleResp2017()\n",
    "male2017.head()"
   ]
  },
  {
   "cell_type": "code",
   "execution_count": null,
   "metadata": {},
   "outputs": [],
   "source": [
    "male2017.agemarry.describe()"
   ]
  },
  {
   "cell_type": "code",
   "execution_count": null,
   "metadata": {},
   "outputs": [],
   "source": [
    "male2017.age.describe()"
   ]
  },
  {
   "cell_type": "code",
   "execution_count": null,
   "metadata": {},
   "outputs": [],
   "source": [
    "male2017.missing.describe()"
   ]
  },
  {
   "cell_type": "code",
   "execution_count": null,
   "metadata": {
    "scrolled": true
   },
   "outputs": [],
   "source": [
    "male2017.year.describe()"
   ]
  },
  {
   "cell_type": "code",
   "execution_count": null,
   "metadata": {},
   "outputs": [],
   "source": []
  },
  {
   "cell_type": "code",
   "execution_count": null,
   "metadata": {},
   "outputs": [],
   "source": []
  },
  {
   "cell_type": "code",
   "execution_count": null,
   "metadata": {
    "scrolled": true
   },
   "outputs": [],
   "source": [
    "male2002 = marriage.ReadMaleResp2002()\n",
    "male2002.head()"
   ]
  },
  {
   "cell_type": "code",
   "execution_count": null,
   "metadata": {},
   "outputs": [],
   "source": [
    "male2010 = marriage.ReadMaleResp2010()\n",
    "male2010.head()"
   ]
  },
  {
   "cell_type": "code",
   "execution_count": null,
   "metadata": {},
   "outputs": [],
   "source": [
    "male2013 = marriage.ReadMaleResp2013()\n",
    "male2013.head()"
   ]
  },
  {
   "cell_type": "code",
   "execution_count": null,
   "metadata": {},
   "outputs": [],
   "source": [
    "male2015 = marriage.ReadMaleResp2015()\n",
    "male2015.head()"
   ]
  },
  {
   "cell_type": "code",
   "execution_count": null,
   "metadata": {},
   "outputs": [],
   "source": [
    "import pandas as pd"
   ]
  },
  {
   "cell_type": "code",
   "execution_count": null,
   "metadata": {},
   "outputs": [],
   "source": [
    "males = [male2002, male2010, male2013, male2015, male2017]\n",
    "df2 = pd.concat(males, ignore_index=True, sort=False)\n",
    "len(df2)"
   ]
  },
  {
   "cell_type": "code",
   "execution_count": null,
   "metadata": {},
   "outputs": [],
   "source": [
    "sum(df2.missing)"
   ]
  },
  {
   "cell_type": "code",
   "execution_count": null,
   "metadata": {},
   "outputs": [],
   "source": [
    "marriage.DigitizeResp(df2)\n",
    "grouped = df2.groupby('birth_index')\n",
    "for name, group in iter(grouped):\n",
    "    print(name, '&', len(group), '&', int(group.age.min()), '--', int(group.age_index.max()),\n",
    "                '&', len(group[group.evrmarry]), '&', sum(group.missing), r'\\\\')"
   ]
  },
  {
   "cell_type": "code",
   "execution_count": null,
   "metadata": {},
   "outputs": [],
   "source": [
    "cutoffs2 = ComputeCutoffs(df2)\n",
    "cutoffs2"
   ]
  },
  {
   "cell_type": "code",
   "execution_count": null,
   "metadata": {},
   "outputs": [],
   "source": [
    "for df in males:\n",
    "    df['complete'] = df.evrmarry\n",
    "    df['complete_var'] = df.agemarry_index\n",
    "    df['ongoing_var'] = df.age_index\n",
    "    df['complete_missing'] = df.complete & df.complete_var.isnull()\n",
    "    df['ongoing_missing'] = ~df.complete & df.ongoing_var.isnull()\n",
    "    print(sum(df.complete_missing), sum(df.ongoing_missing))"
   ]
  },
  {
   "cell_type": "code",
   "execution_count": null,
   "metadata": {},
   "outputs": [],
   "source": [
    "%time sf_map_male = marriage.EstimateSurvivalByCohort(males, iters=21, cutoffs=cutoffs2)\n",
    "del sf_map_male[100]"
   ]
  },
  {
   "cell_type": "code",
   "execution_count": null,
   "metadata": {},
   "outputs": [],
   "source": [
    "options_m = dict(formats=['pdf', 'png'], clf=False, title='Men in the U.S.')\n",
    "PlotSurvivalFunctions('marriage7', sf_map_male, None, **options_m)"
   ]
  },
  {
   "cell_type": "code",
   "execution_count": null,
   "metadata": {},
   "outputs": [],
   "source": [
    "%time sf_map_male_pred = marriage.EstimateSurvivalByCohort(males, iters=11, cutoffs=cutoffs2, predict_flag=True)\n",
    "del sf_map_male_pred[100]"
   ]
  },
  {
   "cell_type": "code",
   "execution_count": null,
   "metadata": {},
   "outputs": [],
   "source": [
    "PlotSurvivalFunctions('marriage8', sf_map_male, sf_map_male_pred, **options_m)"
   ]
  },
  {
   "cell_type": "code",
   "execution_count": null,
   "metadata": {},
   "outputs": [],
   "source": [
    "MakePercentageTable(sf_map_male)"
   ]
  },
  {
   "cell_type": "code",
   "execution_count": null,
   "metadata": {},
   "outputs": [],
   "source": [
    "MakePercentageTable(sf_map_male_pred)"
   ]
  },
  {
   "cell_type": "code",
   "execution_count": null,
   "metadata": {},
   "outputs": [],
   "source": [
    "ages = [43, 33, 23]\n",
    "PlotFractions(sf_map_male_pred, ages=ages, color='gray', linestyle='dashed', linewidth=2)\n",
    "PlotFractions(sf_map_male, ages=ages, label_flag=True, alpha=1)\n",
    "\n",
    "fontsize=12\n",
    "thinkplot.Text(46, 0.69, '68', fontsize=fontsize)\n",
    "thinkplot.Text(46, 0.30, '26', fontsize=fontsize)\n",
    "thinkplot.Text(46, 0.20, '18', fontsize=fontsize)\n",
    "\n",
    "thinkplot.Text(70, 0.18, '19', fontsize=fontsize)\n",
    "\n",
    "thinkplot.Text(80, 0.43, '43', fontsize=fontsize)\n",
    "\n",
    "thinkplot.Text(90, 0.89, '86', fontsize=fontsize)\n",
    "thinkplot.Text(90, 0.56, '52', fontsize=fontsize)\n",
    "thinkplot.Text(90, 0.40, '38', fontsize=fontsize)\n",
    "\n",
    "thinkplot.Config(xlim=[34, 97], ylim=[0, 1], legend=True, loc='upper left',\n",
    "                 xlabel='cohort (decade)', ylabel='Fraction unmarried', \n",
    "                 title='Men in the U.S.')\n",
    "\n",
    "thinkplot.Save(root='marriage9', **options)"
   ]
  },
  {
   "cell_type": "code",
   "execution_count": null,
   "metadata": {},
   "outputs": [],
   "source": []
  },
  {
   "cell_type": "code",
   "execution_count": null,
   "metadata": {},
   "outputs": [],
   "source": []
  },
  {
   "cell_type": "code",
   "execution_count": null,
   "metadata": {},
   "outputs": [],
   "source": []
  }
 ],
 "metadata": {
  "kernelspec": {
   "display_name": "Python 3",
   "language": "python",
   "name": "python3"
  },
  "language_info": {
   "codemirror_mode": {
    "name": "ipython",
    "version": 3
   },
   "file_extension": ".py",
   "mimetype": "text/x-python",
   "name": "python",
   "nbconvert_exporter": "python",
   "pygments_lexer": "ipython3",
   "version": "3.6.7"
  }
 },
 "nbformat": 4,
 "nbformat_minor": 1
}
