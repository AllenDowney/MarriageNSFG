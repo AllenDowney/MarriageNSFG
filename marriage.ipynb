{
 "metadata": {
  "name": "",
  "signature": "sha256:d564c9b760c7af23cb436c4ead9f650a9eeecc00094f7d302fa667ab2f6e2dd5"
 },
 "nbformat": 3,
 "nbformat_minor": 0,
 "worksheets": [
  {
   "cells": [
    {
     "cell_type": "markdown",
     "metadata": {},
     "source": [
      "##Will Millennials Ever Get Married?\n",
      "\n",
      "This notebook contains analysis related to a paper on marriage patterns in the U.S., based on data from the National Survey of Family Growth (NSFG).\n",
      "\n",
      "It is based on Chapter 13 of Think Stats, 2nd Edition, by Allen Downey, available from [thinkstats2.com](http://thinkstats2.com)"
     ]
    },
    {
     "cell_type": "code",
     "collapsed": false,
     "input": [
      "from __future__ import print_function, division\n",
      "\n",
      "import marriage\n",
      "\n",
      "import thinkstats2\n",
      "import thinkplot\n",
      "\n",
      "import pandas as pd\n",
      "import numpy as np\n",
      "\n",
      "import math\n",
      "\n",
      "import matplotlib.pyplot as pyplot\n",
      "from matplotlib import pylab\n",
      "\n",
      "from scipy.interpolate import interp1d\n",
      "from scipy.misc import derivative\n",
      "\n",
      "%matplotlib inline"
     ],
     "language": "python",
     "metadata": {},
     "outputs": [],
     "prompt_number": 1
    },
    {
     "cell_type": "markdown",
     "metadata": {},
     "source": [
      "Load the data:"
     ]
    },
    {
     "cell_type": "code",
     "collapsed": false,
     "input": [
      "resp8 = marriage.ReadFemResp2013()\n",
      "marriage.Validate2013(resp8)\n",
      "\n",
      "resp7 = marriage.ReadFemResp2010()\n",
      "marriage.Validate2010(resp7)\n",
      "\n",
      "resp6 = marriage.ReadFemResp2002()\n",
      "marriage.Validate2002(resp6)\n",
      "\n",
      "resp5 = marriage.ReadFemResp1995()\n",
      "marriage.Validate1995(resp5)\n",
      "\n",
      "resp4 = marriage.ReadFemResp1988()\n",
      "marriage.Validate1988(resp4)\n",
      "\n",
      "resp3 = marriage.ReadFemResp1982()\n",
      "marriage.Validate1982(resp3)"
     ],
     "language": "python",
     "metadata": {},
     "outputs": [],
     "prompt_number": 2
    },
    {
     "cell_type": "markdown",
     "metadata": {},
     "source": [
      "Make a list of DataFrames, one for each cycle:"
     ]
    },
    {
     "cell_type": "code",
     "collapsed": false,
     "input": [
      "resps = [resp8, resp7, resp6, resp5, resp4, resp3]"
     ],
     "language": "python",
     "metadata": {},
     "outputs": [],
     "prompt_number": 3
    },
    {
     "cell_type": "markdown",
     "metadata": {},
     "source": [
      "Make a table showing the number of respondents in each cycle:"
     ]
    },
    {
     "cell_type": "code",
     "collapsed": false,
     "input": [
      "def SummarizeCycle(df):\n",
      "    ages = df.age.min(), df.age.max()\n",
      "    ages= np.array(ages)\n",
      "    \n",
      "    intvws = df.cmintvw.min(), df.cmintvw.max()\n",
      "    intvws = np.array(intvws) / 12 + 1900\n",
      "    \n",
      "    births = df.cmbirth.min(), df.cmbirth.max()\n",
      "    births = np.array(births) / 12 + 1900\n",
      "\n",
      "    print('# & ', intvws.astype(int), '&', len(df), '&', births.astype(int), r'\\\\')\n",
      "    \n",
      "for resp in reversed(resps):\n",
      "    SummarizeCycle(resp)"
     ],
     "language": "python",
     "metadata": {},
     "outputs": [
      {
       "output_type": "stream",
       "stream": "stdout",
       "text": [
        "# &  [1982 1983] & 7969 & [1937 1968] \\\\\n",
        "# &  [1988 1988] & 8450 & [1943 1973] \\\\\n",
        "# &  [1995 1995] & 10847 & [1950 1980] \\\\\n",
        "# &  [2002 2003] & 7643 & [1957 1988] \\\\\n",
        "# &  [2006 2010] & 12279 & [1961 1995] \\\\\n",
        "# &  [2011 2013] & 5601 & [1966 1998] \\\\\n"
       ]
      }
     ],
     "prompt_number": 4
    },
    {
     "cell_type": "markdown",
     "metadata": {},
     "source": [
      "Check for missing values in `agemarry`:"
     ]
    },
    {
     "cell_type": "code",
     "collapsed": false,
     "input": [
      "def CheckAgeVars(df):\n",
      "    print(sum(df[df.evrmarry].agemarry.isnull()))\n",
      "    \n",
      "for resp in resps:\n",
      "    CheckAgeVars(resp)"
     ],
     "language": "python",
     "metadata": {},
     "outputs": [
      {
       "output_type": "stream",
       "stream": "stdout",
       "text": [
        "17\n",
        "16\n",
        "37\n",
        "0\n",
        "0\n",
        "0"
       ]
      },
      {
       "output_type": "stream",
       "stream": "stdout",
       "text": [
        "\n"
       ]
      }
     ],
     "prompt_number": 5
    },
    {
     "cell_type": "markdown",
     "metadata": {},
     "source": [
      "Combine the DataFrames (but remember that this is not resampled properly):"
     ]
    },
    {
     "cell_type": "code",
     "collapsed": false,
     "input": [
      "df = pd.concat(resps, ignore_index=True)\n",
      "len(df)"
     ],
     "language": "python",
     "metadata": {},
     "outputs": [
      {
       "metadata": {},
       "output_type": "pyout",
       "prompt_number": 6,
       "text": [
        "52789"
       ]
      }
     ],
     "prompt_number": 6
    },
    {
     "cell_type": "markdown",
     "metadata": {},
     "source": [
      "Double check missing data:"
     ]
    },
    {
     "cell_type": "code",
     "collapsed": false,
     "input": [
      "df['missing'] = (df.evrmarry & df.agemarry.isnull())\n",
      "sum(df.missing)"
     ],
     "language": "python",
     "metadata": {},
     "outputs": [
      {
       "metadata": {},
       "output_type": "pyout",
       "prompt_number": 7,
       "text": [
        "70"
       ]
      }
     ],
     "prompt_number": 7
    },
    {
     "cell_type": "markdown",
     "metadata": {},
     "source": [
      "Test run the resampling process:"
     ]
    },
    {
     "cell_type": "code",
     "collapsed": false,
     "input": [
      "def ResampleRespsWeighted(resps):\n",
      "    samples = [thinkstats2.ResampleRowsWeighted(resp) \n",
      "                       for resp in resps]\n",
      "    sample = pd.concat(samples, ignore_index=True)\n",
      "    return sample\n",
      "\n",
      "sample = ResampleRespsWeighted(resps)"
     ],
     "language": "python",
     "metadata": {},
     "outputs": [],
     "prompt_number": 8
    },
    {
     "cell_type": "markdown",
     "metadata": {},
     "source": [
      "Generate a table with the number of respondents in each cohort (not resampled):"
     ]
    },
    {
     "cell_type": "code",
     "collapsed": false,
     "input": [
      "marriage.DigitizeResp(df)\n",
      "grouped = df.groupby('birth_index')\n",
      "for name, group in iter(grouped):\n",
      "    print(name, '&', len(group), '&', int(group.age.min()), '--', int(group.age_index.max()), '&', len(group[group.evrmarry]), '&', sum(group.missing), r'\\\\')"
     ],
     "language": "python",
     "metadata": {},
     "outputs": [
      {
       "output_type": "stream",
       "stream": "stdout",
       "text": [
        "30 & 325 & 42 -- 44 & 310 & 0 \\\\\n",
        "40 & 3608 & 32 -- 44 & 3275 & 0 \\\\\n",
        "50 & 10631 & 22 -- 44 & 8658 & 10 \\\\\n",
        "60"
       ]
      },
      {
       "output_type": "stream",
       "stream": "stdout",
       "text": [
        " & 14484 & 15 -- 44 & 8421 & 27 \\\\\n",
        "70 & 12083 & 14 -- 43 & 5908 & 25 \\\\\n",
        "80 & 8536 & 14 -- 33 & 2203 & 8 \\\\\n",
        "90"
       ]
      },
      {
       "output_type": "stream",
       "stream": "stdout",
       "text": [
        " & 3122 & 15 -- 23 & 93 & 0 \\\\\n"
       ]
      }
     ],
     "prompt_number": 9
    },
    {
     "cell_type": "markdown",
     "metadata": {},
     "source": [
      "Estimate the hazard function for the 80s cohort (curious to see what's going on during the \"marriage strike\")"
     ]
    },
    {
     "cell_type": "code",
     "collapsed": false,
     "input": [
      "cohort = grouped.get_group(80)\n",
      "missing = (cohort.evrmarry & cohort.agemarry.isnull())\n",
      "cohort = cohort[~missing]\n",
      "complete = cohort[cohort.evrmarry].agemarry_index\n",
      "ongoing = cohort[~cohort.evrmarry].age_index\n",
      "hf = marriage.EstimateHazard(complete, ongoing, verbose=True)"
     ],
     "language": "python",
     "metadata": {},
     "outputs": [
      {
       "output_type": "stream",
       "stream": "stdout",
       "text": [
        "14.0 8528 12 14 0.00140712945591\n",
        "15.0 8502 26 260 0.00305810397554\n",
        "16.0 8216 59 242 0.00718111002921\n",
        "17.0 7915 72 338 0.00909665192672\n",
        "18.0 7505 214 460 0.0285143237841\n",
        "19.0 6831 262 569 0.0383545600937\n",
        "20.0 6000 248 579 0.0413333333333\n",
        "21.0 5173 276 572 0.0533539532186\n",
        "22.0 4325 260 572 0.0601156069364\n",
        "23.0 3493 196 453 0.0561122244489\n",
        "24.0 2844 189 471 0.0664556962025\n",
        "25.0 2184 155 428 0.0709706959707\n",
        "26.0 1601 97 397 0.0605871330418\n",
        "27.0 1107 76 321 0.0686540198735\n",
        "28.0 710 28 227 0.0394366197183\n",
        "29.0 455 16 180 0.0351648351648\n",
        "30.0 259 9 95 0.034749034749\n",
        "31.0 155 0 92 0.0\n",
        "32.0 63 0 49 0.0\n",
        "33.0 14 0 14 0.0\n"
       ]
      }
     ],
     "prompt_number": 10
    },
    {
     "cell_type": "markdown",
     "metadata": {},
     "source": [
      "Run the same analysis for the 70s cohort (to extract $\\lambda(33)$)."
     ]
    },
    {
     "cell_type": "code",
     "collapsed": false,
     "input": [
      "cohort = grouped.get_group(70)\n",
      "missing = (cohort.evrmarry & cohort.agemarry.isnull())\n",
      "cohort = cohort[~missing]\n",
      "complete = cohort[cohort.evrmarry].agemarry_index\n",
      "ongoing = cohort[~cohort.evrmarry].age_index\n",
      "hf = marriage.EstimateHazard(complete, ongoing, verbose=True)"
     ],
     "language": "python",
     "metadata": {},
     "outputs": [
      {
       "output_type": "stream",
       "stream": "stdout",
       "text": [
        "14.0 12058 36 3 0.00298556974623\n",
        "15.0 12019 49 388 0.00407687827606\n",
        "16.0 11582 136 518 0.0117423588327\n",
        "17.0 10928 197 540 0.0180270863836\n",
        "18.0 10191 440 340 0.0431753507997\n",
        "19.0 9411 507 268 0.0538731271916\n",
        "20.0 8636 521 242 0.0603288559518\n",
        "21.0 7873 539 220 0.0684618315763\n",
        "22.0 7114 534 264 0.0750632555524\n",
        "23.0 6316 514 347 0.081380620646\n",
        "24.0 5455 468 345 0.0857928505958\n",
        "25.0 4642 407 205 0.0876777251185\n",
        "26.0 4030 358 149 0.0888337468983\n",
        "27.0 3523 257 164 0.0729491910304\n",
        "28.0 3102 265 198 0.0854287556415\n",
        "29.0 2639 195 215 0.0738916256158\n",
        "30.0 2229 151 315 0.0677433826828\n",
        "31.0 1763 97 278 0.0550198525241\n",
        "32.0 1388 75 212 0.0540345821326\n",
        "33.0 1101 52 155 0.047229791099\n",
        "34.0 894 35 152 0.0391498881432\n",
        "35.0 707 25 157 0.035360678925\n",
        "36.0 525 8 146 0.0152380952381\n",
        "37.0 371 7 102 0.0188679245283\n",
        "38.0 262 6 83 0.0229007633588\n",
        "39.0 173 2 65 0.0115606936416\n",
        "40.0 106 2 37 0.0188679245283\n",
        "41.0 67 0 32 0.0\n",
        "42.0 35 0 29 0.0\n",
        "43.0 6 0 6 0.0\n"
       ]
      }
     ],
     "prompt_number": 11
    },
    {
     "cell_type": "markdown",
     "metadata": {},
     "source": [
      "Use the 30s cohort to demonstrate the simple way to do survival analysis, by computing the survival function directly."
     ]
    },
    {
     "cell_type": "code",
     "collapsed": false,
     "input": [
      "cohort = grouped.get_group(30)\n",
      "sf = marriage.MakeSurvivalFunction(cohort.agemarry_index.fillna(np.inf))\n",
      "ts, ss = sf.Render()\n",
      "print(ss)\n",
      "thinkplot.Plot(ts, ss)"
     ],
     "language": "python",
     "metadata": {},
     "outputs": [
      {
       "output_type": "stream",
       "stream": "stdout",
       "text": [
        "[ 0.96923077  0.94769231  0.90153846  0.81846154  0.68615385  0.56\n",
        "  0.46461538  0.36307692  0.29538462  0.26153846  0.23384615  0.21230769\n",
        "  0.17538462  0.14769231  0.13230769  0.11076923  0.10153846  0.08923077\n",
        "  0.07692308  0.07384615  0.06461538  0.06153846  0.05846154  0.05538462\n",
        "  0.04923077  0.04615385  0.        ]\n"
       ]
      },
      {
       "metadata": {},
       "output_type": "display_data",
       "png": "[encoded data removed]",
       "text": [
        "<matplotlib.figure.Figure at 0x7f86fecea190>"
       ]
      }
     ],
     "prompt_number": 12
    },
    {
     "cell_type": "markdown",
     "metadata": {},
     "source": [
      "Then use the SurvivalFunction to compute the HazardFunction:"
     ]
    },
    {
     "cell_type": "code",
     "collapsed": false,
     "input": [
      "hf = sf.MakeHazardFunction()\n",
      "ts, lams = hf.Render()\n",
      "print(lams)\n",
      "thinkplot.Plot(ts, lams)"
     ],
     "language": "python",
     "metadata": {},
     "outputs": [
      {
       "output_type": "stream",
       "stream": "stdout",
       "text": [
        "[ 0.03076923  0.02222222  0.0487013   0.09215017  0.16165414  0.1838565\n",
        "  0.17032967  0.21854305  0.18644068  0.11458333  0.10588235  0.09210526\n",
        "  0.17391304  0.15789474  0.10416667  0.1627907   0.08333333  0.12121212\n",
        "  0.13793103  0.04        0.125       0.04761905  0.05        0.05263158\n",
        "  0.11111111  0.0625      1.        ]\n"
       ]
      },
      {
       "metadata": {},
       "output_type": "display_data",
       "png": "[encoded data removed]",
       "text": [
        "<matplotlib.figure.Figure at 0x7f86f46ef550>"
       ]
      }
     ],
     "prompt_number": 13
    },
    {
     "cell_type": "markdown",
     "metadata": {},
     "source": [
      "Make the first figure, showing sf and hf for the 30s cohort:"
     ]
    },
    {
     "cell_type": "code",
     "collapsed": false,
     "input": [
      "reload(thinkplot)\n",
      "thinkplot.PrePlot(2, rows=2)\n",
      "\n",
      "thinkplot.Plot(sf, label='survival')\n",
      "thinkplot.Config(xlim=[13, 41], ylim=[0, 1.05])\n",
      "pyplot.ylabel('$S(t)$', fontsize=16)\n",
      "\n",
      "thinkplot.SubPlot(2)\n",
      "thinkplot.Plot(hf, label='hazard')\n",
      "thinkplot.Config(xlim=[13, 41])\n",
      "pyplot.ylabel('$\\lambda(t)$', fontsize=16)\n",
      "\n",
      "thinkplot.Save(root='marriage1', formats=['eps', 'png'])"
     ],
     "language": "python",
     "metadata": {},
     "outputs": [
      {
       "output_type": "stream",
       "stream": "stdout",
       "text": [
        "Writing marriage1.eps\n",
        "Writing"
       ]
      },
      {
       "output_type": "stream",
       "stream": "stdout",
       "text": [
        " marriage1.png\n"
       ]
      },
      {
       "metadata": {},
       "output_type": "display_data",
       "text": [
        "<matplotlib.figure.Figure at 0x7f86c39bea90>"
       ]
      }
     ],
     "prompt_number": 14
    },
    {
     "cell_type": "markdown",
     "metadata": {},
     "source": [
      "Make some pivot tables, just to see where the data are:"
     ]
    },
    {
     "cell_type": "code",
     "collapsed": false,
     "input": [
      "pt = df.pivot_table(index='birth_index', columns='age_index', values='age', aggfunc=len, fill_value=0)\n",
      "pt"
     ],
     "language": "python",
     "metadata": {},
     "outputs": [
      {
       "html": [
        "<div style=\"max-height:1000px;max-width:1500px;overflow:auto;\">\n",
        "<table border=\"1\" class=\"dataframe\">\n",
        "  <thead>\n",
        "    <tr style=\"text-align: right;\">\n",
        "      <th>age_index</th>\n",
        "      <th>14.0</th>\n",
        "      <th>15.0</th>\n",
        "      <th>16.0</th>\n",
        "      <th>17.0</th>\n",
        "      <th>18.0</th>\n",
        "      <th>19.0</th>\n",
        "      <th>20.0</th>\n",
        "      <th>21.0</th>\n",
        "      <th>22.0</th>\n",
        "      <th>23.0</th>\n",
        "      <th>...</th>\n",
        "      <th>35.0</th>\n",
        "      <th>36.0</th>\n",
        "      <th>37.0</th>\n",
        "      <th>38.0</th>\n",
        "      <th>39.0</th>\n",
        "      <th>40.0</th>\n",
        "      <th>41.0</th>\n",
        "      <th>42.0</th>\n",
        "      <th>43.0</th>\n",
        "      <th>44.0</th>\n",
        "    </tr>\n",
        "    <tr>\n",
        "      <th>birth_index</th>\n",
        "      <th></th>\n",
        "      <th></th>\n",
        "      <th></th>\n",
        "      <th></th>\n",
        "      <th></th>\n",
        "      <th></th>\n",
        "      <th></th>\n",
        "      <th></th>\n",
        "      <th></th>\n",
        "      <th></th>\n",
        "      <th></th>\n",
        "      <th></th>\n",
        "      <th></th>\n",
        "      <th></th>\n",
        "      <th></th>\n",
        "      <th></th>\n",
        "      <th></th>\n",
        "      <th></th>\n",
        "      <th></th>\n",
        "      <th></th>\n",
        "      <th></th>\n",
        "    </tr>\n",
        "  </thead>\n",
        "  <tbody>\n",
        "    <tr>\n",
        "      <th>30</th>\n",
        "      <td>  0</td>\n",
        "      <td>   0</td>\n",
        "      <td>   0</td>\n",
        "      <td>   0</td>\n",
        "      <td>   0</td>\n",
        "      <td>   0</td>\n",
        "      <td>   0</td>\n",
        "      <td>   0</td>\n",
        "      <td>   0</td>\n",
        "      <td>   0</td>\n",
        "      <td>...</td>\n",
        "      <td>   0</td>\n",
        "      <td>   0</td>\n",
        "      <td>   0</td>\n",
        "      <td>   0</td>\n",
        "      <td>   0</td>\n",
        "      <td>   0</td>\n",
        "      <td>   0</td>\n",
        "      <td>  19</td>\n",
        "      <td> 146</td>\n",
        "      <td> 160</td>\n",
        "    </tr>\n",
        "    <tr>\n",
        "      <th>40</th>\n",
        "      <td>  0</td>\n",
        "      <td>   0</td>\n",
        "      <td>   0</td>\n",
        "      <td>   0</td>\n",
        "      <td>   0</td>\n",
        "      <td>   0</td>\n",
        "      <td>   0</td>\n",
        "      <td>   0</td>\n",
        "      <td>   0</td>\n",
        "      <td>   0</td>\n",
        "      <td>...</td>\n",
        "      <td> 236</td>\n",
        "      <td> 202</td>\n",
        "      <td> 163</td>\n",
        "      <td> 345</td>\n",
        "      <td> 452</td>\n",
        "      <td> 442</td>\n",
        "      <td> 414</td>\n",
        "      <td> 384</td>\n",
        "      <td> 194</td>\n",
        "      <td> 223</td>\n",
        "    </tr>\n",
        "    <tr>\n",
        "      <th>50</th>\n",
        "      <td>  0</td>\n",
        "      <td>   0</td>\n",
        "      <td>   0</td>\n",
        "      <td>   0</td>\n",
        "      <td>   0</td>\n",
        "      <td>   0</td>\n",
        "      <td>   0</td>\n",
        "      <td>   0</td>\n",
        "      <td>  42</td>\n",
        "      <td> 301</td>\n",
        "      <td>...</td>\n",
        "      <td> 575</td>\n",
        "      <td> 745</td>\n",
        "      <td> 768</td>\n",
        "      <td> 492</td>\n",
        "      <td> 427</td>\n",
        "      <td> 396</td>\n",
        "      <td> 371</td>\n",
        "      <td> 482</td>\n",
        "      <td> 633</td>\n",
        "      <td> 571</td>\n",
        "    </tr>\n",
        "    <tr>\n",
        "      <th>60</th>\n",
        "      <td>  0</td>\n",
        "      <td> 269</td>\n",
        "      <td> 300</td>\n",
        "      <td> 370</td>\n",
        "      <td> 665</td>\n",
        "      <td> 722</td>\n",
        "      <td> 609</td>\n",
        "      <td> 513</td>\n",
        "      <td> 520</td>\n",
        "      <td> 242</td>\n",
        "      <td>...</td>\n",
        "      <td> 373</td>\n",
        "      <td> 282</td>\n",
        "      <td> 359</td>\n",
        "      <td> 417</td>\n",
        "      <td> 466</td>\n",
        "      <td> 595</td>\n",
        "      <td> 562</td>\n",
        "      <td> 537</td>\n",
        "      <td> 511</td>\n",
        "      <td> 477</td>\n",
        "    </tr>\n",
        "    <tr>\n",
        "      <th>70</th>\n",
        "      <td>  3</td>\n",
        "      <td> 389</td>\n",
        "      <td> 523</td>\n",
        "      <td> 549</td>\n",
        "      <td> 362</td>\n",
        "      <td> 293</td>\n",
        "      <td> 283</td>\n",
        "      <td> 285</td>\n",
        "      <td> 365</td>\n",
        "      <td> 572</td>\n",
        "      <td>...</td>\n",
        "      <td> 538</td>\n",
        "      <td> 533</td>\n",
        "      <td> 427</td>\n",
        "      <td> 337</td>\n",
        "      <td> 269</td>\n",
        "      <td> 154</td>\n",
        "      <td> 144</td>\n",
        "      <td> 105</td>\n",
        "      <td>  26</td>\n",
        "      <td>   0</td>\n",
        "    </tr>\n",
        "    <tr>\n",
        "      <th>80</th>\n",
        "      <td> 14</td>\n",
        "      <td> 260</td>\n",
        "      <td> 242</td>\n",
        "      <td> 340</td>\n",
        "      <td> 483</td>\n",
        "      <td> 589</td>\n",
        "      <td> 658</td>\n",
        "      <td> 683</td>\n",
        "      <td> 705</td>\n",
        "      <td> 600</td>\n",
        "      <td>...</td>\n",
        "      <td>   0</td>\n",
        "      <td>   0</td>\n",
        "      <td>   0</td>\n",
        "      <td>   0</td>\n",
        "      <td>   0</td>\n",
        "      <td>   0</td>\n",
        "      <td>   0</td>\n",
        "      <td>   0</td>\n",
        "      <td>   0</td>\n",
        "      <td>   0</td>\n",
        "    </tr>\n",
        "    <tr>\n",
        "      <th>90</th>\n",
        "      <td>  0</td>\n",
        "      <td> 588</td>\n",
        "      <td> 618</td>\n",
        "      <td> 544</td>\n",
        "      <td> 467</td>\n",
        "      <td> 372</td>\n",
        "      <td> 192</td>\n",
        "      <td> 200</td>\n",
        "      <td> 115</td>\n",
        "      <td>  26</td>\n",
        "      <td>...</td>\n",
        "      <td>   0</td>\n",
        "      <td>   0</td>\n",
        "      <td>   0</td>\n",
        "      <td>   0</td>\n",
        "      <td>   0</td>\n",
        "      <td>   0</td>\n",
        "      <td>   0</td>\n",
        "      <td>   0</td>\n",
        "      <td>   0</td>\n",
        "      <td>   0</td>\n",
        "    </tr>\n",
        "  </tbody>\n",
        "</table>\n",
        "<p>7 rows \u00d7 31 columns</p>\n",
        "</div>"
       ],
       "metadata": {},
       "output_type": "pyout",
       "prompt_number": 15,
       "text": [
        "age_index    14   15   16   17   18   19   20   21   22   23 ...    35   36  \\\n",
        "birth_index                                                  ...              \n",
        "30            0    0    0    0    0    0    0    0    0    0 ...     0    0   \n",
        "40            0    0    0    0    0    0    0    0    0    0 ...   236  202   \n",
        "50            0    0    0    0    0    0    0    0   42  301 ...   575  745   \n",
        "60            0  269  300  370  665  722  609  513  520  242 ...   373  282   \n",
        "70            3  389  523  549  362  293  283  285  365  572 ...   538  533   \n",
        "80           14  260  242  340  483  589  658  683  705  600 ...     0    0   \n",
        "90            0  588  618  544  467  372  192  200  115   26 ...     0    0   \n",
        "\n",
        "age_index     37   38   39   40   41   42   43   44  \n",
        "birth_index                                          \n",
        "30             0    0    0    0    0   19  146  160  \n",
        "40           163  345  452  442  414  384  194  223  \n",
        "50           768  492  427  396  371  482  633  571  \n",
        "60           359  417  466  595  562  537  511  477  \n",
        "70           427  337  269  154  144  105   26    0  \n",
        "80             0    0    0    0    0    0    0    0  \n",
        "90             0    0    0    0    0    0    0    0  \n",
        "\n",
        "[7 rows x 31 columns]"
       ]
      }
     ],
     "prompt_number": 15
    },
    {
     "cell_type": "markdown",
     "metadata": {},
     "source": [
      "The following pivot table is not as helpful as it could be, since it doesn't show the number at risk."
     ]
    },
    {
     "cell_type": "code",
     "collapsed": false,
     "input": [
      "df.pivot_table(index='birth_index', columns='agemarry_index', values='age', aggfunc=len, fill_value=0)"
     ],
     "language": "python",
     "metadata": {},
     "outputs": [
      {
       "html": [
        "<div style=\"max-height:1000px;max-width:1500px;overflow:auto;\">\n",
        "<table border=\"1\" class=\"dataframe\">\n",
        "  <thead>\n",
        "    <tr style=\"text-align: right;\">\n",
        "      <th>agemarry_index</th>\n",
        "      <th>14.0</th>\n",
        "      <th>15.0</th>\n",
        "      <th>16.0</th>\n",
        "      <th>17.0</th>\n",
        "      <th>18.0</th>\n",
        "      <th>19.0</th>\n",
        "      <th>20.0</th>\n",
        "      <th>21.0</th>\n",
        "      <th>22.0</th>\n",
        "      <th>23.0</th>\n",
        "      <th>...</th>\n",
        "      <th>34.0</th>\n",
        "      <th>35.0</th>\n",
        "      <th>36.0</th>\n",
        "      <th>37.0</th>\n",
        "      <th>38.0</th>\n",
        "      <th>39.0</th>\n",
        "      <th>40.0</th>\n",
        "      <th>41.0</th>\n",
        "      <th>42.0</th>\n",
        "      <th>43.0</th>\n",
        "    </tr>\n",
        "    <tr>\n",
        "      <th>birth_index</th>\n",
        "      <th></th>\n",
        "      <th></th>\n",
        "      <th></th>\n",
        "      <th></th>\n",
        "      <th></th>\n",
        "      <th></th>\n",
        "      <th></th>\n",
        "      <th></th>\n",
        "      <th></th>\n",
        "      <th></th>\n",
        "      <th></th>\n",
        "      <th></th>\n",
        "      <th></th>\n",
        "      <th></th>\n",
        "      <th></th>\n",
        "      <th></th>\n",
        "      <th></th>\n",
        "      <th></th>\n",
        "      <th></th>\n",
        "      <th></th>\n",
        "      <th></th>\n",
        "    </tr>\n",
        "  </thead>\n",
        "  <tbody>\n",
        "    <tr>\n",
        "      <th>30</th>\n",
        "      <td> 10</td>\n",
        "      <td>   7</td>\n",
        "      <td>  15</td>\n",
        "      <td>  27</td>\n",
        "      <td>   43</td>\n",
        "      <td>   41</td>\n",
        "      <td>  31</td>\n",
        "      <td>  33</td>\n",
        "      <td>  22</td>\n",
        "      <td>  11</td>\n",
        "      <td>...</td>\n",
        "      <td>  3</td>\n",
        "      <td>  1</td>\n",
        "      <td>  1</td>\n",
        "      <td>  1</td>\n",
        "      <td>  0</td>\n",
        "      <td>  2</td>\n",
        "      <td>  1</td>\n",
        "      <td> 0</td>\n",
        "      <td> 0</td>\n",
        "      <td> 0</td>\n",
        "    </tr>\n",
        "    <tr>\n",
        "      <th>40</th>\n",
        "      <td> 37</td>\n",
        "      <td>  87</td>\n",
        "      <td> 163</td>\n",
        "      <td> 218</td>\n",
        "      <td>  425</td>\n",
        "      <td>  467</td>\n",
        "      <td> 402</td>\n",
        "      <td> 359</td>\n",
        "      <td> 276</td>\n",
        "      <td> 196</td>\n",
        "      <td>...</td>\n",
        "      <td> 15</td>\n",
        "      <td> 12</td>\n",
        "      <td>  5</td>\n",
        "      <td>  6</td>\n",
        "      <td>  3</td>\n",
        "      <td>  9</td>\n",
        "      <td>  1</td>\n",
        "      <td> 1</td>\n",
        "      <td> 0</td>\n",
        "      <td> 0</td>\n",
        "    </tr>\n",
        "    <tr>\n",
        "      <th>50</th>\n",
        "      <td> 61</td>\n",
        "      <td> 125</td>\n",
        "      <td> 384</td>\n",
        "      <td> 642</td>\n",
        "      <td> 1111</td>\n",
        "      <td> 1057</td>\n",
        "      <td> 932</td>\n",
        "      <td> 811</td>\n",
        "      <td> 745</td>\n",
        "      <td> 597</td>\n",
        "      <td>...</td>\n",
        "      <td> 50</td>\n",
        "      <td> 33</td>\n",
        "      <td> 27</td>\n",
        "      <td> 18</td>\n",
        "      <td> 12</td>\n",
        "      <td> 11</td>\n",
        "      <td>  7</td>\n",
        "      <td> 4</td>\n",
        "      <td> 4</td>\n",
        "      <td> 4</td>\n",
        "    </tr>\n",
        "    <tr>\n",
        "      <th>60</th>\n",
        "      <td> 43</td>\n",
        "      <td> 113</td>\n",
        "      <td> 288</td>\n",
        "      <td> 420</td>\n",
        "      <td>  818</td>\n",
        "      <td>  805</td>\n",
        "      <td> 788</td>\n",
        "      <td> 700</td>\n",
        "      <td> 710</td>\n",
        "      <td> 677</td>\n",
        "      <td>...</td>\n",
        "      <td> 62</td>\n",
        "      <td> 61</td>\n",
        "      <td> 31</td>\n",
        "      <td> 36</td>\n",
        "      <td> 21</td>\n",
        "      <td> 22</td>\n",
        "      <td> 14</td>\n",
        "      <td> 9</td>\n",
        "      <td> 7</td>\n",
        "      <td> 4</td>\n",
        "    </tr>\n",
        "    <tr>\n",
        "      <th>70</th>\n",
        "      <td> 36</td>\n",
        "      <td>  49</td>\n",
        "      <td> 136</td>\n",
        "      <td> 198</td>\n",
        "      <td>  440</td>\n",
        "      <td>  507</td>\n",
        "      <td> 521</td>\n",
        "      <td> 539</td>\n",
        "      <td> 534</td>\n",
        "      <td> 514</td>\n",
        "      <td>...</td>\n",
        "      <td> 35</td>\n",
        "      <td> 25</td>\n",
        "      <td>  8</td>\n",
        "      <td>  7</td>\n",
        "      <td>  6</td>\n",
        "      <td>  2</td>\n",
        "      <td>  2</td>\n",
        "      <td> 0</td>\n",
        "      <td> 0</td>\n",
        "      <td> 0</td>\n",
        "    </tr>\n",
        "    <tr>\n",
        "      <th>80</th>\n",
        "      <td> 12</td>\n",
        "      <td>  26</td>\n",
        "      <td>  59</td>\n",
        "      <td>  72</td>\n",
        "      <td>  214</td>\n",
        "      <td>  262</td>\n",
        "      <td> 248</td>\n",
        "      <td> 276</td>\n",
        "      <td> 260</td>\n",
        "      <td> 196</td>\n",
        "      <td>...</td>\n",
        "      <td>  0</td>\n",
        "      <td>  0</td>\n",
        "      <td>  0</td>\n",
        "      <td>  0</td>\n",
        "      <td>  0</td>\n",
        "      <td>  0</td>\n",
        "      <td>  0</td>\n",
        "      <td> 0</td>\n",
        "      <td> 0</td>\n",
        "      <td> 0</td>\n",
        "    </tr>\n",
        "    <tr>\n",
        "      <th>90</th>\n",
        "      <td>  0</td>\n",
        "      <td>   3</td>\n",
        "      <td>   7</td>\n",
        "      <td>   8</td>\n",
        "      <td>   19</td>\n",
        "      <td>   18</td>\n",
        "      <td>  23</td>\n",
        "      <td>  10</td>\n",
        "      <td>   6</td>\n",
        "      <td>   0</td>\n",
        "      <td>...</td>\n",
        "      <td>  0</td>\n",
        "      <td>  0</td>\n",
        "      <td>  0</td>\n",
        "      <td>  0</td>\n",
        "      <td>  0</td>\n",
        "      <td>  0</td>\n",
        "      <td>  0</td>\n",
        "      <td> 0</td>\n",
        "      <td> 0</td>\n",
        "      <td> 0</td>\n",
        "    </tr>\n",
        "  </tbody>\n",
        "</table>\n",
        "<p>7 rows \u00d7 30 columns</p>\n",
        "</div>"
       ],
       "metadata": {},
       "output_type": "pyout",
       "prompt_number": 16,
       "text": [
        "agemarry_index  14   15   16   17    18    19   20   21   22   23 ...  34  35  \\\n",
        "birth_index                                                       ...           \n",
        "30              10    7   15   27    43    41   31   33   22   11 ...   3   1   \n",
        "40              37   87  163  218   425   467  402  359  276  196 ...  15  12   \n",
        "50              61  125  384  642  1111  1057  932  811  745  597 ...  50  33   \n",
        "60              43  113  288  420   818   805  788  700  710  677 ...  62  61   \n",
        "70              36   49  136  198   440   507  521  539  534  514 ...  35  25   \n",
        "80              12   26   59   72   214   262  248  276  260  196 ...   0   0   \n",
        "90               0    3    7    8    19    18   23   10    6    0 ...   0   0   \n",
        "\n",
        "agemarry_index  36  37  38  39  40  41  42  43  \n",
        "birth_index                                     \n",
        "30               1   1   0   2   1   0   0   0  \n",
        "40               5   6   3   9   1   1   0   0  \n",
        "50              27  18  12  11   7   4   4   4  \n",
        "60              31  36  21  22  14   9   7   4  \n",
        "70               8   7   6   2   2   0   0   0  \n",
        "80               0   0   0   0   0   0   0   0  \n",
        "90               0   0   0   0   0   0   0   0  \n",
        "\n",
        "[7 rows x 30 columns]"
       ]
      }
     ],
     "prompt_number": 16
    },
    {
     "cell_type": "markdown",
     "metadata": {},
     "source": [
      "Check where each cohort gets cut off.  For several cohorts, we only see half of the last year; in that case I drop the fractional year because it underestimates the hazard rate (and also gives too much weight to the oldest few respondents)."
     ]
    },
    {
     "cell_type": "code",
     "collapsed": false,
     "input": [
      "df[(df.birth_index==90) & (df.age>23.5)]"
     ],
     "language": "python",
     "metadata": {},
     "outputs": [
      {
       "html": [
        "<div style=\"max-height:1000px;max-width:1500px;overflow:auto;\">\n",
        "<table border=\"1\" class=\"dataframe\">\n",
        "  <thead>\n",
        "    <tr style=\"text-align: right;\">\n",
        "      <th></th>\n",
        "      <th>age</th>\n",
        "      <th>ageint</th>\n",
        "      <th>agemarry</th>\n",
        "      <th>cmbirth</th>\n",
        "      <th>cmdivorcx</th>\n",
        "      <th>cmintvw</th>\n",
        "      <th>cmmarrhx</th>\n",
        "      <th>currentcm</th>\n",
        "      <th>decade</th>\n",
        "      <th>evrmarry</th>\n",
        "      <th>...</th>\n",
        "      <th>fmarital</th>\n",
        "      <th>mar2p</th>\n",
        "      <th>timesmar</th>\n",
        "      <th>wgt2011_2013</th>\n",
        "      <th>wgtq1q16</th>\n",
        "      <th>year</th>\n",
        "      <th>missing</th>\n",
        "      <th>age_index</th>\n",
        "      <th>agemarry_index</th>\n",
        "      <th>birth_index</th>\n",
        "    </tr>\n",
        "  </thead>\n",
        "  <tbody>\n",
        "  </tbody>\n",
        "</table>\n",
        "<p>0 rows \u00d7 23 columns</p>\n",
        "</div>"
       ],
       "metadata": {},
       "output_type": "pyout",
       "prompt_number": 17,
       "text": [
        "Empty DataFrame\n",
        "Columns: [age, ageint, agemarry, cmbirth, cmdivorcx, cmintvw, cmmarrhx, currentcm, decade, evrmarry, finalwgt, firstcm, fives, fmarital, mar2p, timesmar, wgt2011_2013, wgtq1q16, year, missing, age_index, agemarry_index, birth_index]\n",
        "Index: []\n",
        "\n",
        "[0 rows x 23 columns]"
       ]
      }
     ],
     "prompt_number": 17
    },
    {
     "cell_type": "markdown",
     "metadata": {},
     "source": []
    },
    {
     "cell_type": "code",
     "collapsed": false,
     "input": [
      "df[(df.birth_index==80) & (df.age>33.5)]"
     ],
     "language": "python",
     "metadata": {},
     "outputs": [
      {
       "html": [
        "<div style=\"max-height:1000px;max-width:1500px;overflow:auto;\">\n",
        "<table border=\"1\" class=\"dataframe\">\n",
        "  <thead>\n",
        "    <tr style=\"text-align: right;\">\n",
        "      <th></th>\n",
        "      <th>age</th>\n",
        "      <th>ageint</th>\n",
        "      <th>agemarry</th>\n",
        "      <th>cmbirth</th>\n",
        "      <th>cmdivorcx</th>\n",
        "      <th>cmintvw</th>\n",
        "      <th>cmmarrhx</th>\n",
        "      <th>currentcm</th>\n",
        "      <th>decade</th>\n",
        "      <th>evrmarry</th>\n",
        "      <th>...</th>\n",
        "      <th>fmarital</th>\n",
        "      <th>mar2p</th>\n",
        "      <th>timesmar</th>\n",
        "      <th>wgt2011_2013</th>\n",
        "      <th>wgtq1q16</th>\n",
        "      <th>year</th>\n",
        "      <th>missing</th>\n",
        "      <th>age_index</th>\n",
        "      <th>agemarry_index</th>\n",
        "      <th>birth_index</th>\n",
        "    </tr>\n",
        "  </thead>\n",
        "  <tbody>\n",
        "  </tbody>\n",
        "</table>\n",
        "<p>0 rows \u00d7 23 columns</p>\n",
        "</div>"
       ],
       "metadata": {},
       "output_type": "pyout",
       "prompt_number": 18,
       "text": [
        "Empty DataFrame\n",
        "Columns: [age, ageint, agemarry, cmbirth, cmdivorcx, cmintvw, cmmarrhx, currentcm, decade, evrmarry, finalwgt, firstcm, fives, fmarital, mar2p, timesmar, wgt2011_2013, wgtq1q16, year, missing, age_index, agemarry_index, birth_index]\n",
        "Index: []\n",
        "\n",
        "[0 rows x 23 columns]"
       ]
      }
     ],
     "prompt_number": 18
    },
    {
     "cell_type": "markdown",
     "metadata": {},
     "source": []
    },
    {
     "cell_type": "code",
     "collapsed": false,
     "input": [
      "df[(df.birth_index==70) & (df.age>43.6)]"
     ],
     "language": "python",
     "metadata": {},
     "outputs": [
      {
       "html": [
        "<div style=\"max-height:1000px;max-width:1500px;overflow:auto;\">\n",
        "<table border=\"1\" class=\"dataframe\">\n",
        "  <thead>\n",
        "    <tr style=\"text-align: right;\">\n",
        "      <th></th>\n",
        "      <th>age</th>\n",
        "      <th>ageint</th>\n",
        "      <th>agemarry</th>\n",
        "      <th>cmbirth</th>\n",
        "      <th>cmdivorcx</th>\n",
        "      <th>cmintvw</th>\n",
        "      <th>cmmarrhx</th>\n",
        "      <th>currentcm</th>\n",
        "      <th>decade</th>\n",
        "      <th>evrmarry</th>\n",
        "      <th>...</th>\n",
        "      <th>fmarital</th>\n",
        "      <th>mar2p</th>\n",
        "      <th>timesmar</th>\n",
        "      <th>wgt2011_2013</th>\n",
        "      <th>wgtq1q16</th>\n",
        "      <th>year</th>\n",
        "      <th>missing</th>\n",
        "      <th>age_index</th>\n",
        "      <th>agemarry_index</th>\n",
        "      <th>birth_index</th>\n",
        "    </tr>\n",
        "  </thead>\n",
        "  <tbody>\n",
        "  </tbody>\n",
        "</table>\n",
        "<p>0 rows \u00d7 23 columns</p>\n",
        "</div>"
       ],
       "metadata": {},
       "output_type": "pyout",
       "prompt_number": 19,
       "text": [
        "Empty DataFrame\n",
        "Columns: [age, ageint, agemarry, cmbirth, cmdivorcx, cmintvw, cmmarrhx, currentcm, decade, evrmarry, finalwgt, firstcm, fives, fmarital, mar2p, timesmar, wgt2011_2013, wgtq1q16, year, missing, age_index, agemarry_index, birth_index]\n",
        "Index: []\n",
        "\n",
        "[0 rows x 23 columns]"
       ]
      }
     ],
     "prompt_number": 19
    },
    {
     "cell_type": "markdown",
     "metadata": {},
     "source": []
    },
    {
     "cell_type": "code",
     "collapsed": false,
     "input": [
      "df[(df.birth_index==60) & (df.age>45.5)]"
     ],
     "language": "python",
     "metadata": {},
     "outputs": [
      {
       "html": [
        "<div style=\"max-height:1000px;max-width:1500px;overflow:auto;\">\n",
        "<table border=\"1\" class=\"dataframe\">\n",
        "  <thead>\n",
        "    <tr style=\"text-align: right;\">\n",
        "      <th></th>\n",
        "      <th>age</th>\n",
        "      <th>ageint</th>\n",
        "      <th>agemarry</th>\n",
        "      <th>cmbirth</th>\n",
        "      <th>cmdivorcx</th>\n",
        "      <th>cmintvw</th>\n",
        "      <th>cmmarrhx</th>\n",
        "      <th>currentcm</th>\n",
        "      <th>decade</th>\n",
        "      <th>evrmarry</th>\n",
        "      <th>...</th>\n",
        "      <th>fmarital</th>\n",
        "      <th>mar2p</th>\n",
        "      <th>timesmar</th>\n",
        "      <th>wgt2011_2013</th>\n",
        "      <th>wgtq1q16</th>\n",
        "      <th>year</th>\n",
        "      <th>missing</th>\n",
        "      <th>age_index</th>\n",
        "      <th>agemarry_index</th>\n",
        "      <th>birth_index</th>\n",
        "    </tr>\n",
        "  </thead>\n",
        "  <tbody>\n",
        "  </tbody>\n",
        "</table>\n",
        "<p>0 rows \u00d7 23 columns</p>\n",
        "</div>"
       ],
       "metadata": {},
       "output_type": "pyout",
       "prompt_number": 20,
       "text": [
        "Empty DataFrame\n",
        "Columns: [age, ageint, agemarry, cmbirth, cmdivorcx, cmintvw, cmmarrhx, currentcm, decade, evrmarry, finalwgt, firstcm, fives, fmarital, mar2p, timesmar, wgt2011_2013, wgtq1q16, year, missing, age_index, agemarry_index, birth_index]\n",
        "Index: []\n",
        "\n",
        "[0 rows x 23 columns]"
       ]
      }
     ],
     "prompt_number": 20
    },
    {
     "cell_type": "markdown",
     "metadata": {},
     "source": []
    },
    {
     "cell_type": "code",
     "collapsed": false,
     "input": [
      "df[(df.birth_index==50) & (df.age>45.5)]"
     ],
     "language": "python",
     "metadata": {},
     "outputs": [
      {
       "html": [
        "<div style=\"max-height:1000px;max-width:1500px;overflow:auto;\">\n",
        "<table border=\"1\" class=\"dataframe\">\n",
        "  <thead>\n",
        "    <tr style=\"text-align: right;\">\n",
        "      <th></th>\n",
        "      <th>age</th>\n",
        "      <th>ageint</th>\n",
        "      <th>agemarry</th>\n",
        "      <th>cmbirth</th>\n",
        "      <th>cmdivorcx</th>\n",
        "      <th>cmintvw</th>\n",
        "      <th>cmmarrhx</th>\n",
        "      <th>currentcm</th>\n",
        "      <th>decade</th>\n",
        "      <th>evrmarry</th>\n",
        "      <th>...</th>\n",
        "      <th>fmarital</th>\n",
        "      <th>mar2p</th>\n",
        "      <th>timesmar</th>\n",
        "      <th>wgt2011_2013</th>\n",
        "      <th>wgtq1q16</th>\n",
        "      <th>year</th>\n",
        "      <th>missing</th>\n",
        "      <th>age_index</th>\n",
        "      <th>agemarry_index</th>\n",
        "      <th>birth_index</th>\n",
        "    </tr>\n",
        "  </thead>\n",
        "  <tbody>\n",
        "  </tbody>\n",
        "</table>\n",
        "<p>0 rows \u00d7 23 columns</p>\n",
        "</div>"
       ],
       "metadata": {},
       "output_type": "pyout",
       "prompt_number": 21,
       "text": [
        "Empty DataFrame\n",
        "Columns: [age, ageint, agemarry, cmbirth, cmdivorcx, cmintvw, cmmarrhx, currentcm, decade, evrmarry, finalwgt, firstcm, fives, fmarital, mar2p, timesmar, wgt2011_2013, wgtq1q16, year, missing, age_index, agemarry_index, birth_index]\n",
        "Index: []\n",
        "\n",
        "[0 rows x 23 columns]"
       ]
      }
     ],
     "prompt_number": 21
    },
    {
     "cell_type": "markdown",
     "metadata": {},
     "source": []
    },
    {
     "cell_type": "code",
     "collapsed": false,
     "input": [
      "df[(df.birth_index==40) & (df.age>45.5)]"
     ],
     "language": "python",
     "metadata": {},
     "outputs": [
      {
       "html": [
        "<div style=\"max-height:1000px;max-width:1500px;overflow:auto;\">\n",
        "<table border=\"1\" class=\"dataframe\">\n",
        "  <thead>\n",
        "    <tr style=\"text-align: right;\">\n",
        "      <th></th>\n",
        "      <th>age</th>\n",
        "      <th>ageint</th>\n",
        "      <th>agemarry</th>\n",
        "      <th>cmbirth</th>\n",
        "      <th>cmdivorcx</th>\n",
        "      <th>cmintvw</th>\n",
        "      <th>cmmarrhx</th>\n",
        "      <th>currentcm</th>\n",
        "      <th>decade</th>\n",
        "      <th>evrmarry</th>\n",
        "      <th>...</th>\n",
        "      <th>fmarital</th>\n",
        "      <th>mar2p</th>\n",
        "      <th>timesmar</th>\n",
        "      <th>wgt2011_2013</th>\n",
        "      <th>wgtq1q16</th>\n",
        "      <th>year</th>\n",
        "      <th>missing</th>\n",
        "      <th>age_index</th>\n",
        "      <th>agemarry_index</th>\n",
        "      <th>birth_index</th>\n",
        "    </tr>\n",
        "  </thead>\n",
        "  <tbody>\n",
        "  </tbody>\n",
        "</table>\n",
        "<p>0 rows \u00d7 23 columns</p>\n",
        "</div>"
       ],
       "metadata": {},
       "output_type": "pyout",
       "prompt_number": 22,
       "text": [
        "Empty DataFrame\n",
        "Columns: [age, ageint, agemarry, cmbirth, cmdivorcx, cmintvw, cmmarrhx, currentcm, decade, evrmarry, finalwgt, firstcm, fives, fmarital, mar2p, timesmar, wgt2011_2013, wgtq1q16, year, missing, age_index, agemarry_index, birth_index]\n",
        "Index: []\n",
        "\n",
        "[0 rows x 23 columns]"
       ]
      }
     ],
     "prompt_number": 22
    },
    {
     "cell_type": "markdown",
     "metadata": {},
     "source": []
    },
    {
     "cell_type": "code",
     "collapsed": false,
     "input": [
      "df[(df.birth_index==30) & (df.age>45.5)]"
     ],
     "language": "python",
     "metadata": {},
     "outputs": [
      {
       "html": [
        "<div style=\"max-height:1000px;max-width:1500px;overflow:auto;\">\n",
        "<table border=\"1\" class=\"dataframe\">\n",
        "  <thead>\n",
        "    <tr style=\"text-align: right;\">\n",
        "      <th></th>\n",
        "      <th>age</th>\n",
        "      <th>ageint</th>\n",
        "      <th>agemarry</th>\n",
        "      <th>cmbirth</th>\n",
        "      <th>cmdivorcx</th>\n",
        "      <th>cmintvw</th>\n",
        "      <th>cmmarrhx</th>\n",
        "      <th>currentcm</th>\n",
        "      <th>decade</th>\n",
        "      <th>evrmarry</th>\n",
        "      <th>...</th>\n",
        "      <th>fmarital</th>\n",
        "      <th>mar2p</th>\n",
        "      <th>timesmar</th>\n",
        "      <th>wgt2011_2013</th>\n",
        "      <th>wgtq1q16</th>\n",
        "      <th>year</th>\n",
        "      <th>missing</th>\n",
        "      <th>age_index</th>\n",
        "      <th>agemarry_index</th>\n",
        "      <th>birth_index</th>\n",
        "    </tr>\n",
        "  </thead>\n",
        "  <tbody>\n",
        "  </tbody>\n",
        "</table>\n",
        "<p>0 rows \u00d7 23 columns</p>\n",
        "</div>"
       ],
       "metadata": {},
       "output_type": "pyout",
       "prompt_number": 23,
       "text": [
        "Empty DataFrame\n",
        "Columns: [age, ageint, agemarry, cmbirth, cmdivorcx, cmintvw, cmmarrhx, currentcm, decade, evrmarry, finalwgt, firstcm, fives, fmarital, mar2p, timesmar, wgt2011_2013, wgtq1q16, year, missing, age_index, agemarry_index, birth_index]\n",
        "Index: []\n",
        "\n",
        "[0 rows x 23 columns]"
       ]
      }
     ],
     "prompt_number": 23
    },
    {
     "cell_type": "markdown",
     "metadata": {},
     "source": [
      "Estimate the survival curve for each cohort:"
     ]
    },
    {
     "cell_type": "code",
     "collapsed": false,
     "input": [
      "sf_map = marriage.EstimateSurvivalByCohort(resps, iters=101)"
     ],
     "language": "python",
     "metadata": {},
     "outputs": [],
     "prompt_number": 24
    },
    {
     "cell_type": "markdown",
     "metadata": {},
     "source": [
      "Check a sample:"
     ]
    },
    {
     "cell_type": "code",
     "collapsed": false,
     "input": [
      "for sf in sf_map[90]:\n",
      "    print(sf.ts)\n",
      "    print(sf.ss)\n",
      "    print(sf.Prob(34))\n",
      "    break"
     ],
     "language": "python",
     "metadata": {},
     "outputs": [
      {
       "output_type": "stream",
       "stream": "stdout",
       "text": [
        "[ 14.  15.  16.  17.  18.  19.  20.  21.  22.]\n",
        "[ 0.99965229  0.99852656  0.99722696  0.99120638  0.98309383  0.96428863\n",
        "  0.9294539   0.89227575  0.851486  ]\n",
        "0.851485998565\n"
       ]
      }
     ],
     "prompt_number": 25
    },
    {
     "cell_type": "markdown",
     "metadata": {},
     "source": [
      "Select the cohort names to display:"
     ]
    },
    {
     "cell_type": "code",
     "collapsed": false,
     "input": [
      "year_indices = pt.index\n",
      "year_indices"
     ],
     "language": "python",
     "metadata": {},
     "outputs": [
      {
       "metadata": {},
       "output_type": "pyout",
       "prompt_number": 26,
       "text": [
        "Int64Index([30, 40, 50, 60, 70, 80, 90], dtype='int64')"
       ]
      }
     ],
     "prompt_number": 26
    },
    {
     "cell_type": "markdown",
     "metadata": {},
     "source": [
      "Make the figure showing estimated survival curves:"
     ]
    },
    {
     "cell_type": "code",
     "collapsed": false,
     "input": [
      "remap = {k:sf_map[k] for k in year_indices[1:]}\n",
      "marriage.PlotSurvivalFunctions(remap)\n",
      "\n",
      "thinkplot.Config(xlim=[13, 45], ylim=[0, 1.05], legend=False)\n",
      "pyplot.ylabel('$S(t)$', fontsize=14)\n",
      "pyplot.legend(fontsize=10)\n",
      "\n",
      "thinkplot.Save(root='marriage2', formats=['eps', 'png'])"
     ],
     "language": "python",
     "metadata": {},
     "outputs": [
      {
       "output_type": "stream",
       "stream": "stdout",
       "text": [
        "Writing marriage2.eps\n",
        "Writing"
       ]
      },
      {
       "output_type": "stream",
       "stream": "stdout",
       "text": [
        " marriage2.png\n"
       ]
      },
      {
       "metadata": {},
       "output_type": "display_data",
       "text": [
        "<matplotlib.figure.Figure at 0x7f86c385df50>"
       ]
      }
     ],
     "prompt_number": 27
    },
    {
     "cell_type": "markdown",
     "metadata": {},
     "source": [
      "Make a table of marriage rates for each cohort at each age:"
     ]
    },
    {
     "cell_type": "code",
     "collapsed": false,
     "input": [
      "%precision 2\n",
      "ages = [22, 32, 42]\n",
      "for name, sf_seq in sorted(remap.items()):\n",
      "    ts, ss = marriage.MakeSurvivalCI(sf_seq, [50])\n",
      "    ss = ss[0]\n",
      "    vals = [1-np.interp(age, ts, ss, right=np.nan) for age in ages]\n",
      "    print(name, '&', ' & '.join('%0.0f' % (val*100) for val in vals), r'\\\\')"
     ],
     "language": "python",
     "metadata": {},
     "outputs": [
      {
       "output_type": "stream",
       "stream": "stdout",
       "text": [
        "40 & 69 & 90 & 93 \\\\\n",
        "50 & 57 & 85 & 90 \\\\\n",
        "60 & 41 & 79 & 87 \\\\\n",
        "70 & 32 & 75 & 82 \\\\\n",
        "80 & 23 & 60 & nan \\\\\n",
        "90 & 14 & nan & nan \\\\\n"
       ]
      }
     ],
     "prompt_number": 28
    },
    {
     "cell_type": "markdown",
     "metadata": {},
     "source": [
      "Generate projections:"
     ]
    },
    {
     "cell_type": "code",
     "collapsed": false,
     "input": [
      "sf_map_pred = marriage.EstimateSurvivalByCohort(resps, iters=101, predict_flag=True)"
     ],
     "language": "python",
     "metadata": {},
     "outputs": [],
     "prompt_number": 29
    },
    {
     "cell_type": "markdown",
     "metadata": {},
     "source": [
      "And make the figure showing projections:"
     ]
    },
    {
     "cell_type": "code",
     "collapsed": false,
     "input": [
      "remap_pred = {k:sf_map_pred[k] for k in year_indices[1:]}\n",
      "marriage.PlotSurvivalFunctions(remap_pred, predict_flag=True)\n",
      "marriage.PlotSurvivalFunctions(remap)\n",
      "\n",
      "thinkplot.Config(xlim=[13, 45], ylim=[0, 1.05], legend=False)\n",
      "pyplot.ylabel('$S(t)$', fontsize=14)\n",
      "pyplot.legend(fontsize=10)\n",
      "\n",
      "thinkplot.Save(root='marriage3', formats=['eps', 'png'])"
     ],
     "language": "python",
     "metadata": {},
     "outputs": [
      {
       "output_type": "stream",
       "stream": "stdout",
       "text": [
        "Writing marriage3.eps\n",
        "Writing"
       ]
      },
      {
       "output_type": "stream",
       "stream": "stdout",
       "text": [
        " marriage3.png\n"
       ]
      },
      {
       "output_type": "stream",
       "stream": "stderr",
       "text": [
        "/home/downey/anaconda/lib/python2.7/site-packages/matplotlib/axes.py:4747: UserWarning: No labeled objects found. Use label='...' kwarg on individual plots.\n",
        "  warnings.warn(\"No labeled objects found. \"\n"
       ]
      },
      {
       "metadata": {},
       "output_type": "display_data",
       "text": [
        "<matplotlib.figure.Figure at 0x7f86c3b43810>"
       ]
      }
     ],
     "prompt_number": 30
    },
    {
     "cell_type": "markdown",
     "metadata": {},
     "source": [
      "Make the table again with the projections filled in."
     ]
    },
    {
     "cell_type": "code",
     "collapsed": false,
     "input": [
      "%precision 2\n",
      "ages = [22, 32, 42]\n",
      "for name, sf_seq in sorted(remap_pred.items()):\n",
      "    ts, ss = marriage.MakeSurvivalCI(sf_seq, [50])\n",
      "    ss = ss[0]\n",
      "    vals = [1-np.interp(age, ts, ss, right=np.nan) for age in ages]\n",
      "    print(name, '&', ' & '.join('%0.0f' % (val*100) for val in vals), r'\\\\')"
     ],
     "language": "python",
     "metadata": {},
     "outputs": [
      {
       "output_type": "stream",
       "stream": "stdout",
       "text": [
        "40 & 69 & 90 & 92 \\\\\n",
        "50 & 57 & 85 & 90 \\\\\n",
        "60 & 41 & 80 & 87 \\\\\n",
        "70 & 32 & 75 & 82 \\\\\n",
        "80 & 23 & 60 & 71 \\\\\n",
        "90 & 13 & 55 & 68 \\\\\n"
       ]
      }
     ],
     "prompt_number": 31
    },
    {
     "cell_type": "markdown",
     "metadata": {},
     "source": [
      "Run a single resampling run:"
     ]
    },
    {
     "cell_type": "code",
     "collapsed": false,
     "input": [
      "sf_map = marriage.EstimateSurvivalByCohort(resps, iters=1)"
     ],
     "language": "python",
     "metadata": {},
     "outputs": [],
     "prompt_number": 32
    },
    {
     "cell_type": "markdown",
     "metadata": {},
     "source": [
      "Print the hazard functions in table form:"
     ]
    },
    {
     "cell_type": "code",
     "collapsed": false,
     "input": [
      "def ComputeHazard(sf, dx=0.1, order=3):\n",
      "    ts, ss = sf.Render()\n",
      "    #thinkplot.Plot(ts, ss, color='gray', linewidth=10)\n",
      "    low = math.ceil(min(ts))\n",
      "    low = 15.0\n",
      "    high = math.floor(max(ts) - order*dx)\n",
      "    \n",
      "    func = interp1d(ts, ss, bounds_error=False, fill_value=1.0)\n",
      "    xs = np.arange(low, high+1)\n",
      "    ys = func(xs)\n",
      "    #thinkplot.Plot(xs, ys, color='red')\n",
      "    \n",
      "    hs = -derivative(func, xs, dx=dx) / ys\n",
      "\n",
      "    return marriage.HazardFunction(pd.Series(zip(xs, hs)))\n",
      "\n",
      "hf_map = {}\n",
      "for group, sf_list in sf_map.items():\n",
      "    assert len(sf_list) == 1\n",
      "    hf_map[group] = ComputeHazard(sf_list[0])\n",
      "\n",
      "    \n",
      "ages = np.arange(15, 45)\n",
      "for age in ages:\n",
      "    for group, hf in sorted(hf_map.items()):\n",
      "        ts, hs = hf.Render()\n",
      "        print(age, group, hf.Get(age))\n",
      "    "
     ],
     "language": "python",
     "metadata": {},
     "outputs": [
      {
       "output_type": "stream",
       "stream": "stdout",
       "text": [
        "15 30 (30.0, 0.10526315789473799)\n",
        "15 40 (30.0, 0.084928229665073143)\n",
        "15 50 (30.0, 0.07131367848655687)\n",
        "15 60 (30.0, 0.092034753654857707)\n",
        "15 70 (30.0, 0.089949200410799485)\n",
        "15 80 (30.0, 0.018666666666667001)\n",
        "15 90 nan\n",
        "16 30 (31.0, 0.057142857142857773)\n",
        "16 40 (31.0, 0.04982993197278987)\n",
        "16 50 (31.0, 0.07307758077580892)\n",
        "16 60 (31.0, 0.079626549754732004)\n",
        "16 70 (31.0, 0.087463844850628053)\n",
        "16 80 (31.0, 0.012295081967213147)\n",
        "16 90 nan\n",
        "17 30 (32.0, 0.018382352941176409)\n",
        "17 40 (32.0, 0.041898913556921116)\n",
        "17 50 (32.0, 0.062645712651077226)\n",
        "17 60 (32.0, 0.065660658915534145)\n",
        "17 70 (32.0, 0.071964646464647217)\n",
        "17 80 nan\n",
        "17 90 nan\n",
        "18 30 (33.0, 0.0074074074074073817)\n",
        "18 40 (33.0, 0.050252708846124282)\n",
        "18 50 (33.0, 0.05005969564132827)\n",
        "18 60 (33.0, 0.054829985213094887)\n",
        "18 70 (33.0, 0.062195953625824869)\n",
        "18 80 nan\n",
        "18 90 nan\n",
        "19 30 (34.0, 0.0074626865671650151)\n",
        "19 40 (34.0, 0.048690778029174743)\n",
        "19 50 (34.0, 0.044981028267881439)\n",
        "19 60 (34.0, 0.059401184995523854)\n",
        "19 70 (34.0, 0.052218728621797286)\n",
        "19 80 nan\n",
        "19 90 nan\n",
        "20 30 (35.0, 0.0075187969924811783)\n",
        "20 40 (35.0, 0.038657023524354031)\n",
        "20 50 (35.0, 0.034814907028577299)\n",
        "20 60 (35.0, 0.06721810265868805)\n",
        "20 70 (35.0, 0.034741553408657221)\n",
        "20 80 nan\n",
        "20 90 nan\n",
        "21 30 (36.0, 0.013888888888888843)\n",
        "21 40 (36.0, 0.0245392463386549)\n",
        "21 50 (36.0, 0.038298715712700493)\n",
        "21 60 (36.0, 0.068006554848661693)\n",
        "21 70 (36.0, 0.038596491228070358)\n",
        "21 80 nan\n",
        "21 90 nan\n",
        "22 30 (37.0, 0.02061855670103175)\n",
        "22 40 (37.0, 0.015395495593515532)\n",
        "22 50 (37.0, 0.040866778931612668)\n",
        "22 60 (37.0, 0.053125576461908901)\n",
        "22 70 (37.0, 0.045852446483180688)\n",
        "22 80 nan\n",
        "22 90 nan\n",
        "23 30 (38.0, 0.021052631578948211)\n",
        "23 40 (38.0, 0.027991452991452493)\n",
        "23 50 (38.0, 0.040729273650042051)\n",
        "23 60 (38.0, 0.041940910457404515)\n",
        "23 70 (38.0, 0.052679887631074389)\n",
        "23 80 nan\n",
        "23 90 nan\n",
        "24 30 (39.0, 0.026881720430107437)\n",
        "24 40 (39.0, 0.032036941432914363)\n",
        "24 50 (39.0, 0.028314267320359143)\n",
        "24 60 (39.0, 0.039647058823530222)\n",
        "24 70 (39.0, 0.047450859950860534)\n",
        "24 80 nan\n",
        "24 90 nan\n",
        "25 30 (40.0, 0.016666666666666607)\n",
        "25 40 (40.0, 0.0086956521739129603)\n",
        "25 50 (40.0, 0.017852216748768666)\n",
        "25 60 (40.0, 0.041089035510416941)\n",
        "25 70 (40.0, 0.037254901960784653)\n",
        "25 80 nan\n",
        "25 90 nan\n",
        "26 30 (41.0, -0.0)\n",
        "26 40 (41.0, -0.0)\n",
        "26 50 (41.0, 0.016147812231891063)\n",
        "26 60 (41.0, 0.036651307765280826)\n",
        "26 70 (41.0, 0.020408163265306308)\n",
        "26 80 nan\n",
        "26 90 nan\n",
        "27 30 (42.0, -0.0)\n",
        "27 40 (42.0, -0.0)\n",
        "27 50 (42.0, 0.015022397028296868)\n",
        "27 60 (42.0, 0.016456141379209629)\n",
        "27 70 nan\n",
        "27 80 nan\n",
        "27 90 nan\n",
        "28 30 (43.0, -0.0)\n",
        "28 40 (43.0, -0.0)\n",
        "28 50 (43.0, 0.024634009009009642)\n",
        "28 60 (43.0, 0.010624755189972541)\n",
        "28 70 nan\n",
        "28 80 nan\n",
        "28 90 nan\n",
        "29 30 nan\n",
        "29 40 nan\n",
        "29 50 nan\n",
        "29 60 nan\n",
        "29 70 nan\n",
        "29 80 nan\n",
        "29 90 nan\n",
        "30 30 nan\n",
        "30 40 nan\n",
        "30 50 nan\n",
        "30 60 nan\n",
        "30 70 nan\n",
        "30 80 nan\n",
        "30 90 nan\n",
        "31 30 nan\n",
        "31 40 nan\n",
        "31 50 nan\n",
        "31 60 nan\n",
        "31 70 nan\n",
        "31 80 nan\n",
        "31 90 nan\n",
        "32 30 nan\n",
        "32 40 nan\n",
        "32 50 nan\n",
        "32 60 nan\n",
        "32 70 nan\n",
        "32 80 nan\n",
        "32 90 nan\n",
        "33 30 nan\n",
        "33 40 nan\n",
        "33 50 nan\n",
        "33 60 nan\n",
        "33 70 nan\n",
        "33 80 nan\n",
        "33 90 nan\n",
        "34 30 nan\n",
        "34 40 nan\n",
        "34 50 nan\n",
        "34 60 nan\n",
        "34 70 nan\n",
        "34 80 nan\n",
        "34 90 nan\n",
        "35 30 nan\n",
        "35 40 nan\n",
        "35 50 nan\n",
        "35 60 nan\n",
        "35 70 nan\n",
        "35 80 nan\n",
        "35 90 nan\n",
        "36 30 nan\n",
        "36 40 nan\n",
        "36 50 nan\n",
        "36 60 nan\n",
        "36 70 nan\n",
        "36 80 nan\n",
        "36 90 nan\n",
        "37 30 nan\n",
        "37 40 nan\n",
        "37 50 nan\n",
        "37 60 nan\n",
        "37 70 nan\n",
        "37 80 nan\n",
        "37 90 nan\n",
        "38 30 nan\n",
        "38 40 nan\n",
        "38 50 nan\n",
        "38 60 nan\n",
        "38 70 nan\n",
        "38 80 nan\n",
        "38 90 nan\n",
        "39 30 nan\n",
        "39 40 nan\n",
        "39 50 nan\n",
        "39 60 nan\n",
        "39 70 nan\n",
        "39 80 nan\n",
        "39 90 nan\n",
        "40 30 nan\n",
        "40 40 nan\n",
        "40 50 nan\n",
        "40 60 nan\n",
        "40 70 nan\n",
        "40 80 nan\n",
        "40 90 nan\n",
        "41 30 nan\n",
        "41 40 nan\n",
        "41 50 nan\n",
        "41 60 nan\n",
        "41 70 nan\n",
        "41 80 nan\n",
        "41 90 nan\n",
        "42 30 nan\n",
        "42 40 nan\n",
        "42 50 nan\n",
        "42 60 nan\n",
        "42 70 nan\n",
        "42 80 nan\n",
        "42 90 nan\n",
        "43 30 nan\n",
        "43 40 nan\n",
        "43 50 nan\n",
        "43 60 nan\n",
        "43 70 nan\n",
        "43 80 nan\n",
        "43 90 nan\n",
        "44 30 nan\n",
        "44 40 nan\n",
        "44 50 nan\n",
        "44 60 nan\n",
        "44 70 nan\n",
        "44 80 nan\n",
        "44 90 nan\n"
       ]
      }
     ],
     "prompt_number": 36
    },
    {
     "cell_type": "markdown",
     "metadata": {},
     "source": []
    },
    {
     "cell_type": "markdown",
     "metadata": {},
     "source": []
    }
   ],
   "metadata": {}
  }
 ]
}