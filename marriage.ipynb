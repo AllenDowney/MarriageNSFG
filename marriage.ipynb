{
 "cells": [
  {
   "cell_type": "markdown",
   "metadata": {},
   "source": [
    "## Will Millennials Ever Get Married?\n",
    "\n",
    "This notebook contains analysis related to a paper on marriage patterns in the U.S., based on data from the National Survey of Family Growth (NSFG).\n",
    "\n",
    "It is based on Chapter 13 of Think Stats, 2nd Edition, by Allen Downey, available from [thinkstats2.com](http://thinkstats2.com)"
   ]
  },
  {
   "cell_type": "code",
   "execution_count": 1,
   "metadata": {
    "collapsed": false
   },
   "outputs": [],
   "source": [
    "from __future__ import print_function, division\n",
    "\n",
    "%matplotlib inline\n",
    "\n",
    "import warnings\n",
    "warnings.filterwarnings('ignore')\n",
    "\n",
    "import pandas as pd\n",
    "import numpy as np\n",
    "\n",
    "import math\n",
    "\n",
    "import matplotlib.pyplot as pyplot\n",
    "from matplotlib import pylab\n",
    "\n",
    "from scipy.interpolate import interp1d\n",
    "from scipy.misc import derivative\n",
    "\n",
    "import thinkstats2\n",
    "import thinkplot\n",
    "\n",
    "import survival\n",
    "import marriage"
   ]
  },
  {
   "cell_type": "markdown",
   "metadata": {},
   "source": [
    "Load the data:"
   ]
  },
  {
   "cell_type": "code",
   "execution_count": 2,
   "metadata": {
    "collapsed": false
   },
   "outputs": [],
   "source": [
    "resp8 = marriage.ReadFemResp2013()\n",
    "marriage.Validate2013(resp8)\n",
    "\n",
    "resp7 = marriage.ReadFemResp2010()\n",
    "marriage.Validate2010(resp7)\n",
    "\n",
    "resp6 = marriage.ReadFemResp2002()\n",
    "marriage.Validate2002(resp6)\n",
    "\n",
    "resp5 = marriage.ReadFemResp1995()\n",
    "marriage.Validate1995(resp5)\n",
    "\n",
    "resp4 = marriage.ReadFemResp1988()\n",
    "marriage.Validate1988(resp4)\n",
    "\n",
    "resp3 = marriage.ReadFemResp1982()\n",
    "marriage.Validate1982(resp3)"
   ]
  },
  {
   "cell_type": "markdown",
   "metadata": {},
   "source": [
    "Make a list of DataFrames, one for each cycle:"
   ]
  },
  {
   "cell_type": "code",
   "execution_count": 3,
   "metadata": {
    "collapsed": false
   },
   "outputs": [],
   "source": [
    "resps = [resp8, resp7, resp6, resp5, resp4, resp3]"
   ]
  },
  {
   "cell_type": "markdown",
   "metadata": {},
   "source": [
    "Make a table showing the number of respondents in each cycle:"
   ]
  },
  {
   "cell_type": "code",
   "execution_count": 4,
   "metadata": {
    "collapsed": false
   },
   "outputs": [
    {
     "name": "stdout",
     "output_type": "stream",
     "text": [
      "# &  [1982 1983] & 7969 & [1937 1968] \\\\\n",
      "# &  [1988 1988] & 8450 & [1943 1973] \\\\\n",
      "# &  [1995 1995] & 10847 & [1950 1980] \\\\\n",
      "# &  [2002 2003] & 7643 & [1957 1988] \\\\\n",
      "# &  [2006 2010] & 12279 & [1961 1995] \\\\\n",
      "# &  [2011 2013] & 5601 & [1966 1998] \\\\\n"
     ]
    }
   ],
   "source": [
    "def SummarizeCycle(df):\n",
    "    ages = df.age.min(), df.age.max()\n",
    "    ages= np.array(ages)\n",
    "    \n",
    "    intvws = df.cmintvw.min(), df.cmintvw.max()\n",
    "    intvws = np.array(intvws) / 12 + 1900\n",
    "    \n",
    "    births = df.cmbirth.min(), df.cmbirth.max()\n",
    "    births = np.array(births) / 12 + 1900\n",
    "\n",
    "    print('# & ', intvws.astype(int), '&', len(df), '&', births.astype(int), r'\\\\')\n",
    "    \n",
    "for resp in reversed(resps):\n",
    "    SummarizeCycle(resp)"
   ]
  },
  {
   "cell_type": "markdown",
   "metadata": {},
   "source": [
    "Check for missing values in `agemarry`:"
   ]
  },
  {
   "cell_type": "code",
   "execution_count": 5,
   "metadata": {
    "collapsed": false
   },
   "outputs": [
    {
     "name": "stdout",
     "output_type": "stream",
     "text": [
      "17\n",
      "16\n",
      "37\n",
      "0\n",
      "0\n",
      "0\n"
     ]
    }
   ],
   "source": [
    "def CheckAgeVars(df):\n",
    "    print(sum(df[df.evrmarry].agemarry.isnull()))\n",
    "    \n",
    "for resp in resps:\n",
    "    CheckAgeVars(resp)"
   ]
  },
  {
   "cell_type": "markdown",
   "metadata": {},
   "source": [
    "Combine the DataFrames (but remember that this is not resampled properly):"
   ]
  },
  {
   "cell_type": "code",
   "execution_count": 6,
   "metadata": {
    "collapsed": false
   },
   "outputs": [
    {
     "data": {
      "text/plain": [
       "52789"
      ]
     },
     "execution_count": 6,
     "metadata": {},
     "output_type": "execute_result"
    }
   ],
   "source": [
    "df = pd.concat(resps, ignore_index=True)\n",
    "len(df)"
   ]
  },
  {
   "cell_type": "markdown",
   "metadata": {},
   "source": [
    "Double check missing data:"
   ]
  },
  {
   "cell_type": "code",
   "execution_count": 7,
   "metadata": {
    "collapsed": false
   },
   "outputs": [
    {
     "data": {
      "text/plain": [
       "70"
      ]
     },
     "execution_count": 7,
     "metadata": {},
     "output_type": "execute_result"
    }
   ],
   "source": [
    "sum(df.missing)"
   ]
  },
  {
   "cell_type": "markdown",
   "metadata": {},
   "source": [
    "Generate a table with the number of respondents in each cohort:"
   ]
  },
  {
   "cell_type": "code",
   "execution_count": 8,
   "metadata": {
    "collapsed": false
   },
   "outputs": [
    {
     "name": "stdout",
     "output_type": "stream",
     "text": [
      "30 & 325 & 42 -- 45 & 310 & 0 \\\\\n",
      "40 & 3608 & 32 -- 45 & 3275 & 0 \\\\\n",
      "50 & 10631 & 22 -- 45 & 8658 & 10 \\\\\n",
      "60 & 14484 & 15 -- 45 & 8421 & 27 \\\\\n",
      "70 & 12083 & 14 -- 43 & 5908 & 25 \\\\\n",
      "80 & 8536 & 14 -- 33 & 2203 & 8 \\\\\n",
      "90 & 3122 & 15 -- 23 & 93 & 0 \\\\\n"
     ]
    }
   ],
   "source": [
    "marriage.DigitizeResp(df)\n",
    "grouped = df.groupby('birth_index')\n",
    "for name, group in iter(grouped):\n",
    "    print(name, '&', len(group), '&', int(group.age.min()), '--', int(group.age_index.max()),\n",
    "                '&', len(group[group.evrmarry]), '&', sum(group.missing), r'\\\\')"
   ]
  },
  {
   "cell_type": "markdown",
   "metadata": {},
   "source": [
    "Estimate the hazard function for the 80s cohort (curious to see what's going on during the \"marriage strike\")"
   ]
  },
  {
   "cell_type": "code",
   "execution_count": 9,
   "metadata": {
    "collapsed": false
   },
   "outputs": [
    {
     "name": "stdout",
     "output_type": "stream",
     "text": [
      "13.0 8528 4 0 0.00046904315197\n",
      "14.0 8524 8 14 0.000938526513374\n",
      "15.0 8502 26 260 0.00305810397554\n",
      "16.0 8216 59 242 0.00718111002921\n",
      "17.0 7915 72 338 0.00909665192672\n",
      "18.0 7505 214 460 0.0285143237841\n",
      "19.0 6831 262 569 0.0383545600937\n",
      "20.0 6000 248 579 0.0413333333333\n",
      "21.0 5173 276 572 0.0533539532186\n",
      "22.0 4325 260 572 0.0601156069364\n",
      "23.0 3493 196 453 0.0561122244489\n",
      "24.0 2844 189 471 0.0664556962025\n",
      "25.0 2184 155 428 0.0709706959707\n",
      "26.0 1601 97 397 0.0605871330418\n",
      "27.0 1107 76 321 0.0686540198735\n",
      "28.0 710 28 227 0.0394366197183\n",
      "29.0 455 16 180 0.0351648351648\n",
      "30.0 259 9 95 0.034749034749\n",
      "31.0 155 0 92 0.0\n",
      "32.0 63 0 49 0.0\n",
      "33.0 14 0 14 0.0\n"
     ]
    }
   ],
   "source": [
    "cohort = grouped.get_group(80)\n",
    "missing = (cohort.evrmarry & cohort.agemarry.isnull())\n",
    "cohort = cohort[~missing]\n",
    "complete = cohort[cohort.evrmarry].agemarry_index\n",
    "ongoing = cohort[~cohort.evrmarry].age_index\n",
    "hf = survival.EstimateHazardFunction(complete, ongoing, verbose=True)"
   ]
  },
  {
   "cell_type": "markdown",
   "metadata": {},
   "source": [
    "Run the same analysis for the 70s cohort (to extract $\\lambda(33)$)."
   ]
  },
  {
   "cell_type": "code",
   "execution_count": 10,
   "metadata": {
    "collapsed": false
   },
   "outputs": [
    {
     "name": "stdout",
     "output_type": "stream",
     "text": [
      "10.0 12058 1 0 8.29324929507e-05\n",
      "11.0 12057 1 0 8.29393713196e-05\n",
      "12.0 12056 2 0 0.000165892501659\n",
      "13.0 12054 6 0 0.000497760079642\n",
      "14.0 12048 26 3 0.00215803452855\n",
      "15.0 12019 49 388 0.00407687827606\n",
      "16.0 11582 136 518 0.0117423588327\n",
      "17.0 10928 197 540 0.0180270863836\n",
      "18.0 10191 440 340 0.0431753507997\n",
      "19.0 9411 507 268 0.0538731271916\n",
      "20.0 8636 521 242 0.0603288559518\n",
      "21.0 7873 539 220 0.0684618315763\n",
      "22.0 7114 534 264 0.0750632555524\n",
      "23.0 6316 514 347 0.081380620646\n",
      "24.0 5455 468 345 0.0857928505958\n",
      "25.0 4642 407 205 0.0876777251185\n",
      "26.0 4030 358 149 0.0888337468983\n",
      "27.0 3523 257 164 0.0729491910304\n",
      "28.0 3102 265 198 0.0854287556415\n",
      "29.0 2639 195 215 0.0738916256158\n",
      "30.0 2229 151 315 0.0677433826828\n",
      "31.0 1763 97 278 0.0550198525241\n",
      "32.0 1388 75 212 0.0540345821326\n",
      "33.0 1101 52 155 0.047229791099\n",
      "34.0 894 35 152 0.0391498881432\n",
      "35.0 707 25 157 0.035360678925\n",
      "36.0 525 8 146 0.0152380952381\n",
      "37.0 371 7 102 0.0188679245283\n",
      "38.0 262 6 83 0.0229007633588\n",
      "39.0 173 2 65 0.0115606936416\n",
      "40.0 106 2 37 0.0188679245283\n",
      "41.0 67 0 32 0.0\n",
      "42.0 35 0 29 0.0\n",
      "43.0 6 0 6 0.0\n"
     ]
    }
   ],
   "source": [
    "cohort = grouped.get_group(70)\n",
    "missing = (cohort.evrmarry & cohort.agemarry.isnull())\n",
    "cohort = cohort[~missing]\n",
    "complete = cohort[cohort.evrmarry].agemarry_index\n",
    "ongoing = cohort[~cohort.evrmarry].age_index\n",
    "hf = survival.EstimateHazardFunction(complete, ongoing, verbose=True)"
   ]
  },
  {
   "cell_type": "markdown",
   "metadata": {},
   "source": [
    "Use the 30s cohort to demonstrate the simple way to do survival analysis, by computing the survival function directly."
   ]
  },
  {
   "cell_type": "code",
   "execution_count": 11,
   "metadata": {
    "collapsed": false
   },
   "outputs": [
    {
     "name": "stdout",
     "output_type": "stream",
     "text": [
      "[ 0.99384615  0.96923077  0.94769231  0.90153846  0.81846154  0.68615385\n",
      "  0.56        0.46461538  0.36307692  0.29538462  0.26153846  0.23384615\n",
      "  0.21230769  0.17538462  0.14769231  0.13230769  0.11076923  0.10153846\n",
      "  0.08923077  0.07692308  0.07384615  0.06461538  0.06153846  0.05846154\n",
      "  0.05538462  0.04923077  0.04615385  0.        ]\n"
     ]
    },
    {
     "data": {
      "image/png": "[encoded data removed]",
      "text/plain": [
       "<matplotlib.figure.Figure at 0x7fdc9f358f90>"
      ]
     },
     "metadata": {},
     "output_type": "display_data"
    }
   ],
   "source": [
    "cohort = grouped.get_group(30)\n",
    "sf = survival.MakeSurvivalFromSeq(cohort.agemarry_index.fillna(np.inf))\n",
    "ts, ss = sf.Render()\n",
    "print(ss)\n",
    "thinkplot.Plot(ts, ss)\n",
    "thinkplot.Config(xlim=[12, 42])"
   ]
  },
  {
   "cell_type": "markdown",
   "metadata": {},
   "source": [
    "Then use the SurvivalFunction to compute the HazardFunction:"
   ]
  },
  {
   "cell_type": "code",
   "execution_count": 12,
   "metadata": {
    "collapsed": false
   },
   "outputs": [
    {
     "name": "stdout",
     "output_type": "stream",
     "text": [
      "[ 0.00615385  0.0247678   0.02222222  0.0487013   0.09215017  0.16165414\n",
      "  0.1838565   0.17032967  0.21854305  0.18644068  0.11458333  0.10588235\n",
      "  0.09210526  0.17391304  0.15789474  0.10416667  0.1627907   0.08333333\n",
      "  0.12121212  0.13793103  0.04        0.125       0.04761905  0.05\n",
      "  0.05263158  0.11111111  0.0625      1.        ]\n"
     ]
    },
    {
     "data": {
      "image/png": "[encoded data removed]",
      "text/plain": [
       "<matplotlib.figure.Figure at 0x7fdc9f302690>"
      ]
     },
     "metadata": {},
     "output_type": "display_data"
    }
   ],
   "source": [
    "hf = sf.MakeHazardFunction()\n",
    "ts, lams = hf.Render()\n",
    "print(lams)\n",
    "thinkplot.Plot(ts, lams)\n",
    "thinkplot.Config(xlim=[12, 42])"
   ]
  },
  {
   "cell_type": "markdown",
   "metadata": {},
   "source": [
    "Make the first figure, showing sf and hf for the 30s cohort:"
   ]
  },
  {
   "cell_type": "code",
   "execution_count": 13,
   "metadata": {
    "collapsed": true
   },
   "outputs": [],
   "source": [
    "options = dict(formats=['pdf', 'png'], clf=False)"
   ]
  },
  {
   "cell_type": "code",
   "execution_count": 14,
   "metadata": {
    "collapsed": false
   },
   "outputs": [
    {
     "name": "stdout",
     "output_type": "stream",
     "text": [
      "Writing marriage1.pdf\n",
      "Writing marriage1.png\n"
     ]
    },
    {
     "data": {
      "image/png": "[encoded data removed]",
      "text/plain": [
       "<matplotlib.figure.Figure at 0x7fdc9f334590>"
      ]
     },
     "metadata": {},
     "output_type": "display_data"
    }
   ],
   "source": [
    "thinkplot.PrePlot(2, rows=2)\n",
    "\n",
    "thinkplot.Plot(sf, label='survival')\n",
    "thinkplot.Config(xlim=[13, 41], ylim=[0, 1.05])\n",
    "pyplot.ylabel('Survival Function', fontsize=14)\n",
    "\n",
    "thinkplot.SubPlot(2)\n",
    "thinkplot.Plot(hf, label='hazard')\n",
    "thinkplot.Config(xlabel='age(years)', ylabel='Hazard function', xlim=[13, 41])\n",
    "pyplot.ylabel('Hazard Function', fontsize=14)\n",
    "pyplot.xlabel('Age (years)', fontsize=14)\n",
    "\n",
    "thinkplot.Save(root='marriage1', **options)"
   ]
  },
  {
   "cell_type": "code",
   "execution_count": 15,
   "metadata": {
    "collapsed": false
   },
   "outputs": [
    {
     "name": "stdout",
     "output_type": "stream",
     "text": [
      "Writing marriage2.pdf\n",
      "Writing marriage2.png\n"
     ]
    },
    {
     "data": {
      "image/png": "[encoded data removed]",
      "text/plain": [
       "<matplotlib.figure.Figure at 0x7fdc98bb5610>"
      ]
     },
     "metadata": {},
     "output_type": "display_data"
    }
   ],
   "source": [
    "thinkplot.PrePlot(1)\n",
    "\n",
    "thinkplot.Plot(sf, label='30s')\n",
    "thinkplot.Config(xlim=[13, 41], ylim=[0, 1.05])\n",
    "pyplot.xlabel('Age (years)', fontsize=14)\n",
    "pyplot.ylabel('Survival function', fontsize=14)\n",
    "\n",
    "thinkplot.Save(root='marriage2', **options)"
   ]
  },
  {
   "cell_type": "code",
   "execution_count": 16,
   "metadata": {
    "collapsed": false
   },
   "outputs": [
    {
     "name": "stdout",
     "output_type": "stream",
     "text": [
      "Writing marriage3.pdf\n",
      "Writing marriage3.png\n"
     ]
    },
    {
     "data": {
      "image/png": "[encoded data removed]",
      "text/plain": [
       "<matplotlib.figure.Figure at 0x7fdc9df54810>"
      ]
     },
     "metadata": {},
     "output_type": "display_data"
    }
   ],
   "source": [
    "thinkplot.PrePlot(1)\n",
    "\n",
    "thinkplot.Plot(hf, label='30s')\n",
    "thinkplot.Config(xlim=[13, 41])\n",
    "pyplot.xlabel('Age (years)', fontsize=14)\n",
    "pyplot.ylabel('Hazard function', fontsize=14)\n",
    "\n",
    "thinkplot.Save(root='marriage3', **options)"
   ]
  },
  {
   "cell_type": "markdown",
   "metadata": {},
   "source": [
    "Make some pivot tables, just to see where the data are:"
   ]
  },
  {
   "cell_type": "code",
   "execution_count": 17,
   "metadata": {
    "collapsed": false
   },
   "outputs": [
    {
     "data": {
      "text/html": [
       "<div>\n",
       "<table border=\"1\" class=\"dataframe\">\n",
       "  <thead>\n",
       "    <tr style=\"text-align: right;\">\n",
       "      <th>age_index</th>\n",
       "      <th>14.0</th>\n",
       "      <th>15.0</th>\n",
       "      <th>16.0</th>\n",
       "      <th>17.0</th>\n",
       "      <th>18.0</th>\n",
       "      <th>19.0</th>\n",
       "      <th>20.0</th>\n",
       "      <th>21.0</th>\n",
       "      <th>22.0</th>\n",
       "      <th>23.0</th>\n",
       "      <th>...</th>\n",
       "      <th>36.0</th>\n",
       "      <th>37.0</th>\n",
       "      <th>38.0</th>\n",
       "      <th>39.0</th>\n",
       "      <th>40.0</th>\n",
       "      <th>41.0</th>\n",
       "      <th>42.0</th>\n",
       "      <th>43.0</th>\n",
       "      <th>44.0</th>\n",
       "      <th>45.0</th>\n",
       "    </tr>\n",
       "    <tr>\n",
       "      <th>birth_index</th>\n",
       "      <th></th>\n",
       "      <th></th>\n",
       "      <th></th>\n",
       "      <th></th>\n",
       "      <th></th>\n",
       "      <th></th>\n",
       "      <th></th>\n",
       "      <th></th>\n",
       "      <th></th>\n",
       "      <th></th>\n",
       "      <th></th>\n",
       "      <th></th>\n",
       "      <th></th>\n",
       "      <th></th>\n",
       "      <th></th>\n",
       "      <th></th>\n",
       "      <th></th>\n",
       "      <th></th>\n",
       "      <th></th>\n",
       "      <th></th>\n",
       "      <th></th>\n",
       "    </tr>\n",
       "  </thead>\n",
       "  <tbody>\n",
       "    <tr>\n",
       "      <th>30</th>\n",
       "      <td>0</td>\n",
       "      <td>0</td>\n",
       "      <td>0</td>\n",
       "      <td>0</td>\n",
       "      <td>0</td>\n",
       "      <td>0</td>\n",
       "      <td>0</td>\n",
       "      <td>0</td>\n",
       "      <td>0</td>\n",
       "      <td>0</td>\n",
       "      <td>...</td>\n",
       "      <td>0</td>\n",
       "      <td>0</td>\n",
       "      <td>0</td>\n",
       "      <td>0</td>\n",
       "      <td>0</td>\n",
       "      <td>0</td>\n",
       "      <td>19</td>\n",
       "      <td>146</td>\n",
       "      <td>148</td>\n",
       "      <td>12</td>\n",
       "    </tr>\n",
       "    <tr>\n",
       "      <th>40</th>\n",
       "      <td>0</td>\n",
       "      <td>0</td>\n",
       "      <td>0</td>\n",
       "      <td>0</td>\n",
       "      <td>0</td>\n",
       "      <td>0</td>\n",
       "      <td>0</td>\n",
       "      <td>0</td>\n",
       "      <td>0</td>\n",
       "      <td>0</td>\n",
       "      <td>...</td>\n",
       "      <td>202</td>\n",
       "      <td>163</td>\n",
       "      <td>345</td>\n",
       "      <td>452</td>\n",
       "      <td>442</td>\n",
       "      <td>414</td>\n",
       "      <td>384</td>\n",
       "      <td>194</td>\n",
       "      <td>198</td>\n",
       "      <td>25</td>\n",
       "    </tr>\n",
       "    <tr>\n",
       "      <th>50</th>\n",
       "      <td>0</td>\n",
       "      <td>0</td>\n",
       "      <td>0</td>\n",
       "      <td>0</td>\n",
       "      <td>0</td>\n",
       "      <td>0</td>\n",
       "      <td>0</td>\n",
       "      <td>0</td>\n",
       "      <td>42</td>\n",
       "      <td>301</td>\n",
       "      <td>...</td>\n",
       "      <td>745</td>\n",
       "      <td>768</td>\n",
       "      <td>492</td>\n",
       "      <td>427</td>\n",
       "      <td>396</td>\n",
       "      <td>371</td>\n",
       "      <td>482</td>\n",
       "      <td>633</td>\n",
       "      <td>533</td>\n",
       "      <td>38</td>\n",
       "    </tr>\n",
       "    <tr>\n",
       "      <th>60</th>\n",
       "      <td>0</td>\n",
       "      <td>269</td>\n",
       "      <td>300</td>\n",
       "      <td>370</td>\n",
       "      <td>665</td>\n",
       "      <td>722</td>\n",
       "      <td>609</td>\n",
       "      <td>513</td>\n",
       "      <td>520</td>\n",
       "      <td>242</td>\n",
       "      <td>...</td>\n",
       "      <td>282</td>\n",
       "      <td>359</td>\n",
       "      <td>417</td>\n",
       "      <td>466</td>\n",
       "      <td>595</td>\n",
       "      <td>562</td>\n",
       "      <td>537</td>\n",
       "      <td>511</td>\n",
       "      <td>452</td>\n",
       "      <td>25</td>\n",
       "    </tr>\n",
       "    <tr>\n",
       "      <th>70</th>\n",
       "      <td>3</td>\n",
       "      <td>389</td>\n",
       "      <td>523</td>\n",
       "      <td>549</td>\n",
       "      <td>362</td>\n",
       "      <td>293</td>\n",
       "      <td>283</td>\n",
       "      <td>285</td>\n",
       "      <td>365</td>\n",
       "      <td>572</td>\n",
       "      <td>...</td>\n",
       "      <td>533</td>\n",
       "      <td>427</td>\n",
       "      <td>337</td>\n",
       "      <td>269</td>\n",
       "      <td>154</td>\n",
       "      <td>144</td>\n",
       "      <td>105</td>\n",
       "      <td>26</td>\n",
       "      <td>0</td>\n",
       "      <td>0</td>\n",
       "    </tr>\n",
       "    <tr>\n",
       "      <th>80</th>\n",
       "      <td>14</td>\n",
       "      <td>260</td>\n",
       "      <td>242</td>\n",
       "      <td>340</td>\n",
       "      <td>483</td>\n",
       "      <td>589</td>\n",
       "      <td>658</td>\n",
       "      <td>683</td>\n",
       "      <td>705</td>\n",
       "      <td>600</td>\n",
       "      <td>...</td>\n",
       "      <td>0</td>\n",
       "      <td>0</td>\n",
       "      <td>0</td>\n",
       "      <td>0</td>\n",
       "      <td>0</td>\n",
       "      <td>0</td>\n",
       "      <td>0</td>\n",
       "      <td>0</td>\n",
       "      <td>0</td>\n",
       "      <td>0</td>\n",
       "    </tr>\n",
       "    <tr>\n",
       "      <th>90</th>\n",
       "      <td>0</td>\n",
       "      <td>588</td>\n",
       "      <td>618</td>\n",
       "      <td>544</td>\n",
       "      <td>467</td>\n",
       "      <td>372</td>\n",
       "      <td>192</td>\n",
       "      <td>200</td>\n",
       "      <td>115</td>\n",
       "      <td>26</td>\n",
       "      <td>...</td>\n",
       "      <td>0</td>\n",
       "      <td>0</td>\n",
       "      <td>0</td>\n",
       "      <td>0</td>\n",
       "      <td>0</td>\n",
       "      <td>0</td>\n",
       "      <td>0</td>\n",
       "      <td>0</td>\n",
       "      <td>0</td>\n",
       "      <td>0</td>\n",
       "    </tr>\n",
       "  </tbody>\n",
       "</table>\n",
       "<p>7 rows × 32 columns</p>\n",
       "</div>"
      ],
      "text/plain": [
       "age_index    14   15   16   17   18   19   20   21   22   23 ...   36   37  \\\n",
       "birth_index                                                  ...             \n",
       "30            0    0    0    0    0    0    0    0    0    0 ...    0    0   \n",
       "40            0    0    0    0    0    0    0    0    0    0 ...  202  163   \n",
       "50            0    0    0    0    0    0    0    0   42  301 ...  745  768   \n",
       "60            0  269  300  370  665  722  609  513  520  242 ...  282  359   \n",
       "70            3  389  523  549  362  293  283  285  365  572 ...  533  427   \n",
       "80           14  260  242  340  483  589  658  683  705  600 ...    0    0   \n",
       "90            0  588  618  544  467  372  192  200  115   26 ...    0    0   \n",
       "\n",
       "age_index     38   39   40   41   42   43   44  45  \n",
       "birth_index                                         \n",
       "30             0    0    0    0   19  146  148  12  \n",
       "40           345  452  442  414  384  194  198  25  \n",
       "50           492  427  396  371  482  633  533  38  \n",
       "60           417  466  595  562  537  511  452  25  \n",
       "70           337  269  154  144  105   26    0   0  \n",
       "80             0    0    0    0    0    0    0   0  \n",
       "90             0    0    0    0    0    0    0   0  \n",
       "\n",
       "[7 rows x 32 columns]"
      ]
     },
     "execution_count": 17,
     "metadata": {},
     "output_type": "execute_result"
    }
   ],
   "source": [
    "pt = df.pivot_table(index='birth_index', columns='age_index', values='age', aggfunc=len, fill_value=0)\n",
    "pt"
   ]
  },
  {
   "cell_type": "markdown",
   "metadata": {},
   "source": [
    "The following pivot table is not as helpful as it could be, since it doesn't show the number at risk."
   ]
  },
  {
   "cell_type": "code",
   "execution_count": 18,
   "metadata": {
    "collapsed": false
   },
   "outputs": [
    {
     "data": {
      "text/html": [
       "<div>\n",
       "<table border=\"1\" class=\"dataframe\">\n",
       "  <thead>\n",
       "    <tr style=\"text-align: right;\">\n",
       "      <th>agemarry_index</th>\n",
       "      <th>10.0</th>\n",
       "      <th>11.0</th>\n",
       "      <th>12.0</th>\n",
       "      <th>13.0</th>\n",
       "      <th>14.0</th>\n",
       "      <th>15.0</th>\n",
       "      <th>16.0</th>\n",
       "      <th>17.0</th>\n",
       "      <th>18.0</th>\n",
       "      <th>19.0</th>\n",
       "      <th>...</th>\n",
       "      <th>34.0</th>\n",
       "      <th>35.0</th>\n",
       "      <th>36.0</th>\n",
       "      <th>37.0</th>\n",
       "      <th>38.0</th>\n",
       "      <th>39.0</th>\n",
       "      <th>40.0</th>\n",
       "      <th>41.0</th>\n",
       "      <th>42.0</th>\n",
       "      <th>43.0</th>\n",
       "    </tr>\n",
       "    <tr>\n",
       "      <th>birth_index</th>\n",
       "      <th></th>\n",
       "      <th></th>\n",
       "      <th></th>\n",
       "      <th></th>\n",
       "      <th></th>\n",
       "      <th></th>\n",
       "      <th></th>\n",
       "      <th></th>\n",
       "      <th></th>\n",
       "      <th></th>\n",
       "      <th></th>\n",
       "      <th></th>\n",
       "      <th></th>\n",
       "      <th></th>\n",
       "      <th></th>\n",
       "      <th></th>\n",
       "      <th></th>\n",
       "      <th></th>\n",
       "      <th></th>\n",
       "      <th></th>\n",
       "      <th></th>\n",
       "    </tr>\n",
       "  </thead>\n",
       "  <tbody>\n",
       "    <tr>\n",
       "      <th>30</th>\n",
       "      <td>0</td>\n",
       "      <td>0</td>\n",
       "      <td>0</td>\n",
       "      <td>2</td>\n",
       "      <td>8</td>\n",
       "      <td>7</td>\n",
       "      <td>15</td>\n",
       "      <td>27</td>\n",
       "      <td>43</td>\n",
       "      <td>41</td>\n",
       "      <td>...</td>\n",
       "      <td>3</td>\n",
       "      <td>1</td>\n",
       "      <td>1</td>\n",
       "      <td>1</td>\n",
       "      <td>0</td>\n",
       "      <td>2</td>\n",
       "      <td>1</td>\n",
       "      <td>0</td>\n",
       "      <td>0</td>\n",
       "      <td>0</td>\n",
       "    </tr>\n",
       "    <tr>\n",
       "      <th>40</th>\n",
       "      <td>1</td>\n",
       "      <td>0</td>\n",
       "      <td>0</td>\n",
       "      <td>5</td>\n",
       "      <td>31</td>\n",
       "      <td>87</td>\n",
       "      <td>163</td>\n",
       "      <td>218</td>\n",
       "      <td>425</td>\n",
       "      <td>467</td>\n",
       "      <td>...</td>\n",
       "      <td>15</td>\n",
       "      <td>12</td>\n",
       "      <td>5</td>\n",
       "      <td>6</td>\n",
       "      <td>3</td>\n",
       "      <td>9</td>\n",
       "      <td>1</td>\n",
       "      <td>1</td>\n",
       "      <td>0</td>\n",
       "      <td>0</td>\n",
       "    </tr>\n",
       "    <tr>\n",
       "      <th>50</th>\n",
       "      <td>0</td>\n",
       "      <td>0</td>\n",
       "      <td>1</td>\n",
       "      <td>10</td>\n",
       "      <td>50</td>\n",
       "      <td>125</td>\n",
       "      <td>384</td>\n",
       "      <td>642</td>\n",
       "      <td>1111</td>\n",
       "      <td>1057</td>\n",
       "      <td>...</td>\n",
       "      <td>50</td>\n",
       "      <td>33</td>\n",
       "      <td>27</td>\n",
       "      <td>18</td>\n",
       "      <td>12</td>\n",
       "      <td>11</td>\n",
       "      <td>7</td>\n",
       "      <td>4</td>\n",
       "      <td>4</td>\n",
       "      <td>4</td>\n",
       "    </tr>\n",
       "    <tr>\n",
       "      <th>60</th>\n",
       "      <td>0</td>\n",
       "      <td>1</td>\n",
       "      <td>1</td>\n",
       "      <td>5</td>\n",
       "      <td>36</td>\n",
       "      <td>113</td>\n",
       "      <td>288</td>\n",
       "      <td>420</td>\n",
       "      <td>818</td>\n",
       "      <td>805</td>\n",
       "      <td>...</td>\n",
       "      <td>62</td>\n",
       "      <td>61</td>\n",
       "      <td>31</td>\n",
       "      <td>36</td>\n",
       "      <td>21</td>\n",
       "      <td>22</td>\n",
       "      <td>14</td>\n",
       "      <td>9</td>\n",
       "      <td>7</td>\n",
       "      <td>4</td>\n",
       "    </tr>\n",
       "    <tr>\n",
       "      <th>70</th>\n",
       "      <td>1</td>\n",
       "      <td>1</td>\n",
       "      <td>2</td>\n",
       "      <td>6</td>\n",
       "      <td>26</td>\n",
       "      <td>49</td>\n",
       "      <td>136</td>\n",
       "      <td>198</td>\n",
       "      <td>440</td>\n",
       "      <td>507</td>\n",
       "      <td>...</td>\n",
       "      <td>35</td>\n",
       "      <td>25</td>\n",
       "      <td>8</td>\n",
       "      <td>7</td>\n",
       "      <td>6</td>\n",
       "      <td>2</td>\n",
       "      <td>2</td>\n",
       "      <td>0</td>\n",
       "      <td>0</td>\n",
       "      <td>0</td>\n",
       "    </tr>\n",
       "    <tr>\n",
       "      <th>80</th>\n",
       "      <td>0</td>\n",
       "      <td>0</td>\n",
       "      <td>0</td>\n",
       "      <td>4</td>\n",
       "      <td>8</td>\n",
       "      <td>26</td>\n",
       "      <td>59</td>\n",
       "      <td>72</td>\n",
       "      <td>214</td>\n",
       "      <td>262</td>\n",
       "      <td>...</td>\n",
       "      <td>0</td>\n",
       "      <td>0</td>\n",
       "      <td>0</td>\n",
       "      <td>0</td>\n",
       "      <td>0</td>\n",
       "      <td>0</td>\n",
       "      <td>0</td>\n",
       "      <td>0</td>\n",
       "      <td>0</td>\n",
       "      <td>0</td>\n",
       "    </tr>\n",
       "    <tr>\n",
       "      <th>90</th>\n",
       "      <td>0</td>\n",
       "      <td>0</td>\n",
       "      <td>0</td>\n",
       "      <td>0</td>\n",
       "      <td>0</td>\n",
       "      <td>3</td>\n",
       "      <td>7</td>\n",
       "      <td>8</td>\n",
       "      <td>19</td>\n",
       "      <td>18</td>\n",
       "      <td>...</td>\n",
       "      <td>0</td>\n",
       "      <td>0</td>\n",
       "      <td>0</td>\n",
       "      <td>0</td>\n",
       "      <td>0</td>\n",
       "      <td>0</td>\n",
       "      <td>0</td>\n",
       "      <td>0</td>\n",
       "      <td>0</td>\n",
       "      <td>0</td>\n",
       "    </tr>\n",
       "  </tbody>\n",
       "</table>\n",
       "<p>7 rows × 34 columns</p>\n",
       "</div>"
      ],
      "text/plain": [
       "agemarry_index  10  11  12  13  14   15   16   17    18    19 ...  34  35  36  \\\n",
       "birth_index                                                   ...               \n",
       "30               0   0   0   2   8    7   15   27    43    41 ...   3   1   1   \n",
       "40               1   0   0   5  31   87  163  218   425   467 ...  15  12   5   \n",
       "50               0   0   1  10  50  125  384  642  1111  1057 ...  50  33  27   \n",
       "60               0   1   1   5  36  113  288  420   818   805 ...  62  61  31   \n",
       "70               1   1   2   6  26   49  136  198   440   507 ...  35  25   8   \n",
       "80               0   0   0   4   8   26   59   72   214   262 ...   0   0   0   \n",
       "90               0   0   0   0   0    3    7    8    19    18 ...   0   0   0   \n",
       "\n",
       "agemarry_index  37  38  39  40  41  42  43  \n",
       "birth_index                                 \n",
       "30               1   0   2   1   0   0   0  \n",
       "40               6   3   9   1   1   0   0  \n",
       "50              18  12  11   7   4   4   4  \n",
       "60              36  21  22  14   9   7   4  \n",
       "70               7   6   2   2   0   0   0  \n",
       "80               0   0   0   0   0   0   0  \n",
       "90               0   0   0   0   0   0   0  \n",
       "\n",
       "[7 rows x 34 columns]"
      ]
     },
     "execution_count": 18,
     "metadata": {},
     "output_type": "execute_result"
    }
   ],
   "source": [
    "df.pivot_table(index='birth_index', columns='agemarry_index', values='age', aggfunc=len, fill_value=0)"
   ]
  },
  {
   "cell_type": "markdown",
   "metadata": {},
   "source": [
    "Check where each cohort gets cut off.  For several cohorts, we only see half of the last year; in that case I drop the fractional year because it underestimates the hazard rate (and also gives too much weight to the oldest few respondents)."
   ]
  },
  {
   "cell_type": "code",
   "execution_count": 19,
   "metadata": {
    "collapsed": false
   },
   "outputs": [
    {
     "data": {
      "text/html": [
       "<div>\n",
       "<table border=\"1\" class=\"dataframe\">\n",
       "  <thead>\n",
       "    <tr style=\"text-align: right;\">\n",
       "      <th></th>\n",
       "      <th>age</th>\n",
       "      <th>age_index</th>\n",
       "      <th>ageint</th>\n",
       "      <th>agemarry</th>\n",
       "      <th>agemarry_index</th>\n",
       "      <th>birth_index</th>\n",
       "      <th>caseid</th>\n",
       "      <th>cmbirth</th>\n",
       "      <th>cmdivorcx</th>\n",
       "      <th>cmintvw</th>\n",
       "      <th>...</th>\n",
       "      <th>finalwgt</th>\n",
       "      <th>firstcm</th>\n",
       "      <th>fmarital</th>\n",
       "      <th>mar2p</th>\n",
       "      <th>missing</th>\n",
       "      <th>parity</th>\n",
       "      <th>timesmar</th>\n",
       "      <th>wgt2011_2013</th>\n",
       "      <th>wgtq1q16</th>\n",
       "      <th>year</th>\n",
       "    </tr>\n",
       "  </thead>\n",
       "  <tbody>\n",
       "  </tbody>\n",
       "</table>\n",
       "<p>0 rows × 23 columns</p>\n",
       "</div>"
      ],
      "text/plain": [
       "Empty DataFrame\n",
       "Columns: [age, age_index, ageint, agemarry, agemarry_index, birth_index, caseid, cmbirth, cmdivorcx, cmintvw, cmmarrhx, currentcm, evrmarry, finalwgt, firstcm, fmarital, mar2p, missing, parity, timesmar, wgt2011_2013, wgtq1q16, year]\n",
       "Index: []\n",
       "\n",
       "[0 rows x 23 columns]"
      ]
     },
     "execution_count": 19,
     "metadata": {},
     "output_type": "execute_result"
    }
   ],
   "source": [
    "df[(df.birth_index==90) & (df.age>23.5)]"
   ]
  },
  {
   "cell_type": "markdown",
   "metadata": {},
   "source": []
  },
  {
   "cell_type": "code",
   "execution_count": 20,
   "metadata": {
    "collapsed": false
   },
   "outputs": [
    {
     "data": {
      "text/html": [
       "<div>\n",
       "<table border=\"1\" class=\"dataframe\">\n",
       "  <thead>\n",
       "    <tr style=\"text-align: right;\">\n",
       "      <th></th>\n",
       "      <th>age</th>\n",
       "      <th>age_index</th>\n",
       "      <th>ageint</th>\n",
       "      <th>agemarry</th>\n",
       "      <th>agemarry_index</th>\n",
       "      <th>birth_index</th>\n",
       "      <th>caseid</th>\n",
       "      <th>cmbirth</th>\n",
       "      <th>cmdivorcx</th>\n",
       "      <th>cmintvw</th>\n",
       "      <th>...</th>\n",
       "      <th>finalwgt</th>\n",
       "      <th>firstcm</th>\n",
       "      <th>fmarital</th>\n",
       "      <th>mar2p</th>\n",
       "      <th>missing</th>\n",
       "      <th>parity</th>\n",
       "      <th>timesmar</th>\n",
       "      <th>wgt2011_2013</th>\n",
       "      <th>wgtq1q16</th>\n",
       "      <th>year</th>\n",
       "    </tr>\n",
       "  </thead>\n",
       "  <tbody>\n",
       "  </tbody>\n",
       "</table>\n",
       "<p>0 rows × 23 columns</p>\n",
       "</div>"
      ],
      "text/plain": [
       "Empty DataFrame\n",
       "Columns: [age, age_index, ageint, agemarry, agemarry_index, birth_index, caseid, cmbirth, cmdivorcx, cmintvw, cmmarrhx, currentcm, evrmarry, finalwgt, firstcm, fmarital, mar2p, missing, parity, timesmar, wgt2011_2013, wgtq1q16, year]\n",
       "Index: []\n",
       "\n",
       "[0 rows x 23 columns]"
      ]
     },
     "execution_count": 20,
     "metadata": {},
     "output_type": "execute_result"
    }
   ],
   "source": [
    "df[(df.birth_index==80) & (df.age>33.5)]"
   ]
  },
  {
   "cell_type": "markdown",
   "metadata": {},
   "source": []
  },
  {
   "cell_type": "code",
   "execution_count": 21,
   "metadata": {
    "collapsed": false
   },
   "outputs": [
    {
     "data": {
      "text/html": [
       "<div>\n",
       "<table border=\"1\" class=\"dataframe\">\n",
       "  <thead>\n",
       "    <tr style=\"text-align: right;\">\n",
       "      <th></th>\n",
       "      <th>age</th>\n",
       "      <th>age_index</th>\n",
       "      <th>ageint</th>\n",
       "      <th>agemarry</th>\n",
       "      <th>agemarry_index</th>\n",
       "      <th>birth_index</th>\n",
       "      <th>caseid</th>\n",
       "      <th>cmbirth</th>\n",
       "      <th>cmdivorcx</th>\n",
       "      <th>cmintvw</th>\n",
       "      <th>...</th>\n",
       "      <th>finalwgt</th>\n",
       "      <th>firstcm</th>\n",
       "      <th>fmarital</th>\n",
       "      <th>mar2p</th>\n",
       "      <th>missing</th>\n",
       "      <th>parity</th>\n",
       "      <th>timesmar</th>\n",
       "      <th>wgt2011_2013</th>\n",
       "      <th>wgtq1q16</th>\n",
       "      <th>year</th>\n",
       "    </tr>\n",
       "  </thead>\n",
       "  <tbody>\n",
       "  </tbody>\n",
       "</table>\n",
       "<p>0 rows × 23 columns</p>\n",
       "</div>"
      ],
      "text/plain": [
       "Empty DataFrame\n",
       "Columns: [age, age_index, ageint, agemarry, agemarry_index, birth_index, caseid, cmbirth, cmdivorcx, cmintvw, cmmarrhx, currentcm, evrmarry, finalwgt, firstcm, fmarital, mar2p, missing, parity, timesmar, wgt2011_2013, wgtq1q16, year]\n",
       "Index: []\n",
       "\n",
       "[0 rows x 23 columns]"
      ]
     },
     "execution_count": 21,
     "metadata": {},
     "output_type": "execute_result"
    }
   ],
   "source": [
    "df[(df.birth_index==70) & (df.age>43.6)]"
   ]
  },
  {
   "cell_type": "markdown",
   "metadata": {},
   "source": []
  },
  {
   "cell_type": "code",
   "execution_count": 22,
   "metadata": {
    "collapsed": false
   },
   "outputs": [
    {
     "data": {
      "text/html": [
       "<div>\n",
       "<table border=\"1\" class=\"dataframe\">\n",
       "  <thead>\n",
       "    <tr style=\"text-align: right;\">\n",
       "      <th></th>\n",
       "      <th>age</th>\n",
       "      <th>age_index</th>\n",
       "      <th>ageint</th>\n",
       "      <th>agemarry</th>\n",
       "      <th>agemarry_index</th>\n",
       "      <th>birth_index</th>\n",
       "      <th>caseid</th>\n",
       "      <th>cmbirth</th>\n",
       "      <th>cmdivorcx</th>\n",
       "      <th>cmintvw</th>\n",
       "      <th>...</th>\n",
       "      <th>finalwgt</th>\n",
       "      <th>firstcm</th>\n",
       "      <th>fmarital</th>\n",
       "      <th>mar2p</th>\n",
       "      <th>missing</th>\n",
       "      <th>parity</th>\n",
       "      <th>timesmar</th>\n",
       "      <th>wgt2011_2013</th>\n",
       "      <th>wgtq1q16</th>\n",
       "      <th>year</th>\n",
       "    </tr>\n",
       "  </thead>\n",
       "  <tbody>\n",
       "  </tbody>\n",
       "</table>\n",
       "<p>0 rows × 23 columns</p>\n",
       "</div>"
      ],
      "text/plain": [
       "Empty DataFrame\n",
       "Columns: [age, age_index, ageint, agemarry, agemarry_index, birth_index, caseid, cmbirth, cmdivorcx, cmintvw, cmmarrhx, currentcm, evrmarry, finalwgt, firstcm, fmarital, mar2p, missing, parity, timesmar, wgt2011_2013, wgtq1q16, year]\n",
       "Index: []\n",
       "\n",
       "[0 rows x 23 columns]"
      ]
     },
     "execution_count": 22,
     "metadata": {},
     "output_type": "execute_result"
    }
   ],
   "source": [
    "df[(df.birth_index==60) & (df.age>45.5)]"
   ]
  },
  {
   "cell_type": "markdown",
   "metadata": {},
   "source": []
  },
  {
   "cell_type": "code",
   "execution_count": 23,
   "metadata": {
    "collapsed": false
   },
   "outputs": [
    {
     "data": {
      "text/html": [
       "<div>\n",
       "<table border=\"1\" class=\"dataframe\">\n",
       "  <thead>\n",
       "    <tr style=\"text-align: right;\">\n",
       "      <th></th>\n",
       "      <th>age</th>\n",
       "      <th>age_index</th>\n",
       "      <th>ageint</th>\n",
       "      <th>agemarry</th>\n",
       "      <th>agemarry_index</th>\n",
       "      <th>birth_index</th>\n",
       "      <th>caseid</th>\n",
       "      <th>cmbirth</th>\n",
       "      <th>cmdivorcx</th>\n",
       "      <th>cmintvw</th>\n",
       "      <th>...</th>\n",
       "      <th>finalwgt</th>\n",
       "      <th>firstcm</th>\n",
       "      <th>fmarital</th>\n",
       "      <th>mar2p</th>\n",
       "      <th>missing</th>\n",
       "      <th>parity</th>\n",
       "      <th>timesmar</th>\n",
       "      <th>wgt2011_2013</th>\n",
       "      <th>wgtq1q16</th>\n",
       "      <th>year</th>\n",
       "    </tr>\n",
       "  </thead>\n",
       "  <tbody>\n",
       "  </tbody>\n",
       "</table>\n",
       "<p>0 rows × 23 columns</p>\n",
       "</div>"
      ],
      "text/plain": [
       "Empty DataFrame\n",
       "Columns: [age, age_index, ageint, agemarry, agemarry_index, birth_index, caseid, cmbirth, cmdivorcx, cmintvw, cmmarrhx, currentcm, evrmarry, finalwgt, firstcm, fmarital, mar2p, missing, parity, timesmar, wgt2011_2013, wgtq1q16, year]\n",
       "Index: []\n",
       "\n",
       "[0 rows x 23 columns]"
      ]
     },
     "execution_count": 23,
     "metadata": {},
     "output_type": "execute_result"
    }
   ],
   "source": [
    "df[(df.birth_index==50) & (df.age>45.5)]"
   ]
  },
  {
   "cell_type": "markdown",
   "metadata": {},
   "source": []
  },
  {
   "cell_type": "code",
   "execution_count": 24,
   "metadata": {
    "collapsed": false
   },
   "outputs": [
    {
     "data": {
      "text/html": [
       "<div>\n",
       "<table border=\"1\" class=\"dataframe\">\n",
       "  <thead>\n",
       "    <tr style=\"text-align: right;\">\n",
       "      <th></th>\n",
       "      <th>age</th>\n",
       "      <th>age_index</th>\n",
       "      <th>ageint</th>\n",
       "      <th>agemarry</th>\n",
       "      <th>agemarry_index</th>\n",
       "      <th>birth_index</th>\n",
       "      <th>caseid</th>\n",
       "      <th>cmbirth</th>\n",
       "      <th>cmdivorcx</th>\n",
       "      <th>cmintvw</th>\n",
       "      <th>...</th>\n",
       "      <th>finalwgt</th>\n",
       "      <th>firstcm</th>\n",
       "      <th>fmarital</th>\n",
       "      <th>mar2p</th>\n",
       "      <th>missing</th>\n",
       "      <th>parity</th>\n",
       "      <th>timesmar</th>\n",
       "      <th>wgt2011_2013</th>\n",
       "      <th>wgtq1q16</th>\n",
       "      <th>year</th>\n",
       "    </tr>\n",
       "  </thead>\n",
       "  <tbody>\n",
       "  </tbody>\n",
       "</table>\n",
       "<p>0 rows × 23 columns</p>\n",
       "</div>"
      ],
      "text/plain": [
       "Empty DataFrame\n",
       "Columns: [age, age_index, ageint, agemarry, agemarry_index, birth_index, caseid, cmbirth, cmdivorcx, cmintvw, cmmarrhx, currentcm, evrmarry, finalwgt, firstcm, fmarital, mar2p, missing, parity, timesmar, wgt2011_2013, wgtq1q16, year]\n",
       "Index: []\n",
       "\n",
       "[0 rows x 23 columns]"
      ]
     },
     "execution_count": 24,
     "metadata": {},
     "output_type": "execute_result"
    }
   ],
   "source": [
    "df[(df.birth_index==40) & (df.age>45.5)]"
   ]
  },
  {
   "cell_type": "markdown",
   "metadata": {},
   "source": []
  },
  {
   "cell_type": "code",
   "execution_count": 25,
   "metadata": {
    "collapsed": false
   },
   "outputs": [
    {
     "data": {
      "text/html": [
       "<div>\n",
       "<table border=\"1\" class=\"dataframe\">\n",
       "  <thead>\n",
       "    <tr style=\"text-align: right;\">\n",
       "      <th></th>\n",
       "      <th>age</th>\n",
       "      <th>age_index</th>\n",
       "      <th>ageint</th>\n",
       "      <th>agemarry</th>\n",
       "      <th>agemarry_index</th>\n",
       "      <th>birth_index</th>\n",
       "      <th>caseid</th>\n",
       "      <th>cmbirth</th>\n",
       "      <th>cmdivorcx</th>\n",
       "      <th>cmintvw</th>\n",
       "      <th>...</th>\n",
       "      <th>finalwgt</th>\n",
       "      <th>firstcm</th>\n",
       "      <th>fmarital</th>\n",
       "      <th>mar2p</th>\n",
       "      <th>missing</th>\n",
       "      <th>parity</th>\n",
       "      <th>timesmar</th>\n",
       "      <th>wgt2011_2013</th>\n",
       "      <th>wgtq1q16</th>\n",
       "      <th>year</th>\n",
       "    </tr>\n",
       "  </thead>\n",
       "  <tbody>\n",
       "  </tbody>\n",
       "</table>\n",
       "<p>0 rows × 23 columns</p>\n",
       "</div>"
      ],
      "text/plain": [
       "Empty DataFrame\n",
       "Columns: [age, age_index, ageint, agemarry, agemarry_index, birth_index, caseid, cmbirth, cmdivorcx, cmintvw, cmmarrhx, currentcm, evrmarry, finalwgt, firstcm, fmarital, mar2p, missing, parity, timesmar, wgt2011_2013, wgtq1q16, year]\n",
       "Index: []\n",
       "\n",
       "[0 rows x 23 columns]"
      ]
     },
     "execution_count": 25,
     "metadata": {},
     "output_type": "execute_result"
    }
   ],
   "source": [
    "df[(df.birth_index==30) & (df.age>45.5)]"
   ]
  },
  {
   "cell_type": "markdown",
   "metadata": {},
   "source": [
    "Estimate the survival curve for each cohort:"
   ]
  },
  {
   "cell_type": "code",
   "execution_count": 26,
   "metadata": {
    "collapsed": false
   },
   "outputs": [
    {
     "name": "stdout",
     "output_type": "stream",
     "text": [
      "CPU times: user 7.13 s, sys: 20 ms, total: 7.15 s\n",
      "Wall time: 7.11 s\n"
     ]
    }
   ],
   "source": [
    "%time sf_map = marriage.EstimateSurvivalByCohort(resps, iters=11)"
   ]
  },
  {
   "cell_type": "markdown",
   "metadata": {},
   "source": [
    "Check a sample:"
   ]
  },
  {
   "cell_type": "code",
   "execution_count": 27,
   "metadata": {
    "collapsed": false
   },
   "outputs": [
    {
     "name": "stdout",
     "output_type": "stream",
     "text": [
      "15    0.998558\n",
      "16    0.997204\n",
      "17    0.993643\n",
      "18    0.982031\n",
      "19    0.958795\n",
      "20    0.919003\n",
      "21    0.900311\n",
      "22    0.838646\n",
      "dtype: float64\n",
      "0.83864632243\n"
     ]
    }
   ],
   "source": [
    "for sf in sf_map[90]:\n",
    "    print(sf.ss)\n",
    "    print(sf.Prob(34))\n",
    "    break"
   ]
  },
  {
   "cell_type": "markdown",
   "metadata": {},
   "source": [
    "Select the cohort names to display:"
   ]
  },
  {
   "cell_type": "code",
   "execution_count": 28,
   "metadata": {
    "collapsed": false
   },
   "outputs": [
    {
     "data": {
      "text/plain": [
       "Int64Index([30, 40, 50, 60, 70, 80, 90], dtype='int64', name=u'birth_index')"
      ]
     },
     "execution_count": 28,
     "metadata": {},
     "output_type": "execute_result"
    }
   ],
   "source": [
    "year_indices = pt.index\n",
    "year_indices"
   ]
  },
  {
   "cell_type": "markdown",
   "metadata": {},
   "source": [
    "Make the figure showing estimated survival curves:"
   ]
  },
  {
   "cell_type": "code",
   "execution_count": 29,
   "metadata": {
    "collapsed": false
   },
   "outputs": [
    {
     "name": "stdout",
     "output_type": "stream",
     "text": [
      "Writing marriage4.pdf\n",
      "Writing marriage4.png\n"
     ]
    },
    {
     "data": {
      "image/png": "[encoded data removed]",
      "text/plain": [
       "<matplotlib.figure.Figure at 0x7fdc9df54190>"
      ]
     },
     "metadata": {},
     "output_type": "display_data"
    }
   ],
   "source": [
    "reload(marriage)\n",
    "\n",
    "def PlotSurvivalFunctions(root, sf_map, sf_map_pred=None, **options):\n",
    "\n",
    "    if sf_map_pred:\n",
    "        marriage.PlotSurvivalFunctions(sf_map_pred, predict_flag=True)\n",
    "    marriage.PlotSurvivalFunctions(sf_map)\n",
    "\n",
    "    thinkplot.Config(xlim=[13, 45], ylim=[0, 1.05])\n",
    "\n",
    "    thinkplot.Save(root=root, **options)\n",
    "\n",
    "\n",
    "remap = {k:sf_map[k] for k in year_indices[1:]}\n",
    "PlotSurvivalFunctions('marriage4', remap, None, **options)"
   ]
  },
  {
   "cell_type": "markdown",
   "metadata": {},
   "source": [
    "Make a table of marriage rates for each cohort at each age:"
   ]
  },
  {
   "cell_type": "code",
   "execution_count": 30,
   "metadata": {
    "collapsed": false
   },
   "outputs": [],
   "source": [
    "def MakeTable(sf_map, ages):\n",
    "    t = []\n",
    "    for name, sf_seq in sorted(sf_map.items()):\n",
    "        ts, ss = marriage.MakeSurvivalCI(sf_seq, [50])\n",
    "        ss = ss[0]\n",
    "        vals = [1-np.interp(age, ts, ss, right=np.nan) for age in ages]\n",
    "        t.append((name, vals))\n",
    "    return t"
   ]
  },
  {
   "cell_type": "code",
   "execution_count": 31,
   "metadata": {
    "collapsed": false,
    "scrolled": true
   },
   "outputs": [
    {
     "data": {
      "image/png": "[encoded data removed]",
      "text/plain": [
       "<matplotlib.figure.Figure at 0x7fdc9f4733d0>"
      ]
     },
     "metadata": {},
     "output_type": "display_data"
    }
   ],
   "source": [
    "def PlotFractions(sf_map, **options):\n",
    "    t = MakeTable(sf_map, ages)\n",
    "    cohorts, cols = zip(*t)\n",
    "    rows = zip(*cols)\n",
    "\n",
    "    thinkplot.PrePlot(3)\n",
    "    for age, row in reversed(zip(ages, rows)):\n",
    "        thinkplot.Plot(cohorts, row, label=age, **options)\n",
    "    \n",
    "ages = [22, 26, 42]\n",
    "PlotFractions(remap)"
   ]
  },
  {
   "cell_type": "code",
   "execution_count": 32,
   "metadata": {
    "collapsed": false
   },
   "outputs": [
    {
     "name": "stdout",
     "output_type": "stream",
     "text": [
      "40 & 70 & 90 & 92 \\\\\n",
      "50 & 58 & 85 & 89 \\\\\n",
      "60 & 41 & 80 & 88 \\\\\n",
      "70 & 32 & 75 & 82 \\\\\n",
      "80 & 24 & 58 & nan \\\\\n",
      "90 & 16 & nan & nan \\\\\n"
     ]
    }
   ],
   "source": [
    "%precision 2\n",
    "ages = [22, 32, 42]\n",
    "for name, sf_seq in sorted(remap.items()):\n",
    "    ts, ss = marriage.MakeSurvivalCI(sf_seq, [50])\n",
    "    ss = ss[0]\n",
    "    vals = [1-np.interp(age, ts, ss, right=np.nan) for age in ages]\n",
    "    print(name, '&', ' & '.join('%0.0f' % (val*100) for val in vals), r'\\\\')"
   ]
  },
  {
   "cell_type": "markdown",
   "metadata": {},
   "source": [
    "Generate projections:"
   ]
  },
  {
   "cell_type": "code",
   "execution_count": 33,
   "metadata": {
    "collapsed": false
   },
   "outputs": [
    {
     "name": "stdout",
     "output_type": "stream",
     "text": [
      "CPU times: user 6.95 s, sys: 20 ms, total: 6.97 s\n",
      "Wall time: 6.94 s\n"
     ]
    }
   ],
   "source": [
    "reload(marriage)\n",
    "reload(survival)\n",
    "\n",
    "%time sf_map_pred = marriage.EstimateSurvivalByCohort(resps, iters=11, predict_flag=True)"
   ]
  },
  {
   "cell_type": "markdown",
   "metadata": {},
   "source": [
    "And make the figure showing projections:"
   ]
  },
  {
   "cell_type": "code",
   "execution_count": 34,
   "metadata": {
    "collapsed": false
   },
   "outputs": [
    {
     "name": "stdout",
     "output_type": "stream",
     "text": [
      "Writing marriage5.pdf\n",
      "Writing marriage5.png\n"
     ]
    },
    {
     "data": {
      "image/png": "[encoded data removed]",
      "text/plain": [
       "<matplotlib.figure.Figure at 0x7fdc9f307dd0>"
      ]
     },
     "metadata": {},
     "output_type": "display_data"
    }
   ],
   "source": [
    "remap_pred = {k:sf_map_pred[k] for k in year_indices[1:]}\n",
    "PlotSurvivalFunctions('marriage5', remap, remap_pred, **options)"
   ]
  },
  {
   "cell_type": "markdown",
   "metadata": {},
   "source": [
    "Make the table again with the projections filled in."
   ]
  },
  {
   "cell_type": "code",
   "execution_count": 35,
   "metadata": {
    "collapsed": false
   },
   "outputs": [
    {
     "name": "stdout",
     "output_type": "stream",
     "text": [
      "40 & 70 & 90 & 92 \\\\\n",
      "50 & 58 & 85 & 90 \\\\\n",
      "60 & 41 & 79 & 87 \\\\\n",
      "70 & 32 & 75 & 82 \\\\\n",
      "80 & 24 & 58 & 70 \\\\\n",
      "90 & 15 & 54 & 66 \\\\\n"
     ]
    }
   ],
   "source": [
    "%precision 2\n",
    "ages = [22, 32, 42]\n",
    "for name, sf_seq in sorted(remap_pred.items()):\n",
    "    ts, ss = marriage.MakeSurvivalCI(sf_seq, [50])\n",
    "    ss = ss[0]\n",
    "    vals = [1-np.interp(age, ts, ss, right=np.nan) for age in ages]\n",
    "    print(name, '&', ' & '.join('%0.0f' % (val*100) for val in vals), r'\\\\')"
   ]
  },
  {
   "cell_type": "code",
   "execution_count": 36,
   "metadata": {
    "collapsed": false
   },
   "outputs": [
    {
     "name": "stdout",
     "output_type": "stream",
     "text": [
      "40 & 70 & 82 & 92 \\\\\n",
      "50 & 58 & 71 & 90 \\\\\n",
      "60 & 41 & 59 & 87 \\\\\n",
      "70 & 32 & 52 & 82 \\\\\n",
      "80 & 24 & 41 & 70 \\\\\n",
      "90 & 15 & 34 & 66 \\\\\n"
     ]
    }
   ],
   "source": [
    "%precision 2\n",
    "ages = [22, 25, 42]\n",
    "for name, sf_seq in sorted(remap_pred.items()):\n",
    "    ts, ss = marriage.MakeSurvivalCI(sf_seq, [50])\n",
    "    ss = ss[0]\n",
    "    vals = [1-np.interp(age, ts, ss, right=np.nan) for age in ages]\n",
    "    print(name, '&', ' & '.join('%0.0f' % (val*100) for val in vals), r'\\\\')"
   ]
  },
  {
   "cell_type": "code",
   "execution_count": 37,
   "metadata": {
    "collapsed": false
   },
   "outputs": [
    {
     "name": "stdout",
     "output_type": "stream",
     "text": [
      "Writing marriage6.pdf\n",
      "Writing marriage6.png\n"
     ]
    },
    {
     "data": {
      "image/png": "[encoded data removed]",
      "text/plain": [
       "<matplotlib.figure.Figure at 0x7fdc9f307090>"
      ]
     },
     "metadata": {},
     "output_type": "display_data"
    }
   ],
   "source": [
    "ages = [22, 25, 42]\n",
    "PlotFractions(remap_pred, color='gray', linestyle='dashed', linewidth=2)\n",
    "PlotFractions(remap, alpha=1)\n",
    "thinkplot.Text(82, 0.93, '% married', fontsize=12)\n",
    "thinkplot.Text(82, 0.85, 'before age', fontsize=12)\n",
    "thinkplot.Text(91, 0.7, '42', fontsize=14)\n",
    "thinkplot.Text(91, 0.34, '25', fontsize=14)\n",
    "thinkplot.Text(91, 0.15, '22', fontsize=14)\n",
    "\n",
    "pyplot.tick_params(axis='x', which='both', bottom='off', top='off') \n",
    "pyplot.tick_params(axis='y', which='both', left='off', right='off') \n",
    "\n",
    "thinkplot.Config(xlim=[37, 97], ylim=[0, 1], xlabel='cohort (decade)', ylabel='% married', legend=False)\n",
    "thinkplot.Save(root='marriage6', **options)"
   ]
  },
  {
   "cell_type": "markdown",
   "metadata": {},
   "source": [
    "Run a single resampling run:"
   ]
  },
  {
   "cell_type": "code",
   "execution_count": 38,
   "metadata": {
    "collapsed": false
   },
   "outputs": [],
   "source": [
    "sf_map = marriage.EstimateSurvivalByCohort(resps, iters=1)"
   ]
  },
  {
   "cell_type": "markdown",
   "metadata": {},
   "source": [
    "Print the hazard functions in table form:"
   ]
  },
  {
   "cell_type": "code",
   "execution_count": 39,
   "metadata": {
    "collapsed": false
   },
   "outputs": [
    {
     "name": "stdout",
     "output_type": "stream",
     "text": [
      "15 30 (30.0, 0.16000000000000231)\n",
      "15 40 (30.0, 0.072864321608040739)\n",
      "15 50 (30.0, 0.071685062987012854)\n",
      "15 60 (30.0, 0.10501542656238942)\n",
      "15 70 (30.0, 0.083893614540921951)\n",
      "15 80 (30.0, 0.01904761904761898)\n",
      "15 90 nan\n",
      "16 30 (31.0, 0.09090909090909223)\n",
      "16 40 (31.0, 0.047745358090186027)\n",
      "16 50 (31.0, 0.0583944245960498)\n",
      "16 60 (31.0, 0.075407788356191288)\n",
      "16 70 (31.0, 0.080440088461455672)\n",
      "16 80 (31.0, -0.0)\n",
      "16 90 nan\n",
      "17 30 (32.0, 0.035714285714286233)\n",
      "17 40 (32.0, 0.044263938415390773)\n",
      "17 50 (32.0, 0.047759537598305979)\n",
      "17 60 (32.0, 0.04972188391304249)\n",
      "17 70 (32.0, 0.057373712649886693)\n",
      "17 80 nan\n",
      "17 90 nan\n",
      "18 30 (33.0, 0.024390243902439997)\n",
      "18 40 (33.0, 0.064141478981734015)\n",
      "18 50 (33.0, 0.035234884826483577)\n",
      "18 60 (33.0, 0.050052979116989034)\n",
      "18 70 (33.0, 0.042464223862912237)\n",
      "18 80 nan\n",
      "18 90 nan\n",
      "19 30 (34.0, 0.037500000000000547)\n",
      "19 40 (34.0, 0.070898106818532688)\n",
      "19 50 (34.0, 0.037444594927358479)\n",
      "19 60 (34.0, 0.054534522629666814)\n",
      "19 70 (34.0, 0.045791535832384822)\n",
      "19 80 nan\n",
      "19 90 nan\n",
      "20 30 (35.0, 0.052631578947369181)\n",
      "20 40 (35.0, 0.036283643892340511)\n",
      "20 50 (35.0, 0.041695497035561059)\n",
      "20 60 (35.0, 0.062991204124962591)\n",
      "20 70 (35.0, 0.035180118559052238)\n",
      "20 80 nan\n",
      "20 90 nan\n",
      "21 30 (36.0, 0.037037037037037569)\n",
      "21 40 (36.0, 0.023764792260516997)\n",
      "21 50 (36.0, 0.042606904141110263)\n",
      "21 60 (36.0, 0.054510752305760558)\n",
      "21 70 (36.0, 0.02735473934021794)\n",
      "21 80 nan\n",
      "21 90 nan\n",
      "22 30 (37.0, 0.01886792452830216)\n",
      "22 40 (37.0, 0.033723944270439399)\n",
      "22 50 (37.0, 0.034583019434638346)\n",
      "22 60 (37.0, 0.037840470457269182)\n",
      "22 70 (37.0, 0.052530818552921688)\n",
      "22 80 nan\n",
      "22 90 nan\n",
      "23 30 (38.0, 0.019230769230769509)\n",
      "23 40 (38.0, 0.045329670329670814)\n",
      "23 50 (38.0, 0.019489438287392649)\n",
      "23 60 (38.0, 0.033757874199608094)\n",
      "23 70 (38.0, 0.038981573705179712)\n",
      "23 80 nan\n",
      "23 90 nan\n",
      "24 30 (39.0, 0.0098039215686275931)\n",
      "24 40 (39.0, 0.030612244897959801)\n",
      "24 50 (39.0, 0.014888507718696539)\n",
      "24 60 (39.0, 0.051705916223879309)\n",
      "24 70 (39.0, 0.013045644187060484)\n",
      "24 80 nan\n",
      "24 90 nan\n",
      "25 30 (40.0, -0.0)\n",
      "25 40 (40.0, -0.0)\n",
      "25 50 (40.0, 0.031336302126484875)\n",
      "25 60 (40.0, 0.03780862441688488)\n",
      "25 70 (40.0, 0.010101010101010315)\n",
      "25 80 nan\n",
      "25 90 nan\n",
      "26 30 (41.0, -0.0)\n",
      "26 40 (41.0, -0.0)\n",
      "26 50 (41.0, 0.033144882535591683)\n",
      "26 60 (41.0, 0.024166408788488469)\n",
      "26 70 (41.0, -0.0)\n",
      "26 80 nan\n",
      "26 90 nan\n",
      "27 30 (42.0, -0.0)\n",
      "27 40 (42.0, -0.0)\n",
      "27 50 (42.0, 0.010617653581726109)\n",
      "27 60 (42.0, 0.016544117647059087)\n",
      "27 70 nan\n",
      "27 80 nan\n",
      "27 90 nan\n",
      "28 30 (43.0, -0.0)\n",
      "28 40 (43.0, -0.0)\n",
      "28 50 (43.0, 0.0046728971962620141)\n",
      "28 60 (43.0, -0.0)\n",
      "28 70 nan\n",
      "28 80 nan\n",
      "28 90 nan\n",
      "29 30 nan\n",
      "29 40 nan\n",
      "29 50 nan\n",
      "29 60 nan\n",
      "29 70 nan\n",
      "29 80 nan\n",
      "29 90 nan\n",
      "30 30 nan\n",
      "30 40 nan\n",
      "30 50 nan\n",
      "30 60 nan\n",
      "30 70 nan\n",
      "30 80 nan\n",
      "30 90 nan\n",
      "31 30 nan\n",
      "31 40 nan\n",
      "31 50 nan\n",
      "31 60 nan\n",
      "31 70 nan\n",
      "31 80 nan\n",
      "31 90 nan\n",
      "32 30 nan\n",
      "32 40 nan\n",
      "32 50 nan\n",
      "32 60 nan\n",
      "32 70 nan\n",
      "32 80 nan\n",
      "32 90 nan\n",
      "33 30 nan\n",
      "33 40 nan\n",
      "33 50 nan\n",
      "33 60 nan\n",
      "33 70 nan\n",
      "33 80 nan\n",
      "33 90 nan\n",
      "34 30 nan\n",
      "34 40 nan\n",
      "34 50 nan\n",
      "34 60 nan\n",
      "34 70 nan\n",
      "34 80 nan\n",
      "34 90 nan\n",
      "35 30 nan\n",
      "35 40 nan\n",
      "35 50 nan\n",
      "35 60 nan\n",
      "35 70 nan\n",
      "35 80 nan\n",
      "35 90 nan\n",
      "36 30 nan\n",
      "36 40 nan\n",
      "36 50 nan\n",
      "36 60 nan\n",
      "36 70 nan\n",
      "36 80 nan\n",
      "36 90 nan\n",
      "37 30 nan\n",
      "37 40 nan\n",
      "37 50 nan\n",
      "37 60 nan\n",
      "37 70 nan\n",
      "37 80 nan\n",
      "37 90 nan\n",
      "38 30 nan\n",
      "38 40 nan\n",
      "38 50 nan\n",
      "38 60 nan\n",
      "38 70 nan\n",
      "38 80 nan\n",
      "38 90 nan\n",
      "39 30 nan\n",
      "39 40 nan\n",
      "39 50 nan\n",
      "39 60 nan\n",
      "39 70 nan\n",
      "39 80 nan\n",
      "39 90 nan\n",
      "40 30 nan\n",
      "40 40 nan\n",
      "40 50 nan\n",
      "40 60 nan\n",
      "40 70 nan\n",
      "40 80 nan\n",
      "40 90 nan\n",
      "41 30 nan\n",
      "41 40 nan\n",
      "41 50 nan\n",
      "41 60 nan\n",
      "41 70 nan\n",
      "41 80 nan\n",
      "41 90 nan\n",
      "42 30 nan\n",
      "42 40 nan\n",
      "42 50 nan\n",
      "42 60 nan\n",
      "42 70 nan\n",
      "42 80 nan\n",
      "42 90 nan\n",
      "43 30 nan\n",
      "43 40 nan\n",
      "43 50 nan\n",
      "43 60 nan\n",
      "43 70 nan\n",
      "43 80 nan\n",
      "43 90 nan\n",
      "44 30 nan\n",
      "44 40 nan\n",
      "44 50 nan\n",
      "44 60 nan\n",
      "44 70 nan\n",
      "44 80 nan\n",
      "44 90 nan\n"
     ]
    }
   ],
   "source": [
    "def ComputeHazard(sf, dx=0.1, order=3):\n",
    "    ts, ss = sf.Render()\n",
    "    #thinkplot.Plot(ts, ss, color='gray', linewidth=10)\n",
    "    low = math.ceil(min(ts))\n",
    "    low = 15.0\n",
    "    high = math.floor(max(ts) - order*dx)\n",
    "    \n",
    "    func = interp1d(ts, ss, bounds_error=False, fill_value=1.0)\n",
    "    xs = np.arange(low, high+1)\n",
    "    ys = func(xs)\n",
    "    #thinkplot.Plot(xs, ys, color='red')\n",
    "    \n",
    "    hs = -derivative(func, xs, dx=dx) / ys\n",
    "\n",
    "    return survival.HazardFunction(pd.Series(zip(xs, hs)))\n",
    "\n",
    "hf_map = {}\n",
    "for group, sf_list in sf_map.items():\n",
    "    assert len(sf_list) == 1\n",
    "    hf_map[group] = ComputeHazard(sf_list[0])\n",
    "\n",
    "    \n",
    "ages = np.arange(15, 45)\n",
    "for age in ages:\n",
    "    for group, hf in sorted(hf_map.items()):\n",
    "        ts, hs = hf.Render()\n",
    "        print(age, group, hf.Get(age))\n",
    "    "
   ]
  },
  {
   "cell_type": "code",
   "execution_count": 40,
   "metadata": {
    "collapsed": false
   },
   "outputs": [
    {
     "data": {
      "text/html": [
       "<div>\n",
       "<table border=\"1\" class=\"dataframe\">\n",
       "  <thead>\n",
       "    <tr style=\"text-align: right;\">\n",
       "      <th></th>\n",
       "      <th>caseid</th>\n",
       "      <th>cmbirth</th>\n",
       "      <th>evrmarry</th>\n",
       "      <th>cmdivw</th>\n",
       "      <th>mardat01</th>\n",
       "      <th>finalwgt</th>\n",
       "      <th>cmintvw</th>\n",
       "      <th>cmmarrhx</th>\n",
       "      <th>agemarry</th>\n",
       "      <th>age</th>\n",
       "      <th>missing</th>\n",
       "      <th>year</th>\n",
       "      <th>age_index</th>\n",
       "      <th>agemarry_index</th>\n",
       "      <th>birth_index</th>\n",
       "    </tr>\n",
       "  </thead>\n",
       "  <tbody>\n",
       "    <tr>\n",
       "      <th>0</th>\n",
       "      <td>12178</td>\n",
       "      <td>1052</td>\n",
       "      <td>False</td>\n",
       "      <td>NaN</td>\n",
       "      <td>NaN</td>\n",
       "      <td>7085.207973</td>\n",
       "      <td>1233</td>\n",
       "      <td>NaN</td>\n",
       "      <td>NaN</td>\n",
       "      <td>15.083333</td>\n",
       "      <td>False</td>\n",
       "      <td>87</td>\n",
       "      <td>15</td>\n",
       "      <td>NaN</td>\n",
       "      <td>80</td>\n",
       "    </tr>\n",
       "    <tr>\n",
       "      <th>1</th>\n",
       "      <td>3233</td>\n",
       "      <td>701</td>\n",
       "      <td>True</td>\n",
       "      <td>NaN</td>\n",
       "      <td>1007</td>\n",
       "      <td>24372.450063</td>\n",
       "      <td>1237</td>\n",
       "      <td>1007</td>\n",
       "      <td>25.500000</td>\n",
       "      <td>44.666667</td>\n",
       "      <td>False</td>\n",
       "      <td>58</td>\n",
       "      <td>44</td>\n",
       "      <td>25</td>\n",
       "      <td>50</td>\n",
       "    </tr>\n",
       "    <tr>\n",
       "      <th>2</th>\n",
       "      <td>12170</td>\n",
       "      <td>707</td>\n",
       "      <td>True</td>\n",
       "      <td>NaN</td>\n",
       "      <td>1199</td>\n",
       "      <td>7073.132109</td>\n",
       "      <td>1234</td>\n",
       "      <td>1199</td>\n",
       "      <td>41.000000</td>\n",
       "      <td>43.916667</td>\n",
       "      <td>False</td>\n",
       "      <td>58</td>\n",
       "      <td>43</td>\n",
       "      <td>41</td>\n",
       "      <td>50</td>\n",
       "    </tr>\n",
       "    <tr>\n",
       "      <th>3</th>\n",
       "      <td>6629</td>\n",
       "      <td>1052</td>\n",
       "      <td>False</td>\n",
       "      <td>NaN</td>\n",
       "      <td>NaN</td>\n",
       "      <td>3105.158992</td>\n",
       "      <td>1234</td>\n",
       "      <td>NaN</td>\n",
       "      <td>NaN</td>\n",
       "      <td>15.166667</td>\n",
       "      <td>False</td>\n",
       "      <td>87</td>\n",
       "      <td>15</td>\n",
       "      <td>NaN</td>\n",
       "      <td>80</td>\n",
       "    </tr>\n",
       "    <tr>\n",
       "      <th>4</th>\n",
       "      <td>6531</td>\n",
       "      <td>787</td>\n",
       "      <td>True</td>\n",
       "      <td>NaN</td>\n",
       "      <td>1107</td>\n",
       "      <td>4679.548824</td>\n",
       "      <td>1235</td>\n",
       "      <td>1107</td>\n",
       "      <td>26.666667</td>\n",
       "      <td>37.333333</td>\n",
       "      <td>False</td>\n",
       "      <td>65</td>\n",
       "      <td>37</td>\n",
       "      <td>26</td>\n",
       "      <td>60</td>\n",
       "    </tr>\n",
       "  </tbody>\n",
       "</table>\n",
       "</div>"
      ],
      "text/plain": [
       "   caseid  cmbirth evrmarry  cmdivw  mardat01      finalwgt  cmintvw  \\\n",
       "0   12178     1052    False     NaN       NaN   7085.207973     1233   \n",
       "1    3233      701     True     NaN      1007  24372.450063     1237   \n",
       "2   12170      707     True     NaN      1199   7073.132109     1234   \n",
       "3    6629     1052    False     NaN       NaN   3105.158992     1234   \n",
       "4    6531      787     True     NaN      1107   4679.548824     1235   \n",
       "\n",
       "   cmmarrhx   agemarry        age missing  year  age_index  agemarry_index  \\\n",
       "0       NaN        NaN  15.083333   False    87         15             NaN   \n",
       "1      1007  25.500000  44.666667   False    58         44              25   \n",
       "2      1199  41.000000  43.916667   False    58         43              41   \n",
       "3       NaN        NaN  15.166667   False    87         15             NaN   \n",
       "4      1107  26.666667  37.333333   False    65         37              26   \n",
       "\n",
       "   birth_index  \n",
       "0           80  \n",
       "1           50  \n",
       "2           50  \n",
       "3           80  \n",
       "4           60  "
      ]
     },
     "execution_count": 40,
     "metadata": {},
     "output_type": "execute_result"
    }
   ],
   "source": [
    "reload(marriage)\n",
    "\n",
    "male2002 = marriage.ReadMaleResp2002()\n",
    "male2002.head()"
   ]
  },
  {
   "cell_type": "code",
   "execution_count": 41,
   "metadata": {
    "collapsed": false
   },
   "outputs": [
    {
     "data": {
      "text/html": [
       "<div>\n",
       "<table border=\"1\" class=\"dataframe\">\n",
       "  <thead>\n",
       "    <tr style=\"text-align: right;\">\n",
       "      <th></th>\n",
       "      <th>caseid</th>\n",
       "      <th>cmbirth</th>\n",
       "      <th>evrmarry</th>\n",
       "      <th>cmdivw</th>\n",
       "      <th>mardat01</th>\n",
       "      <th>wgtq1q16</th>\n",
       "      <th>cmintvw</th>\n",
       "      <th>cmmarrhx</th>\n",
       "      <th>finalwgt</th>\n",
       "      <th>agemarry</th>\n",
       "      <th>age</th>\n",
       "      <th>missing</th>\n",
       "      <th>year</th>\n",
       "      <th>age_index</th>\n",
       "      <th>agemarry_index</th>\n",
       "      <th>birth_index</th>\n",
       "    </tr>\n",
       "  </thead>\n",
       "  <tbody>\n",
       "    <tr>\n",
       "      <th>0</th>\n",
       "      <td>36133</td>\n",
       "      <td>1043</td>\n",
       "      <td>False</td>\n",
       "      <td>NaN</td>\n",
       "      <td>NaN</td>\n",
       "      <td>7270.577055</td>\n",
       "      <td>1323</td>\n",
       "      <td>NaN</td>\n",
       "      <td>7270.577055</td>\n",
       "      <td>NaN</td>\n",
       "      <td>23.333333</td>\n",
       "      <td>False</td>\n",
       "      <td>86</td>\n",
       "      <td>23</td>\n",
       "      <td>NaN</td>\n",
       "      <td>80</td>\n",
       "    </tr>\n",
       "    <tr>\n",
       "      <th>1</th>\n",
       "      <td>36636</td>\n",
       "      <td>1021</td>\n",
       "      <td>False</td>\n",
       "      <td>NaN</td>\n",
       "      <td>NaN</td>\n",
       "      <td>7601.733277</td>\n",
       "      <td>1322</td>\n",
       "      <td>NaN</td>\n",
       "      <td>7601.733277</td>\n",
       "      <td>NaN</td>\n",
       "      <td>25.083333</td>\n",
       "      <td>False</td>\n",
       "      <td>85</td>\n",
       "      <td>25</td>\n",
       "      <td>NaN</td>\n",
       "      <td>80</td>\n",
       "    </tr>\n",
       "    <tr>\n",
       "      <th>2</th>\n",
       "      <td>41125</td>\n",
       "      <td>1118</td>\n",
       "      <td>False</td>\n",
       "      <td>NaN</td>\n",
       "      <td>NaN</td>\n",
       "      <td>4587.699601</td>\n",
       "      <td>1322</td>\n",
       "      <td>NaN</td>\n",
       "      <td>4587.699601</td>\n",
       "      <td>NaN</td>\n",
       "      <td>17.000000</td>\n",
       "      <td>False</td>\n",
       "      <td>93</td>\n",
       "      <td>17</td>\n",
       "      <td>NaN</td>\n",
       "      <td>90</td>\n",
       "    </tr>\n",
       "    <tr>\n",
       "      <th>3</th>\n",
       "      <td>23607</td>\n",
       "      <td>948</td>\n",
       "      <td>False</td>\n",
       "      <td>NaN</td>\n",
       "      <td>NaN</td>\n",
       "      <td>26566.111007</td>\n",
       "      <td>1287</td>\n",
       "      <td>NaN</td>\n",
       "      <td>26566.111007</td>\n",
       "      <td>NaN</td>\n",
       "      <td>28.250000</td>\n",
       "      <td>False</td>\n",
       "      <td>78</td>\n",
       "      <td>28</td>\n",
       "      <td>NaN</td>\n",
       "      <td>70</td>\n",
       "    </tr>\n",
       "    <tr>\n",
       "      <th>4</th>\n",
       "      <td>40814</td>\n",
       "      <td>1018</td>\n",
       "      <td>False</td>\n",
       "      <td>NaN</td>\n",
       "      <td>NaN</td>\n",
       "      <td>5709.710317</td>\n",
       "      <td>1322</td>\n",
       "      <td>NaN</td>\n",
       "      <td>5709.710317</td>\n",
       "      <td>NaN</td>\n",
       "      <td>25.333333</td>\n",
       "      <td>False</td>\n",
       "      <td>84</td>\n",
       "      <td>25</td>\n",
       "      <td>NaN</td>\n",
       "      <td>80</td>\n",
       "    </tr>\n",
       "  </tbody>\n",
       "</table>\n",
       "</div>"
      ],
      "text/plain": [
       "   caseid  cmbirth evrmarry  cmdivw  mardat01      wgtq1q16  cmintvw  \\\n",
       "0   36133     1043    False     NaN       NaN   7270.577055     1323   \n",
       "1   36636     1021    False     NaN       NaN   7601.733277     1322   \n",
       "2   41125     1118    False     NaN       NaN   4587.699601     1322   \n",
       "3   23607      948    False     NaN       NaN  26566.111007     1287   \n",
       "4   40814     1018    False     NaN       NaN   5709.710317     1322   \n",
       "\n",
       "   cmmarrhx      finalwgt  agemarry        age missing  year  age_index  \\\n",
       "0       NaN   7270.577055       NaN  23.333333   False    86         23   \n",
       "1       NaN   7601.733277       NaN  25.083333   False    85         25   \n",
       "2       NaN   4587.699601       NaN  17.000000   False    93         17   \n",
       "3       NaN  26566.111007       NaN  28.250000   False    78         28   \n",
       "4       NaN   5709.710317       NaN  25.333333   False    84         25   \n",
       "\n",
       "   agemarry_index  birth_index  \n",
       "0             NaN           80  \n",
       "1             NaN           80  \n",
       "2             NaN           90  \n",
       "3             NaN           70  \n",
       "4             NaN           80  "
      ]
     },
     "execution_count": 41,
     "metadata": {},
     "output_type": "execute_result"
    }
   ],
   "source": [
    "reload(marriage)\n",
    "\n",
    "male2010 = marriage.ReadMaleResp2010()\n",
    "male2010.head()"
   ]
  },
  {
   "cell_type": "code",
   "execution_count": 42,
   "metadata": {
    "collapsed": false
   },
   "outputs": [
    {
     "data": {
      "text/html": [
       "<div>\n",
       "<table border=\"1\" class=\"dataframe\">\n",
       "  <thead>\n",
       "    <tr style=\"text-align: right;\">\n",
       "      <th></th>\n",
       "      <th>caseid</th>\n",
       "      <th>cmbirth</th>\n",
       "      <th>evrmarry</th>\n",
       "      <th>cmdivw</th>\n",
       "      <th>mardat01</th>\n",
       "      <th>wgt2011_2013</th>\n",
       "      <th>cmintvw</th>\n",
       "      <th>cmmarrhx</th>\n",
       "      <th>finalwgt</th>\n",
       "      <th>agemarry</th>\n",
       "      <th>age</th>\n",
       "      <th>missing</th>\n",
       "      <th>year</th>\n",
       "      <th>age_index</th>\n",
       "      <th>agemarry_index</th>\n",
       "      <th>birth_index</th>\n",
       "    </tr>\n",
       "  </thead>\n",
       "  <tbody>\n",
       "    <tr>\n",
       "      <th>0</th>\n",
       "      <td>50001</td>\n",
       "      <td>1027</td>\n",
       "      <td>True</td>\n",
       "      <td>1346</td>\n",
       "      <td>1237</td>\n",
       "      <td>8111.081751</td>\n",
       "      <td>1348</td>\n",
       "      <td>1237</td>\n",
       "      <td>8111.081751</td>\n",
       "      <td>17.500000</td>\n",
       "      <td>26.750000</td>\n",
       "      <td>False</td>\n",
       "      <td>85</td>\n",
       "      <td>26</td>\n",
       "      <td>17</td>\n",
       "      <td>80</td>\n",
       "    </tr>\n",
       "    <tr>\n",
       "      <th>1</th>\n",
       "      <td>50003</td>\n",
       "      <td>1160</td>\n",
       "      <td>False</td>\n",
       "      <td>NaN</td>\n",
       "      <td>NaN</td>\n",
       "      <td>4082.414347</td>\n",
       "      <td>1354</td>\n",
       "      <td>NaN</td>\n",
       "      <td>4082.414347</td>\n",
       "      <td>NaN</td>\n",
       "      <td>16.166667</td>\n",
       "      <td>False</td>\n",
       "      <td>96</td>\n",
       "      <td>16</td>\n",
       "      <td>NaN</td>\n",
       "      <td>90</td>\n",
       "    </tr>\n",
       "    <tr>\n",
       "      <th>2</th>\n",
       "      <td>50006</td>\n",
       "      <td>1025</td>\n",
       "      <td>True</td>\n",
       "      <td>NaN</td>\n",
       "      <td>1335</td>\n",
       "      <td>25550.455475</td>\n",
       "      <td>1360</td>\n",
       "      <td>1335</td>\n",
       "      <td>25550.455475</td>\n",
       "      <td>25.833333</td>\n",
       "      <td>27.916667</td>\n",
       "      <td>False</td>\n",
       "      <td>85</td>\n",
       "      <td>27</td>\n",
       "      <td>25</td>\n",
       "      <td>80</td>\n",
       "    </tr>\n",
       "    <tr>\n",
       "      <th>3</th>\n",
       "      <td>50007</td>\n",
       "      <td>1028</td>\n",
       "      <td>False</td>\n",
       "      <td>NaN</td>\n",
       "      <td>NaN</td>\n",
       "      <td>6754.912773</td>\n",
       "      <td>1348</td>\n",
       "      <td>NaN</td>\n",
       "      <td>6754.912773</td>\n",
       "      <td>NaN</td>\n",
       "      <td>26.666667</td>\n",
       "      <td>False</td>\n",
       "      <td>85</td>\n",
       "      <td>26</td>\n",
       "      <td>NaN</td>\n",
       "      <td>80</td>\n",
       "    </tr>\n",
       "    <tr>\n",
       "      <th>4</th>\n",
       "      <td>50009</td>\n",
       "      <td>855</td>\n",
       "      <td>True</td>\n",
       "      <td>NaN</td>\n",
       "      <td>1152</td>\n",
       "      <td>49442.342886</td>\n",
       "      <td>1362</td>\n",
       "      <td>1152</td>\n",
       "      <td>49442.342886</td>\n",
       "      <td>24.750000</td>\n",
       "      <td>42.250000</td>\n",
       "      <td>False</td>\n",
       "      <td>71</td>\n",
       "      <td>42</td>\n",
       "      <td>24</td>\n",
       "      <td>70</td>\n",
       "    </tr>\n",
       "  </tbody>\n",
       "</table>\n",
       "</div>"
      ],
      "text/plain": [
       "   caseid  cmbirth evrmarry  cmdivw  mardat01  wgt2011_2013  cmintvw  \\\n",
       "0   50001     1027     True    1346      1237   8111.081751     1348   \n",
       "1   50003     1160    False     NaN       NaN   4082.414347     1354   \n",
       "2   50006     1025     True     NaN      1335  25550.455475     1360   \n",
       "3   50007     1028    False     NaN       NaN   6754.912773     1348   \n",
       "4   50009      855     True     NaN      1152  49442.342886     1362   \n",
       "\n",
       "   cmmarrhx      finalwgt   agemarry        age missing  year  age_index  \\\n",
       "0      1237   8111.081751  17.500000  26.750000   False    85         26   \n",
       "1       NaN   4082.414347        NaN  16.166667   False    96         16   \n",
       "2      1335  25550.455475  25.833333  27.916667   False    85         27   \n",
       "3       NaN   6754.912773        NaN  26.666667   False    85         26   \n",
       "4      1152  49442.342886  24.750000  42.250000   False    71         42   \n",
       "\n",
       "   agemarry_index  birth_index  \n",
       "0              17           80  \n",
       "1             NaN           90  \n",
       "2              25           80  \n",
       "3             NaN           80  \n",
       "4              24           70  "
      ]
     },
     "execution_count": 42,
     "metadata": {},
     "output_type": "execute_result"
    }
   ],
   "source": [
    "reload(marriage)\n",
    "\n",
    "male2013 = marriage.ReadMaleResp2013()\n",
    "male2013.head()"
   ]
  },
  {
   "cell_type": "code",
   "execution_count": 43,
   "metadata": {
    "collapsed": false
   },
   "outputs": [
    {
     "data": {
      "text/plain": [
       "20146"
      ]
     },
     "execution_count": 43,
     "metadata": {},
     "output_type": "execute_result"
    }
   ],
   "source": [
    "males = [male2002, male2010, male2013]\n",
    "df2 = pd.concat(males, ignore_index=True)\n",
    "len(df2)"
   ]
  },
  {
   "cell_type": "code",
   "execution_count": 44,
   "metadata": {
    "collapsed": false
   },
   "outputs": [
    {
     "data": {
      "text/plain": [
       "0"
      ]
     },
     "execution_count": 44,
     "metadata": {},
     "output_type": "execute_result"
    }
   ],
   "source": [
    "sum(df2.missing)"
   ]
  },
  {
   "cell_type": "code",
   "execution_count": 45,
   "metadata": {
    "collapsed": false
   },
   "outputs": [
    {
     "name": "stdout",
     "output_type": "stream",
     "text": [
      "50 & 322 & 42 -- 45 & 225 & 0 \\\\\n",
      "60 & 3608 & 32 -- 45 & 2487 & 0 \\\\\n",
      "70 & 6004 & 22 -- 43 & 3270 & 0 \\\\\n",
      "80 & 6999 & 15 -- 33 & 1166 & 0 \\\\\n",
      "90 & 3213 & 15 -- 23 & 23 & 0 \\\\\n"
     ]
    }
   ],
   "source": [
    "marriage.DigitizeResp(df2)\n",
    "grouped = df2.groupby('birth_index')\n",
    "for name, group in iter(grouped):\n",
    "    print(name, '&', len(group), '&', int(group.age.min()), '--', int(group.age_index.max()),\n",
    "                '&', len(group[group.evrmarry]), '&', sum(group.missing), r'\\\\')"
   ]
  },
  {
   "cell_type": "code",
   "execution_count": 46,
   "metadata": {
    "collapsed": false
   },
   "outputs": [
    {
     "name": "stdout",
     "output_type": "stream",
     "text": [
      "CPU times: user 4.38 s, sys: 8 ms, total: 4.39 s\n",
      "Wall time: 4.37 s\n"
     ]
    }
   ],
   "source": [
    "%time sf_map_male = marriage.EstimateSurvivalByCohort(males, iters=21)"
   ]
  },
  {
   "cell_type": "code",
   "execution_count": 47,
   "metadata": {
    "collapsed": false
   },
   "outputs": [
    {
     "name": "stdout",
     "output_type": "stream",
     "text": [
      "Writing marriage7.pdf\n",
      "Writing marriage7.png\n"
     ]
    },
    {
     "data": {
      "image/png": "[encoded data removed]",
      "text/plain": [
       "<matplotlib.figure.Figure at 0x7fdc98b1add0>"
      ]
     },
     "metadata": {},
     "output_type": "display_data"
    }
   ],
   "source": [
    "PlotSurvivalFunctions('marriage7', sf_map_male, None, **options)"
   ]
  },
  {
   "cell_type": "code",
   "execution_count": 48,
   "metadata": {
    "collapsed": false
   },
   "outputs": [
    {
     "name": "stdout",
     "output_type": "stream",
     "text": [
      "CPU times: user 2.29 s, sys: 16 ms, total: 2.31 s\n",
      "Wall time: 2.3 s\n"
     ]
    }
   ],
   "source": [
    "%time sf_map_male_pred = marriage.EstimateSurvivalByCohort(males, iters=11, predict_flag=True)"
   ]
  },
  {
   "cell_type": "code",
   "execution_count": 49,
   "metadata": {
    "collapsed": false
   },
   "outputs": [
    {
     "name": "stdout",
     "output_type": "stream",
     "text": [
      "Writing marriage8.pdf\n",
      "Writing marriage8.png\n"
     ]
    },
    {
     "data": {
      "image/png": "[encoded data removed]",
      "text/plain": [
       "<matplotlib.figure.Figure at 0x7fdc9f224490>"
      ]
     },
     "metadata": {},
     "output_type": "display_data"
    }
   ],
   "source": [
    "PlotSurvivalFunctions('marriage8', sf_map_male, sf_map_male_pred, **options)"
   ]
  },
  {
   "cell_type": "code",
   "execution_count": null,
   "metadata": {
    "collapsed": true
   },
   "outputs": [],
   "source": []
  },
  {
   "cell_type": "code",
   "execution_count": 52,
   "metadata": {
    "collapsed": false
   },
   "outputs": [],
   "source": [
    "reload(marriage)\n",
    "\n",
    "from collections import defaultdict\n",
    "from collections import OrderedDict\n",
    "\n",
    "def EstimateSurvivalByCohort(resps, iters=101, predict_flag=False):\n",
    "    \"\"\"Makes survival curves for resampled data.\n",
    "\n",
    "    resps: list of DataFrames\n",
    "    iters: number of resamples to plot\n",
    "    predict_flag: whether to also plot predictions\n",
    "    \n",
    "    returns: map from group name to list of survival functions\n",
    "    \"\"\"\n",
    "    cutoffs = {70:43, 80:33, 90:23}\n",
    "    sf_map = defaultdict(list)\n",
    "\n",
    "    # iters is the number of resampling runs to make\n",
    "    for i in range(iters):\n",
    "        sample = marriage.ResampleResps(resps)\n",
    "\n",
    "        # group by decade\n",
    "        grouped = sample.groupby('birth_index')\n",
    "\n",
    "        # and estimate (hf, sf) for each group\n",
    "        hf_map = OrderedDict()\n",
    "        for name, group in iter(grouped):\n",
    "            cutoff = FindCutoff(name, group)\n",
    "            marriage.FillMissingAgemarry(group)\n",
    "            hf_map[name] = marriage.EstimateSurvival(group, cutoff)\n",
    "\n",
    "        # make predictions if desired\n",
    "        if predict_flag:\n",
    "            marriage.MakePredictions(hf_map)       \n",
    "\n",
    "        # extract the sf from each pair and accumulate the results\n",
    "        for name, (hf, sf) in hf_map.items():\n",
    "            sf_map[name].append(sf)\n",
    "             \n",
    "    return sf_map\n",
    "\n",
    "def FindCutoff(name, group):\n",
    "    pass"
   ]
  },
  {
   "cell_type": "code",
   "execution_count": 53,
   "metadata": {
    "collapsed": false
   },
   "outputs": [
    {
     "name": "stdout",
     "output_type": "stream",
     "text": [
      "Writing marriage9.pdf\n",
      "Writing marriage9.png\n"
     ]
    },
    {
     "data": {
      "image/png": "[encoded data removed]",
      "text/plain": [
       "<matplotlib.figure.Figure at 0x7fdc9c305310>"
      ]
     },
     "metadata": {},
     "output_type": "display_data"
    }
   ],
   "source": [
    "sf_map_male = EstimateSurvivalByCohort(males, iters=11)\n",
    "PlotSurvivalFunctions('marriage9', sf_map_male, None, **options)"
   ]
  },
  {
   "cell_type": "code",
   "execution_count": 54,
   "metadata": {
    "collapsed": false
   },
   "outputs": [
    {
     "name": "stdout",
     "output_type": "stream",
     "text": [
      "Writing marriage10.pdf\n",
      "Writing marriage10.png\n"
     ]
    },
    {
     "data": {
      "image/png": "[encoded data removed]",
      "text/plain": [
       "<matplotlib.figure.Figure at 0x7fdc9f4ab590>"
      ]
     },
     "metadata": {},
     "output_type": "display_data"
    }
   ],
   "source": [
    "sf_map_male_pred = EstimateSurvivalByCohort(males, iters=11, predict_flag=True)\n",
    "PlotSurvivalFunctions('marriage10', sf_map_male, sf_map_male_pred, **options)"
   ]
  },
  {
   "cell_type": "code",
   "execution_count": null,
   "metadata": {
    "collapsed": true
   },
   "outputs": [],
   "source": []
  }
 ],
 "metadata": {
  "kernelspec": {
   "display_name": "Python 2",
   "language": "python",
   "name": "python2"
  },
  "language_info": {
   "codemirror_mode": {
    "name": "ipython",
    "version": 2
   },
   "file_extension": ".py",
   "mimetype": "text/x-python",
   "name": "python",
   "nbconvert_exporter": "python",
   "pygments_lexer": "ipython2",
   "version": "2.7.11"
  }
 },
 "nbformat": 4,
 "nbformat_minor": 0
}
