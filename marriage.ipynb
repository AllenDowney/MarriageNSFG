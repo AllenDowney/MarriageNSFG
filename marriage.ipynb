{
 "cells": [
  {
   "cell_type": "markdown",
   "metadata": {},
   "source": [
    "## Will Millennials Ever Get Married?\n",
    "\n",
    "This notebook contains analysis related to a paper on marriage patterns in the U.S., based on data from the National Survey of Family Growth (NSFG).\n",
    "\n",
    "It is based on Chapter 13 of Think Stats, 2nd Edition, by Allen Downey, available from [thinkstats2.com](http://thinkstats2.com)"
   ]
  },
  {
   "cell_type": "code",
   "execution_count": 1,
   "metadata": {
    "collapsed": false
   },
   "outputs": [],
   "source": [
    "from __future__ import print_function, division\n",
    "\n",
    "%matplotlib inline\n",
    "\n",
    "import warnings\n",
    "warnings.filterwarnings('ignore')\n",
    "\n",
    "import pandas as pd\n",
    "import numpy as np\n",
    "\n",
    "import math\n",
    "\n",
    "import matplotlib.pyplot as plt\n",
    "from matplotlib import pylab\n",
    "\n",
    "from scipy.interpolate import interp1d\n",
    "from scipy.misc import derivative\n",
    "\n",
    "import thinkstats2\n",
    "import thinkplot\n",
    "from thinkstats2 import Cdf\n",
    "\n",
    "import survival\n",
    "import marriage"
   ]
  },
  {
   "cell_type": "markdown",
   "metadata": {},
   "source": [
    "Validating the 2015 data:"
   ]
  },
  {
   "cell_type": "code",
   "execution_count": 2,
   "metadata": {
    "collapsed": false
   },
   "outputs": [],
   "source": [
    "resp9 = marriage.ReadFemResp2015()\n",
    "marriage.Validate2015(resp9)"
   ]
  },
  {
   "cell_type": "code",
   "execution_count": 3,
   "metadata": {
    "collapsed": false
   },
   "outputs": [
    {
     "data": {
      "text/html": [
       "<div>\n",
       "<table border=\"1\" class=\"dataframe\">\n",
       "  <thead>\n",
       "    <tr style=\"text-align: right;\">\n",
       "      <th></th>\n",
       "      <th>caseid</th>\n",
       "      <th>cmbirth</th>\n",
       "      <th>evrmarry</th>\n",
       "      <th>cmmarrhx</th>\n",
       "      <th>cmdivorcx</th>\n",
       "      <th>parity</th>\n",
       "      <th>wgt2013_2015</th>\n",
       "      <th>cmintvw</th>\n",
       "      <th>finalwgt</th>\n",
       "      <th>cycle</th>\n",
       "      <th>agemarry</th>\n",
       "      <th>age</th>\n",
       "      <th>missing</th>\n",
       "      <th>year</th>\n",
       "      <th>age_index</th>\n",
       "      <th>agemarry_index</th>\n",
       "      <th>birth_index</th>\n",
       "    </tr>\n",
       "  </thead>\n",
       "  <tbody>\n",
       "    <tr>\n",
       "      <th>0</th>\n",
       "      <td>60418</td>\n",
       "      <td>921</td>\n",
       "      <td>True</td>\n",
       "      <td>1159</td>\n",
       "      <td>1269</td>\n",
       "      <td>3</td>\n",
       "      <td>3554.964843</td>\n",
       "      <td>1381</td>\n",
       "      <td>3554.964843</td>\n",
       "      <td>9</td>\n",
       "      <td>19.833333</td>\n",
       "      <td>38.333333</td>\n",
       "      <td>False</td>\n",
       "      <td>76</td>\n",
       "      <td>38</td>\n",
       "      <td>19</td>\n",
       "      <td>70</td>\n",
       "    </tr>\n",
       "    <tr>\n",
       "      <th>1</th>\n",
       "      <td>60419</td>\n",
       "      <td>942</td>\n",
       "      <td>True</td>\n",
       "      <td>1207</td>\n",
       "      <td>1253</td>\n",
       "      <td>0</td>\n",
       "      <td>2484.535358</td>\n",
       "      <td>1388</td>\n",
       "      <td>2484.535358</td>\n",
       "      <td>9</td>\n",
       "      <td>22.083333</td>\n",
       "      <td>37.166667</td>\n",
       "      <td>False</td>\n",
       "      <td>78</td>\n",
       "      <td>37</td>\n",
       "      <td>22</td>\n",
       "      <td>70</td>\n",
       "    </tr>\n",
       "    <tr>\n",
       "      <th>2</th>\n",
       "      <td>60420</td>\n",
       "      <td>981</td>\n",
       "      <td>False</td>\n",
       "      <td>NaN</td>\n",
       "      <td>NaN</td>\n",
       "      <td>1</td>\n",
       "      <td>2903.782914</td>\n",
       "      <td>1388</td>\n",
       "      <td>2903.782914</td>\n",
       "      <td>9</td>\n",
       "      <td>NaN</td>\n",
       "      <td>33.916667</td>\n",
       "      <td>False</td>\n",
       "      <td>81</td>\n",
       "      <td>33</td>\n",
       "      <td>NaN</td>\n",
       "      <td>80</td>\n",
       "    </tr>\n",
       "    <tr>\n",
       "      <th>3</th>\n",
       "      <td>60423</td>\n",
       "      <td>1010</td>\n",
       "      <td>False</td>\n",
       "      <td>NaN</td>\n",
       "      <td>NaN</td>\n",
       "      <td>2</td>\n",
       "      <td>2738.498331</td>\n",
       "      <td>1387</td>\n",
       "      <td>2738.498331</td>\n",
       "      <td>9</td>\n",
       "      <td>NaN</td>\n",
       "      <td>31.416667</td>\n",
       "      <td>False</td>\n",
       "      <td>84</td>\n",
       "      <td>31</td>\n",
       "      <td>NaN</td>\n",
       "      <td>80</td>\n",
       "    </tr>\n",
       "    <tr>\n",
       "      <th>4</th>\n",
       "      <td>60426</td>\n",
       "      <td>897</td>\n",
       "      <td>True</td>\n",
       "      <td>1256</td>\n",
       "      <td>NaN</td>\n",
       "      <td>1</td>\n",
       "      <td>9682.211381</td>\n",
       "      <td>1368</td>\n",
       "      <td>9682.211381</td>\n",
       "      <td>9</td>\n",
       "      <td>29.916667</td>\n",
       "      <td>39.250000</td>\n",
       "      <td>False</td>\n",
       "      <td>74</td>\n",
       "      <td>39</td>\n",
       "      <td>29</td>\n",
       "      <td>70</td>\n",
       "    </tr>\n",
       "  </tbody>\n",
       "</table>\n",
       "</div>"
      ],
      "text/plain": [
       "   caseid  cmbirth evrmarry  cmmarrhx  cmdivorcx  parity  wgt2013_2015  \\\n",
       "0   60418      921     True      1159       1269       3   3554.964843   \n",
       "1   60419      942     True      1207       1253       0   2484.535358   \n",
       "2   60420      981    False       NaN        NaN       1   2903.782914   \n",
       "3   60423     1010    False       NaN        NaN       2   2738.498331   \n",
       "4   60426      897     True      1256        NaN       1   9682.211381   \n",
       "\n",
       "   cmintvw     finalwgt  cycle   agemarry        age missing  year  age_index  \\\n",
       "0     1381  3554.964843      9  19.833333  38.333333   False    76         38   \n",
       "1     1388  2484.535358      9  22.083333  37.166667   False    78         37   \n",
       "2     1388  2903.782914      9        NaN  33.916667   False    81         33   \n",
       "3     1387  2738.498331      9        NaN  31.416667   False    84         31   \n",
       "4     1368  9682.211381      9  29.916667  39.250000   False    74         39   \n",
       "\n",
       "   agemarry_index  birth_index  \n",
       "0              19           70  \n",
       "1              22           70  \n",
       "2             NaN           80  \n",
       "3             NaN           80  \n",
       "4              29           70  "
      ]
     },
     "execution_count": 3,
     "metadata": {},
     "output_type": "execute_result"
    }
   ],
   "source": [
    "resp9.head()"
   ]
  },
  {
   "cell_type": "code",
   "execution_count": 4,
   "metadata": {
    "collapsed": false
   },
   "outputs": [
    {
     "data": {
      "image/png": "[encoded data removed]",
      "text/plain": [
       "<matplotlib.figure.Figure at 0x7f606fea9f90>"
      ]
     },
     "metadata": {},
     "output_type": "display_data"
    }
   ],
   "source": [
    "thinkplot.Cdf(Cdf(resp9.age))\n",
    "thinkplot.Config(xlabel='Age', ylabel='CDF')"
   ]
  },
  {
   "cell_type": "code",
   "execution_count": 5,
   "metadata": {
    "collapsed": false
   },
   "outputs": [
    {
     "data": {
      "image/png": "[encoded data removed]",
      "text/plain": [
       "<matplotlib.figure.Figure at 0x7f606ce436d0>"
      ]
     },
     "metadata": {},
     "output_type": "display_data"
    }
   ],
   "source": [
    "thinkplot.Cdf(Cdf(resp9.agemarry))\n",
    "thinkplot.Config(xlabel='Age at first marriage', ylabel='CDF')"
   ]
  },
  {
   "cell_type": "code",
   "execution_count": 6,
   "metadata": {
    "collapsed": false
   },
   "outputs": [
    {
     "data": {
      "image/png": "[encoded data removed]",
      "text/plain": [
       "<matplotlib.figure.Figure at 0x7f606d5f7190>"
      ]
     },
     "metadata": {},
     "output_type": "display_data"
    }
   ],
   "source": [
    "thinkplot.Cdf(Cdf(resp9.finalwgt))\n",
    "thinkplot.Config(xlabel='Sampling weight', ylabel='CDF')"
   ]
  },
  {
   "cell_type": "markdown",
   "metadata": {},
   "source": [
    "Loading the rest of the data"
   ]
  },
  {
   "cell_type": "code",
   "execution_count": 7,
   "metadata": {
    "collapsed": false
   },
   "outputs": [],
   "source": [
    "resp8 = marriage.ReadFemResp2013()\n",
    "marriage.Validate2013(resp8)\n",
    "\n",
    "resp7 = marriage.ReadFemResp2010()\n",
    "marriage.Validate2010(resp7)\n",
    "\n",
    "resp6 = marriage.ReadFemResp2002()\n",
    "marriage.Validate2002(resp6)\n",
    "\n",
    "resp5 = marriage.ReadFemResp1995()\n",
    "marriage.Validate1995(resp5)\n",
    "\n",
    "resp4 = marriage.ReadFemResp1988()\n",
    "marriage.Validate1988(resp4)\n",
    "\n",
    "resp3 = marriage.ReadFemResp1982()\n",
    "marriage.Validate1982(resp3)"
   ]
  },
  {
   "cell_type": "markdown",
   "metadata": {},
   "source": [
    "Make a list of DataFrames, one for each cycle:"
   ]
  },
  {
   "cell_type": "code",
   "execution_count": 8,
   "metadata": {
    "collapsed": false
   },
   "outputs": [],
   "source": [
    "resps = [resp9, resp8, resp7, resp6, resp5, resp4, resp3]\n",
    "#resps = [resp9]"
   ]
  },
  {
   "cell_type": "markdown",
   "metadata": {},
   "source": [
    "Make a table showing the number of respondents in each cycle:"
   ]
  },
  {
   "cell_type": "code",
   "execution_count": 9,
   "metadata": {
    "collapsed": false
   },
   "outputs": [
    {
     "name": "stdout",
     "output_type": "stream",
     "text": [
      "# &  [1982 1983] & 7969 & [1937 1968] \\\\\n",
      "# &  [1988 1988] & 8450 & [1943 1973] \\\\\n",
      "# &  [1995 1995] & 10847 & [1950 1980] \\\\\n",
      "# &  [2002 2003] & 7643 & [1957 1988] \\\\\n",
      "# &  [2006 2010] & 12279 & [1961 1995] \\\\\n",
      "# &  [2011 2013] & 5601 & [1966 1998] \\\\\n",
      "# &  [2013 2015] & 5699 & [1968 2000] \\\\\n"
     ]
    }
   ],
   "source": [
    "def SummarizeCycle(df):\n",
    "    ages = df.age.min(), df.age.max()\n",
    "    ages= np.array(ages)\n",
    "    \n",
    "    intvws = df.cmintvw.min(), df.cmintvw.max()\n",
    "    intvws = np.array(intvws) / 12 + 1900\n",
    "    \n",
    "    births = df.cmbirth.min(), df.cmbirth.max()\n",
    "    births = np.array(births) / 12 + 1900\n",
    "\n",
    "    print('# & ', intvws.astype(int), '&', len(df), '&', births.astype(int), r'\\\\')\n",
    "    \n",
    "for resp in reversed(resps):\n",
    "    SummarizeCycle(resp)"
   ]
  },
  {
   "cell_type": "markdown",
   "metadata": {},
   "source": [
    "Check for missing values in `agemarry`:"
   ]
  },
  {
   "cell_type": "code",
   "execution_count": 10,
   "metadata": {
    "collapsed": false
   },
   "outputs": [
    {
     "name": "stdout",
     "output_type": "stream",
     "text": [
      "11\n",
      "17\n",
      "16\n",
      "37\n",
      "0\n",
      "0\n",
      "0\n"
     ]
    }
   ],
   "source": [
    "def CheckAgeVars(df):\n",
    "    print(sum(df[df.evrmarry].agemarry.isnull()))\n",
    "    \n",
    "for resp in resps:\n",
    "    CheckAgeVars(resp)"
   ]
  },
  {
   "cell_type": "markdown",
   "metadata": {},
   "source": [
    "Combine the DataFrames (but remember that this is not resampled properly):"
   ]
  },
  {
   "cell_type": "code",
   "execution_count": 11,
   "metadata": {
    "collapsed": false
   },
   "outputs": [
    {
     "data": {
      "text/plain": [
       "58488"
      ]
     },
     "execution_count": 11,
     "metadata": {},
     "output_type": "execute_result"
    }
   ],
   "source": [
    "df = pd.concat(resps, ignore_index=True)\n",
    "len(df)"
   ]
  },
  {
   "cell_type": "code",
   "execution_count": 51,
   "metadata": {
    "collapsed": true
   },
   "outputs": [],
   "source": [
    "df.to_csv('FemMarriageData.csv')"
   ]
  },
  {
   "cell_type": "markdown",
   "metadata": {},
   "source": [
    "Double check missing data:"
   ]
  },
  {
   "cell_type": "code",
   "execution_count": 12,
   "metadata": {
    "collapsed": false
   },
   "outputs": [
    {
     "data": {
      "text/plain": [
       "81"
      ]
     },
     "execution_count": 12,
     "metadata": {},
     "output_type": "execute_result"
    }
   ],
   "source": [
    "sum(df.missing)"
   ]
  },
  {
   "cell_type": "markdown",
   "metadata": {},
   "source": [
    "Generate a table with the number of respondents in each cohort:"
   ]
  },
  {
   "cell_type": "code",
   "execution_count": 13,
   "metadata": {
    "collapsed": false
   },
   "outputs": [
    {
     "name": "stdout",
     "output_type": "stream",
     "text": [
      "30 & 325 & 42 -- 45 & 310 & 0 \\\\\n",
      "40 & 3608 & 32 -- 45 & 3275 & 0 \\\\\n",
      "50 & 10631 & 22 -- 45 & 8658 & 10 \\\\\n",
      "60 & 14558 & 15 -- 45 & 8484 & 28 \\\\\n",
      "70 & 13700 & 14 -- 45 & 7090 & 30 \\\\\n",
      "80 & 10637 & 14 -- 35 & 3218 & 13 \\\\\n",
      "90 & 5014 & 15 -- 25 & 234 & 0 \\\\\n",
      "100 & 15 & 15 -- 15 & 0 & 0 \\\\\n"
     ]
    }
   ],
   "source": [
    "marriage.DigitizeResp(df)\n",
    "grouped = df.groupby('birth_index')\n",
    "for name, group in iter(grouped):\n",
    "    print(name, '&', len(group), '&', int(group.age.min()), '--', int(group.age_index.max()),\n",
    "                '&', len(group[group.evrmarry]), '&', sum(group.missing), r'\\\\')"
   ]
  },
  {
   "cell_type": "code",
   "execution_count": 14,
   "metadata": {
    "collapsed": false
   },
   "outputs": [
    {
     "data": {
      "text/plain": [
       "{30: 45, 40: 45, 50: 45, 60: 45, 70: 45, 80: 35, 90: 25, 100: 15}"
      ]
     },
     "execution_count": 14,
     "metadata": {},
     "output_type": "execute_result"
    }
   ],
   "source": [
    "def ComputeCutoffs(df):\n",
    "    grouped = df.groupby('birth_index')\n",
    "    cutoffs = {}\n",
    "    for name, group in sorted(grouped):\n",
    "        cutoffs[name] = int(group.age.max())\n",
    "    return cutoffs\n",
    "\n",
    "cutoffs = ComputeCutoffs(df)\n",
    "cutoffs"
   ]
  },
  {
   "cell_type": "markdown",
   "metadata": {},
   "source": [
    "Estimate the hazard function for the 80s cohort (curious to see what's going on during the \"marriage strike\")"
   ]
  },
  {
   "cell_type": "code",
   "execution_count": 15,
   "metadata": {
    "collapsed": false
   },
   "outputs": [
    {
     "name": "stdout",
     "output_type": "stream",
     "text": [
      "13.0 10624 8 0 0.000753012048193\n",
      "14.0 10616 9 14 0.000847776940467\n",
      "15.0 10593 31 260 0.00292646087039\n",
      "16.0 10302 82 242 0.00795961949136\n",
      "17.0 9978 103 338 0.0103227099619\n",
      "18.0 9537 271 460 0.0284156443326\n",
      "19.0 8806 358 569 0.0406540994776\n",
      "20.0 7879 346 579 0.0439142023099\n",
      "21.0 6954 352 572 0.0506183491516\n",
      "22.0 6030 361 572 0.0598673300166\n",
      "23.0 5097 303 454 0.0594467333726\n",
      "24.0 4340 286 533 0.0658986175115\n",
      "25.0 3521 250 576 0.071002556092\n",
      "26.0 2695 154 531 0.0571428571429\n",
      "27.0 2010 119 447 0.0592039800995\n",
      "28.0 1444 79 322 0.0547091412742\n",
      "29.0 1043 48 283 0.046021093001\n",
      "30.0 712 26 199 0.0365168539326\n",
      "31.0 487 15 180 0.0308008213552\n",
      "32.0 292 2 147 0.00684931506849\n",
      "33.0 143 2 83 0.013986013986\n",
      "34.0 58 0 42 0.0\n",
      "35.0 16 0 16 0.0\n"
     ]
    }
   ],
   "source": [
    "cohort = grouped.get_group(80)\n",
    "missing = (cohort.evrmarry & cohort.agemarry.isnull())\n",
    "cohort = cohort[~missing]\n",
    "complete = cohort[cohort.evrmarry].agemarry_index\n",
    "ongoing = cohort[~cohort.evrmarry].age_index\n",
    "hf = survival.EstimateHazardFunction(complete, ongoing, verbose=True)"
   ]
  },
  {
   "cell_type": "markdown",
   "metadata": {},
   "source": [
    "Run the same analysis for the 70s cohort (to extract $\\lambda(33)$)."
   ]
  },
  {
   "cell_type": "code",
   "execution_count": 16,
   "metadata": {
    "collapsed": false
   },
   "outputs": [
    {
     "name": "stdout",
     "output_type": "stream",
     "text": [
      "10.0 13670 1 0 7.31528895391e-05\n",
      "11.0 13669 1 0 7.31582412759e-05\n",
      "12.0 13668 3 0 0.000219490781387\n",
      "13.0 13665 7 0 0.000512257592389\n",
      "14.0 13658 27 3 0.00197686337678\n",
      "15.0 13628 58 388 0.00425594364544\n",
      "16.0 13182 153 518 0.0116067364588\n",
      "17.0 12511 231 540 0.0184637518983\n",
      "18.0 11740 503 340 0.0428449744463\n",
      "19.0 10897 594 268 0.0545104157107\n",
      "20.0 10035 572 242 0.0570004982561\n",
      "21.0 9221 616 220 0.0668040342696\n",
      "22.0 8385 613 264 0.073106738223\n",
      "23.0 7508 599 347 0.0797815663292\n",
      "24.0 6562 545 345 0.0830539469674\n",
      "25.0 5672 492 205 0.0867418899859\n",
      "26.0 4975 433 149 0.0870351758794\n",
      "27.0 4393 313 164 0.0712497154564\n",
      "28.0 3916 330 198 0.0842696629213\n",
      "29.0 3388 257 215 0.0758559622196\n",
      "30.0 2916 203 315 0.0696159122085\n",
      "31.0 2398 130 278 0.0542118432027\n",
      "32.0 1990 115 212 0.0577889447236\n",
      "33.0 1663 76 155 0.0457005411906\n",
      "34.0 1432 63 173 0.0439944134078\n",
      "35.0 1196 45 216 0.0376254180602\n",
      "36.0 935 21 198 0.0224598930481\n",
      "37.0 716 19 162 0.0265363128492\n",
      "38.0 535 14 121 0.0261682242991\n",
      "39.0 400 10 106 0.025\n",
      "40.0 284 8 73 0.0281690140845\n",
      "41.0 203 1 69 0.00492610837438\n",
      "42.0 133 5 54 0.0375939849624\n",
      "43.0 74 2 48 0.027027027027\n",
      "44.0 24 0 24 0.0\n"
     ]
    }
   ],
   "source": [
    "cohort = grouped.get_group(70)\n",
    "missing = (cohort.evrmarry & cohort.agemarry.isnull())\n",
    "cohort = cohort[~missing]\n",
    "complete = cohort[cohort.evrmarry].agemarry_index\n",
    "ongoing = cohort[~cohort.evrmarry].age_index\n",
    "hf = survival.EstimateHazardFunction(complete, ongoing, verbose=True)"
   ]
  },
  {
   "cell_type": "markdown",
   "metadata": {},
   "source": [
    "Use the 30s cohort to demonstrate the simple way to do survival analysis, by computing the survival function directly."
   ]
  },
  {
   "cell_type": "code",
   "execution_count": 17,
   "metadata": {
    "collapsed": false
   },
   "outputs": [
    {
     "name": "stdout",
     "output_type": "stream",
     "text": [
      "[ 0.99384615  0.96923077  0.94769231  0.90153846  0.81846154  0.68615385\n",
      "  0.56        0.46461538  0.36307692  0.29538462  0.26153846  0.23384615\n",
      "  0.21230769  0.17538462  0.14769231  0.13230769  0.11076923  0.10153846\n",
      "  0.08923077  0.07692308  0.07384615  0.06461538  0.06153846  0.05846154\n",
      "  0.05538462  0.04923077  0.04615385  0.        ]\n"
     ]
    },
    {
     "data": {
      "image/png": "[encoded data removed]",
      "text/plain": [
       "<matplotlib.figure.Figure at 0x7f606d4ddbd0>"
      ]
     },
     "metadata": {},
     "output_type": "display_data"
    }
   ],
   "source": [
    "cohort = grouped.get_group(30)\n",
    "sf = survival.MakeSurvivalFromSeq(cohort.agemarry_index.fillna(np.inf))\n",
    "ts, ss = sf.Render()\n",
    "print(ss)\n",
    "thinkplot.Plot(ts, ss)\n",
    "thinkplot.Config(xlim=[12, 42])"
   ]
  },
  {
   "cell_type": "markdown",
   "metadata": {},
   "source": [
    "Then use the SurvivalFunction to compute the HazardFunction:"
   ]
  },
  {
   "cell_type": "code",
   "execution_count": 18,
   "metadata": {
    "collapsed": false
   },
   "outputs": [
    {
     "name": "stdout",
     "output_type": "stream",
     "text": [
      "[ 0.00615385  0.0247678   0.02222222  0.0487013   0.09215017  0.16165414\n",
      "  0.1838565   0.17032967  0.21854305  0.18644068  0.11458333  0.10588235\n",
      "  0.09210526  0.17391304  0.15789474  0.10416667  0.1627907   0.08333333\n",
      "  0.12121212  0.13793103  0.04        0.125       0.04761905  0.05\n",
      "  0.05263158  0.11111111  0.0625      1.        ]\n"
     ]
    },
    {
     "data": {
      "image/png": "[encoded data removed]",
      "text/plain": [
       "<matplotlib.figure.Figure at 0x7f606ce26150>"
      ]
     },
     "metadata": {},
     "output_type": "display_data"
    }
   ],
   "source": [
    "hf = sf.MakeHazardFunction()\n",
    "ts, lams = hf.Render()\n",
    "print(lams)\n",
    "thinkplot.Plot(ts, lams)\n",
    "thinkplot.Config(xlim=[12, 42])"
   ]
  },
  {
   "cell_type": "markdown",
   "metadata": {},
   "source": [
    "Make the first figure, showing sf and hf for the 30s cohort:"
   ]
  },
  {
   "cell_type": "code",
   "execution_count": 19,
   "metadata": {
    "collapsed": true
   },
   "outputs": [],
   "source": [
    "options = dict(formats=['pdf', 'png'], clf=False)"
   ]
  },
  {
   "cell_type": "code",
   "execution_count": 20,
   "metadata": {
    "collapsed": false
   },
   "outputs": [
    {
     "name": "stdout",
     "output_type": "stream",
     "text": [
      "Writing marriage1.pdf\n",
      "Writing marriage1.png\n"
     ]
    },
    {
     "data": {
      "image/png": "[encoded data removed]",
      "text/plain": [
       "<matplotlib.figure.Figure at 0x7f606cdd7f90>"
      ]
     },
     "metadata": {},
     "output_type": "display_data"
    }
   ],
   "source": [
    "thinkplot.PrePlot(2, rows=2)\n",
    "\n",
    "thinkplot.Plot(sf, label='survival')\n",
    "thinkplot.Config(xlim=[13, 41], ylim=[0, 1.05])\n",
    "plt.ylabel('Survival Function', fontsize=14)\n",
    "\n",
    "thinkplot.SubPlot(2)\n",
    "thinkplot.Plot(hf, label='hazard')\n",
    "thinkplot.Config(xlabel='age(years)', ylabel='Hazard function', xlim=[13, 41])\n",
    "plt.ylabel('Hazard Function', fontsize=14)\n",
    "plt.xlabel('Age (years)', fontsize=14)\n",
    "\n",
    "thinkplot.Save(root='marriage1', **options)"
   ]
  },
  {
   "cell_type": "code",
   "execution_count": 21,
   "metadata": {
    "collapsed": false
   },
   "outputs": [
    {
     "name": "stdout",
     "output_type": "stream",
     "text": [
      "Writing marriage2.pdf\n",
      "Writing marriage2.png\n"
     ]
    },
    {
     "data": {
      "image/png": "[encoded data removed]",
      "text/plain": [
       "<matplotlib.figure.Figure at 0x7f606ce26d90>"
      ]
     },
     "metadata": {},
     "output_type": "display_data"
    }
   ],
   "source": [
    "thinkplot.PrePlot(1)\n",
    "\n",
    "thinkplot.Plot(sf, label='30s')\n",
    "thinkplot.Config(xlim=[13, 41], ylim=[0, 1.05])\n",
    "plt.xlabel('Age (years)', fontsize=14)\n",
    "plt.ylabel('Survival function', fontsize=14)\n",
    "\n",
    "thinkplot.Save(root='marriage2', **options)"
   ]
  },
  {
   "cell_type": "code",
   "execution_count": 22,
   "metadata": {
    "collapsed": false
   },
   "outputs": [
    {
     "name": "stdout",
     "output_type": "stream",
     "text": [
      "Writing marriage3.pdf\n",
      "Writing marriage3.png\n"
     ]
    },
    {
     "data": {
      "image/png": "[encoded data removed]",
      "text/plain": [
       "<matplotlib.figure.Figure at 0x7f606d4f8fd0>"
      ]
     },
     "metadata": {},
     "output_type": "display_data"
    }
   ],
   "source": [
    "thinkplot.PrePlot(1)\n",
    "\n",
    "thinkplot.Plot(hf, label='30s')\n",
    "thinkplot.Config(xlim=[13, 41])\n",
    "plt.xlabel('Age (years)', fontsize=14)\n",
    "plt.ylabel('Hazard function', fontsize=14)\n",
    "\n",
    "thinkplot.Save(root='marriage3', **options)"
   ]
  },
  {
   "cell_type": "markdown",
   "metadata": {},
   "source": [
    "Make some pivot tables, just to see where the data are:"
   ]
  },
  {
   "cell_type": "code",
   "execution_count": 23,
   "metadata": {
    "collapsed": false
   },
   "outputs": [
    {
     "data": {
      "text/html": [
       "<div>\n",
       "<table border=\"1\" class=\"dataframe\">\n",
       "  <thead>\n",
       "    <tr style=\"text-align: right;\">\n",
       "      <th>age_index</th>\n",
       "      <th>14.0</th>\n",
       "      <th>15.0</th>\n",
       "      <th>16.0</th>\n",
       "      <th>17.0</th>\n",
       "      <th>18.0</th>\n",
       "      <th>19.0</th>\n",
       "      <th>20.0</th>\n",
       "      <th>21.0</th>\n",
       "      <th>22.0</th>\n",
       "      <th>23.0</th>\n",
       "      <th>...</th>\n",
       "      <th>36.0</th>\n",
       "      <th>37.0</th>\n",
       "      <th>38.0</th>\n",
       "      <th>39.0</th>\n",
       "      <th>40.0</th>\n",
       "      <th>41.0</th>\n",
       "      <th>42.0</th>\n",
       "      <th>43.0</th>\n",
       "      <th>44.0</th>\n",
       "      <th>45.0</th>\n",
       "    </tr>\n",
       "    <tr>\n",
       "      <th>birth_index</th>\n",
       "      <th></th>\n",
       "      <th></th>\n",
       "      <th></th>\n",
       "      <th></th>\n",
       "      <th></th>\n",
       "      <th></th>\n",
       "      <th></th>\n",
       "      <th></th>\n",
       "      <th></th>\n",
       "      <th></th>\n",
       "      <th></th>\n",
       "      <th></th>\n",
       "      <th></th>\n",
       "      <th></th>\n",
       "      <th></th>\n",
       "      <th></th>\n",
       "      <th></th>\n",
       "      <th></th>\n",
       "      <th></th>\n",
       "      <th></th>\n",
       "      <th></th>\n",
       "    </tr>\n",
       "  </thead>\n",
       "  <tbody>\n",
       "    <tr>\n",
       "      <th>30</th>\n",
       "      <td>0</td>\n",
       "      <td>0</td>\n",
       "      <td>0</td>\n",
       "      <td>0</td>\n",
       "      <td>0</td>\n",
       "      <td>0</td>\n",
       "      <td>0</td>\n",
       "      <td>0</td>\n",
       "      <td>0</td>\n",
       "      <td>0</td>\n",
       "      <td>...</td>\n",
       "      <td>0</td>\n",
       "      <td>0</td>\n",
       "      <td>0</td>\n",
       "      <td>0</td>\n",
       "      <td>0</td>\n",
       "      <td>0</td>\n",
       "      <td>19</td>\n",
       "      <td>146</td>\n",
       "      <td>148</td>\n",
       "      <td>12</td>\n",
       "    </tr>\n",
       "    <tr>\n",
       "      <th>40</th>\n",
       "      <td>0</td>\n",
       "      <td>0</td>\n",
       "      <td>0</td>\n",
       "      <td>0</td>\n",
       "      <td>0</td>\n",
       "      <td>0</td>\n",
       "      <td>0</td>\n",
       "      <td>0</td>\n",
       "      <td>0</td>\n",
       "      <td>0</td>\n",
       "      <td>...</td>\n",
       "      <td>202</td>\n",
       "      <td>163</td>\n",
       "      <td>345</td>\n",
       "      <td>452</td>\n",
       "      <td>442</td>\n",
       "      <td>414</td>\n",
       "      <td>384</td>\n",
       "      <td>194</td>\n",
       "      <td>198</td>\n",
       "      <td>25</td>\n",
       "    </tr>\n",
       "    <tr>\n",
       "      <th>50</th>\n",
       "      <td>0</td>\n",
       "      <td>0</td>\n",
       "      <td>0</td>\n",
       "      <td>0</td>\n",
       "      <td>0</td>\n",
       "      <td>0</td>\n",
       "      <td>0</td>\n",
       "      <td>0</td>\n",
       "      <td>42</td>\n",
       "      <td>301</td>\n",
       "      <td>...</td>\n",
       "      <td>745</td>\n",
       "      <td>768</td>\n",
       "      <td>492</td>\n",
       "      <td>427</td>\n",
       "      <td>396</td>\n",
       "      <td>371</td>\n",
       "      <td>482</td>\n",
       "      <td>633</td>\n",
       "      <td>533</td>\n",
       "      <td>38</td>\n",
       "    </tr>\n",
       "    <tr>\n",
       "      <th>60</th>\n",
       "      <td>0</td>\n",
       "      <td>269</td>\n",
       "      <td>300</td>\n",
       "      <td>370</td>\n",
       "      <td>665</td>\n",
       "      <td>722</td>\n",
       "      <td>609</td>\n",
       "      <td>513</td>\n",
       "      <td>520</td>\n",
       "      <td>242</td>\n",
       "      <td>...</td>\n",
       "      <td>282</td>\n",
       "      <td>359</td>\n",
       "      <td>417</td>\n",
       "      <td>466</td>\n",
       "      <td>595</td>\n",
       "      <td>562</td>\n",
       "      <td>537</td>\n",
       "      <td>512</td>\n",
       "      <td>517</td>\n",
       "      <td>33</td>\n",
       "    </tr>\n",
       "    <tr>\n",
       "      <th>70</th>\n",
       "      <td>3</td>\n",
       "      <td>389</td>\n",
       "      <td>523</td>\n",
       "      <td>549</td>\n",
       "      <td>362</td>\n",
       "      <td>293</td>\n",
       "      <td>283</td>\n",
       "      <td>285</td>\n",
       "      <td>365</td>\n",
       "      <td>572</td>\n",
       "      <td>...</td>\n",
       "      <td>700</td>\n",
       "      <td>610</td>\n",
       "      <td>486</td>\n",
       "      <td>432</td>\n",
       "      <td>290</td>\n",
       "      <td>310</td>\n",
       "      <td>233</td>\n",
       "      <td>203</td>\n",
       "      <td>105</td>\n",
       "      <td>1</td>\n",
       "    </tr>\n",
       "    <tr>\n",
       "      <th>80</th>\n",
       "      <td>14</td>\n",
       "      <td>260</td>\n",
       "      <td>242</td>\n",
       "      <td>340</td>\n",
       "      <td>483</td>\n",
       "      <td>589</td>\n",
       "      <td>658</td>\n",
       "      <td>683</td>\n",
       "      <td>705</td>\n",
       "      <td>602</td>\n",
       "      <td>...</td>\n",
       "      <td>0</td>\n",
       "      <td>0</td>\n",
       "      <td>0</td>\n",
       "      <td>0</td>\n",
       "      <td>0</td>\n",
       "      <td>0</td>\n",
       "      <td>0</td>\n",
       "      <td>0</td>\n",
       "      <td>0</td>\n",
       "      <td>0</td>\n",
       "    </tr>\n",
       "    <tr>\n",
       "      <th>90</th>\n",
       "      <td>0</td>\n",
       "      <td>749</td>\n",
       "      <td>804</td>\n",
       "      <td>784</td>\n",
       "      <td>678</td>\n",
       "      <td>563</td>\n",
       "      <td>351</td>\n",
       "      <td>378</td>\n",
       "      <td>308</td>\n",
       "      <td>215</td>\n",
       "      <td>...</td>\n",
       "      <td>0</td>\n",
       "      <td>0</td>\n",
       "      <td>0</td>\n",
       "      <td>0</td>\n",
       "      <td>0</td>\n",
       "      <td>0</td>\n",
       "      <td>0</td>\n",
       "      <td>0</td>\n",
       "      <td>0</td>\n",
       "      <td>0</td>\n",
       "    </tr>\n",
       "    <tr>\n",
       "      <th>100</th>\n",
       "      <td>0</td>\n",
       "      <td>15</td>\n",
       "      <td>0</td>\n",
       "      <td>0</td>\n",
       "      <td>0</td>\n",
       "      <td>0</td>\n",
       "      <td>0</td>\n",
       "      <td>0</td>\n",
       "      <td>0</td>\n",
       "      <td>0</td>\n",
       "      <td>...</td>\n",
       "      <td>0</td>\n",
       "      <td>0</td>\n",
       "      <td>0</td>\n",
       "      <td>0</td>\n",
       "      <td>0</td>\n",
       "      <td>0</td>\n",
       "      <td>0</td>\n",
       "      <td>0</td>\n",
       "      <td>0</td>\n",
       "      <td>0</td>\n",
       "    </tr>\n",
       "  </tbody>\n",
       "</table>\n",
       "<p>8 rows × 32 columns</p>\n",
       "</div>"
      ],
      "text/plain": [
       "age_index    14   15   16   17   18   19   20   21   22   23 ...   36   37  \\\n",
       "birth_index                                                  ...             \n",
       "30            0    0    0    0    0    0    0    0    0    0 ...    0    0   \n",
       "40            0    0    0    0    0    0    0    0    0    0 ...  202  163   \n",
       "50            0    0    0    0    0    0    0    0   42  301 ...  745  768   \n",
       "60            0  269  300  370  665  722  609  513  520  242 ...  282  359   \n",
       "70            3  389  523  549  362  293  283  285  365  572 ...  700  610   \n",
       "80           14  260  242  340  483  589  658  683  705  602 ...    0    0   \n",
       "90            0  749  804  784  678  563  351  378  308  215 ...    0    0   \n",
       "100           0   15    0    0    0    0    0    0    0    0 ...    0    0   \n",
       "\n",
       "age_index     38   39   40   41   42   43   44  45  \n",
       "birth_index                                         \n",
       "30             0    0    0    0   19  146  148  12  \n",
       "40           345  452  442  414  384  194  198  25  \n",
       "50           492  427  396  371  482  633  533  38  \n",
       "60           417  466  595  562  537  512  517  33  \n",
       "70           486  432  290  310  233  203  105   1  \n",
       "80             0    0    0    0    0    0    0   0  \n",
       "90             0    0    0    0    0    0    0   0  \n",
       "100            0    0    0    0    0    0    0   0  \n",
       "\n",
       "[8 rows x 32 columns]"
      ]
     },
     "execution_count": 23,
     "metadata": {},
     "output_type": "execute_result"
    }
   ],
   "source": [
    "pt = df.pivot_table(index='birth_index', columns='age_index', values='age', aggfunc=len, fill_value=0)\n",
    "pt"
   ]
  },
  {
   "cell_type": "markdown",
   "metadata": {},
   "source": [
    "The following pivot table is not as helpful as it could be, since it doesn't show the number at risk."
   ]
  },
  {
   "cell_type": "code",
   "execution_count": 24,
   "metadata": {
    "collapsed": false
   },
   "outputs": [
    {
     "data": {
      "text/html": [
       "<div>\n",
       "<table border=\"1\" class=\"dataframe\">\n",
       "  <thead>\n",
       "    <tr style=\"text-align: right;\">\n",
       "      <th>agemarry_index</th>\n",
       "      <th>10.0</th>\n",
       "      <th>11.0</th>\n",
       "      <th>12.0</th>\n",
       "      <th>13.0</th>\n",
       "      <th>14.0</th>\n",
       "      <th>15.0</th>\n",
       "      <th>16.0</th>\n",
       "      <th>17.0</th>\n",
       "      <th>18.0</th>\n",
       "      <th>19.0</th>\n",
       "      <th>...</th>\n",
       "      <th>34.0</th>\n",
       "      <th>35.0</th>\n",
       "      <th>36.0</th>\n",
       "      <th>37.0</th>\n",
       "      <th>38.0</th>\n",
       "      <th>39.0</th>\n",
       "      <th>40.0</th>\n",
       "      <th>41.0</th>\n",
       "      <th>42.0</th>\n",
       "      <th>43.0</th>\n",
       "    </tr>\n",
       "    <tr>\n",
       "      <th>birth_index</th>\n",
       "      <th></th>\n",
       "      <th></th>\n",
       "      <th></th>\n",
       "      <th></th>\n",
       "      <th></th>\n",
       "      <th></th>\n",
       "      <th></th>\n",
       "      <th></th>\n",
       "      <th></th>\n",
       "      <th></th>\n",
       "      <th></th>\n",
       "      <th></th>\n",
       "      <th></th>\n",
       "      <th></th>\n",
       "      <th></th>\n",
       "      <th></th>\n",
       "      <th></th>\n",
       "      <th></th>\n",
       "      <th></th>\n",
       "      <th></th>\n",
       "      <th></th>\n",
       "    </tr>\n",
       "  </thead>\n",
       "  <tbody>\n",
       "    <tr>\n",
       "      <th>30</th>\n",
       "      <td>0</td>\n",
       "      <td>0</td>\n",
       "      <td>0</td>\n",
       "      <td>2</td>\n",
       "      <td>8</td>\n",
       "      <td>7</td>\n",
       "      <td>15</td>\n",
       "      <td>27</td>\n",
       "      <td>43</td>\n",
       "      <td>41</td>\n",
       "      <td>...</td>\n",
       "      <td>3</td>\n",
       "      <td>1</td>\n",
       "      <td>1</td>\n",
       "      <td>1</td>\n",
       "      <td>0</td>\n",
       "      <td>2</td>\n",
       "      <td>1</td>\n",
       "      <td>0</td>\n",
       "      <td>0</td>\n",
       "      <td>0</td>\n",
       "    </tr>\n",
       "    <tr>\n",
       "      <th>40</th>\n",
       "      <td>1</td>\n",
       "      <td>0</td>\n",
       "      <td>0</td>\n",
       "      <td>5</td>\n",
       "      <td>31</td>\n",
       "      <td>87</td>\n",
       "      <td>163</td>\n",
       "      <td>218</td>\n",
       "      <td>425</td>\n",
       "      <td>467</td>\n",
       "      <td>...</td>\n",
       "      <td>15</td>\n",
       "      <td>12</td>\n",
       "      <td>5</td>\n",
       "      <td>6</td>\n",
       "      <td>3</td>\n",
       "      <td>9</td>\n",
       "      <td>1</td>\n",
       "      <td>1</td>\n",
       "      <td>0</td>\n",
       "      <td>0</td>\n",
       "    </tr>\n",
       "    <tr>\n",
       "      <th>50</th>\n",
       "      <td>0</td>\n",
       "      <td>0</td>\n",
       "      <td>1</td>\n",
       "      <td>10</td>\n",
       "      <td>50</td>\n",
       "      <td>125</td>\n",
       "      <td>384</td>\n",
       "      <td>642</td>\n",
       "      <td>1111</td>\n",
       "      <td>1057</td>\n",
       "      <td>...</td>\n",
       "      <td>50</td>\n",
       "      <td>33</td>\n",
       "      <td>27</td>\n",
       "      <td>18</td>\n",
       "      <td>12</td>\n",
       "      <td>11</td>\n",
       "      <td>7</td>\n",
       "      <td>4</td>\n",
       "      <td>4</td>\n",
       "      <td>4</td>\n",
       "    </tr>\n",
       "    <tr>\n",
       "      <th>60</th>\n",
       "      <td>0</td>\n",
       "      <td>1</td>\n",
       "      <td>1</td>\n",
       "      <td>5</td>\n",
       "      <td>36</td>\n",
       "      <td>114</td>\n",
       "      <td>289</td>\n",
       "      <td>423</td>\n",
       "      <td>823</td>\n",
       "      <td>810</td>\n",
       "      <td>...</td>\n",
       "      <td>64</td>\n",
       "      <td>62</td>\n",
       "      <td>32</td>\n",
       "      <td>36</td>\n",
       "      <td>22</td>\n",
       "      <td>22</td>\n",
       "      <td>14</td>\n",
       "      <td>11</td>\n",
       "      <td>7</td>\n",
       "      <td>4</td>\n",
       "    </tr>\n",
       "    <tr>\n",
       "      <th>70</th>\n",
       "      <td>1</td>\n",
       "      <td>1</td>\n",
       "      <td>3</td>\n",
       "      <td>7</td>\n",
       "      <td>27</td>\n",
       "      <td>58</td>\n",
       "      <td>153</td>\n",
       "      <td>232</td>\n",
       "      <td>503</td>\n",
       "      <td>594</td>\n",
       "      <td>...</td>\n",
       "      <td>63</td>\n",
       "      <td>45</td>\n",
       "      <td>21</td>\n",
       "      <td>19</td>\n",
       "      <td>14</td>\n",
       "      <td>10</td>\n",
       "      <td>8</td>\n",
       "      <td>1</td>\n",
       "      <td>5</td>\n",
       "      <td>2</td>\n",
       "    </tr>\n",
       "    <tr>\n",
       "      <th>80</th>\n",
       "      <td>0</td>\n",
       "      <td>0</td>\n",
       "      <td>0</td>\n",
       "      <td>8</td>\n",
       "      <td>9</td>\n",
       "      <td>31</td>\n",
       "      <td>82</td>\n",
       "      <td>103</td>\n",
       "      <td>271</td>\n",
       "      <td>358</td>\n",
       "      <td>...</td>\n",
       "      <td>0</td>\n",
       "      <td>0</td>\n",
       "      <td>0</td>\n",
       "      <td>0</td>\n",
       "      <td>0</td>\n",
       "      <td>0</td>\n",
       "      <td>0</td>\n",
       "      <td>0</td>\n",
       "      <td>0</td>\n",
       "      <td>0</td>\n",
       "    </tr>\n",
       "    <tr>\n",
       "      <th>90</th>\n",
       "      <td>0</td>\n",
       "      <td>0</td>\n",
       "      <td>0</td>\n",
       "      <td>0</td>\n",
       "      <td>1</td>\n",
       "      <td>3</td>\n",
       "      <td>8</td>\n",
       "      <td>17</td>\n",
       "      <td>41</td>\n",
       "      <td>45</td>\n",
       "      <td>...</td>\n",
       "      <td>0</td>\n",
       "      <td>0</td>\n",
       "      <td>0</td>\n",
       "      <td>0</td>\n",
       "      <td>0</td>\n",
       "      <td>0</td>\n",
       "      <td>0</td>\n",
       "      <td>0</td>\n",
       "      <td>0</td>\n",
       "      <td>0</td>\n",
       "    </tr>\n",
       "  </tbody>\n",
       "</table>\n",
       "<p>7 rows × 34 columns</p>\n",
       "</div>"
      ],
      "text/plain": [
       "agemarry_index  10  11  12  13  14   15   16   17    18    19 ...  34  35  36  \\\n",
       "birth_index                                                   ...               \n",
       "30               0   0   0   2   8    7   15   27    43    41 ...   3   1   1   \n",
       "40               1   0   0   5  31   87  163  218   425   467 ...  15  12   5   \n",
       "50               0   0   1  10  50  125  384  642  1111  1057 ...  50  33  27   \n",
       "60               0   1   1   5  36  114  289  423   823   810 ...  64  62  32   \n",
       "70               1   1   3   7  27   58  153  232   503   594 ...  63  45  21   \n",
       "80               0   0   0   8   9   31   82  103   271   358 ...   0   0   0   \n",
       "90               0   0   0   0   1    3    8   17    41    45 ...   0   0   0   \n",
       "\n",
       "agemarry_index  37  38  39  40  41  42  43  \n",
       "birth_index                                 \n",
       "30               1   0   2   1   0   0   0  \n",
       "40               6   3   9   1   1   0   0  \n",
       "50              18  12  11   7   4   4   4  \n",
       "60              36  22  22  14  11   7   4  \n",
       "70              19  14  10   8   1   5   2  \n",
       "80               0   0   0   0   0   0   0  \n",
       "90               0   0   0   0   0   0   0  \n",
       "\n",
       "[7 rows x 34 columns]"
      ]
     },
     "execution_count": 24,
     "metadata": {},
     "output_type": "execute_result"
    }
   ],
   "source": [
    "df.pivot_table(index='birth_index', columns='agemarry_index', values='age', aggfunc=len, fill_value=0)"
   ]
  },
  {
   "cell_type": "markdown",
   "metadata": {},
   "source": [
    "Estimate the survival curve for each cohort:"
   ]
  },
  {
   "cell_type": "code",
   "execution_count": 25,
   "metadata": {
    "collapsed": false
   },
   "outputs": [
    {
     "name": "stdout",
     "output_type": "stream",
     "text": [
      "CPU times: user 28.2 s, sys: 204 ms, total: 28.4 s\n",
      "Wall time: 28.4 s\n"
     ]
    }
   ],
   "source": [
    "%time sf_map = marriage.EstimateSurvivalByCohort(resps, iters=101, cutoffs=cutoffs)\n",
    "del sf_map[30]\n",
    "del sf_map[100]"
   ]
  },
  {
   "cell_type": "markdown",
   "metadata": {},
   "source": [
    "Check a sample:"
   ]
  },
  {
   "cell_type": "code",
   "execution_count": 26,
   "metadata": {
    "collapsed": false
   },
   "outputs": [
    {
     "name": "stdout",
     "output_type": "stream",
     "text": [
      "14    0.999776\n",
      "15    0.999329\n",
      "16    0.998281\n",
      "17    0.991923\n",
      "18    0.977907\n",
      "19    0.957845\n",
      "20    0.929074\n",
      "21    0.905750\n",
      "22    0.842975\n",
      "23    0.814688\n",
      "24    0.814688\n",
      "dtype: float64\n",
      "0.814687620547\n"
     ]
    }
   ],
   "source": [
    "for sf in sf_map[90]:\n",
    "    print(sf.ss)\n",
    "    print(sf.Prob(34))\n",
    "    break"
   ]
  },
  {
   "cell_type": "code",
   "execution_count": 27,
   "metadata": {
    "collapsed": false
   },
   "outputs": [
    {
     "name": "stdout",
     "output_type": "stream",
     "text": [
      "13    0.999608\n",
      "14    0.998434\n",
      "15    0.995196\n",
      "16    0.987540\n",
      "17    0.977400\n",
      "18    0.942875\n",
      "19    0.904856\n",
      "20    0.865113\n",
      "21    0.815456\n",
      "22    0.757044\n",
      "23    0.703120\n",
      "24    0.651549\n",
      "25    0.588744\n",
      "26    0.538129\n",
      "27    0.483060\n",
      "28    0.445936\n",
      "29    0.416694\n",
      "30    0.403204\n",
      "31    0.391440\n",
      "32    0.386442\n",
      "33    0.378939\n",
      "34    0.378939\n",
      "dtype: float64\n",
      "0.378938747197\n"
     ]
    }
   ],
   "source": [
    "for sf in sf_map[80]:\n",
    "    print(sf.ss)\n",
    "    print(sf.Prob(34))\n",
    "    break"
   ]
  },
  {
   "cell_type": "markdown",
   "metadata": {},
   "source": [
    "Make the figure showing estimated survival curves:"
   ]
  },
  {
   "cell_type": "code",
   "execution_count": 28,
   "metadata": {
    "collapsed": false
   },
   "outputs": [
    {
     "name": "stdout",
     "output_type": "stream",
     "text": [
      "Writing marriage4.pdf\n",
      "Writing marriage4.png\n"
     ]
    },
    {
     "data": {
      "image/png": "[encoded data removed]",
      "text/plain": [
       "<matplotlib.figure.Figure at 0x7f606d38f750>"
      ]
     },
     "metadata": {},
     "output_type": "display_data"
    }
   ],
   "source": [
    "reload(marriage)\n",
    "reload(thinkplot)\n",
    "\n",
    "def PlotSurvivalFunctions(root, sf_map, sf_map_pred=None, **options):\n",
    "\n",
    "    if sf_map_pred:\n",
    "        marriage.PlotSurvivalFunctions(sf_map_pred, predict_flag=True)\n",
    "    marriage.PlotSurvivalFunctions(sf_map)\n",
    "\n",
    "    thinkplot.Config(xlim=[13, 45], ylim=[0, 1.05])\n",
    "    thinkplot.Save(root=root, **options)\n",
    "\n",
    "options_w = dict(formats=['pdf', 'png'], clf=False, title='Women in the U.S.', frameon=False)\n",
    "PlotSurvivalFunctions('marriage4', sf_map, None, **options_w)"
   ]
  },
  {
   "cell_type": "markdown",
   "metadata": {},
   "source": [
    "Make a table of marriage rates for each cohort at each age:"
   ]
  },
  {
   "cell_type": "code",
   "execution_count": 29,
   "metadata": {
    "collapsed": false
   },
   "outputs": [],
   "source": [
    "def MakeTable(sf_map, ages):\n",
    "    t = []\n",
    "    for name, sf_seq in sorted(sf_map.items()):\n",
    "        ts, ss = marriage.MakeSurvivalCI(sf_seq, [50])\n",
    "        ss = ss[0]\n",
    "        vals = [np.interp(age, ts, ss, right=np.nan) for age in ages]\n",
    "        t.append((name, vals))\n",
    "    return t"
   ]
  },
  {
   "cell_type": "code",
   "execution_count": 30,
   "metadata": {
    "collapsed": false
   },
   "outputs": [
    {
     "name": "stdout",
     "output_type": "stream",
     "text": [
      "40 & 25 & 9 & 8 \\\\\n",
      "50 & 36 & 14 & 10 \\\\\n",
      "60 & 52 & 19 & 12 \\\\\n",
      "70 & 62 & 24 & 17 \\\\\n",
      "80 & 71 & 38 & nan \\\\\n",
      "90 & 80 & nan & nan \\\\\n"
     ]
    }
   ],
   "source": [
    "def MakePercentageTable(sf_map, ages=[23, 33, 43]):\n",
    "    t = MakeTable(sf_map, ages)\n",
    "    for name, sf_seq in sorted(sf_map.items()):\n",
    "        ts, ss = marriage.MakeSurvivalCI(sf_seq, [50])\n",
    "        ss = ss[0]\n",
    "        vals = [np.interp(age, ts, ss, right=np.nan) for age in ages]\n",
    "        print(name, '&', ' & '.join('%0.0f' % (val*100) for val in vals), r'\\\\')\n",
    "        \n",
    "MakePercentageTable(sf_map)"
   ]
  },
  {
   "cell_type": "markdown",
   "metadata": {},
   "source": [
    "Generate projections:"
   ]
  },
  {
   "cell_type": "code",
   "execution_count": 31,
   "metadata": {
    "collapsed": false
   },
   "outputs": [
    {
     "name": "stdout",
     "output_type": "stream",
     "text": [
      "CPU times: user 29.9 s, sys: 184 ms, total: 30.1 s\n",
      "Wall time: 30.1 s\n"
     ]
    }
   ],
   "source": [
    "%time sf_map_pred = marriage.EstimateSurvivalByCohort(resps, iters=101, cutoffs=cutoffs, predict_flag=True)\n",
    "del sf_map_pred[30]\n",
    "del sf_map_pred[100]"
   ]
  },
  {
   "cell_type": "markdown",
   "metadata": {},
   "source": [
    "And make the figure showing projections:"
   ]
  },
  {
   "cell_type": "code",
   "execution_count": 32,
   "metadata": {
    "collapsed": false
   },
   "outputs": [
    {
     "name": "stdout",
     "output_type": "stream",
     "text": [
      "Writing marriage5.pdf\n",
      "Writing marriage5.png\n"
     ]
    },
    {
     "data": {
      "image/png": "[encoded data removed]",
      "text/plain": [
       "<matplotlib.figure.Figure at 0x7f606d5d9810>"
      ]
     },
     "metadata": {},
     "output_type": "display_data"
    }
   ],
   "source": [
    "PlotSurvivalFunctions('marriage5', sf_map, sf_map_pred, **options_w)"
   ]
  },
  {
   "cell_type": "markdown",
   "metadata": {},
   "source": [
    "Make the table again with the projections filled in."
   ]
  },
  {
   "cell_type": "code",
   "execution_count": 33,
   "metadata": {
    "collapsed": false
   },
   "outputs": [
    {
     "name": "stdout",
     "output_type": "stream",
     "text": [
      "40 & 25 & 9 & 8 \\\\\n",
      "50 & 36 & 14 & 10 \\\\\n",
      "60 & 52 & 19 & 12 \\\\\n",
      "70 & 62 & 24 & 17 \\\\\n",
      "80 & 71 & 38 & 29 \\\\\n",
      "90 & 81 & 47 & 36 \\\\\n"
     ]
    }
   ],
   "source": [
    "MakePercentageTable(sf_map_pred)"
   ]
  },
  {
   "cell_type": "code",
   "execution_count": 34,
   "metadata": {
    "collapsed": false,
    "scrolled": true
   },
   "outputs": [],
   "source": [
    "def PlotFractions(sf_map, ages=[23, 33], label_flag=False, **options):\n",
    "    t = MakeTable(sf_map, ages)\n",
    "    cohorts, cols = zip(*t)\n",
    "    rows = zip(*cols)\n",
    "\n",
    "    thinkplot.PrePlot(3)\n",
    "    for age, row in reversed(zip(ages, rows)):\n",
    "        label = 'at age %d' % age if label_flag else ''\n",
    "        thinkplot.Plot(cohorts, row, label=label, **options)"
   ]
  },
  {
   "cell_type": "code",
   "execution_count": 35,
   "metadata": {
    "collapsed": false
   },
   "outputs": [
    {
     "name": "stdout",
     "output_type": "stream",
     "text": [
      "Writing marriage6.pdf\n",
      "Writing marriage6.png\n"
     ]
    },
    {
     "data": {
      "image/png": "[encoded data removed]",
      "text/plain": [
       "<matplotlib.figure.Figure at 0x7f606d44d3d0>"
      ]
     },
     "metadata": {},
     "output_type": "display_data"
    }
   ],
   "source": [
    "ages = [43, 33, 23]\n",
    "PlotFractions(sf_map_pred, ages=ages, color='gray', linestyle='dashed', linewidth=2)\n",
    "PlotFractions(sf_map, ages=ages, label_flag=True, alpha=1)\n",
    "\n",
    "fontsize=12\n",
    "thinkplot.Text(36, 0.26, '25', fontsize=fontsize)\n",
    "thinkplot.Text(37, 0.13, '9', fontsize=fontsize)\n",
    "thinkplot.Text(37, 0.07, '8', fontsize=fontsize)\n",
    "\n",
    "thinkplot.Text(90, 0.81, '81', fontsize=fontsize)\n",
    "thinkplot.Text(90, 0.47, '47', fontsize=fontsize)\n",
    "thinkplot.Text(89.5, 0.36, '36', fontsize=fontsize)\n",
    "\n",
    "thinkplot.Text(80, 0.38, '38', fontsize=fontsize)\n",
    "thinkplot.Text(70, 0.17, '17', fontsize=fontsize)\n",
    "\n",
    "thinkplot.Config(xlim=[34, 97], ylim=[0, 1], legend=True, loc='top left',\n",
    "                 xlabel='cohort (decade)', ylabel='Fraction unmarried', \n",
    "                 title='Women in the U.S.')\n",
    "\n",
    "thinkplot.Save(root='marriage6', **options)"
   ]
  },
  {
   "cell_type": "markdown",
   "metadata": {},
   "source": [
    "## Marriage patterns for men"
   ]
  },
  {
   "cell_type": "code",
   "execution_count": 36,
   "metadata": {
    "collapsed": false
   },
   "outputs": [
    {
     "data": {
      "text/html": [
       "<div>\n",
       "<table border=\"1\" class=\"dataframe\">\n",
       "  <thead>\n",
       "    <tr style=\"text-align: right;\">\n",
       "      <th></th>\n",
       "      <th>caseid</th>\n",
       "      <th>cmbirth</th>\n",
       "      <th>evrmarry</th>\n",
       "      <th>cmdivw</th>\n",
       "      <th>mardat01</th>\n",
       "      <th>finalwgt</th>\n",
       "      <th>cmintvw</th>\n",
       "      <th>cmmarrhx</th>\n",
       "      <th>agemarry</th>\n",
       "      <th>age</th>\n",
       "      <th>missing</th>\n",
       "      <th>year</th>\n",
       "      <th>age_index</th>\n",
       "      <th>agemarry_index</th>\n",
       "      <th>birth_index</th>\n",
       "    </tr>\n",
       "  </thead>\n",
       "  <tbody>\n",
       "    <tr>\n",
       "      <th>0</th>\n",
       "      <td>12178</td>\n",
       "      <td>1052</td>\n",
       "      <td>False</td>\n",
       "      <td>NaN</td>\n",
       "      <td>NaN</td>\n",
       "      <td>7085.207973</td>\n",
       "      <td>1233</td>\n",
       "      <td>NaN</td>\n",
       "      <td>NaN</td>\n",
       "      <td>15.083333</td>\n",
       "      <td>False</td>\n",
       "      <td>87</td>\n",
       "      <td>15</td>\n",
       "      <td>NaN</td>\n",
       "      <td>80</td>\n",
       "    </tr>\n",
       "    <tr>\n",
       "      <th>1</th>\n",
       "      <td>3233</td>\n",
       "      <td>701</td>\n",
       "      <td>True</td>\n",
       "      <td>NaN</td>\n",
       "      <td>1007</td>\n",
       "      <td>24372.450063</td>\n",
       "      <td>1237</td>\n",
       "      <td>1007</td>\n",
       "      <td>25.500000</td>\n",
       "      <td>44.666667</td>\n",
       "      <td>False</td>\n",
       "      <td>58</td>\n",
       "      <td>44</td>\n",
       "      <td>25</td>\n",
       "      <td>50</td>\n",
       "    </tr>\n",
       "    <tr>\n",
       "      <th>2</th>\n",
       "      <td>12170</td>\n",
       "      <td>707</td>\n",
       "      <td>True</td>\n",
       "      <td>NaN</td>\n",
       "      <td>1199</td>\n",
       "      <td>7073.132109</td>\n",
       "      <td>1234</td>\n",
       "      <td>1199</td>\n",
       "      <td>41.000000</td>\n",
       "      <td>43.916667</td>\n",
       "      <td>False</td>\n",
       "      <td>58</td>\n",
       "      <td>43</td>\n",
       "      <td>41</td>\n",
       "      <td>50</td>\n",
       "    </tr>\n",
       "    <tr>\n",
       "      <th>3</th>\n",
       "      <td>6629</td>\n",
       "      <td>1052</td>\n",
       "      <td>False</td>\n",
       "      <td>NaN</td>\n",
       "      <td>NaN</td>\n",
       "      <td>3105.158992</td>\n",
       "      <td>1234</td>\n",
       "      <td>NaN</td>\n",
       "      <td>NaN</td>\n",
       "      <td>15.166667</td>\n",
       "      <td>False</td>\n",
       "      <td>87</td>\n",
       "      <td>15</td>\n",
       "      <td>NaN</td>\n",
       "      <td>80</td>\n",
       "    </tr>\n",
       "    <tr>\n",
       "      <th>4</th>\n",
       "      <td>6531</td>\n",
       "      <td>787</td>\n",
       "      <td>True</td>\n",
       "      <td>NaN</td>\n",
       "      <td>1107</td>\n",
       "      <td>4679.548824</td>\n",
       "      <td>1235</td>\n",
       "      <td>1107</td>\n",
       "      <td>26.666667</td>\n",
       "      <td>37.333333</td>\n",
       "      <td>False</td>\n",
       "      <td>65</td>\n",
       "      <td>37</td>\n",
       "      <td>26</td>\n",
       "      <td>60</td>\n",
       "    </tr>\n",
       "  </tbody>\n",
       "</table>\n",
       "</div>"
      ],
      "text/plain": [
       "   caseid  cmbirth evrmarry  cmdivw  mardat01      finalwgt  cmintvw  \\\n",
       "0   12178     1052    False     NaN       NaN   7085.207973     1233   \n",
       "1    3233      701     True     NaN      1007  24372.450063     1237   \n",
       "2   12170      707     True     NaN      1199   7073.132109     1234   \n",
       "3    6629     1052    False     NaN       NaN   3105.158992     1234   \n",
       "4    6531      787     True     NaN      1107   4679.548824     1235   \n",
       "\n",
       "   cmmarrhx   agemarry        age missing  year  age_index  agemarry_index  \\\n",
       "0       NaN        NaN  15.083333   False    87         15             NaN   \n",
       "1      1007  25.500000  44.666667   False    58         44              25   \n",
       "2      1199  41.000000  43.916667   False    58         43              41   \n",
       "3       NaN        NaN  15.166667   False    87         15             NaN   \n",
       "4      1107  26.666667  37.333333   False    65         37              26   \n",
       "\n",
       "   birth_index  \n",
       "0           80  \n",
       "1           50  \n",
       "2           50  \n",
       "3           80  \n",
       "4           60  "
      ]
     },
     "execution_count": 36,
     "metadata": {},
     "output_type": "execute_result"
    }
   ],
   "source": [
    "male2002 = marriage.ReadMaleResp2002()\n",
    "male2002.head()"
   ]
  },
  {
   "cell_type": "code",
   "execution_count": 37,
   "metadata": {
    "collapsed": false
   },
   "outputs": [
    {
     "data": {
      "text/html": [
       "<div>\n",
       "<table border=\"1\" class=\"dataframe\">\n",
       "  <thead>\n",
       "    <tr style=\"text-align: right;\">\n",
       "      <th></th>\n",
       "      <th>caseid</th>\n",
       "      <th>cmbirth</th>\n",
       "      <th>evrmarry</th>\n",
       "      <th>cmdivw</th>\n",
       "      <th>mardat01</th>\n",
       "      <th>wgtq1q16</th>\n",
       "      <th>cmintvw</th>\n",
       "      <th>cmmarrhx</th>\n",
       "      <th>finalwgt</th>\n",
       "      <th>agemarry</th>\n",
       "      <th>age</th>\n",
       "      <th>missing</th>\n",
       "      <th>year</th>\n",
       "      <th>age_index</th>\n",
       "      <th>agemarry_index</th>\n",
       "      <th>birth_index</th>\n",
       "    </tr>\n",
       "  </thead>\n",
       "  <tbody>\n",
       "    <tr>\n",
       "      <th>0</th>\n",
       "      <td>36133</td>\n",
       "      <td>1043</td>\n",
       "      <td>False</td>\n",
       "      <td>NaN</td>\n",
       "      <td>NaN</td>\n",
       "      <td>7270.577055</td>\n",
       "      <td>1323</td>\n",
       "      <td>NaN</td>\n",
       "      <td>7270.577055</td>\n",
       "      <td>NaN</td>\n",
       "      <td>23.333333</td>\n",
       "      <td>False</td>\n",
       "      <td>86</td>\n",
       "      <td>23</td>\n",
       "      <td>NaN</td>\n",
       "      <td>80</td>\n",
       "    </tr>\n",
       "    <tr>\n",
       "      <th>1</th>\n",
       "      <td>36636</td>\n",
       "      <td>1021</td>\n",
       "      <td>False</td>\n",
       "      <td>NaN</td>\n",
       "      <td>NaN</td>\n",
       "      <td>7601.733277</td>\n",
       "      <td>1322</td>\n",
       "      <td>NaN</td>\n",
       "      <td>7601.733277</td>\n",
       "      <td>NaN</td>\n",
       "      <td>25.083333</td>\n",
       "      <td>False</td>\n",
       "      <td>85</td>\n",
       "      <td>25</td>\n",
       "      <td>NaN</td>\n",
       "      <td>80</td>\n",
       "    </tr>\n",
       "    <tr>\n",
       "      <th>2</th>\n",
       "      <td>41125</td>\n",
       "      <td>1118</td>\n",
       "      <td>False</td>\n",
       "      <td>NaN</td>\n",
       "      <td>NaN</td>\n",
       "      <td>4587.699601</td>\n",
       "      <td>1322</td>\n",
       "      <td>NaN</td>\n",
       "      <td>4587.699601</td>\n",
       "      <td>NaN</td>\n",
       "      <td>17.000000</td>\n",
       "      <td>False</td>\n",
       "      <td>93</td>\n",
       "      <td>17</td>\n",
       "      <td>NaN</td>\n",
       "      <td>90</td>\n",
       "    </tr>\n",
       "    <tr>\n",
       "      <th>3</th>\n",
       "      <td>23607</td>\n",
       "      <td>948</td>\n",
       "      <td>False</td>\n",
       "      <td>NaN</td>\n",
       "      <td>NaN</td>\n",
       "      <td>26566.111007</td>\n",
       "      <td>1287</td>\n",
       "      <td>NaN</td>\n",
       "      <td>26566.111007</td>\n",
       "      <td>NaN</td>\n",
       "      <td>28.250000</td>\n",
       "      <td>False</td>\n",
       "      <td>78</td>\n",
       "      <td>28</td>\n",
       "      <td>NaN</td>\n",
       "      <td>70</td>\n",
       "    </tr>\n",
       "    <tr>\n",
       "      <th>4</th>\n",
       "      <td>40814</td>\n",
       "      <td>1018</td>\n",
       "      <td>False</td>\n",
       "      <td>NaN</td>\n",
       "      <td>NaN</td>\n",
       "      <td>5709.710317</td>\n",
       "      <td>1322</td>\n",
       "      <td>NaN</td>\n",
       "      <td>5709.710317</td>\n",
       "      <td>NaN</td>\n",
       "      <td>25.333333</td>\n",
       "      <td>False</td>\n",
       "      <td>84</td>\n",
       "      <td>25</td>\n",
       "      <td>NaN</td>\n",
       "      <td>80</td>\n",
       "    </tr>\n",
       "  </tbody>\n",
       "</table>\n",
       "</div>"
      ],
      "text/plain": [
       "   caseid  cmbirth evrmarry  cmdivw  mardat01      wgtq1q16  cmintvw  \\\n",
       "0   36133     1043    False     NaN       NaN   7270.577055     1323   \n",
       "1   36636     1021    False     NaN       NaN   7601.733277     1322   \n",
       "2   41125     1118    False     NaN       NaN   4587.699601     1322   \n",
       "3   23607      948    False     NaN       NaN  26566.111007     1287   \n",
       "4   40814     1018    False     NaN       NaN   5709.710317     1322   \n",
       "\n",
       "   cmmarrhx      finalwgt  agemarry        age missing  year  age_index  \\\n",
       "0       NaN   7270.577055       NaN  23.333333   False    86         23   \n",
       "1       NaN   7601.733277       NaN  25.083333   False    85         25   \n",
       "2       NaN   4587.699601       NaN  17.000000   False    93         17   \n",
       "3       NaN  26566.111007       NaN  28.250000   False    78         28   \n",
       "4       NaN   5709.710317       NaN  25.333333   False    84         25   \n",
       "\n",
       "   agemarry_index  birth_index  \n",
       "0             NaN           80  \n",
       "1             NaN           80  \n",
       "2             NaN           90  \n",
       "3             NaN           70  \n",
       "4             NaN           80  "
      ]
     },
     "execution_count": 37,
     "metadata": {},
     "output_type": "execute_result"
    }
   ],
   "source": [
    "male2010 = marriage.ReadMaleResp2010()\n",
    "male2010.head()"
   ]
  },
  {
   "cell_type": "code",
   "execution_count": 38,
   "metadata": {
    "collapsed": false
   },
   "outputs": [
    {
     "data": {
      "text/html": [
       "<div>\n",
       "<table border=\"1\" class=\"dataframe\">\n",
       "  <thead>\n",
       "    <tr style=\"text-align: right;\">\n",
       "      <th></th>\n",
       "      <th>caseid</th>\n",
       "      <th>cmbirth</th>\n",
       "      <th>evrmarry</th>\n",
       "      <th>cmdivw</th>\n",
       "      <th>mardat01</th>\n",
       "      <th>wgt2011_2013</th>\n",
       "      <th>cmintvw</th>\n",
       "      <th>cmmarrhx</th>\n",
       "      <th>finalwgt</th>\n",
       "      <th>agemarry</th>\n",
       "      <th>age</th>\n",
       "      <th>missing</th>\n",
       "      <th>year</th>\n",
       "      <th>age_index</th>\n",
       "      <th>agemarry_index</th>\n",
       "      <th>birth_index</th>\n",
       "    </tr>\n",
       "  </thead>\n",
       "  <tbody>\n",
       "    <tr>\n",
       "      <th>0</th>\n",
       "      <td>50001</td>\n",
       "      <td>1027</td>\n",
       "      <td>True</td>\n",
       "      <td>1346</td>\n",
       "      <td>1237</td>\n",
       "      <td>8111.081751</td>\n",
       "      <td>1348</td>\n",
       "      <td>1237</td>\n",
       "      <td>8111.081751</td>\n",
       "      <td>17.500000</td>\n",
       "      <td>26.750000</td>\n",
       "      <td>False</td>\n",
       "      <td>85</td>\n",
       "      <td>26</td>\n",
       "      <td>17</td>\n",
       "      <td>80</td>\n",
       "    </tr>\n",
       "    <tr>\n",
       "      <th>1</th>\n",
       "      <td>50003</td>\n",
       "      <td>1160</td>\n",
       "      <td>False</td>\n",
       "      <td>NaN</td>\n",
       "      <td>NaN</td>\n",
       "      <td>4082.414347</td>\n",
       "      <td>1354</td>\n",
       "      <td>NaN</td>\n",
       "      <td>4082.414347</td>\n",
       "      <td>NaN</td>\n",
       "      <td>16.166667</td>\n",
       "      <td>False</td>\n",
       "      <td>96</td>\n",
       "      <td>16</td>\n",
       "      <td>NaN</td>\n",
       "      <td>90</td>\n",
       "    </tr>\n",
       "    <tr>\n",
       "      <th>2</th>\n",
       "      <td>50006</td>\n",
       "      <td>1025</td>\n",
       "      <td>True</td>\n",
       "      <td>NaN</td>\n",
       "      <td>1335</td>\n",
       "      <td>25550.455475</td>\n",
       "      <td>1360</td>\n",
       "      <td>1335</td>\n",
       "      <td>25550.455475</td>\n",
       "      <td>25.833333</td>\n",
       "      <td>27.916667</td>\n",
       "      <td>False</td>\n",
       "      <td>85</td>\n",
       "      <td>27</td>\n",
       "      <td>25</td>\n",
       "      <td>80</td>\n",
       "    </tr>\n",
       "    <tr>\n",
       "      <th>3</th>\n",
       "      <td>50007</td>\n",
       "      <td>1028</td>\n",
       "      <td>False</td>\n",
       "      <td>NaN</td>\n",
       "      <td>NaN</td>\n",
       "      <td>6754.912773</td>\n",
       "      <td>1348</td>\n",
       "      <td>NaN</td>\n",
       "      <td>6754.912773</td>\n",
       "      <td>NaN</td>\n",
       "      <td>26.666667</td>\n",
       "      <td>False</td>\n",
       "      <td>85</td>\n",
       "      <td>26</td>\n",
       "      <td>NaN</td>\n",
       "      <td>80</td>\n",
       "    </tr>\n",
       "    <tr>\n",
       "      <th>4</th>\n",
       "      <td>50009</td>\n",
       "      <td>855</td>\n",
       "      <td>True</td>\n",
       "      <td>NaN</td>\n",
       "      <td>1152</td>\n",
       "      <td>49442.342886</td>\n",
       "      <td>1362</td>\n",
       "      <td>1152</td>\n",
       "      <td>49442.342886</td>\n",
       "      <td>24.750000</td>\n",
       "      <td>42.250000</td>\n",
       "      <td>False</td>\n",
       "      <td>71</td>\n",
       "      <td>42</td>\n",
       "      <td>24</td>\n",
       "      <td>70</td>\n",
       "    </tr>\n",
       "  </tbody>\n",
       "</table>\n",
       "</div>"
      ],
      "text/plain": [
       "   caseid  cmbirth evrmarry  cmdivw  mardat01  wgt2011_2013  cmintvw  \\\n",
       "0   50001     1027     True    1346      1237   8111.081751     1348   \n",
       "1   50003     1160    False     NaN       NaN   4082.414347     1354   \n",
       "2   50006     1025     True     NaN      1335  25550.455475     1360   \n",
       "3   50007     1028    False     NaN       NaN   6754.912773     1348   \n",
       "4   50009      855     True     NaN      1152  49442.342886     1362   \n",
       "\n",
       "   cmmarrhx      finalwgt   agemarry        age missing  year  age_index  \\\n",
       "0      1237   8111.081751  17.500000  26.750000   False    85         26   \n",
       "1       NaN   4082.414347        NaN  16.166667   False    96         16   \n",
       "2      1335  25550.455475  25.833333  27.916667   False    85         27   \n",
       "3       NaN   6754.912773        NaN  26.666667   False    85         26   \n",
       "4      1152  49442.342886  24.750000  42.250000   False    71         42   \n",
       "\n",
       "   agemarry_index  birth_index  \n",
       "0              17           80  \n",
       "1             NaN           90  \n",
       "2              25           80  \n",
       "3             NaN           80  \n",
       "4              24           70  "
      ]
     },
     "execution_count": 38,
     "metadata": {},
     "output_type": "execute_result"
    }
   ],
   "source": [
    "male2013 = marriage.ReadMaleResp2013()\n",
    "male2013.head()"
   ]
  },
  {
   "cell_type": "code",
   "execution_count": 39,
   "metadata": {
    "collapsed": false
   },
   "outputs": [
    {
     "data": {
      "text/html": [
       "<div>\n",
       "<table border=\"1\" class=\"dataframe\">\n",
       "  <thead>\n",
       "    <tr style=\"text-align: right;\">\n",
       "      <th></th>\n",
       "      <th>caseid</th>\n",
       "      <th>cmbirth</th>\n",
       "      <th>evrmarry</th>\n",
       "      <th>cmdivw</th>\n",
       "      <th>mardat01</th>\n",
       "      <th>wgt2013_2015</th>\n",
       "      <th>cmintvw</th>\n",
       "      <th>cmmarrhx</th>\n",
       "      <th>finalwgt</th>\n",
       "      <th>agemarry</th>\n",
       "      <th>age</th>\n",
       "      <th>missing</th>\n",
       "      <th>year</th>\n",
       "      <th>age_index</th>\n",
       "      <th>agemarry_index</th>\n",
       "      <th>birth_index</th>\n",
       "    </tr>\n",
       "  </thead>\n",
       "  <tbody>\n",
       "    <tr>\n",
       "      <th>0</th>\n",
       "      <td>60417</td>\n",
       "      <td>926</td>\n",
       "      <td>False</td>\n",
       "      <td>NaN</td>\n",
       "      <td>NaN</td>\n",
       "      <td>7693.012917</td>\n",
       "      <td>1379</td>\n",
       "      <td>NaN</td>\n",
       "      <td>7693.012917</td>\n",
       "      <td>NaN</td>\n",
       "      <td>37.750000</td>\n",
       "      <td>False</td>\n",
       "      <td>77</td>\n",
       "      <td>37</td>\n",
       "      <td>NaN</td>\n",
       "      <td>70</td>\n",
       "    </tr>\n",
       "    <tr>\n",
       "      <th>1</th>\n",
       "      <td>60421</td>\n",
       "      <td>1161</td>\n",
       "      <td>False</td>\n",
       "      <td>NaN</td>\n",
       "      <td>NaN</td>\n",
       "      <td>9643.271157</td>\n",
       "      <td>1377</td>\n",
       "      <td>NaN</td>\n",
       "      <td>9643.271157</td>\n",
       "      <td>NaN</td>\n",
       "      <td>18.000000</td>\n",
       "      <td>False</td>\n",
       "      <td>96</td>\n",
       "      <td>18</td>\n",
       "      <td>NaN</td>\n",
       "      <td>90</td>\n",
       "    </tr>\n",
       "    <tr>\n",
       "      <th>2</th>\n",
       "      <td>60422</td>\n",
       "      <td>980</td>\n",
       "      <td>False</td>\n",
       "      <td>NaN</td>\n",
       "      <td>NaN</td>\n",
       "      <td>9650.615384</td>\n",
       "      <td>1376</td>\n",
       "      <td>NaN</td>\n",
       "      <td>9650.615384</td>\n",
       "      <td>NaN</td>\n",
       "      <td>33.000000</td>\n",
       "      <td>False</td>\n",
       "      <td>81</td>\n",
       "      <td>33</td>\n",
       "      <td>NaN</td>\n",
       "      <td>80</td>\n",
       "    </tr>\n",
       "    <tr>\n",
       "      <th>3</th>\n",
       "      <td>60424</td>\n",
       "      <td>990</td>\n",
       "      <td>True</td>\n",
       "      <td>NaN</td>\n",
       "      <td>1326</td>\n",
       "      <td>11590.039167</td>\n",
       "      <td>1376</td>\n",
       "      <td>1326</td>\n",
       "      <td>11590.039167</td>\n",
       "      <td>28.000000</td>\n",
       "      <td>32.166667</td>\n",
       "      <td>False</td>\n",
       "      <td>82</td>\n",
       "      <td>32</td>\n",
       "      <td>28</td>\n",
       "      <td>80</td>\n",
       "    </tr>\n",
       "    <tr>\n",
       "      <th>4</th>\n",
       "      <td>60425</td>\n",
       "      <td>1143</td>\n",
       "      <td>True</td>\n",
       "      <td>NaN</td>\n",
       "      <td>1376</td>\n",
       "      <td>6864.914673</td>\n",
       "      <td>1383</td>\n",
       "      <td>1376</td>\n",
       "      <td>6864.914673</td>\n",
       "      <td>19.416667</td>\n",
       "      <td>20.000000</td>\n",
       "      <td>False</td>\n",
       "      <td>95</td>\n",
       "      <td>20</td>\n",
       "      <td>19</td>\n",
       "      <td>90</td>\n",
       "    </tr>\n",
       "  </tbody>\n",
       "</table>\n",
       "</div>"
      ],
      "text/plain": [
       "   caseid  cmbirth evrmarry  cmdivw  mardat01  wgt2013_2015  cmintvw  \\\n",
       "0   60417      926    False     NaN       NaN   7693.012917     1379   \n",
       "1   60421     1161    False     NaN       NaN   9643.271157     1377   \n",
       "2   60422      980    False     NaN       NaN   9650.615384     1376   \n",
       "3   60424      990     True     NaN      1326  11590.039167     1376   \n",
       "4   60425     1143     True     NaN      1376   6864.914673     1383   \n",
       "\n",
       "   cmmarrhx      finalwgt   agemarry        age missing  year  age_index  \\\n",
       "0       NaN   7693.012917        NaN  37.750000   False    77         37   \n",
       "1       NaN   9643.271157        NaN  18.000000   False    96         18   \n",
       "2       NaN   9650.615384        NaN  33.000000   False    81         33   \n",
       "3      1326  11590.039167  28.000000  32.166667   False    82         32   \n",
       "4      1376   6864.914673  19.416667  20.000000   False    95         20   \n",
       "\n",
       "   agemarry_index  birth_index  \n",
       "0             NaN           70  \n",
       "1             NaN           90  \n",
       "2             NaN           80  \n",
       "3              28           80  \n",
       "4              19           90  "
      ]
     },
     "execution_count": 39,
     "metadata": {},
     "output_type": "execute_result"
    }
   ],
   "source": [
    "male2015 = marriage.ReadMaleResp2015()\n",
    "male2015.head()"
   ]
  },
  {
   "cell_type": "code",
   "execution_count": 40,
   "metadata": {
    "collapsed": false
   },
   "outputs": [
    {
     "data": {
      "text/plain": [
       "24652"
      ]
     },
     "execution_count": 40,
     "metadata": {},
     "output_type": "execute_result"
    }
   ],
   "source": [
    "males = [male2002, male2010, male2013, male2015]\n",
    "df2 = pd.concat(males, ignore_index=True)\n",
    "len(df2)"
   ]
  },
  {
   "cell_type": "code",
   "execution_count": 41,
   "metadata": {
    "collapsed": false
   },
   "outputs": [
    {
     "data": {
      "text/plain": [
       "0"
      ]
     },
     "execution_count": 41,
     "metadata": {},
     "output_type": "execute_result"
    }
   ],
   "source": [
    "sum(df2.missing)"
   ]
  },
  {
   "cell_type": "code",
   "execution_count": 42,
   "metadata": {
    "collapsed": false
   },
   "outputs": [
    {
     "name": "stdout",
     "output_type": "stream",
     "text": [
      "50 & 322 & 42 -- 45 & 225 & 0 \\\\\n",
      "60 & 3668 & 32 -- 45 & 2530 & 0 \\\\\n",
      "70 & 7215 & 22 -- 45 & 4111 & 0 \\\\\n",
      "80 & 8535 & 15 -- 35 & 1826 & 0 \\\\\n",
      "90 & 4893 & 15 -- 25 & 90 & 0 \\\\\n",
      "100 & 19 & 15 -- 15 & 0 & 0 \\\\\n"
     ]
    }
   ],
   "source": [
    "marriage.DigitizeResp(df2)\n",
    "grouped = df2.groupby('birth_index')\n",
    "for name, group in iter(grouped):\n",
    "    print(name, '&', len(group), '&', int(group.age.min()), '--', int(group.age_index.max()),\n",
    "                '&', len(group[group.evrmarry]), '&', sum(group.missing), r'\\\\')"
   ]
  },
  {
   "cell_type": "code",
   "execution_count": 43,
   "metadata": {
    "collapsed": false
   },
   "outputs": [
    {
     "data": {
      "text/plain": [
       "{50: 45, 60: 45, 70: 45, 80: 35, 90: 25, 100: 15}"
      ]
     },
     "execution_count": 43,
     "metadata": {},
     "output_type": "execute_result"
    }
   ],
   "source": [
    "cutoffs2 = ComputeCutoffs(df2)\n",
    "cutoffs2"
   ]
  },
  {
   "cell_type": "code",
   "execution_count": 44,
   "metadata": {
    "collapsed": false
   },
   "outputs": [
    {
     "name": "stdout",
     "output_type": "stream",
     "text": [
      "CPU times: user 1.45 s, sys: 4 ms, total: 1.46 s\n",
      "Wall time: 1.45 s\n"
     ]
    }
   ],
   "source": [
    "%time sf_map_male = marriage.EstimateSurvivalByCohort(males, iters=21, cutoffs=cutoffs2)\n",
    "del sf_map_male[100]"
   ]
  },
  {
   "cell_type": "code",
   "execution_count": 45,
   "metadata": {
    "collapsed": false
   },
   "outputs": [
    {
     "name": "stdout",
     "output_type": "stream",
     "text": [
      "Writing marriage7.pdf\n",
      "Writing marriage7.png\n"
     ]
    },
    {
     "data": {
      "image/png": "[encoded data removed]",
      "text/plain": [
       "<matplotlib.figure.Figure at 0x7f606a2c8690>"
      ]
     },
     "metadata": {},
     "output_type": "display_data"
    }
   ],
   "source": [
    "options_m = dict(formats=['pdf', 'png'], clf=False, title='Men in the U.S.')\n",
    "PlotSurvivalFunctions('marriage7', sf_map_male, None, **options_m)"
   ]
  },
  {
   "cell_type": "code",
   "execution_count": 46,
   "metadata": {
    "collapsed": false
   },
   "outputs": [
    {
     "name": "stdout",
     "output_type": "stream",
     "text": [
      "CPU times: user 808 ms, sys: 0 ns, total: 808 ms\n",
      "Wall time: 803 ms\n"
     ]
    }
   ],
   "source": [
    "%time sf_map_male_pred = marriage.EstimateSurvivalByCohort(males, iters=11, cutoffs=cutoffs2, predict_flag=True)\n",
    "del sf_map_male_pred[100]"
   ]
  },
  {
   "cell_type": "code",
   "execution_count": 47,
   "metadata": {
    "collapsed": false
   },
   "outputs": [
    {
     "name": "stdout",
     "output_type": "stream",
     "text": [
      "Writing marriage8.pdf\n",
      "Writing marriage8.png\n"
     ]
    },
    {
     "data": {
      "image/png": "[encoded data removed]",
      "text/plain": [
       "<matplotlib.figure.Figure at 0x7f606d5f7850>"
      ]
     },
     "metadata": {},
     "output_type": "display_data"
    }
   ],
   "source": [
    "PlotSurvivalFunctions('marriage8', sf_map_male, sf_map_male_pred, **options_m)"
   ]
  },
  {
   "cell_type": "code",
   "execution_count": 48,
   "metadata": {
    "collapsed": false
   },
   "outputs": [
    {
     "name": "stdout",
     "output_type": "stream",
     "text": [
      "50 & 65 & 26 & 17 \\\\\n",
      "60 & 70 & 29 & 17 \\\\\n",
      "70 & 76 & 31 & 17 \\\\\n",
      "80 & 81 & 44 & nan \\\\\n",
      "90 & 88 & nan & nan \\\\\n"
     ]
    }
   ],
   "source": [
    "MakePercentageTable(sf_map_male)"
   ]
  },
  {
   "cell_type": "code",
   "execution_count": 49,
   "metadata": {
    "collapsed": false
   },
   "outputs": [
    {
     "name": "stdout",
     "output_type": "stream",
     "text": [
      "50 & 67 & 28 & 18 \\\\\n",
      "60 & 69 & 29 & 17 \\\\\n",
      "70 & 77 & 32 & 18 \\\\\n",
      "80 & 81 & 44 & 25 \\\\\n",
      "90 & 89 & 50 & 29 \\\\\n"
     ]
    }
   ],
   "source": [
    "MakePercentageTable(sf_map_male_pred)"
   ]
  },
  {
   "cell_type": "code",
   "execution_count": 50,
   "metadata": {
    "collapsed": false
   },
   "outputs": [
    {
     "name": "stdout",
     "output_type": "stream",
     "text": [
      "Writing marriage9.pdf\n",
      "Writing marriage9.png\n"
     ]
    },
    {
     "data": {
      "image/png": "[encoded data removed]",
      "text/plain": [
       "<matplotlib.figure.Figure at 0x7f606a2d8f50>"
      ]
     },
     "metadata": {},
     "output_type": "display_data"
    }
   ],
   "source": [
    "ages = [43, 33, 23]\n",
    "PlotFractions(sf_map_male_pred, ages=ages, color='gray', linestyle='dashed', linewidth=2)\n",
    "PlotFractions(sf_map_male, ages=ages, label_flag=True, alpha=1)\n",
    "\n",
    "fontsize=12\n",
    "thinkplot.Text(46, 0.66, '66', fontsize=fontsize)\n",
    "thinkplot.Text(46, 0.29, '27', fontsize=fontsize)\n",
    "thinkplot.Text(46, 0.19, '17', fontsize=fontsize)\n",
    "\n",
    "thinkplot.Text(90, 0.88, '88', fontsize=fontsize)\n",
    "thinkplot.Text(90, 0.50, '50', fontsize=fontsize)\n",
    "thinkplot.Text(90, 0.30, '30', fontsize=fontsize)\n",
    "\n",
    "thinkplot.Text(80, 0.44, '44', fontsize=fontsize)\n",
    "thinkplot.Text(70, 0.18, '18', fontsize=fontsize)\n",
    "\n",
    "thinkplot.Config(xlim=[34, 97], ylim=[0, 1], legend=True, loc='top left',\n",
    "                 xlabel='cohort (decade)', ylabel='Fraction unmarried', \n",
    "                 title='Men in the U.S.')\n",
    "\n",
    "thinkplot.Save(root='marriage9', **options)"
   ]
  },
  {
   "cell_type": "code",
   "execution_count": null,
   "metadata": {
    "collapsed": true
   },
   "outputs": [],
   "source": []
  }
 ],
 "metadata": {
  "kernelspec": {
   "display_name": "Python 2",
   "language": "python",
   "name": "python2"
  },
  "language_info": {
   "codemirror_mode": {
    "name": "ipython",
    "version": 2
   },
   "file_extension": ".py",
   "mimetype": "text/x-python",
   "name": "python",
   "nbconvert_exporter": "python",
   "pygments_lexer": "ipython2",
   "version": "2.7.11"
  }
 },
 "nbformat": 4,
 "nbformat_minor": 0
}
